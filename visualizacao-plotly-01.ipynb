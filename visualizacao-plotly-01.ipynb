{
 "cells": [
  {
   "cell_type": "markdown",
   "metadata": {
    "colab_type": "text",
    "id": "JJCLNXceiSr4"
   },
   "source": [
    "## Visualização de dados com Plot.ly##"
   ]
  },
  {
   "cell_type": "markdown",
   "metadata": {
    "colab_type": "text",
    "id": "bdRzTDt4iSr5"
   },
   "source": [
    "`Cufflinks conecta o pandas ao plot.ly`\n",
    "\n",
    "`Instalação do Plot.ly e Cufflinks`"
   ]
  },
  {
   "cell_type": "code",
   "execution_count": 1,
   "metadata": {
    "colab": {},
    "colab_type": "code",
    "id": "bgO2Lb3kiSr6",
    "outputId": "8e93fb8e-c4b7-42b8-d9a8-d7c88ea7edb0"
   },
   "outputs": [
    {
     "name": "stdout",
     "output_type": "stream",
     "text": [
      "Requirement already satisfied: cufflinks in c:\\users\\silviooliver\\anaconda3\\lib\\site-packages (0.17.3)\n",
      "Requirement already satisfied: ipython>=5.3.0 in c:\\users\\silviooliver\\anaconda3\\lib\\site-packages (from cufflinks) (7.16.1)\n",
      "Requirement already satisfied: numpy>=1.9.2 in c:\\users\\silviooliver\\anaconda3\\lib\\site-packages (from cufflinks) (1.18.5)\n",
      "Requirement already satisfied: ipywidgets>=7.0.0 in c:\\users\\silviooliver\\anaconda3\\lib\\site-packages (from cufflinks) (7.5.1)\n",
      "Requirement already satisfied: colorlover>=0.2.1 in c:\\users\\silviooliver\\anaconda3\\lib\\site-packages (from cufflinks) (0.3.0)\n",
      "Requirement already satisfied: pandas>=0.19.2 in c:\\users\\silviooliver\\anaconda3\\lib\\site-packages (from cufflinks) (1.0.5)\n",
      "Requirement already satisfied: plotly>=4.1.1 in c:\\users\\silviooliver\\anaconda3\\lib\\site-packages (from cufflinks) (4.9.0)\n",
      "Requirement already satisfied: setuptools>=34.4.1 in c:\\users\\silviooliver\\anaconda3\\lib\\site-packages (from cufflinks) (49.2.0.post20200714)\n",
      "Requirement already satisfied: six>=1.9.0 in c:\\users\\silviooliver\\anaconda3\\lib\\site-packages (from cufflinks) (1.15.0)\n",
      "Requirement already satisfied: prompt-toolkit!=3.0.0,!=3.0.1,<3.1.0,>=2.0.0 in c:\\users\\silviooliver\\anaconda3\\lib\\site-packages (from ipython>=5.3.0->cufflinks) (3.0.5)\n",
      "Requirement already satisfied: pygments in c:\\users\\silviooliver\\anaconda3\\lib\\site-packages (from ipython>=5.3.0->cufflinks) (2.6.1)\n",
      "Requirement already satisfied: jedi>=0.10 in c:\\users\\silviooliver\\anaconda3\\lib\\site-packages (from ipython>=5.3.0->cufflinks) (0.17.1)\n",
      "Requirement already satisfied: decorator in c:\\users\\silviooliver\\anaconda3\\lib\\site-packages (from ipython>=5.3.0->cufflinks) (4.4.2)\n",
      "Requirement already satisfied: pickleshare in c:\\users\\silviooliver\\anaconda3\\lib\\site-packages (from ipython>=5.3.0->cufflinks) (0.7.5)\n",
      "Requirement already satisfied: traitlets>=4.2 in c:\\users\\silviooliver\\anaconda3\\lib\\site-packages (from ipython>=5.3.0->cufflinks) (4.3.3)\n",
      "Requirement already satisfied: backcall in c:\\users\\silviooliver\\anaconda3\\lib\\site-packages (from ipython>=5.3.0->cufflinks) (0.2.0)\n",
      "Requirement already satisfied: colorama; sys_platform == \"win32\" in c:\\users\\silviooliver\\anaconda3\\lib\\site-packages (from ipython>=5.3.0->cufflinks) (0.4.3)\n",
      "Requirement already satisfied: widgetsnbextension~=3.5.0 in c:\\users\\silviooliver\\anaconda3\\lib\\site-packages (from ipywidgets>=7.0.0->cufflinks) (3.5.1)\n",
      "Requirement already satisfied: nbformat>=4.2.0 in c:\\users\\silviooliver\\anaconda3\\lib\\site-packages (from ipywidgets>=7.0.0->cufflinks) (5.0.7)\n",
      "Requirement already satisfied: ipykernel>=4.5.1 in c:\\users\\silviooliver\\anaconda3\\lib\\site-packages (from ipywidgets>=7.0.0->cufflinks) (5.3.2)\n",
      "Requirement already satisfied: python-dateutil>=2.6.1 in c:\\users\\silviooliver\\anaconda3\\lib\\site-packages (from pandas>=0.19.2->cufflinks) (2.8.1)\n",
      "Requirement already satisfied: pytz>=2017.2 in c:\\users\\silviooliver\\anaconda3\\lib\\site-packages (from pandas>=0.19.2->cufflinks) (2020.1)\n",
      "Requirement already satisfied: retrying>=1.3.3 in c:\\users\\silviooliver\\anaconda3\\lib\\site-packages (from plotly>=4.1.1->cufflinks) (1.3.3)\n",
      "Requirement already satisfied: wcwidth in c:\\users\\silviooliver\\anaconda3\\lib\\site-packages (from prompt-toolkit!=3.0.0,!=3.0.1,<3.1.0,>=2.0.0->ipython>=5.3.0->cufflinks) (0.2.5)\n",
      "Requirement already satisfied: parso<0.8.0,>=0.7.0 in c:\\users\\silviooliver\\anaconda3\\lib\\site-packages (from jedi>=0.10->ipython>=5.3.0->cufflinks) (0.7.0)\n",
      "Requirement already satisfied: ipython-genutils in c:\\users\\silviooliver\\anaconda3\\lib\\site-packages (from traitlets>=4.2->ipython>=5.3.0->cufflinks) (0.2.0)\n",
      "Requirement already satisfied: notebook>=4.4.1 in c:\\users\\silviooliver\\anaconda3\\lib\\site-packages (from widgetsnbextension~=3.5.0->ipywidgets>=7.0.0->cufflinks) (6.0.3)\n",
      "Requirement already satisfied: jsonschema!=2.5.0,>=2.4 in c:\\users\\silviooliver\\anaconda3\\lib\\site-packages (from nbformat>=4.2.0->ipywidgets>=7.0.0->cufflinks) (3.2.0)\n",
      "Requirement already satisfied: jupyter-core in c:\\users\\silviooliver\\anaconda3\\lib\\site-packages (from nbformat>=4.2.0->ipywidgets>=7.0.0->cufflinks) (4.6.3)\n",
      "Requirement already satisfied: tornado>=4.2 in c:\\users\\silviooliver\\anaconda3\\lib\\site-packages (from ipykernel>=4.5.1->ipywidgets>=7.0.0->cufflinks) (6.0.4)\n",
      "Requirement already satisfied: jupyter-client in c:\\users\\silviooliver\\anaconda3\\lib\\site-packages (from ipykernel>=4.5.1->ipywidgets>=7.0.0->cufflinks) (6.1.6)\n",
      "Requirement already satisfied: jinja2 in c:\\users\\silviooliver\\anaconda3\\lib\\site-packages (from notebook>=4.4.1->widgetsnbextension~=3.5.0->ipywidgets>=7.0.0->cufflinks) (2.11.2)\n",
      "Requirement already satisfied: terminado>=0.8.1 in c:\\users\\silviooliver\\anaconda3\\lib\\site-packages (from notebook>=4.4.1->widgetsnbextension~=3.5.0->ipywidgets>=7.0.0->cufflinks) (0.8.3)\n",
      "Requirement already satisfied: nbconvert in c:\\users\\silviooliver\\anaconda3\\lib\\site-packages (from notebook>=4.4.1->widgetsnbextension~=3.5.0->ipywidgets>=7.0.0->cufflinks) (5.6.1)\n",
      "Requirement already satisfied: pyzmq>=17 in c:\\users\\silviooliver\\anaconda3\\lib\\site-packages (from notebook>=4.4.1->widgetsnbextension~=3.5.0->ipywidgets>=7.0.0->cufflinks) (19.0.1)\n",
      "Requirement already satisfied: prometheus-client in c:\\users\\silviooliver\\anaconda3\\lib\\site-packages (from notebook>=4.4.1->widgetsnbextension~=3.5.0->ipywidgets>=7.0.0->cufflinks) (0.8.0)\n",
      "Requirement already satisfied: Send2Trash in c:\\users\\silviooliver\\anaconda3\\lib\\site-packages (from notebook>=4.4.1->widgetsnbextension~=3.5.0->ipywidgets>=7.0.0->cufflinks) (1.5.0)\n",
      "Requirement already satisfied: pyrsistent>=0.14.0 in c:\\users\\silviooliver\\anaconda3\\lib\\site-packages (from jsonschema!=2.5.0,>=2.4->nbformat>=4.2.0->ipywidgets>=7.0.0->cufflinks) (0.16.0)\n",
      "Requirement already satisfied: attrs>=17.4.0 in c:\\users\\silviooliver\\anaconda3\\lib\\site-packages (from jsonschema!=2.5.0,>=2.4->nbformat>=4.2.0->ipywidgets>=7.0.0->cufflinks) (19.3.0)\n",
      "Requirement already satisfied: pywin32>=1.0; sys_platform == \"win32\" in c:\\users\\silviooliver\\anaconda3\\lib\\site-packages (from jupyter-core->nbformat>=4.2.0->ipywidgets>=7.0.0->cufflinks) (227)\n",
      "Requirement already satisfied: MarkupSafe>=0.23 in c:\\users\\silviooliver\\anaconda3\\lib\\site-packages (from jinja2->notebook>=4.4.1->widgetsnbextension~=3.5.0->ipywidgets>=7.0.0->cufflinks) (1.1.1)\n",
      "Requirement already satisfied: mistune<2,>=0.8.1 in c:\\users\\silviooliver\\anaconda3\\lib\\site-packages (from nbconvert->notebook>=4.4.1->widgetsnbextension~=3.5.0->ipywidgets>=7.0.0->cufflinks) (0.8.4)\n",
      "Requirement already satisfied: bleach in c:\\users\\silviooliver\\anaconda3\\lib\\site-packages (from nbconvert->notebook>=4.4.1->widgetsnbextension~=3.5.0->ipywidgets>=7.0.0->cufflinks) (3.1.5)\n",
      "Requirement already satisfied: entrypoints>=0.2.2 in c:\\users\\silviooliver\\anaconda3\\lib\\site-packages (from nbconvert->notebook>=4.4.1->widgetsnbextension~=3.5.0->ipywidgets>=7.0.0->cufflinks) (0.3)\n",
      "Requirement already satisfied: testpath in c:\\users\\silviooliver\\anaconda3\\lib\\site-packages (from nbconvert->notebook>=4.4.1->widgetsnbextension~=3.5.0->ipywidgets>=7.0.0->cufflinks) (0.4.4)\n",
      "Requirement already satisfied: pandocfilters>=1.4.1 in c:\\users\\silviooliver\\anaconda3\\lib\\site-packages (from nbconvert->notebook>=4.4.1->widgetsnbextension~=3.5.0->ipywidgets>=7.0.0->cufflinks) (1.4.2)\n",
      "Requirement already satisfied: defusedxml in c:\\users\\silviooliver\\anaconda3\\lib\\site-packages (from nbconvert->notebook>=4.4.1->widgetsnbextension~=3.5.0->ipywidgets>=7.0.0->cufflinks) (0.6.0)\n",
      "Requirement already satisfied: webencodings in c:\\users\\silviooliver\\anaconda3\\lib\\site-packages (from bleach->nbconvert->notebook>=4.4.1->widgetsnbextension~=3.5.0->ipywidgets>=7.0.0->cufflinks) (0.5.1)\n",
      "Requirement already satisfied: packaging in c:\\users\\silviooliver\\anaconda3\\lib\\site-packages (from bleach->nbconvert->notebook>=4.4.1->widgetsnbextension~=3.5.0->ipywidgets>=7.0.0->cufflinks) (20.4)\n",
      "Requirement already satisfied: pyparsing>=2.0.2 in c:\\users\\silviooliver\\anaconda3\\lib\\site-packages (from packaging->bleach->nbconvert->notebook>=4.4.1->widgetsnbextension~=3.5.0->ipywidgets>=7.0.0->cufflinks) (2.4.7)\n",
      "Requirement already satisfied: plotly in c:\\users\\silviooliver\\anaconda3\\lib\\site-packages (4.9.0)\n",
      "Requirement already satisfied: six in c:\\users\\silviooliver\\anaconda3\\lib\\site-packages (from plotly) (1.15.0)\n",
      "Requirement already satisfied: retrying>=1.3.3 in c:\\users\\silviooliver\\anaconda3\\lib\\site-packages (from plotly) (1.3.3)\n"
     ]
    }
   ],
   "source": [
    "!pip install cufflinks\n",
    "!pip install plotly"
   ]
  },
  {
   "cell_type": "markdown",
   "metadata": {
    "colab_type": "text",
    "id": "ioHirTf4iSsA"
   },
   "source": [
    "`Importando o cufflinks e o plot.ly`"
   ]
  },
  {
   "cell_type": "code",
   "execution_count": 2,
   "metadata": {
    "colab": {},
    "colab_type": "code",
    "id": "zz9RDGmHiSsB"
   },
   "outputs": [],
   "source": [
    "import cufflinks as cf\n",
    "from plotly.offline import plot, iplot\n",
    "import pandas as pd\n",
    "import numpy as np"
   ]
  },
  {
   "cell_type": "markdown",
   "metadata": {
    "colab_type": "text",
    "id": "Qp92bfOBiSsD"
   },
   "source": [
    "**Cria um dataframe com dados aleatorios divididos em 4 colunas**"
   ]
  },
  {
   "cell_type": "code",
   "execution_count": 3,
   "metadata": {
    "colab": {},
    "colab_type": "code",
    "id": "A1TosBXSiSsE"
   },
   "outputs": [],
   "source": [
    "df = pd.DataFrame(np.random.randn(100,4), columns=['A','B','C','D'])"
   ]
  },
  {
   "cell_type": "code",
   "execution_count": 4,
   "metadata": {
    "colab": {
     "base_uri": "https://localhost:8080/",
     "height": 204
    },
    "colab_type": "code",
    "executionInfo": {
     "elapsed": 802,
     "status": "ok",
     "timestamp": 1557594629533,
     "user": {
      "displayName": "Rodrigo Santana Ferreira",
      "photoUrl": "https://lh5.googleusercontent.com/-w5AmPcUma78/AAAAAAAAAAI/AAAAAAAAAPw/2VfgXe2k7sI/s64/photo.jpg",
      "userId": "14710330936720624047"
     },
     "user_tz": 180
    },
    "id": "vlRlJY5SiSsH",
    "outputId": "9eeeedb0-14d6-4018-d7d6-e7566b9c1350"
   },
   "outputs": [
    {
     "data": {
      "text/html": [
       "<div>\n",
       "<style scoped>\n",
       "    .dataframe tbody tr th:only-of-type {\n",
       "        vertical-align: middle;\n",
       "    }\n",
       "\n",
       "    .dataframe tbody tr th {\n",
       "        vertical-align: top;\n",
       "    }\n",
       "\n",
       "    .dataframe thead th {\n",
       "        text-align: right;\n",
       "    }\n",
       "</style>\n",
       "<table border=\"1\" class=\"dataframe\">\n",
       "  <thead>\n",
       "    <tr style=\"text-align: right;\">\n",
       "      <th></th>\n",
       "      <th>A</th>\n",
       "      <th>B</th>\n",
       "      <th>C</th>\n",
       "      <th>D</th>\n",
       "    </tr>\n",
       "  </thead>\n",
       "  <tbody>\n",
       "    <tr>\n",
       "      <th>0</th>\n",
       "      <td>-0.758363</td>\n",
       "      <td>0.905112</td>\n",
       "      <td>-0.444679</td>\n",
       "      <td>-0.142432</td>\n",
       "    </tr>\n",
       "    <tr>\n",
       "      <th>1</th>\n",
       "      <td>-1.360814</td>\n",
       "      <td>1.131573</td>\n",
       "      <td>0.093350</td>\n",
       "      <td>-1.072991</td>\n",
       "    </tr>\n",
       "    <tr>\n",
       "      <th>2</th>\n",
       "      <td>-0.447969</td>\n",
       "      <td>0.488954</td>\n",
       "      <td>0.935509</td>\n",
       "      <td>0.447333</td>\n",
       "    </tr>\n",
       "    <tr>\n",
       "      <th>3</th>\n",
       "      <td>0.257742</td>\n",
       "      <td>-0.411827</td>\n",
       "      <td>-1.106442</td>\n",
       "      <td>-1.189715</td>\n",
       "    </tr>\n",
       "    <tr>\n",
       "      <th>4</th>\n",
       "      <td>-1.637580</td>\n",
       "      <td>1.743758</td>\n",
       "      <td>0.787098</td>\n",
       "      <td>1.092742</td>\n",
       "    </tr>\n",
       "  </tbody>\n",
       "</table>\n",
       "</div>"
      ],
      "text/plain": [
       "          A         B         C         D\n",
       "0 -0.758363  0.905112 -0.444679 -0.142432\n",
       "1 -1.360814  1.131573  0.093350 -1.072991\n",
       "2 -0.447969  0.488954  0.935509  0.447333\n",
       "3  0.257742 -0.411827 -1.106442 -1.189715\n",
       "4 -1.637580  1.743758  0.787098  1.092742"
      ]
     },
     "execution_count": 4,
     "metadata": {},
     "output_type": "execute_result"
    }
   ],
   "source": [
    "df.head()"
   ]
  },
  {
   "cell_type": "markdown",
   "metadata": {
    "colab_type": "text",
    "id": "sh9Y16pMiSsL"
   },
   "source": [
    "**Ao tentar usar o Cufflinks veja o resultado**"
   ]
  },
  {
   "cell_type": "code",
   "execution_count": 5,
   "metadata": {
    "colab": {},
    "colab_type": "code",
    "id": "3YnPkTQ1iSsL",
    "outputId": "7e45c77b-84ad-4bc6-e551-1a47bd8faabc"
   },
   "outputs": [
    {
     "ename": "Exception",
     "evalue": "chart_studio is required outside of offline mode: please run pip install chart_studio",
     "output_type": "error",
     "traceback": [
      "\u001b[1;31m---------------------------------------------------------------------------\u001b[0m",
      "\u001b[1;31mModuleNotFoundError\u001b[0m                       Traceback (most recent call last)",
      "\u001b[1;32m~\\anaconda3\\lib\\site-packages\\cufflinks\\plotlytools.py\u001b[0m in \u001b[0;36miplot\u001b[1;34m(figure, validate, sharing, filename, online, asImage, asUrl, asPlot, dimensions, display_image, **kwargs)\u001b[0m\n\u001b[0;32m   1430\u001b[0m                 \u001b[1;32mtry\u001b[0m\u001b[1;33m:\u001b[0m\u001b[1;33m\u001b[0m\u001b[1;33m\u001b[0m\u001b[0m\n\u001b[1;32m-> 1431\u001b[1;33m                         \u001b[1;32mimport\u001b[0m \u001b[0mchart_studio\u001b[0m\u001b[1;33m.\u001b[0m\u001b[0mplotly\u001b[0m \u001b[1;32mas\u001b[0m \u001b[0mpy\u001b[0m\u001b[1;33m\u001b[0m\u001b[1;33m\u001b[0m\u001b[0m\n\u001b[0m\u001b[0;32m   1432\u001b[0m                 \u001b[1;32mexcept\u001b[0m\u001b[1;33m:\u001b[0m\u001b[1;33m\u001b[0m\u001b[1;33m\u001b[0m\u001b[0m\n",
      "\u001b[1;31mModuleNotFoundError\u001b[0m: No module named 'chart_studio'",
      "\nDuring handling of the above exception, another exception occurred:\n",
      "\u001b[1;31mException\u001b[0m                                 Traceback (most recent call last)",
      "\u001b[1;32m<ipython-input-5-69813823c9f3>\u001b[0m in \u001b[0;36m<module>\u001b[1;34m\u001b[0m\n\u001b[1;32m----> 1\u001b[1;33m \u001b[0mdf\u001b[0m\u001b[1;33m.\u001b[0m\u001b[0miplot\u001b[0m\u001b[1;33m(\u001b[0m\u001b[1;33m)\u001b[0m\u001b[1;33m\u001b[0m\u001b[1;33m\u001b[0m\u001b[0m\n\u001b[0m",
      "\u001b[1;32m~\\anaconda3\\lib\\site-packages\\cufflinks\\plotlytools.py\u001b[0m in \u001b[0;36m_iplot\u001b[1;34m(self, kind, data, layout, filename, sharing, title, xTitle, yTitle, zTitle, theme, colors, colorscale, fill, width, dash, mode, interpolation, symbol, size, barmode, sortbars, bargap, bargroupgap, bins, histnorm, histfunc, orientation, boxpoints, annotations, keys, bestfit, bestfit_colors, mean, mean_colors, categories, x, y, z, text, gridcolor, zerolinecolor, margin, labels, values, secondary_y, secondary_y_title, subplots, shape, error_x, error_y, error_type, locations, lon, lat, asFrame, asDates, asFigure, asImage, dimensions, asPlot, asUrl, online, **kwargs)\u001b[0m\n\u001b[0;32m   1214\u001b[0m                 \u001b[1;32mreturn\u001b[0m \u001b[0mFigure\u001b[0m\u001b[1;33m(\u001b[0m\u001b[0mfigure\u001b[0m\u001b[1;33m)\u001b[0m\u001b[1;33m\u001b[0m\u001b[1;33m\u001b[0m\u001b[0m\n\u001b[0;32m   1215\u001b[0m         \u001b[1;32melse\u001b[0m\u001b[1;33m:\u001b[0m\u001b[1;33m\u001b[0m\u001b[1;33m\u001b[0m\u001b[0m\n\u001b[1;32m-> 1216\u001b[1;33m \t\treturn iplot(figure,validate=validate,sharing=sharing,filename=filename,\n\u001b[0m\u001b[0;32m   1217\u001b[0m                          \u001b[0monline\u001b[0m\u001b[1;33m=\u001b[0m\u001b[0monline\u001b[0m\u001b[1;33m,\u001b[0m\u001b[0masImage\u001b[0m\u001b[1;33m=\u001b[0m\u001b[0masImage\u001b[0m\u001b[1;33m,\u001b[0m\u001b[0masUrl\u001b[0m\u001b[1;33m=\u001b[0m\u001b[0masUrl\u001b[0m\u001b[1;33m,\u001b[0m\u001b[0masPlot\u001b[0m\u001b[1;33m=\u001b[0m\u001b[0masPlot\u001b[0m\u001b[1;33m,\u001b[0m\u001b[1;33m\u001b[0m\u001b[1;33m\u001b[0m\u001b[0m\n\u001b[0;32m   1218\u001b[0m \t\t\t dimensions=dimensions,display_image=kwargs.get('display_image',True))\n",
      "\u001b[1;32m~\\anaconda3\\lib\\site-packages\\cufflinks\\plotlytools.py\u001b[0m in \u001b[0;36miplot\u001b[1;34m(figure, validate, sharing, filename, online, asImage, asUrl, asPlot, dimensions, display_image, **kwargs)\u001b[0m\n\u001b[0;32m   1431\u001b[0m                         \u001b[1;32mimport\u001b[0m \u001b[0mchart_studio\u001b[0m\u001b[1;33m.\u001b[0m\u001b[0mplotly\u001b[0m \u001b[1;32mas\u001b[0m \u001b[0mpy\u001b[0m\u001b[1;33m\u001b[0m\u001b[1;33m\u001b[0m\u001b[0m\n\u001b[0;32m   1432\u001b[0m                 \u001b[1;32mexcept\u001b[0m\u001b[1;33m:\u001b[0m\u001b[1;33m\u001b[0m\u001b[1;33m\u001b[0m\u001b[0m\n\u001b[1;32m-> 1433\u001b[1;33m \t\t\traise Exception(\"chart_studio is required outside of offline mode: \" \\\n\u001b[0m\u001b[0;32m   1434\u001b[0m                                         \u001b[1;34m\"please run \"\u001b[0m\u001b[0;31m \u001b[0m\u001b[0;31m\\\u001b[0m\u001b[1;33m\u001b[0m\u001b[1;33m\u001b[0m\u001b[0m\n\u001b[0;32m   1435\u001b[0m \t\t\t\t\t\"pip install chart_studio\" )\n",
      "\u001b[1;31mException\u001b[0m: chart_studio is required outside of offline mode: please run pip install chart_studio"
     ]
    }
   ],
   "source": [
    "df.iplot()"
   ]
  },
  {
   "cell_type": "markdown",
   "metadata": {
    "colab_type": "text",
    "id": "JvLzUfwUiSsP"
   },
   "source": [
    "**É preciso habilitar o modo offline primeiramente**"
   ]
  },
  {
   "cell_type": "code",
   "execution_count": 6,
   "metadata": {
    "colab": {
     "base_uri": "https://localhost:8080/",
     "height": 17,
     "output_embedded_package_id": "1zP7gGc6oTRk1XgqZdqIEM14fo8YBkVPP"
    },
    "colab_type": "code",
    "executionInfo": {
     "elapsed": 3808,
     "status": "ok",
     "timestamp": 1557594642617,
     "user": {
      "displayName": "Rodrigo Santana Ferreira",
      "photoUrl": "https://lh5.googleusercontent.com/-w5AmPcUma78/AAAAAAAAAAI/AAAAAAAAAPw/2VfgXe2k7sI/s64/photo.jpg",
      "userId": "14710330936720624047"
     },
     "user_tz": 180
    },
    "id": "p7xGZec8iSsQ",
    "outputId": "792e012a-8747-404c-db17-50540ac66d7a"
   },
   "outputs": [
    {
     "data": {
      "text/html": [
       "        <script type=\"text/javascript\">\n",
       "        window.PlotlyConfig = {MathJaxConfig: 'local'};\n",
       "        if (window.MathJax) {MathJax.Hub.Config({SVG: {font: \"STIX-Web\"}});}\n",
       "        if (typeof require !== 'undefined') {\n",
       "        require.undef(\"plotly\");\n",
       "        requirejs.config({\n",
       "            paths: {\n",
       "                'plotly': ['https://cdn.plot.ly/plotly-latest.min']\n",
       "            }\n",
       "        });\n",
       "        require(['plotly'], function(Plotly) {\n",
       "            window._Plotly = Plotly;\n",
       "        });\n",
       "        }\n",
       "        </script>\n",
       "        "
      ]
     },
     "metadata": {},
     "output_type": "display_data"
    }
   ],
   "source": [
    "cf.go_offline()"
   ]
  },
  {
   "cell_type": "markdown",
   "metadata": {
    "colab_type": "text",
    "id": "-TbwRyqqiSsT"
   },
   "source": [
    "**Executando o iplot() novamente**"
   ]
  },
  {
   "cell_type": "markdown",
   "metadata": {
    "colab_type": "text",
    "id": "m1rebPvwiSsT"
   },
   "source": [
    "`Clique no link \"Export to plot.ly\"`"
   ]
  },
  {
   "cell_type": "code",
   "execution_count": 7,
   "metadata": {},
   "outputs": [
    {
     "data": {
      "text/html": [
       "<div>\n",
       "<style scoped>\n",
       "    .dataframe tbody tr th:only-of-type {\n",
       "        vertical-align: middle;\n",
       "    }\n",
       "\n",
       "    .dataframe tbody tr th {\n",
       "        vertical-align: top;\n",
       "    }\n",
       "\n",
       "    .dataframe thead th {\n",
       "        text-align: right;\n",
       "    }\n",
       "</style>\n",
       "<table border=\"1\" class=\"dataframe\">\n",
       "  <thead>\n",
       "    <tr style=\"text-align: right;\">\n",
       "      <th></th>\n",
       "      <th>A</th>\n",
       "      <th>B</th>\n",
       "      <th>C</th>\n",
       "      <th>D</th>\n",
       "    </tr>\n",
       "  </thead>\n",
       "  <tbody>\n",
       "    <tr>\n",
       "      <th>0</th>\n",
       "      <td>-0.758363</td>\n",
       "      <td>0.905112</td>\n",
       "      <td>-0.444679</td>\n",
       "      <td>-0.142432</td>\n",
       "    </tr>\n",
       "    <tr>\n",
       "      <th>1</th>\n",
       "      <td>-1.360814</td>\n",
       "      <td>1.131573</td>\n",
       "      <td>0.093350</td>\n",
       "      <td>-1.072991</td>\n",
       "    </tr>\n",
       "    <tr>\n",
       "      <th>2</th>\n",
       "      <td>-0.447969</td>\n",
       "      <td>0.488954</td>\n",
       "      <td>0.935509</td>\n",
       "      <td>0.447333</td>\n",
       "    </tr>\n",
       "    <tr>\n",
       "      <th>3</th>\n",
       "      <td>0.257742</td>\n",
       "      <td>-0.411827</td>\n",
       "      <td>-1.106442</td>\n",
       "      <td>-1.189715</td>\n",
       "    </tr>\n",
       "    <tr>\n",
       "      <th>4</th>\n",
       "      <td>-1.637580</td>\n",
       "      <td>1.743758</td>\n",
       "      <td>0.787098</td>\n",
       "      <td>1.092742</td>\n",
       "    </tr>\n",
       "  </tbody>\n",
       "</table>\n",
       "</div>"
      ],
      "text/plain": [
       "          A         B         C         D\n",
       "0 -0.758363  0.905112 -0.444679 -0.142432\n",
       "1 -1.360814  1.131573  0.093350 -1.072991\n",
       "2 -0.447969  0.488954  0.935509  0.447333\n",
       "3  0.257742 -0.411827 -1.106442 -1.189715\n",
       "4 -1.637580  1.743758  0.787098  1.092742"
      ]
     },
     "execution_count": 7,
     "metadata": {},
     "output_type": "execute_result"
    }
   ],
   "source": [
    "df.head()"
   ]
  },
  {
   "cell_type": "code",
   "execution_count": 8,
   "metadata": {
    "colab": {
     "base_uri": "https://localhost:8080/",
     "height": 542
    },
    "colab_type": "code",
    "executionInfo": {
     "elapsed": 2417,
     "status": "ok",
     "timestamp": 1557594649000,
     "user": {
      "displayName": "Rodrigo Santana Ferreira",
      "photoUrl": "https://lh5.googleusercontent.com/-w5AmPcUma78/AAAAAAAAAAI/AAAAAAAAAPw/2VfgXe2k7sI/s64/photo.jpg",
      "userId": "14710330936720624047"
     },
     "user_tz": 180
    },
    "id": "64kvagOOiSsU",
    "outputId": "21960021-860f-412d-d99a-6d5637e626f9"
   },
   "outputs": [
    {
     "data": {
      "application/vnd.plotly.v1+json": {
       "config": {
        "linkText": "Export to plot.ly",
        "plotlyServerURL": "https://plot.ly",
        "showLink": true
       },
       "data": [
        {
         "line": {
          "color": "rgba(255, 153, 51, 1.0)",
          "dash": "solid",
          "shape": "linear",
          "width": 1.3
         },
         "mode": "lines",
         "name": "A",
         "text": "",
         "type": "scatter",
         "x": [
          0,
          1,
          2,
          3,
          4,
          5,
          6,
          7,
          8,
          9,
          10,
          11,
          12,
          13,
          14,
          15,
          16,
          17,
          18,
          19,
          20,
          21,
          22,
          23,
          24,
          25,
          26,
          27,
          28,
          29,
          30,
          31,
          32,
          33,
          34,
          35,
          36,
          37,
          38,
          39,
          40,
          41,
          42,
          43,
          44,
          45,
          46,
          47,
          48,
          49,
          50,
          51,
          52,
          53,
          54,
          55,
          56,
          57,
          58,
          59,
          60,
          61,
          62,
          63,
          64,
          65,
          66,
          67,
          68,
          69,
          70,
          71,
          72,
          73,
          74,
          75,
          76,
          77,
          78,
          79,
          80,
          81,
          82,
          83,
          84,
          85,
          86,
          87,
          88,
          89,
          90,
          91,
          92,
          93,
          94,
          95,
          96,
          97,
          98,
          99
         ],
         "y": [
          -0.7583625624564826,
          -1.3608135229511027,
          -0.4479688305343663,
          0.25774244428547427,
          -1.6375797293120589,
          -1.0464472057363499,
          1.407325001211225,
          0.276515190255223,
          -0.07316231716756455,
          2.379354983246018,
          1.4416105167771618,
          -2.000675616366275,
          0.599410615388733,
          -1.178157640116541,
          0.8361646635083623,
          1.4209061515389503,
          -1.3772200926778893,
          -1.5330137697628772,
          0.8434488796566412,
          -0.44264142554813973,
          0.7729395311461773,
          -1.186536053062794,
          1.0672315844310665,
          -0.1786475895640133,
          -1.6899719904233519,
          0.8146648919282323,
          -2.541055625678114,
          0.8784841697785496,
          0.32813550809478664,
          1.3136723060501312,
          0.5798422821158166,
          -0.15028112198881133,
          -0.39350857873322376,
          1.8687332552959848,
          1.4996776154237408,
          -2.5978587935254813,
          -0.08418728423004833,
          -1.7130754548765064,
          -0.34219415505953205,
          1.2976144427300302,
          0.7997008822259573,
          -1.9145673952331954,
          0.32403830118956695,
          0.9669468742916221,
          -0.3954521090418044,
          -0.5156640132664189,
          0.6325874104204111,
          -0.7730210344534597,
          -1.0278926686068846,
          -0.8064923341963592,
          -0.5283860770954497,
          0.05805052625083211,
          -0.5341935453073812,
          -0.6306038151611613,
          0.19618964614138615,
          -0.567501753503357,
          1.3116043337251144,
          1.0625570541938478,
          0.1630190918246739,
          -0.17520577021292585,
          -0.7448259321076729,
          -0.06589108782314983,
          1.2263868994742944,
          0.9973104846473738,
          -0.8586695931733282,
          0.4007921932156928,
          0.6476480167091756,
          0.5806680435925301,
          0.41667800079466144,
          0.18080111431959658,
          -0.6549009506176735,
          -1.5624811820852393,
          -1.9034379481414605,
          1.2036040733411644,
          1.5416853504730623,
          0.644723358337419,
          0.5148614190703861,
          -1.9213061654349335,
          0.35505322896128755,
          0.8491838985035705,
          -1.0502790566937863,
          0.013051058769516184,
          1.6146659697158963,
          -1.0749070393039928,
          -0.6616722006760997,
          -0.3743145259476359,
          -2.4924831145939095,
          -0.16545246379299003,
          2.1703012992627992,
          -1.2602863121320913,
          -0.7676530026819841,
          0.0843467501757799,
          -0.2807271956647446,
          0.4241491799250738,
          1.2569983568147862,
          0.33073957061440273,
          -0.21585240846311052,
          1.4033361423654584,
          0.12416679561973377,
          0.45414894890427215
         ]
        },
        {
         "line": {
          "color": "rgba(55, 128, 191, 1.0)",
          "dash": "solid",
          "shape": "linear",
          "width": 1.3
         },
         "mode": "lines",
         "name": "B",
         "text": "",
         "type": "scatter",
         "x": [
          0,
          1,
          2,
          3,
          4,
          5,
          6,
          7,
          8,
          9,
          10,
          11,
          12,
          13,
          14,
          15,
          16,
          17,
          18,
          19,
          20,
          21,
          22,
          23,
          24,
          25,
          26,
          27,
          28,
          29,
          30,
          31,
          32,
          33,
          34,
          35,
          36,
          37,
          38,
          39,
          40,
          41,
          42,
          43,
          44,
          45,
          46,
          47,
          48,
          49,
          50,
          51,
          52,
          53,
          54,
          55,
          56,
          57,
          58,
          59,
          60,
          61,
          62,
          63,
          64,
          65,
          66,
          67,
          68,
          69,
          70,
          71,
          72,
          73,
          74,
          75,
          76,
          77,
          78,
          79,
          80,
          81,
          82,
          83,
          84,
          85,
          86,
          87,
          88,
          89,
          90,
          91,
          92,
          93,
          94,
          95,
          96,
          97,
          98,
          99
         ],
         "y": [
          0.9051120349846424,
          1.1315731612883049,
          0.4889535391167449,
          -0.411827350510033,
          1.7437582525448498,
          0.8754875880381073,
          -1.612719409098891,
          1.2673782176917372,
          0.34610407515785685,
          -0.8734634626765565,
          0.5080615811518349,
          0.3786949114985083,
          0.8549394182735643,
          -1.1727436261908517,
          0.278079586528356,
          -2.086519140021561,
          0.9558921986334105,
          -2.1412044407561335,
          1.5908599450759613,
          -0.38037367059143695,
          -0.33823974441909016,
          0.5148757793898513,
          0.06431934032079333,
          -0.6192210839283654,
          0.6364993369072576,
          0.5238573577202742,
          2.5123333500021423,
          -0.7385360908208347,
          1.5357500979181817,
          1.5724495278522659,
          0.6633106187533743,
          0.1913510422791749,
          -0.9852937680279761,
          0.4866604508534319,
          -1.5691043539958625,
          -0.5457214474250892,
          -2.650467246676767,
          -0.4096399990779472,
          -0.44165613080647653,
          -1.6114045136155386,
          0.3372243946613703,
          0.09216459763101896,
          0.4408702411197516,
          1.026794643555709,
          -0.787067876624869,
          0.274085340958029,
          0.6432038230781414,
          0.11625200510070811,
          -0.11400215542141642,
          1.1678648365076898,
          0.6381872954128966,
          -0.10906986258298167,
          0.40314926362595793,
          -1.4061921229295076,
          -0.8949388605476665,
          -0.6797123989402232,
          0.681267680316777,
          -1.5973585952033058,
          0.9990493726980721,
          -0.9268111651857517,
          -0.7197683145996996,
          0.18706094517469868,
          -1.1137685782674145,
          -0.8981843019223013,
          -0.008022352656607114,
          -0.46902423130002263,
          -1.0663496382780207,
          1.2930554005359125,
          -0.12481695277229017,
          0.8763289665253956,
          -0.15234775564968409,
          0.7815603667800463,
          -0.3711497040527381,
          -0.735133518142438,
          1.0719608777778922,
          -1.8110615652327744,
          -0.21451545478894662,
          -1.0000693418566864,
          -1.2492276001592144,
          -0.46780364099239063,
          0.1472438174569735,
          0.26416988245785844,
          0.6659503106264842,
          1.4700345976857954,
          1.077675298771589,
          1.1078248664225065,
          -0.7199081897875417,
          0.6037307814365238,
          -1.2541232782328138,
          -0.4445705528975758,
          -0.5995953052364829,
          0.8703773020736415,
          1.240967816138145,
          -0.23458836833371494,
          1.3626315874217745,
          -0.34003054967360213,
          0.28031746369473,
          -0.6342169480234975,
          0.6748537839853154,
          -1.3964778756962182
         ]
        },
        {
         "line": {
          "color": "rgba(50, 171, 96, 1.0)",
          "dash": "solid",
          "shape": "linear",
          "width": 1.3
         },
         "mode": "lines",
         "name": "C",
         "text": "",
         "type": "scatter",
         "x": [
          0,
          1,
          2,
          3,
          4,
          5,
          6,
          7,
          8,
          9,
          10,
          11,
          12,
          13,
          14,
          15,
          16,
          17,
          18,
          19,
          20,
          21,
          22,
          23,
          24,
          25,
          26,
          27,
          28,
          29,
          30,
          31,
          32,
          33,
          34,
          35,
          36,
          37,
          38,
          39,
          40,
          41,
          42,
          43,
          44,
          45,
          46,
          47,
          48,
          49,
          50,
          51,
          52,
          53,
          54,
          55,
          56,
          57,
          58,
          59,
          60,
          61,
          62,
          63,
          64,
          65,
          66,
          67,
          68,
          69,
          70,
          71,
          72,
          73,
          74,
          75,
          76,
          77,
          78,
          79,
          80,
          81,
          82,
          83,
          84,
          85,
          86,
          87,
          88,
          89,
          90,
          91,
          92,
          93,
          94,
          95,
          96,
          97,
          98,
          99
         ],
         "y": [
          -0.444678500480317,
          0.0933498848400473,
          0.9355087974997555,
          -1.106441630487202,
          0.7870975629687152,
          0.21808060888783593,
          0.19245161375740785,
          0.058978349501044657,
          -0.8714541206370889,
          1.6723359190038503,
          -0.9521959925693669,
          0.25982368775406417,
          0.4329967486845554,
          0.9585187647681762,
          -1.79933573560346,
          2.2571466440543344,
          0.27242090370105326,
          -3.041426982646799,
          -0.7379674589948564,
          0.21321722437944604,
          0.3744406483158536,
          1.8794147199102167,
          0.5865594775587016,
          -0.3723330026710341,
          -0.21256708491681514,
          1.2175066431034185,
          0.9503232313646496,
          1.7526010217049393,
          -0.6255769714716065,
          -0.8150989477464166,
          0.1900069841307442,
          -0.6573140026719146,
          1.3123490852146837,
          -0.20521456260004223,
          -0.8280753332366754,
          -2.1789891770225105,
          -1.7227530897526353,
          1.2860266607255277,
          0.417423466170257,
          -1.408581550401666,
          -1.0147418694696868,
          1.0617865770644983,
          -2.1357693694007693,
          0.6316085302784928,
          1.0548351609959814,
          -1.821383374322361,
          1.1794682397233458,
          0.7800559142128144,
          1.5175952940754551,
          -0.20063016325093158,
          1.469109182383053,
          0.33064590666961946,
          -1.5329746111023028,
          1.4876464359770907,
          0.7368765553019965,
          0.2556196982451411,
          1.496074295060987,
          -0.25594776352614945,
          -1.0302066787914688,
          0.3771702792035409,
          1.5954550568745687,
          -1.8239541572520326,
          -0.6292071703871251,
          0.8569283151606543,
          0.19021096842866161,
          0.6607647699069801,
          -0.0016000980015075767,
          -0.6033609765671395,
          0.6926557249524916,
          0.13880646341418457,
          -1.3362928951925246,
          0.5040296861060063,
          2.5601117800980524,
          -0.983051918444861,
          -0.7450095718104365,
          -0.8245934015034929,
          -1.1246483229871902,
          -0.6547441335375387,
          -0.8088996560125555,
          -0.0966860051066942,
          -1.4863921450232944,
          0.18967390658638197,
          0.15908685829749233,
          -0.2691504733360306,
          -0.18560225336486053,
          0.1001975328112677,
          -0.4706507089738137,
          0.2368759547272725,
          0.6644170545061568,
          -0.11309520573149913,
          1.1829406966617049,
          -1.0833015314373051,
          -0.15088069839314402,
          -0.2652424034024619,
          0.8990779222502281,
          -0.030734197118241203,
          -0.46028230155709343,
          2.0393872169244824,
          0.3883702636590222,
          1.133687274935083
         ]
        },
        {
         "line": {
          "color": "rgba(128, 0, 128, 1.0)",
          "dash": "solid",
          "shape": "linear",
          "width": 1.3
         },
         "mode": "lines",
         "name": "D",
         "text": "",
         "type": "scatter",
         "x": [
          0,
          1,
          2,
          3,
          4,
          5,
          6,
          7,
          8,
          9,
          10,
          11,
          12,
          13,
          14,
          15,
          16,
          17,
          18,
          19,
          20,
          21,
          22,
          23,
          24,
          25,
          26,
          27,
          28,
          29,
          30,
          31,
          32,
          33,
          34,
          35,
          36,
          37,
          38,
          39,
          40,
          41,
          42,
          43,
          44,
          45,
          46,
          47,
          48,
          49,
          50,
          51,
          52,
          53,
          54,
          55,
          56,
          57,
          58,
          59,
          60,
          61,
          62,
          63,
          64,
          65,
          66,
          67,
          68,
          69,
          70,
          71,
          72,
          73,
          74,
          75,
          76,
          77,
          78,
          79,
          80,
          81,
          82,
          83,
          84,
          85,
          86,
          87,
          88,
          89,
          90,
          91,
          92,
          93,
          94,
          95,
          96,
          97,
          98,
          99
         ],
         "y": [
          -0.14243188168373888,
          -1.0729907558568355,
          0.44733250377667716,
          -1.1897147775895982,
          1.092741516710888,
          -0.06091528550317952,
          0.10743674606032749,
          0.9042940695647604,
          0.5303819578975205,
          1.9992339800473369,
          0.6456010371124833,
          -0.7962804132728767,
          -0.5815192392519256,
          0.2597767876385269,
          -2.459883288053741,
          -0.4082992590619642,
          0.39686139282285504,
          -0.10328064655423272,
          -1.1573545857701342,
          -1.7466222324347853,
          -1.6081787740748272,
          0.042610628533974994,
          1.7131089103702466,
          -0.33970182084475636,
          -0.9583274897717958,
          0.8309717943957573,
          -1.8513065553096661,
          -0.43667935832435667,
          -1.3202801094129164,
          0.19412359694222966,
          0.3863753886878289,
          2.262504342957885,
          -1.1789996565844338,
          0.8610049877785335,
          0.35020646357557556,
          -0.4526706099620868,
          -1.4208827518870466,
          -2.0336415880196306,
          -0.6028790992919976,
          -0.6667505056960525,
          1.034085965991731,
          1.6862381136516247,
          0.9671590675760109,
          0.4687702824218409,
          -0.11354411524057219,
          1.7598471377692582,
          -0.3133961636622412,
          0.7968082245207883,
          -0.8123852383043507,
          -0.1815538188028146,
          -1.2010576577637924,
          0.623379003526806,
          -0.2905917132234972,
          1.0907162251266591,
          -0.943052216702706,
          -0.6358961634386422,
          0.8238944357128126,
          -1.6910025282864853,
          -0.5360314141734744,
          -0.2858234600755065,
          0.11739560318332833,
          1.3392357088416103,
          -0.12730657094197811,
          -0.355344981254377,
          -0.7888413181153048,
          0.010846103051945897,
          2.4643060780738653,
          0.2688894084296869,
          -0.6761623948082517,
          -0.46228423544452435,
          -0.06823119920909179,
          0.5507682072831712,
          -1.4092521832676117,
          0.11165070595437765,
          1.0816741381089106,
          0.00012294423731891224,
          1.6864532375657582,
          -0.21634623521220717,
          1.4069369181982865,
          0.14000154269529902,
          -1.056975185245624,
          -1.454774926494647,
          0.8077501687969396,
          -0.6826502496255977,
          0.6344953632035505,
          -0.15940212485395602,
          1.3448374706334436,
          0.5273274117487469,
          -0.5514095718479104,
          0.3176860475959556,
          -0.0325566071623441,
          -0.0673720916980821,
          0.9991691910935454,
          0.4772946025924812,
          0.9458312063212977,
          -1.1631663106908554,
          1.0876781943861205,
          -0.5592269267673681,
          -0.4905467928214895,
          -0.43363935487996075
         ]
        }
       ],
       "layout": {
        "legend": {
         "bgcolor": "#F5F6F9",
         "font": {
          "color": "#4D5663"
         }
        },
        "paper_bgcolor": "#F5F6F9",
        "plot_bgcolor": "#F5F6F9",
        "template": {
         "data": {
          "bar": [
           {
            "error_x": {
             "color": "#2a3f5f"
            },
            "error_y": {
             "color": "#2a3f5f"
            },
            "marker": {
             "line": {
              "color": "#E5ECF6",
              "width": 0.5
             }
            },
            "type": "bar"
           }
          ],
          "barpolar": [
           {
            "marker": {
             "line": {
              "color": "#E5ECF6",
              "width": 0.5
             }
            },
            "type": "barpolar"
           }
          ],
          "carpet": [
           {
            "aaxis": {
             "endlinecolor": "#2a3f5f",
             "gridcolor": "white",
             "linecolor": "white",
             "minorgridcolor": "white",
             "startlinecolor": "#2a3f5f"
            },
            "baxis": {
             "endlinecolor": "#2a3f5f",
             "gridcolor": "white",
             "linecolor": "white",
             "minorgridcolor": "white",
             "startlinecolor": "#2a3f5f"
            },
            "type": "carpet"
           }
          ],
          "choropleth": [
           {
            "colorbar": {
             "outlinewidth": 0,
             "ticks": ""
            },
            "type": "choropleth"
           }
          ],
          "contour": [
           {
            "colorbar": {
             "outlinewidth": 0,
             "ticks": ""
            },
            "colorscale": [
             [
              0,
              "#0d0887"
             ],
             [
              0.1111111111111111,
              "#46039f"
             ],
             [
              0.2222222222222222,
              "#7201a8"
             ],
             [
              0.3333333333333333,
              "#9c179e"
             ],
             [
              0.4444444444444444,
              "#bd3786"
             ],
             [
              0.5555555555555556,
              "#d8576b"
             ],
             [
              0.6666666666666666,
              "#ed7953"
             ],
             [
              0.7777777777777778,
              "#fb9f3a"
             ],
             [
              0.8888888888888888,
              "#fdca26"
             ],
             [
              1,
              "#f0f921"
             ]
            ],
            "type": "contour"
           }
          ],
          "contourcarpet": [
           {
            "colorbar": {
             "outlinewidth": 0,
             "ticks": ""
            },
            "type": "contourcarpet"
           }
          ],
          "heatmap": [
           {
            "colorbar": {
             "outlinewidth": 0,
             "ticks": ""
            },
            "colorscale": [
             [
              0,
              "#0d0887"
             ],
             [
              0.1111111111111111,
              "#46039f"
             ],
             [
              0.2222222222222222,
              "#7201a8"
             ],
             [
              0.3333333333333333,
              "#9c179e"
             ],
             [
              0.4444444444444444,
              "#bd3786"
             ],
             [
              0.5555555555555556,
              "#d8576b"
             ],
             [
              0.6666666666666666,
              "#ed7953"
             ],
             [
              0.7777777777777778,
              "#fb9f3a"
             ],
             [
              0.8888888888888888,
              "#fdca26"
             ],
             [
              1,
              "#f0f921"
             ]
            ],
            "type": "heatmap"
           }
          ],
          "heatmapgl": [
           {
            "colorbar": {
             "outlinewidth": 0,
             "ticks": ""
            },
            "colorscale": [
             [
              0,
              "#0d0887"
             ],
             [
              0.1111111111111111,
              "#46039f"
             ],
             [
              0.2222222222222222,
              "#7201a8"
             ],
             [
              0.3333333333333333,
              "#9c179e"
             ],
             [
              0.4444444444444444,
              "#bd3786"
             ],
             [
              0.5555555555555556,
              "#d8576b"
             ],
             [
              0.6666666666666666,
              "#ed7953"
             ],
             [
              0.7777777777777778,
              "#fb9f3a"
             ],
             [
              0.8888888888888888,
              "#fdca26"
             ],
             [
              1,
              "#f0f921"
             ]
            ],
            "type": "heatmapgl"
           }
          ],
          "histogram": [
           {
            "marker": {
             "colorbar": {
              "outlinewidth": 0,
              "ticks": ""
             }
            },
            "type": "histogram"
           }
          ],
          "histogram2d": [
           {
            "colorbar": {
             "outlinewidth": 0,
             "ticks": ""
            },
            "colorscale": [
             [
              0,
              "#0d0887"
             ],
             [
              0.1111111111111111,
              "#46039f"
             ],
             [
              0.2222222222222222,
              "#7201a8"
             ],
             [
              0.3333333333333333,
              "#9c179e"
             ],
             [
              0.4444444444444444,
              "#bd3786"
             ],
             [
              0.5555555555555556,
              "#d8576b"
             ],
             [
              0.6666666666666666,
              "#ed7953"
             ],
             [
              0.7777777777777778,
              "#fb9f3a"
             ],
             [
              0.8888888888888888,
              "#fdca26"
             ],
             [
              1,
              "#f0f921"
             ]
            ],
            "type": "histogram2d"
           }
          ],
          "histogram2dcontour": [
           {
            "colorbar": {
             "outlinewidth": 0,
             "ticks": ""
            },
            "colorscale": [
             [
              0,
              "#0d0887"
             ],
             [
              0.1111111111111111,
              "#46039f"
             ],
             [
              0.2222222222222222,
              "#7201a8"
             ],
             [
              0.3333333333333333,
              "#9c179e"
             ],
             [
              0.4444444444444444,
              "#bd3786"
             ],
             [
              0.5555555555555556,
              "#d8576b"
             ],
             [
              0.6666666666666666,
              "#ed7953"
             ],
             [
              0.7777777777777778,
              "#fb9f3a"
             ],
             [
              0.8888888888888888,
              "#fdca26"
             ],
             [
              1,
              "#f0f921"
             ]
            ],
            "type": "histogram2dcontour"
           }
          ],
          "mesh3d": [
           {
            "colorbar": {
             "outlinewidth": 0,
             "ticks": ""
            },
            "type": "mesh3d"
           }
          ],
          "parcoords": [
           {
            "line": {
             "colorbar": {
              "outlinewidth": 0,
              "ticks": ""
             }
            },
            "type": "parcoords"
           }
          ],
          "pie": [
           {
            "automargin": true,
            "type": "pie"
           }
          ],
          "scatter": [
           {
            "marker": {
             "colorbar": {
              "outlinewidth": 0,
              "ticks": ""
             }
            },
            "type": "scatter"
           }
          ],
          "scatter3d": [
           {
            "line": {
             "colorbar": {
              "outlinewidth": 0,
              "ticks": ""
             }
            },
            "marker": {
             "colorbar": {
              "outlinewidth": 0,
              "ticks": ""
             }
            },
            "type": "scatter3d"
           }
          ],
          "scattercarpet": [
           {
            "marker": {
             "colorbar": {
              "outlinewidth": 0,
              "ticks": ""
             }
            },
            "type": "scattercarpet"
           }
          ],
          "scattergeo": [
           {
            "marker": {
             "colorbar": {
              "outlinewidth": 0,
              "ticks": ""
             }
            },
            "type": "scattergeo"
           }
          ],
          "scattergl": [
           {
            "marker": {
             "colorbar": {
              "outlinewidth": 0,
              "ticks": ""
             }
            },
            "type": "scattergl"
           }
          ],
          "scattermapbox": [
           {
            "marker": {
             "colorbar": {
              "outlinewidth": 0,
              "ticks": ""
             }
            },
            "type": "scattermapbox"
           }
          ],
          "scatterpolar": [
           {
            "marker": {
             "colorbar": {
              "outlinewidth": 0,
              "ticks": ""
             }
            },
            "type": "scatterpolar"
           }
          ],
          "scatterpolargl": [
           {
            "marker": {
             "colorbar": {
              "outlinewidth": 0,
              "ticks": ""
             }
            },
            "type": "scatterpolargl"
           }
          ],
          "scatterternary": [
           {
            "marker": {
             "colorbar": {
              "outlinewidth": 0,
              "ticks": ""
             }
            },
            "type": "scatterternary"
           }
          ],
          "surface": [
           {
            "colorbar": {
             "outlinewidth": 0,
             "ticks": ""
            },
            "colorscale": [
             [
              0,
              "#0d0887"
             ],
             [
              0.1111111111111111,
              "#46039f"
             ],
             [
              0.2222222222222222,
              "#7201a8"
             ],
             [
              0.3333333333333333,
              "#9c179e"
             ],
             [
              0.4444444444444444,
              "#bd3786"
             ],
             [
              0.5555555555555556,
              "#d8576b"
             ],
             [
              0.6666666666666666,
              "#ed7953"
             ],
             [
              0.7777777777777778,
              "#fb9f3a"
             ],
             [
              0.8888888888888888,
              "#fdca26"
             ],
             [
              1,
              "#f0f921"
             ]
            ],
            "type": "surface"
           }
          ],
          "table": [
           {
            "cells": {
             "fill": {
              "color": "#EBF0F8"
             },
             "line": {
              "color": "white"
             }
            },
            "header": {
             "fill": {
              "color": "#C8D4E3"
             },
             "line": {
              "color": "white"
             }
            },
            "type": "table"
           }
          ]
         },
         "layout": {
          "annotationdefaults": {
           "arrowcolor": "#2a3f5f",
           "arrowhead": 0,
           "arrowwidth": 1
          },
          "coloraxis": {
           "colorbar": {
            "outlinewidth": 0,
            "ticks": ""
           }
          },
          "colorscale": {
           "diverging": [
            [
             0,
             "#8e0152"
            ],
            [
             0.1,
             "#c51b7d"
            ],
            [
             0.2,
             "#de77ae"
            ],
            [
             0.3,
             "#f1b6da"
            ],
            [
             0.4,
             "#fde0ef"
            ],
            [
             0.5,
             "#f7f7f7"
            ],
            [
             0.6,
             "#e6f5d0"
            ],
            [
             0.7,
             "#b8e186"
            ],
            [
             0.8,
             "#7fbc41"
            ],
            [
             0.9,
             "#4d9221"
            ],
            [
             1,
             "#276419"
            ]
           ],
           "sequential": [
            [
             0,
             "#0d0887"
            ],
            [
             0.1111111111111111,
             "#46039f"
            ],
            [
             0.2222222222222222,
             "#7201a8"
            ],
            [
             0.3333333333333333,
             "#9c179e"
            ],
            [
             0.4444444444444444,
             "#bd3786"
            ],
            [
             0.5555555555555556,
             "#d8576b"
            ],
            [
             0.6666666666666666,
             "#ed7953"
            ],
            [
             0.7777777777777778,
             "#fb9f3a"
            ],
            [
             0.8888888888888888,
             "#fdca26"
            ],
            [
             1,
             "#f0f921"
            ]
           ],
           "sequentialminus": [
            [
             0,
             "#0d0887"
            ],
            [
             0.1111111111111111,
             "#46039f"
            ],
            [
             0.2222222222222222,
             "#7201a8"
            ],
            [
             0.3333333333333333,
             "#9c179e"
            ],
            [
             0.4444444444444444,
             "#bd3786"
            ],
            [
             0.5555555555555556,
             "#d8576b"
            ],
            [
             0.6666666666666666,
             "#ed7953"
            ],
            [
             0.7777777777777778,
             "#fb9f3a"
            ],
            [
             0.8888888888888888,
             "#fdca26"
            ],
            [
             1,
             "#f0f921"
            ]
           ]
          },
          "colorway": [
           "#636efa",
           "#EF553B",
           "#00cc96",
           "#ab63fa",
           "#FFA15A",
           "#19d3f3",
           "#FF6692",
           "#B6E880",
           "#FF97FF",
           "#FECB52"
          ],
          "font": {
           "color": "#2a3f5f"
          },
          "geo": {
           "bgcolor": "white",
           "lakecolor": "white",
           "landcolor": "#E5ECF6",
           "showlakes": true,
           "showland": true,
           "subunitcolor": "white"
          },
          "hoverlabel": {
           "align": "left"
          },
          "hovermode": "closest",
          "mapbox": {
           "style": "light"
          },
          "paper_bgcolor": "white",
          "plot_bgcolor": "#E5ECF6",
          "polar": {
           "angularaxis": {
            "gridcolor": "white",
            "linecolor": "white",
            "ticks": ""
           },
           "bgcolor": "#E5ECF6",
           "radialaxis": {
            "gridcolor": "white",
            "linecolor": "white",
            "ticks": ""
           }
          },
          "scene": {
           "xaxis": {
            "backgroundcolor": "#E5ECF6",
            "gridcolor": "white",
            "gridwidth": 2,
            "linecolor": "white",
            "showbackground": true,
            "ticks": "",
            "zerolinecolor": "white"
           },
           "yaxis": {
            "backgroundcolor": "#E5ECF6",
            "gridcolor": "white",
            "gridwidth": 2,
            "linecolor": "white",
            "showbackground": true,
            "ticks": "",
            "zerolinecolor": "white"
           },
           "zaxis": {
            "backgroundcolor": "#E5ECF6",
            "gridcolor": "white",
            "gridwidth": 2,
            "linecolor": "white",
            "showbackground": true,
            "ticks": "",
            "zerolinecolor": "white"
           }
          },
          "shapedefaults": {
           "line": {
            "color": "#2a3f5f"
           }
          },
          "ternary": {
           "aaxis": {
            "gridcolor": "white",
            "linecolor": "white",
            "ticks": ""
           },
           "baxis": {
            "gridcolor": "white",
            "linecolor": "white",
            "ticks": ""
           },
           "bgcolor": "#E5ECF6",
           "caxis": {
            "gridcolor": "white",
            "linecolor": "white",
            "ticks": ""
           }
          },
          "title": {
           "x": 0.05
          },
          "xaxis": {
           "automargin": true,
           "gridcolor": "white",
           "linecolor": "white",
           "ticks": "",
           "title": {
            "standoff": 15
           },
           "zerolinecolor": "white",
           "zerolinewidth": 2
          },
          "yaxis": {
           "automargin": true,
           "gridcolor": "white",
           "linecolor": "white",
           "ticks": "",
           "title": {
            "standoff": 15
           },
           "zerolinecolor": "white",
           "zerolinewidth": 2
          }
         }
        },
        "title": {
         "font": {
          "color": "#4D5663"
         }
        },
        "xaxis": {
         "gridcolor": "#E1E5ED",
         "showgrid": true,
         "tickfont": {
          "color": "#4D5663"
         },
         "title": {
          "font": {
           "color": "#4D5663"
          },
          "text": ""
         },
         "zerolinecolor": "#E1E5ED"
        },
        "yaxis": {
         "gridcolor": "#E1E5ED",
         "showgrid": true,
         "tickfont": {
          "color": "#4D5663"
         },
         "title": {
          "font": {
           "color": "#4D5663"
          },
          "text": ""
         },
         "zerolinecolor": "#E1E5ED"
        }
       }
      },
      "text/html": [
       "<div>\n",
       "        \n",
       "        \n",
       "            <div id=\"b394d1a3-c8be-44b4-9c19-701a6dd37d06\" class=\"plotly-graph-div\" style=\"height:525px; width:100%;\"></div>\n",
       "            <script type=\"text/javascript\">\n",
       "                require([\"plotly\"], function(Plotly) {\n",
       "                    window.PLOTLYENV=window.PLOTLYENV || {};\n",
       "                    window.PLOTLYENV.BASE_URL='https://plot.ly';\n",
       "                    \n",
       "                if (document.getElementById(\"b394d1a3-c8be-44b4-9c19-701a6dd37d06\")) {\n",
       "                    Plotly.newPlot(\n",
       "                        'b394d1a3-c8be-44b4-9c19-701a6dd37d06',\n",
       "                        [{\"line\": {\"color\": \"rgba(255, 153, 51, 1.0)\", \"dash\": \"solid\", \"shape\": \"linear\", \"width\": 1.3}, \"mode\": \"lines\", \"name\": \"A\", \"text\": \"\", \"type\": \"scatter\", \"x\": [0, 1, 2, 3, 4, 5, 6, 7, 8, 9, 10, 11, 12, 13, 14, 15, 16, 17, 18, 19, 20, 21, 22, 23, 24, 25, 26, 27, 28, 29, 30, 31, 32, 33, 34, 35, 36, 37, 38, 39, 40, 41, 42, 43, 44, 45, 46, 47, 48, 49, 50, 51, 52, 53, 54, 55, 56, 57, 58, 59, 60, 61, 62, 63, 64, 65, 66, 67, 68, 69, 70, 71, 72, 73, 74, 75, 76, 77, 78, 79, 80, 81, 82, 83, 84, 85, 86, 87, 88, 89, 90, 91, 92, 93, 94, 95, 96, 97, 98, 99], \"y\": [-0.7583625624564826, -1.3608135229511027, -0.4479688305343663, 0.25774244428547427, -1.6375797293120589, -1.0464472057363499, 1.407325001211225, 0.276515190255223, -0.07316231716756455, 2.379354983246018, 1.4416105167771618, -2.000675616366275, 0.599410615388733, -1.178157640116541, 0.8361646635083623, 1.4209061515389503, -1.3772200926778893, -1.5330137697628772, 0.8434488796566412, -0.44264142554813973, 0.7729395311461773, -1.186536053062794, 1.0672315844310665, -0.1786475895640133, -1.6899719904233519, 0.8146648919282323, -2.541055625678114, 0.8784841697785496, 0.32813550809478664, 1.3136723060501312, 0.5798422821158166, -0.15028112198881133, -0.39350857873322376, 1.8687332552959848, 1.4996776154237408, -2.5978587935254813, -0.08418728423004833, -1.7130754548765064, -0.34219415505953205, 1.2976144427300302, 0.7997008822259573, -1.9145673952331954, 0.32403830118956695, 0.9669468742916221, -0.3954521090418044, -0.5156640132664189, 0.6325874104204111, -0.7730210344534597, -1.0278926686068846, -0.8064923341963592, -0.5283860770954497, 0.05805052625083211, -0.5341935453073812, -0.6306038151611613, 0.19618964614138615, -0.567501753503357, 1.3116043337251144, 1.0625570541938478, 0.1630190918246739, -0.17520577021292585, -0.7448259321076729, -0.06589108782314983, 1.2263868994742944, 0.9973104846473738, -0.8586695931733282, 0.4007921932156928, 0.6476480167091756, 0.5806680435925301, 0.41667800079466144, 0.18080111431959658, -0.6549009506176735, -1.5624811820852393, -1.9034379481414605, 1.2036040733411644, 1.5416853504730623, 0.644723358337419, 0.5148614190703861, -1.9213061654349335, 0.35505322896128755, 0.8491838985035705, -1.0502790566937863, 0.013051058769516184, 1.6146659697158963, -1.0749070393039928, -0.6616722006760997, -0.3743145259476359, -2.4924831145939095, -0.16545246379299003, 2.1703012992627992, -1.2602863121320913, -0.7676530026819841, 0.0843467501757799, -0.2807271956647446, 0.4241491799250738, 1.2569983568147862, 0.33073957061440273, -0.21585240846311052, 1.4033361423654584, 0.12416679561973377, 0.45414894890427215]}, {\"line\": {\"color\": \"rgba(55, 128, 191, 1.0)\", \"dash\": \"solid\", \"shape\": \"linear\", \"width\": 1.3}, \"mode\": \"lines\", \"name\": \"B\", \"text\": \"\", \"type\": \"scatter\", \"x\": [0, 1, 2, 3, 4, 5, 6, 7, 8, 9, 10, 11, 12, 13, 14, 15, 16, 17, 18, 19, 20, 21, 22, 23, 24, 25, 26, 27, 28, 29, 30, 31, 32, 33, 34, 35, 36, 37, 38, 39, 40, 41, 42, 43, 44, 45, 46, 47, 48, 49, 50, 51, 52, 53, 54, 55, 56, 57, 58, 59, 60, 61, 62, 63, 64, 65, 66, 67, 68, 69, 70, 71, 72, 73, 74, 75, 76, 77, 78, 79, 80, 81, 82, 83, 84, 85, 86, 87, 88, 89, 90, 91, 92, 93, 94, 95, 96, 97, 98, 99], \"y\": [0.9051120349846424, 1.1315731612883049, 0.4889535391167449, -0.411827350510033, 1.7437582525448498, 0.8754875880381073, -1.612719409098891, 1.2673782176917372, 0.34610407515785685, -0.8734634626765565, 0.5080615811518349, 0.3786949114985083, 0.8549394182735643, -1.1727436261908517, 0.278079586528356, -2.086519140021561, 0.9558921986334105, -2.1412044407561335, 1.5908599450759613, -0.38037367059143695, -0.33823974441909016, 0.5148757793898513, 0.06431934032079333, -0.6192210839283654, 0.6364993369072576, 0.5238573577202742, 2.5123333500021423, -0.7385360908208347, 1.5357500979181817, 1.5724495278522659, 0.6633106187533743, 0.1913510422791749, -0.9852937680279761, 0.4866604508534319, -1.5691043539958625, -0.5457214474250892, -2.650467246676767, -0.4096399990779472, -0.44165613080647653, -1.6114045136155386, 0.3372243946613703, 0.09216459763101896, 0.4408702411197516, 1.026794643555709, -0.787067876624869, 0.274085340958029, 0.6432038230781414, 0.11625200510070811, -0.11400215542141642, 1.1678648365076898, 0.6381872954128966, -0.10906986258298167, 0.40314926362595793, -1.4061921229295076, -0.8949388605476665, -0.6797123989402232, 0.681267680316777, -1.5973585952033058, 0.9990493726980721, -0.9268111651857517, -0.7197683145996996, 0.18706094517469868, -1.1137685782674145, -0.8981843019223013, -0.008022352656607114, -0.46902423130002263, -1.0663496382780207, 1.2930554005359125, -0.12481695277229017, 0.8763289665253956, -0.15234775564968409, 0.7815603667800463, -0.3711497040527381, -0.735133518142438, 1.0719608777778922, -1.8110615652327744, -0.21451545478894662, -1.0000693418566864, -1.2492276001592144, -0.46780364099239063, 0.1472438174569735, 0.26416988245785844, 0.6659503106264842, 1.4700345976857954, 1.077675298771589, 1.1078248664225065, -0.7199081897875417, 0.6037307814365238, -1.2541232782328138, -0.4445705528975758, -0.5995953052364829, 0.8703773020736415, 1.240967816138145, -0.23458836833371494, 1.3626315874217745, -0.34003054967360213, 0.28031746369473, -0.6342169480234975, 0.6748537839853154, -1.3964778756962182]}, {\"line\": {\"color\": \"rgba(50, 171, 96, 1.0)\", \"dash\": \"solid\", \"shape\": \"linear\", \"width\": 1.3}, \"mode\": \"lines\", \"name\": \"C\", \"text\": \"\", \"type\": \"scatter\", \"x\": [0, 1, 2, 3, 4, 5, 6, 7, 8, 9, 10, 11, 12, 13, 14, 15, 16, 17, 18, 19, 20, 21, 22, 23, 24, 25, 26, 27, 28, 29, 30, 31, 32, 33, 34, 35, 36, 37, 38, 39, 40, 41, 42, 43, 44, 45, 46, 47, 48, 49, 50, 51, 52, 53, 54, 55, 56, 57, 58, 59, 60, 61, 62, 63, 64, 65, 66, 67, 68, 69, 70, 71, 72, 73, 74, 75, 76, 77, 78, 79, 80, 81, 82, 83, 84, 85, 86, 87, 88, 89, 90, 91, 92, 93, 94, 95, 96, 97, 98, 99], \"y\": [-0.444678500480317, 0.0933498848400473, 0.9355087974997555, -1.106441630487202, 0.7870975629687152, 0.21808060888783593, 0.19245161375740785, 0.058978349501044657, -0.8714541206370889, 1.6723359190038503, -0.9521959925693669, 0.25982368775406417, 0.4329967486845554, 0.9585187647681762, -1.79933573560346, 2.2571466440543344, 0.27242090370105326, -3.041426982646799, -0.7379674589948564, 0.21321722437944604, 0.3744406483158536, 1.8794147199102167, 0.5865594775587016, -0.3723330026710341, -0.21256708491681514, 1.2175066431034185, 0.9503232313646496, 1.7526010217049393, -0.6255769714716065, -0.8150989477464166, 0.1900069841307442, -0.6573140026719146, 1.3123490852146837, -0.20521456260004223, -0.8280753332366754, -2.1789891770225105, -1.7227530897526353, 1.2860266607255277, 0.417423466170257, -1.408581550401666, -1.0147418694696868, 1.0617865770644983, -2.1357693694007693, 0.6316085302784928, 1.0548351609959814, -1.821383374322361, 1.1794682397233458, 0.7800559142128144, 1.5175952940754551, -0.20063016325093158, 1.469109182383053, 0.33064590666961946, -1.5329746111023028, 1.4876464359770907, 0.7368765553019965, 0.2556196982451411, 1.496074295060987, -0.25594776352614945, -1.0302066787914688, 0.3771702792035409, 1.5954550568745687, -1.8239541572520326, -0.6292071703871251, 0.8569283151606543, 0.19021096842866161, 0.6607647699069801, -0.0016000980015075767, -0.6033609765671395, 0.6926557249524916, 0.13880646341418457, -1.3362928951925246, 0.5040296861060063, 2.5601117800980524, -0.983051918444861, -0.7450095718104365, -0.8245934015034929, -1.1246483229871902, -0.6547441335375387, -0.8088996560125555, -0.0966860051066942, -1.4863921450232944, 0.18967390658638197, 0.15908685829749233, -0.2691504733360306, -0.18560225336486053, 0.1001975328112677, -0.4706507089738137, 0.2368759547272725, 0.6644170545061568, -0.11309520573149913, 1.1829406966617049, -1.0833015314373051, -0.15088069839314402, -0.2652424034024619, 0.8990779222502281, -0.030734197118241203, -0.46028230155709343, 2.0393872169244824, 0.3883702636590222, 1.133687274935083]}, {\"line\": {\"color\": \"rgba(128, 0, 128, 1.0)\", \"dash\": \"solid\", \"shape\": \"linear\", \"width\": 1.3}, \"mode\": \"lines\", \"name\": \"D\", \"text\": \"\", \"type\": \"scatter\", \"x\": [0, 1, 2, 3, 4, 5, 6, 7, 8, 9, 10, 11, 12, 13, 14, 15, 16, 17, 18, 19, 20, 21, 22, 23, 24, 25, 26, 27, 28, 29, 30, 31, 32, 33, 34, 35, 36, 37, 38, 39, 40, 41, 42, 43, 44, 45, 46, 47, 48, 49, 50, 51, 52, 53, 54, 55, 56, 57, 58, 59, 60, 61, 62, 63, 64, 65, 66, 67, 68, 69, 70, 71, 72, 73, 74, 75, 76, 77, 78, 79, 80, 81, 82, 83, 84, 85, 86, 87, 88, 89, 90, 91, 92, 93, 94, 95, 96, 97, 98, 99], \"y\": [-0.14243188168373888, -1.0729907558568355, 0.44733250377667716, -1.1897147775895982, 1.092741516710888, -0.06091528550317952, 0.10743674606032749, 0.9042940695647604, 0.5303819578975205, 1.9992339800473369, 0.6456010371124833, -0.7962804132728767, -0.5815192392519256, 0.2597767876385269, -2.459883288053741, -0.4082992590619642, 0.39686139282285504, -0.10328064655423272, -1.1573545857701342, -1.7466222324347853, -1.6081787740748272, 0.042610628533974994, 1.7131089103702466, -0.33970182084475636, -0.9583274897717958, 0.8309717943957573, -1.8513065553096661, -0.43667935832435667, -1.3202801094129164, 0.19412359694222966, 0.3863753886878289, 2.262504342957885, -1.1789996565844338, 0.8610049877785335, 0.35020646357557556, -0.4526706099620868, -1.4208827518870466, -2.0336415880196306, -0.6028790992919976, -0.6667505056960525, 1.034085965991731, 1.6862381136516247, 0.9671590675760109, 0.4687702824218409, -0.11354411524057219, 1.7598471377692582, -0.3133961636622412, 0.7968082245207883, -0.8123852383043507, -0.1815538188028146, -1.2010576577637924, 0.623379003526806, -0.2905917132234972, 1.0907162251266591, -0.943052216702706, -0.6358961634386422, 0.8238944357128126, -1.6910025282864853, -0.5360314141734744, -0.2858234600755065, 0.11739560318332833, 1.3392357088416103, -0.12730657094197811, -0.355344981254377, -0.7888413181153048, 0.010846103051945897, 2.4643060780738653, 0.2688894084296869, -0.6761623948082517, -0.46228423544452435, -0.06823119920909179, 0.5507682072831712, -1.4092521832676117, 0.11165070595437765, 1.0816741381089106, 0.00012294423731891224, 1.6864532375657582, -0.21634623521220717, 1.4069369181982865, 0.14000154269529902, -1.056975185245624, -1.454774926494647, 0.8077501687969396, -0.6826502496255977, 0.6344953632035505, -0.15940212485395602, 1.3448374706334436, 0.5273274117487469, -0.5514095718479104, 0.3176860475959556, -0.0325566071623441, -0.0673720916980821, 0.9991691910935454, 0.4772946025924812, 0.9458312063212977, -1.1631663106908554, 1.0876781943861205, -0.5592269267673681, -0.4905467928214895, -0.43363935487996075]}],\n",
       "                        {\"legend\": {\"bgcolor\": \"#F5F6F9\", \"font\": {\"color\": \"#4D5663\"}}, \"paper_bgcolor\": \"#F5F6F9\", \"plot_bgcolor\": \"#F5F6F9\", \"template\": {\"data\": {\"bar\": [{\"error_x\": {\"color\": \"#2a3f5f\"}, \"error_y\": {\"color\": \"#2a3f5f\"}, \"marker\": {\"line\": {\"color\": \"#E5ECF6\", \"width\": 0.5}}, \"type\": \"bar\"}], \"barpolar\": [{\"marker\": {\"line\": {\"color\": \"#E5ECF6\", \"width\": 0.5}}, \"type\": \"barpolar\"}], \"carpet\": [{\"aaxis\": {\"endlinecolor\": \"#2a3f5f\", \"gridcolor\": \"white\", \"linecolor\": \"white\", \"minorgridcolor\": \"white\", \"startlinecolor\": \"#2a3f5f\"}, \"baxis\": {\"endlinecolor\": \"#2a3f5f\", \"gridcolor\": \"white\", \"linecolor\": \"white\", \"minorgridcolor\": \"white\", \"startlinecolor\": \"#2a3f5f\"}, \"type\": \"carpet\"}], \"choropleth\": [{\"colorbar\": {\"outlinewidth\": 0, \"ticks\": \"\"}, \"type\": \"choropleth\"}], \"contour\": [{\"colorbar\": {\"outlinewidth\": 0, \"ticks\": \"\"}, \"colorscale\": [[0.0, \"#0d0887\"], [0.1111111111111111, \"#46039f\"], [0.2222222222222222, \"#7201a8\"], [0.3333333333333333, \"#9c179e\"], [0.4444444444444444, \"#bd3786\"], [0.5555555555555556, \"#d8576b\"], [0.6666666666666666, \"#ed7953\"], [0.7777777777777778, \"#fb9f3a\"], [0.8888888888888888, \"#fdca26\"], [1.0, \"#f0f921\"]], \"type\": \"contour\"}], \"contourcarpet\": [{\"colorbar\": {\"outlinewidth\": 0, \"ticks\": \"\"}, \"type\": \"contourcarpet\"}], \"heatmap\": [{\"colorbar\": {\"outlinewidth\": 0, \"ticks\": \"\"}, \"colorscale\": [[0.0, \"#0d0887\"], [0.1111111111111111, \"#46039f\"], [0.2222222222222222, \"#7201a8\"], [0.3333333333333333, \"#9c179e\"], [0.4444444444444444, \"#bd3786\"], [0.5555555555555556, \"#d8576b\"], [0.6666666666666666, \"#ed7953\"], [0.7777777777777778, \"#fb9f3a\"], [0.8888888888888888, \"#fdca26\"], [1.0, \"#f0f921\"]], \"type\": \"heatmap\"}], \"heatmapgl\": [{\"colorbar\": {\"outlinewidth\": 0, \"ticks\": \"\"}, \"colorscale\": [[0.0, \"#0d0887\"], [0.1111111111111111, \"#46039f\"], [0.2222222222222222, \"#7201a8\"], [0.3333333333333333, \"#9c179e\"], [0.4444444444444444, \"#bd3786\"], [0.5555555555555556, \"#d8576b\"], [0.6666666666666666, \"#ed7953\"], [0.7777777777777778, \"#fb9f3a\"], [0.8888888888888888, \"#fdca26\"], [1.0, \"#f0f921\"]], \"type\": \"heatmapgl\"}], \"histogram\": [{\"marker\": {\"colorbar\": {\"outlinewidth\": 0, \"ticks\": \"\"}}, \"type\": \"histogram\"}], \"histogram2d\": [{\"colorbar\": {\"outlinewidth\": 0, \"ticks\": \"\"}, \"colorscale\": [[0.0, \"#0d0887\"], [0.1111111111111111, \"#46039f\"], [0.2222222222222222, \"#7201a8\"], [0.3333333333333333, \"#9c179e\"], [0.4444444444444444, \"#bd3786\"], [0.5555555555555556, \"#d8576b\"], [0.6666666666666666, \"#ed7953\"], [0.7777777777777778, \"#fb9f3a\"], [0.8888888888888888, \"#fdca26\"], [1.0, \"#f0f921\"]], \"type\": \"histogram2d\"}], \"histogram2dcontour\": [{\"colorbar\": {\"outlinewidth\": 0, \"ticks\": \"\"}, \"colorscale\": [[0.0, \"#0d0887\"], [0.1111111111111111, \"#46039f\"], [0.2222222222222222, \"#7201a8\"], [0.3333333333333333, \"#9c179e\"], [0.4444444444444444, \"#bd3786\"], [0.5555555555555556, \"#d8576b\"], [0.6666666666666666, \"#ed7953\"], [0.7777777777777778, \"#fb9f3a\"], [0.8888888888888888, \"#fdca26\"], [1.0, \"#f0f921\"]], \"type\": \"histogram2dcontour\"}], \"mesh3d\": [{\"colorbar\": {\"outlinewidth\": 0, \"ticks\": \"\"}, \"type\": \"mesh3d\"}], \"parcoords\": [{\"line\": {\"colorbar\": {\"outlinewidth\": 0, \"ticks\": \"\"}}, \"type\": \"parcoords\"}], \"pie\": [{\"automargin\": true, \"type\": \"pie\"}], \"scatter\": [{\"marker\": {\"colorbar\": {\"outlinewidth\": 0, \"ticks\": \"\"}}, \"type\": \"scatter\"}], \"scatter3d\": [{\"line\": {\"colorbar\": {\"outlinewidth\": 0, \"ticks\": \"\"}}, \"marker\": {\"colorbar\": {\"outlinewidth\": 0, \"ticks\": \"\"}}, \"type\": \"scatter3d\"}], \"scattercarpet\": [{\"marker\": {\"colorbar\": {\"outlinewidth\": 0, \"ticks\": \"\"}}, \"type\": \"scattercarpet\"}], \"scattergeo\": [{\"marker\": {\"colorbar\": {\"outlinewidth\": 0, \"ticks\": \"\"}}, \"type\": \"scattergeo\"}], \"scattergl\": [{\"marker\": {\"colorbar\": {\"outlinewidth\": 0, \"ticks\": \"\"}}, \"type\": \"scattergl\"}], \"scattermapbox\": [{\"marker\": {\"colorbar\": {\"outlinewidth\": 0, \"ticks\": \"\"}}, \"type\": \"scattermapbox\"}], \"scatterpolar\": [{\"marker\": {\"colorbar\": {\"outlinewidth\": 0, \"ticks\": \"\"}}, \"type\": \"scatterpolar\"}], \"scatterpolargl\": [{\"marker\": {\"colorbar\": {\"outlinewidth\": 0, \"ticks\": \"\"}}, \"type\": \"scatterpolargl\"}], \"scatterternary\": [{\"marker\": {\"colorbar\": {\"outlinewidth\": 0, \"ticks\": \"\"}}, \"type\": \"scatterternary\"}], \"surface\": [{\"colorbar\": {\"outlinewidth\": 0, \"ticks\": \"\"}, \"colorscale\": [[0.0, \"#0d0887\"], [0.1111111111111111, \"#46039f\"], [0.2222222222222222, \"#7201a8\"], [0.3333333333333333, \"#9c179e\"], [0.4444444444444444, \"#bd3786\"], [0.5555555555555556, \"#d8576b\"], [0.6666666666666666, \"#ed7953\"], [0.7777777777777778, \"#fb9f3a\"], [0.8888888888888888, \"#fdca26\"], [1.0, \"#f0f921\"]], \"type\": \"surface\"}], \"table\": [{\"cells\": {\"fill\": {\"color\": \"#EBF0F8\"}, \"line\": {\"color\": \"white\"}}, \"header\": {\"fill\": {\"color\": \"#C8D4E3\"}, \"line\": {\"color\": \"white\"}}, \"type\": \"table\"}]}, \"layout\": {\"annotationdefaults\": {\"arrowcolor\": \"#2a3f5f\", \"arrowhead\": 0, \"arrowwidth\": 1}, \"coloraxis\": {\"colorbar\": {\"outlinewidth\": 0, \"ticks\": \"\"}}, \"colorscale\": {\"diverging\": [[0, \"#8e0152\"], [0.1, \"#c51b7d\"], [0.2, \"#de77ae\"], [0.3, \"#f1b6da\"], [0.4, \"#fde0ef\"], [0.5, \"#f7f7f7\"], [0.6, \"#e6f5d0\"], [0.7, \"#b8e186\"], [0.8, \"#7fbc41\"], [0.9, \"#4d9221\"], [1, \"#276419\"]], \"sequential\": [[0.0, \"#0d0887\"], [0.1111111111111111, \"#46039f\"], [0.2222222222222222, \"#7201a8\"], [0.3333333333333333, \"#9c179e\"], [0.4444444444444444, \"#bd3786\"], [0.5555555555555556, \"#d8576b\"], [0.6666666666666666, \"#ed7953\"], [0.7777777777777778, \"#fb9f3a\"], [0.8888888888888888, \"#fdca26\"], [1.0, \"#f0f921\"]], \"sequentialminus\": [[0.0, \"#0d0887\"], [0.1111111111111111, \"#46039f\"], [0.2222222222222222, \"#7201a8\"], [0.3333333333333333, \"#9c179e\"], [0.4444444444444444, \"#bd3786\"], [0.5555555555555556, \"#d8576b\"], [0.6666666666666666, \"#ed7953\"], [0.7777777777777778, \"#fb9f3a\"], [0.8888888888888888, \"#fdca26\"], [1.0, \"#f0f921\"]]}, \"colorway\": [\"#636efa\", \"#EF553B\", \"#00cc96\", \"#ab63fa\", \"#FFA15A\", \"#19d3f3\", \"#FF6692\", \"#B6E880\", \"#FF97FF\", \"#FECB52\"], \"font\": {\"color\": \"#2a3f5f\"}, \"geo\": {\"bgcolor\": \"white\", \"lakecolor\": \"white\", \"landcolor\": \"#E5ECF6\", \"showlakes\": true, \"showland\": true, \"subunitcolor\": \"white\"}, \"hoverlabel\": {\"align\": \"left\"}, \"hovermode\": \"closest\", \"mapbox\": {\"style\": \"light\"}, \"paper_bgcolor\": \"white\", \"plot_bgcolor\": \"#E5ECF6\", \"polar\": {\"angularaxis\": {\"gridcolor\": \"white\", \"linecolor\": \"white\", \"ticks\": \"\"}, \"bgcolor\": \"#E5ECF6\", \"radialaxis\": {\"gridcolor\": \"white\", \"linecolor\": \"white\", \"ticks\": \"\"}}, \"scene\": {\"xaxis\": {\"backgroundcolor\": \"#E5ECF6\", \"gridcolor\": \"white\", \"gridwidth\": 2, \"linecolor\": \"white\", \"showbackground\": true, \"ticks\": \"\", \"zerolinecolor\": \"white\"}, \"yaxis\": {\"backgroundcolor\": \"#E5ECF6\", \"gridcolor\": \"white\", \"gridwidth\": 2, \"linecolor\": \"white\", \"showbackground\": true, \"ticks\": \"\", \"zerolinecolor\": \"white\"}, \"zaxis\": {\"backgroundcolor\": \"#E5ECF6\", \"gridcolor\": \"white\", \"gridwidth\": 2, \"linecolor\": \"white\", \"showbackground\": true, \"ticks\": \"\", \"zerolinecolor\": \"white\"}}, \"shapedefaults\": {\"line\": {\"color\": \"#2a3f5f\"}}, \"ternary\": {\"aaxis\": {\"gridcolor\": \"white\", \"linecolor\": \"white\", \"ticks\": \"\"}, \"baxis\": {\"gridcolor\": \"white\", \"linecolor\": \"white\", \"ticks\": \"\"}, \"bgcolor\": \"#E5ECF6\", \"caxis\": {\"gridcolor\": \"white\", \"linecolor\": \"white\", \"ticks\": \"\"}}, \"title\": {\"x\": 0.05}, \"xaxis\": {\"automargin\": true, \"gridcolor\": \"white\", \"linecolor\": \"white\", \"ticks\": \"\", \"title\": {\"standoff\": 15}, \"zerolinecolor\": \"white\", \"zerolinewidth\": 2}, \"yaxis\": {\"automargin\": true, \"gridcolor\": \"white\", \"linecolor\": \"white\", \"ticks\": \"\", \"title\": {\"standoff\": 15}, \"zerolinecolor\": \"white\", \"zerolinewidth\": 2}}}, \"title\": {\"font\": {\"color\": \"#4D5663\"}}, \"xaxis\": {\"gridcolor\": \"#E1E5ED\", \"showgrid\": true, \"tickfont\": {\"color\": \"#4D5663\"}, \"title\": {\"font\": {\"color\": \"#4D5663\"}, \"text\": \"\"}, \"zerolinecolor\": \"#E1E5ED\"}, \"yaxis\": {\"gridcolor\": \"#E1E5ED\", \"showgrid\": true, \"tickfont\": {\"color\": \"#4D5663\"}, \"title\": {\"font\": {\"color\": \"#4D5663\"}, \"text\": \"\"}, \"zerolinecolor\": \"#E1E5ED\"}},\n",
       "                        {\"showLink\": true, \"linkText\": \"Export to plot.ly\", \"plotlyServerURL\": \"https://plot.ly\", \"responsive\": true}\n",
       "                    ).then(function(){\n",
       "                            \n",
       "var gd = document.getElementById('b394d1a3-c8be-44b4-9c19-701a6dd37d06');\n",
       "var x = new MutationObserver(function (mutations, observer) {{\n",
       "        var display = window.getComputedStyle(gd).display;\n",
       "        if (!display || display === 'none') {{\n",
       "            console.log([gd, 'removed!']);\n",
       "            Plotly.purge(gd);\n",
       "            observer.disconnect();\n",
       "        }}\n",
       "}});\n",
       "\n",
       "// Listen for the removal of the full notebook cells\n",
       "var notebookContainer = gd.closest('#notebook-container');\n",
       "if (notebookContainer) {{\n",
       "    x.observe(notebookContainer, {childList: true});\n",
       "}}\n",
       "\n",
       "// Listen for the clearing of the current output cell\n",
       "var outputEl = gd.closest('.output');\n",
       "if (outputEl) {{\n",
       "    x.observe(outputEl, {childList: true});\n",
       "}}\n",
       "\n",
       "                        })\n",
       "                };\n",
       "                });\n",
       "            </script>\n",
       "        </div>"
      ]
     },
     "metadata": {},
     "output_type": "display_data"
    }
   ],
   "source": [
    "df.iplot()"
   ]
  },
  {
   "cell_type": "markdown",
   "metadata": {
    "colab_type": "text",
    "id": "Y00jyL5-iSsX"
   },
   "source": [
    "**Gráficos do tipo scatter**"
   ]
  },
  {
   "cell_type": "code",
   "execution_count": 9,
   "metadata": {
    "colab": {
     "base_uri": "https://localhost:8080/",
     "height": 542
    },
    "colab_type": "code",
    "executionInfo": {
     "elapsed": 947,
     "status": "ok",
     "timestamp": 1557594658011,
     "user": {
      "displayName": "Rodrigo Santana Ferreira",
      "photoUrl": "https://lh5.googleusercontent.com/-w5AmPcUma78/AAAAAAAAAAI/AAAAAAAAAPw/2VfgXe2k7sI/s64/photo.jpg",
      "userId": "14710330936720624047"
     },
     "user_tz": 180
    },
    "id": "RBEOqovdiSsY",
    "outputId": "dffc96b9-236e-4966-b9ea-bc8566a24663"
   },
   "outputs": [
    {
     "data": {
      "application/vnd.plotly.v1+json": {
       "config": {
        "linkText": "Export to plot.ly",
        "plotlyServerURL": "https://plot.ly",
        "showLink": true
       },
       "data": [
        {
         "line": {
          "color": "rgba(255, 153, 51, 1.0)",
          "dash": "solid",
          "shape": "linear",
          "width": 1.3
         },
         "marker": {
          "size": 12,
          "symbol": "circle"
         },
         "mode": "markers",
         "name": "B",
         "text": "",
         "type": "scatter",
         "x": [
          -0.7583625624564826,
          -1.3608135229511027,
          -0.4479688305343663,
          0.25774244428547427,
          -1.6375797293120589,
          -1.0464472057363499,
          1.407325001211225,
          0.276515190255223,
          -0.07316231716756455,
          2.379354983246018,
          1.4416105167771618,
          -2.000675616366275,
          0.599410615388733,
          -1.178157640116541,
          0.8361646635083623,
          1.4209061515389503,
          -1.3772200926778893,
          -1.5330137697628772,
          0.8434488796566412,
          -0.44264142554813973,
          0.7729395311461773,
          -1.186536053062794,
          1.0672315844310665,
          -0.1786475895640133,
          -1.6899719904233519,
          0.8146648919282323,
          -2.541055625678114,
          0.8784841697785496,
          0.32813550809478664,
          1.3136723060501312,
          0.5798422821158166,
          -0.15028112198881133,
          -0.39350857873322376,
          1.8687332552959848,
          1.4996776154237408,
          -2.5978587935254813,
          -0.08418728423004833,
          -1.7130754548765064,
          -0.34219415505953205,
          1.2976144427300302,
          0.7997008822259573,
          -1.9145673952331954,
          0.32403830118956695,
          0.9669468742916221,
          -0.3954521090418044,
          -0.5156640132664189,
          0.6325874104204111,
          -0.7730210344534597,
          -1.0278926686068846,
          -0.8064923341963592,
          -0.5283860770954497,
          0.05805052625083211,
          -0.5341935453073812,
          -0.6306038151611613,
          0.19618964614138615,
          -0.567501753503357,
          1.3116043337251144,
          1.0625570541938478,
          0.1630190918246739,
          -0.17520577021292585,
          -0.7448259321076729,
          -0.06589108782314983,
          1.2263868994742944,
          0.9973104846473738,
          -0.8586695931733282,
          0.4007921932156928,
          0.6476480167091756,
          0.5806680435925301,
          0.41667800079466144,
          0.18080111431959658,
          -0.6549009506176735,
          -1.5624811820852393,
          -1.9034379481414605,
          1.2036040733411644,
          1.5416853504730623,
          0.644723358337419,
          0.5148614190703861,
          -1.9213061654349335,
          0.35505322896128755,
          0.8491838985035705,
          -1.0502790566937863,
          0.013051058769516184,
          1.6146659697158963,
          -1.0749070393039928,
          -0.6616722006760997,
          -0.3743145259476359,
          -2.4924831145939095,
          -0.16545246379299003,
          2.1703012992627992,
          -1.2602863121320913,
          -0.7676530026819841,
          0.0843467501757799,
          -0.2807271956647446,
          0.4241491799250738,
          1.2569983568147862,
          0.33073957061440273,
          -0.21585240846311052,
          1.4033361423654584,
          0.12416679561973377,
          0.45414894890427215
         ],
         "y": [
          0.9051120349846424,
          1.1315731612883049,
          0.4889535391167449,
          -0.411827350510033,
          1.7437582525448498,
          0.8754875880381073,
          -1.612719409098891,
          1.2673782176917372,
          0.34610407515785685,
          -0.8734634626765565,
          0.5080615811518349,
          0.3786949114985083,
          0.8549394182735643,
          -1.1727436261908517,
          0.278079586528356,
          -2.086519140021561,
          0.9558921986334105,
          -2.1412044407561335,
          1.5908599450759613,
          -0.38037367059143695,
          -0.33823974441909016,
          0.5148757793898513,
          0.06431934032079333,
          -0.6192210839283654,
          0.6364993369072576,
          0.5238573577202742,
          2.5123333500021423,
          -0.7385360908208347,
          1.5357500979181817,
          1.5724495278522659,
          0.6633106187533743,
          0.1913510422791749,
          -0.9852937680279761,
          0.4866604508534319,
          -1.5691043539958625,
          -0.5457214474250892,
          -2.650467246676767,
          -0.4096399990779472,
          -0.44165613080647653,
          -1.6114045136155386,
          0.3372243946613703,
          0.09216459763101896,
          0.4408702411197516,
          1.026794643555709,
          -0.787067876624869,
          0.274085340958029,
          0.6432038230781414,
          0.11625200510070811,
          -0.11400215542141642,
          1.1678648365076898,
          0.6381872954128966,
          -0.10906986258298167,
          0.40314926362595793,
          -1.4061921229295076,
          -0.8949388605476665,
          -0.6797123989402232,
          0.681267680316777,
          -1.5973585952033058,
          0.9990493726980721,
          -0.9268111651857517,
          -0.7197683145996996,
          0.18706094517469868,
          -1.1137685782674145,
          -0.8981843019223013,
          -0.008022352656607114,
          -0.46902423130002263,
          -1.0663496382780207,
          1.2930554005359125,
          -0.12481695277229017,
          0.8763289665253956,
          -0.15234775564968409,
          0.7815603667800463,
          -0.3711497040527381,
          -0.735133518142438,
          1.0719608777778922,
          -1.8110615652327744,
          -0.21451545478894662,
          -1.0000693418566864,
          -1.2492276001592144,
          -0.46780364099239063,
          0.1472438174569735,
          0.26416988245785844,
          0.6659503106264842,
          1.4700345976857954,
          1.077675298771589,
          1.1078248664225065,
          -0.7199081897875417,
          0.6037307814365238,
          -1.2541232782328138,
          -0.4445705528975758,
          -0.5995953052364829,
          0.8703773020736415,
          1.240967816138145,
          -0.23458836833371494,
          1.3626315874217745,
          -0.34003054967360213,
          0.28031746369473,
          -0.6342169480234975,
          0.6748537839853154,
          -1.3964778756962182
         ]
        }
       ],
       "layout": {
        "legend": {
         "bgcolor": "#F5F6F9",
         "font": {
          "color": "#4D5663"
         }
        },
        "paper_bgcolor": "#F5F6F9",
        "plot_bgcolor": "#F5F6F9",
        "template": {
         "data": {
          "bar": [
           {
            "error_x": {
             "color": "#2a3f5f"
            },
            "error_y": {
             "color": "#2a3f5f"
            },
            "marker": {
             "line": {
              "color": "#E5ECF6",
              "width": 0.5
             }
            },
            "type": "bar"
           }
          ],
          "barpolar": [
           {
            "marker": {
             "line": {
              "color": "#E5ECF6",
              "width": 0.5
             }
            },
            "type": "barpolar"
           }
          ],
          "carpet": [
           {
            "aaxis": {
             "endlinecolor": "#2a3f5f",
             "gridcolor": "white",
             "linecolor": "white",
             "minorgridcolor": "white",
             "startlinecolor": "#2a3f5f"
            },
            "baxis": {
             "endlinecolor": "#2a3f5f",
             "gridcolor": "white",
             "linecolor": "white",
             "minorgridcolor": "white",
             "startlinecolor": "#2a3f5f"
            },
            "type": "carpet"
           }
          ],
          "choropleth": [
           {
            "colorbar": {
             "outlinewidth": 0,
             "ticks": ""
            },
            "type": "choropleth"
           }
          ],
          "contour": [
           {
            "colorbar": {
             "outlinewidth": 0,
             "ticks": ""
            },
            "colorscale": [
             [
              0,
              "#0d0887"
             ],
             [
              0.1111111111111111,
              "#46039f"
             ],
             [
              0.2222222222222222,
              "#7201a8"
             ],
             [
              0.3333333333333333,
              "#9c179e"
             ],
             [
              0.4444444444444444,
              "#bd3786"
             ],
             [
              0.5555555555555556,
              "#d8576b"
             ],
             [
              0.6666666666666666,
              "#ed7953"
             ],
             [
              0.7777777777777778,
              "#fb9f3a"
             ],
             [
              0.8888888888888888,
              "#fdca26"
             ],
             [
              1,
              "#f0f921"
             ]
            ],
            "type": "contour"
           }
          ],
          "contourcarpet": [
           {
            "colorbar": {
             "outlinewidth": 0,
             "ticks": ""
            },
            "type": "contourcarpet"
           }
          ],
          "heatmap": [
           {
            "colorbar": {
             "outlinewidth": 0,
             "ticks": ""
            },
            "colorscale": [
             [
              0,
              "#0d0887"
             ],
             [
              0.1111111111111111,
              "#46039f"
             ],
             [
              0.2222222222222222,
              "#7201a8"
             ],
             [
              0.3333333333333333,
              "#9c179e"
             ],
             [
              0.4444444444444444,
              "#bd3786"
             ],
             [
              0.5555555555555556,
              "#d8576b"
             ],
             [
              0.6666666666666666,
              "#ed7953"
             ],
             [
              0.7777777777777778,
              "#fb9f3a"
             ],
             [
              0.8888888888888888,
              "#fdca26"
             ],
             [
              1,
              "#f0f921"
             ]
            ],
            "type": "heatmap"
           }
          ],
          "heatmapgl": [
           {
            "colorbar": {
             "outlinewidth": 0,
             "ticks": ""
            },
            "colorscale": [
             [
              0,
              "#0d0887"
             ],
             [
              0.1111111111111111,
              "#46039f"
             ],
             [
              0.2222222222222222,
              "#7201a8"
             ],
             [
              0.3333333333333333,
              "#9c179e"
             ],
             [
              0.4444444444444444,
              "#bd3786"
             ],
             [
              0.5555555555555556,
              "#d8576b"
             ],
             [
              0.6666666666666666,
              "#ed7953"
             ],
             [
              0.7777777777777778,
              "#fb9f3a"
             ],
             [
              0.8888888888888888,
              "#fdca26"
             ],
             [
              1,
              "#f0f921"
             ]
            ],
            "type": "heatmapgl"
           }
          ],
          "histogram": [
           {
            "marker": {
             "colorbar": {
              "outlinewidth": 0,
              "ticks": ""
             }
            },
            "type": "histogram"
           }
          ],
          "histogram2d": [
           {
            "colorbar": {
             "outlinewidth": 0,
             "ticks": ""
            },
            "colorscale": [
             [
              0,
              "#0d0887"
             ],
             [
              0.1111111111111111,
              "#46039f"
             ],
             [
              0.2222222222222222,
              "#7201a8"
             ],
             [
              0.3333333333333333,
              "#9c179e"
             ],
             [
              0.4444444444444444,
              "#bd3786"
             ],
             [
              0.5555555555555556,
              "#d8576b"
             ],
             [
              0.6666666666666666,
              "#ed7953"
             ],
             [
              0.7777777777777778,
              "#fb9f3a"
             ],
             [
              0.8888888888888888,
              "#fdca26"
             ],
             [
              1,
              "#f0f921"
             ]
            ],
            "type": "histogram2d"
           }
          ],
          "histogram2dcontour": [
           {
            "colorbar": {
             "outlinewidth": 0,
             "ticks": ""
            },
            "colorscale": [
             [
              0,
              "#0d0887"
             ],
             [
              0.1111111111111111,
              "#46039f"
             ],
             [
              0.2222222222222222,
              "#7201a8"
             ],
             [
              0.3333333333333333,
              "#9c179e"
             ],
             [
              0.4444444444444444,
              "#bd3786"
             ],
             [
              0.5555555555555556,
              "#d8576b"
             ],
             [
              0.6666666666666666,
              "#ed7953"
             ],
             [
              0.7777777777777778,
              "#fb9f3a"
             ],
             [
              0.8888888888888888,
              "#fdca26"
             ],
             [
              1,
              "#f0f921"
             ]
            ],
            "type": "histogram2dcontour"
           }
          ],
          "mesh3d": [
           {
            "colorbar": {
             "outlinewidth": 0,
             "ticks": ""
            },
            "type": "mesh3d"
           }
          ],
          "parcoords": [
           {
            "line": {
             "colorbar": {
              "outlinewidth": 0,
              "ticks": ""
             }
            },
            "type": "parcoords"
           }
          ],
          "pie": [
           {
            "automargin": true,
            "type": "pie"
           }
          ],
          "scatter": [
           {
            "marker": {
             "colorbar": {
              "outlinewidth": 0,
              "ticks": ""
             }
            },
            "type": "scatter"
           }
          ],
          "scatter3d": [
           {
            "line": {
             "colorbar": {
              "outlinewidth": 0,
              "ticks": ""
             }
            },
            "marker": {
             "colorbar": {
              "outlinewidth": 0,
              "ticks": ""
             }
            },
            "type": "scatter3d"
           }
          ],
          "scattercarpet": [
           {
            "marker": {
             "colorbar": {
              "outlinewidth": 0,
              "ticks": ""
             }
            },
            "type": "scattercarpet"
           }
          ],
          "scattergeo": [
           {
            "marker": {
             "colorbar": {
              "outlinewidth": 0,
              "ticks": ""
             }
            },
            "type": "scattergeo"
           }
          ],
          "scattergl": [
           {
            "marker": {
             "colorbar": {
              "outlinewidth": 0,
              "ticks": ""
             }
            },
            "type": "scattergl"
           }
          ],
          "scattermapbox": [
           {
            "marker": {
             "colorbar": {
              "outlinewidth": 0,
              "ticks": ""
             }
            },
            "type": "scattermapbox"
           }
          ],
          "scatterpolar": [
           {
            "marker": {
             "colorbar": {
              "outlinewidth": 0,
              "ticks": ""
             }
            },
            "type": "scatterpolar"
           }
          ],
          "scatterpolargl": [
           {
            "marker": {
             "colorbar": {
              "outlinewidth": 0,
              "ticks": ""
             }
            },
            "type": "scatterpolargl"
           }
          ],
          "scatterternary": [
           {
            "marker": {
             "colorbar": {
              "outlinewidth": 0,
              "ticks": ""
             }
            },
            "type": "scatterternary"
           }
          ],
          "surface": [
           {
            "colorbar": {
             "outlinewidth": 0,
             "ticks": ""
            },
            "colorscale": [
             [
              0,
              "#0d0887"
             ],
             [
              0.1111111111111111,
              "#46039f"
             ],
             [
              0.2222222222222222,
              "#7201a8"
             ],
             [
              0.3333333333333333,
              "#9c179e"
             ],
             [
              0.4444444444444444,
              "#bd3786"
             ],
             [
              0.5555555555555556,
              "#d8576b"
             ],
             [
              0.6666666666666666,
              "#ed7953"
             ],
             [
              0.7777777777777778,
              "#fb9f3a"
             ],
             [
              0.8888888888888888,
              "#fdca26"
             ],
             [
              1,
              "#f0f921"
             ]
            ],
            "type": "surface"
           }
          ],
          "table": [
           {
            "cells": {
             "fill": {
              "color": "#EBF0F8"
             },
             "line": {
              "color": "white"
             }
            },
            "header": {
             "fill": {
              "color": "#C8D4E3"
             },
             "line": {
              "color": "white"
             }
            },
            "type": "table"
           }
          ]
         },
         "layout": {
          "annotationdefaults": {
           "arrowcolor": "#2a3f5f",
           "arrowhead": 0,
           "arrowwidth": 1
          },
          "coloraxis": {
           "colorbar": {
            "outlinewidth": 0,
            "ticks": ""
           }
          },
          "colorscale": {
           "diverging": [
            [
             0,
             "#8e0152"
            ],
            [
             0.1,
             "#c51b7d"
            ],
            [
             0.2,
             "#de77ae"
            ],
            [
             0.3,
             "#f1b6da"
            ],
            [
             0.4,
             "#fde0ef"
            ],
            [
             0.5,
             "#f7f7f7"
            ],
            [
             0.6,
             "#e6f5d0"
            ],
            [
             0.7,
             "#b8e186"
            ],
            [
             0.8,
             "#7fbc41"
            ],
            [
             0.9,
             "#4d9221"
            ],
            [
             1,
             "#276419"
            ]
           ],
           "sequential": [
            [
             0,
             "#0d0887"
            ],
            [
             0.1111111111111111,
             "#46039f"
            ],
            [
             0.2222222222222222,
             "#7201a8"
            ],
            [
             0.3333333333333333,
             "#9c179e"
            ],
            [
             0.4444444444444444,
             "#bd3786"
            ],
            [
             0.5555555555555556,
             "#d8576b"
            ],
            [
             0.6666666666666666,
             "#ed7953"
            ],
            [
             0.7777777777777778,
             "#fb9f3a"
            ],
            [
             0.8888888888888888,
             "#fdca26"
            ],
            [
             1,
             "#f0f921"
            ]
           ],
           "sequentialminus": [
            [
             0,
             "#0d0887"
            ],
            [
             0.1111111111111111,
             "#46039f"
            ],
            [
             0.2222222222222222,
             "#7201a8"
            ],
            [
             0.3333333333333333,
             "#9c179e"
            ],
            [
             0.4444444444444444,
             "#bd3786"
            ],
            [
             0.5555555555555556,
             "#d8576b"
            ],
            [
             0.6666666666666666,
             "#ed7953"
            ],
            [
             0.7777777777777778,
             "#fb9f3a"
            ],
            [
             0.8888888888888888,
             "#fdca26"
            ],
            [
             1,
             "#f0f921"
            ]
           ]
          },
          "colorway": [
           "#636efa",
           "#EF553B",
           "#00cc96",
           "#ab63fa",
           "#FFA15A",
           "#19d3f3",
           "#FF6692",
           "#B6E880",
           "#FF97FF",
           "#FECB52"
          ],
          "font": {
           "color": "#2a3f5f"
          },
          "geo": {
           "bgcolor": "white",
           "lakecolor": "white",
           "landcolor": "#E5ECF6",
           "showlakes": true,
           "showland": true,
           "subunitcolor": "white"
          },
          "hoverlabel": {
           "align": "left"
          },
          "hovermode": "closest",
          "mapbox": {
           "style": "light"
          },
          "paper_bgcolor": "white",
          "plot_bgcolor": "#E5ECF6",
          "polar": {
           "angularaxis": {
            "gridcolor": "white",
            "linecolor": "white",
            "ticks": ""
           },
           "bgcolor": "#E5ECF6",
           "radialaxis": {
            "gridcolor": "white",
            "linecolor": "white",
            "ticks": ""
           }
          },
          "scene": {
           "xaxis": {
            "backgroundcolor": "#E5ECF6",
            "gridcolor": "white",
            "gridwidth": 2,
            "linecolor": "white",
            "showbackground": true,
            "ticks": "",
            "zerolinecolor": "white"
           },
           "yaxis": {
            "backgroundcolor": "#E5ECF6",
            "gridcolor": "white",
            "gridwidth": 2,
            "linecolor": "white",
            "showbackground": true,
            "ticks": "",
            "zerolinecolor": "white"
           },
           "zaxis": {
            "backgroundcolor": "#E5ECF6",
            "gridcolor": "white",
            "gridwidth": 2,
            "linecolor": "white",
            "showbackground": true,
            "ticks": "",
            "zerolinecolor": "white"
           }
          },
          "shapedefaults": {
           "line": {
            "color": "#2a3f5f"
           }
          },
          "ternary": {
           "aaxis": {
            "gridcolor": "white",
            "linecolor": "white",
            "ticks": ""
           },
           "baxis": {
            "gridcolor": "white",
            "linecolor": "white",
            "ticks": ""
           },
           "bgcolor": "#E5ECF6",
           "caxis": {
            "gridcolor": "white",
            "linecolor": "white",
            "ticks": ""
           }
          },
          "title": {
           "x": 0.05
          },
          "xaxis": {
           "automargin": true,
           "gridcolor": "white",
           "linecolor": "white",
           "ticks": "",
           "title": {
            "standoff": 15
           },
           "zerolinecolor": "white",
           "zerolinewidth": 2
          },
          "yaxis": {
           "automargin": true,
           "gridcolor": "white",
           "linecolor": "white",
           "ticks": "",
           "title": {
            "standoff": 15
           },
           "zerolinecolor": "white",
           "zerolinewidth": 2
          }
         }
        },
        "title": {
         "font": {
          "color": "#4D5663"
         }
        },
        "xaxis": {
         "gridcolor": "#E1E5ED",
         "showgrid": true,
         "tickfont": {
          "color": "#4D5663"
         },
         "title": {
          "font": {
           "color": "#4D5663"
          },
          "text": ""
         },
         "zerolinecolor": "#E1E5ED"
        },
        "yaxis": {
         "gridcolor": "#E1E5ED",
         "showgrid": true,
         "tickfont": {
          "color": "#4D5663"
         },
         "title": {
          "font": {
           "color": "#4D5663"
          },
          "text": ""
         },
         "zerolinecolor": "#E1E5ED"
        }
       }
      },
      "text/html": [
       "<div>\n",
       "        \n",
       "        \n",
       "            <div id=\"25d3b844-eb9e-478a-8030-c07e3876d89b\" class=\"plotly-graph-div\" style=\"height:525px; width:100%;\"></div>\n",
       "            <script type=\"text/javascript\">\n",
       "                require([\"plotly\"], function(Plotly) {\n",
       "                    window.PLOTLYENV=window.PLOTLYENV || {};\n",
       "                    window.PLOTLYENV.BASE_URL='https://plot.ly';\n",
       "                    \n",
       "                if (document.getElementById(\"25d3b844-eb9e-478a-8030-c07e3876d89b\")) {\n",
       "                    Plotly.newPlot(\n",
       "                        '25d3b844-eb9e-478a-8030-c07e3876d89b',\n",
       "                        [{\"line\": {\"color\": \"rgba(255, 153, 51, 1.0)\", \"dash\": \"solid\", \"shape\": \"linear\", \"width\": 1.3}, \"marker\": {\"size\": 12, \"symbol\": \"circle\"}, \"mode\": \"markers\", \"name\": \"B\", \"text\": \"\", \"type\": \"scatter\", \"x\": [-0.7583625624564826, -1.3608135229511027, -0.4479688305343663, 0.25774244428547427, -1.6375797293120589, -1.0464472057363499, 1.407325001211225, 0.276515190255223, -0.07316231716756455, 2.379354983246018, 1.4416105167771618, -2.000675616366275, 0.599410615388733, -1.178157640116541, 0.8361646635083623, 1.4209061515389503, -1.3772200926778893, -1.5330137697628772, 0.8434488796566412, -0.44264142554813973, 0.7729395311461773, -1.186536053062794, 1.0672315844310665, -0.1786475895640133, -1.6899719904233519, 0.8146648919282323, -2.541055625678114, 0.8784841697785496, 0.32813550809478664, 1.3136723060501312, 0.5798422821158166, -0.15028112198881133, -0.39350857873322376, 1.8687332552959848, 1.4996776154237408, -2.5978587935254813, -0.08418728423004833, -1.7130754548765064, -0.34219415505953205, 1.2976144427300302, 0.7997008822259573, -1.9145673952331954, 0.32403830118956695, 0.9669468742916221, -0.3954521090418044, -0.5156640132664189, 0.6325874104204111, -0.7730210344534597, -1.0278926686068846, -0.8064923341963592, -0.5283860770954497, 0.05805052625083211, -0.5341935453073812, -0.6306038151611613, 0.19618964614138615, -0.567501753503357, 1.3116043337251144, 1.0625570541938478, 0.1630190918246739, -0.17520577021292585, -0.7448259321076729, -0.06589108782314983, 1.2263868994742944, 0.9973104846473738, -0.8586695931733282, 0.4007921932156928, 0.6476480167091756, 0.5806680435925301, 0.41667800079466144, 0.18080111431959658, -0.6549009506176735, -1.5624811820852393, -1.9034379481414605, 1.2036040733411644, 1.5416853504730623, 0.644723358337419, 0.5148614190703861, -1.9213061654349335, 0.35505322896128755, 0.8491838985035705, -1.0502790566937863, 0.013051058769516184, 1.6146659697158963, -1.0749070393039928, -0.6616722006760997, -0.3743145259476359, -2.4924831145939095, -0.16545246379299003, 2.1703012992627992, -1.2602863121320913, -0.7676530026819841, 0.0843467501757799, -0.2807271956647446, 0.4241491799250738, 1.2569983568147862, 0.33073957061440273, -0.21585240846311052, 1.4033361423654584, 0.12416679561973377, 0.45414894890427215], \"y\": [0.9051120349846424, 1.1315731612883049, 0.4889535391167449, -0.411827350510033, 1.7437582525448498, 0.8754875880381073, -1.612719409098891, 1.2673782176917372, 0.34610407515785685, -0.8734634626765565, 0.5080615811518349, 0.3786949114985083, 0.8549394182735643, -1.1727436261908517, 0.278079586528356, -2.086519140021561, 0.9558921986334105, -2.1412044407561335, 1.5908599450759613, -0.38037367059143695, -0.33823974441909016, 0.5148757793898513, 0.06431934032079333, -0.6192210839283654, 0.6364993369072576, 0.5238573577202742, 2.5123333500021423, -0.7385360908208347, 1.5357500979181817, 1.5724495278522659, 0.6633106187533743, 0.1913510422791749, -0.9852937680279761, 0.4866604508534319, -1.5691043539958625, -0.5457214474250892, -2.650467246676767, -0.4096399990779472, -0.44165613080647653, -1.6114045136155386, 0.3372243946613703, 0.09216459763101896, 0.4408702411197516, 1.026794643555709, -0.787067876624869, 0.274085340958029, 0.6432038230781414, 0.11625200510070811, -0.11400215542141642, 1.1678648365076898, 0.6381872954128966, -0.10906986258298167, 0.40314926362595793, -1.4061921229295076, -0.8949388605476665, -0.6797123989402232, 0.681267680316777, -1.5973585952033058, 0.9990493726980721, -0.9268111651857517, -0.7197683145996996, 0.18706094517469868, -1.1137685782674145, -0.8981843019223013, -0.008022352656607114, -0.46902423130002263, -1.0663496382780207, 1.2930554005359125, -0.12481695277229017, 0.8763289665253956, -0.15234775564968409, 0.7815603667800463, -0.3711497040527381, -0.735133518142438, 1.0719608777778922, -1.8110615652327744, -0.21451545478894662, -1.0000693418566864, -1.2492276001592144, -0.46780364099239063, 0.1472438174569735, 0.26416988245785844, 0.6659503106264842, 1.4700345976857954, 1.077675298771589, 1.1078248664225065, -0.7199081897875417, 0.6037307814365238, -1.2541232782328138, -0.4445705528975758, -0.5995953052364829, 0.8703773020736415, 1.240967816138145, -0.23458836833371494, 1.3626315874217745, -0.34003054967360213, 0.28031746369473, -0.6342169480234975, 0.6748537839853154, -1.3964778756962182]}],\n",
       "                        {\"legend\": {\"bgcolor\": \"#F5F6F9\", \"font\": {\"color\": \"#4D5663\"}}, \"paper_bgcolor\": \"#F5F6F9\", \"plot_bgcolor\": \"#F5F6F9\", \"template\": {\"data\": {\"bar\": [{\"error_x\": {\"color\": \"#2a3f5f\"}, \"error_y\": {\"color\": \"#2a3f5f\"}, \"marker\": {\"line\": {\"color\": \"#E5ECF6\", \"width\": 0.5}}, \"type\": \"bar\"}], \"barpolar\": [{\"marker\": {\"line\": {\"color\": \"#E5ECF6\", \"width\": 0.5}}, \"type\": \"barpolar\"}], \"carpet\": [{\"aaxis\": {\"endlinecolor\": \"#2a3f5f\", \"gridcolor\": \"white\", \"linecolor\": \"white\", \"minorgridcolor\": \"white\", \"startlinecolor\": \"#2a3f5f\"}, \"baxis\": {\"endlinecolor\": \"#2a3f5f\", \"gridcolor\": \"white\", \"linecolor\": \"white\", \"minorgridcolor\": \"white\", \"startlinecolor\": \"#2a3f5f\"}, \"type\": \"carpet\"}], \"choropleth\": [{\"colorbar\": {\"outlinewidth\": 0, \"ticks\": \"\"}, \"type\": \"choropleth\"}], \"contour\": [{\"colorbar\": {\"outlinewidth\": 0, \"ticks\": \"\"}, \"colorscale\": [[0.0, \"#0d0887\"], [0.1111111111111111, \"#46039f\"], [0.2222222222222222, \"#7201a8\"], [0.3333333333333333, \"#9c179e\"], [0.4444444444444444, \"#bd3786\"], [0.5555555555555556, \"#d8576b\"], [0.6666666666666666, \"#ed7953\"], [0.7777777777777778, \"#fb9f3a\"], [0.8888888888888888, \"#fdca26\"], [1.0, \"#f0f921\"]], \"type\": \"contour\"}], \"contourcarpet\": [{\"colorbar\": {\"outlinewidth\": 0, \"ticks\": \"\"}, \"type\": \"contourcarpet\"}], \"heatmap\": [{\"colorbar\": {\"outlinewidth\": 0, \"ticks\": \"\"}, \"colorscale\": [[0.0, \"#0d0887\"], [0.1111111111111111, \"#46039f\"], [0.2222222222222222, \"#7201a8\"], [0.3333333333333333, \"#9c179e\"], [0.4444444444444444, \"#bd3786\"], [0.5555555555555556, \"#d8576b\"], [0.6666666666666666, \"#ed7953\"], [0.7777777777777778, \"#fb9f3a\"], [0.8888888888888888, \"#fdca26\"], [1.0, \"#f0f921\"]], \"type\": \"heatmap\"}], \"heatmapgl\": [{\"colorbar\": {\"outlinewidth\": 0, \"ticks\": \"\"}, \"colorscale\": [[0.0, \"#0d0887\"], [0.1111111111111111, \"#46039f\"], [0.2222222222222222, \"#7201a8\"], [0.3333333333333333, \"#9c179e\"], [0.4444444444444444, \"#bd3786\"], [0.5555555555555556, \"#d8576b\"], [0.6666666666666666, \"#ed7953\"], [0.7777777777777778, \"#fb9f3a\"], [0.8888888888888888, \"#fdca26\"], [1.0, \"#f0f921\"]], \"type\": \"heatmapgl\"}], \"histogram\": [{\"marker\": {\"colorbar\": {\"outlinewidth\": 0, \"ticks\": \"\"}}, \"type\": \"histogram\"}], \"histogram2d\": [{\"colorbar\": {\"outlinewidth\": 0, \"ticks\": \"\"}, \"colorscale\": [[0.0, \"#0d0887\"], [0.1111111111111111, \"#46039f\"], [0.2222222222222222, \"#7201a8\"], [0.3333333333333333, \"#9c179e\"], [0.4444444444444444, \"#bd3786\"], [0.5555555555555556, \"#d8576b\"], [0.6666666666666666, \"#ed7953\"], [0.7777777777777778, \"#fb9f3a\"], [0.8888888888888888, \"#fdca26\"], [1.0, \"#f0f921\"]], \"type\": \"histogram2d\"}], \"histogram2dcontour\": [{\"colorbar\": {\"outlinewidth\": 0, \"ticks\": \"\"}, \"colorscale\": [[0.0, \"#0d0887\"], [0.1111111111111111, \"#46039f\"], [0.2222222222222222, \"#7201a8\"], [0.3333333333333333, \"#9c179e\"], [0.4444444444444444, \"#bd3786\"], [0.5555555555555556, \"#d8576b\"], [0.6666666666666666, \"#ed7953\"], [0.7777777777777778, \"#fb9f3a\"], [0.8888888888888888, \"#fdca26\"], [1.0, \"#f0f921\"]], \"type\": \"histogram2dcontour\"}], \"mesh3d\": [{\"colorbar\": {\"outlinewidth\": 0, \"ticks\": \"\"}, \"type\": \"mesh3d\"}], \"parcoords\": [{\"line\": {\"colorbar\": {\"outlinewidth\": 0, \"ticks\": \"\"}}, \"type\": \"parcoords\"}], \"pie\": [{\"automargin\": true, \"type\": \"pie\"}], \"scatter\": [{\"marker\": {\"colorbar\": {\"outlinewidth\": 0, \"ticks\": \"\"}}, \"type\": \"scatter\"}], \"scatter3d\": [{\"line\": {\"colorbar\": {\"outlinewidth\": 0, \"ticks\": \"\"}}, \"marker\": {\"colorbar\": {\"outlinewidth\": 0, \"ticks\": \"\"}}, \"type\": \"scatter3d\"}], \"scattercarpet\": [{\"marker\": {\"colorbar\": {\"outlinewidth\": 0, \"ticks\": \"\"}}, \"type\": \"scattercarpet\"}], \"scattergeo\": [{\"marker\": {\"colorbar\": {\"outlinewidth\": 0, \"ticks\": \"\"}}, \"type\": \"scattergeo\"}], \"scattergl\": [{\"marker\": {\"colorbar\": {\"outlinewidth\": 0, \"ticks\": \"\"}}, \"type\": \"scattergl\"}], \"scattermapbox\": [{\"marker\": {\"colorbar\": {\"outlinewidth\": 0, \"ticks\": \"\"}}, \"type\": \"scattermapbox\"}], \"scatterpolar\": [{\"marker\": {\"colorbar\": {\"outlinewidth\": 0, \"ticks\": \"\"}}, \"type\": \"scatterpolar\"}], \"scatterpolargl\": [{\"marker\": {\"colorbar\": {\"outlinewidth\": 0, \"ticks\": \"\"}}, \"type\": \"scatterpolargl\"}], \"scatterternary\": [{\"marker\": {\"colorbar\": {\"outlinewidth\": 0, \"ticks\": \"\"}}, \"type\": \"scatterternary\"}], \"surface\": [{\"colorbar\": {\"outlinewidth\": 0, \"ticks\": \"\"}, \"colorscale\": [[0.0, \"#0d0887\"], [0.1111111111111111, \"#46039f\"], [0.2222222222222222, \"#7201a8\"], [0.3333333333333333, \"#9c179e\"], [0.4444444444444444, \"#bd3786\"], [0.5555555555555556, \"#d8576b\"], [0.6666666666666666, \"#ed7953\"], [0.7777777777777778, \"#fb9f3a\"], [0.8888888888888888, \"#fdca26\"], [1.0, \"#f0f921\"]], \"type\": \"surface\"}], \"table\": [{\"cells\": {\"fill\": {\"color\": \"#EBF0F8\"}, \"line\": {\"color\": \"white\"}}, \"header\": {\"fill\": {\"color\": \"#C8D4E3\"}, \"line\": {\"color\": \"white\"}}, \"type\": \"table\"}]}, \"layout\": {\"annotationdefaults\": {\"arrowcolor\": \"#2a3f5f\", \"arrowhead\": 0, \"arrowwidth\": 1}, \"coloraxis\": {\"colorbar\": {\"outlinewidth\": 0, \"ticks\": \"\"}}, \"colorscale\": {\"diverging\": [[0, \"#8e0152\"], [0.1, \"#c51b7d\"], [0.2, \"#de77ae\"], [0.3, \"#f1b6da\"], [0.4, \"#fde0ef\"], [0.5, \"#f7f7f7\"], [0.6, \"#e6f5d0\"], [0.7, \"#b8e186\"], [0.8, \"#7fbc41\"], [0.9, \"#4d9221\"], [1, \"#276419\"]], \"sequential\": [[0.0, \"#0d0887\"], [0.1111111111111111, \"#46039f\"], [0.2222222222222222, \"#7201a8\"], [0.3333333333333333, \"#9c179e\"], [0.4444444444444444, \"#bd3786\"], [0.5555555555555556, \"#d8576b\"], [0.6666666666666666, \"#ed7953\"], [0.7777777777777778, \"#fb9f3a\"], [0.8888888888888888, \"#fdca26\"], [1.0, \"#f0f921\"]], \"sequentialminus\": [[0.0, \"#0d0887\"], [0.1111111111111111, \"#46039f\"], [0.2222222222222222, \"#7201a8\"], [0.3333333333333333, \"#9c179e\"], [0.4444444444444444, \"#bd3786\"], [0.5555555555555556, \"#d8576b\"], [0.6666666666666666, \"#ed7953\"], [0.7777777777777778, \"#fb9f3a\"], [0.8888888888888888, \"#fdca26\"], [1.0, \"#f0f921\"]]}, \"colorway\": [\"#636efa\", \"#EF553B\", \"#00cc96\", \"#ab63fa\", \"#FFA15A\", \"#19d3f3\", \"#FF6692\", \"#B6E880\", \"#FF97FF\", \"#FECB52\"], \"font\": {\"color\": \"#2a3f5f\"}, \"geo\": {\"bgcolor\": \"white\", \"lakecolor\": \"white\", \"landcolor\": \"#E5ECF6\", \"showlakes\": true, \"showland\": true, \"subunitcolor\": \"white\"}, \"hoverlabel\": {\"align\": \"left\"}, \"hovermode\": \"closest\", \"mapbox\": {\"style\": \"light\"}, \"paper_bgcolor\": \"white\", \"plot_bgcolor\": \"#E5ECF6\", \"polar\": {\"angularaxis\": {\"gridcolor\": \"white\", \"linecolor\": \"white\", \"ticks\": \"\"}, \"bgcolor\": \"#E5ECF6\", \"radialaxis\": {\"gridcolor\": \"white\", \"linecolor\": \"white\", \"ticks\": \"\"}}, \"scene\": {\"xaxis\": {\"backgroundcolor\": \"#E5ECF6\", \"gridcolor\": \"white\", \"gridwidth\": 2, \"linecolor\": \"white\", \"showbackground\": true, \"ticks\": \"\", \"zerolinecolor\": \"white\"}, \"yaxis\": {\"backgroundcolor\": \"#E5ECF6\", \"gridcolor\": \"white\", \"gridwidth\": 2, \"linecolor\": \"white\", \"showbackground\": true, \"ticks\": \"\", \"zerolinecolor\": \"white\"}, \"zaxis\": {\"backgroundcolor\": \"#E5ECF6\", \"gridcolor\": \"white\", \"gridwidth\": 2, \"linecolor\": \"white\", \"showbackground\": true, \"ticks\": \"\", \"zerolinecolor\": \"white\"}}, \"shapedefaults\": {\"line\": {\"color\": \"#2a3f5f\"}}, \"ternary\": {\"aaxis\": {\"gridcolor\": \"white\", \"linecolor\": \"white\", \"ticks\": \"\"}, \"baxis\": {\"gridcolor\": \"white\", \"linecolor\": \"white\", \"ticks\": \"\"}, \"bgcolor\": \"#E5ECF6\", \"caxis\": {\"gridcolor\": \"white\", \"linecolor\": \"white\", \"ticks\": \"\"}}, \"title\": {\"x\": 0.05}, \"xaxis\": {\"automargin\": true, \"gridcolor\": \"white\", \"linecolor\": \"white\", \"ticks\": \"\", \"title\": {\"standoff\": 15}, \"zerolinecolor\": \"white\", \"zerolinewidth\": 2}, \"yaxis\": {\"automargin\": true, \"gridcolor\": \"white\", \"linecolor\": \"white\", \"ticks\": \"\", \"title\": {\"standoff\": 15}, \"zerolinecolor\": \"white\", \"zerolinewidth\": 2}}}, \"title\": {\"font\": {\"color\": \"#4D5663\"}}, \"xaxis\": {\"gridcolor\": \"#E1E5ED\", \"showgrid\": true, \"tickfont\": {\"color\": \"#4D5663\"}, \"title\": {\"font\": {\"color\": \"#4D5663\"}, \"text\": \"\"}, \"zerolinecolor\": \"#E1E5ED\"}, \"yaxis\": {\"gridcolor\": \"#E1E5ED\", \"showgrid\": true, \"tickfont\": {\"color\": \"#4D5663\"}, \"title\": {\"font\": {\"color\": \"#4D5663\"}, \"text\": \"\"}, \"zerolinecolor\": \"#E1E5ED\"}},\n",
       "                        {\"showLink\": true, \"linkText\": \"Export to plot.ly\", \"plotlyServerURL\": \"https://plot.ly\", \"responsive\": true}\n",
       "                    ).then(function(){\n",
       "                            \n",
       "var gd = document.getElementById('25d3b844-eb9e-478a-8030-c07e3876d89b');\n",
       "var x = new MutationObserver(function (mutations, observer) {{\n",
       "        var display = window.getComputedStyle(gd).display;\n",
       "        if (!display || display === 'none') {{\n",
       "            console.log([gd, 'removed!']);\n",
       "            Plotly.purge(gd);\n",
       "            observer.disconnect();\n",
       "        }}\n",
       "}});\n",
       "\n",
       "// Listen for the removal of the full notebook cells\n",
       "var notebookContainer = gd.closest('#notebook-container');\n",
       "if (notebookContainer) {{\n",
       "    x.observe(notebookContainer, {childList: true});\n",
       "}}\n",
       "\n",
       "// Listen for the clearing of the current output cell\n",
       "var outputEl = gd.closest('.output');\n",
       "if (outputEl) {{\n",
       "    x.observe(outputEl, {childList: true});\n",
       "}}\n",
       "\n",
       "                        })\n",
       "                };\n",
       "                });\n",
       "            </script>\n",
       "        </div>"
      ]
     },
     "metadata": {},
     "output_type": "display_data"
    }
   ],
   "source": [
    "df.iplot(kind='scatter', x='A',y='B', mode='markers')"
   ]
  },
  {
   "cell_type": "markdown",
   "metadata": {
    "colab_type": "text",
    "id": "3ZmcY3XoiSsb"
   },
   "source": [
    "**Gráficos de Barras**"
   ]
  },
  {
   "cell_type": "code",
   "execution_count": 10,
   "metadata": {
    "colab": {
     "base_uri": "https://localhost:8080/",
     "height": 542
    },
    "colab_type": "code",
    "executionInfo": {
     "elapsed": 777,
     "status": "ok",
     "timestamp": 1557594680954,
     "user": {
      "displayName": "Rodrigo Santana Ferreira",
      "photoUrl": "https://lh5.googleusercontent.com/-w5AmPcUma78/AAAAAAAAAAI/AAAAAAAAAPw/2VfgXe2k7sI/s64/photo.jpg",
      "userId": "14710330936720624047"
     },
     "user_tz": 180
    },
    "id": "oqNVRNamiSsc",
    "outputId": "50aa4efc-5dce-4d74-dc9f-0ddcb2070100"
   },
   "outputs": [
    {
     "data": {
      "application/vnd.plotly.v1+json": {
       "config": {
        "linkText": "Export to plot.ly",
        "plotlyServerURL": "https://plot.ly",
        "showLink": true
       },
       "data": [
        {
         "marker": {
          "color": "rgba(255, 153, 51, 0.6)",
          "line": {
           "color": "rgba(255, 153, 51, 1.0)",
           "width": 1
          }
         },
         "name": "None",
         "orientation": "v",
         "text": "",
         "type": "bar",
         "x": [
          "A",
          "B",
          "C",
          "D"
         ],
         "y": [
          -3.8240117484500726,
          -0.3058835630157768,
          4.770709964577067,
          -1.7535996210612659
         ]
        }
       ],
       "layout": {
        "legend": {
         "bgcolor": "#F5F6F9",
         "font": {
          "color": "#4D5663"
         }
        },
        "paper_bgcolor": "#F5F6F9",
        "plot_bgcolor": "#F5F6F9",
        "template": {
         "data": {
          "bar": [
           {
            "error_x": {
             "color": "#2a3f5f"
            },
            "error_y": {
             "color": "#2a3f5f"
            },
            "marker": {
             "line": {
              "color": "#E5ECF6",
              "width": 0.5
             }
            },
            "type": "bar"
           }
          ],
          "barpolar": [
           {
            "marker": {
             "line": {
              "color": "#E5ECF6",
              "width": 0.5
             }
            },
            "type": "barpolar"
           }
          ],
          "carpet": [
           {
            "aaxis": {
             "endlinecolor": "#2a3f5f",
             "gridcolor": "white",
             "linecolor": "white",
             "minorgridcolor": "white",
             "startlinecolor": "#2a3f5f"
            },
            "baxis": {
             "endlinecolor": "#2a3f5f",
             "gridcolor": "white",
             "linecolor": "white",
             "minorgridcolor": "white",
             "startlinecolor": "#2a3f5f"
            },
            "type": "carpet"
           }
          ],
          "choropleth": [
           {
            "colorbar": {
             "outlinewidth": 0,
             "ticks": ""
            },
            "type": "choropleth"
           }
          ],
          "contour": [
           {
            "colorbar": {
             "outlinewidth": 0,
             "ticks": ""
            },
            "colorscale": [
             [
              0,
              "#0d0887"
             ],
             [
              0.1111111111111111,
              "#46039f"
             ],
             [
              0.2222222222222222,
              "#7201a8"
             ],
             [
              0.3333333333333333,
              "#9c179e"
             ],
             [
              0.4444444444444444,
              "#bd3786"
             ],
             [
              0.5555555555555556,
              "#d8576b"
             ],
             [
              0.6666666666666666,
              "#ed7953"
             ],
             [
              0.7777777777777778,
              "#fb9f3a"
             ],
             [
              0.8888888888888888,
              "#fdca26"
             ],
             [
              1,
              "#f0f921"
             ]
            ],
            "type": "contour"
           }
          ],
          "contourcarpet": [
           {
            "colorbar": {
             "outlinewidth": 0,
             "ticks": ""
            },
            "type": "contourcarpet"
           }
          ],
          "heatmap": [
           {
            "colorbar": {
             "outlinewidth": 0,
             "ticks": ""
            },
            "colorscale": [
             [
              0,
              "#0d0887"
             ],
             [
              0.1111111111111111,
              "#46039f"
             ],
             [
              0.2222222222222222,
              "#7201a8"
             ],
             [
              0.3333333333333333,
              "#9c179e"
             ],
             [
              0.4444444444444444,
              "#bd3786"
             ],
             [
              0.5555555555555556,
              "#d8576b"
             ],
             [
              0.6666666666666666,
              "#ed7953"
             ],
             [
              0.7777777777777778,
              "#fb9f3a"
             ],
             [
              0.8888888888888888,
              "#fdca26"
             ],
             [
              1,
              "#f0f921"
             ]
            ],
            "type": "heatmap"
           }
          ],
          "heatmapgl": [
           {
            "colorbar": {
             "outlinewidth": 0,
             "ticks": ""
            },
            "colorscale": [
             [
              0,
              "#0d0887"
             ],
             [
              0.1111111111111111,
              "#46039f"
             ],
             [
              0.2222222222222222,
              "#7201a8"
             ],
             [
              0.3333333333333333,
              "#9c179e"
             ],
             [
              0.4444444444444444,
              "#bd3786"
             ],
             [
              0.5555555555555556,
              "#d8576b"
             ],
             [
              0.6666666666666666,
              "#ed7953"
             ],
             [
              0.7777777777777778,
              "#fb9f3a"
             ],
             [
              0.8888888888888888,
              "#fdca26"
             ],
             [
              1,
              "#f0f921"
             ]
            ],
            "type": "heatmapgl"
           }
          ],
          "histogram": [
           {
            "marker": {
             "colorbar": {
              "outlinewidth": 0,
              "ticks": ""
             }
            },
            "type": "histogram"
           }
          ],
          "histogram2d": [
           {
            "colorbar": {
             "outlinewidth": 0,
             "ticks": ""
            },
            "colorscale": [
             [
              0,
              "#0d0887"
             ],
             [
              0.1111111111111111,
              "#46039f"
             ],
             [
              0.2222222222222222,
              "#7201a8"
             ],
             [
              0.3333333333333333,
              "#9c179e"
             ],
             [
              0.4444444444444444,
              "#bd3786"
             ],
             [
              0.5555555555555556,
              "#d8576b"
             ],
             [
              0.6666666666666666,
              "#ed7953"
             ],
             [
              0.7777777777777778,
              "#fb9f3a"
             ],
             [
              0.8888888888888888,
              "#fdca26"
             ],
             [
              1,
              "#f0f921"
             ]
            ],
            "type": "histogram2d"
           }
          ],
          "histogram2dcontour": [
           {
            "colorbar": {
             "outlinewidth": 0,
             "ticks": ""
            },
            "colorscale": [
             [
              0,
              "#0d0887"
             ],
             [
              0.1111111111111111,
              "#46039f"
             ],
             [
              0.2222222222222222,
              "#7201a8"
             ],
             [
              0.3333333333333333,
              "#9c179e"
             ],
             [
              0.4444444444444444,
              "#bd3786"
             ],
             [
              0.5555555555555556,
              "#d8576b"
             ],
             [
              0.6666666666666666,
              "#ed7953"
             ],
             [
              0.7777777777777778,
              "#fb9f3a"
             ],
             [
              0.8888888888888888,
              "#fdca26"
             ],
             [
              1,
              "#f0f921"
             ]
            ],
            "type": "histogram2dcontour"
           }
          ],
          "mesh3d": [
           {
            "colorbar": {
             "outlinewidth": 0,
             "ticks": ""
            },
            "type": "mesh3d"
           }
          ],
          "parcoords": [
           {
            "line": {
             "colorbar": {
              "outlinewidth": 0,
              "ticks": ""
             }
            },
            "type": "parcoords"
           }
          ],
          "pie": [
           {
            "automargin": true,
            "type": "pie"
           }
          ],
          "scatter": [
           {
            "marker": {
             "colorbar": {
              "outlinewidth": 0,
              "ticks": ""
             }
            },
            "type": "scatter"
           }
          ],
          "scatter3d": [
           {
            "line": {
             "colorbar": {
              "outlinewidth": 0,
              "ticks": ""
             }
            },
            "marker": {
             "colorbar": {
              "outlinewidth": 0,
              "ticks": ""
             }
            },
            "type": "scatter3d"
           }
          ],
          "scattercarpet": [
           {
            "marker": {
             "colorbar": {
              "outlinewidth": 0,
              "ticks": ""
             }
            },
            "type": "scattercarpet"
           }
          ],
          "scattergeo": [
           {
            "marker": {
             "colorbar": {
              "outlinewidth": 0,
              "ticks": ""
             }
            },
            "type": "scattergeo"
           }
          ],
          "scattergl": [
           {
            "marker": {
             "colorbar": {
              "outlinewidth": 0,
              "ticks": ""
             }
            },
            "type": "scattergl"
           }
          ],
          "scattermapbox": [
           {
            "marker": {
             "colorbar": {
              "outlinewidth": 0,
              "ticks": ""
             }
            },
            "type": "scattermapbox"
           }
          ],
          "scatterpolar": [
           {
            "marker": {
             "colorbar": {
              "outlinewidth": 0,
              "ticks": ""
             }
            },
            "type": "scatterpolar"
           }
          ],
          "scatterpolargl": [
           {
            "marker": {
             "colorbar": {
              "outlinewidth": 0,
              "ticks": ""
             }
            },
            "type": "scatterpolargl"
           }
          ],
          "scatterternary": [
           {
            "marker": {
             "colorbar": {
              "outlinewidth": 0,
              "ticks": ""
             }
            },
            "type": "scatterternary"
           }
          ],
          "surface": [
           {
            "colorbar": {
             "outlinewidth": 0,
             "ticks": ""
            },
            "colorscale": [
             [
              0,
              "#0d0887"
             ],
             [
              0.1111111111111111,
              "#46039f"
             ],
             [
              0.2222222222222222,
              "#7201a8"
             ],
             [
              0.3333333333333333,
              "#9c179e"
             ],
             [
              0.4444444444444444,
              "#bd3786"
             ],
             [
              0.5555555555555556,
              "#d8576b"
             ],
             [
              0.6666666666666666,
              "#ed7953"
             ],
             [
              0.7777777777777778,
              "#fb9f3a"
             ],
             [
              0.8888888888888888,
              "#fdca26"
             ],
             [
              1,
              "#f0f921"
             ]
            ],
            "type": "surface"
           }
          ],
          "table": [
           {
            "cells": {
             "fill": {
              "color": "#EBF0F8"
             },
             "line": {
              "color": "white"
             }
            },
            "header": {
             "fill": {
              "color": "#C8D4E3"
             },
             "line": {
              "color": "white"
             }
            },
            "type": "table"
           }
          ]
         },
         "layout": {
          "annotationdefaults": {
           "arrowcolor": "#2a3f5f",
           "arrowhead": 0,
           "arrowwidth": 1
          },
          "coloraxis": {
           "colorbar": {
            "outlinewidth": 0,
            "ticks": ""
           }
          },
          "colorscale": {
           "diverging": [
            [
             0,
             "#8e0152"
            ],
            [
             0.1,
             "#c51b7d"
            ],
            [
             0.2,
             "#de77ae"
            ],
            [
             0.3,
             "#f1b6da"
            ],
            [
             0.4,
             "#fde0ef"
            ],
            [
             0.5,
             "#f7f7f7"
            ],
            [
             0.6,
             "#e6f5d0"
            ],
            [
             0.7,
             "#b8e186"
            ],
            [
             0.8,
             "#7fbc41"
            ],
            [
             0.9,
             "#4d9221"
            ],
            [
             1,
             "#276419"
            ]
           ],
           "sequential": [
            [
             0,
             "#0d0887"
            ],
            [
             0.1111111111111111,
             "#46039f"
            ],
            [
             0.2222222222222222,
             "#7201a8"
            ],
            [
             0.3333333333333333,
             "#9c179e"
            ],
            [
             0.4444444444444444,
             "#bd3786"
            ],
            [
             0.5555555555555556,
             "#d8576b"
            ],
            [
             0.6666666666666666,
             "#ed7953"
            ],
            [
             0.7777777777777778,
             "#fb9f3a"
            ],
            [
             0.8888888888888888,
             "#fdca26"
            ],
            [
             1,
             "#f0f921"
            ]
           ],
           "sequentialminus": [
            [
             0,
             "#0d0887"
            ],
            [
             0.1111111111111111,
             "#46039f"
            ],
            [
             0.2222222222222222,
             "#7201a8"
            ],
            [
             0.3333333333333333,
             "#9c179e"
            ],
            [
             0.4444444444444444,
             "#bd3786"
            ],
            [
             0.5555555555555556,
             "#d8576b"
            ],
            [
             0.6666666666666666,
             "#ed7953"
            ],
            [
             0.7777777777777778,
             "#fb9f3a"
            ],
            [
             0.8888888888888888,
             "#fdca26"
            ],
            [
             1,
             "#f0f921"
            ]
           ]
          },
          "colorway": [
           "#636efa",
           "#EF553B",
           "#00cc96",
           "#ab63fa",
           "#FFA15A",
           "#19d3f3",
           "#FF6692",
           "#B6E880",
           "#FF97FF",
           "#FECB52"
          ],
          "font": {
           "color": "#2a3f5f"
          },
          "geo": {
           "bgcolor": "white",
           "lakecolor": "white",
           "landcolor": "#E5ECF6",
           "showlakes": true,
           "showland": true,
           "subunitcolor": "white"
          },
          "hoverlabel": {
           "align": "left"
          },
          "hovermode": "closest",
          "mapbox": {
           "style": "light"
          },
          "paper_bgcolor": "white",
          "plot_bgcolor": "#E5ECF6",
          "polar": {
           "angularaxis": {
            "gridcolor": "white",
            "linecolor": "white",
            "ticks": ""
           },
           "bgcolor": "#E5ECF6",
           "radialaxis": {
            "gridcolor": "white",
            "linecolor": "white",
            "ticks": ""
           }
          },
          "scene": {
           "xaxis": {
            "backgroundcolor": "#E5ECF6",
            "gridcolor": "white",
            "gridwidth": 2,
            "linecolor": "white",
            "showbackground": true,
            "ticks": "",
            "zerolinecolor": "white"
           },
           "yaxis": {
            "backgroundcolor": "#E5ECF6",
            "gridcolor": "white",
            "gridwidth": 2,
            "linecolor": "white",
            "showbackground": true,
            "ticks": "",
            "zerolinecolor": "white"
           },
           "zaxis": {
            "backgroundcolor": "#E5ECF6",
            "gridcolor": "white",
            "gridwidth": 2,
            "linecolor": "white",
            "showbackground": true,
            "ticks": "",
            "zerolinecolor": "white"
           }
          },
          "shapedefaults": {
           "line": {
            "color": "#2a3f5f"
           }
          },
          "ternary": {
           "aaxis": {
            "gridcolor": "white",
            "linecolor": "white",
            "ticks": ""
           },
           "baxis": {
            "gridcolor": "white",
            "linecolor": "white",
            "ticks": ""
           },
           "bgcolor": "#E5ECF6",
           "caxis": {
            "gridcolor": "white",
            "linecolor": "white",
            "ticks": ""
           }
          },
          "title": {
           "x": 0.05
          },
          "xaxis": {
           "automargin": true,
           "gridcolor": "white",
           "linecolor": "white",
           "ticks": "",
           "title": {
            "standoff": 15
           },
           "zerolinecolor": "white",
           "zerolinewidth": 2
          },
          "yaxis": {
           "automargin": true,
           "gridcolor": "white",
           "linecolor": "white",
           "ticks": "",
           "title": {
            "standoff": 15
           },
           "zerolinecolor": "white",
           "zerolinewidth": 2
          }
         }
        },
        "title": {
         "font": {
          "color": "#4D5663"
         }
        },
        "xaxis": {
         "gridcolor": "#E1E5ED",
         "showgrid": true,
         "tickfont": {
          "color": "#4D5663"
         },
         "title": {
          "font": {
           "color": "#4D5663"
          },
          "text": ""
         },
         "zerolinecolor": "#E1E5ED"
        },
        "yaxis": {
         "gridcolor": "#E1E5ED",
         "showgrid": true,
         "tickfont": {
          "color": "#4D5663"
         },
         "title": {
          "font": {
           "color": "#4D5663"
          },
          "text": ""
         },
         "zerolinecolor": "#E1E5ED"
        }
       }
      },
      "text/html": [
       "<div>\n",
       "        \n",
       "        \n",
       "            <div id=\"aba628f9-ac22-4b4b-ace3-4a87adc388cc\" class=\"plotly-graph-div\" style=\"height:525px; width:100%;\"></div>\n",
       "            <script type=\"text/javascript\">\n",
       "                require([\"plotly\"], function(Plotly) {\n",
       "                    window.PLOTLYENV=window.PLOTLYENV || {};\n",
       "                    window.PLOTLYENV.BASE_URL='https://plot.ly';\n",
       "                    \n",
       "                if (document.getElementById(\"aba628f9-ac22-4b4b-ace3-4a87adc388cc\")) {\n",
       "                    Plotly.newPlot(\n",
       "                        'aba628f9-ac22-4b4b-ace3-4a87adc388cc',\n",
       "                        [{\"marker\": {\"color\": \"rgba(255, 153, 51, 0.6)\", \"line\": {\"color\": \"rgba(255, 153, 51, 1.0)\", \"width\": 1}}, \"name\": \"None\", \"orientation\": \"v\", \"text\": \"\", \"type\": \"bar\", \"x\": [\"A\", \"B\", \"C\", \"D\"], \"y\": [-3.8240117484500726, -0.3058835630157768, 4.770709964577067, -1.7535996210612659]}],\n",
       "                        {\"legend\": {\"bgcolor\": \"#F5F6F9\", \"font\": {\"color\": \"#4D5663\"}}, \"paper_bgcolor\": \"#F5F6F9\", \"plot_bgcolor\": \"#F5F6F9\", \"template\": {\"data\": {\"bar\": [{\"error_x\": {\"color\": \"#2a3f5f\"}, \"error_y\": {\"color\": \"#2a3f5f\"}, \"marker\": {\"line\": {\"color\": \"#E5ECF6\", \"width\": 0.5}}, \"type\": \"bar\"}], \"barpolar\": [{\"marker\": {\"line\": {\"color\": \"#E5ECF6\", \"width\": 0.5}}, \"type\": \"barpolar\"}], \"carpet\": [{\"aaxis\": {\"endlinecolor\": \"#2a3f5f\", \"gridcolor\": \"white\", \"linecolor\": \"white\", \"minorgridcolor\": \"white\", \"startlinecolor\": \"#2a3f5f\"}, \"baxis\": {\"endlinecolor\": \"#2a3f5f\", \"gridcolor\": \"white\", \"linecolor\": \"white\", \"minorgridcolor\": \"white\", \"startlinecolor\": \"#2a3f5f\"}, \"type\": \"carpet\"}], \"choropleth\": [{\"colorbar\": {\"outlinewidth\": 0, \"ticks\": \"\"}, \"type\": \"choropleth\"}], \"contour\": [{\"colorbar\": {\"outlinewidth\": 0, \"ticks\": \"\"}, \"colorscale\": [[0.0, \"#0d0887\"], [0.1111111111111111, \"#46039f\"], [0.2222222222222222, \"#7201a8\"], [0.3333333333333333, \"#9c179e\"], [0.4444444444444444, \"#bd3786\"], [0.5555555555555556, \"#d8576b\"], [0.6666666666666666, \"#ed7953\"], [0.7777777777777778, \"#fb9f3a\"], [0.8888888888888888, \"#fdca26\"], [1.0, \"#f0f921\"]], \"type\": \"contour\"}], \"contourcarpet\": [{\"colorbar\": {\"outlinewidth\": 0, \"ticks\": \"\"}, \"type\": \"contourcarpet\"}], \"heatmap\": [{\"colorbar\": {\"outlinewidth\": 0, \"ticks\": \"\"}, \"colorscale\": [[0.0, \"#0d0887\"], [0.1111111111111111, \"#46039f\"], [0.2222222222222222, \"#7201a8\"], [0.3333333333333333, \"#9c179e\"], [0.4444444444444444, \"#bd3786\"], [0.5555555555555556, \"#d8576b\"], [0.6666666666666666, \"#ed7953\"], [0.7777777777777778, \"#fb9f3a\"], [0.8888888888888888, \"#fdca26\"], [1.0, \"#f0f921\"]], \"type\": \"heatmap\"}], \"heatmapgl\": [{\"colorbar\": {\"outlinewidth\": 0, \"ticks\": \"\"}, \"colorscale\": [[0.0, \"#0d0887\"], [0.1111111111111111, \"#46039f\"], [0.2222222222222222, \"#7201a8\"], [0.3333333333333333, \"#9c179e\"], [0.4444444444444444, \"#bd3786\"], [0.5555555555555556, \"#d8576b\"], [0.6666666666666666, \"#ed7953\"], [0.7777777777777778, \"#fb9f3a\"], [0.8888888888888888, \"#fdca26\"], [1.0, \"#f0f921\"]], \"type\": \"heatmapgl\"}], \"histogram\": [{\"marker\": {\"colorbar\": {\"outlinewidth\": 0, \"ticks\": \"\"}}, \"type\": \"histogram\"}], \"histogram2d\": [{\"colorbar\": {\"outlinewidth\": 0, \"ticks\": \"\"}, \"colorscale\": [[0.0, \"#0d0887\"], [0.1111111111111111, \"#46039f\"], [0.2222222222222222, \"#7201a8\"], [0.3333333333333333, \"#9c179e\"], [0.4444444444444444, \"#bd3786\"], [0.5555555555555556, \"#d8576b\"], [0.6666666666666666, \"#ed7953\"], [0.7777777777777778, \"#fb9f3a\"], [0.8888888888888888, \"#fdca26\"], [1.0, \"#f0f921\"]], \"type\": \"histogram2d\"}], \"histogram2dcontour\": [{\"colorbar\": {\"outlinewidth\": 0, \"ticks\": \"\"}, \"colorscale\": [[0.0, \"#0d0887\"], [0.1111111111111111, \"#46039f\"], [0.2222222222222222, \"#7201a8\"], [0.3333333333333333, \"#9c179e\"], [0.4444444444444444, \"#bd3786\"], [0.5555555555555556, \"#d8576b\"], [0.6666666666666666, \"#ed7953\"], [0.7777777777777778, \"#fb9f3a\"], [0.8888888888888888, \"#fdca26\"], [1.0, \"#f0f921\"]], \"type\": \"histogram2dcontour\"}], \"mesh3d\": [{\"colorbar\": {\"outlinewidth\": 0, \"ticks\": \"\"}, \"type\": \"mesh3d\"}], \"parcoords\": [{\"line\": {\"colorbar\": {\"outlinewidth\": 0, \"ticks\": \"\"}}, \"type\": \"parcoords\"}], \"pie\": [{\"automargin\": true, \"type\": \"pie\"}], \"scatter\": [{\"marker\": {\"colorbar\": {\"outlinewidth\": 0, \"ticks\": \"\"}}, \"type\": \"scatter\"}], \"scatter3d\": [{\"line\": {\"colorbar\": {\"outlinewidth\": 0, \"ticks\": \"\"}}, \"marker\": {\"colorbar\": {\"outlinewidth\": 0, \"ticks\": \"\"}}, \"type\": \"scatter3d\"}], \"scattercarpet\": [{\"marker\": {\"colorbar\": {\"outlinewidth\": 0, \"ticks\": \"\"}}, \"type\": \"scattercarpet\"}], \"scattergeo\": [{\"marker\": {\"colorbar\": {\"outlinewidth\": 0, \"ticks\": \"\"}}, \"type\": \"scattergeo\"}], \"scattergl\": [{\"marker\": {\"colorbar\": {\"outlinewidth\": 0, \"ticks\": \"\"}}, \"type\": \"scattergl\"}], \"scattermapbox\": [{\"marker\": {\"colorbar\": {\"outlinewidth\": 0, \"ticks\": \"\"}}, \"type\": \"scattermapbox\"}], \"scatterpolar\": [{\"marker\": {\"colorbar\": {\"outlinewidth\": 0, \"ticks\": \"\"}}, \"type\": \"scatterpolar\"}], \"scatterpolargl\": [{\"marker\": {\"colorbar\": {\"outlinewidth\": 0, \"ticks\": \"\"}}, \"type\": \"scatterpolargl\"}], \"scatterternary\": [{\"marker\": {\"colorbar\": {\"outlinewidth\": 0, \"ticks\": \"\"}}, \"type\": \"scatterternary\"}], \"surface\": [{\"colorbar\": {\"outlinewidth\": 0, \"ticks\": \"\"}, \"colorscale\": [[0.0, \"#0d0887\"], [0.1111111111111111, \"#46039f\"], [0.2222222222222222, \"#7201a8\"], [0.3333333333333333, \"#9c179e\"], [0.4444444444444444, \"#bd3786\"], [0.5555555555555556, \"#d8576b\"], [0.6666666666666666, \"#ed7953\"], [0.7777777777777778, \"#fb9f3a\"], [0.8888888888888888, \"#fdca26\"], [1.0, \"#f0f921\"]], \"type\": \"surface\"}], \"table\": [{\"cells\": {\"fill\": {\"color\": \"#EBF0F8\"}, \"line\": {\"color\": \"white\"}}, \"header\": {\"fill\": {\"color\": \"#C8D4E3\"}, \"line\": {\"color\": \"white\"}}, \"type\": \"table\"}]}, \"layout\": {\"annotationdefaults\": {\"arrowcolor\": \"#2a3f5f\", \"arrowhead\": 0, \"arrowwidth\": 1}, \"coloraxis\": {\"colorbar\": {\"outlinewidth\": 0, \"ticks\": \"\"}}, \"colorscale\": {\"diverging\": [[0, \"#8e0152\"], [0.1, \"#c51b7d\"], [0.2, \"#de77ae\"], [0.3, \"#f1b6da\"], [0.4, \"#fde0ef\"], [0.5, \"#f7f7f7\"], [0.6, \"#e6f5d0\"], [0.7, \"#b8e186\"], [0.8, \"#7fbc41\"], [0.9, \"#4d9221\"], [1, \"#276419\"]], \"sequential\": [[0.0, \"#0d0887\"], [0.1111111111111111, \"#46039f\"], [0.2222222222222222, \"#7201a8\"], [0.3333333333333333, \"#9c179e\"], [0.4444444444444444, \"#bd3786\"], [0.5555555555555556, \"#d8576b\"], [0.6666666666666666, \"#ed7953\"], [0.7777777777777778, \"#fb9f3a\"], [0.8888888888888888, \"#fdca26\"], [1.0, \"#f0f921\"]], \"sequentialminus\": [[0.0, \"#0d0887\"], [0.1111111111111111, \"#46039f\"], [0.2222222222222222, \"#7201a8\"], [0.3333333333333333, \"#9c179e\"], [0.4444444444444444, \"#bd3786\"], [0.5555555555555556, \"#d8576b\"], [0.6666666666666666, \"#ed7953\"], [0.7777777777777778, \"#fb9f3a\"], [0.8888888888888888, \"#fdca26\"], [1.0, \"#f0f921\"]]}, \"colorway\": [\"#636efa\", \"#EF553B\", \"#00cc96\", \"#ab63fa\", \"#FFA15A\", \"#19d3f3\", \"#FF6692\", \"#B6E880\", \"#FF97FF\", \"#FECB52\"], \"font\": {\"color\": \"#2a3f5f\"}, \"geo\": {\"bgcolor\": \"white\", \"lakecolor\": \"white\", \"landcolor\": \"#E5ECF6\", \"showlakes\": true, \"showland\": true, \"subunitcolor\": \"white\"}, \"hoverlabel\": {\"align\": \"left\"}, \"hovermode\": \"closest\", \"mapbox\": {\"style\": \"light\"}, \"paper_bgcolor\": \"white\", \"plot_bgcolor\": \"#E5ECF6\", \"polar\": {\"angularaxis\": {\"gridcolor\": \"white\", \"linecolor\": \"white\", \"ticks\": \"\"}, \"bgcolor\": \"#E5ECF6\", \"radialaxis\": {\"gridcolor\": \"white\", \"linecolor\": \"white\", \"ticks\": \"\"}}, \"scene\": {\"xaxis\": {\"backgroundcolor\": \"#E5ECF6\", \"gridcolor\": \"white\", \"gridwidth\": 2, \"linecolor\": \"white\", \"showbackground\": true, \"ticks\": \"\", \"zerolinecolor\": \"white\"}, \"yaxis\": {\"backgroundcolor\": \"#E5ECF6\", \"gridcolor\": \"white\", \"gridwidth\": 2, \"linecolor\": \"white\", \"showbackground\": true, \"ticks\": \"\", \"zerolinecolor\": \"white\"}, \"zaxis\": {\"backgroundcolor\": \"#E5ECF6\", \"gridcolor\": \"white\", \"gridwidth\": 2, \"linecolor\": \"white\", \"showbackground\": true, \"ticks\": \"\", \"zerolinecolor\": \"white\"}}, \"shapedefaults\": {\"line\": {\"color\": \"#2a3f5f\"}}, \"ternary\": {\"aaxis\": {\"gridcolor\": \"white\", \"linecolor\": \"white\", \"ticks\": \"\"}, \"baxis\": {\"gridcolor\": \"white\", \"linecolor\": \"white\", \"ticks\": \"\"}, \"bgcolor\": \"#E5ECF6\", \"caxis\": {\"gridcolor\": \"white\", \"linecolor\": \"white\", \"ticks\": \"\"}}, \"title\": {\"x\": 0.05}, \"xaxis\": {\"automargin\": true, \"gridcolor\": \"white\", \"linecolor\": \"white\", \"ticks\": \"\", \"title\": {\"standoff\": 15}, \"zerolinecolor\": \"white\", \"zerolinewidth\": 2}, \"yaxis\": {\"automargin\": true, \"gridcolor\": \"white\", \"linecolor\": \"white\", \"ticks\": \"\", \"title\": {\"standoff\": 15}, \"zerolinecolor\": \"white\", \"zerolinewidth\": 2}}}, \"title\": {\"font\": {\"color\": \"#4D5663\"}}, \"xaxis\": {\"gridcolor\": \"#E1E5ED\", \"showgrid\": true, \"tickfont\": {\"color\": \"#4D5663\"}, \"title\": {\"font\": {\"color\": \"#4D5663\"}, \"text\": \"\"}, \"zerolinecolor\": \"#E1E5ED\"}, \"yaxis\": {\"gridcolor\": \"#E1E5ED\", \"showgrid\": true, \"tickfont\": {\"color\": \"#4D5663\"}, \"title\": {\"font\": {\"color\": \"#4D5663\"}, \"text\": \"\"}, \"zerolinecolor\": \"#E1E5ED\"}},\n",
       "                        {\"showLink\": true, \"linkText\": \"Export to plot.ly\", \"plotlyServerURL\": \"https://plot.ly\", \"responsive\": true}\n",
       "                    ).then(function(){\n",
       "                            \n",
       "var gd = document.getElementById('aba628f9-ac22-4b4b-ace3-4a87adc388cc');\n",
       "var x = new MutationObserver(function (mutations, observer) {{\n",
       "        var display = window.getComputedStyle(gd).display;\n",
       "        if (!display || display === 'none') {{\n",
       "            console.log([gd, 'removed!']);\n",
       "            Plotly.purge(gd);\n",
       "            observer.disconnect();\n",
       "        }}\n",
       "}});\n",
       "\n",
       "// Listen for the removal of the full notebook cells\n",
       "var notebookContainer = gd.closest('#notebook-container');\n",
       "if (notebookContainer) {{\n",
       "    x.observe(notebookContainer, {childList: true});\n",
       "}}\n",
       "\n",
       "// Listen for the clearing of the current output cell\n",
       "var outputEl = gd.closest('.output');\n",
       "if (outputEl) {{\n",
       "    x.observe(outputEl, {childList: true});\n",
       "}}\n",
       "\n",
       "                        })\n",
       "                };\n",
       "                });\n",
       "            </script>\n",
       "        </div>"
      ]
     },
     "metadata": {},
     "output_type": "display_data"
    }
   ],
   "source": [
    "df.sum().iplot(kind='bar')"
   ]
  },
  {
   "cell_type": "markdown",
   "metadata": {
    "colab_type": "text",
    "id": "jglN-wzMiSsf"
   },
   "source": [
    "**Gráficos de Boxplots**"
   ]
  },
  {
   "cell_type": "markdown",
   "metadata": {
    "colab_type": "text",
    "id": "TltCl89qiSsg"
   },
   "source": [
    "`Basta clicar no item da legenda a direita para habilitar ou desabilitar o dado da coluna`"
   ]
  },
  {
   "cell_type": "code",
   "execution_count": 11,
   "metadata": {
    "colab": {
     "base_uri": "https://localhost:8080/",
     "height": 542
    },
    "colab_type": "code",
    "executionInfo": {
     "elapsed": 922,
     "status": "ok",
     "timestamp": 1557594687005,
     "user": {
      "displayName": "Rodrigo Santana Ferreira",
      "photoUrl": "https://lh5.googleusercontent.com/-w5AmPcUma78/AAAAAAAAAAI/AAAAAAAAAPw/2VfgXe2k7sI/s64/photo.jpg",
      "userId": "14710330936720624047"
     },
     "user_tz": 180
    },
    "id": "vQy7HuoEiSsh",
    "outputId": "2c0dc6c8-8b28-45de-c6da-2c27818d68be"
   },
   "outputs": [
    {
     "data": {
      "application/vnd.plotly.v1+json": {
       "config": {
        "linkText": "Export to plot.ly",
        "plotlyServerURL": "https://plot.ly",
        "showLink": true
       },
       "data": [
        {
         "boxpoints": false,
         "line": {
          "width": 1.3
         },
         "marker": {
          "color": "rgba(255, 153, 51, 1.0)"
         },
         "name": "A",
         "orientation": "v",
         "type": "box",
         "y": [
          -0.7583625624564826,
          -1.3608135229511027,
          -0.4479688305343663,
          0.25774244428547427,
          -1.6375797293120589,
          -1.0464472057363499,
          1.407325001211225,
          0.276515190255223,
          -0.07316231716756455,
          2.379354983246018,
          1.4416105167771618,
          -2.000675616366275,
          0.599410615388733,
          -1.178157640116541,
          0.8361646635083623,
          1.4209061515389503,
          -1.3772200926778893,
          -1.5330137697628772,
          0.8434488796566412,
          -0.44264142554813973,
          0.7729395311461773,
          -1.186536053062794,
          1.0672315844310665,
          -0.1786475895640133,
          -1.6899719904233519,
          0.8146648919282323,
          -2.541055625678114,
          0.8784841697785496,
          0.32813550809478664,
          1.3136723060501312,
          0.5798422821158166,
          -0.15028112198881133,
          -0.39350857873322376,
          1.8687332552959848,
          1.4996776154237408,
          -2.5978587935254813,
          -0.08418728423004833,
          -1.7130754548765064,
          -0.34219415505953205,
          1.2976144427300302,
          0.7997008822259573,
          -1.9145673952331954,
          0.32403830118956695,
          0.9669468742916221,
          -0.3954521090418044,
          -0.5156640132664189,
          0.6325874104204111,
          -0.7730210344534597,
          -1.0278926686068846,
          -0.8064923341963592,
          -0.5283860770954497,
          0.05805052625083211,
          -0.5341935453073812,
          -0.6306038151611613,
          0.19618964614138615,
          -0.567501753503357,
          1.3116043337251144,
          1.0625570541938478,
          0.1630190918246739,
          -0.17520577021292585,
          -0.7448259321076729,
          -0.06589108782314983,
          1.2263868994742944,
          0.9973104846473738,
          -0.8586695931733282,
          0.4007921932156928,
          0.6476480167091756,
          0.5806680435925301,
          0.41667800079466144,
          0.18080111431959658,
          -0.6549009506176735,
          -1.5624811820852393,
          -1.9034379481414605,
          1.2036040733411644,
          1.5416853504730623,
          0.644723358337419,
          0.5148614190703861,
          -1.9213061654349335,
          0.35505322896128755,
          0.8491838985035705,
          -1.0502790566937863,
          0.013051058769516184,
          1.6146659697158963,
          -1.0749070393039928,
          -0.6616722006760997,
          -0.3743145259476359,
          -2.4924831145939095,
          -0.16545246379299003,
          2.1703012992627992,
          -1.2602863121320913,
          -0.7676530026819841,
          0.0843467501757799,
          -0.2807271956647446,
          0.4241491799250738,
          1.2569983568147862,
          0.33073957061440273,
          -0.21585240846311052,
          1.4033361423654584,
          0.12416679561973377,
          0.45414894890427215
         ]
        },
        {
         "boxpoints": false,
         "line": {
          "width": 1.3
         },
         "marker": {
          "color": "rgba(55, 128, 191, 1.0)"
         },
         "name": "B",
         "orientation": "v",
         "type": "box",
         "y": [
          0.9051120349846424,
          1.1315731612883049,
          0.4889535391167449,
          -0.411827350510033,
          1.7437582525448498,
          0.8754875880381073,
          -1.612719409098891,
          1.2673782176917372,
          0.34610407515785685,
          -0.8734634626765565,
          0.5080615811518349,
          0.3786949114985083,
          0.8549394182735643,
          -1.1727436261908517,
          0.278079586528356,
          -2.086519140021561,
          0.9558921986334105,
          -2.1412044407561335,
          1.5908599450759613,
          -0.38037367059143695,
          -0.33823974441909016,
          0.5148757793898513,
          0.06431934032079333,
          -0.6192210839283654,
          0.6364993369072576,
          0.5238573577202742,
          2.5123333500021423,
          -0.7385360908208347,
          1.5357500979181817,
          1.5724495278522659,
          0.6633106187533743,
          0.1913510422791749,
          -0.9852937680279761,
          0.4866604508534319,
          -1.5691043539958625,
          -0.5457214474250892,
          -2.650467246676767,
          -0.4096399990779472,
          -0.44165613080647653,
          -1.6114045136155386,
          0.3372243946613703,
          0.09216459763101896,
          0.4408702411197516,
          1.026794643555709,
          -0.787067876624869,
          0.274085340958029,
          0.6432038230781414,
          0.11625200510070811,
          -0.11400215542141642,
          1.1678648365076898,
          0.6381872954128966,
          -0.10906986258298167,
          0.40314926362595793,
          -1.4061921229295076,
          -0.8949388605476665,
          -0.6797123989402232,
          0.681267680316777,
          -1.5973585952033058,
          0.9990493726980721,
          -0.9268111651857517,
          -0.7197683145996996,
          0.18706094517469868,
          -1.1137685782674145,
          -0.8981843019223013,
          -0.008022352656607114,
          -0.46902423130002263,
          -1.0663496382780207,
          1.2930554005359125,
          -0.12481695277229017,
          0.8763289665253956,
          -0.15234775564968409,
          0.7815603667800463,
          -0.3711497040527381,
          -0.735133518142438,
          1.0719608777778922,
          -1.8110615652327744,
          -0.21451545478894662,
          -1.0000693418566864,
          -1.2492276001592144,
          -0.46780364099239063,
          0.1472438174569735,
          0.26416988245785844,
          0.6659503106264842,
          1.4700345976857954,
          1.077675298771589,
          1.1078248664225065,
          -0.7199081897875417,
          0.6037307814365238,
          -1.2541232782328138,
          -0.4445705528975758,
          -0.5995953052364829,
          0.8703773020736415,
          1.240967816138145,
          -0.23458836833371494,
          1.3626315874217745,
          -0.34003054967360213,
          0.28031746369473,
          -0.6342169480234975,
          0.6748537839853154,
          -1.3964778756962182
         ]
        },
        {
         "boxpoints": false,
         "line": {
          "width": 1.3
         },
         "marker": {
          "color": "rgba(50, 171, 96, 1.0)"
         },
         "name": "C",
         "orientation": "v",
         "type": "box",
         "y": [
          -0.444678500480317,
          0.0933498848400473,
          0.9355087974997555,
          -1.106441630487202,
          0.7870975629687152,
          0.21808060888783593,
          0.19245161375740785,
          0.058978349501044657,
          -0.8714541206370889,
          1.6723359190038503,
          -0.9521959925693669,
          0.25982368775406417,
          0.4329967486845554,
          0.9585187647681762,
          -1.79933573560346,
          2.2571466440543344,
          0.27242090370105326,
          -3.041426982646799,
          -0.7379674589948564,
          0.21321722437944604,
          0.3744406483158536,
          1.8794147199102167,
          0.5865594775587016,
          -0.3723330026710341,
          -0.21256708491681514,
          1.2175066431034185,
          0.9503232313646496,
          1.7526010217049393,
          -0.6255769714716065,
          -0.8150989477464166,
          0.1900069841307442,
          -0.6573140026719146,
          1.3123490852146837,
          -0.20521456260004223,
          -0.8280753332366754,
          -2.1789891770225105,
          -1.7227530897526353,
          1.2860266607255277,
          0.417423466170257,
          -1.408581550401666,
          -1.0147418694696868,
          1.0617865770644983,
          -2.1357693694007693,
          0.6316085302784928,
          1.0548351609959814,
          -1.821383374322361,
          1.1794682397233458,
          0.7800559142128144,
          1.5175952940754551,
          -0.20063016325093158,
          1.469109182383053,
          0.33064590666961946,
          -1.5329746111023028,
          1.4876464359770907,
          0.7368765553019965,
          0.2556196982451411,
          1.496074295060987,
          -0.25594776352614945,
          -1.0302066787914688,
          0.3771702792035409,
          1.5954550568745687,
          -1.8239541572520326,
          -0.6292071703871251,
          0.8569283151606543,
          0.19021096842866161,
          0.6607647699069801,
          -0.0016000980015075767,
          -0.6033609765671395,
          0.6926557249524916,
          0.13880646341418457,
          -1.3362928951925246,
          0.5040296861060063,
          2.5601117800980524,
          -0.983051918444861,
          -0.7450095718104365,
          -0.8245934015034929,
          -1.1246483229871902,
          -0.6547441335375387,
          -0.8088996560125555,
          -0.0966860051066942,
          -1.4863921450232944,
          0.18967390658638197,
          0.15908685829749233,
          -0.2691504733360306,
          -0.18560225336486053,
          0.1001975328112677,
          -0.4706507089738137,
          0.2368759547272725,
          0.6644170545061568,
          -0.11309520573149913,
          1.1829406966617049,
          -1.0833015314373051,
          -0.15088069839314402,
          -0.2652424034024619,
          0.8990779222502281,
          -0.030734197118241203,
          -0.46028230155709343,
          2.0393872169244824,
          0.3883702636590222,
          1.133687274935083
         ]
        },
        {
         "boxpoints": false,
         "line": {
          "width": 1.3
         },
         "marker": {
          "color": "rgba(128, 0, 128, 1.0)"
         },
         "name": "D",
         "orientation": "v",
         "type": "box",
         "y": [
          -0.14243188168373888,
          -1.0729907558568355,
          0.44733250377667716,
          -1.1897147775895982,
          1.092741516710888,
          -0.06091528550317952,
          0.10743674606032749,
          0.9042940695647604,
          0.5303819578975205,
          1.9992339800473369,
          0.6456010371124833,
          -0.7962804132728767,
          -0.5815192392519256,
          0.2597767876385269,
          -2.459883288053741,
          -0.4082992590619642,
          0.39686139282285504,
          -0.10328064655423272,
          -1.1573545857701342,
          -1.7466222324347853,
          -1.6081787740748272,
          0.042610628533974994,
          1.7131089103702466,
          -0.33970182084475636,
          -0.9583274897717958,
          0.8309717943957573,
          -1.8513065553096661,
          -0.43667935832435667,
          -1.3202801094129164,
          0.19412359694222966,
          0.3863753886878289,
          2.262504342957885,
          -1.1789996565844338,
          0.8610049877785335,
          0.35020646357557556,
          -0.4526706099620868,
          -1.4208827518870466,
          -2.0336415880196306,
          -0.6028790992919976,
          -0.6667505056960525,
          1.034085965991731,
          1.6862381136516247,
          0.9671590675760109,
          0.4687702824218409,
          -0.11354411524057219,
          1.7598471377692582,
          -0.3133961636622412,
          0.7968082245207883,
          -0.8123852383043507,
          -0.1815538188028146,
          -1.2010576577637924,
          0.623379003526806,
          -0.2905917132234972,
          1.0907162251266591,
          -0.943052216702706,
          -0.6358961634386422,
          0.8238944357128126,
          -1.6910025282864853,
          -0.5360314141734744,
          -0.2858234600755065,
          0.11739560318332833,
          1.3392357088416103,
          -0.12730657094197811,
          -0.355344981254377,
          -0.7888413181153048,
          0.010846103051945897,
          2.4643060780738653,
          0.2688894084296869,
          -0.6761623948082517,
          -0.46228423544452435,
          -0.06823119920909179,
          0.5507682072831712,
          -1.4092521832676117,
          0.11165070595437765,
          1.0816741381089106,
          0.00012294423731891224,
          1.6864532375657582,
          -0.21634623521220717,
          1.4069369181982865,
          0.14000154269529902,
          -1.056975185245624,
          -1.454774926494647,
          0.8077501687969396,
          -0.6826502496255977,
          0.6344953632035505,
          -0.15940212485395602,
          1.3448374706334436,
          0.5273274117487469,
          -0.5514095718479104,
          0.3176860475959556,
          -0.0325566071623441,
          -0.0673720916980821,
          0.9991691910935454,
          0.4772946025924812,
          0.9458312063212977,
          -1.1631663106908554,
          1.0876781943861205,
          -0.5592269267673681,
          -0.4905467928214895,
          -0.43363935487996075
         ]
        }
       ],
       "layout": {
        "legend": {
         "bgcolor": "#F5F6F9",
         "font": {
          "color": "#4D5663"
         }
        },
        "paper_bgcolor": "#F5F6F9",
        "plot_bgcolor": "#F5F6F9",
        "template": {
         "data": {
          "bar": [
           {
            "error_x": {
             "color": "#2a3f5f"
            },
            "error_y": {
             "color": "#2a3f5f"
            },
            "marker": {
             "line": {
              "color": "#E5ECF6",
              "width": 0.5
             }
            },
            "type": "bar"
           }
          ],
          "barpolar": [
           {
            "marker": {
             "line": {
              "color": "#E5ECF6",
              "width": 0.5
             }
            },
            "type": "barpolar"
           }
          ],
          "carpet": [
           {
            "aaxis": {
             "endlinecolor": "#2a3f5f",
             "gridcolor": "white",
             "linecolor": "white",
             "minorgridcolor": "white",
             "startlinecolor": "#2a3f5f"
            },
            "baxis": {
             "endlinecolor": "#2a3f5f",
             "gridcolor": "white",
             "linecolor": "white",
             "minorgridcolor": "white",
             "startlinecolor": "#2a3f5f"
            },
            "type": "carpet"
           }
          ],
          "choropleth": [
           {
            "colorbar": {
             "outlinewidth": 0,
             "ticks": ""
            },
            "type": "choropleth"
           }
          ],
          "contour": [
           {
            "colorbar": {
             "outlinewidth": 0,
             "ticks": ""
            },
            "colorscale": [
             [
              0,
              "#0d0887"
             ],
             [
              0.1111111111111111,
              "#46039f"
             ],
             [
              0.2222222222222222,
              "#7201a8"
             ],
             [
              0.3333333333333333,
              "#9c179e"
             ],
             [
              0.4444444444444444,
              "#bd3786"
             ],
             [
              0.5555555555555556,
              "#d8576b"
             ],
             [
              0.6666666666666666,
              "#ed7953"
             ],
             [
              0.7777777777777778,
              "#fb9f3a"
             ],
             [
              0.8888888888888888,
              "#fdca26"
             ],
             [
              1,
              "#f0f921"
             ]
            ],
            "type": "contour"
           }
          ],
          "contourcarpet": [
           {
            "colorbar": {
             "outlinewidth": 0,
             "ticks": ""
            },
            "type": "contourcarpet"
           }
          ],
          "heatmap": [
           {
            "colorbar": {
             "outlinewidth": 0,
             "ticks": ""
            },
            "colorscale": [
             [
              0,
              "#0d0887"
             ],
             [
              0.1111111111111111,
              "#46039f"
             ],
             [
              0.2222222222222222,
              "#7201a8"
             ],
             [
              0.3333333333333333,
              "#9c179e"
             ],
             [
              0.4444444444444444,
              "#bd3786"
             ],
             [
              0.5555555555555556,
              "#d8576b"
             ],
             [
              0.6666666666666666,
              "#ed7953"
             ],
             [
              0.7777777777777778,
              "#fb9f3a"
             ],
             [
              0.8888888888888888,
              "#fdca26"
             ],
             [
              1,
              "#f0f921"
             ]
            ],
            "type": "heatmap"
           }
          ],
          "heatmapgl": [
           {
            "colorbar": {
             "outlinewidth": 0,
             "ticks": ""
            },
            "colorscale": [
             [
              0,
              "#0d0887"
             ],
             [
              0.1111111111111111,
              "#46039f"
             ],
             [
              0.2222222222222222,
              "#7201a8"
             ],
             [
              0.3333333333333333,
              "#9c179e"
             ],
             [
              0.4444444444444444,
              "#bd3786"
             ],
             [
              0.5555555555555556,
              "#d8576b"
             ],
             [
              0.6666666666666666,
              "#ed7953"
             ],
             [
              0.7777777777777778,
              "#fb9f3a"
             ],
             [
              0.8888888888888888,
              "#fdca26"
             ],
             [
              1,
              "#f0f921"
             ]
            ],
            "type": "heatmapgl"
           }
          ],
          "histogram": [
           {
            "marker": {
             "colorbar": {
              "outlinewidth": 0,
              "ticks": ""
             }
            },
            "type": "histogram"
           }
          ],
          "histogram2d": [
           {
            "colorbar": {
             "outlinewidth": 0,
             "ticks": ""
            },
            "colorscale": [
             [
              0,
              "#0d0887"
             ],
             [
              0.1111111111111111,
              "#46039f"
             ],
             [
              0.2222222222222222,
              "#7201a8"
             ],
             [
              0.3333333333333333,
              "#9c179e"
             ],
             [
              0.4444444444444444,
              "#bd3786"
             ],
             [
              0.5555555555555556,
              "#d8576b"
             ],
             [
              0.6666666666666666,
              "#ed7953"
             ],
             [
              0.7777777777777778,
              "#fb9f3a"
             ],
             [
              0.8888888888888888,
              "#fdca26"
             ],
             [
              1,
              "#f0f921"
             ]
            ],
            "type": "histogram2d"
           }
          ],
          "histogram2dcontour": [
           {
            "colorbar": {
             "outlinewidth": 0,
             "ticks": ""
            },
            "colorscale": [
             [
              0,
              "#0d0887"
             ],
             [
              0.1111111111111111,
              "#46039f"
             ],
             [
              0.2222222222222222,
              "#7201a8"
             ],
             [
              0.3333333333333333,
              "#9c179e"
             ],
             [
              0.4444444444444444,
              "#bd3786"
             ],
             [
              0.5555555555555556,
              "#d8576b"
             ],
             [
              0.6666666666666666,
              "#ed7953"
             ],
             [
              0.7777777777777778,
              "#fb9f3a"
             ],
             [
              0.8888888888888888,
              "#fdca26"
             ],
             [
              1,
              "#f0f921"
             ]
            ],
            "type": "histogram2dcontour"
           }
          ],
          "mesh3d": [
           {
            "colorbar": {
             "outlinewidth": 0,
             "ticks": ""
            },
            "type": "mesh3d"
           }
          ],
          "parcoords": [
           {
            "line": {
             "colorbar": {
              "outlinewidth": 0,
              "ticks": ""
             }
            },
            "type": "parcoords"
           }
          ],
          "pie": [
           {
            "automargin": true,
            "type": "pie"
           }
          ],
          "scatter": [
           {
            "marker": {
             "colorbar": {
              "outlinewidth": 0,
              "ticks": ""
             }
            },
            "type": "scatter"
           }
          ],
          "scatter3d": [
           {
            "line": {
             "colorbar": {
              "outlinewidth": 0,
              "ticks": ""
             }
            },
            "marker": {
             "colorbar": {
              "outlinewidth": 0,
              "ticks": ""
             }
            },
            "type": "scatter3d"
           }
          ],
          "scattercarpet": [
           {
            "marker": {
             "colorbar": {
              "outlinewidth": 0,
              "ticks": ""
             }
            },
            "type": "scattercarpet"
           }
          ],
          "scattergeo": [
           {
            "marker": {
             "colorbar": {
              "outlinewidth": 0,
              "ticks": ""
             }
            },
            "type": "scattergeo"
           }
          ],
          "scattergl": [
           {
            "marker": {
             "colorbar": {
              "outlinewidth": 0,
              "ticks": ""
             }
            },
            "type": "scattergl"
           }
          ],
          "scattermapbox": [
           {
            "marker": {
             "colorbar": {
              "outlinewidth": 0,
              "ticks": ""
             }
            },
            "type": "scattermapbox"
           }
          ],
          "scatterpolar": [
           {
            "marker": {
             "colorbar": {
              "outlinewidth": 0,
              "ticks": ""
             }
            },
            "type": "scatterpolar"
           }
          ],
          "scatterpolargl": [
           {
            "marker": {
             "colorbar": {
              "outlinewidth": 0,
              "ticks": ""
             }
            },
            "type": "scatterpolargl"
           }
          ],
          "scatterternary": [
           {
            "marker": {
             "colorbar": {
              "outlinewidth": 0,
              "ticks": ""
             }
            },
            "type": "scatterternary"
           }
          ],
          "surface": [
           {
            "colorbar": {
             "outlinewidth": 0,
             "ticks": ""
            },
            "colorscale": [
             [
              0,
              "#0d0887"
             ],
             [
              0.1111111111111111,
              "#46039f"
             ],
             [
              0.2222222222222222,
              "#7201a8"
             ],
             [
              0.3333333333333333,
              "#9c179e"
             ],
             [
              0.4444444444444444,
              "#bd3786"
             ],
             [
              0.5555555555555556,
              "#d8576b"
             ],
             [
              0.6666666666666666,
              "#ed7953"
             ],
             [
              0.7777777777777778,
              "#fb9f3a"
             ],
             [
              0.8888888888888888,
              "#fdca26"
             ],
             [
              1,
              "#f0f921"
             ]
            ],
            "type": "surface"
           }
          ],
          "table": [
           {
            "cells": {
             "fill": {
              "color": "#EBF0F8"
             },
             "line": {
              "color": "white"
             }
            },
            "header": {
             "fill": {
              "color": "#C8D4E3"
             },
             "line": {
              "color": "white"
             }
            },
            "type": "table"
           }
          ]
         },
         "layout": {
          "annotationdefaults": {
           "arrowcolor": "#2a3f5f",
           "arrowhead": 0,
           "arrowwidth": 1
          },
          "coloraxis": {
           "colorbar": {
            "outlinewidth": 0,
            "ticks": ""
           }
          },
          "colorscale": {
           "diverging": [
            [
             0,
             "#8e0152"
            ],
            [
             0.1,
             "#c51b7d"
            ],
            [
             0.2,
             "#de77ae"
            ],
            [
             0.3,
             "#f1b6da"
            ],
            [
             0.4,
             "#fde0ef"
            ],
            [
             0.5,
             "#f7f7f7"
            ],
            [
             0.6,
             "#e6f5d0"
            ],
            [
             0.7,
             "#b8e186"
            ],
            [
             0.8,
             "#7fbc41"
            ],
            [
             0.9,
             "#4d9221"
            ],
            [
             1,
             "#276419"
            ]
           ],
           "sequential": [
            [
             0,
             "#0d0887"
            ],
            [
             0.1111111111111111,
             "#46039f"
            ],
            [
             0.2222222222222222,
             "#7201a8"
            ],
            [
             0.3333333333333333,
             "#9c179e"
            ],
            [
             0.4444444444444444,
             "#bd3786"
            ],
            [
             0.5555555555555556,
             "#d8576b"
            ],
            [
             0.6666666666666666,
             "#ed7953"
            ],
            [
             0.7777777777777778,
             "#fb9f3a"
            ],
            [
             0.8888888888888888,
             "#fdca26"
            ],
            [
             1,
             "#f0f921"
            ]
           ],
           "sequentialminus": [
            [
             0,
             "#0d0887"
            ],
            [
             0.1111111111111111,
             "#46039f"
            ],
            [
             0.2222222222222222,
             "#7201a8"
            ],
            [
             0.3333333333333333,
             "#9c179e"
            ],
            [
             0.4444444444444444,
             "#bd3786"
            ],
            [
             0.5555555555555556,
             "#d8576b"
            ],
            [
             0.6666666666666666,
             "#ed7953"
            ],
            [
             0.7777777777777778,
             "#fb9f3a"
            ],
            [
             0.8888888888888888,
             "#fdca26"
            ],
            [
             1,
             "#f0f921"
            ]
           ]
          },
          "colorway": [
           "#636efa",
           "#EF553B",
           "#00cc96",
           "#ab63fa",
           "#FFA15A",
           "#19d3f3",
           "#FF6692",
           "#B6E880",
           "#FF97FF",
           "#FECB52"
          ],
          "font": {
           "color": "#2a3f5f"
          },
          "geo": {
           "bgcolor": "white",
           "lakecolor": "white",
           "landcolor": "#E5ECF6",
           "showlakes": true,
           "showland": true,
           "subunitcolor": "white"
          },
          "hoverlabel": {
           "align": "left"
          },
          "hovermode": "closest",
          "mapbox": {
           "style": "light"
          },
          "paper_bgcolor": "white",
          "plot_bgcolor": "#E5ECF6",
          "polar": {
           "angularaxis": {
            "gridcolor": "white",
            "linecolor": "white",
            "ticks": ""
           },
           "bgcolor": "#E5ECF6",
           "radialaxis": {
            "gridcolor": "white",
            "linecolor": "white",
            "ticks": ""
           }
          },
          "scene": {
           "xaxis": {
            "backgroundcolor": "#E5ECF6",
            "gridcolor": "white",
            "gridwidth": 2,
            "linecolor": "white",
            "showbackground": true,
            "ticks": "",
            "zerolinecolor": "white"
           },
           "yaxis": {
            "backgroundcolor": "#E5ECF6",
            "gridcolor": "white",
            "gridwidth": 2,
            "linecolor": "white",
            "showbackground": true,
            "ticks": "",
            "zerolinecolor": "white"
           },
           "zaxis": {
            "backgroundcolor": "#E5ECF6",
            "gridcolor": "white",
            "gridwidth": 2,
            "linecolor": "white",
            "showbackground": true,
            "ticks": "",
            "zerolinecolor": "white"
           }
          },
          "shapedefaults": {
           "line": {
            "color": "#2a3f5f"
           }
          },
          "ternary": {
           "aaxis": {
            "gridcolor": "white",
            "linecolor": "white",
            "ticks": ""
           },
           "baxis": {
            "gridcolor": "white",
            "linecolor": "white",
            "ticks": ""
           },
           "bgcolor": "#E5ECF6",
           "caxis": {
            "gridcolor": "white",
            "linecolor": "white",
            "ticks": ""
           }
          },
          "title": {
           "x": 0.05
          },
          "xaxis": {
           "automargin": true,
           "gridcolor": "white",
           "linecolor": "white",
           "ticks": "",
           "title": {
            "standoff": 15
           },
           "zerolinecolor": "white",
           "zerolinewidth": 2
          },
          "yaxis": {
           "automargin": true,
           "gridcolor": "white",
           "linecolor": "white",
           "ticks": "",
           "title": {
            "standoff": 15
           },
           "zerolinecolor": "white",
           "zerolinewidth": 2
          }
         }
        },
        "title": {
         "font": {
          "color": "#4D5663"
         }
        },
        "xaxis": {
         "gridcolor": "#E1E5ED",
         "showgrid": true,
         "tickfont": {
          "color": "#4D5663"
         },
         "title": {
          "font": {
           "color": "#4D5663"
          },
          "text": ""
         },
         "zerolinecolor": "#E1E5ED"
        },
        "yaxis": {
         "gridcolor": "#E1E5ED",
         "showgrid": true,
         "tickfont": {
          "color": "#4D5663"
         },
         "title": {
          "font": {
           "color": "#4D5663"
          },
          "text": ""
         },
         "zerolinecolor": "#E1E5ED"
        }
       }
      },
      "text/html": [
       "<div>\n",
       "        \n",
       "        \n",
       "            <div id=\"43fee021-9304-406a-8938-7c9e82fe0d4f\" class=\"plotly-graph-div\" style=\"height:525px; width:100%;\"></div>\n",
       "            <script type=\"text/javascript\">\n",
       "                require([\"plotly\"], function(Plotly) {\n",
       "                    window.PLOTLYENV=window.PLOTLYENV || {};\n",
       "                    window.PLOTLYENV.BASE_URL='https://plot.ly';\n",
       "                    \n",
       "                if (document.getElementById(\"43fee021-9304-406a-8938-7c9e82fe0d4f\")) {\n",
       "                    Plotly.newPlot(\n",
       "                        '43fee021-9304-406a-8938-7c9e82fe0d4f',\n",
       "                        [{\"boxpoints\": false, \"line\": {\"width\": 1.3}, \"marker\": {\"color\": \"rgba(255, 153, 51, 1.0)\"}, \"name\": \"A\", \"orientation\": \"v\", \"type\": \"box\", \"y\": [-0.7583625624564826, -1.3608135229511027, -0.4479688305343663, 0.25774244428547427, -1.6375797293120589, -1.0464472057363499, 1.407325001211225, 0.276515190255223, -0.07316231716756455, 2.379354983246018, 1.4416105167771618, -2.000675616366275, 0.599410615388733, -1.178157640116541, 0.8361646635083623, 1.4209061515389503, -1.3772200926778893, -1.5330137697628772, 0.8434488796566412, -0.44264142554813973, 0.7729395311461773, -1.186536053062794, 1.0672315844310665, -0.1786475895640133, -1.6899719904233519, 0.8146648919282323, -2.541055625678114, 0.8784841697785496, 0.32813550809478664, 1.3136723060501312, 0.5798422821158166, -0.15028112198881133, -0.39350857873322376, 1.8687332552959848, 1.4996776154237408, -2.5978587935254813, -0.08418728423004833, -1.7130754548765064, -0.34219415505953205, 1.2976144427300302, 0.7997008822259573, -1.9145673952331954, 0.32403830118956695, 0.9669468742916221, -0.3954521090418044, -0.5156640132664189, 0.6325874104204111, -0.7730210344534597, -1.0278926686068846, -0.8064923341963592, -0.5283860770954497, 0.05805052625083211, -0.5341935453073812, -0.6306038151611613, 0.19618964614138615, -0.567501753503357, 1.3116043337251144, 1.0625570541938478, 0.1630190918246739, -0.17520577021292585, -0.7448259321076729, -0.06589108782314983, 1.2263868994742944, 0.9973104846473738, -0.8586695931733282, 0.4007921932156928, 0.6476480167091756, 0.5806680435925301, 0.41667800079466144, 0.18080111431959658, -0.6549009506176735, -1.5624811820852393, -1.9034379481414605, 1.2036040733411644, 1.5416853504730623, 0.644723358337419, 0.5148614190703861, -1.9213061654349335, 0.35505322896128755, 0.8491838985035705, -1.0502790566937863, 0.013051058769516184, 1.6146659697158963, -1.0749070393039928, -0.6616722006760997, -0.3743145259476359, -2.4924831145939095, -0.16545246379299003, 2.1703012992627992, -1.2602863121320913, -0.7676530026819841, 0.0843467501757799, -0.2807271956647446, 0.4241491799250738, 1.2569983568147862, 0.33073957061440273, -0.21585240846311052, 1.4033361423654584, 0.12416679561973377, 0.45414894890427215]}, {\"boxpoints\": false, \"line\": {\"width\": 1.3}, \"marker\": {\"color\": \"rgba(55, 128, 191, 1.0)\"}, \"name\": \"B\", \"orientation\": \"v\", \"type\": \"box\", \"y\": [0.9051120349846424, 1.1315731612883049, 0.4889535391167449, -0.411827350510033, 1.7437582525448498, 0.8754875880381073, -1.612719409098891, 1.2673782176917372, 0.34610407515785685, -0.8734634626765565, 0.5080615811518349, 0.3786949114985083, 0.8549394182735643, -1.1727436261908517, 0.278079586528356, -2.086519140021561, 0.9558921986334105, -2.1412044407561335, 1.5908599450759613, -0.38037367059143695, -0.33823974441909016, 0.5148757793898513, 0.06431934032079333, -0.6192210839283654, 0.6364993369072576, 0.5238573577202742, 2.5123333500021423, -0.7385360908208347, 1.5357500979181817, 1.5724495278522659, 0.6633106187533743, 0.1913510422791749, -0.9852937680279761, 0.4866604508534319, -1.5691043539958625, -0.5457214474250892, -2.650467246676767, -0.4096399990779472, -0.44165613080647653, -1.6114045136155386, 0.3372243946613703, 0.09216459763101896, 0.4408702411197516, 1.026794643555709, -0.787067876624869, 0.274085340958029, 0.6432038230781414, 0.11625200510070811, -0.11400215542141642, 1.1678648365076898, 0.6381872954128966, -0.10906986258298167, 0.40314926362595793, -1.4061921229295076, -0.8949388605476665, -0.6797123989402232, 0.681267680316777, -1.5973585952033058, 0.9990493726980721, -0.9268111651857517, -0.7197683145996996, 0.18706094517469868, -1.1137685782674145, -0.8981843019223013, -0.008022352656607114, -0.46902423130002263, -1.0663496382780207, 1.2930554005359125, -0.12481695277229017, 0.8763289665253956, -0.15234775564968409, 0.7815603667800463, -0.3711497040527381, -0.735133518142438, 1.0719608777778922, -1.8110615652327744, -0.21451545478894662, -1.0000693418566864, -1.2492276001592144, -0.46780364099239063, 0.1472438174569735, 0.26416988245785844, 0.6659503106264842, 1.4700345976857954, 1.077675298771589, 1.1078248664225065, -0.7199081897875417, 0.6037307814365238, -1.2541232782328138, -0.4445705528975758, -0.5995953052364829, 0.8703773020736415, 1.240967816138145, -0.23458836833371494, 1.3626315874217745, -0.34003054967360213, 0.28031746369473, -0.6342169480234975, 0.6748537839853154, -1.3964778756962182]}, {\"boxpoints\": false, \"line\": {\"width\": 1.3}, \"marker\": {\"color\": \"rgba(50, 171, 96, 1.0)\"}, \"name\": \"C\", \"orientation\": \"v\", \"type\": \"box\", \"y\": [-0.444678500480317, 0.0933498848400473, 0.9355087974997555, -1.106441630487202, 0.7870975629687152, 0.21808060888783593, 0.19245161375740785, 0.058978349501044657, -0.8714541206370889, 1.6723359190038503, -0.9521959925693669, 0.25982368775406417, 0.4329967486845554, 0.9585187647681762, -1.79933573560346, 2.2571466440543344, 0.27242090370105326, -3.041426982646799, -0.7379674589948564, 0.21321722437944604, 0.3744406483158536, 1.8794147199102167, 0.5865594775587016, -0.3723330026710341, -0.21256708491681514, 1.2175066431034185, 0.9503232313646496, 1.7526010217049393, -0.6255769714716065, -0.8150989477464166, 0.1900069841307442, -0.6573140026719146, 1.3123490852146837, -0.20521456260004223, -0.8280753332366754, -2.1789891770225105, -1.7227530897526353, 1.2860266607255277, 0.417423466170257, -1.408581550401666, -1.0147418694696868, 1.0617865770644983, -2.1357693694007693, 0.6316085302784928, 1.0548351609959814, -1.821383374322361, 1.1794682397233458, 0.7800559142128144, 1.5175952940754551, -0.20063016325093158, 1.469109182383053, 0.33064590666961946, -1.5329746111023028, 1.4876464359770907, 0.7368765553019965, 0.2556196982451411, 1.496074295060987, -0.25594776352614945, -1.0302066787914688, 0.3771702792035409, 1.5954550568745687, -1.8239541572520326, -0.6292071703871251, 0.8569283151606543, 0.19021096842866161, 0.6607647699069801, -0.0016000980015075767, -0.6033609765671395, 0.6926557249524916, 0.13880646341418457, -1.3362928951925246, 0.5040296861060063, 2.5601117800980524, -0.983051918444861, -0.7450095718104365, -0.8245934015034929, -1.1246483229871902, -0.6547441335375387, -0.8088996560125555, -0.0966860051066942, -1.4863921450232944, 0.18967390658638197, 0.15908685829749233, -0.2691504733360306, -0.18560225336486053, 0.1001975328112677, -0.4706507089738137, 0.2368759547272725, 0.6644170545061568, -0.11309520573149913, 1.1829406966617049, -1.0833015314373051, -0.15088069839314402, -0.2652424034024619, 0.8990779222502281, -0.030734197118241203, -0.46028230155709343, 2.0393872169244824, 0.3883702636590222, 1.133687274935083]}, {\"boxpoints\": false, \"line\": {\"width\": 1.3}, \"marker\": {\"color\": \"rgba(128, 0, 128, 1.0)\"}, \"name\": \"D\", \"orientation\": \"v\", \"type\": \"box\", \"y\": [-0.14243188168373888, -1.0729907558568355, 0.44733250377667716, -1.1897147775895982, 1.092741516710888, -0.06091528550317952, 0.10743674606032749, 0.9042940695647604, 0.5303819578975205, 1.9992339800473369, 0.6456010371124833, -0.7962804132728767, -0.5815192392519256, 0.2597767876385269, -2.459883288053741, -0.4082992590619642, 0.39686139282285504, -0.10328064655423272, -1.1573545857701342, -1.7466222324347853, -1.6081787740748272, 0.042610628533974994, 1.7131089103702466, -0.33970182084475636, -0.9583274897717958, 0.8309717943957573, -1.8513065553096661, -0.43667935832435667, -1.3202801094129164, 0.19412359694222966, 0.3863753886878289, 2.262504342957885, -1.1789996565844338, 0.8610049877785335, 0.35020646357557556, -0.4526706099620868, -1.4208827518870466, -2.0336415880196306, -0.6028790992919976, -0.6667505056960525, 1.034085965991731, 1.6862381136516247, 0.9671590675760109, 0.4687702824218409, -0.11354411524057219, 1.7598471377692582, -0.3133961636622412, 0.7968082245207883, -0.8123852383043507, -0.1815538188028146, -1.2010576577637924, 0.623379003526806, -0.2905917132234972, 1.0907162251266591, -0.943052216702706, -0.6358961634386422, 0.8238944357128126, -1.6910025282864853, -0.5360314141734744, -0.2858234600755065, 0.11739560318332833, 1.3392357088416103, -0.12730657094197811, -0.355344981254377, -0.7888413181153048, 0.010846103051945897, 2.4643060780738653, 0.2688894084296869, -0.6761623948082517, -0.46228423544452435, -0.06823119920909179, 0.5507682072831712, -1.4092521832676117, 0.11165070595437765, 1.0816741381089106, 0.00012294423731891224, 1.6864532375657582, -0.21634623521220717, 1.4069369181982865, 0.14000154269529902, -1.056975185245624, -1.454774926494647, 0.8077501687969396, -0.6826502496255977, 0.6344953632035505, -0.15940212485395602, 1.3448374706334436, 0.5273274117487469, -0.5514095718479104, 0.3176860475959556, -0.0325566071623441, -0.0673720916980821, 0.9991691910935454, 0.4772946025924812, 0.9458312063212977, -1.1631663106908554, 1.0876781943861205, -0.5592269267673681, -0.4905467928214895, -0.43363935487996075]}],\n",
       "                        {\"legend\": {\"bgcolor\": \"#F5F6F9\", \"font\": {\"color\": \"#4D5663\"}}, \"paper_bgcolor\": \"#F5F6F9\", \"plot_bgcolor\": \"#F5F6F9\", \"template\": {\"data\": {\"bar\": [{\"error_x\": {\"color\": \"#2a3f5f\"}, \"error_y\": {\"color\": \"#2a3f5f\"}, \"marker\": {\"line\": {\"color\": \"#E5ECF6\", \"width\": 0.5}}, \"type\": \"bar\"}], \"barpolar\": [{\"marker\": {\"line\": {\"color\": \"#E5ECF6\", \"width\": 0.5}}, \"type\": \"barpolar\"}], \"carpet\": [{\"aaxis\": {\"endlinecolor\": \"#2a3f5f\", \"gridcolor\": \"white\", \"linecolor\": \"white\", \"minorgridcolor\": \"white\", \"startlinecolor\": \"#2a3f5f\"}, \"baxis\": {\"endlinecolor\": \"#2a3f5f\", \"gridcolor\": \"white\", \"linecolor\": \"white\", \"minorgridcolor\": \"white\", \"startlinecolor\": \"#2a3f5f\"}, \"type\": \"carpet\"}], \"choropleth\": [{\"colorbar\": {\"outlinewidth\": 0, \"ticks\": \"\"}, \"type\": \"choropleth\"}], \"contour\": [{\"colorbar\": {\"outlinewidth\": 0, \"ticks\": \"\"}, \"colorscale\": [[0.0, \"#0d0887\"], [0.1111111111111111, \"#46039f\"], [0.2222222222222222, \"#7201a8\"], [0.3333333333333333, \"#9c179e\"], [0.4444444444444444, \"#bd3786\"], [0.5555555555555556, \"#d8576b\"], [0.6666666666666666, \"#ed7953\"], [0.7777777777777778, \"#fb9f3a\"], [0.8888888888888888, \"#fdca26\"], [1.0, \"#f0f921\"]], \"type\": \"contour\"}], \"contourcarpet\": [{\"colorbar\": {\"outlinewidth\": 0, \"ticks\": \"\"}, \"type\": \"contourcarpet\"}], \"heatmap\": [{\"colorbar\": {\"outlinewidth\": 0, \"ticks\": \"\"}, \"colorscale\": [[0.0, \"#0d0887\"], [0.1111111111111111, \"#46039f\"], [0.2222222222222222, \"#7201a8\"], [0.3333333333333333, \"#9c179e\"], [0.4444444444444444, \"#bd3786\"], [0.5555555555555556, \"#d8576b\"], [0.6666666666666666, \"#ed7953\"], [0.7777777777777778, \"#fb9f3a\"], [0.8888888888888888, \"#fdca26\"], [1.0, \"#f0f921\"]], \"type\": \"heatmap\"}], \"heatmapgl\": [{\"colorbar\": {\"outlinewidth\": 0, \"ticks\": \"\"}, \"colorscale\": [[0.0, \"#0d0887\"], [0.1111111111111111, \"#46039f\"], [0.2222222222222222, \"#7201a8\"], [0.3333333333333333, \"#9c179e\"], [0.4444444444444444, \"#bd3786\"], [0.5555555555555556, \"#d8576b\"], [0.6666666666666666, \"#ed7953\"], [0.7777777777777778, \"#fb9f3a\"], [0.8888888888888888, \"#fdca26\"], [1.0, \"#f0f921\"]], \"type\": \"heatmapgl\"}], \"histogram\": [{\"marker\": {\"colorbar\": {\"outlinewidth\": 0, \"ticks\": \"\"}}, \"type\": \"histogram\"}], \"histogram2d\": [{\"colorbar\": {\"outlinewidth\": 0, \"ticks\": \"\"}, \"colorscale\": [[0.0, \"#0d0887\"], [0.1111111111111111, \"#46039f\"], [0.2222222222222222, \"#7201a8\"], [0.3333333333333333, \"#9c179e\"], [0.4444444444444444, \"#bd3786\"], [0.5555555555555556, \"#d8576b\"], [0.6666666666666666, \"#ed7953\"], [0.7777777777777778, \"#fb9f3a\"], [0.8888888888888888, \"#fdca26\"], [1.0, \"#f0f921\"]], \"type\": \"histogram2d\"}], \"histogram2dcontour\": [{\"colorbar\": {\"outlinewidth\": 0, \"ticks\": \"\"}, \"colorscale\": [[0.0, \"#0d0887\"], [0.1111111111111111, \"#46039f\"], [0.2222222222222222, \"#7201a8\"], [0.3333333333333333, \"#9c179e\"], [0.4444444444444444, \"#bd3786\"], [0.5555555555555556, \"#d8576b\"], [0.6666666666666666, \"#ed7953\"], [0.7777777777777778, \"#fb9f3a\"], [0.8888888888888888, \"#fdca26\"], [1.0, \"#f0f921\"]], \"type\": \"histogram2dcontour\"}], \"mesh3d\": [{\"colorbar\": {\"outlinewidth\": 0, \"ticks\": \"\"}, \"type\": \"mesh3d\"}], \"parcoords\": [{\"line\": {\"colorbar\": {\"outlinewidth\": 0, \"ticks\": \"\"}}, \"type\": \"parcoords\"}], \"pie\": [{\"automargin\": true, \"type\": \"pie\"}], \"scatter\": [{\"marker\": {\"colorbar\": {\"outlinewidth\": 0, \"ticks\": \"\"}}, \"type\": \"scatter\"}], \"scatter3d\": [{\"line\": {\"colorbar\": {\"outlinewidth\": 0, \"ticks\": \"\"}}, \"marker\": {\"colorbar\": {\"outlinewidth\": 0, \"ticks\": \"\"}}, \"type\": \"scatter3d\"}], \"scattercarpet\": [{\"marker\": {\"colorbar\": {\"outlinewidth\": 0, \"ticks\": \"\"}}, \"type\": \"scattercarpet\"}], \"scattergeo\": [{\"marker\": {\"colorbar\": {\"outlinewidth\": 0, \"ticks\": \"\"}}, \"type\": \"scattergeo\"}], \"scattergl\": [{\"marker\": {\"colorbar\": {\"outlinewidth\": 0, \"ticks\": \"\"}}, \"type\": \"scattergl\"}], \"scattermapbox\": [{\"marker\": {\"colorbar\": {\"outlinewidth\": 0, \"ticks\": \"\"}}, \"type\": \"scattermapbox\"}], \"scatterpolar\": [{\"marker\": {\"colorbar\": {\"outlinewidth\": 0, \"ticks\": \"\"}}, \"type\": \"scatterpolar\"}], \"scatterpolargl\": [{\"marker\": {\"colorbar\": {\"outlinewidth\": 0, \"ticks\": \"\"}}, \"type\": \"scatterpolargl\"}], \"scatterternary\": [{\"marker\": {\"colorbar\": {\"outlinewidth\": 0, \"ticks\": \"\"}}, \"type\": \"scatterternary\"}], \"surface\": [{\"colorbar\": {\"outlinewidth\": 0, \"ticks\": \"\"}, \"colorscale\": [[0.0, \"#0d0887\"], [0.1111111111111111, \"#46039f\"], [0.2222222222222222, \"#7201a8\"], [0.3333333333333333, \"#9c179e\"], [0.4444444444444444, \"#bd3786\"], [0.5555555555555556, \"#d8576b\"], [0.6666666666666666, \"#ed7953\"], [0.7777777777777778, \"#fb9f3a\"], [0.8888888888888888, \"#fdca26\"], [1.0, \"#f0f921\"]], \"type\": \"surface\"}], \"table\": [{\"cells\": {\"fill\": {\"color\": \"#EBF0F8\"}, \"line\": {\"color\": \"white\"}}, \"header\": {\"fill\": {\"color\": \"#C8D4E3\"}, \"line\": {\"color\": \"white\"}}, \"type\": \"table\"}]}, \"layout\": {\"annotationdefaults\": {\"arrowcolor\": \"#2a3f5f\", \"arrowhead\": 0, \"arrowwidth\": 1}, \"coloraxis\": {\"colorbar\": {\"outlinewidth\": 0, \"ticks\": \"\"}}, \"colorscale\": {\"diverging\": [[0, \"#8e0152\"], [0.1, \"#c51b7d\"], [0.2, \"#de77ae\"], [0.3, \"#f1b6da\"], [0.4, \"#fde0ef\"], [0.5, \"#f7f7f7\"], [0.6, \"#e6f5d0\"], [0.7, \"#b8e186\"], [0.8, \"#7fbc41\"], [0.9, \"#4d9221\"], [1, \"#276419\"]], \"sequential\": [[0.0, \"#0d0887\"], [0.1111111111111111, \"#46039f\"], [0.2222222222222222, \"#7201a8\"], [0.3333333333333333, \"#9c179e\"], [0.4444444444444444, \"#bd3786\"], [0.5555555555555556, \"#d8576b\"], [0.6666666666666666, \"#ed7953\"], [0.7777777777777778, \"#fb9f3a\"], [0.8888888888888888, \"#fdca26\"], [1.0, \"#f0f921\"]], \"sequentialminus\": [[0.0, \"#0d0887\"], [0.1111111111111111, \"#46039f\"], [0.2222222222222222, \"#7201a8\"], [0.3333333333333333, \"#9c179e\"], [0.4444444444444444, \"#bd3786\"], [0.5555555555555556, \"#d8576b\"], [0.6666666666666666, \"#ed7953\"], [0.7777777777777778, \"#fb9f3a\"], [0.8888888888888888, \"#fdca26\"], [1.0, \"#f0f921\"]]}, \"colorway\": [\"#636efa\", \"#EF553B\", \"#00cc96\", \"#ab63fa\", \"#FFA15A\", \"#19d3f3\", \"#FF6692\", \"#B6E880\", \"#FF97FF\", \"#FECB52\"], \"font\": {\"color\": \"#2a3f5f\"}, \"geo\": {\"bgcolor\": \"white\", \"lakecolor\": \"white\", \"landcolor\": \"#E5ECF6\", \"showlakes\": true, \"showland\": true, \"subunitcolor\": \"white\"}, \"hoverlabel\": {\"align\": \"left\"}, \"hovermode\": \"closest\", \"mapbox\": {\"style\": \"light\"}, \"paper_bgcolor\": \"white\", \"plot_bgcolor\": \"#E5ECF6\", \"polar\": {\"angularaxis\": {\"gridcolor\": \"white\", \"linecolor\": \"white\", \"ticks\": \"\"}, \"bgcolor\": \"#E5ECF6\", \"radialaxis\": {\"gridcolor\": \"white\", \"linecolor\": \"white\", \"ticks\": \"\"}}, \"scene\": {\"xaxis\": {\"backgroundcolor\": \"#E5ECF6\", \"gridcolor\": \"white\", \"gridwidth\": 2, \"linecolor\": \"white\", \"showbackground\": true, \"ticks\": \"\", \"zerolinecolor\": \"white\"}, \"yaxis\": {\"backgroundcolor\": \"#E5ECF6\", \"gridcolor\": \"white\", \"gridwidth\": 2, \"linecolor\": \"white\", \"showbackground\": true, \"ticks\": \"\", \"zerolinecolor\": \"white\"}, \"zaxis\": {\"backgroundcolor\": \"#E5ECF6\", \"gridcolor\": \"white\", \"gridwidth\": 2, \"linecolor\": \"white\", \"showbackground\": true, \"ticks\": \"\", \"zerolinecolor\": \"white\"}}, \"shapedefaults\": {\"line\": {\"color\": \"#2a3f5f\"}}, \"ternary\": {\"aaxis\": {\"gridcolor\": \"white\", \"linecolor\": \"white\", \"ticks\": \"\"}, \"baxis\": {\"gridcolor\": \"white\", \"linecolor\": \"white\", \"ticks\": \"\"}, \"bgcolor\": \"#E5ECF6\", \"caxis\": {\"gridcolor\": \"white\", \"linecolor\": \"white\", \"ticks\": \"\"}}, \"title\": {\"x\": 0.05}, \"xaxis\": {\"automargin\": true, \"gridcolor\": \"white\", \"linecolor\": \"white\", \"ticks\": \"\", \"title\": {\"standoff\": 15}, \"zerolinecolor\": \"white\", \"zerolinewidth\": 2}, \"yaxis\": {\"automargin\": true, \"gridcolor\": \"white\", \"linecolor\": \"white\", \"ticks\": \"\", \"title\": {\"standoff\": 15}, \"zerolinecolor\": \"white\", \"zerolinewidth\": 2}}}, \"title\": {\"font\": {\"color\": \"#4D5663\"}}, \"xaxis\": {\"gridcolor\": \"#E1E5ED\", \"showgrid\": true, \"tickfont\": {\"color\": \"#4D5663\"}, \"title\": {\"font\": {\"color\": \"#4D5663\"}, \"text\": \"\"}, \"zerolinecolor\": \"#E1E5ED\"}, \"yaxis\": {\"gridcolor\": \"#E1E5ED\", \"showgrid\": true, \"tickfont\": {\"color\": \"#4D5663\"}, \"title\": {\"font\": {\"color\": \"#4D5663\"}, \"text\": \"\"}, \"zerolinecolor\": \"#E1E5ED\"}},\n",
       "                        {\"showLink\": true, \"linkText\": \"Export to plot.ly\", \"plotlyServerURL\": \"https://plot.ly\", \"responsive\": true}\n",
       "                    ).then(function(){\n",
       "                            \n",
       "var gd = document.getElementById('43fee021-9304-406a-8938-7c9e82fe0d4f');\n",
       "var x = new MutationObserver(function (mutations, observer) {{\n",
       "        var display = window.getComputedStyle(gd).display;\n",
       "        if (!display || display === 'none') {{\n",
       "            console.log([gd, 'removed!']);\n",
       "            Plotly.purge(gd);\n",
       "            observer.disconnect();\n",
       "        }}\n",
       "}});\n",
       "\n",
       "// Listen for the removal of the full notebook cells\n",
       "var notebookContainer = gd.closest('#notebook-container');\n",
       "if (notebookContainer) {{\n",
       "    x.observe(notebookContainer, {childList: true});\n",
       "}}\n",
       "\n",
       "// Listen for the clearing of the current output cell\n",
       "var outputEl = gd.closest('.output');\n",
       "if (outputEl) {{\n",
       "    x.observe(outputEl, {childList: true});\n",
       "}}\n",
       "\n",
       "                        })\n",
       "                };\n",
       "                });\n",
       "            </script>\n",
       "        </div>"
      ]
     },
     "metadata": {},
     "output_type": "display_data"
    }
   ],
   "source": [
    "df.iplot(kind='box')"
   ]
  },
  {
   "cell_type": "markdown",
   "metadata": {
    "colab_type": "text",
    "id": "lsF9f7NIiSsk"
   },
   "source": [
    "**Histogramas**"
   ]
  },
  {
   "cell_type": "markdown",
   "metadata": {
    "colab_type": "text",
    "id": "vCyMUllmiSsl"
   },
   "source": [
    "`Compare com os histograsm padrões do matplotlib e seaborn`"
   ]
  },
  {
   "cell_type": "code",
   "execution_count": 12,
   "metadata": {
    "colab": {
     "base_uri": "https://localhost:8080/",
     "height": 542
    },
    "colab_type": "code",
    "executionInfo": {
     "elapsed": 1004,
     "status": "ok",
     "timestamp": 1557594698657,
     "user": {
      "displayName": "Rodrigo Santana Ferreira",
      "photoUrl": "https://lh5.googleusercontent.com/-w5AmPcUma78/AAAAAAAAAAI/AAAAAAAAAPw/2VfgXe2k7sI/s64/photo.jpg",
      "userId": "14710330936720624047"
     },
     "user_tz": 180
    },
    "id": "5idLd65AiSsn",
    "outputId": "4d306883-5a3a-4bd8-ac3f-50b61466b514"
   },
   "outputs": [
    {
     "data": {
      "application/vnd.plotly.v1+json": {
       "config": {
        "linkText": "Export to plot.ly",
        "plotlyServerURL": "https://plot.ly",
        "showLink": true
       },
       "data": [
        {
         "histfunc": "count",
         "histnorm": "",
         "marker": {
          "color": "rgba(255, 153, 51, 1.0)",
          "line": {
           "color": "#4D5663",
           "width": 1.3
          }
         },
         "name": "A",
         "opacity": 0.8,
         "orientation": "v",
         "type": "histogram",
         "x": [
          -0.7583625624564826,
          -1.3608135229511027,
          -0.4479688305343663,
          0.25774244428547427,
          -1.6375797293120589,
          -1.0464472057363499,
          1.407325001211225,
          0.276515190255223,
          -0.07316231716756455,
          2.379354983246018,
          1.4416105167771618,
          -2.000675616366275,
          0.599410615388733,
          -1.178157640116541,
          0.8361646635083623,
          1.4209061515389503,
          -1.3772200926778893,
          -1.5330137697628772,
          0.8434488796566412,
          -0.44264142554813973,
          0.7729395311461773,
          -1.186536053062794,
          1.0672315844310665,
          -0.1786475895640133,
          -1.6899719904233519,
          0.8146648919282323,
          -2.541055625678114,
          0.8784841697785496,
          0.32813550809478664,
          1.3136723060501312,
          0.5798422821158166,
          -0.15028112198881133,
          -0.39350857873322376,
          1.8687332552959848,
          1.4996776154237408,
          -2.5978587935254813,
          -0.08418728423004833,
          -1.7130754548765064,
          -0.34219415505953205,
          1.2976144427300302,
          0.7997008822259573,
          -1.9145673952331954,
          0.32403830118956695,
          0.9669468742916221,
          -0.3954521090418044,
          -0.5156640132664189,
          0.6325874104204111,
          -0.7730210344534597,
          -1.0278926686068846,
          -0.8064923341963592,
          -0.5283860770954497,
          0.05805052625083211,
          -0.5341935453073812,
          -0.6306038151611613,
          0.19618964614138615,
          -0.567501753503357,
          1.3116043337251144,
          1.0625570541938478,
          0.1630190918246739,
          -0.17520577021292585,
          -0.7448259321076729,
          -0.06589108782314983,
          1.2263868994742944,
          0.9973104846473738,
          -0.8586695931733282,
          0.4007921932156928,
          0.6476480167091756,
          0.5806680435925301,
          0.41667800079466144,
          0.18080111431959658,
          -0.6549009506176735,
          -1.5624811820852393,
          -1.9034379481414605,
          1.2036040733411644,
          1.5416853504730623,
          0.644723358337419,
          0.5148614190703861,
          -1.9213061654349335,
          0.35505322896128755,
          0.8491838985035705,
          -1.0502790566937863,
          0.013051058769516184,
          1.6146659697158963,
          -1.0749070393039928,
          -0.6616722006760997,
          -0.3743145259476359,
          -2.4924831145939095,
          -0.16545246379299003,
          2.1703012992627992,
          -1.2602863121320913,
          -0.7676530026819841,
          0.0843467501757799,
          -0.2807271956647446,
          0.4241491799250738,
          1.2569983568147862,
          0.33073957061440273,
          -0.21585240846311052,
          1.4033361423654584,
          0.12416679561973377,
          0.45414894890427215
         ]
        }
       ],
       "layout": {
        "barmode": "overlay",
        "legend": {
         "bgcolor": "#F5F6F9",
         "font": {
          "color": "#4D5663"
         }
        },
        "paper_bgcolor": "#F5F6F9",
        "plot_bgcolor": "#F5F6F9",
        "template": {
         "data": {
          "bar": [
           {
            "error_x": {
             "color": "#2a3f5f"
            },
            "error_y": {
             "color": "#2a3f5f"
            },
            "marker": {
             "line": {
              "color": "#E5ECF6",
              "width": 0.5
             }
            },
            "type": "bar"
           }
          ],
          "barpolar": [
           {
            "marker": {
             "line": {
              "color": "#E5ECF6",
              "width": 0.5
             }
            },
            "type": "barpolar"
           }
          ],
          "carpet": [
           {
            "aaxis": {
             "endlinecolor": "#2a3f5f",
             "gridcolor": "white",
             "linecolor": "white",
             "minorgridcolor": "white",
             "startlinecolor": "#2a3f5f"
            },
            "baxis": {
             "endlinecolor": "#2a3f5f",
             "gridcolor": "white",
             "linecolor": "white",
             "minorgridcolor": "white",
             "startlinecolor": "#2a3f5f"
            },
            "type": "carpet"
           }
          ],
          "choropleth": [
           {
            "colorbar": {
             "outlinewidth": 0,
             "ticks": ""
            },
            "type": "choropleth"
           }
          ],
          "contour": [
           {
            "colorbar": {
             "outlinewidth": 0,
             "ticks": ""
            },
            "colorscale": [
             [
              0,
              "#0d0887"
             ],
             [
              0.1111111111111111,
              "#46039f"
             ],
             [
              0.2222222222222222,
              "#7201a8"
             ],
             [
              0.3333333333333333,
              "#9c179e"
             ],
             [
              0.4444444444444444,
              "#bd3786"
             ],
             [
              0.5555555555555556,
              "#d8576b"
             ],
             [
              0.6666666666666666,
              "#ed7953"
             ],
             [
              0.7777777777777778,
              "#fb9f3a"
             ],
             [
              0.8888888888888888,
              "#fdca26"
             ],
             [
              1,
              "#f0f921"
             ]
            ],
            "type": "contour"
           }
          ],
          "contourcarpet": [
           {
            "colorbar": {
             "outlinewidth": 0,
             "ticks": ""
            },
            "type": "contourcarpet"
           }
          ],
          "heatmap": [
           {
            "colorbar": {
             "outlinewidth": 0,
             "ticks": ""
            },
            "colorscale": [
             [
              0,
              "#0d0887"
             ],
             [
              0.1111111111111111,
              "#46039f"
             ],
             [
              0.2222222222222222,
              "#7201a8"
             ],
             [
              0.3333333333333333,
              "#9c179e"
             ],
             [
              0.4444444444444444,
              "#bd3786"
             ],
             [
              0.5555555555555556,
              "#d8576b"
             ],
             [
              0.6666666666666666,
              "#ed7953"
             ],
             [
              0.7777777777777778,
              "#fb9f3a"
             ],
             [
              0.8888888888888888,
              "#fdca26"
             ],
             [
              1,
              "#f0f921"
             ]
            ],
            "type": "heatmap"
           }
          ],
          "heatmapgl": [
           {
            "colorbar": {
             "outlinewidth": 0,
             "ticks": ""
            },
            "colorscale": [
             [
              0,
              "#0d0887"
             ],
             [
              0.1111111111111111,
              "#46039f"
             ],
             [
              0.2222222222222222,
              "#7201a8"
             ],
             [
              0.3333333333333333,
              "#9c179e"
             ],
             [
              0.4444444444444444,
              "#bd3786"
             ],
             [
              0.5555555555555556,
              "#d8576b"
             ],
             [
              0.6666666666666666,
              "#ed7953"
             ],
             [
              0.7777777777777778,
              "#fb9f3a"
             ],
             [
              0.8888888888888888,
              "#fdca26"
             ],
             [
              1,
              "#f0f921"
             ]
            ],
            "type": "heatmapgl"
           }
          ],
          "histogram": [
           {
            "marker": {
             "colorbar": {
              "outlinewidth": 0,
              "ticks": ""
             }
            },
            "type": "histogram"
           }
          ],
          "histogram2d": [
           {
            "colorbar": {
             "outlinewidth": 0,
             "ticks": ""
            },
            "colorscale": [
             [
              0,
              "#0d0887"
             ],
             [
              0.1111111111111111,
              "#46039f"
             ],
             [
              0.2222222222222222,
              "#7201a8"
             ],
             [
              0.3333333333333333,
              "#9c179e"
             ],
             [
              0.4444444444444444,
              "#bd3786"
             ],
             [
              0.5555555555555556,
              "#d8576b"
             ],
             [
              0.6666666666666666,
              "#ed7953"
             ],
             [
              0.7777777777777778,
              "#fb9f3a"
             ],
             [
              0.8888888888888888,
              "#fdca26"
             ],
             [
              1,
              "#f0f921"
             ]
            ],
            "type": "histogram2d"
           }
          ],
          "histogram2dcontour": [
           {
            "colorbar": {
             "outlinewidth": 0,
             "ticks": ""
            },
            "colorscale": [
             [
              0,
              "#0d0887"
             ],
             [
              0.1111111111111111,
              "#46039f"
             ],
             [
              0.2222222222222222,
              "#7201a8"
             ],
             [
              0.3333333333333333,
              "#9c179e"
             ],
             [
              0.4444444444444444,
              "#bd3786"
             ],
             [
              0.5555555555555556,
              "#d8576b"
             ],
             [
              0.6666666666666666,
              "#ed7953"
             ],
             [
              0.7777777777777778,
              "#fb9f3a"
             ],
             [
              0.8888888888888888,
              "#fdca26"
             ],
             [
              1,
              "#f0f921"
             ]
            ],
            "type": "histogram2dcontour"
           }
          ],
          "mesh3d": [
           {
            "colorbar": {
             "outlinewidth": 0,
             "ticks": ""
            },
            "type": "mesh3d"
           }
          ],
          "parcoords": [
           {
            "line": {
             "colorbar": {
              "outlinewidth": 0,
              "ticks": ""
             }
            },
            "type": "parcoords"
           }
          ],
          "pie": [
           {
            "automargin": true,
            "type": "pie"
           }
          ],
          "scatter": [
           {
            "marker": {
             "colorbar": {
              "outlinewidth": 0,
              "ticks": ""
             }
            },
            "type": "scatter"
           }
          ],
          "scatter3d": [
           {
            "line": {
             "colorbar": {
              "outlinewidth": 0,
              "ticks": ""
             }
            },
            "marker": {
             "colorbar": {
              "outlinewidth": 0,
              "ticks": ""
             }
            },
            "type": "scatter3d"
           }
          ],
          "scattercarpet": [
           {
            "marker": {
             "colorbar": {
              "outlinewidth": 0,
              "ticks": ""
             }
            },
            "type": "scattercarpet"
           }
          ],
          "scattergeo": [
           {
            "marker": {
             "colorbar": {
              "outlinewidth": 0,
              "ticks": ""
             }
            },
            "type": "scattergeo"
           }
          ],
          "scattergl": [
           {
            "marker": {
             "colorbar": {
              "outlinewidth": 0,
              "ticks": ""
             }
            },
            "type": "scattergl"
           }
          ],
          "scattermapbox": [
           {
            "marker": {
             "colorbar": {
              "outlinewidth": 0,
              "ticks": ""
             }
            },
            "type": "scattermapbox"
           }
          ],
          "scatterpolar": [
           {
            "marker": {
             "colorbar": {
              "outlinewidth": 0,
              "ticks": ""
             }
            },
            "type": "scatterpolar"
           }
          ],
          "scatterpolargl": [
           {
            "marker": {
             "colorbar": {
              "outlinewidth": 0,
              "ticks": ""
             }
            },
            "type": "scatterpolargl"
           }
          ],
          "scatterternary": [
           {
            "marker": {
             "colorbar": {
              "outlinewidth": 0,
              "ticks": ""
             }
            },
            "type": "scatterternary"
           }
          ],
          "surface": [
           {
            "colorbar": {
             "outlinewidth": 0,
             "ticks": ""
            },
            "colorscale": [
             [
              0,
              "#0d0887"
             ],
             [
              0.1111111111111111,
              "#46039f"
             ],
             [
              0.2222222222222222,
              "#7201a8"
             ],
             [
              0.3333333333333333,
              "#9c179e"
             ],
             [
              0.4444444444444444,
              "#bd3786"
             ],
             [
              0.5555555555555556,
              "#d8576b"
             ],
             [
              0.6666666666666666,
              "#ed7953"
             ],
             [
              0.7777777777777778,
              "#fb9f3a"
             ],
             [
              0.8888888888888888,
              "#fdca26"
             ],
             [
              1,
              "#f0f921"
             ]
            ],
            "type": "surface"
           }
          ],
          "table": [
           {
            "cells": {
             "fill": {
              "color": "#EBF0F8"
             },
             "line": {
              "color": "white"
             }
            },
            "header": {
             "fill": {
              "color": "#C8D4E3"
             },
             "line": {
              "color": "white"
             }
            },
            "type": "table"
           }
          ]
         },
         "layout": {
          "annotationdefaults": {
           "arrowcolor": "#2a3f5f",
           "arrowhead": 0,
           "arrowwidth": 1
          },
          "coloraxis": {
           "colorbar": {
            "outlinewidth": 0,
            "ticks": ""
           }
          },
          "colorscale": {
           "diverging": [
            [
             0,
             "#8e0152"
            ],
            [
             0.1,
             "#c51b7d"
            ],
            [
             0.2,
             "#de77ae"
            ],
            [
             0.3,
             "#f1b6da"
            ],
            [
             0.4,
             "#fde0ef"
            ],
            [
             0.5,
             "#f7f7f7"
            ],
            [
             0.6,
             "#e6f5d0"
            ],
            [
             0.7,
             "#b8e186"
            ],
            [
             0.8,
             "#7fbc41"
            ],
            [
             0.9,
             "#4d9221"
            ],
            [
             1,
             "#276419"
            ]
           ],
           "sequential": [
            [
             0,
             "#0d0887"
            ],
            [
             0.1111111111111111,
             "#46039f"
            ],
            [
             0.2222222222222222,
             "#7201a8"
            ],
            [
             0.3333333333333333,
             "#9c179e"
            ],
            [
             0.4444444444444444,
             "#bd3786"
            ],
            [
             0.5555555555555556,
             "#d8576b"
            ],
            [
             0.6666666666666666,
             "#ed7953"
            ],
            [
             0.7777777777777778,
             "#fb9f3a"
            ],
            [
             0.8888888888888888,
             "#fdca26"
            ],
            [
             1,
             "#f0f921"
            ]
           ],
           "sequentialminus": [
            [
             0,
             "#0d0887"
            ],
            [
             0.1111111111111111,
             "#46039f"
            ],
            [
             0.2222222222222222,
             "#7201a8"
            ],
            [
             0.3333333333333333,
             "#9c179e"
            ],
            [
             0.4444444444444444,
             "#bd3786"
            ],
            [
             0.5555555555555556,
             "#d8576b"
            ],
            [
             0.6666666666666666,
             "#ed7953"
            ],
            [
             0.7777777777777778,
             "#fb9f3a"
            ],
            [
             0.8888888888888888,
             "#fdca26"
            ],
            [
             1,
             "#f0f921"
            ]
           ]
          },
          "colorway": [
           "#636efa",
           "#EF553B",
           "#00cc96",
           "#ab63fa",
           "#FFA15A",
           "#19d3f3",
           "#FF6692",
           "#B6E880",
           "#FF97FF",
           "#FECB52"
          ],
          "font": {
           "color": "#2a3f5f"
          },
          "geo": {
           "bgcolor": "white",
           "lakecolor": "white",
           "landcolor": "#E5ECF6",
           "showlakes": true,
           "showland": true,
           "subunitcolor": "white"
          },
          "hoverlabel": {
           "align": "left"
          },
          "hovermode": "closest",
          "mapbox": {
           "style": "light"
          },
          "paper_bgcolor": "white",
          "plot_bgcolor": "#E5ECF6",
          "polar": {
           "angularaxis": {
            "gridcolor": "white",
            "linecolor": "white",
            "ticks": ""
           },
           "bgcolor": "#E5ECF6",
           "radialaxis": {
            "gridcolor": "white",
            "linecolor": "white",
            "ticks": ""
           }
          },
          "scene": {
           "xaxis": {
            "backgroundcolor": "#E5ECF6",
            "gridcolor": "white",
            "gridwidth": 2,
            "linecolor": "white",
            "showbackground": true,
            "ticks": "",
            "zerolinecolor": "white"
           },
           "yaxis": {
            "backgroundcolor": "#E5ECF6",
            "gridcolor": "white",
            "gridwidth": 2,
            "linecolor": "white",
            "showbackground": true,
            "ticks": "",
            "zerolinecolor": "white"
           },
           "zaxis": {
            "backgroundcolor": "#E5ECF6",
            "gridcolor": "white",
            "gridwidth": 2,
            "linecolor": "white",
            "showbackground": true,
            "ticks": "",
            "zerolinecolor": "white"
           }
          },
          "shapedefaults": {
           "line": {
            "color": "#2a3f5f"
           }
          },
          "ternary": {
           "aaxis": {
            "gridcolor": "white",
            "linecolor": "white",
            "ticks": ""
           },
           "baxis": {
            "gridcolor": "white",
            "linecolor": "white",
            "ticks": ""
           },
           "bgcolor": "#E5ECF6",
           "caxis": {
            "gridcolor": "white",
            "linecolor": "white",
            "ticks": ""
           }
          },
          "title": {
           "x": 0.05
          },
          "xaxis": {
           "automargin": true,
           "gridcolor": "white",
           "linecolor": "white",
           "ticks": "",
           "title": {
            "standoff": 15
           },
           "zerolinecolor": "white",
           "zerolinewidth": 2
          },
          "yaxis": {
           "automargin": true,
           "gridcolor": "white",
           "linecolor": "white",
           "ticks": "",
           "title": {
            "standoff": 15
           },
           "zerolinecolor": "white",
           "zerolinewidth": 2
          }
         }
        },
        "title": {
         "font": {
          "color": "#4D5663"
         }
        },
        "xaxis": {
         "gridcolor": "#E1E5ED",
         "showgrid": true,
         "tickfont": {
          "color": "#4D5663"
         },
         "title": {
          "font": {
           "color": "#4D5663"
          },
          "text": ""
         },
         "zerolinecolor": "#E1E5ED"
        },
        "yaxis": {
         "gridcolor": "#E1E5ED",
         "showgrid": true,
         "tickfont": {
          "color": "#4D5663"
         },
         "title": {
          "font": {
           "color": "#4D5663"
          },
          "text": ""
         },
         "zerolinecolor": "#E1E5ED"
        }
       }
      },
      "text/html": [
       "<div>\n",
       "        \n",
       "        \n",
       "            <div id=\"acc0a5e7-8c5d-4392-93c7-8fc4ebe8c0e2\" class=\"plotly-graph-div\" style=\"height:525px; width:100%;\"></div>\n",
       "            <script type=\"text/javascript\">\n",
       "                require([\"plotly\"], function(Plotly) {\n",
       "                    window.PLOTLYENV=window.PLOTLYENV || {};\n",
       "                    window.PLOTLYENV.BASE_URL='https://plot.ly';\n",
       "                    \n",
       "                if (document.getElementById(\"acc0a5e7-8c5d-4392-93c7-8fc4ebe8c0e2\")) {\n",
       "                    Plotly.newPlot(\n",
       "                        'acc0a5e7-8c5d-4392-93c7-8fc4ebe8c0e2',\n",
       "                        [{\"histfunc\": \"count\", \"histnorm\": \"\", \"marker\": {\"color\": \"rgba(255, 153, 51, 1.0)\", \"line\": {\"color\": \"#4D5663\", \"width\": 1.3}}, \"name\": \"A\", \"opacity\": 0.8, \"orientation\": \"v\", \"type\": \"histogram\", \"x\": [-0.7583625624564826, -1.3608135229511027, -0.4479688305343663, 0.25774244428547427, -1.6375797293120589, -1.0464472057363499, 1.407325001211225, 0.276515190255223, -0.07316231716756455, 2.379354983246018, 1.4416105167771618, -2.000675616366275, 0.599410615388733, -1.178157640116541, 0.8361646635083623, 1.4209061515389503, -1.3772200926778893, -1.5330137697628772, 0.8434488796566412, -0.44264142554813973, 0.7729395311461773, -1.186536053062794, 1.0672315844310665, -0.1786475895640133, -1.6899719904233519, 0.8146648919282323, -2.541055625678114, 0.8784841697785496, 0.32813550809478664, 1.3136723060501312, 0.5798422821158166, -0.15028112198881133, -0.39350857873322376, 1.8687332552959848, 1.4996776154237408, -2.5978587935254813, -0.08418728423004833, -1.7130754548765064, -0.34219415505953205, 1.2976144427300302, 0.7997008822259573, -1.9145673952331954, 0.32403830118956695, 0.9669468742916221, -0.3954521090418044, -0.5156640132664189, 0.6325874104204111, -0.7730210344534597, -1.0278926686068846, -0.8064923341963592, -0.5283860770954497, 0.05805052625083211, -0.5341935453073812, -0.6306038151611613, 0.19618964614138615, -0.567501753503357, 1.3116043337251144, 1.0625570541938478, 0.1630190918246739, -0.17520577021292585, -0.7448259321076729, -0.06589108782314983, 1.2263868994742944, 0.9973104846473738, -0.8586695931733282, 0.4007921932156928, 0.6476480167091756, 0.5806680435925301, 0.41667800079466144, 0.18080111431959658, -0.6549009506176735, -1.5624811820852393, -1.9034379481414605, 1.2036040733411644, 1.5416853504730623, 0.644723358337419, 0.5148614190703861, -1.9213061654349335, 0.35505322896128755, 0.8491838985035705, -1.0502790566937863, 0.013051058769516184, 1.6146659697158963, -1.0749070393039928, -0.6616722006760997, -0.3743145259476359, -2.4924831145939095, -0.16545246379299003, 2.1703012992627992, -1.2602863121320913, -0.7676530026819841, 0.0843467501757799, -0.2807271956647446, 0.4241491799250738, 1.2569983568147862, 0.33073957061440273, -0.21585240846311052, 1.4033361423654584, 0.12416679561973377, 0.45414894890427215]}],\n",
       "                        {\"barmode\": \"overlay\", \"legend\": {\"bgcolor\": \"#F5F6F9\", \"font\": {\"color\": \"#4D5663\"}}, \"paper_bgcolor\": \"#F5F6F9\", \"plot_bgcolor\": \"#F5F6F9\", \"template\": {\"data\": {\"bar\": [{\"error_x\": {\"color\": \"#2a3f5f\"}, \"error_y\": {\"color\": \"#2a3f5f\"}, \"marker\": {\"line\": {\"color\": \"#E5ECF6\", \"width\": 0.5}}, \"type\": \"bar\"}], \"barpolar\": [{\"marker\": {\"line\": {\"color\": \"#E5ECF6\", \"width\": 0.5}}, \"type\": \"barpolar\"}], \"carpet\": [{\"aaxis\": {\"endlinecolor\": \"#2a3f5f\", \"gridcolor\": \"white\", \"linecolor\": \"white\", \"minorgridcolor\": \"white\", \"startlinecolor\": \"#2a3f5f\"}, \"baxis\": {\"endlinecolor\": \"#2a3f5f\", \"gridcolor\": \"white\", \"linecolor\": \"white\", \"minorgridcolor\": \"white\", \"startlinecolor\": \"#2a3f5f\"}, \"type\": \"carpet\"}], \"choropleth\": [{\"colorbar\": {\"outlinewidth\": 0, \"ticks\": \"\"}, \"type\": \"choropleth\"}], \"contour\": [{\"colorbar\": {\"outlinewidth\": 0, \"ticks\": \"\"}, \"colorscale\": [[0.0, \"#0d0887\"], [0.1111111111111111, \"#46039f\"], [0.2222222222222222, \"#7201a8\"], [0.3333333333333333, \"#9c179e\"], [0.4444444444444444, \"#bd3786\"], [0.5555555555555556, \"#d8576b\"], [0.6666666666666666, \"#ed7953\"], [0.7777777777777778, \"#fb9f3a\"], [0.8888888888888888, \"#fdca26\"], [1.0, \"#f0f921\"]], \"type\": \"contour\"}], \"contourcarpet\": [{\"colorbar\": {\"outlinewidth\": 0, \"ticks\": \"\"}, \"type\": \"contourcarpet\"}], \"heatmap\": [{\"colorbar\": {\"outlinewidth\": 0, \"ticks\": \"\"}, \"colorscale\": [[0.0, \"#0d0887\"], [0.1111111111111111, \"#46039f\"], [0.2222222222222222, \"#7201a8\"], [0.3333333333333333, \"#9c179e\"], [0.4444444444444444, \"#bd3786\"], [0.5555555555555556, \"#d8576b\"], [0.6666666666666666, \"#ed7953\"], [0.7777777777777778, \"#fb9f3a\"], [0.8888888888888888, \"#fdca26\"], [1.0, \"#f0f921\"]], \"type\": \"heatmap\"}], \"heatmapgl\": [{\"colorbar\": {\"outlinewidth\": 0, \"ticks\": \"\"}, \"colorscale\": [[0.0, \"#0d0887\"], [0.1111111111111111, \"#46039f\"], [0.2222222222222222, \"#7201a8\"], [0.3333333333333333, \"#9c179e\"], [0.4444444444444444, \"#bd3786\"], [0.5555555555555556, \"#d8576b\"], [0.6666666666666666, \"#ed7953\"], [0.7777777777777778, \"#fb9f3a\"], [0.8888888888888888, \"#fdca26\"], [1.0, \"#f0f921\"]], \"type\": \"heatmapgl\"}], \"histogram\": [{\"marker\": {\"colorbar\": {\"outlinewidth\": 0, \"ticks\": \"\"}}, \"type\": \"histogram\"}], \"histogram2d\": [{\"colorbar\": {\"outlinewidth\": 0, \"ticks\": \"\"}, \"colorscale\": [[0.0, \"#0d0887\"], [0.1111111111111111, \"#46039f\"], [0.2222222222222222, \"#7201a8\"], [0.3333333333333333, \"#9c179e\"], [0.4444444444444444, \"#bd3786\"], [0.5555555555555556, \"#d8576b\"], [0.6666666666666666, \"#ed7953\"], [0.7777777777777778, \"#fb9f3a\"], [0.8888888888888888, \"#fdca26\"], [1.0, \"#f0f921\"]], \"type\": \"histogram2d\"}], \"histogram2dcontour\": [{\"colorbar\": {\"outlinewidth\": 0, \"ticks\": \"\"}, \"colorscale\": [[0.0, \"#0d0887\"], [0.1111111111111111, \"#46039f\"], [0.2222222222222222, \"#7201a8\"], [0.3333333333333333, \"#9c179e\"], [0.4444444444444444, \"#bd3786\"], [0.5555555555555556, \"#d8576b\"], [0.6666666666666666, \"#ed7953\"], [0.7777777777777778, \"#fb9f3a\"], [0.8888888888888888, \"#fdca26\"], [1.0, \"#f0f921\"]], \"type\": \"histogram2dcontour\"}], \"mesh3d\": [{\"colorbar\": {\"outlinewidth\": 0, \"ticks\": \"\"}, \"type\": \"mesh3d\"}], \"parcoords\": [{\"line\": {\"colorbar\": {\"outlinewidth\": 0, \"ticks\": \"\"}}, \"type\": \"parcoords\"}], \"pie\": [{\"automargin\": true, \"type\": \"pie\"}], \"scatter\": [{\"marker\": {\"colorbar\": {\"outlinewidth\": 0, \"ticks\": \"\"}}, \"type\": \"scatter\"}], \"scatter3d\": [{\"line\": {\"colorbar\": {\"outlinewidth\": 0, \"ticks\": \"\"}}, \"marker\": {\"colorbar\": {\"outlinewidth\": 0, \"ticks\": \"\"}}, \"type\": \"scatter3d\"}], \"scattercarpet\": [{\"marker\": {\"colorbar\": {\"outlinewidth\": 0, \"ticks\": \"\"}}, \"type\": \"scattercarpet\"}], \"scattergeo\": [{\"marker\": {\"colorbar\": {\"outlinewidth\": 0, \"ticks\": \"\"}}, \"type\": \"scattergeo\"}], \"scattergl\": [{\"marker\": {\"colorbar\": {\"outlinewidth\": 0, \"ticks\": \"\"}}, \"type\": \"scattergl\"}], \"scattermapbox\": [{\"marker\": {\"colorbar\": {\"outlinewidth\": 0, \"ticks\": \"\"}}, \"type\": \"scattermapbox\"}], \"scatterpolar\": [{\"marker\": {\"colorbar\": {\"outlinewidth\": 0, \"ticks\": \"\"}}, \"type\": \"scatterpolar\"}], \"scatterpolargl\": [{\"marker\": {\"colorbar\": {\"outlinewidth\": 0, \"ticks\": \"\"}}, \"type\": \"scatterpolargl\"}], \"scatterternary\": [{\"marker\": {\"colorbar\": {\"outlinewidth\": 0, \"ticks\": \"\"}}, \"type\": \"scatterternary\"}], \"surface\": [{\"colorbar\": {\"outlinewidth\": 0, \"ticks\": \"\"}, \"colorscale\": [[0.0, \"#0d0887\"], [0.1111111111111111, \"#46039f\"], [0.2222222222222222, \"#7201a8\"], [0.3333333333333333, \"#9c179e\"], [0.4444444444444444, \"#bd3786\"], [0.5555555555555556, \"#d8576b\"], [0.6666666666666666, \"#ed7953\"], [0.7777777777777778, \"#fb9f3a\"], [0.8888888888888888, \"#fdca26\"], [1.0, \"#f0f921\"]], \"type\": \"surface\"}], \"table\": [{\"cells\": {\"fill\": {\"color\": \"#EBF0F8\"}, \"line\": {\"color\": \"white\"}}, \"header\": {\"fill\": {\"color\": \"#C8D4E3\"}, \"line\": {\"color\": \"white\"}}, \"type\": \"table\"}]}, \"layout\": {\"annotationdefaults\": {\"arrowcolor\": \"#2a3f5f\", \"arrowhead\": 0, \"arrowwidth\": 1}, \"coloraxis\": {\"colorbar\": {\"outlinewidth\": 0, \"ticks\": \"\"}}, \"colorscale\": {\"diverging\": [[0, \"#8e0152\"], [0.1, \"#c51b7d\"], [0.2, \"#de77ae\"], [0.3, \"#f1b6da\"], [0.4, \"#fde0ef\"], [0.5, \"#f7f7f7\"], [0.6, \"#e6f5d0\"], [0.7, \"#b8e186\"], [0.8, \"#7fbc41\"], [0.9, \"#4d9221\"], [1, \"#276419\"]], \"sequential\": [[0.0, \"#0d0887\"], [0.1111111111111111, \"#46039f\"], [0.2222222222222222, \"#7201a8\"], [0.3333333333333333, \"#9c179e\"], [0.4444444444444444, \"#bd3786\"], [0.5555555555555556, \"#d8576b\"], [0.6666666666666666, \"#ed7953\"], [0.7777777777777778, \"#fb9f3a\"], [0.8888888888888888, \"#fdca26\"], [1.0, \"#f0f921\"]], \"sequentialminus\": [[0.0, \"#0d0887\"], [0.1111111111111111, \"#46039f\"], [0.2222222222222222, \"#7201a8\"], [0.3333333333333333, \"#9c179e\"], [0.4444444444444444, \"#bd3786\"], [0.5555555555555556, \"#d8576b\"], [0.6666666666666666, \"#ed7953\"], [0.7777777777777778, \"#fb9f3a\"], [0.8888888888888888, \"#fdca26\"], [1.0, \"#f0f921\"]]}, \"colorway\": [\"#636efa\", \"#EF553B\", \"#00cc96\", \"#ab63fa\", \"#FFA15A\", \"#19d3f3\", \"#FF6692\", \"#B6E880\", \"#FF97FF\", \"#FECB52\"], \"font\": {\"color\": \"#2a3f5f\"}, \"geo\": {\"bgcolor\": \"white\", \"lakecolor\": \"white\", \"landcolor\": \"#E5ECF6\", \"showlakes\": true, \"showland\": true, \"subunitcolor\": \"white\"}, \"hoverlabel\": {\"align\": \"left\"}, \"hovermode\": \"closest\", \"mapbox\": {\"style\": \"light\"}, \"paper_bgcolor\": \"white\", \"plot_bgcolor\": \"#E5ECF6\", \"polar\": {\"angularaxis\": {\"gridcolor\": \"white\", \"linecolor\": \"white\", \"ticks\": \"\"}, \"bgcolor\": \"#E5ECF6\", \"radialaxis\": {\"gridcolor\": \"white\", \"linecolor\": \"white\", \"ticks\": \"\"}}, \"scene\": {\"xaxis\": {\"backgroundcolor\": \"#E5ECF6\", \"gridcolor\": \"white\", \"gridwidth\": 2, \"linecolor\": \"white\", \"showbackground\": true, \"ticks\": \"\", \"zerolinecolor\": \"white\"}, \"yaxis\": {\"backgroundcolor\": \"#E5ECF6\", \"gridcolor\": \"white\", \"gridwidth\": 2, \"linecolor\": \"white\", \"showbackground\": true, \"ticks\": \"\", \"zerolinecolor\": \"white\"}, \"zaxis\": {\"backgroundcolor\": \"#E5ECF6\", \"gridcolor\": \"white\", \"gridwidth\": 2, \"linecolor\": \"white\", \"showbackground\": true, \"ticks\": \"\", \"zerolinecolor\": \"white\"}}, \"shapedefaults\": {\"line\": {\"color\": \"#2a3f5f\"}}, \"ternary\": {\"aaxis\": {\"gridcolor\": \"white\", \"linecolor\": \"white\", \"ticks\": \"\"}, \"baxis\": {\"gridcolor\": \"white\", \"linecolor\": \"white\", \"ticks\": \"\"}, \"bgcolor\": \"#E5ECF6\", \"caxis\": {\"gridcolor\": \"white\", \"linecolor\": \"white\", \"ticks\": \"\"}}, \"title\": {\"x\": 0.05}, \"xaxis\": {\"automargin\": true, \"gridcolor\": \"white\", \"linecolor\": \"white\", \"ticks\": \"\", \"title\": {\"standoff\": 15}, \"zerolinecolor\": \"white\", \"zerolinewidth\": 2}, \"yaxis\": {\"automargin\": true, \"gridcolor\": \"white\", \"linecolor\": \"white\", \"ticks\": \"\", \"title\": {\"standoff\": 15}, \"zerolinecolor\": \"white\", \"zerolinewidth\": 2}}}, \"title\": {\"font\": {\"color\": \"#4D5663\"}}, \"xaxis\": {\"gridcolor\": \"#E1E5ED\", \"showgrid\": true, \"tickfont\": {\"color\": \"#4D5663\"}, \"title\": {\"font\": {\"color\": \"#4D5663\"}, \"text\": \"\"}, \"zerolinecolor\": \"#E1E5ED\"}, \"yaxis\": {\"gridcolor\": \"#E1E5ED\", \"showgrid\": true, \"tickfont\": {\"color\": \"#4D5663\"}, \"title\": {\"font\": {\"color\": \"#4D5663\"}, \"text\": \"\"}, \"zerolinecolor\": \"#E1E5ED\"}},\n",
       "                        {\"showLink\": true, \"linkText\": \"Export to plot.ly\", \"plotlyServerURL\": \"https://plot.ly\", \"responsive\": true}\n",
       "                    ).then(function(){\n",
       "                            \n",
       "var gd = document.getElementById('acc0a5e7-8c5d-4392-93c7-8fc4ebe8c0e2');\n",
       "var x = new MutationObserver(function (mutations, observer) {{\n",
       "        var display = window.getComputedStyle(gd).display;\n",
       "        if (!display || display === 'none') {{\n",
       "            console.log([gd, 'removed!']);\n",
       "            Plotly.purge(gd);\n",
       "            observer.disconnect();\n",
       "        }}\n",
       "}});\n",
       "\n",
       "// Listen for the removal of the full notebook cells\n",
       "var notebookContainer = gd.closest('#notebook-container');\n",
       "if (notebookContainer) {{\n",
       "    x.observe(notebookContainer, {childList: true});\n",
       "}}\n",
       "\n",
       "// Listen for the clearing of the current output cell\n",
       "var outputEl = gd.closest('.output');\n",
       "if (outputEl) {{\n",
       "    x.observe(outputEl, {childList: true});\n",
       "}}\n",
       "\n",
       "                        })\n",
       "                };\n",
       "                });\n",
       "            </script>\n",
       "        </div>"
      ]
     },
     "metadata": {},
     "output_type": "display_data"
    }
   ],
   "source": [
    "df['A'].iplot(kind='hist')"
   ]
  },
  {
   "cell_type": "markdown",
   "metadata": {
    "colab_type": "text",
    "id": "qqH-MdFGiSss"
   },
   "source": [
    "`Histograma aninhado de todas as colunas (mesmo tipo de dados)`"
   ]
  },
  {
   "cell_type": "code",
   "execution_count": 13,
   "metadata": {
    "colab": {},
    "colab_type": "code",
    "id": "7v66WQPAiSst",
    "outputId": "2fe1d472-4766-4202-f6f5-1d6a1710dff6"
   },
   "outputs": [
    {
     "data": {
      "application/vnd.plotly.v1+json": {
       "config": {
        "linkText": "Export to plot.ly",
        "plotlyServerURL": "https://plot.ly",
        "showLink": true
       },
       "data": [
        {
         "histfunc": "count",
         "histnorm": "",
         "marker": {
          "color": "rgba(255, 153, 51, 1.0)",
          "line": {
           "color": "#4D5663",
           "width": 1.3
          }
         },
         "name": "A",
         "opacity": 0.8,
         "orientation": "v",
         "type": "histogram",
         "x": [
          -0.7583625624564826,
          -1.3608135229511027,
          -0.4479688305343663,
          0.25774244428547427,
          -1.6375797293120589,
          -1.0464472057363499,
          1.407325001211225,
          0.276515190255223,
          -0.07316231716756455,
          2.379354983246018,
          1.4416105167771618,
          -2.000675616366275,
          0.599410615388733,
          -1.178157640116541,
          0.8361646635083623,
          1.4209061515389503,
          -1.3772200926778893,
          -1.5330137697628772,
          0.8434488796566412,
          -0.44264142554813973,
          0.7729395311461773,
          -1.186536053062794,
          1.0672315844310665,
          -0.1786475895640133,
          -1.6899719904233519,
          0.8146648919282323,
          -2.541055625678114,
          0.8784841697785496,
          0.32813550809478664,
          1.3136723060501312,
          0.5798422821158166,
          -0.15028112198881133,
          -0.39350857873322376,
          1.8687332552959848,
          1.4996776154237408,
          -2.5978587935254813,
          -0.08418728423004833,
          -1.7130754548765064,
          -0.34219415505953205,
          1.2976144427300302,
          0.7997008822259573,
          -1.9145673952331954,
          0.32403830118956695,
          0.9669468742916221,
          -0.3954521090418044,
          -0.5156640132664189,
          0.6325874104204111,
          -0.7730210344534597,
          -1.0278926686068846,
          -0.8064923341963592,
          -0.5283860770954497,
          0.05805052625083211,
          -0.5341935453073812,
          -0.6306038151611613,
          0.19618964614138615,
          -0.567501753503357,
          1.3116043337251144,
          1.0625570541938478,
          0.1630190918246739,
          -0.17520577021292585,
          -0.7448259321076729,
          -0.06589108782314983,
          1.2263868994742944,
          0.9973104846473738,
          -0.8586695931733282,
          0.4007921932156928,
          0.6476480167091756,
          0.5806680435925301,
          0.41667800079466144,
          0.18080111431959658,
          -0.6549009506176735,
          -1.5624811820852393,
          -1.9034379481414605,
          1.2036040733411644,
          1.5416853504730623,
          0.644723358337419,
          0.5148614190703861,
          -1.9213061654349335,
          0.35505322896128755,
          0.8491838985035705,
          -1.0502790566937863,
          0.013051058769516184,
          1.6146659697158963,
          -1.0749070393039928,
          -0.6616722006760997,
          -0.3743145259476359,
          -2.4924831145939095,
          -0.16545246379299003,
          2.1703012992627992,
          -1.2602863121320913,
          -0.7676530026819841,
          0.0843467501757799,
          -0.2807271956647446,
          0.4241491799250738,
          1.2569983568147862,
          0.33073957061440273,
          -0.21585240846311052,
          1.4033361423654584,
          0.12416679561973377,
          0.45414894890427215
         ]
        },
        {
         "histfunc": "count",
         "histnorm": "",
         "marker": {
          "color": "rgba(55, 128, 191, 1.0)",
          "line": {
           "color": "#4D5663",
           "width": 1.3
          }
         },
         "name": "B",
         "opacity": 0.8,
         "orientation": "v",
         "type": "histogram",
         "x": [
          0.9051120349846424,
          1.1315731612883049,
          0.4889535391167449,
          -0.411827350510033,
          1.7437582525448498,
          0.8754875880381073,
          -1.612719409098891,
          1.2673782176917372,
          0.34610407515785685,
          -0.8734634626765565,
          0.5080615811518349,
          0.3786949114985083,
          0.8549394182735643,
          -1.1727436261908517,
          0.278079586528356,
          -2.086519140021561,
          0.9558921986334105,
          -2.1412044407561335,
          1.5908599450759613,
          -0.38037367059143695,
          -0.33823974441909016,
          0.5148757793898513,
          0.06431934032079333,
          -0.6192210839283654,
          0.6364993369072576,
          0.5238573577202742,
          2.5123333500021423,
          -0.7385360908208347,
          1.5357500979181817,
          1.5724495278522659,
          0.6633106187533743,
          0.1913510422791749,
          -0.9852937680279761,
          0.4866604508534319,
          -1.5691043539958625,
          -0.5457214474250892,
          -2.650467246676767,
          -0.4096399990779472,
          -0.44165613080647653,
          -1.6114045136155386,
          0.3372243946613703,
          0.09216459763101896,
          0.4408702411197516,
          1.026794643555709,
          -0.787067876624869,
          0.274085340958029,
          0.6432038230781414,
          0.11625200510070811,
          -0.11400215542141642,
          1.1678648365076898,
          0.6381872954128966,
          -0.10906986258298167,
          0.40314926362595793,
          -1.4061921229295076,
          -0.8949388605476665,
          -0.6797123989402232,
          0.681267680316777,
          -1.5973585952033058,
          0.9990493726980721,
          -0.9268111651857517,
          -0.7197683145996996,
          0.18706094517469868,
          -1.1137685782674145,
          -0.8981843019223013,
          -0.008022352656607114,
          -0.46902423130002263,
          -1.0663496382780207,
          1.2930554005359125,
          -0.12481695277229017,
          0.8763289665253956,
          -0.15234775564968409,
          0.7815603667800463,
          -0.3711497040527381,
          -0.735133518142438,
          1.0719608777778922,
          -1.8110615652327744,
          -0.21451545478894662,
          -1.0000693418566864,
          -1.2492276001592144,
          -0.46780364099239063,
          0.1472438174569735,
          0.26416988245785844,
          0.6659503106264842,
          1.4700345976857954,
          1.077675298771589,
          1.1078248664225065,
          -0.7199081897875417,
          0.6037307814365238,
          -1.2541232782328138,
          -0.4445705528975758,
          -0.5995953052364829,
          0.8703773020736415,
          1.240967816138145,
          -0.23458836833371494,
          1.3626315874217745,
          -0.34003054967360213,
          0.28031746369473,
          -0.6342169480234975,
          0.6748537839853154,
          -1.3964778756962182
         ]
        },
        {
         "histfunc": "count",
         "histnorm": "",
         "marker": {
          "color": "rgba(50, 171, 96, 1.0)",
          "line": {
           "color": "#4D5663",
           "width": 1.3
          }
         },
         "name": "C",
         "opacity": 0.8,
         "orientation": "v",
         "type": "histogram",
         "x": [
          -0.444678500480317,
          0.0933498848400473,
          0.9355087974997555,
          -1.106441630487202,
          0.7870975629687152,
          0.21808060888783593,
          0.19245161375740785,
          0.058978349501044657,
          -0.8714541206370889,
          1.6723359190038503,
          -0.9521959925693669,
          0.25982368775406417,
          0.4329967486845554,
          0.9585187647681762,
          -1.79933573560346,
          2.2571466440543344,
          0.27242090370105326,
          -3.041426982646799,
          -0.7379674589948564,
          0.21321722437944604,
          0.3744406483158536,
          1.8794147199102167,
          0.5865594775587016,
          -0.3723330026710341,
          -0.21256708491681514,
          1.2175066431034185,
          0.9503232313646496,
          1.7526010217049393,
          -0.6255769714716065,
          -0.8150989477464166,
          0.1900069841307442,
          -0.6573140026719146,
          1.3123490852146837,
          -0.20521456260004223,
          -0.8280753332366754,
          -2.1789891770225105,
          -1.7227530897526353,
          1.2860266607255277,
          0.417423466170257,
          -1.408581550401666,
          -1.0147418694696868,
          1.0617865770644983,
          -2.1357693694007693,
          0.6316085302784928,
          1.0548351609959814,
          -1.821383374322361,
          1.1794682397233458,
          0.7800559142128144,
          1.5175952940754551,
          -0.20063016325093158,
          1.469109182383053,
          0.33064590666961946,
          -1.5329746111023028,
          1.4876464359770907,
          0.7368765553019965,
          0.2556196982451411,
          1.496074295060987,
          -0.25594776352614945,
          -1.0302066787914688,
          0.3771702792035409,
          1.5954550568745687,
          -1.8239541572520326,
          -0.6292071703871251,
          0.8569283151606543,
          0.19021096842866161,
          0.6607647699069801,
          -0.0016000980015075767,
          -0.6033609765671395,
          0.6926557249524916,
          0.13880646341418457,
          -1.3362928951925246,
          0.5040296861060063,
          2.5601117800980524,
          -0.983051918444861,
          -0.7450095718104365,
          -0.8245934015034929,
          -1.1246483229871902,
          -0.6547441335375387,
          -0.8088996560125555,
          -0.0966860051066942,
          -1.4863921450232944,
          0.18967390658638197,
          0.15908685829749233,
          -0.2691504733360306,
          -0.18560225336486053,
          0.1001975328112677,
          -0.4706507089738137,
          0.2368759547272725,
          0.6644170545061568,
          -0.11309520573149913,
          1.1829406966617049,
          -1.0833015314373051,
          -0.15088069839314402,
          -0.2652424034024619,
          0.8990779222502281,
          -0.030734197118241203,
          -0.46028230155709343,
          2.0393872169244824,
          0.3883702636590222,
          1.133687274935083
         ]
        },
        {
         "histfunc": "count",
         "histnorm": "",
         "marker": {
          "color": "rgba(128, 0, 128, 1.0)",
          "line": {
           "color": "#4D5663",
           "width": 1.3
          }
         },
         "name": "D",
         "opacity": 0.8,
         "orientation": "v",
         "type": "histogram",
         "x": [
          -0.14243188168373888,
          -1.0729907558568355,
          0.44733250377667716,
          -1.1897147775895982,
          1.092741516710888,
          -0.06091528550317952,
          0.10743674606032749,
          0.9042940695647604,
          0.5303819578975205,
          1.9992339800473369,
          0.6456010371124833,
          -0.7962804132728767,
          -0.5815192392519256,
          0.2597767876385269,
          -2.459883288053741,
          -0.4082992590619642,
          0.39686139282285504,
          -0.10328064655423272,
          -1.1573545857701342,
          -1.7466222324347853,
          -1.6081787740748272,
          0.042610628533974994,
          1.7131089103702466,
          -0.33970182084475636,
          -0.9583274897717958,
          0.8309717943957573,
          -1.8513065553096661,
          -0.43667935832435667,
          -1.3202801094129164,
          0.19412359694222966,
          0.3863753886878289,
          2.262504342957885,
          -1.1789996565844338,
          0.8610049877785335,
          0.35020646357557556,
          -0.4526706099620868,
          -1.4208827518870466,
          -2.0336415880196306,
          -0.6028790992919976,
          -0.6667505056960525,
          1.034085965991731,
          1.6862381136516247,
          0.9671590675760109,
          0.4687702824218409,
          -0.11354411524057219,
          1.7598471377692582,
          -0.3133961636622412,
          0.7968082245207883,
          -0.8123852383043507,
          -0.1815538188028146,
          -1.2010576577637924,
          0.623379003526806,
          -0.2905917132234972,
          1.0907162251266591,
          -0.943052216702706,
          -0.6358961634386422,
          0.8238944357128126,
          -1.6910025282864853,
          -0.5360314141734744,
          -0.2858234600755065,
          0.11739560318332833,
          1.3392357088416103,
          -0.12730657094197811,
          -0.355344981254377,
          -0.7888413181153048,
          0.010846103051945897,
          2.4643060780738653,
          0.2688894084296869,
          -0.6761623948082517,
          -0.46228423544452435,
          -0.06823119920909179,
          0.5507682072831712,
          -1.4092521832676117,
          0.11165070595437765,
          1.0816741381089106,
          0.00012294423731891224,
          1.6864532375657582,
          -0.21634623521220717,
          1.4069369181982865,
          0.14000154269529902,
          -1.056975185245624,
          -1.454774926494647,
          0.8077501687969396,
          -0.6826502496255977,
          0.6344953632035505,
          -0.15940212485395602,
          1.3448374706334436,
          0.5273274117487469,
          -0.5514095718479104,
          0.3176860475959556,
          -0.0325566071623441,
          -0.0673720916980821,
          0.9991691910935454,
          0.4772946025924812,
          0.9458312063212977,
          -1.1631663106908554,
          1.0876781943861205,
          -0.5592269267673681,
          -0.4905467928214895,
          -0.43363935487996075
         ]
        }
       ],
       "layout": {
        "barmode": "overlay",
        "legend": {
         "bgcolor": "#F5F6F9",
         "font": {
          "color": "#4D5663"
         }
        },
        "paper_bgcolor": "#F5F6F9",
        "plot_bgcolor": "#F5F6F9",
        "template": {
         "data": {
          "bar": [
           {
            "error_x": {
             "color": "#2a3f5f"
            },
            "error_y": {
             "color": "#2a3f5f"
            },
            "marker": {
             "line": {
              "color": "#E5ECF6",
              "width": 0.5
             }
            },
            "type": "bar"
           }
          ],
          "barpolar": [
           {
            "marker": {
             "line": {
              "color": "#E5ECF6",
              "width": 0.5
             }
            },
            "type": "barpolar"
           }
          ],
          "carpet": [
           {
            "aaxis": {
             "endlinecolor": "#2a3f5f",
             "gridcolor": "white",
             "linecolor": "white",
             "minorgridcolor": "white",
             "startlinecolor": "#2a3f5f"
            },
            "baxis": {
             "endlinecolor": "#2a3f5f",
             "gridcolor": "white",
             "linecolor": "white",
             "minorgridcolor": "white",
             "startlinecolor": "#2a3f5f"
            },
            "type": "carpet"
           }
          ],
          "choropleth": [
           {
            "colorbar": {
             "outlinewidth": 0,
             "ticks": ""
            },
            "type": "choropleth"
           }
          ],
          "contour": [
           {
            "colorbar": {
             "outlinewidth": 0,
             "ticks": ""
            },
            "colorscale": [
             [
              0,
              "#0d0887"
             ],
             [
              0.1111111111111111,
              "#46039f"
             ],
             [
              0.2222222222222222,
              "#7201a8"
             ],
             [
              0.3333333333333333,
              "#9c179e"
             ],
             [
              0.4444444444444444,
              "#bd3786"
             ],
             [
              0.5555555555555556,
              "#d8576b"
             ],
             [
              0.6666666666666666,
              "#ed7953"
             ],
             [
              0.7777777777777778,
              "#fb9f3a"
             ],
             [
              0.8888888888888888,
              "#fdca26"
             ],
             [
              1,
              "#f0f921"
             ]
            ],
            "type": "contour"
           }
          ],
          "contourcarpet": [
           {
            "colorbar": {
             "outlinewidth": 0,
             "ticks": ""
            },
            "type": "contourcarpet"
           }
          ],
          "heatmap": [
           {
            "colorbar": {
             "outlinewidth": 0,
             "ticks": ""
            },
            "colorscale": [
             [
              0,
              "#0d0887"
             ],
             [
              0.1111111111111111,
              "#46039f"
             ],
             [
              0.2222222222222222,
              "#7201a8"
             ],
             [
              0.3333333333333333,
              "#9c179e"
             ],
             [
              0.4444444444444444,
              "#bd3786"
             ],
             [
              0.5555555555555556,
              "#d8576b"
             ],
             [
              0.6666666666666666,
              "#ed7953"
             ],
             [
              0.7777777777777778,
              "#fb9f3a"
             ],
             [
              0.8888888888888888,
              "#fdca26"
             ],
             [
              1,
              "#f0f921"
             ]
            ],
            "type": "heatmap"
           }
          ],
          "heatmapgl": [
           {
            "colorbar": {
             "outlinewidth": 0,
             "ticks": ""
            },
            "colorscale": [
             [
              0,
              "#0d0887"
             ],
             [
              0.1111111111111111,
              "#46039f"
             ],
             [
              0.2222222222222222,
              "#7201a8"
             ],
             [
              0.3333333333333333,
              "#9c179e"
             ],
             [
              0.4444444444444444,
              "#bd3786"
             ],
             [
              0.5555555555555556,
              "#d8576b"
             ],
             [
              0.6666666666666666,
              "#ed7953"
             ],
             [
              0.7777777777777778,
              "#fb9f3a"
             ],
             [
              0.8888888888888888,
              "#fdca26"
             ],
             [
              1,
              "#f0f921"
             ]
            ],
            "type": "heatmapgl"
           }
          ],
          "histogram": [
           {
            "marker": {
             "colorbar": {
              "outlinewidth": 0,
              "ticks": ""
             }
            },
            "type": "histogram"
           }
          ],
          "histogram2d": [
           {
            "colorbar": {
             "outlinewidth": 0,
             "ticks": ""
            },
            "colorscale": [
             [
              0,
              "#0d0887"
             ],
             [
              0.1111111111111111,
              "#46039f"
             ],
             [
              0.2222222222222222,
              "#7201a8"
             ],
             [
              0.3333333333333333,
              "#9c179e"
             ],
             [
              0.4444444444444444,
              "#bd3786"
             ],
             [
              0.5555555555555556,
              "#d8576b"
             ],
             [
              0.6666666666666666,
              "#ed7953"
             ],
             [
              0.7777777777777778,
              "#fb9f3a"
             ],
             [
              0.8888888888888888,
              "#fdca26"
             ],
             [
              1,
              "#f0f921"
             ]
            ],
            "type": "histogram2d"
           }
          ],
          "histogram2dcontour": [
           {
            "colorbar": {
             "outlinewidth": 0,
             "ticks": ""
            },
            "colorscale": [
             [
              0,
              "#0d0887"
             ],
             [
              0.1111111111111111,
              "#46039f"
             ],
             [
              0.2222222222222222,
              "#7201a8"
             ],
             [
              0.3333333333333333,
              "#9c179e"
             ],
             [
              0.4444444444444444,
              "#bd3786"
             ],
             [
              0.5555555555555556,
              "#d8576b"
             ],
             [
              0.6666666666666666,
              "#ed7953"
             ],
             [
              0.7777777777777778,
              "#fb9f3a"
             ],
             [
              0.8888888888888888,
              "#fdca26"
             ],
             [
              1,
              "#f0f921"
             ]
            ],
            "type": "histogram2dcontour"
           }
          ],
          "mesh3d": [
           {
            "colorbar": {
             "outlinewidth": 0,
             "ticks": ""
            },
            "type": "mesh3d"
           }
          ],
          "parcoords": [
           {
            "line": {
             "colorbar": {
              "outlinewidth": 0,
              "ticks": ""
             }
            },
            "type": "parcoords"
           }
          ],
          "pie": [
           {
            "automargin": true,
            "type": "pie"
           }
          ],
          "scatter": [
           {
            "marker": {
             "colorbar": {
              "outlinewidth": 0,
              "ticks": ""
             }
            },
            "type": "scatter"
           }
          ],
          "scatter3d": [
           {
            "line": {
             "colorbar": {
              "outlinewidth": 0,
              "ticks": ""
             }
            },
            "marker": {
             "colorbar": {
              "outlinewidth": 0,
              "ticks": ""
             }
            },
            "type": "scatter3d"
           }
          ],
          "scattercarpet": [
           {
            "marker": {
             "colorbar": {
              "outlinewidth": 0,
              "ticks": ""
             }
            },
            "type": "scattercarpet"
           }
          ],
          "scattergeo": [
           {
            "marker": {
             "colorbar": {
              "outlinewidth": 0,
              "ticks": ""
             }
            },
            "type": "scattergeo"
           }
          ],
          "scattergl": [
           {
            "marker": {
             "colorbar": {
              "outlinewidth": 0,
              "ticks": ""
             }
            },
            "type": "scattergl"
           }
          ],
          "scattermapbox": [
           {
            "marker": {
             "colorbar": {
              "outlinewidth": 0,
              "ticks": ""
             }
            },
            "type": "scattermapbox"
           }
          ],
          "scatterpolar": [
           {
            "marker": {
             "colorbar": {
              "outlinewidth": 0,
              "ticks": ""
             }
            },
            "type": "scatterpolar"
           }
          ],
          "scatterpolargl": [
           {
            "marker": {
             "colorbar": {
              "outlinewidth": 0,
              "ticks": ""
             }
            },
            "type": "scatterpolargl"
           }
          ],
          "scatterternary": [
           {
            "marker": {
             "colorbar": {
              "outlinewidth": 0,
              "ticks": ""
             }
            },
            "type": "scatterternary"
           }
          ],
          "surface": [
           {
            "colorbar": {
             "outlinewidth": 0,
             "ticks": ""
            },
            "colorscale": [
             [
              0,
              "#0d0887"
             ],
             [
              0.1111111111111111,
              "#46039f"
             ],
             [
              0.2222222222222222,
              "#7201a8"
             ],
             [
              0.3333333333333333,
              "#9c179e"
             ],
             [
              0.4444444444444444,
              "#bd3786"
             ],
             [
              0.5555555555555556,
              "#d8576b"
             ],
             [
              0.6666666666666666,
              "#ed7953"
             ],
             [
              0.7777777777777778,
              "#fb9f3a"
             ],
             [
              0.8888888888888888,
              "#fdca26"
             ],
             [
              1,
              "#f0f921"
             ]
            ],
            "type": "surface"
           }
          ],
          "table": [
           {
            "cells": {
             "fill": {
              "color": "#EBF0F8"
             },
             "line": {
              "color": "white"
             }
            },
            "header": {
             "fill": {
              "color": "#C8D4E3"
             },
             "line": {
              "color": "white"
             }
            },
            "type": "table"
           }
          ]
         },
         "layout": {
          "annotationdefaults": {
           "arrowcolor": "#2a3f5f",
           "arrowhead": 0,
           "arrowwidth": 1
          },
          "coloraxis": {
           "colorbar": {
            "outlinewidth": 0,
            "ticks": ""
           }
          },
          "colorscale": {
           "diverging": [
            [
             0,
             "#8e0152"
            ],
            [
             0.1,
             "#c51b7d"
            ],
            [
             0.2,
             "#de77ae"
            ],
            [
             0.3,
             "#f1b6da"
            ],
            [
             0.4,
             "#fde0ef"
            ],
            [
             0.5,
             "#f7f7f7"
            ],
            [
             0.6,
             "#e6f5d0"
            ],
            [
             0.7,
             "#b8e186"
            ],
            [
             0.8,
             "#7fbc41"
            ],
            [
             0.9,
             "#4d9221"
            ],
            [
             1,
             "#276419"
            ]
           ],
           "sequential": [
            [
             0,
             "#0d0887"
            ],
            [
             0.1111111111111111,
             "#46039f"
            ],
            [
             0.2222222222222222,
             "#7201a8"
            ],
            [
             0.3333333333333333,
             "#9c179e"
            ],
            [
             0.4444444444444444,
             "#bd3786"
            ],
            [
             0.5555555555555556,
             "#d8576b"
            ],
            [
             0.6666666666666666,
             "#ed7953"
            ],
            [
             0.7777777777777778,
             "#fb9f3a"
            ],
            [
             0.8888888888888888,
             "#fdca26"
            ],
            [
             1,
             "#f0f921"
            ]
           ],
           "sequentialminus": [
            [
             0,
             "#0d0887"
            ],
            [
             0.1111111111111111,
             "#46039f"
            ],
            [
             0.2222222222222222,
             "#7201a8"
            ],
            [
             0.3333333333333333,
             "#9c179e"
            ],
            [
             0.4444444444444444,
             "#bd3786"
            ],
            [
             0.5555555555555556,
             "#d8576b"
            ],
            [
             0.6666666666666666,
             "#ed7953"
            ],
            [
             0.7777777777777778,
             "#fb9f3a"
            ],
            [
             0.8888888888888888,
             "#fdca26"
            ],
            [
             1,
             "#f0f921"
            ]
           ]
          },
          "colorway": [
           "#636efa",
           "#EF553B",
           "#00cc96",
           "#ab63fa",
           "#FFA15A",
           "#19d3f3",
           "#FF6692",
           "#B6E880",
           "#FF97FF",
           "#FECB52"
          ],
          "font": {
           "color": "#2a3f5f"
          },
          "geo": {
           "bgcolor": "white",
           "lakecolor": "white",
           "landcolor": "#E5ECF6",
           "showlakes": true,
           "showland": true,
           "subunitcolor": "white"
          },
          "hoverlabel": {
           "align": "left"
          },
          "hovermode": "closest",
          "mapbox": {
           "style": "light"
          },
          "paper_bgcolor": "white",
          "plot_bgcolor": "#E5ECF6",
          "polar": {
           "angularaxis": {
            "gridcolor": "white",
            "linecolor": "white",
            "ticks": ""
           },
           "bgcolor": "#E5ECF6",
           "radialaxis": {
            "gridcolor": "white",
            "linecolor": "white",
            "ticks": ""
           }
          },
          "scene": {
           "xaxis": {
            "backgroundcolor": "#E5ECF6",
            "gridcolor": "white",
            "gridwidth": 2,
            "linecolor": "white",
            "showbackground": true,
            "ticks": "",
            "zerolinecolor": "white"
           },
           "yaxis": {
            "backgroundcolor": "#E5ECF6",
            "gridcolor": "white",
            "gridwidth": 2,
            "linecolor": "white",
            "showbackground": true,
            "ticks": "",
            "zerolinecolor": "white"
           },
           "zaxis": {
            "backgroundcolor": "#E5ECF6",
            "gridcolor": "white",
            "gridwidth": 2,
            "linecolor": "white",
            "showbackground": true,
            "ticks": "",
            "zerolinecolor": "white"
           }
          },
          "shapedefaults": {
           "line": {
            "color": "#2a3f5f"
           }
          },
          "ternary": {
           "aaxis": {
            "gridcolor": "white",
            "linecolor": "white",
            "ticks": ""
           },
           "baxis": {
            "gridcolor": "white",
            "linecolor": "white",
            "ticks": ""
           },
           "bgcolor": "#E5ECF6",
           "caxis": {
            "gridcolor": "white",
            "linecolor": "white",
            "ticks": ""
           }
          },
          "title": {
           "x": 0.05
          },
          "xaxis": {
           "automargin": true,
           "gridcolor": "white",
           "linecolor": "white",
           "ticks": "",
           "title": {
            "standoff": 15
           },
           "zerolinecolor": "white",
           "zerolinewidth": 2
          },
          "yaxis": {
           "automargin": true,
           "gridcolor": "white",
           "linecolor": "white",
           "ticks": "",
           "title": {
            "standoff": 15
           },
           "zerolinecolor": "white",
           "zerolinewidth": 2
          }
         }
        },
        "title": {
         "font": {
          "color": "#4D5663"
         }
        },
        "xaxis": {
         "gridcolor": "#E1E5ED",
         "showgrid": true,
         "tickfont": {
          "color": "#4D5663"
         },
         "title": {
          "font": {
           "color": "#4D5663"
          },
          "text": ""
         },
         "zerolinecolor": "#E1E5ED"
        },
        "yaxis": {
         "gridcolor": "#E1E5ED",
         "showgrid": true,
         "tickfont": {
          "color": "#4D5663"
         },
         "title": {
          "font": {
           "color": "#4D5663"
          },
          "text": ""
         },
         "zerolinecolor": "#E1E5ED"
        }
       }
      },
      "text/html": [
       "<div>\n",
       "        \n",
       "        \n",
       "            <div id=\"884e362f-b2d1-4970-af39-e5cd50eda9d7\" class=\"plotly-graph-div\" style=\"height:525px; width:100%;\"></div>\n",
       "            <script type=\"text/javascript\">\n",
       "                require([\"plotly\"], function(Plotly) {\n",
       "                    window.PLOTLYENV=window.PLOTLYENV || {};\n",
       "                    window.PLOTLYENV.BASE_URL='https://plot.ly';\n",
       "                    \n",
       "                if (document.getElementById(\"884e362f-b2d1-4970-af39-e5cd50eda9d7\")) {\n",
       "                    Plotly.newPlot(\n",
       "                        '884e362f-b2d1-4970-af39-e5cd50eda9d7',\n",
       "                        [{\"histfunc\": \"count\", \"histnorm\": \"\", \"marker\": {\"color\": \"rgba(255, 153, 51, 1.0)\", \"line\": {\"color\": \"#4D5663\", \"width\": 1.3}}, \"name\": \"A\", \"opacity\": 0.8, \"orientation\": \"v\", \"type\": \"histogram\", \"x\": [-0.7583625624564826, -1.3608135229511027, -0.4479688305343663, 0.25774244428547427, -1.6375797293120589, -1.0464472057363499, 1.407325001211225, 0.276515190255223, -0.07316231716756455, 2.379354983246018, 1.4416105167771618, -2.000675616366275, 0.599410615388733, -1.178157640116541, 0.8361646635083623, 1.4209061515389503, -1.3772200926778893, -1.5330137697628772, 0.8434488796566412, -0.44264142554813973, 0.7729395311461773, -1.186536053062794, 1.0672315844310665, -0.1786475895640133, -1.6899719904233519, 0.8146648919282323, -2.541055625678114, 0.8784841697785496, 0.32813550809478664, 1.3136723060501312, 0.5798422821158166, -0.15028112198881133, -0.39350857873322376, 1.8687332552959848, 1.4996776154237408, -2.5978587935254813, -0.08418728423004833, -1.7130754548765064, -0.34219415505953205, 1.2976144427300302, 0.7997008822259573, -1.9145673952331954, 0.32403830118956695, 0.9669468742916221, -0.3954521090418044, -0.5156640132664189, 0.6325874104204111, -0.7730210344534597, -1.0278926686068846, -0.8064923341963592, -0.5283860770954497, 0.05805052625083211, -0.5341935453073812, -0.6306038151611613, 0.19618964614138615, -0.567501753503357, 1.3116043337251144, 1.0625570541938478, 0.1630190918246739, -0.17520577021292585, -0.7448259321076729, -0.06589108782314983, 1.2263868994742944, 0.9973104846473738, -0.8586695931733282, 0.4007921932156928, 0.6476480167091756, 0.5806680435925301, 0.41667800079466144, 0.18080111431959658, -0.6549009506176735, -1.5624811820852393, -1.9034379481414605, 1.2036040733411644, 1.5416853504730623, 0.644723358337419, 0.5148614190703861, -1.9213061654349335, 0.35505322896128755, 0.8491838985035705, -1.0502790566937863, 0.013051058769516184, 1.6146659697158963, -1.0749070393039928, -0.6616722006760997, -0.3743145259476359, -2.4924831145939095, -0.16545246379299003, 2.1703012992627992, -1.2602863121320913, -0.7676530026819841, 0.0843467501757799, -0.2807271956647446, 0.4241491799250738, 1.2569983568147862, 0.33073957061440273, -0.21585240846311052, 1.4033361423654584, 0.12416679561973377, 0.45414894890427215]}, {\"histfunc\": \"count\", \"histnorm\": \"\", \"marker\": {\"color\": \"rgba(55, 128, 191, 1.0)\", \"line\": {\"color\": \"#4D5663\", \"width\": 1.3}}, \"name\": \"B\", \"opacity\": 0.8, \"orientation\": \"v\", \"type\": \"histogram\", \"x\": [0.9051120349846424, 1.1315731612883049, 0.4889535391167449, -0.411827350510033, 1.7437582525448498, 0.8754875880381073, -1.612719409098891, 1.2673782176917372, 0.34610407515785685, -0.8734634626765565, 0.5080615811518349, 0.3786949114985083, 0.8549394182735643, -1.1727436261908517, 0.278079586528356, -2.086519140021561, 0.9558921986334105, -2.1412044407561335, 1.5908599450759613, -0.38037367059143695, -0.33823974441909016, 0.5148757793898513, 0.06431934032079333, -0.6192210839283654, 0.6364993369072576, 0.5238573577202742, 2.5123333500021423, -0.7385360908208347, 1.5357500979181817, 1.5724495278522659, 0.6633106187533743, 0.1913510422791749, -0.9852937680279761, 0.4866604508534319, -1.5691043539958625, -0.5457214474250892, -2.650467246676767, -0.4096399990779472, -0.44165613080647653, -1.6114045136155386, 0.3372243946613703, 0.09216459763101896, 0.4408702411197516, 1.026794643555709, -0.787067876624869, 0.274085340958029, 0.6432038230781414, 0.11625200510070811, -0.11400215542141642, 1.1678648365076898, 0.6381872954128966, -0.10906986258298167, 0.40314926362595793, -1.4061921229295076, -0.8949388605476665, -0.6797123989402232, 0.681267680316777, -1.5973585952033058, 0.9990493726980721, -0.9268111651857517, -0.7197683145996996, 0.18706094517469868, -1.1137685782674145, -0.8981843019223013, -0.008022352656607114, -0.46902423130002263, -1.0663496382780207, 1.2930554005359125, -0.12481695277229017, 0.8763289665253956, -0.15234775564968409, 0.7815603667800463, -0.3711497040527381, -0.735133518142438, 1.0719608777778922, -1.8110615652327744, -0.21451545478894662, -1.0000693418566864, -1.2492276001592144, -0.46780364099239063, 0.1472438174569735, 0.26416988245785844, 0.6659503106264842, 1.4700345976857954, 1.077675298771589, 1.1078248664225065, -0.7199081897875417, 0.6037307814365238, -1.2541232782328138, -0.4445705528975758, -0.5995953052364829, 0.8703773020736415, 1.240967816138145, -0.23458836833371494, 1.3626315874217745, -0.34003054967360213, 0.28031746369473, -0.6342169480234975, 0.6748537839853154, -1.3964778756962182]}, {\"histfunc\": \"count\", \"histnorm\": \"\", \"marker\": {\"color\": \"rgba(50, 171, 96, 1.0)\", \"line\": {\"color\": \"#4D5663\", \"width\": 1.3}}, \"name\": \"C\", \"opacity\": 0.8, \"orientation\": \"v\", \"type\": \"histogram\", \"x\": [-0.444678500480317, 0.0933498848400473, 0.9355087974997555, -1.106441630487202, 0.7870975629687152, 0.21808060888783593, 0.19245161375740785, 0.058978349501044657, -0.8714541206370889, 1.6723359190038503, -0.9521959925693669, 0.25982368775406417, 0.4329967486845554, 0.9585187647681762, -1.79933573560346, 2.2571466440543344, 0.27242090370105326, -3.041426982646799, -0.7379674589948564, 0.21321722437944604, 0.3744406483158536, 1.8794147199102167, 0.5865594775587016, -0.3723330026710341, -0.21256708491681514, 1.2175066431034185, 0.9503232313646496, 1.7526010217049393, -0.6255769714716065, -0.8150989477464166, 0.1900069841307442, -0.6573140026719146, 1.3123490852146837, -0.20521456260004223, -0.8280753332366754, -2.1789891770225105, -1.7227530897526353, 1.2860266607255277, 0.417423466170257, -1.408581550401666, -1.0147418694696868, 1.0617865770644983, -2.1357693694007693, 0.6316085302784928, 1.0548351609959814, -1.821383374322361, 1.1794682397233458, 0.7800559142128144, 1.5175952940754551, -0.20063016325093158, 1.469109182383053, 0.33064590666961946, -1.5329746111023028, 1.4876464359770907, 0.7368765553019965, 0.2556196982451411, 1.496074295060987, -0.25594776352614945, -1.0302066787914688, 0.3771702792035409, 1.5954550568745687, -1.8239541572520326, -0.6292071703871251, 0.8569283151606543, 0.19021096842866161, 0.6607647699069801, -0.0016000980015075767, -0.6033609765671395, 0.6926557249524916, 0.13880646341418457, -1.3362928951925246, 0.5040296861060063, 2.5601117800980524, -0.983051918444861, -0.7450095718104365, -0.8245934015034929, -1.1246483229871902, -0.6547441335375387, -0.8088996560125555, -0.0966860051066942, -1.4863921450232944, 0.18967390658638197, 0.15908685829749233, -0.2691504733360306, -0.18560225336486053, 0.1001975328112677, -0.4706507089738137, 0.2368759547272725, 0.6644170545061568, -0.11309520573149913, 1.1829406966617049, -1.0833015314373051, -0.15088069839314402, -0.2652424034024619, 0.8990779222502281, -0.030734197118241203, -0.46028230155709343, 2.0393872169244824, 0.3883702636590222, 1.133687274935083]}, {\"histfunc\": \"count\", \"histnorm\": \"\", \"marker\": {\"color\": \"rgba(128, 0, 128, 1.0)\", \"line\": {\"color\": \"#4D5663\", \"width\": 1.3}}, \"name\": \"D\", \"opacity\": 0.8, \"orientation\": \"v\", \"type\": \"histogram\", \"x\": [-0.14243188168373888, -1.0729907558568355, 0.44733250377667716, -1.1897147775895982, 1.092741516710888, -0.06091528550317952, 0.10743674606032749, 0.9042940695647604, 0.5303819578975205, 1.9992339800473369, 0.6456010371124833, -0.7962804132728767, -0.5815192392519256, 0.2597767876385269, -2.459883288053741, -0.4082992590619642, 0.39686139282285504, -0.10328064655423272, -1.1573545857701342, -1.7466222324347853, -1.6081787740748272, 0.042610628533974994, 1.7131089103702466, -0.33970182084475636, -0.9583274897717958, 0.8309717943957573, -1.8513065553096661, -0.43667935832435667, -1.3202801094129164, 0.19412359694222966, 0.3863753886878289, 2.262504342957885, -1.1789996565844338, 0.8610049877785335, 0.35020646357557556, -0.4526706099620868, -1.4208827518870466, -2.0336415880196306, -0.6028790992919976, -0.6667505056960525, 1.034085965991731, 1.6862381136516247, 0.9671590675760109, 0.4687702824218409, -0.11354411524057219, 1.7598471377692582, -0.3133961636622412, 0.7968082245207883, -0.8123852383043507, -0.1815538188028146, -1.2010576577637924, 0.623379003526806, -0.2905917132234972, 1.0907162251266591, -0.943052216702706, -0.6358961634386422, 0.8238944357128126, -1.6910025282864853, -0.5360314141734744, -0.2858234600755065, 0.11739560318332833, 1.3392357088416103, -0.12730657094197811, -0.355344981254377, -0.7888413181153048, 0.010846103051945897, 2.4643060780738653, 0.2688894084296869, -0.6761623948082517, -0.46228423544452435, -0.06823119920909179, 0.5507682072831712, -1.4092521832676117, 0.11165070595437765, 1.0816741381089106, 0.00012294423731891224, 1.6864532375657582, -0.21634623521220717, 1.4069369181982865, 0.14000154269529902, -1.056975185245624, -1.454774926494647, 0.8077501687969396, -0.6826502496255977, 0.6344953632035505, -0.15940212485395602, 1.3448374706334436, 0.5273274117487469, -0.5514095718479104, 0.3176860475959556, -0.0325566071623441, -0.0673720916980821, 0.9991691910935454, 0.4772946025924812, 0.9458312063212977, -1.1631663106908554, 1.0876781943861205, -0.5592269267673681, -0.4905467928214895, -0.43363935487996075]}],\n",
       "                        {\"barmode\": \"overlay\", \"legend\": {\"bgcolor\": \"#F5F6F9\", \"font\": {\"color\": \"#4D5663\"}}, \"paper_bgcolor\": \"#F5F6F9\", \"plot_bgcolor\": \"#F5F6F9\", \"template\": {\"data\": {\"bar\": [{\"error_x\": {\"color\": \"#2a3f5f\"}, \"error_y\": {\"color\": \"#2a3f5f\"}, \"marker\": {\"line\": {\"color\": \"#E5ECF6\", \"width\": 0.5}}, \"type\": \"bar\"}], \"barpolar\": [{\"marker\": {\"line\": {\"color\": \"#E5ECF6\", \"width\": 0.5}}, \"type\": \"barpolar\"}], \"carpet\": [{\"aaxis\": {\"endlinecolor\": \"#2a3f5f\", \"gridcolor\": \"white\", \"linecolor\": \"white\", \"minorgridcolor\": \"white\", \"startlinecolor\": \"#2a3f5f\"}, \"baxis\": {\"endlinecolor\": \"#2a3f5f\", \"gridcolor\": \"white\", \"linecolor\": \"white\", \"minorgridcolor\": \"white\", \"startlinecolor\": \"#2a3f5f\"}, \"type\": \"carpet\"}], \"choropleth\": [{\"colorbar\": {\"outlinewidth\": 0, \"ticks\": \"\"}, \"type\": \"choropleth\"}], \"contour\": [{\"colorbar\": {\"outlinewidth\": 0, \"ticks\": \"\"}, \"colorscale\": [[0.0, \"#0d0887\"], [0.1111111111111111, \"#46039f\"], [0.2222222222222222, \"#7201a8\"], [0.3333333333333333, \"#9c179e\"], [0.4444444444444444, \"#bd3786\"], [0.5555555555555556, \"#d8576b\"], [0.6666666666666666, \"#ed7953\"], [0.7777777777777778, \"#fb9f3a\"], [0.8888888888888888, \"#fdca26\"], [1.0, \"#f0f921\"]], \"type\": \"contour\"}], \"contourcarpet\": [{\"colorbar\": {\"outlinewidth\": 0, \"ticks\": \"\"}, \"type\": \"contourcarpet\"}], \"heatmap\": [{\"colorbar\": {\"outlinewidth\": 0, \"ticks\": \"\"}, \"colorscale\": [[0.0, \"#0d0887\"], [0.1111111111111111, \"#46039f\"], [0.2222222222222222, \"#7201a8\"], [0.3333333333333333, \"#9c179e\"], [0.4444444444444444, \"#bd3786\"], [0.5555555555555556, \"#d8576b\"], [0.6666666666666666, \"#ed7953\"], [0.7777777777777778, \"#fb9f3a\"], [0.8888888888888888, \"#fdca26\"], [1.0, \"#f0f921\"]], \"type\": \"heatmap\"}], \"heatmapgl\": [{\"colorbar\": {\"outlinewidth\": 0, \"ticks\": \"\"}, \"colorscale\": [[0.0, \"#0d0887\"], [0.1111111111111111, \"#46039f\"], [0.2222222222222222, \"#7201a8\"], [0.3333333333333333, \"#9c179e\"], [0.4444444444444444, \"#bd3786\"], [0.5555555555555556, \"#d8576b\"], [0.6666666666666666, \"#ed7953\"], [0.7777777777777778, \"#fb9f3a\"], [0.8888888888888888, \"#fdca26\"], [1.0, \"#f0f921\"]], \"type\": \"heatmapgl\"}], \"histogram\": [{\"marker\": {\"colorbar\": {\"outlinewidth\": 0, \"ticks\": \"\"}}, \"type\": \"histogram\"}], \"histogram2d\": [{\"colorbar\": {\"outlinewidth\": 0, \"ticks\": \"\"}, \"colorscale\": [[0.0, \"#0d0887\"], [0.1111111111111111, \"#46039f\"], [0.2222222222222222, \"#7201a8\"], [0.3333333333333333, \"#9c179e\"], [0.4444444444444444, \"#bd3786\"], [0.5555555555555556, \"#d8576b\"], [0.6666666666666666, \"#ed7953\"], [0.7777777777777778, \"#fb9f3a\"], [0.8888888888888888, \"#fdca26\"], [1.0, \"#f0f921\"]], \"type\": \"histogram2d\"}], \"histogram2dcontour\": [{\"colorbar\": {\"outlinewidth\": 0, \"ticks\": \"\"}, \"colorscale\": [[0.0, \"#0d0887\"], [0.1111111111111111, \"#46039f\"], [0.2222222222222222, \"#7201a8\"], [0.3333333333333333, \"#9c179e\"], [0.4444444444444444, \"#bd3786\"], [0.5555555555555556, \"#d8576b\"], [0.6666666666666666, \"#ed7953\"], [0.7777777777777778, \"#fb9f3a\"], [0.8888888888888888, \"#fdca26\"], [1.0, \"#f0f921\"]], \"type\": \"histogram2dcontour\"}], \"mesh3d\": [{\"colorbar\": {\"outlinewidth\": 0, \"ticks\": \"\"}, \"type\": \"mesh3d\"}], \"parcoords\": [{\"line\": {\"colorbar\": {\"outlinewidth\": 0, \"ticks\": \"\"}}, \"type\": \"parcoords\"}], \"pie\": [{\"automargin\": true, \"type\": \"pie\"}], \"scatter\": [{\"marker\": {\"colorbar\": {\"outlinewidth\": 0, \"ticks\": \"\"}}, \"type\": \"scatter\"}], \"scatter3d\": [{\"line\": {\"colorbar\": {\"outlinewidth\": 0, \"ticks\": \"\"}}, \"marker\": {\"colorbar\": {\"outlinewidth\": 0, \"ticks\": \"\"}}, \"type\": \"scatter3d\"}], \"scattercarpet\": [{\"marker\": {\"colorbar\": {\"outlinewidth\": 0, \"ticks\": \"\"}}, \"type\": \"scattercarpet\"}], \"scattergeo\": [{\"marker\": {\"colorbar\": {\"outlinewidth\": 0, \"ticks\": \"\"}}, \"type\": \"scattergeo\"}], \"scattergl\": [{\"marker\": {\"colorbar\": {\"outlinewidth\": 0, \"ticks\": \"\"}}, \"type\": \"scattergl\"}], \"scattermapbox\": [{\"marker\": {\"colorbar\": {\"outlinewidth\": 0, \"ticks\": \"\"}}, \"type\": \"scattermapbox\"}], \"scatterpolar\": [{\"marker\": {\"colorbar\": {\"outlinewidth\": 0, \"ticks\": \"\"}}, \"type\": \"scatterpolar\"}], \"scatterpolargl\": [{\"marker\": {\"colorbar\": {\"outlinewidth\": 0, \"ticks\": \"\"}}, \"type\": \"scatterpolargl\"}], \"scatterternary\": [{\"marker\": {\"colorbar\": {\"outlinewidth\": 0, \"ticks\": \"\"}}, \"type\": \"scatterternary\"}], \"surface\": [{\"colorbar\": {\"outlinewidth\": 0, \"ticks\": \"\"}, \"colorscale\": [[0.0, \"#0d0887\"], [0.1111111111111111, \"#46039f\"], [0.2222222222222222, \"#7201a8\"], [0.3333333333333333, \"#9c179e\"], [0.4444444444444444, \"#bd3786\"], [0.5555555555555556, \"#d8576b\"], [0.6666666666666666, \"#ed7953\"], [0.7777777777777778, \"#fb9f3a\"], [0.8888888888888888, \"#fdca26\"], [1.0, \"#f0f921\"]], \"type\": \"surface\"}], \"table\": [{\"cells\": {\"fill\": {\"color\": \"#EBF0F8\"}, \"line\": {\"color\": \"white\"}}, \"header\": {\"fill\": {\"color\": \"#C8D4E3\"}, \"line\": {\"color\": \"white\"}}, \"type\": \"table\"}]}, \"layout\": {\"annotationdefaults\": {\"arrowcolor\": \"#2a3f5f\", \"arrowhead\": 0, \"arrowwidth\": 1}, \"coloraxis\": {\"colorbar\": {\"outlinewidth\": 0, \"ticks\": \"\"}}, \"colorscale\": {\"diverging\": [[0, \"#8e0152\"], [0.1, \"#c51b7d\"], [0.2, \"#de77ae\"], [0.3, \"#f1b6da\"], [0.4, \"#fde0ef\"], [0.5, \"#f7f7f7\"], [0.6, \"#e6f5d0\"], [0.7, \"#b8e186\"], [0.8, \"#7fbc41\"], [0.9, \"#4d9221\"], [1, \"#276419\"]], \"sequential\": [[0.0, \"#0d0887\"], [0.1111111111111111, \"#46039f\"], [0.2222222222222222, \"#7201a8\"], [0.3333333333333333, \"#9c179e\"], [0.4444444444444444, \"#bd3786\"], [0.5555555555555556, \"#d8576b\"], [0.6666666666666666, \"#ed7953\"], [0.7777777777777778, \"#fb9f3a\"], [0.8888888888888888, \"#fdca26\"], [1.0, \"#f0f921\"]], \"sequentialminus\": [[0.0, \"#0d0887\"], [0.1111111111111111, \"#46039f\"], [0.2222222222222222, \"#7201a8\"], [0.3333333333333333, \"#9c179e\"], [0.4444444444444444, \"#bd3786\"], [0.5555555555555556, \"#d8576b\"], [0.6666666666666666, \"#ed7953\"], [0.7777777777777778, \"#fb9f3a\"], [0.8888888888888888, \"#fdca26\"], [1.0, \"#f0f921\"]]}, \"colorway\": [\"#636efa\", \"#EF553B\", \"#00cc96\", \"#ab63fa\", \"#FFA15A\", \"#19d3f3\", \"#FF6692\", \"#B6E880\", \"#FF97FF\", \"#FECB52\"], \"font\": {\"color\": \"#2a3f5f\"}, \"geo\": {\"bgcolor\": \"white\", \"lakecolor\": \"white\", \"landcolor\": \"#E5ECF6\", \"showlakes\": true, \"showland\": true, \"subunitcolor\": \"white\"}, \"hoverlabel\": {\"align\": \"left\"}, \"hovermode\": \"closest\", \"mapbox\": {\"style\": \"light\"}, \"paper_bgcolor\": \"white\", \"plot_bgcolor\": \"#E5ECF6\", \"polar\": {\"angularaxis\": {\"gridcolor\": \"white\", \"linecolor\": \"white\", \"ticks\": \"\"}, \"bgcolor\": \"#E5ECF6\", \"radialaxis\": {\"gridcolor\": \"white\", \"linecolor\": \"white\", \"ticks\": \"\"}}, \"scene\": {\"xaxis\": {\"backgroundcolor\": \"#E5ECF6\", \"gridcolor\": \"white\", \"gridwidth\": 2, \"linecolor\": \"white\", \"showbackground\": true, \"ticks\": \"\", \"zerolinecolor\": \"white\"}, \"yaxis\": {\"backgroundcolor\": \"#E5ECF6\", \"gridcolor\": \"white\", \"gridwidth\": 2, \"linecolor\": \"white\", \"showbackground\": true, \"ticks\": \"\", \"zerolinecolor\": \"white\"}, \"zaxis\": {\"backgroundcolor\": \"#E5ECF6\", \"gridcolor\": \"white\", \"gridwidth\": 2, \"linecolor\": \"white\", \"showbackground\": true, \"ticks\": \"\", \"zerolinecolor\": \"white\"}}, \"shapedefaults\": {\"line\": {\"color\": \"#2a3f5f\"}}, \"ternary\": {\"aaxis\": {\"gridcolor\": \"white\", \"linecolor\": \"white\", \"ticks\": \"\"}, \"baxis\": {\"gridcolor\": \"white\", \"linecolor\": \"white\", \"ticks\": \"\"}, \"bgcolor\": \"#E5ECF6\", \"caxis\": {\"gridcolor\": \"white\", \"linecolor\": \"white\", \"ticks\": \"\"}}, \"title\": {\"x\": 0.05}, \"xaxis\": {\"automargin\": true, \"gridcolor\": \"white\", \"linecolor\": \"white\", \"ticks\": \"\", \"title\": {\"standoff\": 15}, \"zerolinecolor\": \"white\", \"zerolinewidth\": 2}, \"yaxis\": {\"automargin\": true, \"gridcolor\": \"white\", \"linecolor\": \"white\", \"ticks\": \"\", \"title\": {\"standoff\": 15}, \"zerolinecolor\": \"white\", \"zerolinewidth\": 2}}}, \"title\": {\"font\": {\"color\": \"#4D5663\"}}, \"xaxis\": {\"gridcolor\": \"#E1E5ED\", \"showgrid\": true, \"tickfont\": {\"color\": \"#4D5663\"}, \"title\": {\"font\": {\"color\": \"#4D5663\"}, \"text\": \"\"}, \"zerolinecolor\": \"#E1E5ED\"}, \"yaxis\": {\"gridcolor\": \"#E1E5ED\", \"showgrid\": true, \"tickfont\": {\"color\": \"#4D5663\"}, \"title\": {\"font\": {\"color\": \"#4D5663\"}, \"text\": \"\"}, \"zerolinecolor\": \"#E1E5ED\"}},\n",
       "                        {\"showLink\": true, \"linkText\": \"Export to plot.ly\", \"plotlyServerURL\": \"https://plot.ly\", \"responsive\": true}\n",
       "                    ).then(function(){\n",
       "                            \n",
       "var gd = document.getElementById('884e362f-b2d1-4970-af39-e5cd50eda9d7');\n",
       "var x = new MutationObserver(function (mutations, observer) {{\n",
       "        var display = window.getComputedStyle(gd).display;\n",
       "        if (!display || display === 'none') {{\n",
       "            console.log([gd, 'removed!']);\n",
       "            Plotly.purge(gd);\n",
       "            observer.disconnect();\n",
       "        }}\n",
       "}});\n",
       "\n",
       "// Listen for the removal of the full notebook cells\n",
       "var notebookContainer = gd.closest('#notebook-container');\n",
       "if (notebookContainer) {{\n",
       "    x.observe(notebookContainer, {childList: true});\n",
       "}}\n",
       "\n",
       "// Listen for the clearing of the current output cell\n",
       "var outputEl = gd.closest('.output');\n",
       "if (outputEl) {{\n",
       "    x.observe(outputEl, {childList: true});\n",
       "}}\n",
       "\n",
       "                        })\n",
       "                };\n",
       "                });\n",
       "            </script>\n",
       "        </div>"
      ]
     },
     "metadata": {},
     "output_type": "display_data"
    }
   ],
   "source": [
    "df.iplot(kind='hist')"
   ]
  },
  {
   "cell_type": "markdown",
   "metadata": {
    "colab_type": "text",
    "id": "4lk2H5jpiSsx"
   },
   "source": [
    "**Spread plots**"
   ]
  },
  {
   "cell_type": "code",
   "execution_count": 14,
   "metadata": {
    "colab": {},
    "colab_type": "code",
    "id": "vnZL1CUeiSsy",
    "outputId": "4c46a70a-2777-465f-831a-02164131035d"
   },
   "outputs": [
    {
     "name": "stderr",
     "output_type": "stream",
     "text": [
      "C:\\Users\\SilvioOliver\\anaconda3\\lib\\site-packages\\cufflinks\\plotlytools.py:849: FutureWarning:\n",
      "\n",
      "The pandas.np module is deprecated and will be removed from pandas in a future version. Import numpy directly instead\n",
      "\n",
      "C:\\Users\\SilvioOliver\\anaconda3\\lib\\site-packages\\cufflinks\\plotlytools.py:850: FutureWarning:\n",
      "\n",
      "The pandas.np module is deprecated and will be removed from pandas in a future version. Import numpy directly instead\n",
      "\n"
     ]
    },
    {
     "data": {
      "application/vnd.plotly.v1+json": {
       "config": {
        "linkText": "Export to plot.ly",
        "plotlyServerURL": "https://plot.ly",
        "showLink": true
       },
       "data": [
        {
         "line": {
          "color": "rgba(255, 153, 51, 1.0)",
          "dash": "solid",
          "shape": "linear",
          "width": 1.3
         },
         "mode": "lines",
         "name": "A",
         "text": "",
         "type": "scatter",
         "x": [
          0,
          1,
          2,
          3,
          4,
          5,
          6,
          7,
          8,
          9,
          10,
          11,
          12,
          13,
          14,
          15,
          16,
          17,
          18,
          19,
          20,
          21,
          22,
          23,
          24,
          25,
          26,
          27,
          28,
          29,
          30,
          31,
          32,
          33,
          34,
          35,
          36,
          37,
          38,
          39,
          40,
          41,
          42,
          43,
          44,
          45,
          46,
          47,
          48,
          49,
          50,
          51,
          52,
          53,
          54,
          55,
          56,
          57,
          58,
          59,
          60,
          61,
          62,
          63,
          64,
          65,
          66,
          67,
          68,
          69,
          70,
          71,
          72,
          73,
          74,
          75,
          76,
          77,
          78,
          79,
          80,
          81,
          82,
          83,
          84,
          85,
          86,
          87,
          88,
          89,
          90,
          91,
          92,
          93,
          94,
          95,
          96,
          97,
          98,
          99
         ],
         "y": [
          -0.7583625624564826,
          -1.3608135229511027,
          -0.4479688305343663,
          0.25774244428547427,
          -1.6375797293120589,
          -1.0464472057363499,
          1.407325001211225,
          0.276515190255223,
          -0.07316231716756455,
          2.379354983246018,
          1.4416105167771618,
          -2.000675616366275,
          0.599410615388733,
          -1.178157640116541,
          0.8361646635083623,
          1.4209061515389503,
          -1.3772200926778893,
          -1.5330137697628772,
          0.8434488796566412,
          -0.44264142554813973,
          0.7729395311461773,
          -1.186536053062794,
          1.0672315844310665,
          -0.1786475895640133,
          -1.6899719904233519,
          0.8146648919282323,
          -2.541055625678114,
          0.8784841697785496,
          0.32813550809478664,
          1.3136723060501312,
          0.5798422821158166,
          -0.15028112198881133,
          -0.39350857873322376,
          1.8687332552959848,
          1.4996776154237408,
          -2.5978587935254813,
          -0.08418728423004833,
          -1.7130754548765064,
          -0.34219415505953205,
          1.2976144427300302,
          0.7997008822259573,
          -1.9145673952331954,
          0.32403830118956695,
          0.9669468742916221,
          -0.3954521090418044,
          -0.5156640132664189,
          0.6325874104204111,
          -0.7730210344534597,
          -1.0278926686068846,
          -0.8064923341963592,
          -0.5283860770954497,
          0.05805052625083211,
          -0.5341935453073812,
          -0.6306038151611613,
          0.19618964614138615,
          -0.567501753503357,
          1.3116043337251144,
          1.0625570541938478,
          0.1630190918246739,
          -0.17520577021292585,
          -0.7448259321076729,
          -0.06589108782314983,
          1.2263868994742944,
          0.9973104846473738,
          -0.8586695931733282,
          0.4007921932156928,
          0.6476480167091756,
          0.5806680435925301,
          0.41667800079466144,
          0.18080111431959658,
          -0.6549009506176735,
          -1.5624811820852393,
          -1.9034379481414605,
          1.2036040733411644,
          1.5416853504730623,
          0.644723358337419,
          0.5148614190703861,
          -1.9213061654349335,
          0.35505322896128755,
          0.8491838985035705,
          -1.0502790566937863,
          0.013051058769516184,
          1.6146659697158963,
          -1.0749070393039928,
          -0.6616722006760997,
          -0.3743145259476359,
          -2.4924831145939095,
          -0.16545246379299003,
          2.1703012992627992,
          -1.2602863121320913,
          -0.7676530026819841,
          0.0843467501757799,
          -0.2807271956647446,
          0.4241491799250738,
          1.2569983568147862,
          0.33073957061440273,
          -0.21585240846311052,
          1.4033361423654584,
          0.12416679561973377,
          0.45414894890427215
         ]
        },
        {
         "line": {
          "color": "rgba(55, 128, 191, 1.0)",
          "dash": "solid",
          "shape": "linear",
          "width": 1.3
         },
         "mode": "lines",
         "name": "D",
         "text": "",
         "type": "scatter",
         "x": [
          0,
          1,
          2,
          3,
          4,
          5,
          6,
          7,
          8,
          9,
          10,
          11,
          12,
          13,
          14,
          15,
          16,
          17,
          18,
          19,
          20,
          21,
          22,
          23,
          24,
          25,
          26,
          27,
          28,
          29,
          30,
          31,
          32,
          33,
          34,
          35,
          36,
          37,
          38,
          39,
          40,
          41,
          42,
          43,
          44,
          45,
          46,
          47,
          48,
          49,
          50,
          51,
          52,
          53,
          54,
          55,
          56,
          57,
          58,
          59,
          60,
          61,
          62,
          63,
          64,
          65,
          66,
          67,
          68,
          69,
          70,
          71,
          72,
          73,
          74,
          75,
          76,
          77,
          78,
          79,
          80,
          81,
          82,
          83,
          84,
          85,
          86,
          87,
          88,
          89,
          90,
          91,
          92,
          93,
          94,
          95,
          96,
          97,
          98,
          99
         ],
         "y": [
          -0.14243188168373888,
          -1.0729907558568355,
          0.44733250377667716,
          -1.1897147775895982,
          1.092741516710888,
          -0.06091528550317952,
          0.10743674606032749,
          0.9042940695647604,
          0.5303819578975205,
          1.9992339800473369,
          0.6456010371124833,
          -0.7962804132728767,
          -0.5815192392519256,
          0.2597767876385269,
          -2.459883288053741,
          -0.4082992590619642,
          0.39686139282285504,
          -0.10328064655423272,
          -1.1573545857701342,
          -1.7466222324347853,
          -1.6081787740748272,
          0.042610628533974994,
          1.7131089103702466,
          -0.33970182084475636,
          -0.9583274897717958,
          0.8309717943957573,
          -1.8513065553096661,
          -0.43667935832435667,
          -1.3202801094129164,
          0.19412359694222966,
          0.3863753886878289,
          2.262504342957885,
          -1.1789996565844338,
          0.8610049877785335,
          0.35020646357557556,
          -0.4526706099620868,
          -1.4208827518870466,
          -2.0336415880196306,
          -0.6028790992919976,
          -0.6667505056960525,
          1.034085965991731,
          1.6862381136516247,
          0.9671590675760109,
          0.4687702824218409,
          -0.11354411524057219,
          1.7598471377692582,
          -0.3133961636622412,
          0.7968082245207883,
          -0.8123852383043507,
          -0.1815538188028146,
          -1.2010576577637924,
          0.623379003526806,
          -0.2905917132234972,
          1.0907162251266591,
          -0.943052216702706,
          -0.6358961634386422,
          0.8238944357128126,
          -1.6910025282864853,
          -0.5360314141734744,
          -0.2858234600755065,
          0.11739560318332833,
          1.3392357088416103,
          -0.12730657094197811,
          -0.355344981254377,
          -0.7888413181153048,
          0.010846103051945897,
          2.4643060780738653,
          0.2688894084296869,
          -0.6761623948082517,
          -0.46228423544452435,
          -0.06823119920909179,
          0.5507682072831712,
          -1.4092521832676117,
          0.11165070595437765,
          1.0816741381089106,
          0.00012294423731891224,
          1.6864532375657582,
          -0.21634623521220717,
          1.4069369181982865,
          0.14000154269529902,
          -1.056975185245624,
          -1.454774926494647,
          0.8077501687969396,
          -0.6826502496255977,
          0.6344953632035505,
          -0.15940212485395602,
          1.3448374706334436,
          0.5273274117487469,
          -0.5514095718479104,
          0.3176860475959556,
          -0.0325566071623441,
          -0.0673720916980821,
          0.9991691910935454,
          0.4772946025924812,
          0.9458312063212977,
          -1.1631663106908554,
          1.0876781943861205,
          -0.5592269267673681,
          -0.4905467928214895,
          -0.43363935487996075
         ]
        },
        {
         "line": {
          "color": "rgba(50, 171, 96, 1.0)",
          "dash": "solid",
          "shape": "linear",
          "width": 1.3
         },
         "mode": "lines",
         "name": "C",
         "text": "",
         "type": "scatter",
         "x": [
          0,
          1,
          2,
          3,
          4,
          5,
          6,
          7,
          8,
          9,
          10,
          11,
          12,
          13,
          14,
          15,
          16,
          17,
          18,
          19,
          20,
          21,
          22,
          23,
          24,
          25,
          26,
          27,
          28,
          29,
          30,
          31,
          32,
          33,
          34,
          35,
          36,
          37,
          38,
          39,
          40,
          41,
          42,
          43,
          44,
          45,
          46,
          47,
          48,
          49,
          50,
          51,
          52,
          53,
          54,
          55,
          56,
          57,
          58,
          59,
          60,
          61,
          62,
          63,
          64,
          65,
          66,
          67,
          68,
          69,
          70,
          71,
          72,
          73,
          74,
          75,
          76,
          77,
          78,
          79,
          80,
          81,
          82,
          83,
          84,
          85,
          86,
          87,
          88,
          89,
          90,
          91,
          92,
          93,
          94,
          95,
          96,
          97,
          98,
          99
         ],
         "y": [
          -0.444678500480317,
          0.0933498848400473,
          0.9355087974997555,
          -1.106441630487202,
          0.7870975629687152,
          0.21808060888783593,
          0.19245161375740785,
          0.058978349501044657,
          -0.8714541206370889,
          1.6723359190038503,
          -0.9521959925693669,
          0.25982368775406417,
          0.4329967486845554,
          0.9585187647681762,
          -1.79933573560346,
          2.2571466440543344,
          0.27242090370105326,
          -3.041426982646799,
          -0.7379674589948564,
          0.21321722437944604,
          0.3744406483158536,
          1.8794147199102167,
          0.5865594775587016,
          -0.3723330026710341,
          -0.21256708491681514,
          1.2175066431034185,
          0.9503232313646496,
          1.7526010217049393,
          -0.6255769714716065,
          -0.8150989477464166,
          0.1900069841307442,
          -0.6573140026719146,
          1.3123490852146837,
          -0.20521456260004223,
          -0.8280753332366754,
          -2.1789891770225105,
          -1.7227530897526353,
          1.2860266607255277,
          0.417423466170257,
          -1.408581550401666,
          -1.0147418694696868,
          1.0617865770644983,
          -2.1357693694007693,
          0.6316085302784928,
          1.0548351609959814,
          -1.821383374322361,
          1.1794682397233458,
          0.7800559142128144,
          1.5175952940754551,
          -0.20063016325093158,
          1.469109182383053,
          0.33064590666961946,
          -1.5329746111023028,
          1.4876464359770907,
          0.7368765553019965,
          0.2556196982451411,
          1.496074295060987,
          -0.25594776352614945,
          -1.0302066787914688,
          0.3771702792035409,
          1.5954550568745687,
          -1.8239541572520326,
          -0.6292071703871251,
          0.8569283151606543,
          0.19021096842866161,
          0.6607647699069801,
          -0.0016000980015075767,
          -0.6033609765671395,
          0.6926557249524916,
          0.13880646341418457,
          -1.3362928951925246,
          0.5040296861060063,
          2.5601117800980524,
          -0.983051918444861,
          -0.7450095718104365,
          -0.8245934015034929,
          -1.1246483229871902,
          -0.6547441335375387,
          -0.8088996560125555,
          -0.0966860051066942,
          -1.4863921450232944,
          0.18967390658638197,
          0.15908685829749233,
          -0.2691504733360306,
          -0.18560225336486053,
          0.1001975328112677,
          -0.4706507089738137,
          0.2368759547272725,
          0.6644170545061568,
          -0.11309520573149913,
          1.1829406966617049,
          -1.0833015314373051,
          -0.15088069839314402,
          -0.2652424034024619,
          0.8990779222502281,
          -0.030734197118241203,
          -0.46028230155709343,
          2.0393872169244824,
          0.3883702636590222,
          1.133687274935083
         ]
        },
        {
         "line": {
          "color": "rgba(128, 0, 128, 1.0)",
          "dash": "solid",
          "shape": "linear",
          "width": 1.3
         },
         "mode": "lines",
         "name": "B",
         "text": "",
         "type": "scatter",
         "x": [
          0,
          1,
          2,
          3,
          4,
          5,
          6,
          7,
          8,
          9,
          10,
          11,
          12,
          13,
          14,
          15,
          16,
          17,
          18,
          19,
          20,
          21,
          22,
          23,
          24,
          25,
          26,
          27,
          28,
          29,
          30,
          31,
          32,
          33,
          34,
          35,
          36,
          37,
          38,
          39,
          40,
          41,
          42,
          43,
          44,
          45,
          46,
          47,
          48,
          49,
          50,
          51,
          52,
          53,
          54,
          55,
          56,
          57,
          58,
          59,
          60,
          61,
          62,
          63,
          64,
          65,
          66,
          67,
          68,
          69,
          70,
          71,
          72,
          73,
          74,
          75,
          76,
          77,
          78,
          79,
          80,
          81,
          82,
          83,
          84,
          85,
          86,
          87,
          88,
          89,
          90,
          91,
          92,
          93,
          94,
          95,
          96,
          97,
          98,
          99
         ],
         "y": [
          0.9051120349846424,
          1.1315731612883049,
          0.4889535391167449,
          -0.411827350510033,
          1.7437582525448498,
          0.8754875880381073,
          -1.612719409098891,
          1.2673782176917372,
          0.34610407515785685,
          -0.8734634626765565,
          0.5080615811518349,
          0.3786949114985083,
          0.8549394182735643,
          -1.1727436261908517,
          0.278079586528356,
          -2.086519140021561,
          0.9558921986334105,
          -2.1412044407561335,
          1.5908599450759613,
          -0.38037367059143695,
          -0.33823974441909016,
          0.5148757793898513,
          0.06431934032079333,
          -0.6192210839283654,
          0.6364993369072576,
          0.5238573577202742,
          2.5123333500021423,
          -0.7385360908208347,
          1.5357500979181817,
          1.5724495278522659,
          0.6633106187533743,
          0.1913510422791749,
          -0.9852937680279761,
          0.4866604508534319,
          -1.5691043539958625,
          -0.5457214474250892,
          -2.650467246676767,
          -0.4096399990779472,
          -0.44165613080647653,
          -1.6114045136155386,
          0.3372243946613703,
          0.09216459763101896,
          0.4408702411197516,
          1.026794643555709,
          -0.787067876624869,
          0.274085340958029,
          0.6432038230781414,
          0.11625200510070811,
          -0.11400215542141642,
          1.1678648365076898,
          0.6381872954128966,
          -0.10906986258298167,
          0.40314926362595793,
          -1.4061921229295076,
          -0.8949388605476665,
          -0.6797123989402232,
          0.681267680316777,
          -1.5973585952033058,
          0.9990493726980721,
          -0.9268111651857517,
          -0.7197683145996996,
          0.18706094517469868,
          -1.1137685782674145,
          -0.8981843019223013,
          -0.008022352656607114,
          -0.46902423130002263,
          -1.0663496382780207,
          1.2930554005359125,
          -0.12481695277229017,
          0.8763289665253956,
          -0.15234775564968409,
          0.7815603667800463,
          -0.3711497040527381,
          -0.735133518142438,
          1.0719608777778922,
          -1.8110615652327744,
          -0.21451545478894662,
          -1.0000693418566864,
          -1.2492276001592144,
          -0.46780364099239063,
          0.1472438174569735,
          0.26416988245785844,
          0.6659503106264842,
          1.4700345976857954,
          1.077675298771589,
          1.1078248664225065,
          -0.7199081897875417,
          0.6037307814365238,
          -1.2541232782328138,
          -0.4445705528975758,
          -0.5995953052364829,
          0.8703773020736415,
          1.240967816138145,
          -0.23458836833371494,
          1.3626315874217745,
          -0.34003054967360213,
          0.28031746369473,
          -0.6342169480234975,
          0.6748537839853154,
          -1.3964778756962182
         ]
        },
        {
         "connectgaps": false,
         "fill": "tozeroy",
         "line": {
          "color": "green",
          "dash": "solid",
          "shape": "linear",
          "width": 0.5
         },
         "mode": "lines",
         "name": "Spread",
         "showlegend": false,
         "type": "scatter",
         "x": [
          0,
          1,
          2,
          3,
          4,
          5,
          6,
          7,
          8,
          9,
          10,
          11,
          12,
          13,
          14,
          15,
          16,
          17,
          18,
          19,
          20,
          21,
          22,
          23,
          24,
          25,
          26,
          27,
          28,
          29,
          30,
          31,
          32,
          33,
          34,
          35,
          36,
          37,
          38,
          39,
          40,
          41,
          42,
          43,
          44,
          45,
          46,
          47,
          48,
          49,
          50,
          51,
          52,
          53,
          54,
          55,
          56,
          57,
          58,
          59,
          60,
          61,
          62,
          63,
          64,
          65,
          66,
          67,
          68,
          69,
          70,
          71,
          72,
          73,
          74,
          75,
          76,
          77,
          78,
          79,
          80,
          81,
          82,
          83,
          84,
          85,
          86,
          87,
          88,
          89,
          90,
          91,
          92,
          93,
          94,
          95,
          96,
          97,
          98,
          99
         ],
         "xaxis": "x2",
         "y": [
          "",
          "",
          "",
          1.4474572218750725,
          "",
          "",
          1.2998882551508975,
          "",
          "",
          0.38012100319868125,
          0.7960094796646785,
          "",
          1.1809298546406586,
          "",
          3.296047951562103,
          1.8292054106009146,
          "",
          "",
          2.0008034654267752,
          1.3039808068866456,
          2.3811183052210048,
          "",
          "",
          0.16105423128074306,
          "",
          "",
          "",
          1.3151635281029064,
          1.6484156175077032,
          1.1195487091079015,
          0.19346689342798767,
          "",
          0.7854910778512101,
          1.0077282675174513,
          1.1494711518481653,
          "",
          1.3366954676569982,
          0.3205661331431242,
          0.2606849442324655,
          1.9643649484260828,
          "",
          "",
          "",
          0.4981765918697812,
          "",
          "",
          0.9459835740826523,
          "",
          "",
          "",
          0.6726715806683427,
          "",
          "",
          "",
          1.1392418628440921,
          0.06839440993528523,
          0.4877098980123018,
          2.7535595824803334,
          0.6990505059981483,
          0.11061768986258066,
          "",
          "",
          1.3536934704162724,
          1.352655465901751,
          "",
          0.38994609016374693,
          "",
          0.3117786351628432,
          1.0928403956029131,
          0.6430853497641209,
          "",
          "",
          "",
          1.0919533673867867,
          0.46001121236415177,
          0.6446004141001,
          "",
          "",
          "",
          0.7091823558082715,
          0.0066961285518376545,
          1.4678259852641633,
          0.8069158009189566,
          "",
          "",
          "",
          "",
          "",
          2.7217108711107096,
          "",
          "",
          0.151718841873862,
          "",
          "",
          0.31116715049348853,
          1.4939058813052581,
          "",
          1.9625630691328264,
          0.6147135884412233,
          0.8877883037842329
         ],
         "yaxis": "y2"
        },
        {
         "connectgaps": false,
         "fill": "tozeroy",
         "line": {
          "color": "red",
          "dash": "solid",
          "shape": "linear",
          "width": 0.5
         },
         "mode": "lines",
         "name": "Spread",
         "showlegend": false,
         "type": "scatter",
         "x": [
          0,
          1,
          2,
          3,
          4,
          5,
          6,
          7,
          8,
          9,
          10,
          11,
          12,
          13,
          14,
          15,
          16,
          17,
          18,
          19,
          20,
          21,
          22,
          23,
          24,
          25,
          26,
          27,
          28,
          29,
          30,
          31,
          32,
          33,
          34,
          35,
          36,
          37,
          38,
          39,
          40,
          41,
          42,
          43,
          44,
          45,
          46,
          47,
          48,
          49,
          50,
          51,
          52,
          53,
          54,
          55,
          56,
          57,
          58,
          59,
          60,
          61,
          62,
          63,
          64,
          65,
          66,
          67,
          68,
          69,
          70,
          71,
          72,
          73,
          74,
          75,
          76,
          77,
          78,
          79,
          80,
          81,
          82,
          83,
          84,
          85,
          86,
          87,
          88,
          89,
          90,
          91,
          92,
          93,
          94,
          95,
          96,
          97,
          98,
          99
         ],
         "xaxis": "x2",
         "y": [
          -0.6159306807727437,
          -0.28782276709426724,
          -0.8953013343110434,
          "",
          -2.730321246022947,
          -0.9855319202331704,
          "",
          -0.6277788793095375,
          -0.603544275065085,
          "",
          "",
          -1.2043952030933984,
          "",
          -1.4379344277550679,
          "",
          "",
          -1.7740814855007443,
          -1.4297331232086445,
          "",
          "",
          "",
          -1.2291466815967689,
          -0.6458773259391801,
          "",
          -0.7316445006515561,
          -0.016306902467524975,
          -0.6897490703684477,
          "",
          "",
          "",
          "",
          -2.412785464946696,
          "",
          "",
          "",
          -2.1451881835633944,
          "",
          "",
          "",
          "",
          -0.23438508376577372,
          -3.60080550888482,
          -0.643120766386444,
          "",
          -0.2819079938012322,
          -2.275511151035677,
          "",
          -1.569829258974248,
          -0.21550743030253383,
          -0.6249385153935446,
          "",
          -0.5653284772759739,
          -0.24360183208388397,
          -1.7213200402878204,
          "",
          "",
          "",
          "",
          "",
          "",
          -0.8622215352910012,
          -1.40512679666476,
          "",
          "",
          -0.06982827505802347,
          "",
          -1.8166580613646897,
          "",
          "",
          "",
          -0.5866697514085817,
          -2.1132493893684106,
          -0.4941857648738488,
          "",
          "",
          "",
          -1.1715918184953722,
          -1.7049599302227263,
          -1.051883689236999,
          "",
          "",
          "",
          "",
          -0.39225678967839506,
          -1.2961675638796502,
          -0.2149124010936799,
          -3.837320585227353,
          -0.6927798755417369,
          "",
          -1.5779723597280468,
          -0.73509639551964,
          "",
          -1.27989638675829,
          -0.053145422667407405,
          "",
          "",
          -1.303530602849231,
          "",
          "",
          ""
         ],
         "yaxis": "y2"
        }
       ],
       "layout": {
        "hovermode": "x",
        "legend": {
         "bgcolor": "#F5F6F9",
         "font": {
          "color": "#4D5663"
         }
        },
        "paper_bgcolor": "#F5F6F9",
        "plot_bgcolor": "#F5F6F9",
        "template": {
         "data": {
          "bar": [
           {
            "error_x": {
             "color": "#2a3f5f"
            },
            "error_y": {
             "color": "#2a3f5f"
            },
            "marker": {
             "line": {
              "color": "#E5ECF6",
              "width": 0.5
             }
            },
            "type": "bar"
           }
          ],
          "barpolar": [
           {
            "marker": {
             "line": {
              "color": "#E5ECF6",
              "width": 0.5
             }
            },
            "type": "barpolar"
           }
          ],
          "carpet": [
           {
            "aaxis": {
             "endlinecolor": "#2a3f5f",
             "gridcolor": "white",
             "linecolor": "white",
             "minorgridcolor": "white",
             "startlinecolor": "#2a3f5f"
            },
            "baxis": {
             "endlinecolor": "#2a3f5f",
             "gridcolor": "white",
             "linecolor": "white",
             "minorgridcolor": "white",
             "startlinecolor": "#2a3f5f"
            },
            "type": "carpet"
           }
          ],
          "choropleth": [
           {
            "colorbar": {
             "outlinewidth": 0,
             "ticks": ""
            },
            "type": "choropleth"
           }
          ],
          "contour": [
           {
            "colorbar": {
             "outlinewidth": 0,
             "ticks": ""
            },
            "colorscale": [
             [
              0,
              "#0d0887"
             ],
             [
              0.1111111111111111,
              "#46039f"
             ],
             [
              0.2222222222222222,
              "#7201a8"
             ],
             [
              0.3333333333333333,
              "#9c179e"
             ],
             [
              0.4444444444444444,
              "#bd3786"
             ],
             [
              0.5555555555555556,
              "#d8576b"
             ],
             [
              0.6666666666666666,
              "#ed7953"
             ],
             [
              0.7777777777777778,
              "#fb9f3a"
             ],
             [
              0.8888888888888888,
              "#fdca26"
             ],
             [
              1,
              "#f0f921"
             ]
            ],
            "type": "contour"
           }
          ],
          "contourcarpet": [
           {
            "colorbar": {
             "outlinewidth": 0,
             "ticks": ""
            },
            "type": "contourcarpet"
           }
          ],
          "heatmap": [
           {
            "colorbar": {
             "outlinewidth": 0,
             "ticks": ""
            },
            "colorscale": [
             [
              0,
              "#0d0887"
             ],
             [
              0.1111111111111111,
              "#46039f"
             ],
             [
              0.2222222222222222,
              "#7201a8"
             ],
             [
              0.3333333333333333,
              "#9c179e"
             ],
             [
              0.4444444444444444,
              "#bd3786"
             ],
             [
              0.5555555555555556,
              "#d8576b"
             ],
             [
              0.6666666666666666,
              "#ed7953"
             ],
             [
              0.7777777777777778,
              "#fb9f3a"
             ],
             [
              0.8888888888888888,
              "#fdca26"
             ],
             [
              1,
              "#f0f921"
             ]
            ],
            "type": "heatmap"
           }
          ],
          "heatmapgl": [
           {
            "colorbar": {
             "outlinewidth": 0,
             "ticks": ""
            },
            "colorscale": [
             [
              0,
              "#0d0887"
             ],
             [
              0.1111111111111111,
              "#46039f"
             ],
             [
              0.2222222222222222,
              "#7201a8"
             ],
             [
              0.3333333333333333,
              "#9c179e"
             ],
             [
              0.4444444444444444,
              "#bd3786"
             ],
             [
              0.5555555555555556,
              "#d8576b"
             ],
             [
              0.6666666666666666,
              "#ed7953"
             ],
             [
              0.7777777777777778,
              "#fb9f3a"
             ],
             [
              0.8888888888888888,
              "#fdca26"
             ],
             [
              1,
              "#f0f921"
             ]
            ],
            "type": "heatmapgl"
           }
          ],
          "histogram": [
           {
            "marker": {
             "colorbar": {
              "outlinewidth": 0,
              "ticks": ""
             }
            },
            "type": "histogram"
           }
          ],
          "histogram2d": [
           {
            "colorbar": {
             "outlinewidth": 0,
             "ticks": ""
            },
            "colorscale": [
             [
              0,
              "#0d0887"
             ],
             [
              0.1111111111111111,
              "#46039f"
             ],
             [
              0.2222222222222222,
              "#7201a8"
             ],
             [
              0.3333333333333333,
              "#9c179e"
             ],
             [
              0.4444444444444444,
              "#bd3786"
             ],
             [
              0.5555555555555556,
              "#d8576b"
             ],
             [
              0.6666666666666666,
              "#ed7953"
             ],
             [
              0.7777777777777778,
              "#fb9f3a"
             ],
             [
              0.8888888888888888,
              "#fdca26"
             ],
             [
              1,
              "#f0f921"
             ]
            ],
            "type": "histogram2d"
           }
          ],
          "histogram2dcontour": [
           {
            "colorbar": {
             "outlinewidth": 0,
             "ticks": ""
            },
            "colorscale": [
             [
              0,
              "#0d0887"
             ],
             [
              0.1111111111111111,
              "#46039f"
             ],
             [
              0.2222222222222222,
              "#7201a8"
             ],
             [
              0.3333333333333333,
              "#9c179e"
             ],
             [
              0.4444444444444444,
              "#bd3786"
             ],
             [
              0.5555555555555556,
              "#d8576b"
             ],
             [
              0.6666666666666666,
              "#ed7953"
             ],
             [
              0.7777777777777778,
              "#fb9f3a"
             ],
             [
              0.8888888888888888,
              "#fdca26"
             ],
             [
              1,
              "#f0f921"
             ]
            ],
            "type": "histogram2dcontour"
           }
          ],
          "mesh3d": [
           {
            "colorbar": {
             "outlinewidth": 0,
             "ticks": ""
            },
            "type": "mesh3d"
           }
          ],
          "parcoords": [
           {
            "line": {
             "colorbar": {
              "outlinewidth": 0,
              "ticks": ""
             }
            },
            "type": "parcoords"
           }
          ],
          "pie": [
           {
            "automargin": true,
            "type": "pie"
           }
          ],
          "scatter": [
           {
            "marker": {
             "colorbar": {
              "outlinewidth": 0,
              "ticks": ""
             }
            },
            "type": "scatter"
           }
          ],
          "scatter3d": [
           {
            "line": {
             "colorbar": {
              "outlinewidth": 0,
              "ticks": ""
             }
            },
            "marker": {
             "colorbar": {
              "outlinewidth": 0,
              "ticks": ""
             }
            },
            "type": "scatter3d"
           }
          ],
          "scattercarpet": [
           {
            "marker": {
             "colorbar": {
              "outlinewidth": 0,
              "ticks": ""
             }
            },
            "type": "scattercarpet"
           }
          ],
          "scattergeo": [
           {
            "marker": {
             "colorbar": {
              "outlinewidth": 0,
              "ticks": ""
             }
            },
            "type": "scattergeo"
           }
          ],
          "scattergl": [
           {
            "marker": {
             "colorbar": {
              "outlinewidth": 0,
              "ticks": ""
             }
            },
            "type": "scattergl"
           }
          ],
          "scattermapbox": [
           {
            "marker": {
             "colorbar": {
              "outlinewidth": 0,
              "ticks": ""
             }
            },
            "type": "scattermapbox"
           }
          ],
          "scatterpolar": [
           {
            "marker": {
             "colorbar": {
              "outlinewidth": 0,
              "ticks": ""
             }
            },
            "type": "scatterpolar"
           }
          ],
          "scatterpolargl": [
           {
            "marker": {
             "colorbar": {
              "outlinewidth": 0,
              "ticks": ""
             }
            },
            "type": "scatterpolargl"
           }
          ],
          "scatterternary": [
           {
            "marker": {
             "colorbar": {
              "outlinewidth": 0,
              "ticks": ""
             }
            },
            "type": "scatterternary"
           }
          ],
          "surface": [
           {
            "colorbar": {
             "outlinewidth": 0,
             "ticks": ""
            },
            "colorscale": [
             [
              0,
              "#0d0887"
             ],
             [
              0.1111111111111111,
              "#46039f"
             ],
             [
              0.2222222222222222,
              "#7201a8"
             ],
             [
              0.3333333333333333,
              "#9c179e"
             ],
             [
              0.4444444444444444,
              "#bd3786"
             ],
             [
              0.5555555555555556,
              "#d8576b"
             ],
             [
              0.6666666666666666,
              "#ed7953"
             ],
             [
              0.7777777777777778,
              "#fb9f3a"
             ],
             [
              0.8888888888888888,
              "#fdca26"
             ],
             [
              1,
              "#f0f921"
             ]
            ],
            "type": "surface"
           }
          ],
          "table": [
           {
            "cells": {
             "fill": {
              "color": "#EBF0F8"
             },
             "line": {
              "color": "white"
             }
            },
            "header": {
             "fill": {
              "color": "#C8D4E3"
             },
             "line": {
              "color": "white"
             }
            },
            "type": "table"
           }
          ]
         },
         "layout": {
          "annotationdefaults": {
           "arrowcolor": "#2a3f5f",
           "arrowhead": 0,
           "arrowwidth": 1
          },
          "coloraxis": {
           "colorbar": {
            "outlinewidth": 0,
            "ticks": ""
           }
          },
          "colorscale": {
           "diverging": [
            [
             0,
             "#8e0152"
            ],
            [
             0.1,
             "#c51b7d"
            ],
            [
             0.2,
             "#de77ae"
            ],
            [
             0.3,
             "#f1b6da"
            ],
            [
             0.4,
             "#fde0ef"
            ],
            [
             0.5,
             "#f7f7f7"
            ],
            [
             0.6,
             "#e6f5d0"
            ],
            [
             0.7,
             "#b8e186"
            ],
            [
             0.8,
             "#7fbc41"
            ],
            [
             0.9,
             "#4d9221"
            ],
            [
             1,
             "#276419"
            ]
           ],
           "sequential": [
            [
             0,
             "#0d0887"
            ],
            [
             0.1111111111111111,
             "#46039f"
            ],
            [
             0.2222222222222222,
             "#7201a8"
            ],
            [
             0.3333333333333333,
             "#9c179e"
            ],
            [
             0.4444444444444444,
             "#bd3786"
            ],
            [
             0.5555555555555556,
             "#d8576b"
            ],
            [
             0.6666666666666666,
             "#ed7953"
            ],
            [
             0.7777777777777778,
             "#fb9f3a"
            ],
            [
             0.8888888888888888,
             "#fdca26"
            ],
            [
             1,
             "#f0f921"
            ]
           ],
           "sequentialminus": [
            [
             0,
             "#0d0887"
            ],
            [
             0.1111111111111111,
             "#46039f"
            ],
            [
             0.2222222222222222,
             "#7201a8"
            ],
            [
             0.3333333333333333,
             "#9c179e"
            ],
            [
             0.4444444444444444,
             "#bd3786"
            ],
            [
             0.5555555555555556,
             "#d8576b"
            ],
            [
             0.6666666666666666,
             "#ed7953"
            ],
            [
             0.7777777777777778,
             "#fb9f3a"
            ],
            [
             0.8888888888888888,
             "#fdca26"
            ],
            [
             1,
             "#f0f921"
            ]
           ]
          },
          "colorway": [
           "#636efa",
           "#EF553B",
           "#00cc96",
           "#ab63fa",
           "#FFA15A",
           "#19d3f3",
           "#FF6692",
           "#B6E880",
           "#FF97FF",
           "#FECB52"
          ],
          "font": {
           "color": "#2a3f5f"
          },
          "geo": {
           "bgcolor": "white",
           "lakecolor": "white",
           "landcolor": "#E5ECF6",
           "showlakes": true,
           "showland": true,
           "subunitcolor": "white"
          },
          "hoverlabel": {
           "align": "left"
          },
          "hovermode": "closest",
          "mapbox": {
           "style": "light"
          },
          "paper_bgcolor": "white",
          "plot_bgcolor": "#E5ECF6",
          "polar": {
           "angularaxis": {
            "gridcolor": "white",
            "linecolor": "white",
            "ticks": ""
           },
           "bgcolor": "#E5ECF6",
           "radialaxis": {
            "gridcolor": "white",
            "linecolor": "white",
            "ticks": ""
           }
          },
          "scene": {
           "xaxis": {
            "backgroundcolor": "#E5ECF6",
            "gridcolor": "white",
            "gridwidth": 2,
            "linecolor": "white",
            "showbackground": true,
            "ticks": "",
            "zerolinecolor": "white"
           },
           "yaxis": {
            "backgroundcolor": "#E5ECF6",
            "gridcolor": "white",
            "gridwidth": 2,
            "linecolor": "white",
            "showbackground": true,
            "ticks": "",
            "zerolinecolor": "white"
           },
           "zaxis": {
            "backgroundcolor": "#E5ECF6",
            "gridcolor": "white",
            "gridwidth": 2,
            "linecolor": "white",
            "showbackground": true,
            "ticks": "",
            "zerolinecolor": "white"
           }
          },
          "shapedefaults": {
           "line": {
            "color": "#2a3f5f"
           }
          },
          "ternary": {
           "aaxis": {
            "gridcolor": "white",
            "linecolor": "white",
            "ticks": ""
           },
           "baxis": {
            "gridcolor": "white",
            "linecolor": "white",
            "ticks": ""
           },
           "bgcolor": "#E5ECF6",
           "caxis": {
            "gridcolor": "white",
            "linecolor": "white",
            "ticks": ""
           }
          },
          "title": {
           "x": 0.05
          },
          "xaxis": {
           "automargin": true,
           "gridcolor": "white",
           "linecolor": "white",
           "ticks": "",
           "title": {
            "standoff": 15
           },
           "zerolinecolor": "white",
           "zerolinewidth": 2
          },
          "yaxis": {
           "automargin": true,
           "gridcolor": "white",
           "linecolor": "white",
           "ticks": "",
           "title": {
            "standoff": 15
           },
           "zerolinecolor": "white",
           "zerolinewidth": 2
          }
         }
        },
        "title": {
         "font": {
          "color": "#4D5663"
         }
        },
        "xaxis": {
         "gridcolor": "#E1E5ED",
         "showgrid": true,
         "tickfont": {
          "color": "#4D5663"
         },
         "title": {
          "font": {
           "color": "#4D5663"
          },
          "text": ""
         },
         "zerolinecolor": "#E1E5ED"
        },
        "xaxis2": {
         "anchor": "y2",
         "gridcolor": "#E1E5ED",
         "showgrid": true,
         "showticklabels": false,
         "tickfont": {
          "color": "#4D5663"
         },
         "title": {
          "font": {
           "color": "#4D5663"
          },
          "text": ""
         },
         "zerolinecolor": "#E1E5ED"
        },
        "yaxis": {
         "domain": [
          0.3,
          1
         ],
         "gridcolor": "#E1E5ED",
         "showgrid": true,
         "tickfont": {
          "color": "#4D5663"
         },
         "title": {
          "font": {
           "color": "#4D5663"
          },
          "text": ""
         },
         "zerolinecolor": "#E1E5ED"
        },
        "yaxis2": {
         "domain": [
          0,
          0.25
         ],
         "gridcolor": "#E1E5ED",
         "showgrid": true,
         "tickfont": {
          "color": "#4D5663"
         },
         "title": {
          "font": {
           "color": "#4D5663"
          },
          "text": "Spread"
         },
         "zerolinecolor": "#E1E5ED"
        }
       }
      },
      "text/html": [
       "<div>\n",
       "        \n",
       "        \n",
       "            <div id=\"fd5be187-afc1-438d-8aaa-6b79b03c8b90\" class=\"plotly-graph-div\" style=\"height:525px; width:100%;\"></div>\n",
       "            <script type=\"text/javascript\">\n",
       "                require([\"plotly\"], function(Plotly) {\n",
       "                    window.PLOTLYENV=window.PLOTLYENV || {};\n",
       "                    window.PLOTLYENV.BASE_URL='https://plot.ly';\n",
       "                    \n",
       "                if (document.getElementById(\"fd5be187-afc1-438d-8aaa-6b79b03c8b90\")) {\n",
       "                    Plotly.newPlot(\n",
       "                        'fd5be187-afc1-438d-8aaa-6b79b03c8b90',\n",
       "                        [{\"line\": {\"color\": \"rgba(255, 153, 51, 1.0)\", \"dash\": \"solid\", \"shape\": \"linear\", \"width\": 1.3}, \"mode\": \"lines\", \"name\": \"A\", \"text\": \"\", \"type\": \"scatter\", \"x\": [0, 1, 2, 3, 4, 5, 6, 7, 8, 9, 10, 11, 12, 13, 14, 15, 16, 17, 18, 19, 20, 21, 22, 23, 24, 25, 26, 27, 28, 29, 30, 31, 32, 33, 34, 35, 36, 37, 38, 39, 40, 41, 42, 43, 44, 45, 46, 47, 48, 49, 50, 51, 52, 53, 54, 55, 56, 57, 58, 59, 60, 61, 62, 63, 64, 65, 66, 67, 68, 69, 70, 71, 72, 73, 74, 75, 76, 77, 78, 79, 80, 81, 82, 83, 84, 85, 86, 87, 88, 89, 90, 91, 92, 93, 94, 95, 96, 97, 98, 99], \"y\": [-0.7583625624564826, -1.3608135229511027, -0.4479688305343663, 0.25774244428547427, -1.6375797293120589, -1.0464472057363499, 1.407325001211225, 0.276515190255223, -0.07316231716756455, 2.379354983246018, 1.4416105167771618, -2.000675616366275, 0.599410615388733, -1.178157640116541, 0.8361646635083623, 1.4209061515389503, -1.3772200926778893, -1.5330137697628772, 0.8434488796566412, -0.44264142554813973, 0.7729395311461773, -1.186536053062794, 1.0672315844310665, -0.1786475895640133, -1.6899719904233519, 0.8146648919282323, -2.541055625678114, 0.8784841697785496, 0.32813550809478664, 1.3136723060501312, 0.5798422821158166, -0.15028112198881133, -0.39350857873322376, 1.8687332552959848, 1.4996776154237408, -2.5978587935254813, -0.08418728423004833, -1.7130754548765064, -0.34219415505953205, 1.2976144427300302, 0.7997008822259573, -1.9145673952331954, 0.32403830118956695, 0.9669468742916221, -0.3954521090418044, -0.5156640132664189, 0.6325874104204111, -0.7730210344534597, -1.0278926686068846, -0.8064923341963592, -0.5283860770954497, 0.05805052625083211, -0.5341935453073812, -0.6306038151611613, 0.19618964614138615, -0.567501753503357, 1.3116043337251144, 1.0625570541938478, 0.1630190918246739, -0.17520577021292585, -0.7448259321076729, -0.06589108782314983, 1.2263868994742944, 0.9973104846473738, -0.8586695931733282, 0.4007921932156928, 0.6476480167091756, 0.5806680435925301, 0.41667800079466144, 0.18080111431959658, -0.6549009506176735, -1.5624811820852393, -1.9034379481414605, 1.2036040733411644, 1.5416853504730623, 0.644723358337419, 0.5148614190703861, -1.9213061654349335, 0.35505322896128755, 0.8491838985035705, -1.0502790566937863, 0.013051058769516184, 1.6146659697158963, -1.0749070393039928, -0.6616722006760997, -0.3743145259476359, -2.4924831145939095, -0.16545246379299003, 2.1703012992627992, -1.2602863121320913, -0.7676530026819841, 0.0843467501757799, -0.2807271956647446, 0.4241491799250738, 1.2569983568147862, 0.33073957061440273, -0.21585240846311052, 1.4033361423654584, 0.12416679561973377, 0.45414894890427215]}, {\"line\": {\"color\": \"rgba(55, 128, 191, 1.0)\", \"dash\": \"solid\", \"shape\": \"linear\", \"width\": 1.3}, \"mode\": \"lines\", \"name\": \"D\", \"text\": \"\", \"type\": \"scatter\", \"x\": [0, 1, 2, 3, 4, 5, 6, 7, 8, 9, 10, 11, 12, 13, 14, 15, 16, 17, 18, 19, 20, 21, 22, 23, 24, 25, 26, 27, 28, 29, 30, 31, 32, 33, 34, 35, 36, 37, 38, 39, 40, 41, 42, 43, 44, 45, 46, 47, 48, 49, 50, 51, 52, 53, 54, 55, 56, 57, 58, 59, 60, 61, 62, 63, 64, 65, 66, 67, 68, 69, 70, 71, 72, 73, 74, 75, 76, 77, 78, 79, 80, 81, 82, 83, 84, 85, 86, 87, 88, 89, 90, 91, 92, 93, 94, 95, 96, 97, 98, 99], \"y\": [-0.14243188168373888, -1.0729907558568355, 0.44733250377667716, -1.1897147775895982, 1.092741516710888, -0.06091528550317952, 0.10743674606032749, 0.9042940695647604, 0.5303819578975205, 1.9992339800473369, 0.6456010371124833, -0.7962804132728767, -0.5815192392519256, 0.2597767876385269, -2.459883288053741, -0.4082992590619642, 0.39686139282285504, -0.10328064655423272, -1.1573545857701342, -1.7466222324347853, -1.6081787740748272, 0.042610628533974994, 1.7131089103702466, -0.33970182084475636, -0.9583274897717958, 0.8309717943957573, -1.8513065553096661, -0.43667935832435667, -1.3202801094129164, 0.19412359694222966, 0.3863753886878289, 2.262504342957885, -1.1789996565844338, 0.8610049877785335, 0.35020646357557556, -0.4526706099620868, -1.4208827518870466, -2.0336415880196306, -0.6028790992919976, -0.6667505056960525, 1.034085965991731, 1.6862381136516247, 0.9671590675760109, 0.4687702824218409, -0.11354411524057219, 1.7598471377692582, -0.3133961636622412, 0.7968082245207883, -0.8123852383043507, -0.1815538188028146, -1.2010576577637924, 0.623379003526806, -0.2905917132234972, 1.0907162251266591, -0.943052216702706, -0.6358961634386422, 0.8238944357128126, -1.6910025282864853, -0.5360314141734744, -0.2858234600755065, 0.11739560318332833, 1.3392357088416103, -0.12730657094197811, -0.355344981254377, -0.7888413181153048, 0.010846103051945897, 2.4643060780738653, 0.2688894084296869, -0.6761623948082517, -0.46228423544452435, -0.06823119920909179, 0.5507682072831712, -1.4092521832676117, 0.11165070595437765, 1.0816741381089106, 0.00012294423731891224, 1.6864532375657582, -0.21634623521220717, 1.4069369181982865, 0.14000154269529902, -1.056975185245624, -1.454774926494647, 0.8077501687969396, -0.6826502496255977, 0.6344953632035505, -0.15940212485395602, 1.3448374706334436, 0.5273274117487469, -0.5514095718479104, 0.3176860475959556, -0.0325566071623441, -0.0673720916980821, 0.9991691910935454, 0.4772946025924812, 0.9458312063212977, -1.1631663106908554, 1.0876781943861205, -0.5592269267673681, -0.4905467928214895, -0.43363935487996075]}, {\"line\": {\"color\": \"rgba(50, 171, 96, 1.0)\", \"dash\": \"solid\", \"shape\": \"linear\", \"width\": 1.3}, \"mode\": \"lines\", \"name\": \"C\", \"text\": \"\", \"type\": \"scatter\", \"x\": [0, 1, 2, 3, 4, 5, 6, 7, 8, 9, 10, 11, 12, 13, 14, 15, 16, 17, 18, 19, 20, 21, 22, 23, 24, 25, 26, 27, 28, 29, 30, 31, 32, 33, 34, 35, 36, 37, 38, 39, 40, 41, 42, 43, 44, 45, 46, 47, 48, 49, 50, 51, 52, 53, 54, 55, 56, 57, 58, 59, 60, 61, 62, 63, 64, 65, 66, 67, 68, 69, 70, 71, 72, 73, 74, 75, 76, 77, 78, 79, 80, 81, 82, 83, 84, 85, 86, 87, 88, 89, 90, 91, 92, 93, 94, 95, 96, 97, 98, 99], \"y\": [-0.444678500480317, 0.0933498848400473, 0.9355087974997555, -1.106441630487202, 0.7870975629687152, 0.21808060888783593, 0.19245161375740785, 0.058978349501044657, -0.8714541206370889, 1.6723359190038503, -0.9521959925693669, 0.25982368775406417, 0.4329967486845554, 0.9585187647681762, -1.79933573560346, 2.2571466440543344, 0.27242090370105326, -3.041426982646799, -0.7379674589948564, 0.21321722437944604, 0.3744406483158536, 1.8794147199102167, 0.5865594775587016, -0.3723330026710341, -0.21256708491681514, 1.2175066431034185, 0.9503232313646496, 1.7526010217049393, -0.6255769714716065, -0.8150989477464166, 0.1900069841307442, -0.6573140026719146, 1.3123490852146837, -0.20521456260004223, -0.8280753332366754, -2.1789891770225105, -1.7227530897526353, 1.2860266607255277, 0.417423466170257, -1.408581550401666, -1.0147418694696868, 1.0617865770644983, -2.1357693694007693, 0.6316085302784928, 1.0548351609959814, -1.821383374322361, 1.1794682397233458, 0.7800559142128144, 1.5175952940754551, -0.20063016325093158, 1.469109182383053, 0.33064590666961946, -1.5329746111023028, 1.4876464359770907, 0.7368765553019965, 0.2556196982451411, 1.496074295060987, -0.25594776352614945, -1.0302066787914688, 0.3771702792035409, 1.5954550568745687, -1.8239541572520326, -0.6292071703871251, 0.8569283151606543, 0.19021096842866161, 0.6607647699069801, -0.0016000980015075767, -0.6033609765671395, 0.6926557249524916, 0.13880646341418457, -1.3362928951925246, 0.5040296861060063, 2.5601117800980524, -0.983051918444861, -0.7450095718104365, -0.8245934015034929, -1.1246483229871902, -0.6547441335375387, -0.8088996560125555, -0.0966860051066942, -1.4863921450232944, 0.18967390658638197, 0.15908685829749233, -0.2691504733360306, -0.18560225336486053, 0.1001975328112677, -0.4706507089738137, 0.2368759547272725, 0.6644170545061568, -0.11309520573149913, 1.1829406966617049, -1.0833015314373051, -0.15088069839314402, -0.2652424034024619, 0.8990779222502281, -0.030734197118241203, -0.46028230155709343, 2.0393872169244824, 0.3883702636590222, 1.133687274935083]}, {\"line\": {\"color\": \"rgba(128, 0, 128, 1.0)\", \"dash\": \"solid\", \"shape\": \"linear\", \"width\": 1.3}, \"mode\": \"lines\", \"name\": \"B\", \"text\": \"\", \"type\": \"scatter\", \"x\": [0, 1, 2, 3, 4, 5, 6, 7, 8, 9, 10, 11, 12, 13, 14, 15, 16, 17, 18, 19, 20, 21, 22, 23, 24, 25, 26, 27, 28, 29, 30, 31, 32, 33, 34, 35, 36, 37, 38, 39, 40, 41, 42, 43, 44, 45, 46, 47, 48, 49, 50, 51, 52, 53, 54, 55, 56, 57, 58, 59, 60, 61, 62, 63, 64, 65, 66, 67, 68, 69, 70, 71, 72, 73, 74, 75, 76, 77, 78, 79, 80, 81, 82, 83, 84, 85, 86, 87, 88, 89, 90, 91, 92, 93, 94, 95, 96, 97, 98, 99], \"y\": [0.9051120349846424, 1.1315731612883049, 0.4889535391167449, -0.411827350510033, 1.7437582525448498, 0.8754875880381073, -1.612719409098891, 1.2673782176917372, 0.34610407515785685, -0.8734634626765565, 0.5080615811518349, 0.3786949114985083, 0.8549394182735643, -1.1727436261908517, 0.278079586528356, -2.086519140021561, 0.9558921986334105, -2.1412044407561335, 1.5908599450759613, -0.38037367059143695, -0.33823974441909016, 0.5148757793898513, 0.06431934032079333, -0.6192210839283654, 0.6364993369072576, 0.5238573577202742, 2.5123333500021423, -0.7385360908208347, 1.5357500979181817, 1.5724495278522659, 0.6633106187533743, 0.1913510422791749, -0.9852937680279761, 0.4866604508534319, -1.5691043539958625, -0.5457214474250892, -2.650467246676767, -0.4096399990779472, -0.44165613080647653, -1.6114045136155386, 0.3372243946613703, 0.09216459763101896, 0.4408702411197516, 1.026794643555709, -0.787067876624869, 0.274085340958029, 0.6432038230781414, 0.11625200510070811, -0.11400215542141642, 1.1678648365076898, 0.6381872954128966, -0.10906986258298167, 0.40314926362595793, -1.4061921229295076, -0.8949388605476665, -0.6797123989402232, 0.681267680316777, -1.5973585952033058, 0.9990493726980721, -0.9268111651857517, -0.7197683145996996, 0.18706094517469868, -1.1137685782674145, -0.8981843019223013, -0.008022352656607114, -0.46902423130002263, -1.0663496382780207, 1.2930554005359125, -0.12481695277229017, 0.8763289665253956, -0.15234775564968409, 0.7815603667800463, -0.3711497040527381, -0.735133518142438, 1.0719608777778922, -1.8110615652327744, -0.21451545478894662, -1.0000693418566864, -1.2492276001592144, -0.46780364099239063, 0.1472438174569735, 0.26416988245785844, 0.6659503106264842, 1.4700345976857954, 1.077675298771589, 1.1078248664225065, -0.7199081897875417, 0.6037307814365238, -1.2541232782328138, -0.4445705528975758, -0.5995953052364829, 0.8703773020736415, 1.240967816138145, -0.23458836833371494, 1.3626315874217745, -0.34003054967360213, 0.28031746369473, -0.6342169480234975, 0.6748537839853154, -1.3964778756962182]}, {\"connectgaps\": false, \"fill\": \"tozeroy\", \"line\": {\"color\": \"green\", \"dash\": \"solid\", \"shape\": \"linear\", \"width\": 0.5}, \"mode\": \"lines\", \"name\": \"Spread\", \"showlegend\": false, \"type\": \"scatter\", \"x\": [0, 1, 2, 3, 4, 5, 6, 7, 8, 9, 10, 11, 12, 13, 14, 15, 16, 17, 18, 19, 20, 21, 22, 23, 24, 25, 26, 27, 28, 29, 30, 31, 32, 33, 34, 35, 36, 37, 38, 39, 40, 41, 42, 43, 44, 45, 46, 47, 48, 49, 50, 51, 52, 53, 54, 55, 56, 57, 58, 59, 60, 61, 62, 63, 64, 65, 66, 67, 68, 69, 70, 71, 72, 73, 74, 75, 76, 77, 78, 79, 80, 81, 82, 83, 84, 85, 86, 87, 88, 89, 90, 91, 92, 93, 94, 95, 96, 97, 98, 99], \"xaxis\": \"x2\", \"y\": [\"\", \"\", \"\", 1.4474572218750725, \"\", \"\", 1.2998882551508975, \"\", \"\", 0.38012100319868125, 0.7960094796646785, \"\", 1.1809298546406586, \"\", 3.296047951562103, 1.8292054106009146, \"\", \"\", 2.0008034654267752, 1.3039808068866456, 2.3811183052210048, \"\", \"\", 0.16105423128074306, \"\", \"\", \"\", 1.3151635281029064, 1.6484156175077032, 1.1195487091079015, 0.19346689342798767, \"\", 0.7854910778512101, 1.0077282675174513, 1.1494711518481653, \"\", 1.3366954676569982, 0.3205661331431242, 0.2606849442324655, 1.9643649484260828, \"\", \"\", \"\", 0.4981765918697812, \"\", \"\", 0.9459835740826523, \"\", \"\", \"\", 0.6726715806683427, \"\", \"\", \"\", 1.1392418628440921, 0.06839440993528523, 0.4877098980123018, 2.7535595824803334, 0.6990505059981483, 0.11061768986258066, \"\", \"\", 1.3536934704162724, 1.352655465901751, \"\", 0.38994609016374693, \"\", 0.3117786351628432, 1.0928403956029131, 0.6430853497641209, \"\", \"\", \"\", 1.0919533673867867, 0.46001121236415177, 0.6446004141001, \"\", \"\", \"\", 0.7091823558082715, 0.0066961285518376545, 1.4678259852641633, 0.8069158009189566, \"\", \"\", \"\", \"\", \"\", 2.7217108711107096, \"\", \"\", 0.151718841873862, \"\", \"\", 0.31116715049348853, 1.4939058813052581, \"\", 1.9625630691328264, 0.6147135884412233, 0.8877883037842329], \"yaxis\": \"y2\"}, {\"connectgaps\": false, \"fill\": \"tozeroy\", \"line\": {\"color\": \"red\", \"dash\": \"solid\", \"shape\": \"linear\", \"width\": 0.5}, \"mode\": \"lines\", \"name\": \"Spread\", \"showlegend\": false, \"type\": \"scatter\", \"x\": [0, 1, 2, 3, 4, 5, 6, 7, 8, 9, 10, 11, 12, 13, 14, 15, 16, 17, 18, 19, 20, 21, 22, 23, 24, 25, 26, 27, 28, 29, 30, 31, 32, 33, 34, 35, 36, 37, 38, 39, 40, 41, 42, 43, 44, 45, 46, 47, 48, 49, 50, 51, 52, 53, 54, 55, 56, 57, 58, 59, 60, 61, 62, 63, 64, 65, 66, 67, 68, 69, 70, 71, 72, 73, 74, 75, 76, 77, 78, 79, 80, 81, 82, 83, 84, 85, 86, 87, 88, 89, 90, 91, 92, 93, 94, 95, 96, 97, 98, 99], \"xaxis\": \"x2\", \"y\": [-0.6159306807727437, -0.28782276709426724, -0.8953013343110434, \"\", -2.730321246022947, -0.9855319202331704, \"\", -0.6277788793095375, -0.603544275065085, \"\", \"\", -1.2043952030933984, \"\", -1.4379344277550679, \"\", \"\", -1.7740814855007443, -1.4297331232086445, \"\", \"\", \"\", -1.2291466815967689, -0.6458773259391801, \"\", -0.7316445006515561, -0.016306902467524975, -0.6897490703684477, \"\", \"\", \"\", \"\", -2.412785464946696, \"\", \"\", \"\", -2.1451881835633944, \"\", \"\", \"\", \"\", -0.23438508376577372, -3.60080550888482, -0.643120766386444, \"\", -0.2819079938012322, -2.275511151035677, \"\", -1.569829258974248, -0.21550743030253383, -0.6249385153935446, \"\", -0.5653284772759739, -0.24360183208388397, -1.7213200402878204, \"\", \"\", \"\", \"\", \"\", \"\", -0.8622215352910012, -1.40512679666476, \"\", \"\", -0.06982827505802347, \"\", -1.8166580613646897, \"\", \"\", \"\", -0.5866697514085817, -2.1132493893684106, -0.4941857648738488, \"\", \"\", \"\", -1.1715918184953722, -1.7049599302227263, -1.051883689236999, \"\", \"\", \"\", \"\", -0.39225678967839506, -1.2961675638796502, -0.2149124010936799, -3.837320585227353, -0.6927798755417369, \"\", -1.5779723597280468, -0.73509639551964, \"\", -1.27989638675829, -0.053145422667407405, \"\", \"\", -1.303530602849231, \"\", \"\", \"\"], \"yaxis\": \"y2\"}],\n",
       "                        {\"hovermode\": \"x\", \"legend\": {\"bgcolor\": \"#F5F6F9\", \"font\": {\"color\": \"#4D5663\"}}, \"paper_bgcolor\": \"#F5F6F9\", \"plot_bgcolor\": \"#F5F6F9\", \"template\": {\"data\": {\"bar\": [{\"error_x\": {\"color\": \"#2a3f5f\"}, \"error_y\": {\"color\": \"#2a3f5f\"}, \"marker\": {\"line\": {\"color\": \"#E5ECF6\", \"width\": 0.5}}, \"type\": \"bar\"}], \"barpolar\": [{\"marker\": {\"line\": {\"color\": \"#E5ECF6\", \"width\": 0.5}}, \"type\": \"barpolar\"}], \"carpet\": [{\"aaxis\": {\"endlinecolor\": \"#2a3f5f\", \"gridcolor\": \"white\", \"linecolor\": \"white\", \"minorgridcolor\": \"white\", \"startlinecolor\": \"#2a3f5f\"}, \"baxis\": {\"endlinecolor\": \"#2a3f5f\", \"gridcolor\": \"white\", \"linecolor\": \"white\", \"minorgridcolor\": \"white\", \"startlinecolor\": \"#2a3f5f\"}, \"type\": \"carpet\"}], \"choropleth\": [{\"colorbar\": {\"outlinewidth\": 0, \"ticks\": \"\"}, \"type\": \"choropleth\"}], \"contour\": [{\"colorbar\": {\"outlinewidth\": 0, \"ticks\": \"\"}, \"colorscale\": [[0.0, \"#0d0887\"], [0.1111111111111111, \"#46039f\"], [0.2222222222222222, \"#7201a8\"], [0.3333333333333333, \"#9c179e\"], [0.4444444444444444, \"#bd3786\"], [0.5555555555555556, \"#d8576b\"], [0.6666666666666666, \"#ed7953\"], [0.7777777777777778, \"#fb9f3a\"], [0.8888888888888888, \"#fdca26\"], [1.0, \"#f0f921\"]], \"type\": \"contour\"}], \"contourcarpet\": [{\"colorbar\": {\"outlinewidth\": 0, \"ticks\": \"\"}, \"type\": \"contourcarpet\"}], \"heatmap\": [{\"colorbar\": {\"outlinewidth\": 0, \"ticks\": \"\"}, \"colorscale\": [[0.0, \"#0d0887\"], [0.1111111111111111, \"#46039f\"], [0.2222222222222222, \"#7201a8\"], [0.3333333333333333, \"#9c179e\"], [0.4444444444444444, \"#bd3786\"], [0.5555555555555556, \"#d8576b\"], [0.6666666666666666, \"#ed7953\"], [0.7777777777777778, \"#fb9f3a\"], [0.8888888888888888, \"#fdca26\"], [1.0, \"#f0f921\"]], \"type\": \"heatmap\"}], \"heatmapgl\": [{\"colorbar\": {\"outlinewidth\": 0, \"ticks\": \"\"}, \"colorscale\": [[0.0, \"#0d0887\"], [0.1111111111111111, \"#46039f\"], [0.2222222222222222, \"#7201a8\"], [0.3333333333333333, \"#9c179e\"], [0.4444444444444444, \"#bd3786\"], [0.5555555555555556, \"#d8576b\"], [0.6666666666666666, \"#ed7953\"], [0.7777777777777778, \"#fb9f3a\"], [0.8888888888888888, \"#fdca26\"], [1.0, \"#f0f921\"]], \"type\": \"heatmapgl\"}], \"histogram\": [{\"marker\": {\"colorbar\": {\"outlinewidth\": 0, \"ticks\": \"\"}}, \"type\": \"histogram\"}], \"histogram2d\": [{\"colorbar\": {\"outlinewidth\": 0, \"ticks\": \"\"}, \"colorscale\": [[0.0, \"#0d0887\"], [0.1111111111111111, \"#46039f\"], [0.2222222222222222, \"#7201a8\"], [0.3333333333333333, \"#9c179e\"], [0.4444444444444444, \"#bd3786\"], [0.5555555555555556, \"#d8576b\"], [0.6666666666666666, \"#ed7953\"], [0.7777777777777778, \"#fb9f3a\"], [0.8888888888888888, \"#fdca26\"], [1.0, \"#f0f921\"]], \"type\": \"histogram2d\"}], \"histogram2dcontour\": [{\"colorbar\": {\"outlinewidth\": 0, \"ticks\": \"\"}, \"colorscale\": [[0.0, \"#0d0887\"], [0.1111111111111111, \"#46039f\"], [0.2222222222222222, \"#7201a8\"], [0.3333333333333333, \"#9c179e\"], [0.4444444444444444, \"#bd3786\"], [0.5555555555555556, \"#d8576b\"], [0.6666666666666666, \"#ed7953\"], [0.7777777777777778, \"#fb9f3a\"], [0.8888888888888888, \"#fdca26\"], [1.0, \"#f0f921\"]], \"type\": \"histogram2dcontour\"}], \"mesh3d\": [{\"colorbar\": {\"outlinewidth\": 0, \"ticks\": \"\"}, \"type\": \"mesh3d\"}], \"parcoords\": [{\"line\": {\"colorbar\": {\"outlinewidth\": 0, \"ticks\": \"\"}}, \"type\": \"parcoords\"}], \"pie\": [{\"automargin\": true, \"type\": \"pie\"}], \"scatter\": [{\"marker\": {\"colorbar\": {\"outlinewidth\": 0, \"ticks\": \"\"}}, \"type\": \"scatter\"}], \"scatter3d\": [{\"line\": {\"colorbar\": {\"outlinewidth\": 0, \"ticks\": \"\"}}, \"marker\": {\"colorbar\": {\"outlinewidth\": 0, \"ticks\": \"\"}}, \"type\": \"scatter3d\"}], \"scattercarpet\": [{\"marker\": {\"colorbar\": {\"outlinewidth\": 0, \"ticks\": \"\"}}, \"type\": \"scattercarpet\"}], \"scattergeo\": [{\"marker\": {\"colorbar\": {\"outlinewidth\": 0, \"ticks\": \"\"}}, \"type\": \"scattergeo\"}], \"scattergl\": [{\"marker\": {\"colorbar\": {\"outlinewidth\": 0, \"ticks\": \"\"}}, \"type\": \"scattergl\"}], \"scattermapbox\": [{\"marker\": {\"colorbar\": {\"outlinewidth\": 0, \"ticks\": \"\"}}, \"type\": \"scattermapbox\"}], \"scatterpolar\": [{\"marker\": {\"colorbar\": {\"outlinewidth\": 0, \"ticks\": \"\"}}, \"type\": \"scatterpolar\"}], \"scatterpolargl\": [{\"marker\": {\"colorbar\": {\"outlinewidth\": 0, \"ticks\": \"\"}}, \"type\": \"scatterpolargl\"}], \"scatterternary\": [{\"marker\": {\"colorbar\": {\"outlinewidth\": 0, \"ticks\": \"\"}}, \"type\": \"scatterternary\"}], \"surface\": [{\"colorbar\": {\"outlinewidth\": 0, \"ticks\": \"\"}, \"colorscale\": [[0.0, \"#0d0887\"], [0.1111111111111111, \"#46039f\"], [0.2222222222222222, \"#7201a8\"], [0.3333333333333333, \"#9c179e\"], [0.4444444444444444, \"#bd3786\"], [0.5555555555555556, \"#d8576b\"], [0.6666666666666666, \"#ed7953\"], [0.7777777777777778, \"#fb9f3a\"], [0.8888888888888888, \"#fdca26\"], [1.0, \"#f0f921\"]], \"type\": \"surface\"}], \"table\": [{\"cells\": {\"fill\": {\"color\": \"#EBF0F8\"}, \"line\": {\"color\": \"white\"}}, \"header\": {\"fill\": {\"color\": \"#C8D4E3\"}, \"line\": {\"color\": \"white\"}}, \"type\": \"table\"}]}, \"layout\": {\"annotationdefaults\": {\"arrowcolor\": \"#2a3f5f\", \"arrowhead\": 0, \"arrowwidth\": 1}, \"coloraxis\": {\"colorbar\": {\"outlinewidth\": 0, \"ticks\": \"\"}}, \"colorscale\": {\"diverging\": [[0, \"#8e0152\"], [0.1, \"#c51b7d\"], [0.2, \"#de77ae\"], [0.3, \"#f1b6da\"], [0.4, \"#fde0ef\"], [0.5, \"#f7f7f7\"], [0.6, \"#e6f5d0\"], [0.7, \"#b8e186\"], [0.8, \"#7fbc41\"], [0.9, \"#4d9221\"], [1, \"#276419\"]], \"sequential\": [[0.0, \"#0d0887\"], [0.1111111111111111, \"#46039f\"], [0.2222222222222222, \"#7201a8\"], [0.3333333333333333, \"#9c179e\"], [0.4444444444444444, \"#bd3786\"], [0.5555555555555556, \"#d8576b\"], [0.6666666666666666, \"#ed7953\"], [0.7777777777777778, \"#fb9f3a\"], [0.8888888888888888, \"#fdca26\"], [1.0, \"#f0f921\"]], \"sequentialminus\": [[0.0, \"#0d0887\"], [0.1111111111111111, \"#46039f\"], [0.2222222222222222, \"#7201a8\"], [0.3333333333333333, \"#9c179e\"], [0.4444444444444444, \"#bd3786\"], [0.5555555555555556, \"#d8576b\"], [0.6666666666666666, \"#ed7953\"], [0.7777777777777778, \"#fb9f3a\"], [0.8888888888888888, \"#fdca26\"], [1.0, \"#f0f921\"]]}, \"colorway\": [\"#636efa\", \"#EF553B\", \"#00cc96\", \"#ab63fa\", \"#FFA15A\", \"#19d3f3\", \"#FF6692\", \"#B6E880\", \"#FF97FF\", \"#FECB52\"], \"font\": {\"color\": \"#2a3f5f\"}, \"geo\": {\"bgcolor\": \"white\", \"lakecolor\": \"white\", \"landcolor\": \"#E5ECF6\", \"showlakes\": true, \"showland\": true, \"subunitcolor\": \"white\"}, \"hoverlabel\": {\"align\": \"left\"}, \"hovermode\": \"closest\", \"mapbox\": {\"style\": \"light\"}, \"paper_bgcolor\": \"white\", \"plot_bgcolor\": \"#E5ECF6\", \"polar\": {\"angularaxis\": {\"gridcolor\": \"white\", \"linecolor\": \"white\", \"ticks\": \"\"}, \"bgcolor\": \"#E5ECF6\", \"radialaxis\": {\"gridcolor\": \"white\", \"linecolor\": \"white\", \"ticks\": \"\"}}, \"scene\": {\"xaxis\": {\"backgroundcolor\": \"#E5ECF6\", \"gridcolor\": \"white\", \"gridwidth\": 2, \"linecolor\": \"white\", \"showbackground\": true, \"ticks\": \"\", \"zerolinecolor\": \"white\"}, \"yaxis\": {\"backgroundcolor\": \"#E5ECF6\", \"gridcolor\": \"white\", \"gridwidth\": 2, \"linecolor\": \"white\", \"showbackground\": true, \"ticks\": \"\", \"zerolinecolor\": \"white\"}, \"zaxis\": {\"backgroundcolor\": \"#E5ECF6\", \"gridcolor\": \"white\", \"gridwidth\": 2, \"linecolor\": \"white\", \"showbackground\": true, \"ticks\": \"\", \"zerolinecolor\": \"white\"}}, \"shapedefaults\": {\"line\": {\"color\": \"#2a3f5f\"}}, \"ternary\": {\"aaxis\": {\"gridcolor\": \"white\", \"linecolor\": \"white\", \"ticks\": \"\"}, \"baxis\": {\"gridcolor\": \"white\", \"linecolor\": \"white\", \"ticks\": \"\"}, \"bgcolor\": \"#E5ECF6\", \"caxis\": {\"gridcolor\": \"white\", \"linecolor\": \"white\", \"ticks\": \"\"}}, \"title\": {\"x\": 0.05}, \"xaxis\": {\"automargin\": true, \"gridcolor\": \"white\", \"linecolor\": \"white\", \"ticks\": \"\", \"title\": {\"standoff\": 15}, \"zerolinecolor\": \"white\", \"zerolinewidth\": 2}, \"yaxis\": {\"automargin\": true, \"gridcolor\": \"white\", \"linecolor\": \"white\", \"ticks\": \"\", \"title\": {\"standoff\": 15}, \"zerolinecolor\": \"white\", \"zerolinewidth\": 2}}}, \"title\": {\"font\": {\"color\": \"#4D5663\"}}, \"xaxis\": {\"gridcolor\": \"#E1E5ED\", \"showgrid\": true, \"tickfont\": {\"color\": \"#4D5663\"}, \"title\": {\"font\": {\"color\": \"#4D5663\"}, \"text\": \"\"}, \"zerolinecolor\": \"#E1E5ED\"}, \"xaxis2\": {\"anchor\": \"y2\", \"gridcolor\": \"#E1E5ED\", \"showgrid\": true, \"showticklabels\": false, \"tickfont\": {\"color\": \"#4D5663\"}, \"title\": {\"font\": {\"color\": \"#4D5663\"}, \"text\": \"\"}, \"zerolinecolor\": \"#E1E5ED\"}, \"yaxis\": {\"domain\": [0.3, 1], \"gridcolor\": \"#E1E5ED\", \"showgrid\": true, \"tickfont\": {\"color\": \"#4D5663\"}, \"title\": {\"font\": {\"color\": \"#4D5663\"}, \"text\": \"\"}, \"zerolinecolor\": \"#E1E5ED\"}, \"yaxis2\": {\"domain\": [0, 0.25], \"gridcolor\": \"#E1E5ED\", \"showgrid\": true, \"tickfont\": {\"color\": \"#4D5663\"}, \"title\": {\"font\": {\"color\": \"#4D5663\"}, \"text\": \"Spread\"}, \"zerolinecolor\": \"#E1E5ED\"}},\n",
       "                        {\"showLink\": true, \"linkText\": \"Export to plot.ly\", \"plotlyServerURL\": \"https://plot.ly\", \"responsive\": true}\n",
       "                    ).then(function(){\n",
       "                            \n",
       "var gd = document.getElementById('fd5be187-afc1-438d-8aaa-6b79b03c8b90');\n",
       "var x = new MutationObserver(function (mutations, observer) {{\n",
       "        var display = window.getComputedStyle(gd).display;\n",
       "        if (!display || display === 'none') {{\n",
       "            console.log([gd, 'removed!']);\n",
       "            Plotly.purge(gd);\n",
       "            observer.disconnect();\n",
       "        }}\n",
       "}});\n",
       "\n",
       "// Listen for the removal of the full notebook cells\n",
       "var notebookContainer = gd.closest('#notebook-container');\n",
       "if (notebookContainer) {{\n",
       "    x.observe(notebookContainer, {childList: true});\n",
       "}}\n",
       "\n",
       "// Listen for the clearing of the current output cell\n",
       "var outputEl = gd.closest('.output');\n",
       "if (outputEl) {{\n",
       "    x.observe(outputEl, {childList: true});\n",
       "}}\n",
       "\n",
       "                        })\n",
       "                };\n",
       "                });\n",
       "            </script>\n",
       "        </div>"
      ]
     },
     "metadata": {},
     "output_type": "display_data"
    }
   ],
   "source": [
    "df[['A','D','C','B']].iplot(kind='spread')"
   ]
  },
  {
   "cell_type": "markdown",
   "metadata": {
    "colab_type": "text",
    "id": "VJooIfe1iSs4"
   },
   "source": [
    "**Bubble Plots**"
   ]
  },
  {
   "cell_type": "code",
   "execution_count": 15,
   "metadata": {
    "colab": {},
    "colab_type": "code",
    "id": "MfKAi3cwiSs5",
    "outputId": "5a0554a9-140d-4a51-8f4c-6f20fbf40f2e"
   },
   "outputs": [
    {
     "data": {
      "application/vnd.plotly.v1+json": {
       "config": {
        "linkText": "Export to plot.ly",
        "plotlyServerURL": "https://plot.ly",
        "showLink": true
       },
       "data": [
        {
         "marker": {
          "color": [
           "seagreen",
           "seagreen",
           "seagreen",
           "seagreen",
           "seagreen",
           "seagreen",
           "seagreen",
           "seagreen",
           "seagreen",
           "seagreen",
           "seagreen",
           "seagreen",
           "seagreen",
           "seagreen",
           "seagreen",
           "seagreen",
           "seagreen",
           "seagreen",
           "seagreen",
           "seagreen",
           "seagreen",
           "seagreen",
           "seagreen",
           "seagreen",
           "seagreen",
           "seagreen",
           "seagreen",
           "seagreen",
           "seagreen",
           "seagreen",
           "seagreen",
           "seagreen",
           "seagreen",
           "seagreen",
           "seagreen",
           "seagreen",
           "seagreen",
           "seagreen",
           "seagreen",
           "seagreen",
           "seagreen",
           "seagreen",
           "seagreen",
           "seagreen",
           "seagreen",
           "seagreen",
           "seagreen",
           "seagreen",
           "seagreen",
           "seagreen",
           "seagreen",
           "seagreen",
           "seagreen",
           "seagreen",
           "seagreen",
           "seagreen",
           "seagreen",
           "seagreen",
           "seagreen",
           "seagreen",
           "seagreen",
           "seagreen",
           "seagreen",
           "seagreen",
           "seagreen",
           "seagreen",
           "seagreen",
           "seagreen",
           "seagreen",
           "seagreen",
           "seagreen",
           "seagreen",
           "seagreen",
           "seagreen",
           "seagreen",
           "seagreen",
           "seagreen",
           "seagreen",
           "seagreen",
           "seagreen",
           "seagreen",
           "seagreen",
           "seagreen",
           "seagreen",
           "seagreen",
           "seagreen",
           "seagreen",
           "seagreen",
           "seagreen",
           "seagreen",
           "seagreen",
           "seagreen",
           "seagreen",
           "seagreen",
           "seagreen",
           "seagreen",
           "seagreen",
           "seagreen",
           "seagreen",
           "seagreen"
          ],
          "line": {
           "width": 1.3
          },
          "size": [
           58,
           67,
           82,
           46,
           80,
           70,
           69,
           67,
           50,
           96,
           49,
           70,
           74,
           83,
           34,
           106,
           71,
           12,
           53,
           70,
           72,
           99,
           76,
           59,
           62,
           88,
           83,
           97,
           55,
           51,
           69,
           54,
           89,
           62,
           51,
           27,
           35,
           89,
           73,
           41,
           48,
           85,
           28,
           77,
           85,
           33,
           87,
           80,
           93,
           62,
           92,
           72,
           38,
           92,
           79,
           70,
           93,
           61,
           47,
           73,
           94,
           33,
           55,
           81,
           69,
           78,
           66,
           55,
           78,
           68,
           42,
           75,
           111,
           48,
           52,
           51,
           46,
           54,
           51,
           64,
           39,
           69,
           69,
           61,
           62,
           68,
           57,
           70,
           78,
           64,
           87,
           46,
           63,
           61,
           82,
           65,
           58,
           102,
           73,
           86
          ],
          "symbol": "circle"
         },
         "mode": "markers",
         "text": "",
         "type": "scatter",
         "x": [
          -0.7583625624564826,
          -1.3608135229511027,
          -0.4479688305343663,
          0.25774244428547427,
          -1.6375797293120589,
          -1.0464472057363499,
          1.407325001211225,
          0.276515190255223,
          -0.07316231716756455,
          2.379354983246018,
          1.4416105167771618,
          -2.000675616366275,
          0.599410615388733,
          -1.178157640116541,
          0.8361646635083623,
          1.4209061515389503,
          -1.3772200926778893,
          -1.5330137697628772,
          0.8434488796566412,
          -0.44264142554813973,
          0.7729395311461773,
          -1.186536053062794,
          1.0672315844310665,
          -0.1786475895640133,
          -1.6899719904233519,
          0.8146648919282323,
          -2.541055625678114,
          0.8784841697785496,
          0.32813550809478664,
          1.3136723060501312,
          0.5798422821158166,
          -0.15028112198881133,
          -0.39350857873322376,
          1.8687332552959848,
          1.4996776154237408,
          -2.5978587935254813,
          -0.08418728423004833,
          -1.7130754548765064,
          -0.34219415505953205,
          1.2976144427300302,
          0.7997008822259573,
          -1.9145673952331954,
          0.32403830118956695,
          0.9669468742916221,
          -0.3954521090418044,
          -0.5156640132664189,
          0.6325874104204111,
          -0.7730210344534597,
          -1.0278926686068846,
          -0.8064923341963592,
          -0.5283860770954497,
          0.05805052625083211,
          -0.5341935453073812,
          -0.6306038151611613,
          0.19618964614138615,
          -0.567501753503357,
          1.3116043337251144,
          1.0625570541938478,
          0.1630190918246739,
          -0.17520577021292585,
          -0.7448259321076729,
          -0.06589108782314983,
          1.2263868994742944,
          0.9973104846473738,
          -0.8586695931733282,
          0.4007921932156928,
          0.6476480167091756,
          0.5806680435925301,
          0.41667800079466144,
          0.18080111431959658,
          -0.6549009506176735,
          -1.5624811820852393,
          -1.9034379481414605,
          1.2036040733411644,
          1.5416853504730623,
          0.644723358337419,
          0.5148614190703861,
          -1.9213061654349335,
          0.35505322896128755,
          0.8491838985035705,
          -1.0502790566937863,
          0.013051058769516184,
          1.6146659697158963,
          -1.0749070393039928,
          -0.6616722006760997,
          -0.3743145259476359,
          -2.4924831145939095,
          -0.16545246379299003,
          2.1703012992627992,
          -1.2602863121320913,
          -0.7676530026819841,
          0.0843467501757799,
          -0.2807271956647446,
          0.4241491799250738,
          1.2569983568147862,
          0.33073957061440273,
          -0.21585240846311052,
          1.4033361423654584,
          0.12416679561973377,
          0.45414894890427215
         ],
         "y": [
          0.9051120349846424,
          1.1315731612883049,
          0.4889535391167449,
          -0.411827350510033,
          1.7437582525448498,
          0.8754875880381073,
          -1.612719409098891,
          1.2673782176917372,
          0.34610407515785685,
          -0.8734634626765565,
          0.5080615811518349,
          0.3786949114985083,
          0.8549394182735643,
          -1.1727436261908517,
          0.278079586528356,
          -2.086519140021561,
          0.9558921986334105,
          -2.1412044407561335,
          1.5908599450759613,
          -0.38037367059143695,
          -0.33823974441909016,
          0.5148757793898513,
          0.06431934032079333,
          -0.6192210839283654,
          0.6364993369072576,
          0.5238573577202742,
          2.5123333500021423,
          -0.7385360908208347,
          1.5357500979181817,
          1.5724495278522659,
          0.6633106187533743,
          0.1913510422791749,
          -0.9852937680279761,
          0.4866604508534319,
          -1.5691043539958625,
          -0.5457214474250892,
          -2.650467246676767,
          -0.4096399990779472,
          -0.44165613080647653,
          -1.6114045136155386,
          0.3372243946613703,
          0.09216459763101896,
          0.4408702411197516,
          1.026794643555709,
          -0.787067876624869,
          0.274085340958029,
          0.6432038230781414,
          0.11625200510070811,
          -0.11400215542141642,
          1.1678648365076898,
          0.6381872954128966,
          -0.10906986258298167,
          0.40314926362595793,
          -1.4061921229295076,
          -0.8949388605476665,
          -0.6797123989402232,
          0.681267680316777,
          -1.5973585952033058,
          0.9990493726980721,
          -0.9268111651857517,
          -0.7197683145996996,
          0.18706094517469868,
          -1.1137685782674145,
          -0.8981843019223013,
          -0.008022352656607114,
          -0.46902423130002263,
          -1.0663496382780207,
          1.2930554005359125,
          -0.12481695277229017,
          0.8763289665253956,
          -0.15234775564968409,
          0.7815603667800463,
          -0.3711497040527381,
          -0.735133518142438,
          1.0719608777778922,
          -1.8110615652327744,
          -0.21451545478894662,
          -1.0000693418566864,
          -1.2492276001592144,
          -0.46780364099239063,
          0.1472438174569735,
          0.26416988245785844,
          0.6659503106264842,
          1.4700345976857954,
          1.077675298771589,
          1.1078248664225065,
          -0.7199081897875417,
          0.6037307814365238,
          -1.2541232782328138,
          -0.4445705528975758,
          -0.5995953052364829,
          0.8703773020736415,
          1.240967816138145,
          -0.23458836833371494,
          1.3626315874217745,
          -0.34003054967360213,
          0.28031746369473,
          -0.6342169480234975,
          0.6748537839853154,
          -1.3964778756962182
         ]
        }
       ],
       "layout": {
        "legend": {
         "bgcolor": "#F5F6F9",
         "font": {
          "color": "#4D5663"
         }
        },
        "paper_bgcolor": "#F5F6F9",
        "plot_bgcolor": "#F5F6F9",
        "template": {
         "data": {
          "bar": [
           {
            "error_x": {
             "color": "#2a3f5f"
            },
            "error_y": {
             "color": "#2a3f5f"
            },
            "marker": {
             "line": {
              "color": "#E5ECF6",
              "width": 0.5
             }
            },
            "type": "bar"
           }
          ],
          "barpolar": [
           {
            "marker": {
             "line": {
              "color": "#E5ECF6",
              "width": 0.5
             }
            },
            "type": "barpolar"
           }
          ],
          "carpet": [
           {
            "aaxis": {
             "endlinecolor": "#2a3f5f",
             "gridcolor": "white",
             "linecolor": "white",
             "minorgridcolor": "white",
             "startlinecolor": "#2a3f5f"
            },
            "baxis": {
             "endlinecolor": "#2a3f5f",
             "gridcolor": "white",
             "linecolor": "white",
             "minorgridcolor": "white",
             "startlinecolor": "#2a3f5f"
            },
            "type": "carpet"
           }
          ],
          "choropleth": [
           {
            "colorbar": {
             "outlinewidth": 0,
             "ticks": ""
            },
            "type": "choropleth"
           }
          ],
          "contour": [
           {
            "colorbar": {
             "outlinewidth": 0,
             "ticks": ""
            },
            "colorscale": [
             [
              0,
              "#0d0887"
             ],
             [
              0.1111111111111111,
              "#46039f"
             ],
             [
              0.2222222222222222,
              "#7201a8"
             ],
             [
              0.3333333333333333,
              "#9c179e"
             ],
             [
              0.4444444444444444,
              "#bd3786"
             ],
             [
              0.5555555555555556,
              "#d8576b"
             ],
             [
              0.6666666666666666,
              "#ed7953"
             ],
             [
              0.7777777777777778,
              "#fb9f3a"
             ],
             [
              0.8888888888888888,
              "#fdca26"
             ],
             [
              1,
              "#f0f921"
             ]
            ],
            "type": "contour"
           }
          ],
          "contourcarpet": [
           {
            "colorbar": {
             "outlinewidth": 0,
             "ticks": ""
            },
            "type": "contourcarpet"
           }
          ],
          "heatmap": [
           {
            "colorbar": {
             "outlinewidth": 0,
             "ticks": ""
            },
            "colorscale": [
             [
              0,
              "#0d0887"
             ],
             [
              0.1111111111111111,
              "#46039f"
             ],
             [
              0.2222222222222222,
              "#7201a8"
             ],
             [
              0.3333333333333333,
              "#9c179e"
             ],
             [
              0.4444444444444444,
              "#bd3786"
             ],
             [
              0.5555555555555556,
              "#d8576b"
             ],
             [
              0.6666666666666666,
              "#ed7953"
             ],
             [
              0.7777777777777778,
              "#fb9f3a"
             ],
             [
              0.8888888888888888,
              "#fdca26"
             ],
             [
              1,
              "#f0f921"
             ]
            ],
            "type": "heatmap"
           }
          ],
          "heatmapgl": [
           {
            "colorbar": {
             "outlinewidth": 0,
             "ticks": ""
            },
            "colorscale": [
             [
              0,
              "#0d0887"
             ],
             [
              0.1111111111111111,
              "#46039f"
             ],
             [
              0.2222222222222222,
              "#7201a8"
             ],
             [
              0.3333333333333333,
              "#9c179e"
             ],
             [
              0.4444444444444444,
              "#bd3786"
             ],
             [
              0.5555555555555556,
              "#d8576b"
             ],
             [
              0.6666666666666666,
              "#ed7953"
             ],
             [
              0.7777777777777778,
              "#fb9f3a"
             ],
             [
              0.8888888888888888,
              "#fdca26"
             ],
             [
              1,
              "#f0f921"
             ]
            ],
            "type": "heatmapgl"
           }
          ],
          "histogram": [
           {
            "marker": {
             "colorbar": {
              "outlinewidth": 0,
              "ticks": ""
             }
            },
            "type": "histogram"
           }
          ],
          "histogram2d": [
           {
            "colorbar": {
             "outlinewidth": 0,
             "ticks": ""
            },
            "colorscale": [
             [
              0,
              "#0d0887"
             ],
             [
              0.1111111111111111,
              "#46039f"
             ],
             [
              0.2222222222222222,
              "#7201a8"
             ],
             [
              0.3333333333333333,
              "#9c179e"
             ],
             [
              0.4444444444444444,
              "#bd3786"
             ],
             [
              0.5555555555555556,
              "#d8576b"
             ],
             [
              0.6666666666666666,
              "#ed7953"
             ],
             [
              0.7777777777777778,
              "#fb9f3a"
             ],
             [
              0.8888888888888888,
              "#fdca26"
             ],
             [
              1,
              "#f0f921"
             ]
            ],
            "type": "histogram2d"
           }
          ],
          "histogram2dcontour": [
           {
            "colorbar": {
             "outlinewidth": 0,
             "ticks": ""
            },
            "colorscale": [
             [
              0,
              "#0d0887"
             ],
             [
              0.1111111111111111,
              "#46039f"
             ],
             [
              0.2222222222222222,
              "#7201a8"
             ],
             [
              0.3333333333333333,
              "#9c179e"
             ],
             [
              0.4444444444444444,
              "#bd3786"
             ],
             [
              0.5555555555555556,
              "#d8576b"
             ],
             [
              0.6666666666666666,
              "#ed7953"
             ],
             [
              0.7777777777777778,
              "#fb9f3a"
             ],
             [
              0.8888888888888888,
              "#fdca26"
             ],
             [
              1,
              "#f0f921"
             ]
            ],
            "type": "histogram2dcontour"
           }
          ],
          "mesh3d": [
           {
            "colorbar": {
             "outlinewidth": 0,
             "ticks": ""
            },
            "type": "mesh3d"
           }
          ],
          "parcoords": [
           {
            "line": {
             "colorbar": {
              "outlinewidth": 0,
              "ticks": ""
             }
            },
            "type": "parcoords"
           }
          ],
          "pie": [
           {
            "automargin": true,
            "type": "pie"
           }
          ],
          "scatter": [
           {
            "marker": {
             "colorbar": {
              "outlinewidth": 0,
              "ticks": ""
             }
            },
            "type": "scatter"
           }
          ],
          "scatter3d": [
           {
            "line": {
             "colorbar": {
              "outlinewidth": 0,
              "ticks": ""
             }
            },
            "marker": {
             "colorbar": {
              "outlinewidth": 0,
              "ticks": ""
             }
            },
            "type": "scatter3d"
           }
          ],
          "scattercarpet": [
           {
            "marker": {
             "colorbar": {
              "outlinewidth": 0,
              "ticks": ""
             }
            },
            "type": "scattercarpet"
           }
          ],
          "scattergeo": [
           {
            "marker": {
             "colorbar": {
              "outlinewidth": 0,
              "ticks": ""
             }
            },
            "type": "scattergeo"
           }
          ],
          "scattergl": [
           {
            "marker": {
             "colorbar": {
              "outlinewidth": 0,
              "ticks": ""
             }
            },
            "type": "scattergl"
           }
          ],
          "scattermapbox": [
           {
            "marker": {
             "colorbar": {
              "outlinewidth": 0,
              "ticks": ""
             }
            },
            "type": "scattermapbox"
           }
          ],
          "scatterpolar": [
           {
            "marker": {
             "colorbar": {
              "outlinewidth": 0,
              "ticks": ""
             }
            },
            "type": "scatterpolar"
           }
          ],
          "scatterpolargl": [
           {
            "marker": {
             "colorbar": {
              "outlinewidth": 0,
              "ticks": ""
             }
            },
            "type": "scatterpolargl"
           }
          ],
          "scatterternary": [
           {
            "marker": {
             "colorbar": {
              "outlinewidth": 0,
              "ticks": ""
             }
            },
            "type": "scatterternary"
           }
          ],
          "surface": [
           {
            "colorbar": {
             "outlinewidth": 0,
             "ticks": ""
            },
            "colorscale": [
             [
              0,
              "#0d0887"
             ],
             [
              0.1111111111111111,
              "#46039f"
             ],
             [
              0.2222222222222222,
              "#7201a8"
             ],
             [
              0.3333333333333333,
              "#9c179e"
             ],
             [
              0.4444444444444444,
              "#bd3786"
             ],
             [
              0.5555555555555556,
              "#d8576b"
             ],
             [
              0.6666666666666666,
              "#ed7953"
             ],
             [
              0.7777777777777778,
              "#fb9f3a"
             ],
             [
              0.8888888888888888,
              "#fdca26"
             ],
             [
              1,
              "#f0f921"
             ]
            ],
            "type": "surface"
           }
          ],
          "table": [
           {
            "cells": {
             "fill": {
              "color": "#EBF0F8"
             },
             "line": {
              "color": "white"
             }
            },
            "header": {
             "fill": {
              "color": "#C8D4E3"
             },
             "line": {
              "color": "white"
             }
            },
            "type": "table"
           }
          ]
         },
         "layout": {
          "annotationdefaults": {
           "arrowcolor": "#2a3f5f",
           "arrowhead": 0,
           "arrowwidth": 1
          },
          "coloraxis": {
           "colorbar": {
            "outlinewidth": 0,
            "ticks": ""
           }
          },
          "colorscale": {
           "diverging": [
            [
             0,
             "#8e0152"
            ],
            [
             0.1,
             "#c51b7d"
            ],
            [
             0.2,
             "#de77ae"
            ],
            [
             0.3,
             "#f1b6da"
            ],
            [
             0.4,
             "#fde0ef"
            ],
            [
             0.5,
             "#f7f7f7"
            ],
            [
             0.6,
             "#e6f5d0"
            ],
            [
             0.7,
             "#b8e186"
            ],
            [
             0.8,
             "#7fbc41"
            ],
            [
             0.9,
             "#4d9221"
            ],
            [
             1,
             "#276419"
            ]
           ],
           "sequential": [
            [
             0,
             "#0d0887"
            ],
            [
             0.1111111111111111,
             "#46039f"
            ],
            [
             0.2222222222222222,
             "#7201a8"
            ],
            [
             0.3333333333333333,
             "#9c179e"
            ],
            [
             0.4444444444444444,
             "#bd3786"
            ],
            [
             0.5555555555555556,
             "#d8576b"
            ],
            [
             0.6666666666666666,
             "#ed7953"
            ],
            [
             0.7777777777777778,
             "#fb9f3a"
            ],
            [
             0.8888888888888888,
             "#fdca26"
            ],
            [
             1,
             "#f0f921"
            ]
           ],
           "sequentialminus": [
            [
             0,
             "#0d0887"
            ],
            [
             0.1111111111111111,
             "#46039f"
            ],
            [
             0.2222222222222222,
             "#7201a8"
            ],
            [
             0.3333333333333333,
             "#9c179e"
            ],
            [
             0.4444444444444444,
             "#bd3786"
            ],
            [
             0.5555555555555556,
             "#d8576b"
            ],
            [
             0.6666666666666666,
             "#ed7953"
            ],
            [
             0.7777777777777778,
             "#fb9f3a"
            ],
            [
             0.8888888888888888,
             "#fdca26"
            ],
            [
             1,
             "#f0f921"
            ]
           ]
          },
          "colorway": [
           "#636efa",
           "#EF553B",
           "#00cc96",
           "#ab63fa",
           "#FFA15A",
           "#19d3f3",
           "#FF6692",
           "#B6E880",
           "#FF97FF",
           "#FECB52"
          ],
          "font": {
           "color": "#2a3f5f"
          },
          "geo": {
           "bgcolor": "white",
           "lakecolor": "white",
           "landcolor": "#E5ECF6",
           "showlakes": true,
           "showland": true,
           "subunitcolor": "white"
          },
          "hoverlabel": {
           "align": "left"
          },
          "hovermode": "closest",
          "mapbox": {
           "style": "light"
          },
          "paper_bgcolor": "white",
          "plot_bgcolor": "#E5ECF6",
          "polar": {
           "angularaxis": {
            "gridcolor": "white",
            "linecolor": "white",
            "ticks": ""
           },
           "bgcolor": "#E5ECF6",
           "radialaxis": {
            "gridcolor": "white",
            "linecolor": "white",
            "ticks": ""
           }
          },
          "scene": {
           "xaxis": {
            "backgroundcolor": "#E5ECF6",
            "gridcolor": "white",
            "gridwidth": 2,
            "linecolor": "white",
            "showbackground": true,
            "ticks": "",
            "zerolinecolor": "white"
           },
           "yaxis": {
            "backgroundcolor": "#E5ECF6",
            "gridcolor": "white",
            "gridwidth": 2,
            "linecolor": "white",
            "showbackground": true,
            "ticks": "",
            "zerolinecolor": "white"
           },
           "zaxis": {
            "backgroundcolor": "#E5ECF6",
            "gridcolor": "white",
            "gridwidth": 2,
            "linecolor": "white",
            "showbackground": true,
            "ticks": "",
            "zerolinecolor": "white"
           }
          },
          "shapedefaults": {
           "line": {
            "color": "#2a3f5f"
           }
          },
          "ternary": {
           "aaxis": {
            "gridcolor": "white",
            "linecolor": "white",
            "ticks": ""
           },
           "baxis": {
            "gridcolor": "white",
            "linecolor": "white",
            "ticks": ""
           },
           "bgcolor": "#E5ECF6",
           "caxis": {
            "gridcolor": "white",
            "linecolor": "white",
            "ticks": ""
           }
          },
          "title": {
           "x": 0.05
          },
          "xaxis": {
           "automargin": true,
           "gridcolor": "white",
           "linecolor": "white",
           "ticks": "",
           "title": {
            "standoff": 15
           },
           "zerolinecolor": "white",
           "zerolinewidth": 2
          },
          "yaxis": {
           "automargin": true,
           "gridcolor": "white",
           "linecolor": "white",
           "ticks": "",
           "title": {
            "standoff": 15
           },
           "zerolinecolor": "white",
           "zerolinewidth": 2
          }
         }
        },
        "title": {
         "font": {
          "color": "#4D5663"
         }
        },
        "xaxis": {
         "gridcolor": "#E1E5ED",
         "showgrid": true,
         "tickfont": {
          "color": "#4D5663"
         },
         "title": {
          "font": {
           "color": "#4D5663"
          },
          "text": ""
         },
         "zerolinecolor": "#E1E5ED"
        },
        "yaxis": {
         "gridcolor": "#E1E5ED",
         "showgrid": true,
         "tickfont": {
          "color": "#4D5663"
         },
         "title": {
          "font": {
           "color": "#4D5663"
          },
          "text": ""
         },
         "zerolinecolor": "#E1E5ED"
        }
       }
      },
      "text/html": [
       "<div>\n",
       "        \n",
       "        \n",
       "            <div id=\"603a67d5-6284-4671-91c1-2eccc0b3f77d\" class=\"plotly-graph-div\" style=\"height:525px; width:100%;\"></div>\n",
       "            <script type=\"text/javascript\">\n",
       "                require([\"plotly\"], function(Plotly) {\n",
       "                    window.PLOTLYENV=window.PLOTLYENV || {};\n",
       "                    window.PLOTLYENV.BASE_URL='https://plot.ly';\n",
       "                    \n",
       "                if (document.getElementById(\"603a67d5-6284-4671-91c1-2eccc0b3f77d\")) {\n",
       "                    Plotly.newPlot(\n",
       "                        '603a67d5-6284-4671-91c1-2eccc0b3f77d',\n",
       "                        [{\"marker\": {\"color\": [\"seagreen\", \"seagreen\", \"seagreen\", \"seagreen\", \"seagreen\", \"seagreen\", \"seagreen\", \"seagreen\", \"seagreen\", \"seagreen\", \"seagreen\", \"seagreen\", \"seagreen\", \"seagreen\", \"seagreen\", \"seagreen\", \"seagreen\", \"seagreen\", \"seagreen\", \"seagreen\", \"seagreen\", \"seagreen\", \"seagreen\", \"seagreen\", \"seagreen\", \"seagreen\", \"seagreen\", \"seagreen\", \"seagreen\", \"seagreen\", \"seagreen\", \"seagreen\", \"seagreen\", \"seagreen\", \"seagreen\", \"seagreen\", \"seagreen\", \"seagreen\", \"seagreen\", \"seagreen\", \"seagreen\", \"seagreen\", \"seagreen\", \"seagreen\", \"seagreen\", \"seagreen\", \"seagreen\", \"seagreen\", \"seagreen\", \"seagreen\", \"seagreen\", \"seagreen\", \"seagreen\", \"seagreen\", \"seagreen\", \"seagreen\", \"seagreen\", \"seagreen\", \"seagreen\", \"seagreen\", \"seagreen\", \"seagreen\", \"seagreen\", \"seagreen\", \"seagreen\", \"seagreen\", \"seagreen\", \"seagreen\", \"seagreen\", \"seagreen\", \"seagreen\", \"seagreen\", \"seagreen\", \"seagreen\", \"seagreen\", \"seagreen\", \"seagreen\", \"seagreen\", \"seagreen\", \"seagreen\", \"seagreen\", \"seagreen\", \"seagreen\", \"seagreen\", \"seagreen\", \"seagreen\", \"seagreen\", \"seagreen\", \"seagreen\", \"seagreen\", \"seagreen\", \"seagreen\", \"seagreen\", \"seagreen\", \"seagreen\", \"seagreen\", \"seagreen\", \"seagreen\", \"seagreen\", \"seagreen\"], \"line\": {\"width\": 1.3}, \"size\": [58, 67, 82, 46, 80, 70, 69, 67, 50, 96, 49, 70, 74, 83, 34, 106, 71, 12, 53, 70, 72, 99, 76, 59, 62, 88, 83, 97, 55, 51, 69, 54, 89, 62, 51, 27, 35, 89, 73, 41, 48, 85, 28, 77, 85, 33, 87, 80, 93, 62, 92, 72, 38, 92, 79, 70, 93, 61, 47, 73, 94, 33, 55, 81, 69, 78, 66, 55, 78, 68, 42, 75, 111, 48, 52, 51, 46, 54, 51, 64, 39, 69, 69, 61, 62, 68, 57, 70, 78, 64, 87, 46, 63, 61, 82, 65, 58, 102, 73, 86], \"symbol\": \"circle\"}, \"mode\": \"markers\", \"text\": \"\", \"type\": \"scatter\", \"x\": [-0.7583625624564826, -1.3608135229511027, -0.4479688305343663, 0.25774244428547427, -1.6375797293120589, -1.0464472057363499, 1.407325001211225, 0.276515190255223, -0.07316231716756455, 2.379354983246018, 1.4416105167771618, -2.000675616366275, 0.599410615388733, -1.178157640116541, 0.8361646635083623, 1.4209061515389503, -1.3772200926778893, -1.5330137697628772, 0.8434488796566412, -0.44264142554813973, 0.7729395311461773, -1.186536053062794, 1.0672315844310665, -0.1786475895640133, -1.6899719904233519, 0.8146648919282323, -2.541055625678114, 0.8784841697785496, 0.32813550809478664, 1.3136723060501312, 0.5798422821158166, -0.15028112198881133, -0.39350857873322376, 1.8687332552959848, 1.4996776154237408, -2.5978587935254813, -0.08418728423004833, -1.7130754548765064, -0.34219415505953205, 1.2976144427300302, 0.7997008822259573, -1.9145673952331954, 0.32403830118956695, 0.9669468742916221, -0.3954521090418044, -0.5156640132664189, 0.6325874104204111, -0.7730210344534597, -1.0278926686068846, -0.8064923341963592, -0.5283860770954497, 0.05805052625083211, -0.5341935453073812, -0.6306038151611613, 0.19618964614138615, -0.567501753503357, 1.3116043337251144, 1.0625570541938478, 0.1630190918246739, -0.17520577021292585, -0.7448259321076729, -0.06589108782314983, 1.2263868994742944, 0.9973104846473738, -0.8586695931733282, 0.4007921932156928, 0.6476480167091756, 0.5806680435925301, 0.41667800079466144, 0.18080111431959658, -0.6549009506176735, -1.5624811820852393, -1.9034379481414605, 1.2036040733411644, 1.5416853504730623, 0.644723358337419, 0.5148614190703861, -1.9213061654349335, 0.35505322896128755, 0.8491838985035705, -1.0502790566937863, 0.013051058769516184, 1.6146659697158963, -1.0749070393039928, -0.6616722006760997, -0.3743145259476359, -2.4924831145939095, -0.16545246379299003, 2.1703012992627992, -1.2602863121320913, -0.7676530026819841, 0.0843467501757799, -0.2807271956647446, 0.4241491799250738, 1.2569983568147862, 0.33073957061440273, -0.21585240846311052, 1.4033361423654584, 0.12416679561973377, 0.45414894890427215], \"y\": [0.9051120349846424, 1.1315731612883049, 0.4889535391167449, -0.411827350510033, 1.7437582525448498, 0.8754875880381073, -1.612719409098891, 1.2673782176917372, 0.34610407515785685, -0.8734634626765565, 0.5080615811518349, 0.3786949114985083, 0.8549394182735643, -1.1727436261908517, 0.278079586528356, -2.086519140021561, 0.9558921986334105, -2.1412044407561335, 1.5908599450759613, -0.38037367059143695, -0.33823974441909016, 0.5148757793898513, 0.06431934032079333, -0.6192210839283654, 0.6364993369072576, 0.5238573577202742, 2.5123333500021423, -0.7385360908208347, 1.5357500979181817, 1.5724495278522659, 0.6633106187533743, 0.1913510422791749, -0.9852937680279761, 0.4866604508534319, -1.5691043539958625, -0.5457214474250892, -2.650467246676767, -0.4096399990779472, -0.44165613080647653, -1.6114045136155386, 0.3372243946613703, 0.09216459763101896, 0.4408702411197516, 1.026794643555709, -0.787067876624869, 0.274085340958029, 0.6432038230781414, 0.11625200510070811, -0.11400215542141642, 1.1678648365076898, 0.6381872954128966, -0.10906986258298167, 0.40314926362595793, -1.4061921229295076, -0.8949388605476665, -0.6797123989402232, 0.681267680316777, -1.5973585952033058, 0.9990493726980721, -0.9268111651857517, -0.7197683145996996, 0.18706094517469868, -1.1137685782674145, -0.8981843019223013, -0.008022352656607114, -0.46902423130002263, -1.0663496382780207, 1.2930554005359125, -0.12481695277229017, 0.8763289665253956, -0.15234775564968409, 0.7815603667800463, -0.3711497040527381, -0.735133518142438, 1.0719608777778922, -1.8110615652327744, -0.21451545478894662, -1.0000693418566864, -1.2492276001592144, -0.46780364099239063, 0.1472438174569735, 0.26416988245785844, 0.6659503106264842, 1.4700345976857954, 1.077675298771589, 1.1078248664225065, -0.7199081897875417, 0.6037307814365238, -1.2541232782328138, -0.4445705528975758, -0.5995953052364829, 0.8703773020736415, 1.240967816138145, -0.23458836833371494, 1.3626315874217745, -0.34003054967360213, 0.28031746369473, -0.6342169480234975, 0.6748537839853154, -1.3964778756962182]}],\n",
       "                        {\"legend\": {\"bgcolor\": \"#F5F6F9\", \"font\": {\"color\": \"#4D5663\"}}, \"paper_bgcolor\": \"#F5F6F9\", \"plot_bgcolor\": \"#F5F6F9\", \"template\": {\"data\": {\"bar\": [{\"error_x\": {\"color\": \"#2a3f5f\"}, \"error_y\": {\"color\": \"#2a3f5f\"}, \"marker\": {\"line\": {\"color\": \"#E5ECF6\", \"width\": 0.5}}, \"type\": \"bar\"}], \"barpolar\": [{\"marker\": {\"line\": {\"color\": \"#E5ECF6\", \"width\": 0.5}}, \"type\": \"barpolar\"}], \"carpet\": [{\"aaxis\": {\"endlinecolor\": \"#2a3f5f\", \"gridcolor\": \"white\", \"linecolor\": \"white\", \"minorgridcolor\": \"white\", \"startlinecolor\": \"#2a3f5f\"}, \"baxis\": {\"endlinecolor\": \"#2a3f5f\", \"gridcolor\": \"white\", \"linecolor\": \"white\", \"minorgridcolor\": \"white\", \"startlinecolor\": \"#2a3f5f\"}, \"type\": \"carpet\"}], \"choropleth\": [{\"colorbar\": {\"outlinewidth\": 0, \"ticks\": \"\"}, \"type\": \"choropleth\"}], \"contour\": [{\"colorbar\": {\"outlinewidth\": 0, \"ticks\": \"\"}, \"colorscale\": [[0.0, \"#0d0887\"], [0.1111111111111111, \"#46039f\"], [0.2222222222222222, \"#7201a8\"], [0.3333333333333333, \"#9c179e\"], [0.4444444444444444, \"#bd3786\"], [0.5555555555555556, \"#d8576b\"], [0.6666666666666666, \"#ed7953\"], [0.7777777777777778, \"#fb9f3a\"], [0.8888888888888888, \"#fdca26\"], [1.0, \"#f0f921\"]], \"type\": \"contour\"}], \"contourcarpet\": [{\"colorbar\": {\"outlinewidth\": 0, \"ticks\": \"\"}, \"type\": \"contourcarpet\"}], \"heatmap\": [{\"colorbar\": {\"outlinewidth\": 0, \"ticks\": \"\"}, \"colorscale\": [[0.0, \"#0d0887\"], [0.1111111111111111, \"#46039f\"], [0.2222222222222222, \"#7201a8\"], [0.3333333333333333, \"#9c179e\"], [0.4444444444444444, \"#bd3786\"], [0.5555555555555556, \"#d8576b\"], [0.6666666666666666, \"#ed7953\"], [0.7777777777777778, \"#fb9f3a\"], [0.8888888888888888, \"#fdca26\"], [1.0, \"#f0f921\"]], \"type\": \"heatmap\"}], \"heatmapgl\": [{\"colorbar\": {\"outlinewidth\": 0, \"ticks\": \"\"}, \"colorscale\": [[0.0, \"#0d0887\"], [0.1111111111111111, \"#46039f\"], [0.2222222222222222, \"#7201a8\"], [0.3333333333333333, \"#9c179e\"], [0.4444444444444444, \"#bd3786\"], [0.5555555555555556, \"#d8576b\"], [0.6666666666666666, \"#ed7953\"], [0.7777777777777778, \"#fb9f3a\"], [0.8888888888888888, \"#fdca26\"], [1.0, \"#f0f921\"]], \"type\": \"heatmapgl\"}], \"histogram\": [{\"marker\": {\"colorbar\": {\"outlinewidth\": 0, \"ticks\": \"\"}}, \"type\": \"histogram\"}], \"histogram2d\": [{\"colorbar\": {\"outlinewidth\": 0, \"ticks\": \"\"}, \"colorscale\": [[0.0, \"#0d0887\"], [0.1111111111111111, \"#46039f\"], [0.2222222222222222, \"#7201a8\"], [0.3333333333333333, \"#9c179e\"], [0.4444444444444444, \"#bd3786\"], [0.5555555555555556, \"#d8576b\"], [0.6666666666666666, \"#ed7953\"], [0.7777777777777778, \"#fb9f3a\"], [0.8888888888888888, \"#fdca26\"], [1.0, \"#f0f921\"]], \"type\": \"histogram2d\"}], \"histogram2dcontour\": [{\"colorbar\": {\"outlinewidth\": 0, \"ticks\": \"\"}, \"colorscale\": [[0.0, \"#0d0887\"], [0.1111111111111111, \"#46039f\"], [0.2222222222222222, \"#7201a8\"], [0.3333333333333333, \"#9c179e\"], [0.4444444444444444, \"#bd3786\"], [0.5555555555555556, \"#d8576b\"], [0.6666666666666666, \"#ed7953\"], [0.7777777777777778, \"#fb9f3a\"], [0.8888888888888888, \"#fdca26\"], [1.0, \"#f0f921\"]], \"type\": \"histogram2dcontour\"}], \"mesh3d\": [{\"colorbar\": {\"outlinewidth\": 0, \"ticks\": \"\"}, \"type\": \"mesh3d\"}], \"parcoords\": [{\"line\": {\"colorbar\": {\"outlinewidth\": 0, \"ticks\": \"\"}}, \"type\": \"parcoords\"}], \"pie\": [{\"automargin\": true, \"type\": \"pie\"}], \"scatter\": [{\"marker\": {\"colorbar\": {\"outlinewidth\": 0, \"ticks\": \"\"}}, \"type\": \"scatter\"}], \"scatter3d\": [{\"line\": {\"colorbar\": {\"outlinewidth\": 0, \"ticks\": \"\"}}, \"marker\": {\"colorbar\": {\"outlinewidth\": 0, \"ticks\": \"\"}}, \"type\": \"scatter3d\"}], \"scattercarpet\": [{\"marker\": {\"colorbar\": {\"outlinewidth\": 0, \"ticks\": \"\"}}, \"type\": \"scattercarpet\"}], \"scattergeo\": [{\"marker\": {\"colorbar\": {\"outlinewidth\": 0, \"ticks\": \"\"}}, \"type\": \"scattergeo\"}], \"scattergl\": [{\"marker\": {\"colorbar\": {\"outlinewidth\": 0, \"ticks\": \"\"}}, \"type\": \"scattergl\"}], \"scattermapbox\": [{\"marker\": {\"colorbar\": {\"outlinewidth\": 0, \"ticks\": \"\"}}, \"type\": \"scattermapbox\"}], \"scatterpolar\": [{\"marker\": {\"colorbar\": {\"outlinewidth\": 0, \"ticks\": \"\"}}, \"type\": \"scatterpolar\"}], \"scatterpolargl\": [{\"marker\": {\"colorbar\": {\"outlinewidth\": 0, \"ticks\": \"\"}}, \"type\": \"scatterpolargl\"}], \"scatterternary\": [{\"marker\": {\"colorbar\": {\"outlinewidth\": 0, \"ticks\": \"\"}}, \"type\": \"scatterternary\"}], \"surface\": [{\"colorbar\": {\"outlinewidth\": 0, \"ticks\": \"\"}, \"colorscale\": [[0.0, \"#0d0887\"], [0.1111111111111111, \"#46039f\"], [0.2222222222222222, \"#7201a8\"], [0.3333333333333333, \"#9c179e\"], [0.4444444444444444, \"#bd3786\"], [0.5555555555555556, \"#d8576b\"], [0.6666666666666666, \"#ed7953\"], [0.7777777777777778, \"#fb9f3a\"], [0.8888888888888888, \"#fdca26\"], [1.0, \"#f0f921\"]], \"type\": \"surface\"}], \"table\": [{\"cells\": {\"fill\": {\"color\": \"#EBF0F8\"}, \"line\": {\"color\": \"white\"}}, \"header\": {\"fill\": {\"color\": \"#C8D4E3\"}, \"line\": {\"color\": \"white\"}}, \"type\": \"table\"}]}, \"layout\": {\"annotationdefaults\": {\"arrowcolor\": \"#2a3f5f\", \"arrowhead\": 0, \"arrowwidth\": 1}, \"coloraxis\": {\"colorbar\": {\"outlinewidth\": 0, \"ticks\": \"\"}}, \"colorscale\": {\"diverging\": [[0, \"#8e0152\"], [0.1, \"#c51b7d\"], [0.2, \"#de77ae\"], [0.3, \"#f1b6da\"], [0.4, \"#fde0ef\"], [0.5, \"#f7f7f7\"], [0.6, \"#e6f5d0\"], [0.7, \"#b8e186\"], [0.8, \"#7fbc41\"], [0.9, \"#4d9221\"], [1, \"#276419\"]], \"sequential\": [[0.0, \"#0d0887\"], [0.1111111111111111, \"#46039f\"], [0.2222222222222222, \"#7201a8\"], [0.3333333333333333, \"#9c179e\"], [0.4444444444444444, \"#bd3786\"], [0.5555555555555556, \"#d8576b\"], [0.6666666666666666, \"#ed7953\"], [0.7777777777777778, \"#fb9f3a\"], [0.8888888888888888, \"#fdca26\"], [1.0, \"#f0f921\"]], \"sequentialminus\": [[0.0, \"#0d0887\"], [0.1111111111111111, \"#46039f\"], [0.2222222222222222, \"#7201a8\"], [0.3333333333333333, \"#9c179e\"], [0.4444444444444444, \"#bd3786\"], [0.5555555555555556, \"#d8576b\"], [0.6666666666666666, \"#ed7953\"], [0.7777777777777778, \"#fb9f3a\"], [0.8888888888888888, \"#fdca26\"], [1.0, \"#f0f921\"]]}, \"colorway\": [\"#636efa\", \"#EF553B\", \"#00cc96\", \"#ab63fa\", \"#FFA15A\", \"#19d3f3\", \"#FF6692\", \"#B6E880\", \"#FF97FF\", \"#FECB52\"], \"font\": {\"color\": \"#2a3f5f\"}, \"geo\": {\"bgcolor\": \"white\", \"lakecolor\": \"white\", \"landcolor\": \"#E5ECF6\", \"showlakes\": true, \"showland\": true, \"subunitcolor\": \"white\"}, \"hoverlabel\": {\"align\": \"left\"}, \"hovermode\": \"closest\", \"mapbox\": {\"style\": \"light\"}, \"paper_bgcolor\": \"white\", \"plot_bgcolor\": \"#E5ECF6\", \"polar\": {\"angularaxis\": {\"gridcolor\": \"white\", \"linecolor\": \"white\", \"ticks\": \"\"}, \"bgcolor\": \"#E5ECF6\", \"radialaxis\": {\"gridcolor\": \"white\", \"linecolor\": \"white\", \"ticks\": \"\"}}, \"scene\": {\"xaxis\": {\"backgroundcolor\": \"#E5ECF6\", \"gridcolor\": \"white\", \"gridwidth\": 2, \"linecolor\": \"white\", \"showbackground\": true, \"ticks\": \"\", \"zerolinecolor\": \"white\"}, \"yaxis\": {\"backgroundcolor\": \"#E5ECF6\", \"gridcolor\": \"white\", \"gridwidth\": 2, \"linecolor\": \"white\", \"showbackground\": true, \"ticks\": \"\", \"zerolinecolor\": \"white\"}, \"zaxis\": {\"backgroundcolor\": \"#E5ECF6\", \"gridcolor\": \"white\", \"gridwidth\": 2, \"linecolor\": \"white\", \"showbackground\": true, \"ticks\": \"\", \"zerolinecolor\": \"white\"}}, \"shapedefaults\": {\"line\": {\"color\": \"#2a3f5f\"}}, \"ternary\": {\"aaxis\": {\"gridcolor\": \"white\", \"linecolor\": \"white\", \"ticks\": \"\"}, \"baxis\": {\"gridcolor\": \"white\", \"linecolor\": \"white\", \"ticks\": \"\"}, \"bgcolor\": \"#E5ECF6\", \"caxis\": {\"gridcolor\": \"white\", \"linecolor\": \"white\", \"ticks\": \"\"}}, \"title\": {\"x\": 0.05}, \"xaxis\": {\"automargin\": true, \"gridcolor\": \"white\", \"linecolor\": \"white\", \"ticks\": \"\", \"title\": {\"standoff\": 15}, \"zerolinecolor\": \"white\", \"zerolinewidth\": 2}, \"yaxis\": {\"automargin\": true, \"gridcolor\": \"white\", \"linecolor\": \"white\", \"ticks\": \"\", \"title\": {\"standoff\": 15}, \"zerolinecolor\": \"white\", \"zerolinewidth\": 2}}}, \"title\": {\"font\": {\"color\": \"#4D5663\"}}, \"xaxis\": {\"gridcolor\": \"#E1E5ED\", \"showgrid\": true, \"tickfont\": {\"color\": \"#4D5663\"}, \"title\": {\"font\": {\"color\": \"#4D5663\"}, \"text\": \"\"}, \"zerolinecolor\": \"#E1E5ED\"}, \"yaxis\": {\"gridcolor\": \"#E1E5ED\", \"showgrid\": true, \"tickfont\": {\"color\": \"#4D5663\"}, \"title\": {\"font\": {\"color\": \"#4D5663\"}, \"text\": \"\"}, \"zerolinecolor\": \"#E1E5ED\"}},\n",
       "                        {\"showLink\": true, \"linkText\": \"Export to plot.ly\", \"plotlyServerURL\": \"https://plot.ly\", \"responsive\": true}\n",
       "                    ).then(function(){\n",
       "                            \n",
       "var gd = document.getElementById('603a67d5-6284-4671-91c1-2eccc0b3f77d');\n",
       "var x = new MutationObserver(function (mutations, observer) {{\n",
       "        var display = window.getComputedStyle(gd).display;\n",
       "        if (!display || display === 'none') {{\n",
       "            console.log([gd, 'removed!']);\n",
       "            Plotly.purge(gd);\n",
       "            observer.disconnect();\n",
       "        }}\n",
       "}});\n",
       "\n",
       "// Listen for the removal of the full notebook cells\n",
       "var notebookContainer = gd.closest('#notebook-container');\n",
       "if (notebookContainer) {{\n",
       "    x.observe(notebookContainer, {childList: true});\n",
       "}}\n",
       "\n",
       "// Listen for the clearing of the current output cell\n",
       "var outputEl = gd.closest('.output');\n",
       "if (outputEl) {{\n",
       "    x.observe(outputEl, {childList: true});\n",
       "}}\n",
       "\n",
       "                        })\n",
       "                };\n",
       "                });\n",
       "            </script>\n",
       "        </div>"
      ]
     },
     "metadata": {},
     "output_type": "display_data"
    }
   ],
   "source": [
    "df.iplot(kind='bubble', x='A',y='B', size='C', colors='seagreen')"
   ]
  },
  {
   "cell_type": "markdown",
   "metadata": {
    "colab_type": "text",
    "id": "m0vaHtqyiSs9"
   },
   "source": [
    "**Scatter Matrix**"
   ]
  },
  {
   "cell_type": "markdown",
   "metadata": {
    "colab_type": "text",
    "id": "q_8zaoSCiSs-"
   },
   "source": [
    "- `Similar ao pairplot do Seaborn`\n",
    "-  `Se o dataframe for muito grande pode travar o seu notebook`"
   ]
  },
  {
   "cell_type": "code",
   "execution_count": 16,
   "metadata": {
    "colab": {},
    "colab_type": "code",
    "id": "p_zE1p4QiSs_",
    "outputId": "bc31bde5-1acb-42de-9719-e756c08b780e"
   },
   "outputs": [
    {
     "data": {
      "application/vnd.plotly.v1+json": {
       "config": {
        "linkText": "Export to plot.ly",
        "plotlyServerURL": "https://plot.ly",
        "showLink": true
       },
       "data": [
        {
         "histfunc": "count",
         "histnorm": "",
         "marker": {
          "color": "rgba(255, 153, 51, 1.0)",
          "line": {
           "color": "#4D5663",
           "width": 1.3
          }
         },
         "name": "A",
         "nbinsx": 10,
         "opacity": 0.8,
         "orientation": "v",
         "type": "histogram",
         "x": [
          -0.7583625624564826,
          -1.3608135229511027,
          -0.4479688305343663,
          0.25774244428547427,
          -1.6375797293120589,
          -1.0464472057363499,
          1.407325001211225,
          0.276515190255223,
          -0.07316231716756455,
          2.379354983246018,
          1.4416105167771618,
          -2.000675616366275,
          0.599410615388733,
          -1.178157640116541,
          0.8361646635083623,
          1.4209061515389503,
          -1.3772200926778893,
          -1.5330137697628772,
          0.8434488796566412,
          -0.44264142554813973,
          0.7729395311461773,
          -1.186536053062794,
          1.0672315844310665,
          -0.1786475895640133,
          -1.6899719904233519,
          0.8146648919282323,
          -2.541055625678114,
          0.8784841697785496,
          0.32813550809478664,
          1.3136723060501312,
          0.5798422821158166,
          -0.15028112198881133,
          -0.39350857873322376,
          1.8687332552959848,
          1.4996776154237408,
          -2.5978587935254813,
          -0.08418728423004833,
          -1.7130754548765064,
          -0.34219415505953205,
          1.2976144427300302,
          0.7997008822259573,
          -1.9145673952331954,
          0.32403830118956695,
          0.9669468742916221,
          -0.3954521090418044,
          -0.5156640132664189,
          0.6325874104204111,
          -0.7730210344534597,
          -1.0278926686068846,
          -0.8064923341963592,
          -0.5283860770954497,
          0.05805052625083211,
          -0.5341935453073812,
          -0.6306038151611613,
          0.19618964614138615,
          -0.567501753503357,
          1.3116043337251144,
          1.0625570541938478,
          0.1630190918246739,
          -0.17520577021292585,
          -0.7448259321076729,
          -0.06589108782314983,
          1.2263868994742944,
          0.9973104846473738,
          -0.8586695931733282,
          0.4007921932156928,
          0.6476480167091756,
          0.5806680435925301,
          0.41667800079466144,
          0.18080111431959658,
          -0.6549009506176735,
          -1.5624811820852393,
          -1.9034379481414605,
          1.2036040733411644,
          1.5416853504730623,
          0.644723358337419,
          0.5148614190703861,
          -1.9213061654349335,
          0.35505322896128755,
          0.8491838985035705,
          -1.0502790566937863,
          0.013051058769516184,
          1.6146659697158963,
          -1.0749070393039928,
          -0.6616722006760997,
          -0.3743145259476359,
          -2.4924831145939095,
          -0.16545246379299003,
          2.1703012992627992,
          -1.2602863121320913,
          -0.7676530026819841,
          0.0843467501757799,
          -0.2807271956647446,
          0.4241491799250738,
          1.2569983568147862,
          0.33073957061440273,
          -0.21585240846311052,
          1.4033361423654584,
          0.12416679561973377,
          0.45414894890427215
         ],
         "xaxis": "x",
         "yaxis": "y"
        },
        {
         "line": {
          "color": "rgba(128, 128, 128, 1.0)",
          "dash": "solid",
          "shape": "linear",
          "width": 1.3
         },
         "marker": {
          "size": 2,
          "symbol": "circle"
         },
         "mode": "markers",
         "name": "A",
         "text": "",
         "type": "scatter",
         "x": [
          0.9051120349846424,
          1.1315731612883049,
          0.4889535391167449,
          -0.411827350510033,
          1.7437582525448498,
          0.8754875880381073,
          -1.612719409098891,
          1.2673782176917372,
          0.34610407515785685,
          -0.8734634626765565,
          0.5080615811518349,
          0.3786949114985083,
          0.8549394182735643,
          -1.1727436261908517,
          0.278079586528356,
          -2.086519140021561,
          0.9558921986334105,
          -2.1412044407561335,
          1.5908599450759613,
          -0.38037367059143695,
          -0.33823974441909016,
          0.5148757793898513,
          0.06431934032079333,
          -0.6192210839283654,
          0.6364993369072576,
          0.5238573577202742,
          2.5123333500021423,
          -0.7385360908208347,
          1.5357500979181817,
          1.5724495278522659,
          0.6633106187533743,
          0.1913510422791749,
          -0.9852937680279761,
          0.4866604508534319,
          -1.5691043539958625,
          -0.5457214474250892,
          -2.650467246676767,
          -0.4096399990779472,
          -0.44165613080647653,
          -1.6114045136155386,
          0.3372243946613703,
          0.09216459763101896,
          0.4408702411197516,
          1.026794643555709,
          -0.787067876624869,
          0.274085340958029,
          0.6432038230781414,
          0.11625200510070811,
          -0.11400215542141642,
          1.1678648365076898,
          0.6381872954128966,
          -0.10906986258298167,
          0.40314926362595793,
          -1.4061921229295076,
          -0.8949388605476665,
          -0.6797123989402232,
          0.681267680316777,
          -1.5973585952033058,
          0.9990493726980721,
          -0.9268111651857517,
          -0.7197683145996996,
          0.18706094517469868,
          -1.1137685782674145,
          -0.8981843019223013,
          -0.008022352656607114,
          -0.46902423130002263,
          -1.0663496382780207,
          1.2930554005359125,
          -0.12481695277229017,
          0.8763289665253956,
          -0.15234775564968409,
          0.7815603667800463,
          -0.3711497040527381,
          -0.735133518142438,
          1.0719608777778922,
          -1.8110615652327744,
          -0.21451545478894662,
          -1.0000693418566864,
          -1.2492276001592144,
          -0.46780364099239063,
          0.1472438174569735,
          0.26416988245785844,
          0.6659503106264842,
          1.4700345976857954,
          1.077675298771589,
          1.1078248664225065,
          -0.7199081897875417,
          0.6037307814365238,
          -1.2541232782328138,
          -0.4445705528975758,
          -0.5995953052364829,
          0.8703773020736415,
          1.240967816138145,
          -0.23458836833371494,
          1.3626315874217745,
          -0.34003054967360213,
          0.28031746369473,
          -0.6342169480234975,
          0.6748537839853154,
          -1.3964778756962182
         ],
         "xaxis": "x2",
         "y": [
          -0.7583625624564826,
          -1.3608135229511027,
          -0.4479688305343663,
          0.25774244428547427,
          -1.6375797293120589,
          -1.0464472057363499,
          1.407325001211225,
          0.276515190255223,
          -0.07316231716756455,
          2.379354983246018,
          1.4416105167771618,
          -2.000675616366275,
          0.599410615388733,
          -1.178157640116541,
          0.8361646635083623,
          1.4209061515389503,
          -1.3772200926778893,
          -1.5330137697628772,
          0.8434488796566412,
          -0.44264142554813973,
          0.7729395311461773,
          -1.186536053062794,
          1.0672315844310665,
          -0.1786475895640133,
          -1.6899719904233519,
          0.8146648919282323,
          -2.541055625678114,
          0.8784841697785496,
          0.32813550809478664,
          1.3136723060501312,
          0.5798422821158166,
          -0.15028112198881133,
          -0.39350857873322376,
          1.8687332552959848,
          1.4996776154237408,
          -2.5978587935254813,
          -0.08418728423004833,
          -1.7130754548765064,
          -0.34219415505953205,
          1.2976144427300302,
          0.7997008822259573,
          -1.9145673952331954,
          0.32403830118956695,
          0.9669468742916221,
          -0.3954521090418044,
          -0.5156640132664189,
          0.6325874104204111,
          -0.7730210344534597,
          -1.0278926686068846,
          -0.8064923341963592,
          -0.5283860770954497,
          0.05805052625083211,
          -0.5341935453073812,
          -0.6306038151611613,
          0.19618964614138615,
          -0.567501753503357,
          1.3116043337251144,
          1.0625570541938478,
          0.1630190918246739,
          -0.17520577021292585,
          -0.7448259321076729,
          -0.06589108782314983,
          1.2263868994742944,
          0.9973104846473738,
          -0.8586695931733282,
          0.4007921932156928,
          0.6476480167091756,
          0.5806680435925301,
          0.41667800079466144,
          0.18080111431959658,
          -0.6549009506176735,
          -1.5624811820852393,
          -1.9034379481414605,
          1.2036040733411644,
          1.5416853504730623,
          0.644723358337419,
          0.5148614190703861,
          -1.9213061654349335,
          0.35505322896128755,
          0.8491838985035705,
          -1.0502790566937863,
          0.013051058769516184,
          1.6146659697158963,
          -1.0749070393039928,
          -0.6616722006760997,
          -0.3743145259476359,
          -2.4924831145939095,
          -0.16545246379299003,
          2.1703012992627992,
          -1.2602863121320913,
          -0.7676530026819841,
          0.0843467501757799,
          -0.2807271956647446,
          0.4241491799250738,
          1.2569983568147862,
          0.33073957061440273,
          -0.21585240846311052,
          1.4033361423654584,
          0.12416679561973377,
          0.45414894890427215
         ],
         "yaxis": "y2"
        },
        {
         "line": {
          "color": "rgba(128, 128, 128, 1.0)",
          "dash": "solid",
          "shape": "linear",
          "width": 1.3
         },
         "marker": {
          "size": 2,
          "symbol": "circle"
         },
         "mode": "markers",
         "name": "A",
         "text": "",
         "type": "scatter",
         "x": [
          -0.444678500480317,
          0.0933498848400473,
          0.9355087974997555,
          -1.106441630487202,
          0.7870975629687152,
          0.21808060888783593,
          0.19245161375740785,
          0.058978349501044657,
          -0.8714541206370889,
          1.6723359190038503,
          -0.9521959925693669,
          0.25982368775406417,
          0.4329967486845554,
          0.9585187647681762,
          -1.79933573560346,
          2.2571466440543344,
          0.27242090370105326,
          -3.041426982646799,
          -0.7379674589948564,
          0.21321722437944604,
          0.3744406483158536,
          1.8794147199102167,
          0.5865594775587016,
          -0.3723330026710341,
          -0.21256708491681514,
          1.2175066431034185,
          0.9503232313646496,
          1.7526010217049393,
          -0.6255769714716065,
          -0.8150989477464166,
          0.1900069841307442,
          -0.6573140026719146,
          1.3123490852146837,
          -0.20521456260004223,
          -0.8280753332366754,
          -2.1789891770225105,
          -1.7227530897526353,
          1.2860266607255277,
          0.417423466170257,
          -1.408581550401666,
          -1.0147418694696868,
          1.0617865770644983,
          -2.1357693694007693,
          0.6316085302784928,
          1.0548351609959814,
          -1.821383374322361,
          1.1794682397233458,
          0.7800559142128144,
          1.5175952940754551,
          -0.20063016325093158,
          1.469109182383053,
          0.33064590666961946,
          -1.5329746111023028,
          1.4876464359770907,
          0.7368765553019965,
          0.2556196982451411,
          1.496074295060987,
          -0.25594776352614945,
          -1.0302066787914688,
          0.3771702792035409,
          1.5954550568745687,
          -1.8239541572520326,
          -0.6292071703871251,
          0.8569283151606543,
          0.19021096842866161,
          0.6607647699069801,
          -0.0016000980015075767,
          -0.6033609765671395,
          0.6926557249524916,
          0.13880646341418457,
          -1.3362928951925246,
          0.5040296861060063,
          2.5601117800980524,
          -0.983051918444861,
          -0.7450095718104365,
          -0.8245934015034929,
          -1.1246483229871902,
          -0.6547441335375387,
          -0.8088996560125555,
          -0.0966860051066942,
          -1.4863921450232944,
          0.18967390658638197,
          0.15908685829749233,
          -0.2691504733360306,
          -0.18560225336486053,
          0.1001975328112677,
          -0.4706507089738137,
          0.2368759547272725,
          0.6644170545061568,
          -0.11309520573149913,
          1.1829406966617049,
          -1.0833015314373051,
          -0.15088069839314402,
          -0.2652424034024619,
          0.8990779222502281,
          -0.030734197118241203,
          -0.46028230155709343,
          2.0393872169244824,
          0.3883702636590222,
          1.133687274935083
         ],
         "xaxis": "x3",
         "y": [
          -0.7583625624564826,
          -1.3608135229511027,
          -0.4479688305343663,
          0.25774244428547427,
          -1.6375797293120589,
          -1.0464472057363499,
          1.407325001211225,
          0.276515190255223,
          -0.07316231716756455,
          2.379354983246018,
          1.4416105167771618,
          -2.000675616366275,
          0.599410615388733,
          -1.178157640116541,
          0.8361646635083623,
          1.4209061515389503,
          -1.3772200926778893,
          -1.5330137697628772,
          0.8434488796566412,
          -0.44264142554813973,
          0.7729395311461773,
          -1.186536053062794,
          1.0672315844310665,
          -0.1786475895640133,
          -1.6899719904233519,
          0.8146648919282323,
          -2.541055625678114,
          0.8784841697785496,
          0.32813550809478664,
          1.3136723060501312,
          0.5798422821158166,
          -0.15028112198881133,
          -0.39350857873322376,
          1.8687332552959848,
          1.4996776154237408,
          -2.5978587935254813,
          -0.08418728423004833,
          -1.7130754548765064,
          -0.34219415505953205,
          1.2976144427300302,
          0.7997008822259573,
          -1.9145673952331954,
          0.32403830118956695,
          0.9669468742916221,
          -0.3954521090418044,
          -0.5156640132664189,
          0.6325874104204111,
          -0.7730210344534597,
          -1.0278926686068846,
          -0.8064923341963592,
          -0.5283860770954497,
          0.05805052625083211,
          -0.5341935453073812,
          -0.6306038151611613,
          0.19618964614138615,
          -0.567501753503357,
          1.3116043337251144,
          1.0625570541938478,
          0.1630190918246739,
          -0.17520577021292585,
          -0.7448259321076729,
          -0.06589108782314983,
          1.2263868994742944,
          0.9973104846473738,
          -0.8586695931733282,
          0.4007921932156928,
          0.6476480167091756,
          0.5806680435925301,
          0.41667800079466144,
          0.18080111431959658,
          -0.6549009506176735,
          -1.5624811820852393,
          -1.9034379481414605,
          1.2036040733411644,
          1.5416853504730623,
          0.644723358337419,
          0.5148614190703861,
          -1.9213061654349335,
          0.35505322896128755,
          0.8491838985035705,
          -1.0502790566937863,
          0.013051058769516184,
          1.6146659697158963,
          -1.0749070393039928,
          -0.6616722006760997,
          -0.3743145259476359,
          -2.4924831145939095,
          -0.16545246379299003,
          2.1703012992627992,
          -1.2602863121320913,
          -0.7676530026819841,
          0.0843467501757799,
          -0.2807271956647446,
          0.4241491799250738,
          1.2569983568147862,
          0.33073957061440273,
          -0.21585240846311052,
          1.4033361423654584,
          0.12416679561973377,
          0.45414894890427215
         ],
         "yaxis": "y3"
        },
        {
         "line": {
          "color": "rgba(128, 128, 128, 1.0)",
          "dash": "solid",
          "shape": "linear",
          "width": 1.3
         },
         "marker": {
          "size": 2,
          "symbol": "circle"
         },
         "mode": "markers",
         "name": "A",
         "text": "",
         "type": "scatter",
         "x": [
          -0.14243188168373888,
          -1.0729907558568355,
          0.44733250377667716,
          -1.1897147775895982,
          1.092741516710888,
          -0.06091528550317952,
          0.10743674606032749,
          0.9042940695647604,
          0.5303819578975205,
          1.9992339800473369,
          0.6456010371124833,
          -0.7962804132728767,
          -0.5815192392519256,
          0.2597767876385269,
          -2.459883288053741,
          -0.4082992590619642,
          0.39686139282285504,
          -0.10328064655423272,
          -1.1573545857701342,
          -1.7466222324347853,
          -1.6081787740748272,
          0.042610628533974994,
          1.7131089103702466,
          -0.33970182084475636,
          -0.9583274897717958,
          0.8309717943957573,
          -1.8513065553096661,
          -0.43667935832435667,
          -1.3202801094129164,
          0.19412359694222966,
          0.3863753886878289,
          2.262504342957885,
          -1.1789996565844338,
          0.8610049877785335,
          0.35020646357557556,
          -0.4526706099620868,
          -1.4208827518870466,
          -2.0336415880196306,
          -0.6028790992919976,
          -0.6667505056960525,
          1.034085965991731,
          1.6862381136516247,
          0.9671590675760109,
          0.4687702824218409,
          -0.11354411524057219,
          1.7598471377692582,
          -0.3133961636622412,
          0.7968082245207883,
          -0.8123852383043507,
          -0.1815538188028146,
          -1.2010576577637924,
          0.623379003526806,
          -0.2905917132234972,
          1.0907162251266591,
          -0.943052216702706,
          -0.6358961634386422,
          0.8238944357128126,
          -1.6910025282864853,
          -0.5360314141734744,
          -0.2858234600755065,
          0.11739560318332833,
          1.3392357088416103,
          -0.12730657094197811,
          -0.355344981254377,
          -0.7888413181153048,
          0.010846103051945897,
          2.4643060780738653,
          0.2688894084296869,
          -0.6761623948082517,
          -0.46228423544452435,
          -0.06823119920909179,
          0.5507682072831712,
          -1.4092521832676117,
          0.11165070595437765,
          1.0816741381089106,
          0.00012294423731891224,
          1.6864532375657582,
          -0.21634623521220717,
          1.4069369181982865,
          0.14000154269529902,
          -1.056975185245624,
          -1.454774926494647,
          0.8077501687969396,
          -0.6826502496255977,
          0.6344953632035505,
          -0.15940212485395602,
          1.3448374706334436,
          0.5273274117487469,
          -0.5514095718479104,
          0.3176860475959556,
          -0.0325566071623441,
          -0.0673720916980821,
          0.9991691910935454,
          0.4772946025924812,
          0.9458312063212977,
          -1.1631663106908554,
          1.0876781943861205,
          -0.5592269267673681,
          -0.4905467928214895,
          -0.43363935487996075
         ],
         "xaxis": "x4",
         "y": [
          -0.7583625624564826,
          -1.3608135229511027,
          -0.4479688305343663,
          0.25774244428547427,
          -1.6375797293120589,
          -1.0464472057363499,
          1.407325001211225,
          0.276515190255223,
          -0.07316231716756455,
          2.379354983246018,
          1.4416105167771618,
          -2.000675616366275,
          0.599410615388733,
          -1.178157640116541,
          0.8361646635083623,
          1.4209061515389503,
          -1.3772200926778893,
          -1.5330137697628772,
          0.8434488796566412,
          -0.44264142554813973,
          0.7729395311461773,
          -1.186536053062794,
          1.0672315844310665,
          -0.1786475895640133,
          -1.6899719904233519,
          0.8146648919282323,
          -2.541055625678114,
          0.8784841697785496,
          0.32813550809478664,
          1.3136723060501312,
          0.5798422821158166,
          -0.15028112198881133,
          -0.39350857873322376,
          1.8687332552959848,
          1.4996776154237408,
          -2.5978587935254813,
          -0.08418728423004833,
          -1.7130754548765064,
          -0.34219415505953205,
          1.2976144427300302,
          0.7997008822259573,
          -1.9145673952331954,
          0.32403830118956695,
          0.9669468742916221,
          -0.3954521090418044,
          -0.5156640132664189,
          0.6325874104204111,
          -0.7730210344534597,
          -1.0278926686068846,
          -0.8064923341963592,
          -0.5283860770954497,
          0.05805052625083211,
          -0.5341935453073812,
          -0.6306038151611613,
          0.19618964614138615,
          -0.567501753503357,
          1.3116043337251144,
          1.0625570541938478,
          0.1630190918246739,
          -0.17520577021292585,
          -0.7448259321076729,
          -0.06589108782314983,
          1.2263868994742944,
          0.9973104846473738,
          -0.8586695931733282,
          0.4007921932156928,
          0.6476480167091756,
          0.5806680435925301,
          0.41667800079466144,
          0.18080111431959658,
          -0.6549009506176735,
          -1.5624811820852393,
          -1.9034379481414605,
          1.2036040733411644,
          1.5416853504730623,
          0.644723358337419,
          0.5148614190703861,
          -1.9213061654349335,
          0.35505322896128755,
          0.8491838985035705,
          -1.0502790566937863,
          0.013051058769516184,
          1.6146659697158963,
          -1.0749070393039928,
          -0.6616722006760997,
          -0.3743145259476359,
          -2.4924831145939095,
          -0.16545246379299003,
          2.1703012992627992,
          -1.2602863121320913,
          -0.7676530026819841,
          0.0843467501757799,
          -0.2807271956647446,
          0.4241491799250738,
          1.2569983568147862,
          0.33073957061440273,
          -0.21585240846311052,
          1.4033361423654584,
          0.12416679561973377,
          0.45414894890427215
         ],
         "yaxis": "y4"
        },
        {
         "line": {
          "color": "rgba(128, 128, 128, 1.0)",
          "dash": "solid",
          "shape": "linear",
          "width": 1.3
         },
         "marker": {
          "size": 2,
          "symbol": "circle"
         },
         "mode": "markers",
         "name": "B",
         "text": "",
         "type": "scatter",
         "x": [
          -0.7583625624564826,
          -1.3608135229511027,
          -0.4479688305343663,
          0.25774244428547427,
          -1.6375797293120589,
          -1.0464472057363499,
          1.407325001211225,
          0.276515190255223,
          -0.07316231716756455,
          2.379354983246018,
          1.4416105167771618,
          -2.000675616366275,
          0.599410615388733,
          -1.178157640116541,
          0.8361646635083623,
          1.4209061515389503,
          -1.3772200926778893,
          -1.5330137697628772,
          0.8434488796566412,
          -0.44264142554813973,
          0.7729395311461773,
          -1.186536053062794,
          1.0672315844310665,
          -0.1786475895640133,
          -1.6899719904233519,
          0.8146648919282323,
          -2.541055625678114,
          0.8784841697785496,
          0.32813550809478664,
          1.3136723060501312,
          0.5798422821158166,
          -0.15028112198881133,
          -0.39350857873322376,
          1.8687332552959848,
          1.4996776154237408,
          -2.5978587935254813,
          -0.08418728423004833,
          -1.7130754548765064,
          -0.34219415505953205,
          1.2976144427300302,
          0.7997008822259573,
          -1.9145673952331954,
          0.32403830118956695,
          0.9669468742916221,
          -0.3954521090418044,
          -0.5156640132664189,
          0.6325874104204111,
          -0.7730210344534597,
          -1.0278926686068846,
          -0.8064923341963592,
          -0.5283860770954497,
          0.05805052625083211,
          -0.5341935453073812,
          -0.6306038151611613,
          0.19618964614138615,
          -0.567501753503357,
          1.3116043337251144,
          1.0625570541938478,
          0.1630190918246739,
          -0.17520577021292585,
          -0.7448259321076729,
          -0.06589108782314983,
          1.2263868994742944,
          0.9973104846473738,
          -0.8586695931733282,
          0.4007921932156928,
          0.6476480167091756,
          0.5806680435925301,
          0.41667800079466144,
          0.18080111431959658,
          -0.6549009506176735,
          -1.5624811820852393,
          -1.9034379481414605,
          1.2036040733411644,
          1.5416853504730623,
          0.644723358337419,
          0.5148614190703861,
          -1.9213061654349335,
          0.35505322896128755,
          0.8491838985035705,
          -1.0502790566937863,
          0.013051058769516184,
          1.6146659697158963,
          -1.0749070393039928,
          -0.6616722006760997,
          -0.3743145259476359,
          -2.4924831145939095,
          -0.16545246379299003,
          2.1703012992627992,
          -1.2602863121320913,
          -0.7676530026819841,
          0.0843467501757799,
          -0.2807271956647446,
          0.4241491799250738,
          1.2569983568147862,
          0.33073957061440273,
          -0.21585240846311052,
          1.4033361423654584,
          0.12416679561973377,
          0.45414894890427215
         ],
         "xaxis": "x5",
         "y": [
          0.9051120349846424,
          1.1315731612883049,
          0.4889535391167449,
          -0.411827350510033,
          1.7437582525448498,
          0.8754875880381073,
          -1.612719409098891,
          1.2673782176917372,
          0.34610407515785685,
          -0.8734634626765565,
          0.5080615811518349,
          0.3786949114985083,
          0.8549394182735643,
          -1.1727436261908517,
          0.278079586528356,
          -2.086519140021561,
          0.9558921986334105,
          -2.1412044407561335,
          1.5908599450759613,
          -0.38037367059143695,
          -0.33823974441909016,
          0.5148757793898513,
          0.06431934032079333,
          -0.6192210839283654,
          0.6364993369072576,
          0.5238573577202742,
          2.5123333500021423,
          -0.7385360908208347,
          1.5357500979181817,
          1.5724495278522659,
          0.6633106187533743,
          0.1913510422791749,
          -0.9852937680279761,
          0.4866604508534319,
          -1.5691043539958625,
          -0.5457214474250892,
          -2.650467246676767,
          -0.4096399990779472,
          -0.44165613080647653,
          -1.6114045136155386,
          0.3372243946613703,
          0.09216459763101896,
          0.4408702411197516,
          1.026794643555709,
          -0.787067876624869,
          0.274085340958029,
          0.6432038230781414,
          0.11625200510070811,
          -0.11400215542141642,
          1.1678648365076898,
          0.6381872954128966,
          -0.10906986258298167,
          0.40314926362595793,
          -1.4061921229295076,
          -0.8949388605476665,
          -0.6797123989402232,
          0.681267680316777,
          -1.5973585952033058,
          0.9990493726980721,
          -0.9268111651857517,
          -0.7197683145996996,
          0.18706094517469868,
          -1.1137685782674145,
          -0.8981843019223013,
          -0.008022352656607114,
          -0.46902423130002263,
          -1.0663496382780207,
          1.2930554005359125,
          -0.12481695277229017,
          0.8763289665253956,
          -0.15234775564968409,
          0.7815603667800463,
          -0.3711497040527381,
          -0.735133518142438,
          1.0719608777778922,
          -1.8110615652327744,
          -0.21451545478894662,
          -1.0000693418566864,
          -1.2492276001592144,
          -0.46780364099239063,
          0.1472438174569735,
          0.26416988245785844,
          0.6659503106264842,
          1.4700345976857954,
          1.077675298771589,
          1.1078248664225065,
          -0.7199081897875417,
          0.6037307814365238,
          -1.2541232782328138,
          -0.4445705528975758,
          -0.5995953052364829,
          0.8703773020736415,
          1.240967816138145,
          -0.23458836833371494,
          1.3626315874217745,
          -0.34003054967360213,
          0.28031746369473,
          -0.6342169480234975,
          0.6748537839853154,
          -1.3964778756962182
         ],
         "yaxis": "y5"
        },
        {
         "histfunc": "count",
         "histnorm": "",
         "marker": {
          "color": "rgba(55, 128, 191, 1.0)",
          "line": {
           "color": "#4D5663",
           "width": 1.3
          }
         },
         "name": "B",
         "nbinsx": 10,
         "opacity": 0.8,
         "orientation": "v",
         "type": "histogram",
         "x": [
          0.9051120349846424,
          1.1315731612883049,
          0.4889535391167449,
          -0.411827350510033,
          1.7437582525448498,
          0.8754875880381073,
          -1.612719409098891,
          1.2673782176917372,
          0.34610407515785685,
          -0.8734634626765565,
          0.5080615811518349,
          0.3786949114985083,
          0.8549394182735643,
          -1.1727436261908517,
          0.278079586528356,
          -2.086519140021561,
          0.9558921986334105,
          -2.1412044407561335,
          1.5908599450759613,
          -0.38037367059143695,
          -0.33823974441909016,
          0.5148757793898513,
          0.06431934032079333,
          -0.6192210839283654,
          0.6364993369072576,
          0.5238573577202742,
          2.5123333500021423,
          -0.7385360908208347,
          1.5357500979181817,
          1.5724495278522659,
          0.6633106187533743,
          0.1913510422791749,
          -0.9852937680279761,
          0.4866604508534319,
          -1.5691043539958625,
          -0.5457214474250892,
          -2.650467246676767,
          -0.4096399990779472,
          -0.44165613080647653,
          -1.6114045136155386,
          0.3372243946613703,
          0.09216459763101896,
          0.4408702411197516,
          1.026794643555709,
          -0.787067876624869,
          0.274085340958029,
          0.6432038230781414,
          0.11625200510070811,
          -0.11400215542141642,
          1.1678648365076898,
          0.6381872954128966,
          -0.10906986258298167,
          0.40314926362595793,
          -1.4061921229295076,
          -0.8949388605476665,
          -0.6797123989402232,
          0.681267680316777,
          -1.5973585952033058,
          0.9990493726980721,
          -0.9268111651857517,
          -0.7197683145996996,
          0.18706094517469868,
          -1.1137685782674145,
          -0.8981843019223013,
          -0.008022352656607114,
          -0.46902423130002263,
          -1.0663496382780207,
          1.2930554005359125,
          -0.12481695277229017,
          0.8763289665253956,
          -0.15234775564968409,
          0.7815603667800463,
          -0.3711497040527381,
          -0.735133518142438,
          1.0719608777778922,
          -1.8110615652327744,
          -0.21451545478894662,
          -1.0000693418566864,
          -1.2492276001592144,
          -0.46780364099239063,
          0.1472438174569735,
          0.26416988245785844,
          0.6659503106264842,
          1.4700345976857954,
          1.077675298771589,
          1.1078248664225065,
          -0.7199081897875417,
          0.6037307814365238,
          -1.2541232782328138,
          -0.4445705528975758,
          -0.5995953052364829,
          0.8703773020736415,
          1.240967816138145,
          -0.23458836833371494,
          1.3626315874217745,
          -0.34003054967360213,
          0.28031746369473,
          -0.6342169480234975,
          0.6748537839853154,
          -1.3964778756962182
         ],
         "xaxis": "x6",
         "yaxis": "y6"
        },
        {
         "line": {
          "color": "rgba(128, 128, 128, 1.0)",
          "dash": "solid",
          "shape": "linear",
          "width": 1.3
         },
         "marker": {
          "size": 2,
          "symbol": "circle"
         },
         "mode": "markers",
         "name": "B",
         "text": "",
         "type": "scatter",
         "x": [
          -0.444678500480317,
          0.0933498848400473,
          0.9355087974997555,
          -1.106441630487202,
          0.7870975629687152,
          0.21808060888783593,
          0.19245161375740785,
          0.058978349501044657,
          -0.8714541206370889,
          1.6723359190038503,
          -0.9521959925693669,
          0.25982368775406417,
          0.4329967486845554,
          0.9585187647681762,
          -1.79933573560346,
          2.2571466440543344,
          0.27242090370105326,
          -3.041426982646799,
          -0.7379674589948564,
          0.21321722437944604,
          0.3744406483158536,
          1.8794147199102167,
          0.5865594775587016,
          -0.3723330026710341,
          -0.21256708491681514,
          1.2175066431034185,
          0.9503232313646496,
          1.7526010217049393,
          -0.6255769714716065,
          -0.8150989477464166,
          0.1900069841307442,
          -0.6573140026719146,
          1.3123490852146837,
          -0.20521456260004223,
          -0.8280753332366754,
          -2.1789891770225105,
          -1.7227530897526353,
          1.2860266607255277,
          0.417423466170257,
          -1.408581550401666,
          -1.0147418694696868,
          1.0617865770644983,
          -2.1357693694007693,
          0.6316085302784928,
          1.0548351609959814,
          -1.821383374322361,
          1.1794682397233458,
          0.7800559142128144,
          1.5175952940754551,
          -0.20063016325093158,
          1.469109182383053,
          0.33064590666961946,
          -1.5329746111023028,
          1.4876464359770907,
          0.7368765553019965,
          0.2556196982451411,
          1.496074295060987,
          -0.25594776352614945,
          -1.0302066787914688,
          0.3771702792035409,
          1.5954550568745687,
          -1.8239541572520326,
          -0.6292071703871251,
          0.8569283151606543,
          0.19021096842866161,
          0.6607647699069801,
          -0.0016000980015075767,
          -0.6033609765671395,
          0.6926557249524916,
          0.13880646341418457,
          -1.3362928951925246,
          0.5040296861060063,
          2.5601117800980524,
          -0.983051918444861,
          -0.7450095718104365,
          -0.8245934015034929,
          -1.1246483229871902,
          -0.6547441335375387,
          -0.8088996560125555,
          -0.0966860051066942,
          -1.4863921450232944,
          0.18967390658638197,
          0.15908685829749233,
          -0.2691504733360306,
          -0.18560225336486053,
          0.1001975328112677,
          -0.4706507089738137,
          0.2368759547272725,
          0.6644170545061568,
          -0.11309520573149913,
          1.1829406966617049,
          -1.0833015314373051,
          -0.15088069839314402,
          -0.2652424034024619,
          0.8990779222502281,
          -0.030734197118241203,
          -0.46028230155709343,
          2.0393872169244824,
          0.3883702636590222,
          1.133687274935083
         ],
         "xaxis": "x7",
         "y": [
          0.9051120349846424,
          1.1315731612883049,
          0.4889535391167449,
          -0.411827350510033,
          1.7437582525448498,
          0.8754875880381073,
          -1.612719409098891,
          1.2673782176917372,
          0.34610407515785685,
          -0.8734634626765565,
          0.5080615811518349,
          0.3786949114985083,
          0.8549394182735643,
          -1.1727436261908517,
          0.278079586528356,
          -2.086519140021561,
          0.9558921986334105,
          -2.1412044407561335,
          1.5908599450759613,
          -0.38037367059143695,
          -0.33823974441909016,
          0.5148757793898513,
          0.06431934032079333,
          -0.6192210839283654,
          0.6364993369072576,
          0.5238573577202742,
          2.5123333500021423,
          -0.7385360908208347,
          1.5357500979181817,
          1.5724495278522659,
          0.6633106187533743,
          0.1913510422791749,
          -0.9852937680279761,
          0.4866604508534319,
          -1.5691043539958625,
          -0.5457214474250892,
          -2.650467246676767,
          -0.4096399990779472,
          -0.44165613080647653,
          -1.6114045136155386,
          0.3372243946613703,
          0.09216459763101896,
          0.4408702411197516,
          1.026794643555709,
          -0.787067876624869,
          0.274085340958029,
          0.6432038230781414,
          0.11625200510070811,
          -0.11400215542141642,
          1.1678648365076898,
          0.6381872954128966,
          -0.10906986258298167,
          0.40314926362595793,
          -1.4061921229295076,
          -0.8949388605476665,
          -0.6797123989402232,
          0.681267680316777,
          -1.5973585952033058,
          0.9990493726980721,
          -0.9268111651857517,
          -0.7197683145996996,
          0.18706094517469868,
          -1.1137685782674145,
          -0.8981843019223013,
          -0.008022352656607114,
          -0.46902423130002263,
          -1.0663496382780207,
          1.2930554005359125,
          -0.12481695277229017,
          0.8763289665253956,
          -0.15234775564968409,
          0.7815603667800463,
          -0.3711497040527381,
          -0.735133518142438,
          1.0719608777778922,
          -1.8110615652327744,
          -0.21451545478894662,
          -1.0000693418566864,
          -1.2492276001592144,
          -0.46780364099239063,
          0.1472438174569735,
          0.26416988245785844,
          0.6659503106264842,
          1.4700345976857954,
          1.077675298771589,
          1.1078248664225065,
          -0.7199081897875417,
          0.6037307814365238,
          -1.2541232782328138,
          -0.4445705528975758,
          -0.5995953052364829,
          0.8703773020736415,
          1.240967816138145,
          -0.23458836833371494,
          1.3626315874217745,
          -0.34003054967360213,
          0.28031746369473,
          -0.6342169480234975,
          0.6748537839853154,
          -1.3964778756962182
         ],
         "yaxis": "y7"
        },
        {
         "line": {
          "color": "rgba(128, 128, 128, 1.0)",
          "dash": "solid",
          "shape": "linear",
          "width": 1.3
         },
         "marker": {
          "size": 2,
          "symbol": "circle"
         },
         "mode": "markers",
         "name": "B",
         "text": "",
         "type": "scatter",
         "x": [
          -0.14243188168373888,
          -1.0729907558568355,
          0.44733250377667716,
          -1.1897147775895982,
          1.092741516710888,
          -0.06091528550317952,
          0.10743674606032749,
          0.9042940695647604,
          0.5303819578975205,
          1.9992339800473369,
          0.6456010371124833,
          -0.7962804132728767,
          -0.5815192392519256,
          0.2597767876385269,
          -2.459883288053741,
          -0.4082992590619642,
          0.39686139282285504,
          -0.10328064655423272,
          -1.1573545857701342,
          -1.7466222324347853,
          -1.6081787740748272,
          0.042610628533974994,
          1.7131089103702466,
          -0.33970182084475636,
          -0.9583274897717958,
          0.8309717943957573,
          -1.8513065553096661,
          -0.43667935832435667,
          -1.3202801094129164,
          0.19412359694222966,
          0.3863753886878289,
          2.262504342957885,
          -1.1789996565844338,
          0.8610049877785335,
          0.35020646357557556,
          -0.4526706099620868,
          -1.4208827518870466,
          -2.0336415880196306,
          -0.6028790992919976,
          -0.6667505056960525,
          1.034085965991731,
          1.6862381136516247,
          0.9671590675760109,
          0.4687702824218409,
          -0.11354411524057219,
          1.7598471377692582,
          -0.3133961636622412,
          0.7968082245207883,
          -0.8123852383043507,
          -0.1815538188028146,
          -1.2010576577637924,
          0.623379003526806,
          -0.2905917132234972,
          1.0907162251266591,
          -0.943052216702706,
          -0.6358961634386422,
          0.8238944357128126,
          -1.6910025282864853,
          -0.5360314141734744,
          -0.2858234600755065,
          0.11739560318332833,
          1.3392357088416103,
          -0.12730657094197811,
          -0.355344981254377,
          -0.7888413181153048,
          0.010846103051945897,
          2.4643060780738653,
          0.2688894084296869,
          -0.6761623948082517,
          -0.46228423544452435,
          -0.06823119920909179,
          0.5507682072831712,
          -1.4092521832676117,
          0.11165070595437765,
          1.0816741381089106,
          0.00012294423731891224,
          1.6864532375657582,
          -0.21634623521220717,
          1.4069369181982865,
          0.14000154269529902,
          -1.056975185245624,
          -1.454774926494647,
          0.8077501687969396,
          -0.6826502496255977,
          0.6344953632035505,
          -0.15940212485395602,
          1.3448374706334436,
          0.5273274117487469,
          -0.5514095718479104,
          0.3176860475959556,
          -0.0325566071623441,
          -0.0673720916980821,
          0.9991691910935454,
          0.4772946025924812,
          0.9458312063212977,
          -1.1631663106908554,
          1.0876781943861205,
          -0.5592269267673681,
          -0.4905467928214895,
          -0.43363935487996075
         ],
         "xaxis": "x8",
         "y": [
          0.9051120349846424,
          1.1315731612883049,
          0.4889535391167449,
          -0.411827350510033,
          1.7437582525448498,
          0.8754875880381073,
          -1.612719409098891,
          1.2673782176917372,
          0.34610407515785685,
          -0.8734634626765565,
          0.5080615811518349,
          0.3786949114985083,
          0.8549394182735643,
          -1.1727436261908517,
          0.278079586528356,
          -2.086519140021561,
          0.9558921986334105,
          -2.1412044407561335,
          1.5908599450759613,
          -0.38037367059143695,
          -0.33823974441909016,
          0.5148757793898513,
          0.06431934032079333,
          -0.6192210839283654,
          0.6364993369072576,
          0.5238573577202742,
          2.5123333500021423,
          -0.7385360908208347,
          1.5357500979181817,
          1.5724495278522659,
          0.6633106187533743,
          0.1913510422791749,
          -0.9852937680279761,
          0.4866604508534319,
          -1.5691043539958625,
          -0.5457214474250892,
          -2.650467246676767,
          -0.4096399990779472,
          -0.44165613080647653,
          -1.6114045136155386,
          0.3372243946613703,
          0.09216459763101896,
          0.4408702411197516,
          1.026794643555709,
          -0.787067876624869,
          0.274085340958029,
          0.6432038230781414,
          0.11625200510070811,
          -0.11400215542141642,
          1.1678648365076898,
          0.6381872954128966,
          -0.10906986258298167,
          0.40314926362595793,
          -1.4061921229295076,
          -0.8949388605476665,
          -0.6797123989402232,
          0.681267680316777,
          -1.5973585952033058,
          0.9990493726980721,
          -0.9268111651857517,
          -0.7197683145996996,
          0.18706094517469868,
          -1.1137685782674145,
          -0.8981843019223013,
          -0.008022352656607114,
          -0.46902423130002263,
          -1.0663496382780207,
          1.2930554005359125,
          -0.12481695277229017,
          0.8763289665253956,
          -0.15234775564968409,
          0.7815603667800463,
          -0.3711497040527381,
          -0.735133518142438,
          1.0719608777778922,
          -1.8110615652327744,
          -0.21451545478894662,
          -1.0000693418566864,
          -1.2492276001592144,
          -0.46780364099239063,
          0.1472438174569735,
          0.26416988245785844,
          0.6659503106264842,
          1.4700345976857954,
          1.077675298771589,
          1.1078248664225065,
          -0.7199081897875417,
          0.6037307814365238,
          -1.2541232782328138,
          -0.4445705528975758,
          -0.5995953052364829,
          0.8703773020736415,
          1.240967816138145,
          -0.23458836833371494,
          1.3626315874217745,
          -0.34003054967360213,
          0.28031746369473,
          -0.6342169480234975,
          0.6748537839853154,
          -1.3964778756962182
         ],
         "yaxis": "y8"
        },
        {
         "line": {
          "color": "rgba(128, 128, 128, 1.0)",
          "dash": "solid",
          "shape": "linear",
          "width": 1.3
         },
         "marker": {
          "size": 2,
          "symbol": "circle"
         },
         "mode": "markers",
         "name": "C",
         "text": "",
         "type": "scatter",
         "x": [
          -0.7583625624564826,
          -1.3608135229511027,
          -0.4479688305343663,
          0.25774244428547427,
          -1.6375797293120589,
          -1.0464472057363499,
          1.407325001211225,
          0.276515190255223,
          -0.07316231716756455,
          2.379354983246018,
          1.4416105167771618,
          -2.000675616366275,
          0.599410615388733,
          -1.178157640116541,
          0.8361646635083623,
          1.4209061515389503,
          -1.3772200926778893,
          -1.5330137697628772,
          0.8434488796566412,
          -0.44264142554813973,
          0.7729395311461773,
          -1.186536053062794,
          1.0672315844310665,
          -0.1786475895640133,
          -1.6899719904233519,
          0.8146648919282323,
          -2.541055625678114,
          0.8784841697785496,
          0.32813550809478664,
          1.3136723060501312,
          0.5798422821158166,
          -0.15028112198881133,
          -0.39350857873322376,
          1.8687332552959848,
          1.4996776154237408,
          -2.5978587935254813,
          -0.08418728423004833,
          -1.7130754548765064,
          -0.34219415505953205,
          1.2976144427300302,
          0.7997008822259573,
          -1.9145673952331954,
          0.32403830118956695,
          0.9669468742916221,
          -0.3954521090418044,
          -0.5156640132664189,
          0.6325874104204111,
          -0.7730210344534597,
          -1.0278926686068846,
          -0.8064923341963592,
          -0.5283860770954497,
          0.05805052625083211,
          -0.5341935453073812,
          -0.6306038151611613,
          0.19618964614138615,
          -0.567501753503357,
          1.3116043337251144,
          1.0625570541938478,
          0.1630190918246739,
          -0.17520577021292585,
          -0.7448259321076729,
          -0.06589108782314983,
          1.2263868994742944,
          0.9973104846473738,
          -0.8586695931733282,
          0.4007921932156928,
          0.6476480167091756,
          0.5806680435925301,
          0.41667800079466144,
          0.18080111431959658,
          -0.6549009506176735,
          -1.5624811820852393,
          -1.9034379481414605,
          1.2036040733411644,
          1.5416853504730623,
          0.644723358337419,
          0.5148614190703861,
          -1.9213061654349335,
          0.35505322896128755,
          0.8491838985035705,
          -1.0502790566937863,
          0.013051058769516184,
          1.6146659697158963,
          -1.0749070393039928,
          -0.6616722006760997,
          -0.3743145259476359,
          -2.4924831145939095,
          -0.16545246379299003,
          2.1703012992627992,
          -1.2602863121320913,
          -0.7676530026819841,
          0.0843467501757799,
          -0.2807271956647446,
          0.4241491799250738,
          1.2569983568147862,
          0.33073957061440273,
          -0.21585240846311052,
          1.4033361423654584,
          0.12416679561973377,
          0.45414894890427215
         ],
         "xaxis": "x9",
         "y": [
          -0.444678500480317,
          0.0933498848400473,
          0.9355087974997555,
          -1.106441630487202,
          0.7870975629687152,
          0.21808060888783593,
          0.19245161375740785,
          0.058978349501044657,
          -0.8714541206370889,
          1.6723359190038503,
          -0.9521959925693669,
          0.25982368775406417,
          0.4329967486845554,
          0.9585187647681762,
          -1.79933573560346,
          2.2571466440543344,
          0.27242090370105326,
          -3.041426982646799,
          -0.7379674589948564,
          0.21321722437944604,
          0.3744406483158536,
          1.8794147199102167,
          0.5865594775587016,
          -0.3723330026710341,
          -0.21256708491681514,
          1.2175066431034185,
          0.9503232313646496,
          1.7526010217049393,
          -0.6255769714716065,
          -0.8150989477464166,
          0.1900069841307442,
          -0.6573140026719146,
          1.3123490852146837,
          -0.20521456260004223,
          -0.8280753332366754,
          -2.1789891770225105,
          -1.7227530897526353,
          1.2860266607255277,
          0.417423466170257,
          -1.408581550401666,
          -1.0147418694696868,
          1.0617865770644983,
          -2.1357693694007693,
          0.6316085302784928,
          1.0548351609959814,
          -1.821383374322361,
          1.1794682397233458,
          0.7800559142128144,
          1.5175952940754551,
          -0.20063016325093158,
          1.469109182383053,
          0.33064590666961946,
          -1.5329746111023028,
          1.4876464359770907,
          0.7368765553019965,
          0.2556196982451411,
          1.496074295060987,
          -0.25594776352614945,
          -1.0302066787914688,
          0.3771702792035409,
          1.5954550568745687,
          -1.8239541572520326,
          -0.6292071703871251,
          0.8569283151606543,
          0.19021096842866161,
          0.6607647699069801,
          -0.0016000980015075767,
          -0.6033609765671395,
          0.6926557249524916,
          0.13880646341418457,
          -1.3362928951925246,
          0.5040296861060063,
          2.5601117800980524,
          -0.983051918444861,
          -0.7450095718104365,
          -0.8245934015034929,
          -1.1246483229871902,
          -0.6547441335375387,
          -0.8088996560125555,
          -0.0966860051066942,
          -1.4863921450232944,
          0.18967390658638197,
          0.15908685829749233,
          -0.2691504733360306,
          -0.18560225336486053,
          0.1001975328112677,
          -0.4706507089738137,
          0.2368759547272725,
          0.6644170545061568,
          -0.11309520573149913,
          1.1829406966617049,
          -1.0833015314373051,
          -0.15088069839314402,
          -0.2652424034024619,
          0.8990779222502281,
          -0.030734197118241203,
          -0.46028230155709343,
          2.0393872169244824,
          0.3883702636590222,
          1.133687274935083
         ],
         "yaxis": "y9"
        },
        {
         "line": {
          "color": "rgba(128, 128, 128, 1.0)",
          "dash": "solid",
          "shape": "linear",
          "width": 1.3
         },
         "marker": {
          "size": 2,
          "symbol": "circle"
         },
         "mode": "markers",
         "name": "C",
         "text": "",
         "type": "scatter",
         "x": [
          0.9051120349846424,
          1.1315731612883049,
          0.4889535391167449,
          -0.411827350510033,
          1.7437582525448498,
          0.8754875880381073,
          -1.612719409098891,
          1.2673782176917372,
          0.34610407515785685,
          -0.8734634626765565,
          0.5080615811518349,
          0.3786949114985083,
          0.8549394182735643,
          -1.1727436261908517,
          0.278079586528356,
          -2.086519140021561,
          0.9558921986334105,
          -2.1412044407561335,
          1.5908599450759613,
          -0.38037367059143695,
          -0.33823974441909016,
          0.5148757793898513,
          0.06431934032079333,
          -0.6192210839283654,
          0.6364993369072576,
          0.5238573577202742,
          2.5123333500021423,
          -0.7385360908208347,
          1.5357500979181817,
          1.5724495278522659,
          0.6633106187533743,
          0.1913510422791749,
          -0.9852937680279761,
          0.4866604508534319,
          -1.5691043539958625,
          -0.5457214474250892,
          -2.650467246676767,
          -0.4096399990779472,
          -0.44165613080647653,
          -1.6114045136155386,
          0.3372243946613703,
          0.09216459763101896,
          0.4408702411197516,
          1.026794643555709,
          -0.787067876624869,
          0.274085340958029,
          0.6432038230781414,
          0.11625200510070811,
          -0.11400215542141642,
          1.1678648365076898,
          0.6381872954128966,
          -0.10906986258298167,
          0.40314926362595793,
          -1.4061921229295076,
          -0.8949388605476665,
          -0.6797123989402232,
          0.681267680316777,
          -1.5973585952033058,
          0.9990493726980721,
          -0.9268111651857517,
          -0.7197683145996996,
          0.18706094517469868,
          -1.1137685782674145,
          -0.8981843019223013,
          -0.008022352656607114,
          -0.46902423130002263,
          -1.0663496382780207,
          1.2930554005359125,
          -0.12481695277229017,
          0.8763289665253956,
          -0.15234775564968409,
          0.7815603667800463,
          -0.3711497040527381,
          -0.735133518142438,
          1.0719608777778922,
          -1.8110615652327744,
          -0.21451545478894662,
          -1.0000693418566864,
          -1.2492276001592144,
          -0.46780364099239063,
          0.1472438174569735,
          0.26416988245785844,
          0.6659503106264842,
          1.4700345976857954,
          1.077675298771589,
          1.1078248664225065,
          -0.7199081897875417,
          0.6037307814365238,
          -1.2541232782328138,
          -0.4445705528975758,
          -0.5995953052364829,
          0.8703773020736415,
          1.240967816138145,
          -0.23458836833371494,
          1.3626315874217745,
          -0.34003054967360213,
          0.28031746369473,
          -0.6342169480234975,
          0.6748537839853154,
          -1.3964778756962182
         ],
         "xaxis": "x10",
         "y": [
          -0.444678500480317,
          0.0933498848400473,
          0.9355087974997555,
          -1.106441630487202,
          0.7870975629687152,
          0.21808060888783593,
          0.19245161375740785,
          0.058978349501044657,
          -0.8714541206370889,
          1.6723359190038503,
          -0.9521959925693669,
          0.25982368775406417,
          0.4329967486845554,
          0.9585187647681762,
          -1.79933573560346,
          2.2571466440543344,
          0.27242090370105326,
          -3.041426982646799,
          -0.7379674589948564,
          0.21321722437944604,
          0.3744406483158536,
          1.8794147199102167,
          0.5865594775587016,
          -0.3723330026710341,
          -0.21256708491681514,
          1.2175066431034185,
          0.9503232313646496,
          1.7526010217049393,
          -0.6255769714716065,
          -0.8150989477464166,
          0.1900069841307442,
          -0.6573140026719146,
          1.3123490852146837,
          -0.20521456260004223,
          -0.8280753332366754,
          -2.1789891770225105,
          -1.7227530897526353,
          1.2860266607255277,
          0.417423466170257,
          -1.408581550401666,
          -1.0147418694696868,
          1.0617865770644983,
          -2.1357693694007693,
          0.6316085302784928,
          1.0548351609959814,
          -1.821383374322361,
          1.1794682397233458,
          0.7800559142128144,
          1.5175952940754551,
          -0.20063016325093158,
          1.469109182383053,
          0.33064590666961946,
          -1.5329746111023028,
          1.4876464359770907,
          0.7368765553019965,
          0.2556196982451411,
          1.496074295060987,
          -0.25594776352614945,
          -1.0302066787914688,
          0.3771702792035409,
          1.5954550568745687,
          -1.8239541572520326,
          -0.6292071703871251,
          0.8569283151606543,
          0.19021096842866161,
          0.6607647699069801,
          -0.0016000980015075767,
          -0.6033609765671395,
          0.6926557249524916,
          0.13880646341418457,
          -1.3362928951925246,
          0.5040296861060063,
          2.5601117800980524,
          -0.983051918444861,
          -0.7450095718104365,
          -0.8245934015034929,
          -1.1246483229871902,
          -0.6547441335375387,
          -0.8088996560125555,
          -0.0966860051066942,
          -1.4863921450232944,
          0.18967390658638197,
          0.15908685829749233,
          -0.2691504733360306,
          -0.18560225336486053,
          0.1001975328112677,
          -0.4706507089738137,
          0.2368759547272725,
          0.6644170545061568,
          -0.11309520573149913,
          1.1829406966617049,
          -1.0833015314373051,
          -0.15088069839314402,
          -0.2652424034024619,
          0.8990779222502281,
          -0.030734197118241203,
          -0.46028230155709343,
          2.0393872169244824,
          0.3883702636590222,
          1.133687274935083
         ],
         "yaxis": "y10"
        },
        {
         "histfunc": "count",
         "histnorm": "",
         "marker": {
          "color": "rgba(50, 171, 96, 1.0)",
          "line": {
           "color": "#4D5663",
           "width": 1.3
          }
         },
         "name": "C",
         "nbinsx": 10,
         "opacity": 0.8,
         "orientation": "v",
         "type": "histogram",
         "x": [
          -0.444678500480317,
          0.0933498848400473,
          0.9355087974997555,
          -1.106441630487202,
          0.7870975629687152,
          0.21808060888783593,
          0.19245161375740785,
          0.058978349501044657,
          -0.8714541206370889,
          1.6723359190038503,
          -0.9521959925693669,
          0.25982368775406417,
          0.4329967486845554,
          0.9585187647681762,
          -1.79933573560346,
          2.2571466440543344,
          0.27242090370105326,
          -3.041426982646799,
          -0.7379674589948564,
          0.21321722437944604,
          0.3744406483158536,
          1.8794147199102167,
          0.5865594775587016,
          -0.3723330026710341,
          -0.21256708491681514,
          1.2175066431034185,
          0.9503232313646496,
          1.7526010217049393,
          -0.6255769714716065,
          -0.8150989477464166,
          0.1900069841307442,
          -0.6573140026719146,
          1.3123490852146837,
          -0.20521456260004223,
          -0.8280753332366754,
          -2.1789891770225105,
          -1.7227530897526353,
          1.2860266607255277,
          0.417423466170257,
          -1.408581550401666,
          -1.0147418694696868,
          1.0617865770644983,
          -2.1357693694007693,
          0.6316085302784928,
          1.0548351609959814,
          -1.821383374322361,
          1.1794682397233458,
          0.7800559142128144,
          1.5175952940754551,
          -0.20063016325093158,
          1.469109182383053,
          0.33064590666961946,
          -1.5329746111023028,
          1.4876464359770907,
          0.7368765553019965,
          0.2556196982451411,
          1.496074295060987,
          -0.25594776352614945,
          -1.0302066787914688,
          0.3771702792035409,
          1.5954550568745687,
          -1.8239541572520326,
          -0.6292071703871251,
          0.8569283151606543,
          0.19021096842866161,
          0.6607647699069801,
          -0.0016000980015075767,
          -0.6033609765671395,
          0.6926557249524916,
          0.13880646341418457,
          -1.3362928951925246,
          0.5040296861060063,
          2.5601117800980524,
          -0.983051918444861,
          -0.7450095718104365,
          -0.8245934015034929,
          -1.1246483229871902,
          -0.6547441335375387,
          -0.8088996560125555,
          -0.0966860051066942,
          -1.4863921450232944,
          0.18967390658638197,
          0.15908685829749233,
          -0.2691504733360306,
          -0.18560225336486053,
          0.1001975328112677,
          -0.4706507089738137,
          0.2368759547272725,
          0.6644170545061568,
          -0.11309520573149913,
          1.1829406966617049,
          -1.0833015314373051,
          -0.15088069839314402,
          -0.2652424034024619,
          0.8990779222502281,
          -0.030734197118241203,
          -0.46028230155709343,
          2.0393872169244824,
          0.3883702636590222,
          1.133687274935083
         ],
         "xaxis": "x11",
         "yaxis": "y11"
        },
        {
         "line": {
          "color": "rgba(128, 128, 128, 1.0)",
          "dash": "solid",
          "shape": "linear",
          "width": 1.3
         },
         "marker": {
          "size": 2,
          "symbol": "circle"
         },
         "mode": "markers",
         "name": "C",
         "text": "",
         "type": "scatter",
         "x": [
          -0.14243188168373888,
          -1.0729907558568355,
          0.44733250377667716,
          -1.1897147775895982,
          1.092741516710888,
          -0.06091528550317952,
          0.10743674606032749,
          0.9042940695647604,
          0.5303819578975205,
          1.9992339800473369,
          0.6456010371124833,
          -0.7962804132728767,
          -0.5815192392519256,
          0.2597767876385269,
          -2.459883288053741,
          -0.4082992590619642,
          0.39686139282285504,
          -0.10328064655423272,
          -1.1573545857701342,
          -1.7466222324347853,
          -1.6081787740748272,
          0.042610628533974994,
          1.7131089103702466,
          -0.33970182084475636,
          -0.9583274897717958,
          0.8309717943957573,
          -1.8513065553096661,
          -0.43667935832435667,
          -1.3202801094129164,
          0.19412359694222966,
          0.3863753886878289,
          2.262504342957885,
          -1.1789996565844338,
          0.8610049877785335,
          0.35020646357557556,
          -0.4526706099620868,
          -1.4208827518870466,
          -2.0336415880196306,
          -0.6028790992919976,
          -0.6667505056960525,
          1.034085965991731,
          1.6862381136516247,
          0.9671590675760109,
          0.4687702824218409,
          -0.11354411524057219,
          1.7598471377692582,
          -0.3133961636622412,
          0.7968082245207883,
          -0.8123852383043507,
          -0.1815538188028146,
          -1.2010576577637924,
          0.623379003526806,
          -0.2905917132234972,
          1.0907162251266591,
          -0.943052216702706,
          -0.6358961634386422,
          0.8238944357128126,
          -1.6910025282864853,
          -0.5360314141734744,
          -0.2858234600755065,
          0.11739560318332833,
          1.3392357088416103,
          -0.12730657094197811,
          -0.355344981254377,
          -0.7888413181153048,
          0.010846103051945897,
          2.4643060780738653,
          0.2688894084296869,
          -0.6761623948082517,
          -0.46228423544452435,
          -0.06823119920909179,
          0.5507682072831712,
          -1.4092521832676117,
          0.11165070595437765,
          1.0816741381089106,
          0.00012294423731891224,
          1.6864532375657582,
          -0.21634623521220717,
          1.4069369181982865,
          0.14000154269529902,
          -1.056975185245624,
          -1.454774926494647,
          0.8077501687969396,
          -0.6826502496255977,
          0.6344953632035505,
          -0.15940212485395602,
          1.3448374706334436,
          0.5273274117487469,
          -0.5514095718479104,
          0.3176860475959556,
          -0.0325566071623441,
          -0.0673720916980821,
          0.9991691910935454,
          0.4772946025924812,
          0.9458312063212977,
          -1.1631663106908554,
          1.0876781943861205,
          -0.5592269267673681,
          -0.4905467928214895,
          -0.43363935487996075
         ],
         "xaxis": "x12",
         "y": [
          -0.444678500480317,
          0.0933498848400473,
          0.9355087974997555,
          -1.106441630487202,
          0.7870975629687152,
          0.21808060888783593,
          0.19245161375740785,
          0.058978349501044657,
          -0.8714541206370889,
          1.6723359190038503,
          -0.9521959925693669,
          0.25982368775406417,
          0.4329967486845554,
          0.9585187647681762,
          -1.79933573560346,
          2.2571466440543344,
          0.27242090370105326,
          -3.041426982646799,
          -0.7379674589948564,
          0.21321722437944604,
          0.3744406483158536,
          1.8794147199102167,
          0.5865594775587016,
          -0.3723330026710341,
          -0.21256708491681514,
          1.2175066431034185,
          0.9503232313646496,
          1.7526010217049393,
          -0.6255769714716065,
          -0.8150989477464166,
          0.1900069841307442,
          -0.6573140026719146,
          1.3123490852146837,
          -0.20521456260004223,
          -0.8280753332366754,
          -2.1789891770225105,
          -1.7227530897526353,
          1.2860266607255277,
          0.417423466170257,
          -1.408581550401666,
          -1.0147418694696868,
          1.0617865770644983,
          -2.1357693694007693,
          0.6316085302784928,
          1.0548351609959814,
          -1.821383374322361,
          1.1794682397233458,
          0.7800559142128144,
          1.5175952940754551,
          -0.20063016325093158,
          1.469109182383053,
          0.33064590666961946,
          -1.5329746111023028,
          1.4876464359770907,
          0.7368765553019965,
          0.2556196982451411,
          1.496074295060987,
          -0.25594776352614945,
          -1.0302066787914688,
          0.3771702792035409,
          1.5954550568745687,
          -1.8239541572520326,
          -0.6292071703871251,
          0.8569283151606543,
          0.19021096842866161,
          0.6607647699069801,
          -0.0016000980015075767,
          -0.6033609765671395,
          0.6926557249524916,
          0.13880646341418457,
          -1.3362928951925246,
          0.5040296861060063,
          2.5601117800980524,
          -0.983051918444861,
          -0.7450095718104365,
          -0.8245934015034929,
          -1.1246483229871902,
          -0.6547441335375387,
          -0.8088996560125555,
          -0.0966860051066942,
          -1.4863921450232944,
          0.18967390658638197,
          0.15908685829749233,
          -0.2691504733360306,
          -0.18560225336486053,
          0.1001975328112677,
          -0.4706507089738137,
          0.2368759547272725,
          0.6644170545061568,
          -0.11309520573149913,
          1.1829406966617049,
          -1.0833015314373051,
          -0.15088069839314402,
          -0.2652424034024619,
          0.8990779222502281,
          -0.030734197118241203,
          -0.46028230155709343,
          2.0393872169244824,
          0.3883702636590222,
          1.133687274935083
         ],
         "yaxis": "y12"
        },
        {
         "line": {
          "color": "rgba(128, 128, 128, 1.0)",
          "dash": "solid",
          "shape": "linear",
          "width": 1.3
         },
         "marker": {
          "size": 2,
          "symbol": "circle"
         },
         "mode": "markers",
         "name": "D",
         "text": "",
         "type": "scatter",
         "x": [
          -0.7583625624564826,
          -1.3608135229511027,
          -0.4479688305343663,
          0.25774244428547427,
          -1.6375797293120589,
          -1.0464472057363499,
          1.407325001211225,
          0.276515190255223,
          -0.07316231716756455,
          2.379354983246018,
          1.4416105167771618,
          -2.000675616366275,
          0.599410615388733,
          -1.178157640116541,
          0.8361646635083623,
          1.4209061515389503,
          -1.3772200926778893,
          -1.5330137697628772,
          0.8434488796566412,
          -0.44264142554813973,
          0.7729395311461773,
          -1.186536053062794,
          1.0672315844310665,
          -0.1786475895640133,
          -1.6899719904233519,
          0.8146648919282323,
          -2.541055625678114,
          0.8784841697785496,
          0.32813550809478664,
          1.3136723060501312,
          0.5798422821158166,
          -0.15028112198881133,
          -0.39350857873322376,
          1.8687332552959848,
          1.4996776154237408,
          -2.5978587935254813,
          -0.08418728423004833,
          -1.7130754548765064,
          -0.34219415505953205,
          1.2976144427300302,
          0.7997008822259573,
          -1.9145673952331954,
          0.32403830118956695,
          0.9669468742916221,
          -0.3954521090418044,
          -0.5156640132664189,
          0.6325874104204111,
          -0.7730210344534597,
          -1.0278926686068846,
          -0.8064923341963592,
          -0.5283860770954497,
          0.05805052625083211,
          -0.5341935453073812,
          -0.6306038151611613,
          0.19618964614138615,
          -0.567501753503357,
          1.3116043337251144,
          1.0625570541938478,
          0.1630190918246739,
          -0.17520577021292585,
          -0.7448259321076729,
          -0.06589108782314983,
          1.2263868994742944,
          0.9973104846473738,
          -0.8586695931733282,
          0.4007921932156928,
          0.6476480167091756,
          0.5806680435925301,
          0.41667800079466144,
          0.18080111431959658,
          -0.6549009506176735,
          -1.5624811820852393,
          -1.9034379481414605,
          1.2036040733411644,
          1.5416853504730623,
          0.644723358337419,
          0.5148614190703861,
          -1.9213061654349335,
          0.35505322896128755,
          0.8491838985035705,
          -1.0502790566937863,
          0.013051058769516184,
          1.6146659697158963,
          -1.0749070393039928,
          -0.6616722006760997,
          -0.3743145259476359,
          -2.4924831145939095,
          -0.16545246379299003,
          2.1703012992627992,
          -1.2602863121320913,
          -0.7676530026819841,
          0.0843467501757799,
          -0.2807271956647446,
          0.4241491799250738,
          1.2569983568147862,
          0.33073957061440273,
          -0.21585240846311052,
          1.4033361423654584,
          0.12416679561973377,
          0.45414894890427215
         ],
         "xaxis": "x13",
         "y": [
          -0.14243188168373888,
          -1.0729907558568355,
          0.44733250377667716,
          -1.1897147775895982,
          1.092741516710888,
          -0.06091528550317952,
          0.10743674606032749,
          0.9042940695647604,
          0.5303819578975205,
          1.9992339800473369,
          0.6456010371124833,
          -0.7962804132728767,
          -0.5815192392519256,
          0.2597767876385269,
          -2.459883288053741,
          -0.4082992590619642,
          0.39686139282285504,
          -0.10328064655423272,
          -1.1573545857701342,
          -1.7466222324347853,
          -1.6081787740748272,
          0.042610628533974994,
          1.7131089103702466,
          -0.33970182084475636,
          -0.9583274897717958,
          0.8309717943957573,
          -1.8513065553096661,
          -0.43667935832435667,
          -1.3202801094129164,
          0.19412359694222966,
          0.3863753886878289,
          2.262504342957885,
          -1.1789996565844338,
          0.8610049877785335,
          0.35020646357557556,
          -0.4526706099620868,
          -1.4208827518870466,
          -2.0336415880196306,
          -0.6028790992919976,
          -0.6667505056960525,
          1.034085965991731,
          1.6862381136516247,
          0.9671590675760109,
          0.4687702824218409,
          -0.11354411524057219,
          1.7598471377692582,
          -0.3133961636622412,
          0.7968082245207883,
          -0.8123852383043507,
          -0.1815538188028146,
          -1.2010576577637924,
          0.623379003526806,
          -0.2905917132234972,
          1.0907162251266591,
          -0.943052216702706,
          -0.6358961634386422,
          0.8238944357128126,
          -1.6910025282864853,
          -0.5360314141734744,
          -0.2858234600755065,
          0.11739560318332833,
          1.3392357088416103,
          -0.12730657094197811,
          -0.355344981254377,
          -0.7888413181153048,
          0.010846103051945897,
          2.4643060780738653,
          0.2688894084296869,
          -0.6761623948082517,
          -0.46228423544452435,
          -0.06823119920909179,
          0.5507682072831712,
          -1.4092521832676117,
          0.11165070595437765,
          1.0816741381089106,
          0.00012294423731891224,
          1.6864532375657582,
          -0.21634623521220717,
          1.4069369181982865,
          0.14000154269529902,
          -1.056975185245624,
          -1.454774926494647,
          0.8077501687969396,
          -0.6826502496255977,
          0.6344953632035505,
          -0.15940212485395602,
          1.3448374706334436,
          0.5273274117487469,
          -0.5514095718479104,
          0.3176860475959556,
          -0.0325566071623441,
          -0.0673720916980821,
          0.9991691910935454,
          0.4772946025924812,
          0.9458312063212977,
          -1.1631663106908554,
          1.0876781943861205,
          -0.5592269267673681,
          -0.4905467928214895,
          -0.43363935487996075
         ],
         "yaxis": "y13"
        },
        {
         "line": {
          "color": "rgba(128, 128, 128, 1.0)",
          "dash": "solid",
          "shape": "linear",
          "width": 1.3
         },
         "marker": {
          "size": 2,
          "symbol": "circle"
         },
         "mode": "markers",
         "name": "D",
         "text": "",
         "type": "scatter",
         "x": [
          0.9051120349846424,
          1.1315731612883049,
          0.4889535391167449,
          -0.411827350510033,
          1.7437582525448498,
          0.8754875880381073,
          -1.612719409098891,
          1.2673782176917372,
          0.34610407515785685,
          -0.8734634626765565,
          0.5080615811518349,
          0.3786949114985083,
          0.8549394182735643,
          -1.1727436261908517,
          0.278079586528356,
          -2.086519140021561,
          0.9558921986334105,
          -2.1412044407561335,
          1.5908599450759613,
          -0.38037367059143695,
          -0.33823974441909016,
          0.5148757793898513,
          0.06431934032079333,
          -0.6192210839283654,
          0.6364993369072576,
          0.5238573577202742,
          2.5123333500021423,
          -0.7385360908208347,
          1.5357500979181817,
          1.5724495278522659,
          0.6633106187533743,
          0.1913510422791749,
          -0.9852937680279761,
          0.4866604508534319,
          -1.5691043539958625,
          -0.5457214474250892,
          -2.650467246676767,
          -0.4096399990779472,
          -0.44165613080647653,
          -1.6114045136155386,
          0.3372243946613703,
          0.09216459763101896,
          0.4408702411197516,
          1.026794643555709,
          -0.787067876624869,
          0.274085340958029,
          0.6432038230781414,
          0.11625200510070811,
          -0.11400215542141642,
          1.1678648365076898,
          0.6381872954128966,
          -0.10906986258298167,
          0.40314926362595793,
          -1.4061921229295076,
          -0.8949388605476665,
          -0.6797123989402232,
          0.681267680316777,
          -1.5973585952033058,
          0.9990493726980721,
          -0.9268111651857517,
          -0.7197683145996996,
          0.18706094517469868,
          -1.1137685782674145,
          -0.8981843019223013,
          -0.008022352656607114,
          -0.46902423130002263,
          -1.0663496382780207,
          1.2930554005359125,
          -0.12481695277229017,
          0.8763289665253956,
          -0.15234775564968409,
          0.7815603667800463,
          -0.3711497040527381,
          -0.735133518142438,
          1.0719608777778922,
          -1.8110615652327744,
          -0.21451545478894662,
          -1.0000693418566864,
          -1.2492276001592144,
          -0.46780364099239063,
          0.1472438174569735,
          0.26416988245785844,
          0.6659503106264842,
          1.4700345976857954,
          1.077675298771589,
          1.1078248664225065,
          -0.7199081897875417,
          0.6037307814365238,
          -1.2541232782328138,
          -0.4445705528975758,
          -0.5995953052364829,
          0.8703773020736415,
          1.240967816138145,
          -0.23458836833371494,
          1.3626315874217745,
          -0.34003054967360213,
          0.28031746369473,
          -0.6342169480234975,
          0.6748537839853154,
          -1.3964778756962182
         ],
         "xaxis": "x14",
         "y": [
          -0.14243188168373888,
          -1.0729907558568355,
          0.44733250377667716,
          -1.1897147775895982,
          1.092741516710888,
          -0.06091528550317952,
          0.10743674606032749,
          0.9042940695647604,
          0.5303819578975205,
          1.9992339800473369,
          0.6456010371124833,
          -0.7962804132728767,
          -0.5815192392519256,
          0.2597767876385269,
          -2.459883288053741,
          -0.4082992590619642,
          0.39686139282285504,
          -0.10328064655423272,
          -1.1573545857701342,
          -1.7466222324347853,
          -1.6081787740748272,
          0.042610628533974994,
          1.7131089103702466,
          -0.33970182084475636,
          -0.9583274897717958,
          0.8309717943957573,
          -1.8513065553096661,
          -0.43667935832435667,
          -1.3202801094129164,
          0.19412359694222966,
          0.3863753886878289,
          2.262504342957885,
          -1.1789996565844338,
          0.8610049877785335,
          0.35020646357557556,
          -0.4526706099620868,
          -1.4208827518870466,
          -2.0336415880196306,
          -0.6028790992919976,
          -0.6667505056960525,
          1.034085965991731,
          1.6862381136516247,
          0.9671590675760109,
          0.4687702824218409,
          -0.11354411524057219,
          1.7598471377692582,
          -0.3133961636622412,
          0.7968082245207883,
          -0.8123852383043507,
          -0.1815538188028146,
          -1.2010576577637924,
          0.623379003526806,
          -0.2905917132234972,
          1.0907162251266591,
          -0.943052216702706,
          -0.6358961634386422,
          0.8238944357128126,
          -1.6910025282864853,
          -0.5360314141734744,
          -0.2858234600755065,
          0.11739560318332833,
          1.3392357088416103,
          -0.12730657094197811,
          -0.355344981254377,
          -0.7888413181153048,
          0.010846103051945897,
          2.4643060780738653,
          0.2688894084296869,
          -0.6761623948082517,
          -0.46228423544452435,
          -0.06823119920909179,
          0.5507682072831712,
          -1.4092521832676117,
          0.11165070595437765,
          1.0816741381089106,
          0.00012294423731891224,
          1.6864532375657582,
          -0.21634623521220717,
          1.4069369181982865,
          0.14000154269529902,
          -1.056975185245624,
          -1.454774926494647,
          0.8077501687969396,
          -0.6826502496255977,
          0.6344953632035505,
          -0.15940212485395602,
          1.3448374706334436,
          0.5273274117487469,
          -0.5514095718479104,
          0.3176860475959556,
          -0.0325566071623441,
          -0.0673720916980821,
          0.9991691910935454,
          0.4772946025924812,
          0.9458312063212977,
          -1.1631663106908554,
          1.0876781943861205,
          -0.5592269267673681,
          -0.4905467928214895,
          -0.43363935487996075
         ],
         "yaxis": "y14"
        },
        {
         "line": {
          "color": "rgba(128, 128, 128, 1.0)",
          "dash": "solid",
          "shape": "linear",
          "width": 1.3
         },
         "marker": {
          "size": 2,
          "symbol": "circle"
         },
         "mode": "markers",
         "name": "D",
         "text": "",
         "type": "scatter",
         "x": [
          -0.444678500480317,
          0.0933498848400473,
          0.9355087974997555,
          -1.106441630487202,
          0.7870975629687152,
          0.21808060888783593,
          0.19245161375740785,
          0.058978349501044657,
          -0.8714541206370889,
          1.6723359190038503,
          -0.9521959925693669,
          0.25982368775406417,
          0.4329967486845554,
          0.9585187647681762,
          -1.79933573560346,
          2.2571466440543344,
          0.27242090370105326,
          -3.041426982646799,
          -0.7379674589948564,
          0.21321722437944604,
          0.3744406483158536,
          1.8794147199102167,
          0.5865594775587016,
          -0.3723330026710341,
          -0.21256708491681514,
          1.2175066431034185,
          0.9503232313646496,
          1.7526010217049393,
          -0.6255769714716065,
          -0.8150989477464166,
          0.1900069841307442,
          -0.6573140026719146,
          1.3123490852146837,
          -0.20521456260004223,
          -0.8280753332366754,
          -2.1789891770225105,
          -1.7227530897526353,
          1.2860266607255277,
          0.417423466170257,
          -1.408581550401666,
          -1.0147418694696868,
          1.0617865770644983,
          -2.1357693694007693,
          0.6316085302784928,
          1.0548351609959814,
          -1.821383374322361,
          1.1794682397233458,
          0.7800559142128144,
          1.5175952940754551,
          -0.20063016325093158,
          1.469109182383053,
          0.33064590666961946,
          -1.5329746111023028,
          1.4876464359770907,
          0.7368765553019965,
          0.2556196982451411,
          1.496074295060987,
          -0.25594776352614945,
          -1.0302066787914688,
          0.3771702792035409,
          1.5954550568745687,
          -1.8239541572520326,
          -0.6292071703871251,
          0.8569283151606543,
          0.19021096842866161,
          0.6607647699069801,
          -0.0016000980015075767,
          -0.6033609765671395,
          0.6926557249524916,
          0.13880646341418457,
          -1.3362928951925246,
          0.5040296861060063,
          2.5601117800980524,
          -0.983051918444861,
          -0.7450095718104365,
          -0.8245934015034929,
          -1.1246483229871902,
          -0.6547441335375387,
          -0.8088996560125555,
          -0.0966860051066942,
          -1.4863921450232944,
          0.18967390658638197,
          0.15908685829749233,
          -0.2691504733360306,
          -0.18560225336486053,
          0.1001975328112677,
          -0.4706507089738137,
          0.2368759547272725,
          0.6644170545061568,
          -0.11309520573149913,
          1.1829406966617049,
          -1.0833015314373051,
          -0.15088069839314402,
          -0.2652424034024619,
          0.8990779222502281,
          -0.030734197118241203,
          -0.46028230155709343,
          2.0393872169244824,
          0.3883702636590222,
          1.133687274935083
         ],
         "xaxis": "x15",
         "y": [
          -0.14243188168373888,
          -1.0729907558568355,
          0.44733250377667716,
          -1.1897147775895982,
          1.092741516710888,
          -0.06091528550317952,
          0.10743674606032749,
          0.9042940695647604,
          0.5303819578975205,
          1.9992339800473369,
          0.6456010371124833,
          -0.7962804132728767,
          -0.5815192392519256,
          0.2597767876385269,
          -2.459883288053741,
          -0.4082992590619642,
          0.39686139282285504,
          -0.10328064655423272,
          -1.1573545857701342,
          -1.7466222324347853,
          -1.6081787740748272,
          0.042610628533974994,
          1.7131089103702466,
          -0.33970182084475636,
          -0.9583274897717958,
          0.8309717943957573,
          -1.8513065553096661,
          -0.43667935832435667,
          -1.3202801094129164,
          0.19412359694222966,
          0.3863753886878289,
          2.262504342957885,
          -1.1789996565844338,
          0.8610049877785335,
          0.35020646357557556,
          -0.4526706099620868,
          -1.4208827518870466,
          -2.0336415880196306,
          -0.6028790992919976,
          -0.6667505056960525,
          1.034085965991731,
          1.6862381136516247,
          0.9671590675760109,
          0.4687702824218409,
          -0.11354411524057219,
          1.7598471377692582,
          -0.3133961636622412,
          0.7968082245207883,
          -0.8123852383043507,
          -0.1815538188028146,
          -1.2010576577637924,
          0.623379003526806,
          -0.2905917132234972,
          1.0907162251266591,
          -0.943052216702706,
          -0.6358961634386422,
          0.8238944357128126,
          -1.6910025282864853,
          -0.5360314141734744,
          -0.2858234600755065,
          0.11739560318332833,
          1.3392357088416103,
          -0.12730657094197811,
          -0.355344981254377,
          -0.7888413181153048,
          0.010846103051945897,
          2.4643060780738653,
          0.2688894084296869,
          -0.6761623948082517,
          -0.46228423544452435,
          -0.06823119920909179,
          0.5507682072831712,
          -1.4092521832676117,
          0.11165070595437765,
          1.0816741381089106,
          0.00012294423731891224,
          1.6864532375657582,
          -0.21634623521220717,
          1.4069369181982865,
          0.14000154269529902,
          -1.056975185245624,
          -1.454774926494647,
          0.8077501687969396,
          -0.6826502496255977,
          0.6344953632035505,
          -0.15940212485395602,
          1.3448374706334436,
          0.5273274117487469,
          -0.5514095718479104,
          0.3176860475959556,
          -0.0325566071623441,
          -0.0673720916980821,
          0.9991691910935454,
          0.4772946025924812,
          0.9458312063212977,
          -1.1631663106908554,
          1.0876781943861205,
          -0.5592269267673681,
          -0.4905467928214895,
          -0.43363935487996075
         ],
         "yaxis": "y15"
        },
        {
         "histfunc": "count",
         "histnorm": "",
         "marker": {
          "color": "rgba(128, 0, 128, 1.0)",
          "line": {
           "color": "#4D5663",
           "width": 1.3
          }
         },
         "name": "D",
         "nbinsx": 10,
         "opacity": 0.8,
         "orientation": "v",
         "type": "histogram",
         "x": [
          -0.14243188168373888,
          -1.0729907558568355,
          0.44733250377667716,
          -1.1897147775895982,
          1.092741516710888,
          -0.06091528550317952,
          0.10743674606032749,
          0.9042940695647604,
          0.5303819578975205,
          1.9992339800473369,
          0.6456010371124833,
          -0.7962804132728767,
          -0.5815192392519256,
          0.2597767876385269,
          -2.459883288053741,
          -0.4082992590619642,
          0.39686139282285504,
          -0.10328064655423272,
          -1.1573545857701342,
          -1.7466222324347853,
          -1.6081787740748272,
          0.042610628533974994,
          1.7131089103702466,
          -0.33970182084475636,
          -0.9583274897717958,
          0.8309717943957573,
          -1.8513065553096661,
          -0.43667935832435667,
          -1.3202801094129164,
          0.19412359694222966,
          0.3863753886878289,
          2.262504342957885,
          -1.1789996565844338,
          0.8610049877785335,
          0.35020646357557556,
          -0.4526706099620868,
          -1.4208827518870466,
          -2.0336415880196306,
          -0.6028790992919976,
          -0.6667505056960525,
          1.034085965991731,
          1.6862381136516247,
          0.9671590675760109,
          0.4687702824218409,
          -0.11354411524057219,
          1.7598471377692582,
          -0.3133961636622412,
          0.7968082245207883,
          -0.8123852383043507,
          -0.1815538188028146,
          -1.2010576577637924,
          0.623379003526806,
          -0.2905917132234972,
          1.0907162251266591,
          -0.943052216702706,
          -0.6358961634386422,
          0.8238944357128126,
          -1.6910025282864853,
          -0.5360314141734744,
          -0.2858234600755065,
          0.11739560318332833,
          1.3392357088416103,
          -0.12730657094197811,
          -0.355344981254377,
          -0.7888413181153048,
          0.010846103051945897,
          2.4643060780738653,
          0.2688894084296869,
          -0.6761623948082517,
          -0.46228423544452435,
          -0.06823119920909179,
          0.5507682072831712,
          -1.4092521832676117,
          0.11165070595437765,
          1.0816741381089106,
          0.00012294423731891224,
          1.6864532375657582,
          -0.21634623521220717,
          1.4069369181982865,
          0.14000154269529902,
          -1.056975185245624,
          -1.454774926494647,
          0.8077501687969396,
          -0.6826502496255977,
          0.6344953632035505,
          -0.15940212485395602,
          1.3448374706334436,
          0.5273274117487469,
          -0.5514095718479104,
          0.3176860475959556,
          -0.0325566071623441,
          -0.0673720916980821,
          0.9991691910935454,
          0.4772946025924812,
          0.9458312063212977,
          -1.1631663106908554,
          1.0876781943861205,
          -0.5592269267673681,
          -0.4905467928214895,
          -0.43363935487996075
         ],
         "xaxis": "x16",
         "yaxis": "y16"
        }
       ],
       "layout": {
        "bargap": 0.02,
        "legend": {
         "bgcolor": "#F5F6F9",
         "font": {
          "color": "#4D5663"
         }
        },
        "paper_bgcolor": "#F5F6F9",
        "plot_bgcolor": "#F5F6F9",
        "showlegend": false,
        "template": {
         "data": {
          "bar": [
           {
            "error_x": {
             "color": "#2a3f5f"
            },
            "error_y": {
             "color": "#2a3f5f"
            },
            "marker": {
             "line": {
              "color": "#E5ECF6",
              "width": 0.5
             }
            },
            "type": "bar"
           }
          ],
          "barpolar": [
           {
            "marker": {
             "line": {
              "color": "#E5ECF6",
              "width": 0.5
             }
            },
            "type": "barpolar"
           }
          ],
          "carpet": [
           {
            "aaxis": {
             "endlinecolor": "#2a3f5f",
             "gridcolor": "white",
             "linecolor": "white",
             "minorgridcolor": "white",
             "startlinecolor": "#2a3f5f"
            },
            "baxis": {
             "endlinecolor": "#2a3f5f",
             "gridcolor": "white",
             "linecolor": "white",
             "minorgridcolor": "white",
             "startlinecolor": "#2a3f5f"
            },
            "type": "carpet"
           }
          ],
          "choropleth": [
           {
            "colorbar": {
             "outlinewidth": 0,
             "ticks": ""
            },
            "type": "choropleth"
           }
          ],
          "contour": [
           {
            "colorbar": {
             "outlinewidth": 0,
             "ticks": ""
            },
            "colorscale": [
             [
              0,
              "#0d0887"
             ],
             [
              0.1111111111111111,
              "#46039f"
             ],
             [
              0.2222222222222222,
              "#7201a8"
             ],
             [
              0.3333333333333333,
              "#9c179e"
             ],
             [
              0.4444444444444444,
              "#bd3786"
             ],
             [
              0.5555555555555556,
              "#d8576b"
             ],
             [
              0.6666666666666666,
              "#ed7953"
             ],
             [
              0.7777777777777778,
              "#fb9f3a"
             ],
             [
              0.8888888888888888,
              "#fdca26"
             ],
             [
              1,
              "#f0f921"
             ]
            ],
            "type": "contour"
           }
          ],
          "contourcarpet": [
           {
            "colorbar": {
             "outlinewidth": 0,
             "ticks": ""
            },
            "type": "contourcarpet"
           }
          ],
          "heatmap": [
           {
            "colorbar": {
             "outlinewidth": 0,
             "ticks": ""
            },
            "colorscale": [
             [
              0,
              "#0d0887"
             ],
             [
              0.1111111111111111,
              "#46039f"
             ],
             [
              0.2222222222222222,
              "#7201a8"
             ],
             [
              0.3333333333333333,
              "#9c179e"
             ],
             [
              0.4444444444444444,
              "#bd3786"
             ],
             [
              0.5555555555555556,
              "#d8576b"
             ],
             [
              0.6666666666666666,
              "#ed7953"
             ],
             [
              0.7777777777777778,
              "#fb9f3a"
             ],
             [
              0.8888888888888888,
              "#fdca26"
             ],
             [
              1,
              "#f0f921"
             ]
            ],
            "type": "heatmap"
           }
          ],
          "heatmapgl": [
           {
            "colorbar": {
             "outlinewidth": 0,
             "ticks": ""
            },
            "colorscale": [
             [
              0,
              "#0d0887"
             ],
             [
              0.1111111111111111,
              "#46039f"
             ],
             [
              0.2222222222222222,
              "#7201a8"
             ],
             [
              0.3333333333333333,
              "#9c179e"
             ],
             [
              0.4444444444444444,
              "#bd3786"
             ],
             [
              0.5555555555555556,
              "#d8576b"
             ],
             [
              0.6666666666666666,
              "#ed7953"
             ],
             [
              0.7777777777777778,
              "#fb9f3a"
             ],
             [
              0.8888888888888888,
              "#fdca26"
             ],
             [
              1,
              "#f0f921"
             ]
            ],
            "type": "heatmapgl"
           }
          ],
          "histogram": [
           {
            "marker": {
             "colorbar": {
              "outlinewidth": 0,
              "ticks": ""
             }
            },
            "type": "histogram"
           }
          ],
          "histogram2d": [
           {
            "colorbar": {
             "outlinewidth": 0,
             "ticks": ""
            },
            "colorscale": [
             [
              0,
              "#0d0887"
             ],
             [
              0.1111111111111111,
              "#46039f"
             ],
             [
              0.2222222222222222,
              "#7201a8"
             ],
             [
              0.3333333333333333,
              "#9c179e"
             ],
             [
              0.4444444444444444,
              "#bd3786"
             ],
             [
              0.5555555555555556,
              "#d8576b"
             ],
             [
              0.6666666666666666,
              "#ed7953"
             ],
             [
              0.7777777777777778,
              "#fb9f3a"
             ],
             [
              0.8888888888888888,
              "#fdca26"
             ],
             [
              1,
              "#f0f921"
             ]
            ],
            "type": "histogram2d"
           }
          ],
          "histogram2dcontour": [
           {
            "colorbar": {
             "outlinewidth": 0,
             "ticks": ""
            },
            "colorscale": [
             [
              0,
              "#0d0887"
             ],
             [
              0.1111111111111111,
              "#46039f"
             ],
             [
              0.2222222222222222,
              "#7201a8"
             ],
             [
              0.3333333333333333,
              "#9c179e"
             ],
             [
              0.4444444444444444,
              "#bd3786"
             ],
             [
              0.5555555555555556,
              "#d8576b"
             ],
             [
              0.6666666666666666,
              "#ed7953"
             ],
             [
              0.7777777777777778,
              "#fb9f3a"
             ],
             [
              0.8888888888888888,
              "#fdca26"
             ],
             [
              1,
              "#f0f921"
             ]
            ],
            "type": "histogram2dcontour"
           }
          ],
          "mesh3d": [
           {
            "colorbar": {
             "outlinewidth": 0,
             "ticks": ""
            },
            "type": "mesh3d"
           }
          ],
          "parcoords": [
           {
            "line": {
             "colorbar": {
              "outlinewidth": 0,
              "ticks": ""
             }
            },
            "type": "parcoords"
           }
          ],
          "pie": [
           {
            "automargin": true,
            "type": "pie"
           }
          ],
          "scatter": [
           {
            "marker": {
             "colorbar": {
              "outlinewidth": 0,
              "ticks": ""
             }
            },
            "type": "scatter"
           }
          ],
          "scatter3d": [
           {
            "line": {
             "colorbar": {
              "outlinewidth": 0,
              "ticks": ""
             }
            },
            "marker": {
             "colorbar": {
              "outlinewidth": 0,
              "ticks": ""
             }
            },
            "type": "scatter3d"
           }
          ],
          "scattercarpet": [
           {
            "marker": {
             "colorbar": {
              "outlinewidth": 0,
              "ticks": ""
             }
            },
            "type": "scattercarpet"
           }
          ],
          "scattergeo": [
           {
            "marker": {
             "colorbar": {
              "outlinewidth": 0,
              "ticks": ""
             }
            },
            "type": "scattergeo"
           }
          ],
          "scattergl": [
           {
            "marker": {
             "colorbar": {
              "outlinewidth": 0,
              "ticks": ""
             }
            },
            "type": "scattergl"
           }
          ],
          "scattermapbox": [
           {
            "marker": {
             "colorbar": {
              "outlinewidth": 0,
              "ticks": ""
             }
            },
            "type": "scattermapbox"
           }
          ],
          "scatterpolar": [
           {
            "marker": {
             "colorbar": {
              "outlinewidth": 0,
              "ticks": ""
             }
            },
            "type": "scatterpolar"
           }
          ],
          "scatterpolargl": [
           {
            "marker": {
             "colorbar": {
              "outlinewidth": 0,
              "ticks": ""
             }
            },
            "type": "scatterpolargl"
           }
          ],
          "scatterternary": [
           {
            "marker": {
             "colorbar": {
              "outlinewidth": 0,
              "ticks": ""
             }
            },
            "type": "scatterternary"
           }
          ],
          "surface": [
           {
            "colorbar": {
             "outlinewidth": 0,
             "ticks": ""
            },
            "colorscale": [
             [
              0,
              "#0d0887"
             ],
             [
              0.1111111111111111,
              "#46039f"
             ],
             [
              0.2222222222222222,
              "#7201a8"
             ],
             [
              0.3333333333333333,
              "#9c179e"
             ],
             [
              0.4444444444444444,
              "#bd3786"
             ],
             [
              0.5555555555555556,
              "#d8576b"
             ],
             [
              0.6666666666666666,
              "#ed7953"
             ],
             [
              0.7777777777777778,
              "#fb9f3a"
             ],
             [
              0.8888888888888888,
              "#fdca26"
             ],
             [
              1,
              "#f0f921"
             ]
            ],
            "type": "surface"
           }
          ],
          "table": [
           {
            "cells": {
             "fill": {
              "color": "#EBF0F8"
             },
             "line": {
              "color": "white"
             }
            },
            "header": {
             "fill": {
              "color": "#C8D4E3"
             },
             "line": {
              "color": "white"
             }
            },
            "type": "table"
           }
          ]
         },
         "layout": {
          "annotationdefaults": {
           "arrowcolor": "#2a3f5f",
           "arrowhead": 0,
           "arrowwidth": 1
          },
          "coloraxis": {
           "colorbar": {
            "outlinewidth": 0,
            "ticks": ""
           }
          },
          "colorscale": {
           "diverging": [
            [
             0,
             "#8e0152"
            ],
            [
             0.1,
             "#c51b7d"
            ],
            [
             0.2,
             "#de77ae"
            ],
            [
             0.3,
             "#f1b6da"
            ],
            [
             0.4,
             "#fde0ef"
            ],
            [
             0.5,
             "#f7f7f7"
            ],
            [
             0.6,
             "#e6f5d0"
            ],
            [
             0.7,
             "#b8e186"
            ],
            [
             0.8,
             "#7fbc41"
            ],
            [
             0.9,
             "#4d9221"
            ],
            [
             1,
             "#276419"
            ]
           ],
           "sequential": [
            [
             0,
             "#0d0887"
            ],
            [
             0.1111111111111111,
             "#46039f"
            ],
            [
             0.2222222222222222,
             "#7201a8"
            ],
            [
             0.3333333333333333,
             "#9c179e"
            ],
            [
             0.4444444444444444,
             "#bd3786"
            ],
            [
             0.5555555555555556,
             "#d8576b"
            ],
            [
             0.6666666666666666,
             "#ed7953"
            ],
            [
             0.7777777777777778,
             "#fb9f3a"
            ],
            [
             0.8888888888888888,
             "#fdca26"
            ],
            [
             1,
             "#f0f921"
            ]
           ],
           "sequentialminus": [
            [
             0,
             "#0d0887"
            ],
            [
             0.1111111111111111,
             "#46039f"
            ],
            [
             0.2222222222222222,
             "#7201a8"
            ],
            [
             0.3333333333333333,
             "#9c179e"
            ],
            [
             0.4444444444444444,
             "#bd3786"
            ],
            [
             0.5555555555555556,
             "#d8576b"
            ],
            [
             0.6666666666666666,
             "#ed7953"
            ],
            [
             0.7777777777777778,
             "#fb9f3a"
            ],
            [
             0.8888888888888888,
             "#fdca26"
            ],
            [
             1,
             "#f0f921"
            ]
           ]
          },
          "colorway": [
           "#636efa",
           "#EF553B",
           "#00cc96",
           "#ab63fa",
           "#FFA15A",
           "#19d3f3",
           "#FF6692",
           "#B6E880",
           "#FF97FF",
           "#FECB52"
          ],
          "font": {
           "color": "#2a3f5f"
          },
          "geo": {
           "bgcolor": "white",
           "lakecolor": "white",
           "landcolor": "#E5ECF6",
           "showlakes": true,
           "showland": true,
           "subunitcolor": "white"
          },
          "hoverlabel": {
           "align": "left"
          },
          "hovermode": "closest",
          "mapbox": {
           "style": "light"
          },
          "paper_bgcolor": "white",
          "plot_bgcolor": "#E5ECF6",
          "polar": {
           "angularaxis": {
            "gridcolor": "white",
            "linecolor": "white",
            "ticks": ""
           },
           "bgcolor": "#E5ECF6",
           "radialaxis": {
            "gridcolor": "white",
            "linecolor": "white",
            "ticks": ""
           }
          },
          "scene": {
           "xaxis": {
            "backgroundcolor": "#E5ECF6",
            "gridcolor": "white",
            "gridwidth": 2,
            "linecolor": "white",
            "showbackground": true,
            "ticks": "",
            "zerolinecolor": "white"
           },
           "yaxis": {
            "backgroundcolor": "#E5ECF6",
            "gridcolor": "white",
            "gridwidth": 2,
            "linecolor": "white",
            "showbackground": true,
            "ticks": "",
            "zerolinecolor": "white"
           },
           "zaxis": {
            "backgroundcolor": "#E5ECF6",
            "gridcolor": "white",
            "gridwidth": 2,
            "linecolor": "white",
            "showbackground": true,
            "ticks": "",
            "zerolinecolor": "white"
           }
          },
          "shapedefaults": {
           "line": {
            "color": "#2a3f5f"
           }
          },
          "ternary": {
           "aaxis": {
            "gridcolor": "white",
            "linecolor": "white",
            "ticks": ""
           },
           "baxis": {
            "gridcolor": "white",
            "linecolor": "white",
            "ticks": ""
           },
           "bgcolor": "#E5ECF6",
           "caxis": {
            "gridcolor": "white",
            "linecolor": "white",
            "ticks": ""
           }
          },
          "title": {
           "x": 0.05
          },
          "xaxis": {
           "automargin": true,
           "gridcolor": "white",
           "linecolor": "white",
           "ticks": "",
           "title": {
            "standoff": 15
           },
           "zerolinecolor": "white",
           "zerolinewidth": 2
          },
          "yaxis": {
           "automargin": true,
           "gridcolor": "white",
           "linecolor": "white",
           "ticks": "",
           "title": {
            "standoff": 15
           },
           "zerolinecolor": "white",
           "zerolinewidth": 2
          }
         }
        },
        "title": {
         "font": {
          "color": "#4D5663"
         }
        },
        "xaxis": {
         "anchor": "y",
         "domain": [
          0,
          0.2125
         ],
         "gridcolor": "#E1E5ED",
         "showgrid": false,
         "tickfont": {
          "color": "#4D5663"
         },
         "title": {
          "font": {
           "color": "#4D5663"
          },
          "text": ""
         },
         "zerolinecolor": "#E1E5ED"
        },
        "xaxis10": {
         "anchor": "y10",
         "domain": [
          0.2625,
          0.475
         ],
         "gridcolor": "#E1E5ED",
         "showgrid": false,
         "tickfont": {
          "color": "#4D5663"
         },
         "title": {
          "font": {
           "color": "#4D5663"
          },
          "text": ""
         },
         "zerolinecolor": "#E1E5ED"
        },
        "xaxis11": {
         "anchor": "y11",
         "domain": [
          0.525,
          0.7375
         ],
         "gridcolor": "#E1E5ED",
         "showgrid": false,
         "tickfont": {
          "color": "#4D5663"
         },
         "title": {
          "font": {
           "color": "#4D5663"
          },
          "text": ""
         },
         "zerolinecolor": "#E1E5ED"
        },
        "xaxis12": {
         "anchor": "y12",
         "domain": [
          0.7875,
          1
         ],
         "gridcolor": "#E1E5ED",
         "showgrid": false,
         "tickfont": {
          "color": "#4D5663"
         },
         "title": {
          "font": {
           "color": "#4D5663"
          },
          "text": ""
         },
         "zerolinecolor": "#E1E5ED"
        },
        "xaxis13": {
         "anchor": "y13",
         "domain": [
          0,
          0.2125
         ],
         "gridcolor": "#E1E5ED",
         "showgrid": false,
         "tickfont": {
          "color": "#4D5663"
         },
         "title": {
          "font": {
           "color": "#4D5663"
          },
          "text": ""
         },
         "zerolinecolor": "#E1E5ED"
        },
        "xaxis14": {
         "anchor": "y14",
         "domain": [
          0.2625,
          0.475
         ],
         "gridcolor": "#E1E5ED",
         "showgrid": false,
         "tickfont": {
          "color": "#4D5663"
         },
         "title": {
          "font": {
           "color": "#4D5663"
          },
          "text": ""
         },
         "zerolinecolor": "#E1E5ED"
        },
        "xaxis15": {
         "anchor": "y15",
         "domain": [
          0.525,
          0.7375
         ],
         "gridcolor": "#E1E5ED",
         "showgrid": false,
         "tickfont": {
          "color": "#4D5663"
         },
         "title": {
          "font": {
           "color": "#4D5663"
          },
          "text": ""
         },
         "zerolinecolor": "#E1E5ED"
        },
        "xaxis16": {
         "anchor": "y16",
         "domain": [
          0.7875,
          1
         ],
         "gridcolor": "#E1E5ED",
         "showgrid": false,
         "tickfont": {
          "color": "#4D5663"
         },
         "title": {
          "font": {
           "color": "#4D5663"
          },
          "text": ""
         },
         "zerolinecolor": "#E1E5ED"
        },
        "xaxis2": {
         "anchor": "y2",
         "domain": [
          0.2625,
          0.475
         ],
         "gridcolor": "#E1E5ED",
         "showgrid": false,
         "tickfont": {
          "color": "#4D5663"
         },
         "title": {
          "font": {
           "color": "#4D5663"
          },
          "text": ""
         },
         "zerolinecolor": "#E1E5ED"
        },
        "xaxis3": {
         "anchor": "y3",
         "domain": [
          0.525,
          0.7375
         ],
         "gridcolor": "#E1E5ED",
         "showgrid": false,
         "tickfont": {
          "color": "#4D5663"
         },
         "title": {
          "font": {
           "color": "#4D5663"
          },
          "text": ""
         },
         "zerolinecolor": "#E1E5ED"
        },
        "xaxis4": {
         "anchor": "y4",
         "domain": [
          0.7875,
          1
         ],
         "gridcolor": "#E1E5ED",
         "showgrid": false,
         "tickfont": {
          "color": "#4D5663"
         },
         "title": {
          "font": {
           "color": "#4D5663"
          },
          "text": ""
         },
         "zerolinecolor": "#E1E5ED"
        },
        "xaxis5": {
         "anchor": "y5",
         "domain": [
          0,
          0.2125
         ],
         "gridcolor": "#E1E5ED",
         "showgrid": false,
         "tickfont": {
          "color": "#4D5663"
         },
         "title": {
          "font": {
           "color": "#4D5663"
          },
          "text": ""
         },
         "zerolinecolor": "#E1E5ED"
        },
        "xaxis6": {
         "anchor": "y6",
         "domain": [
          0.2625,
          0.475
         ],
         "gridcolor": "#E1E5ED",
         "showgrid": false,
         "tickfont": {
          "color": "#4D5663"
         },
         "title": {
          "font": {
           "color": "#4D5663"
          },
          "text": ""
         },
         "zerolinecolor": "#E1E5ED"
        },
        "xaxis7": {
         "anchor": "y7",
         "domain": [
          0.525,
          0.7375
         ],
         "gridcolor": "#E1E5ED",
         "showgrid": false,
         "tickfont": {
          "color": "#4D5663"
         },
         "title": {
          "font": {
           "color": "#4D5663"
          },
          "text": ""
         },
         "zerolinecolor": "#E1E5ED"
        },
        "xaxis8": {
         "anchor": "y8",
         "domain": [
          0.7875,
          1
         ],
         "gridcolor": "#E1E5ED",
         "showgrid": false,
         "tickfont": {
          "color": "#4D5663"
         },
         "title": {
          "font": {
           "color": "#4D5663"
          },
          "text": ""
         },
         "zerolinecolor": "#E1E5ED"
        },
        "xaxis9": {
         "anchor": "y9",
         "domain": [
          0,
          0.2125
         ],
         "gridcolor": "#E1E5ED",
         "showgrid": false,
         "tickfont": {
          "color": "#4D5663"
         },
         "title": {
          "font": {
           "color": "#4D5663"
          },
          "text": ""
         },
         "zerolinecolor": "#E1E5ED"
        },
        "yaxis": {
         "anchor": "x",
         "domain": [
          0.8025,
          1
         ],
         "gridcolor": "#E1E5ED",
         "showgrid": false,
         "tickfont": {
          "color": "#4D5663"
         },
         "title": {
          "font": {
           "color": "#4D5663"
          },
          "text": ""
         },
         "zerolinecolor": "#E1E5ED"
        },
        "yaxis10": {
         "anchor": "x10",
         "domain": [
          0.2675,
          0.465
         ],
         "gridcolor": "#E1E5ED",
         "showgrid": false,
         "tickfont": {
          "color": "#4D5663"
         },
         "title": {
          "font": {
           "color": "#4D5663"
          },
          "text": ""
         },
         "zerolinecolor": "#E1E5ED"
        },
        "yaxis11": {
         "anchor": "x11",
         "domain": [
          0.2675,
          0.465
         ],
         "gridcolor": "#E1E5ED",
         "showgrid": false,
         "tickfont": {
          "color": "#4D5663"
         },
         "title": {
          "font": {
           "color": "#4D5663"
          },
          "text": ""
         },
         "zerolinecolor": "#E1E5ED"
        },
        "yaxis12": {
         "anchor": "x12",
         "domain": [
          0.2675,
          0.465
         ],
         "gridcolor": "#E1E5ED",
         "showgrid": false,
         "tickfont": {
          "color": "#4D5663"
         },
         "title": {
          "font": {
           "color": "#4D5663"
          },
          "text": ""
         },
         "zerolinecolor": "#E1E5ED"
        },
        "yaxis13": {
         "anchor": "x13",
         "domain": [
          0,
          0.1975
         ],
         "gridcolor": "#E1E5ED",
         "showgrid": false,
         "tickfont": {
          "color": "#4D5663"
         },
         "title": {
          "font": {
           "color": "#4D5663"
          },
          "text": ""
         },
         "zerolinecolor": "#E1E5ED"
        },
        "yaxis14": {
         "anchor": "x14",
         "domain": [
          0,
          0.1975
         ],
         "gridcolor": "#E1E5ED",
         "showgrid": false,
         "tickfont": {
          "color": "#4D5663"
         },
         "title": {
          "font": {
           "color": "#4D5663"
          },
          "text": ""
         },
         "zerolinecolor": "#E1E5ED"
        },
        "yaxis15": {
         "anchor": "x15",
         "domain": [
          0,
          0.1975
         ],
         "gridcolor": "#E1E5ED",
         "showgrid": false,
         "tickfont": {
          "color": "#4D5663"
         },
         "title": {
          "font": {
           "color": "#4D5663"
          },
          "text": ""
         },
         "zerolinecolor": "#E1E5ED"
        },
        "yaxis16": {
         "anchor": "x16",
         "domain": [
          0,
          0.1975
         ],
         "gridcolor": "#E1E5ED",
         "showgrid": false,
         "tickfont": {
          "color": "#4D5663"
         },
         "title": {
          "font": {
           "color": "#4D5663"
          },
          "text": ""
         },
         "zerolinecolor": "#E1E5ED"
        },
        "yaxis2": {
         "anchor": "x2",
         "domain": [
          0.8025,
          1
         ],
         "gridcolor": "#E1E5ED",
         "showgrid": false,
         "tickfont": {
          "color": "#4D5663"
         },
         "title": {
          "font": {
           "color": "#4D5663"
          },
          "text": ""
         },
         "zerolinecolor": "#E1E5ED"
        },
        "yaxis3": {
         "anchor": "x3",
         "domain": [
          0.8025,
          1
         ],
         "gridcolor": "#E1E5ED",
         "showgrid": false,
         "tickfont": {
          "color": "#4D5663"
         },
         "title": {
          "font": {
           "color": "#4D5663"
          },
          "text": ""
         },
         "zerolinecolor": "#E1E5ED"
        },
        "yaxis4": {
         "anchor": "x4",
         "domain": [
          0.8025,
          1
         ],
         "gridcolor": "#E1E5ED",
         "showgrid": false,
         "tickfont": {
          "color": "#4D5663"
         },
         "title": {
          "font": {
           "color": "#4D5663"
          },
          "text": ""
         },
         "zerolinecolor": "#E1E5ED"
        },
        "yaxis5": {
         "anchor": "x5",
         "domain": [
          0.535,
          0.7325
         ],
         "gridcolor": "#E1E5ED",
         "showgrid": false,
         "tickfont": {
          "color": "#4D5663"
         },
         "title": {
          "font": {
           "color": "#4D5663"
          },
          "text": ""
         },
         "zerolinecolor": "#E1E5ED"
        },
        "yaxis6": {
         "anchor": "x6",
         "domain": [
          0.535,
          0.7325
         ],
         "gridcolor": "#E1E5ED",
         "showgrid": false,
         "tickfont": {
          "color": "#4D5663"
         },
         "title": {
          "font": {
           "color": "#4D5663"
          },
          "text": ""
         },
         "zerolinecolor": "#E1E5ED"
        },
        "yaxis7": {
         "anchor": "x7",
         "domain": [
          0.535,
          0.7325
         ],
         "gridcolor": "#E1E5ED",
         "showgrid": false,
         "tickfont": {
          "color": "#4D5663"
         },
         "title": {
          "font": {
           "color": "#4D5663"
          },
          "text": ""
         },
         "zerolinecolor": "#E1E5ED"
        },
        "yaxis8": {
         "anchor": "x8",
         "domain": [
          0.535,
          0.7325
         ],
         "gridcolor": "#E1E5ED",
         "showgrid": false,
         "tickfont": {
          "color": "#4D5663"
         },
         "title": {
          "font": {
           "color": "#4D5663"
          },
          "text": ""
         },
         "zerolinecolor": "#E1E5ED"
        },
        "yaxis9": {
         "anchor": "x9",
         "domain": [
          0.2675,
          0.465
         ],
         "gridcolor": "#E1E5ED",
         "showgrid": false,
         "tickfont": {
          "color": "#4D5663"
         },
         "title": {
          "font": {
           "color": "#4D5663"
          },
          "text": ""
         },
         "zerolinecolor": "#E1E5ED"
        }
       }
      },
      "text/html": [
       "<div>\n",
       "        \n",
       "        \n",
       "            <div id=\"6d8d6c76-0435-4bea-a067-daffc8808eac\" class=\"plotly-graph-div\" style=\"height:525px; width:100%;\"></div>\n",
       "            <script type=\"text/javascript\">\n",
       "                require([\"plotly\"], function(Plotly) {\n",
       "                    window.PLOTLYENV=window.PLOTLYENV || {};\n",
       "                    window.PLOTLYENV.BASE_URL='https://plot.ly';\n",
       "                    \n",
       "                if (document.getElementById(\"6d8d6c76-0435-4bea-a067-daffc8808eac\")) {\n",
       "                    Plotly.newPlot(\n",
       "                        '6d8d6c76-0435-4bea-a067-daffc8808eac',\n",
       "                        [{\"histfunc\": \"count\", \"histnorm\": \"\", \"marker\": {\"color\": \"rgba(255, 153, 51, 1.0)\", \"line\": {\"color\": \"#4D5663\", \"width\": 1.3}}, \"name\": \"A\", \"nbinsx\": 10, \"opacity\": 0.8, \"orientation\": \"v\", \"type\": \"histogram\", \"x\": [-0.7583625624564826, -1.3608135229511027, -0.4479688305343663, 0.25774244428547427, -1.6375797293120589, -1.0464472057363499, 1.407325001211225, 0.276515190255223, -0.07316231716756455, 2.379354983246018, 1.4416105167771618, -2.000675616366275, 0.599410615388733, -1.178157640116541, 0.8361646635083623, 1.4209061515389503, -1.3772200926778893, -1.5330137697628772, 0.8434488796566412, -0.44264142554813973, 0.7729395311461773, -1.186536053062794, 1.0672315844310665, -0.1786475895640133, -1.6899719904233519, 0.8146648919282323, -2.541055625678114, 0.8784841697785496, 0.32813550809478664, 1.3136723060501312, 0.5798422821158166, -0.15028112198881133, -0.39350857873322376, 1.8687332552959848, 1.4996776154237408, -2.5978587935254813, -0.08418728423004833, -1.7130754548765064, -0.34219415505953205, 1.2976144427300302, 0.7997008822259573, -1.9145673952331954, 0.32403830118956695, 0.9669468742916221, -0.3954521090418044, -0.5156640132664189, 0.6325874104204111, -0.7730210344534597, -1.0278926686068846, -0.8064923341963592, -0.5283860770954497, 0.05805052625083211, -0.5341935453073812, -0.6306038151611613, 0.19618964614138615, -0.567501753503357, 1.3116043337251144, 1.0625570541938478, 0.1630190918246739, -0.17520577021292585, -0.7448259321076729, -0.06589108782314983, 1.2263868994742944, 0.9973104846473738, -0.8586695931733282, 0.4007921932156928, 0.6476480167091756, 0.5806680435925301, 0.41667800079466144, 0.18080111431959658, -0.6549009506176735, -1.5624811820852393, -1.9034379481414605, 1.2036040733411644, 1.5416853504730623, 0.644723358337419, 0.5148614190703861, -1.9213061654349335, 0.35505322896128755, 0.8491838985035705, -1.0502790566937863, 0.013051058769516184, 1.6146659697158963, -1.0749070393039928, -0.6616722006760997, -0.3743145259476359, -2.4924831145939095, -0.16545246379299003, 2.1703012992627992, -1.2602863121320913, -0.7676530026819841, 0.0843467501757799, -0.2807271956647446, 0.4241491799250738, 1.2569983568147862, 0.33073957061440273, -0.21585240846311052, 1.4033361423654584, 0.12416679561973377, 0.45414894890427215], \"xaxis\": \"x\", \"yaxis\": \"y\"}, {\"line\": {\"color\": \"rgba(128, 128, 128, 1.0)\", \"dash\": \"solid\", \"shape\": \"linear\", \"width\": 1.3}, \"marker\": {\"size\": 2, \"symbol\": \"circle\"}, \"mode\": \"markers\", \"name\": \"A\", \"text\": \"\", \"type\": \"scatter\", \"x\": [0.9051120349846424, 1.1315731612883049, 0.4889535391167449, -0.411827350510033, 1.7437582525448498, 0.8754875880381073, -1.612719409098891, 1.2673782176917372, 0.34610407515785685, -0.8734634626765565, 0.5080615811518349, 0.3786949114985083, 0.8549394182735643, -1.1727436261908517, 0.278079586528356, -2.086519140021561, 0.9558921986334105, -2.1412044407561335, 1.5908599450759613, -0.38037367059143695, -0.33823974441909016, 0.5148757793898513, 0.06431934032079333, -0.6192210839283654, 0.6364993369072576, 0.5238573577202742, 2.5123333500021423, -0.7385360908208347, 1.5357500979181817, 1.5724495278522659, 0.6633106187533743, 0.1913510422791749, -0.9852937680279761, 0.4866604508534319, -1.5691043539958625, -0.5457214474250892, -2.650467246676767, -0.4096399990779472, -0.44165613080647653, -1.6114045136155386, 0.3372243946613703, 0.09216459763101896, 0.4408702411197516, 1.026794643555709, -0.787067876624869, 0.274085340958029, 0.6432038230781414, 0.11625200510070811, -0.11400215542141642, 1.1678648365076898, 0.6381872954128966, -0.10906986258298167, 0.40314926362595793, -1.4061921229295076, -0.8949388605476665, -0.6797123989402232, 0.681267680316777, -1.5973585952033058, 0.9990493726980721, -0.9268111651857517, -0.7197683145996996, 0.18706094517469868, -1.1137685782674145, -0.8981843019223013, -0.008022352656607114, -0.46902423130002263, -1.0663496382780207, 1.2930554005359125, -0.12481695277229017, 0.8763289665253956, -0.15234775564968409, 0.7815603667800463, -0.3711497040527381, -0.735133518142438, 1.0719608777778922, -1.8110615652327744, -0.21451545478894662, -1.0000693418566864, -1.2492276001592144, -0.46780364099239063, 0.1472438174569735, 0.26416988245785844, 0.6659503106264842, 1.4700345976857954, 1.077675298771589, 1.1078248664225065, -0.7199081897875417, 0.6037307814365238, -1.2541232782328138, -0.4445705528975758, -0.5995953052364829, 0.8703773020736415, 1.240967816138145, -0.23458836833371494, 1.3626315874217745, -0.34003054967360213, 0.28031746369473, -0.6342169480234975, 0.6748537839853154, -1.3964778756962182], \"xaxis\": \"x2\", \"y\": [-0.7583625624564826, -1.3608135229511027, -0.4479688305343663, 0.25774244428547427, -1.6375797293120589, -1.0464472057363499, 1.407325001211225, 0.276515190255223, -0.07316231716756455, 2.379354983246018, 1.4416105167771618, -2.000675616366275, 0.599410615388733, -1.178157640116541, 0.8361646635083623, 1.4209061515389503, -1.3772200926778893, -1.5330137697628772, 0.8434488796566412, -0.44264142554813973, 0.7729395311461773, -1.186536053062794, 1.0672315844310665, -0.1786475895640133, -1.6899719904233519, 0.8146648919282323, -2.541055625678114, 0.8784841697785496, 0.32813550809478664, 1.3136723060501312, 0.5798422821158166, -0.15028112198881133, -0.39350857873322376, 1.8687332552959848, 1.4996776154237408, -2.5978587935254813, -0.08418728423004833, -1.7130754548765064, -0.34219415505953205, 1.2976144427300302, 0.7997008822259573, -1.9145673952331954, 0.32403830118956695, 0.9669468742916221, -0.3954521090418044, -0.5156640132664189, 0.6325874104204111, -0.7730210344534597, -1.0278926686068846, -0.8064923341963592, -0.5283860770954497, 0.05805052625083211, -0.5341935453073812, -0.6306038151611613, 0.19618964614138615, -0.567501753503357, 1.3116043337251144, 1.0625570541938478, 0.1630190918246739, -0.17520577021292585, -0.7448259321076729, -0.06589108782314983, 1.2263868994742944, 0.9973104846473738, -0.8586695931733282, 0.4007921932156928, 0.6476480167091756, 0.5806680435925301, 0.41667800079466144, 0.18080111431959658, -0.6549009506176735, -1.5624811820852393, -1.9034379481414605, 1.2036040733411644, 1.5416853504730623, 0.644723358337419, 0.5148614190703861, -1.9213061654349335, 0.35505322896128755, 0.8491838985035705, -1.0502790566937863, 0.013051058769516184, 1.6146659697158963, -1.0749070393039928, -0.6616722006760997, -0.3743145259476359, -2.4924831145939095, -0.16545246379299003, 2.1703012992627992, -1.2602863121320913, -0.7676530026819841, 0.0843467501757799, -0.2807271956647446, 0.4241491799250738, 1.2569983568147862, 0.33073957061440273, -0.21585240846311052, 1.4033361423654584, 0.12416679561973377, 0.45414894890427215], \"yaxis\": \"y2\"}, {\"line\": {\"color\": \"rgba(128, 128, 128, 1.0)\", \"dash\": \"solid\", \"shape\": \"linear\", \"width\": 1.3}, \"marker\": {\"size\": 2, \"symbol\": \"circle\"}, \"mode\": \"markers\", \"name\": \"A\", \"text\": \"\", \"type\": \"scatter\", \"x\": [-0.444678500480317, 0.0933498848400473, 0.9355087974997555, -1.106441630487202, 0.7870975629687152, 0.21808060888783593, 0.19245161375740785, 0.058978349501044657, -0.8714541206370889, 1.6723359190038503, -0.9521959925693669, 0.25982368775406417, 0.4329967486845554, 0.9585187647681762, -1.79933573560346, 2.2571466440543344, 0.27242090370105326, -3.041426982646799, -0.7379674589948564, 0.21321722437944604, 0.3744406483158536, 1.8794147199102167, 0.5865594775587016, -0.3723330026710341, -0.21256708491681514, 1.2175066431034185, 0.9503232313646496, 1.7526010217049393, -0.6255769714716065, -0.8150989477464166, 0.1900069841307442, -0.6573140026719146, 1.3123490852146837, -0.20521456260004223, -0.8280753332366754, -2.1789891770225105, -1.7227530897526353, 1.2860266607255277, 0.417423466170257, -1.408581550401666, -1.0147418694696868, 1.0617865770644983, -2.1357693694007693, 0.6316085302784928, 1.0548351609959814, -1.821383374322361, 1.1794682397233458, 0.7800559142128144, 1.5175952940754551, -0.20063016325093158, 1.469109182383053, 0.33064590666961946, -1.5329746111023028, 1.4876464359770907, 0.7368765553019965, 0.2556196982451411, 1.496074295060987, -0.25594776352614945, -1.0302066787914688, 0.3771702792035409, 1.5954550568745687, -1.8239541572520326, -0.6292071703871251, 0.8569283151606543, 0.19021096842866161, 0.6607647699069801, -0.0016000980015075767, -0.6033609765671395, 0.6926557249524916, 0.13880646341418457, -1.3362928951925246, 0.5040296861060063, 2.5601117800980524, -0.983051918444861, -0.7450095718104365, -0.8245934015034929, -1.1246483229871902, -0.6547441335375387, -0.8088996560125555, -0.0966860051066942, -1.4863921450232944, 0.18967390658638197, 0.15908685829749233, -0.2691504733360306, -0.18560225336486053, 0.1001975328112677, -0.4706507089738137, 0.2368759547272725, 0.6644170545061568, -0.11309520573149913, 1.1829406966617049, -1.0833015314373051, -0.15088069839314402, -0.2652424034024619, 0.8990779222502281, -0.030734197118241203, -0.46028230155709343, 2.0393872169244824, 0.3883702636590222, 1.133687274935083], \"xaxis\": \"x3\", \"y\": [-0.7583625624564826, -1.3608135229511027, -0.4479688305343663, 0.25774244428547427, -1.6375797293120589, -1.0464472057363499, 1.407325001211225, 0.276515190255223, -0.07316231716756455, 2.379354983246018, 1.4416105167771618, -2.000675616366275, 0.599410615388733, -1.178157640116541, 0.8361646635083623, 1.4209061515389503, -1.3772200926778893, -1.5330137697628772, 0.8434488796566412, -0.44264142554813973, 0.7729395311461773, -1.186536053062794, 1.0672315844310665, -0.1786475895640133, -1.6899719904233519, 0.8146648919282323, -2.541055625678114, 0.8784841697785496, 0.32813550809478664, 1.3136723060501312, 0.5798422821158166, -0.15028112198881133, -0.39350857873322376, 1.8687332552959848, 1.4996776154237408, -2.5978587935254813, -0.08418728423004833, -1.7130754548765064, -0.34219415505953205, 1.2976144427300302, 0.7997008822259573, -1.9145673952331954, 0.32403830118956695, 0.9669468742916221, -0.3954521090418044, -0.5156640132664189, 0.6325874104204111, -0.7730210344534597, -1.0278926686068846, -0.8064923341963592, -0.5283860770954497, 0.05805052625083211, -0.5341935453073812, -0.6306038151611613, 0.19618964614138615, -0.567501753503357, 1.3116043337251144, 1.0625570541938478, 0.1630190918246739, -0.17520577021292585, -0.7448259321076729, -0.06589108782314983, 1.2263868994742944, 0.9973104846473738, -0.8586695931733282, 0.4007921932156928, 0.6476480167091756, 0.5806680435925301, 0.41667800079466144, 0.18080111431959658, -0.6549009506176735, -1.5624811820852393, -1.9034379481414605, 1.2036040733411644, 1.5416853504730623, 0.644723358337419, 0.5148614190703861, -1.9213061654349335, 0.35505322896128755, 0.8491838985035705, -1.0502790566937863, 0.013051058769516184, 1.6146659697158963, -1.0749070393039928, -0.6616722006760997, -0.3743145259476359, -2.4924831145939095, -0.16545246379299003, 2.1703012992627992, -1.2602863121320913, -0.7676530026819841, 0.0843467501757799, -0.2807271956647446, 0.4241491799250738, 1.2569983568147862, 0.33073957061440273, -0.21585240846311052, 1.4033361423654584, 0.12416679561973377, 0.45414894890427215], \"yaxis\": \"y3\"}, {\"line\": {\"color\": \"rgba(128, 128, 128, 1.0)\", \"dash\": \"solid\", \"shape\": \"linear\", \"width\": 1.3}, \"marker\": {\"size\": 2, \"symbol\": \"circle\"}, \"mode\": \"markers\", \"name\": \"A\", \"text\": \"\", \"type\": \"scatter\", \"x\": [-0.14243188168373888, -1.0729907558568355, 0.44733250377667716, -1.1897147775895982, 1.092741516710888, -0.06091528550317952, 0.10743674606032749, 0.9042940695647604, 0.5303819578975205, 1.9992339800473369, 0.6456010371124833, -0.7962804132728767, -0.5815192392519256, 0.2597767876385269, -2.459883288053741, -0.4082992590619642, 0.39686139282285504, -0.10328064655423272, -1.1573545857701342, -1.7466222324347853, -1.6081787740748272, 0.042610628533974994, 1.7131089103702466, -0.33970182084475636, -0.9583274897717958, 0.8309717943957573, -1.8513065553096661, -0.43667935832435667, -1.3202801094129164, 0.19412359694222966, 0.3863753886878289, 2.262504342957885, -1.1789996565844338, 0.8610049877785335, 0.35020646357557556, -0.4526706099620868, -1.4208827518870466, -2.0336415880196306, -0.6028790992919976, -0.6667505056960525, 1.034085965991731, 1.6862381136516247, 0.9671590675760109, 0.4687702824218409, -0.11354411524057219, 1.7598471377692582, -0.3133961636622412, 0.7968082245207883, -0.8123852383043507, -0.1815538188028146, -1.2010576577637924, 0.623379003526806, -0.2905917132234972, 1.0907162251266591, -0.943052216702706, -0.6358961634386422, 0.8238944357128126, -1.6910025282864853, -0.5360314141734744, -0.2858234600755065, 0.11739560318332833, 1.3392357088416103, -0.12730657094197811, -0.355344981254377, -0.7888413181153048, 0.010846103051945897, 2.4643060780738653, 0.2688894084296869, -0.6761623948082517, -0.46228423544452435, -0.06823119920909179, 0.5507682072831712, -1.4092521832676117, 0.11165070595437765, 1.0816741381089106, 0.00012294423731891224, 1.6864532375657582, -0.21634623521220717, 1.4069369181982865, 0.14000154269529902, -1.056975185245624, -1.454774926494647, 0.8077501687969396, -0.6826502496255977, 0.6344953632035505, -0.15940212485395602, 1.3448374706334436, 0.5273274117487469, -0.5514095718479104, 0.3176860475959556, -0.0325566071623441, -0.0673720916980821, 0.9991691910935454, 0.4772946025924812, 0.9458312063212977, -1.1631663106908554, 1.0876781943861205, -0.5592269267673681, -0.4905467928214895, -0.43363935487996075], \"xaxis\": \"x4\", \"y\": [-0.7583625624564826, -1.3608135229511027, -0.4479688305343663, 0.25774244428547427, -1.6375797293120589, -1.0464472057363499, 1.407325001211225, 0.276515190255223, -0.07316231716756455, 2.379354983246018, 1.4416105167771618, -2.000675616366275, 0.599410615388733, -1.178157640116541, 0.8361646635083623, 1.4209061515389503, -1.3772200926778893, -1.5330137697628772, 0.8434488796566412, -0.44264142554813973, 0.7729395311461773, -1.186536053062794, 1.0672315844310665, -0.1786475895640133, -1.6899719904233519, 0.8146648919282323, -2.541055625678114, 0.8784841697785496, 0.32813550809478664, 1.3136723060501312, 0.5798422821158166, -0.15028112198881133, -0.39350857873322376, 1.8687332552959848, 1.4996776154237408, -2.5978587935254813, -0.08418728423004833, -1.7130754548765064, -0.34219415505953205, 1.2976144427300302, 0.7997008822259573, -1.9145673952331954, 0.32403830118956695, 0.9669468742916221, -0.3954521090418044, -0.5156640132664189, 0.6325874104204111, -0.7730210344534597, -1.0278926686068846, -0.8064923341963592, -0.5283860770954497, 0.05805052625083211, -0.5341935453073812, -0.6306038151611613, 0.19618964614138615, -0.567501753503357, 1.3116043337251144, 1.0625570541938478, 0.1630190918246739, -0.17520577021292585, -0.7448259321076729, -0.06589108782314983, 1.2263868994742944, 0.9973104846473738, -0.8586695931733282, 0.4007921932156928, 0.6476480167091756, 0.5806680435925301, 0.41667800079466144, 0.18080111431959658, -0.6549009506176735, -1.5624811820852393, -1.9034379481414605, 1.2036040733411644, 1.5416853504730623, 0.644723358337419, 0.5148614190703861, -1.9213061654349335, 0.35505322896128755, 0.8491838985035705, -1.0502790566937863, 0.013051058769516184, 1.6146659697158963, -1.0749070393039928, -0.6616722006760997, -0.3743145259476359, -2.4924831145939095, -0.16545246379299003, 2.1703012992627992, -1.2602863121320913, -0.7676530026819841, 0.0843467501757799, -0.2807271956647446, 0.4241491799250738, 1.2569983568147862, 0.33073957061440273, -0.21585240846311052, 1.4033361423654584, 0.12416679561973377, 0.45414894890427215], \"yaxis\": \"y4\"}, {\"line\": {\"color\": \"rgba(128, 128, 128, 1.0)\", \"dash\": \"solid\", \"shape\": \"linear\", \"width\": 1.3}, \"marker\": {\"size\": 2, \"symbol\": \"circle\"}, \"mode\": \"markers\", \"name\": \"B\", \"text\": \"\", \"type\": \"scatter\", \"x\": [-0.7583625624564826, -1.3608135229511027, -0.4479688305343663, 0.25774244428547427, -1.6375797293120589, -1.0464472057363499, 1.407325001211225, 0.276515190255223, -0.07316231716756455, 2.379354983246018, 1.4416105167771618, -2.000675616366275, 0.599410615388733, -1.178157640116541, 0.8361646635083623, 1.4209061515389503, -1.3772200926778893, -1.5330137697628772, 0.8434488796566412, -0.44264142554813973, 0.7729395311461773, -1.186536053062794, 1.0672315844310665, -0.1786475895640133, -1.6899719904233519, 0.8146648919282323, -2.541055625678114, 0.8784841697785496, 0.32813550809478664, 1.3136723060501312, 0.5798422821158166, -0.15028112198881133, -0.39350857873322376, 1.8687332552959848, 1.4996776154237408, -2.5978587935254813, -0.08418728423004833, -1.7130754548765064, -0.34219415505953205, 1.2976144427300302, 0.7997008822259573, -1.9145673952331954, 0.32403830118956695, 0.9669468742916221, -0.3954521090418044, -0.5156640132664189, 0.6325874104204111, -0.7730210344534597, -1.0278926686068846, -0.8064923341963592, -0.5283860770954497, 0.05805052625083211, -0.5341935453073812, -0.6306038151611613, 0.19618964614138615, -0.567501753503357, 1.3116043337251144, 1.0625570541938478, 0.1630190918246739, -0.17520577021292585, -0.7448259321076729, -0.06589108782314983, 1.2263868994742944, 0.9973104846473738, -0.8586695931733282, 0.4007921932156928, 0.6476480167091756, 0.5806680435925301, 0.41667800079466144, 0.18080111431959658, -0.6549009506176735, -1.5624811820852393, -1.9034379481414605, 1.2036040733411644, 1.5416853504730623, 0.644723358337419, 0.5148614190703861, -1.9213061654349335, 0.35505322896128755, 0.8491838985035705, -1.0502790566937863, 0.013051058769516184, 1.6146659697158963, -1.0749070393039928, -0.6616722006760997, -0.3743145259476359, -2.4924831145939095, -0.16545246379299003, 2.1703012992627992, -1.2602863121320913, -0.7676530026819841, 0.0843467501757799, -0.2807271956647446, 0.4241491799250738, 1.2569983568147862, 0.33073957061440273, -0.21585240846311052, 1.4033361423654584, 0.12416679561973377, 0.45414894890427215], \"xaxis\": \"x5\", \"y\": [0.9051120349846424, 1.1315731612883049, 0.4889535391167449, -0.411827350510033, 1.7437582525448498, 0.8754875880381073, -1.612719409098891, 1.2673782176917372, 0.34610407515785685, -0.8734634626765565, 0.5080615811518349, 0.3786949114985083, 0.8549394182735643, -1.1727436261908517, 0.278079586528356, -2.086519140021561, 0.9558921986334105, -2.1412044407561335, 1.5908599450759613, -0.38037367059143695, -0.33823974441909016, 0.5148757793898513, 0.06431934032079333, -0.6192210839283654, 0.6364993369072576, 0.5238573577202742, 2.5123333500021423, -0.7385360908208347, 1.5357500979181817, 1.5724495278522659, 0.6633106187533743, 0.1913510422791749, -0.9852937680279761, 0.4866604508534319, -1.5691043539958625, -0.5457214474250892, -2.650467246676767, -0.4096399990779472, -0.44165613080647653, -1.6114045136155386, 0.3372243946613703, 0.09216459763101896, 0.4408702411197516, 1.026794643555709, -0.787067876624869, 0.274085340958029, 0.6432038230781414, 0.11625200510070811, -0.11400215542141642, 1.1678648365076898, 0.6381872954128966, -0.10906986258298167, 0.40314926362595793, -1.4061921229295076, -0.8949388605476665, -0.6797123989402232, 0.681267680316777, -1.5973585952033058, 0.9990493726980721, -0.9268111651857517, -0.7197683145996996, 0.18706094517469868, -1.1137685782674145, -0.8981843019223013, -0.008022352656607114, -0.46902423130002263, -1.0663496382780207, 1.2930554005359125, -0.12481695277229017, 0.8763289665253956, -0.15234775564968409, 0.7815603667800463, -0.3711497040527381, -0.735133518142438, 1.0719608777778922, -1.8110615652327744, -0.21451545478894662, -1.0000693418566864, -1.2492276001592144, -0.46780364099239063, 0.1472438174569735, 0.26416988245785844, 0.6659503106264842, 1.4700345976857954, 1.077675298771589, 1.1078248664225065, -0.7199081897875417, 0.6037307814365238, -1.2541232782328138, -0.4445705528975758, -0.5995953052364829, 0.8703773020736415, 1.240967816138145, -0.23458836833371494, 1.3626315874217745, -0.34003054967360213, 0.28031746369473, -0.6342169480234975, 0.6748537839853154, -1.3964778756962182], \"yaxis\": \"y5\"}, {\"histfunc\": \"count\", \"histnorm\": \"\", \"marker\": {\"color\": \"rgba(55, 128, 191, 1.0)\", \"line\": {\"color\": \"#4D5663\", \"width\": 1.3}}, \"name\": \"B\", \"nbinsx\": 10, \"opacity\": 0.8, \"orientation\": \"v\", \"type\": \"histogram\", \"x\": [0.9051120349846424, 1.1315731612883049, 0.4889535391167449, -0.411827350510033, 1.7437582525448498, 0.8754875880381073, -1.612719409098891, 1.2673782176917372, 0.34610407515785685, -0.8734634626765565, 0.5080615811518349, 0.3786949114985083, 0.8549394182735643, -1.1727436261908517, 0.278079586528356, -2.086519140021561, 0.9558921986334105, -2.1412044407561335, 1.5908599450759613, -0.38037367059143695, -0.33823974441909016, 0.5148757793898513, 0.06431934032079333, -0.6192210839283654, 0.6364993369072576, 0.5238573577202742, 2.5123333500021423, -0.7385360908208347, 1.5357500979181817, 1.5724495278522659, 0.6633106187533743, 0.1913510422791749, -0.9852937680279761, 0.4866604508534319, -1.5691043539958625, -0.5457214474250892, -2.650467246676767, -0.4096399990779472, -0.44165613080647653, -1.6114045136155386, 0.3372243946613703, 0.09216459763101896, 0.4408702411197516, 1.026794643555709, -0.787067876624869, 0.274085340958029, 0.6432038230781414, 0.11625200510070811, -0.11400215542141642, 1.1678648365076898, 0.6381872954128966, -0.10906986258298167, 0.40314926362595793, -1.4061921229295076, -0.8949388605476665, -0.6797123989402232, 0.681267680316777, -1.5973585952033058, 0.9990493726980721, -0.9268111651857517, -0.7197683145996996, 0.18706094517469868, -1.1137685782674145, -0.8981843019223013, -0.008022352656607114, -0.46902423130002263, -1.0663496382780207, 1.2930554005359125, -0.12481695277229017, 0.8763289665253956, -0.15234775564968409, 0.7815603667800463, -0.3711497040527381, -0.735133518142438, 1.0719608777778922, -1.8110615652327744, -0.21451545478894662, -1.0000693418566864, -1.2492276001592144, -0.46780364099239063, 0.1472438174569735, 0.26416988245785844, 0.6659503106264842, 1.4700345976857954, 1.077675298771589, 1.1078248664225065, -0.7199081897875417, 0.6037307814365238, -1.2541232782328138, -0.4445705528975758, -0.5995953052364829, 0.8703773020736415, 1.240967816138145, -0.23458836833371494, 1.3626315874217745, -0.34003054967360213, 0.28031746369473, -0.6342169480234975, 0.6748537839853154, -1.3964778756962182], \"xaxis\": \"x6\", \"yaxis\": \"y6\"}, {\"line\": {\"color\": \"rgba(128, 128, 128, 1.0)\", \"dash\": \"solid\", \"shape\": \"linear\", \"width\": 1.3}, \"marker\": {\"size\": 2, \"symbol\": \"circle\"}, \"mode\": \"markers\", \"name\": \"B\", \"text\": \"\", \"type\": \"scatter\", \"x\": [-0.444678500480317, 0.0933498848400473, 0.9355087974997555, -1.106441630487202, 0.7870975629687152, 0.21808060888783593, 0.19245161375740785, 0.058978349501044657, -0.8714541206370889, 1.6723359190038503, -0.9521959925693669, 0.25982368775406417, 0.4329967486845554, 0.9585187647681762, -1.79933573560346, 2.2571466440543344, 0.27242090370105326, -3.041426982646799, -0.7379674589948564, 0.21321722437944604, 0.3744406483158536, 1.8794147199102167, 0.5865594775587016, -0.3723330026710341, -0.21256708491681514, 1.2175066431034185, 0.9503232313646496, 1.7526010217049393, -0.6255769714716065, -0.8150989477464166, 0.1900069841307442, -0.6573140026719146, 1.3123490852146837, -0.20521456260004223, -0.8280753332366754, -2.1789891770225105, -1.7227530897526353, 1.2860266607255277, 0.417423466170257, -1.408581550401666, -1.0147418694696868, 1.0617865770644983, -2.1357693694007693, 0.6316085302784928, 1.0548351609959814, -1.821383374322361, 1.1794682397233458, 0.7800559142128144, 1.5175952940754551, -0.20063016325093158, 1.469109182383053, 0.33064590666961946, -1.5329746111023028, 1.4876464359770907, 0.7368765553019965, 0.2556196982451411, 1.496074295060987, -0.25594776352614945, -1.0302066787914688, 0.3771702792035409, 1.5954550568745687, -1.8239541572520326, -0.6292071703871251, 0.8569283151606543, 0.19021096842866161, 0.6607647699069801, -0.0016000980015075767, -0.6033609765671395, 0.6926557249524916, 0.13880646341418457, -1.3362928951925246, 0.5040296861060063, 2.5601117800980524, -0.983051918444861, -0.7450095718104365, -0.8245934015034929, -1.1246483229871902, -0.6547441335375387, -0.8088996560125555, -0.0966860051066942, -1.4863921450232944, 0.18967390658638197, 0.15908685829749233, -0.2691504733360306, -0.18560225336486053, 0.1001975328112677, -0.4706507089738137, 0.2368759547272725, 0.6644170545061568, -0.11309520573149913, 1.1829406966617049, -1.0833015314373051, -0.15088069839314402, -0.2652424034024619, 0.8990779222502281, -0.030734197118241203, -0.46028230155709343, 2.0393872169244824, 0.3883702636590222, 1.133687274935083], \"xaxis\": \"x7\", \"y\": [0.9051120349846424, 1.1315731612883049, 0.4889535391167449, -0.411827350510033, 1.7437582525448498, 0.8754875880381073, -1.612719409098891, 1.2673782176917372, 0.34610407515785685, -0.8734634626765565, 0.5080615811518349, 0.3786949114985083, 0.8549394182735643, -1.1727436261908517, 0.278079586528356, -2.086519140021561, 0.9558921986334105, -2.1412044407561335, 1.5908599450759613, -0.38037367059143695, -0.33823974441909016, 0.5148757793898513, 0.06431934032079333, -0.6192210839283654, 0.6364993369072576, 0.5238573577202742, 2.5123333500021423, -0.7385360908208347, 1.5357500979181817, 1.5724495278522659, 0.6633106187533743, 0.1913510422791749, -0.9852937680279761, 0.4866604508534319, -1.5691043539958625, -0.5457214474250892, -2.650467246676767, -0.4096399990779472, -0.44165613080647653, -1.6114045136155386, 0.3372243946613703, 0.09216459763101896, 0.4408702411197516, 1.026794643555709, -0.787067876624869, 0.274085340958029, 0.6432038230781414, 0.11625200510070811, -0.11400215542141642, 1.1678648365076898, 0.6381872954128966, -0.10906986258298167, 0.40314926362595793, -1.4061921229295076, -0.8949388605476665, -0.6797123989402232, 0.681267680316777, -1.5973585952033058, 0.9990493726980721, -0.9268111651857517, -0.7197683145996996, 0.18706094517469868, -1.1137685782674145, -0.8981843019223013, -0.008022352656607114, -0.46902423130002263, -1.0663496382780207, 1.2930554005359125, -0.12481695277229017, 0.8763289665253956, -0.15234775564968409, 0.7815603667800463, -0.3711497040527381, -0.735133518142438, 1.0719608777778922, -1.8110615652327744, -0.21451545478894662, -1.0000693418566864, -1.2492276001592144, -0.46780364099239063, 0.1472438174569735, 0.26416988245785844, 0.6659503106264842, 1.4700345976857954, 1.077675298771589, 1.1078248664225065, -0.7199081897875417, 0.6037307814365238, -1.2541232782328138, -0.4445705528975758, -0.5995953052364829, 0.8703773020736415, 1.240967816138145, -0.23458836833371494, 1.3626315874217745, -0.34003054967360213, 0.28031746369473, -0.6342169480234975, 0.6748537839853154, -1.3964778756962182], \"yaxis\": \"y7\"}, {\"line\": {\"color\": \"rgba(128, 128, 128, 1.0)\", \"dash\": \"solid\", \"shape\": \"linear\", \"width\": 1.3}, \"marker\": {\"size\": 2, \"symbol\": \"circle\"}, \"mode\": \"markers\", \"name\": \"B\", \"text\": \"\", \"type\": \"scatter\", \"x\": [-0.14243188168373888, -1.0729907558568355, 0.44733250377667716, -1.1897147775895982, 1.092741516710888, -0.06091528550317952, 0.10743674606032749, 0.9042940695647604, 0.5303819578975205, 1.9992339800473369, 0.6456010371124833, -0.7962804132728767, -0.5815192392519256, 0.2597767876385269, -2.459883288053741, -0.4082992590619642, 0.39686139282285504, -0.10328064655423272, -1.1573545857701342, -1.7466222324347853, -1.6081787740748272, 0.042610628533974994, 1.7131089103702466, -0.33970182084475636, -0.9583274897717958, 0.8309717943957573, -1.8513065553096661, -0.43667935832435667, -1.3202801094129164, 0.19412359694222966, 0.3863753886878289, 2.262504342957885, -1.1789996565844338, 0.8610049877785335, 0.35020646357557556, -0.4526706099620868, -1.4208827518870466, -2.0336415880196306, -0.6028790992919976, -0.6667505056960525, 1.034085965991731, 1.6862381136516247, 0.9671590675760109, 0.4687702824218409, -0.11354411524057219, 1.7598471377692582, -0.3133961636622412, 0.7968082245207883, -0.8123852383043507, -0.1815538188028146, -1.2010576577637924, 0.623379003526806, -0.2905917132234972, 1.0907162251266591, -0.943052216702706, -0.6358961634386422, 0.8238944357128126, -1.6910025282864853, -0.5360314141734744, -0.2858234600755065, 0.11739560318332833, 1.3392357088416103, -0.12730657094197811, -0.355344981254377, -0.7888413181153048, 0.010846103051945897, 2.4643060780738653, 0.2688894084296869, -0.6761623948082517, -0.46228423544452435, -0.06823119920909179, 0.5507682072831712, -1.4092521832676117, 0.11165070595437765, 1.0816741381089106, 0.00012294423731891224, 1.6864532375657582, -0.21634623521220717, 1.4069369181982865, 0.14000154269529902, -1.056975185245624, -1.454774926494647, 0.8077501687969396, -0.6826502496255977, 0.6344953632035505, -0.15940212485395602, 1.3448374706334436, 0.5273274117487469, -0.5514095718479104, 0.3176860475959556, -0.0325566071623441, -0.0673720916980821, 0.9991691910935454, 0.4772946025924812, 0.9458312063212977, -1.1631663106908554, 1.0876781943861205, -0.5592269267673681, -0.4905467928214895, -0.43363935487996075], \"xaxis\": \"x8\", \"y\": [0.9051120349846424, 1.1315731612883049, 0.4889535391167449, -0.411827350510033, 1.7437582525448498, 0.8754875880381073, -1.612719409098891, 1.2673782176917372, 0.34610407515785685, -0.8734634626765565, 0.5080615811518349, 0.3786949114985083, 0.8549394182735643, -1.1727436261908517, 0.278079586528356, -2.086519140021561, 0.9558921986334105, -2.1412044407561335, 1.5908599450759613, -0.38037367059143695, -0.33823974441909016, 0.5148757793898513, 0.06431934032079333, -0.6192210839283654, 0.6364993369072576, 0.5238573577202742, 2.5123333500021423, -0.7385360908208347, 1.5357500979181817, 1.5724495278522659, 0.6633106187533743, 0.1913510422791749, -0.9852937680279761, 0.4866604508534319, -1.5691043539958625, -0.5457214474250892, -2.650467246676767, -0.4096399990779472, -0.44165613080647653, -1.6114045136155386, 0.3372243946613703, 0.09216459763101896, 0.4408702411197516, 1.026794643555709, -0.787067876624869, 0.274085340958029, 0.6432038230781414, 0.11625200510070811, -0.11400215542141642, 1.1678648365076898, 0.6381872954128966, -0.10906986258298167, 0.40314926362595793, -1.4061921229295076, -0.8949388605476665, -0.6797123989402232, 0.681267680316777, -1.5973585952033058, 0.9990493726980721, -0.9268111651857517, -0.7197683145996996, 0.18706094517469868, -1.1137685782674145, -0.8981843019223013, -0.008022352656607114, -0.46902423130002263, -1.0663496382780207, 1.2930554005359125, -0.12481695277229017, 0.8763289665253956, -0.15234775564968409, 0.7815603667800463, -0.3711497040527381, -0.735133518142438, 1.0719608777778922, -1.8110615652327744, -0.21451545478894662, -1.0000693418566864, -1.2492276001592144, -0.46780364099239063, 0.1472438174569735, 0.26416988245785844, 0.6659503106264842, 1.4700345976857954, 1.077675298771589, 1.1078248664225065, -0.7199081897875417, 0.6037307814365238, -1.2541232782328138, -0.4445705528975758, -0.5995953052364829, 0.8703773020736415, 1.240967816138145, -0.23458836833371494, 1.3626315874217745, -0.34003054967360213, 0.28031746369473, -0.6342169480234975, 0.6748537839853154, -1.3964778756962182], \"yaxis\": \"y8\"}, {\"line\": {\"color\": \"rgba(128, 128, 128, 1.0)\", \"dash\": \"solid\", \"shape\": \"linear\", \"width\": 1.3}, \"marker\": {\"size\": 2, \"symbol\": \"circle\"}, \"mode\": \"markers\", \"name\": \"C\", \"text\": \"\", \"type\": \"scatter\", \"x\": [-0.7583625624564826, -1.3608135229511027, -0.4479688305343663, 0.25774244428547427, -1.6375797293120589, -1.0464472057363499, 1.407325001211225, 0.276515190255223, -0.07316231716756455, 2.379354983246018, 1.4416105167771618, -2.000675616366275, 0.599410615388733, -1.178157640116541, 0.8361646635083623, 1.4209061515389503, -1.3772200926778893, -1.5330137697628772, 0.8434488796566412, -0.44264142554813973, 0.7729395311461773, -1.186536053062794, 1.0672315844310665, -0.1786475895640133, -1.6899719904233519, 0.8146648919282323, -2.541055625678114, 0.8784841697785496, 0.32813550809478664, 1.3136723060501312, 0.5798422821158166, -0.15028112198881133, -0.39350857873322376, 1.8687332552959848, 1.4996776154237408, -2.5978587935254813, -0.08418728423004833, -1.7130754548765064, -0.34219415505953205, 1.2976144427300302, 0.7997008822259573, -1.9145673952331954, 0.32403830118956695, 0.9669468742916221, -0.3954521090418044, -0.5156640132664189, 0.6325874104204111, -0.7730210344534597, -1.0278926686068846, -0.8064923341963592, -0.5283860770954497, 0.05805052625083211, -0.5341935453073812, -0.6306038151611613, 0.19618964614138615, -0.567501753503357, 1.3116043337251144, 1.0625570541938478, 0.1630190918246739, -0.17520577021292585, -0.7448259321076729, -0.06589108782314983, 1.2263868994742944, 0.9973104846473738, -0.8586695931733282, 0.4007921932156928, 0.6476480167091756, 0.5806680435925301, 0.41667800079466144, 0.18080111431959658, -0.6549009506176735, -1.5624811820852393, -1.9034379481414605, 1.2036040733411644, 1.5416853504730623, 0.644723358337419, 0.5148614190703861, -1.9213061654349335, 0.35505322896128755, 0.8491838985035705, -1.0502790566937863, 0.013051058769516184, 1.6146659697158963, -1.0749070393039928, -0.6616722006760997, -0.3743145259476359, -2.4924831145939095, -0.16545246379299003, 2.1703012992627992, -1.2602863121320913, -0.7676530026819841, 0.0843467501757799, -0.2807271956647446, 0.4241491799250738, 1.2569983568147862, 0.33073957061440273, -0.21585240846311052, 1.4033361423654584, 0.12416679561973377, 0.45414894890427215], \"xaxis\": \"x9\", \"y\": [-0.444678500480317, 0.0933498848400473, 0.9355087974997555, -1.106441630487202, 0.7870975629687152, 0.21808060888783593, 0.19245161375740785, 0.058978349501044657, -0.8714541206370889, 1.6723359190038503, -0.9521959925693669, 0.25982368775406417, 0.4329967486845554, 0.9585187647681762, -1.79933573560346, 2.2571466440543344, 0.27242090370105326, -3.041426982646799, -0.7379674589948564, 0.21321722437944604, 0.3744406483158536, 1.8794147199102167, 0.5865594775587016, -0.3723330026710341, -0.21256708491681514, 1.2175066431034185, 0.9503232313646496, 1.7526010217049393, -0.6255769714716065, -0.8150989477464166, 0.1900069841307442, -0.6573140026719146, 1.3123490852146837, -0.20521456260004223, -0.8280753332366754, -2.1789891770225105, -1.7227530897526353, 1.2860266607255277, 0.417423466170257, -1.408581550401666, -1.0147418694696868, 1.0617865770644983, -2.1357693694007693, 0.6316085302784928, 1.0548351609959814, -1.821383374322361, 1.1794682397233458, 0.7800559142128144, 1.5175952940754551, -0.20063016325093158, 1.469109182383053, 0.33064590666961946, -1.5329746111023028, 1.4876464359770907, 0.7368765553019965, 0.2556196982451411, 1.496074295060987, -0.25594776352614945, -1.0302066787914688, 0.3771702792035409, 1.5954550568745687, -1.8239541572520326, -0.6292071703871251, 0.8569283151606543, 0.19021096842866161, 0.6607647699069801, -0.0016000980015075767, -0.6033609765671395, 0.6926557249524916, 0.13880646341418457, -1.3362928951925246, 0.5040296861060063, 2.5601117800980524, -0.983051918444861, -0.7450095718104365, -0.8245934015034929, -1.1246483229871902, -0.6547441335375387, -0.8088996560125555, -0.0966860051066942, -1.4863921450232944, 0.18967390658638197, 0.15908685829749233, -0.2691504733360306, -0.18560225336486053, 0.1001975328112677, -0.4706507089738137, 0.2368759547272725, 0.6644170545061568, -0.11309520573149913, 1.1829406966617049, -1.0833015314373051, -0.15088069839314402, -0.2652424034024619, 0.8990779222502281, -0.030734197118241203, -0.46028230155709343, 2.0393872169244824, 0.3883702636590222, 1.133687274935083], \"yaxis\": \"y9\"}, {\"line\": {\"color\": \"rgba(128, 128, 128, 1.0)\", \"dash\": \"solid\", \"shape\": \"linear\", \"width\": 1.3}, \"marker\": {\"size\": 2, \"symbol\": \"circle\"}, \"mode\": \"markers\", \"name\": \"C\", \"text\": \"\", \"type\": \"scatter\", \"x\": [0.9051120349846424, 1.1315731612883049, 0.4889535391167449, -0.411827350510033, 1.7437582525448498, 0.8754875880381073, -1.612719409098891, 1.2673782176917372, 0.34610407515785685, -0.8734634626765565, 0.5080615811518349, 0.3786949114985083, 0.8549394182735643, -1.1727436261908517, 0.278079586528356, -2.086519140021561, 0.9558921986334105, -2.1412044407561335, 1.5908599450759613, -0.38037367059143695, -0.33823974441909016, 0.5148757793898513, 0.06431934032079333, -0.6192210839283654, 0.6364993369072576, 0.5238573577202742, 2.5123333500021423, -0.7385360908208347, 1.5357500979181817, 1.5724495278522659, 0.6633106187533743, 0.1913510422791749, -0.9852937680279761, 0.4866604508534319, -1.5691043539958625, -0.5457214474250892, -2.650467246676767, -0.4096399990779472, -0.44165613080647653, -1.6114045136155386, 0.3372243946613703, 0.09216459763101896, 0.4408702411197516, 1.026794643555709, -0.787067876624869, 0.274085340958029, 0.6432038230781414, 0.11625200510070811, -0.11400215542141642, 1.1678648365076898, 0.6381872954128966, -0.10906986258298167, 0.40314926362595793, -1.4061921229295076, -0.8949388605476665, -0.6797123989402232, 0.681267680316777, -1.5973585952033058, 0.9990493726980721, -0.9268111651857517, -0.7197683145996996, 0.18706094517469868, -1.1137685782674145, -0.8981843019223013, -0.008022352656607114, -0.46902423130002263, -1.0663496382780207, 1.2930554005359125, -0.12481695277229017, 0.8763289665253956, -0.15234775564968409, 0.7815603667800463, -0.3711497040527381, -0.735133518142438, 1.0719608777778922, -1.8110615652327744, -0.21451545478894662, -1.0000693418566864, -1.2492276001592144, -0.46780364099239063, 0.1472438174569735, 0.26416988245785844, 0.6659503106264842, 1.4700345976857954, 1.077675298771589, 1.1078248664225065, -0.7199081897875417, 0.6037307814365238, -1.2541232782328138, -0.4445705528975758, -0.5995953052364829, 0.8703773020736415, 1.240967816138145, -0.23458836833371494, 1.3626315874217745, -0.34003054967360213, 0.28031746369473, -0.6342169480234975, 0.6748537839853154, -1.3964778756962182], \"xaxis\": \"x10\", \"y\": [-0.444678500480317, 0.0933498848400473, 0.9355087974997555, -1.106441630487202, 0.7870975629687152, 0.21808060888783593, 0.19245161375740785, 0.058978349501044657, -0.8714541206370889, 1.6723359190038503, -0.9521959925693669, 0.25982368775406417, 0.4329967486845554, 0.9585187647681762, -1.79933573560346, 2.2571466440543344, 0.27242090370105326, -3.041426982646799, -0.7379674589948564, 0.21321722437944604, 0.3744406483158536, 1.8794147199102167, 0.5865594775587016, -0.3723330026710341, -0.21256708491681514, 1.2175066431034185, 0.9503232313646496, 1.7526010217049393, -0.6255769714716065, -0.8150989477464166, 0.1900069841307442, -0.6573140026719146, 1.3123490852146837, -0.20521456260004223, -0.8280753332366754, -2.1789891770225105, -1.7227530897526353, 1.2860266607255277, 0.417423466170257, -1.408581550401666, -1.0147418694696868, 1.0617865770644983, -2.1357693694007693, 0.6316085302784928, 1.0548351609959814, -1.821383374322361, 1.1794682397233458, 0.7800559142128144, 1.5175952940754551, -0.20063016325093158, 1.469109182383053, 0.33064590666961946, -1.5329746111023028, 1.4876464359770907, 0.7368765553019965, 0.2556196982451411, 1.496074295060987, -0.25594776352614945, -1.0302066787914688, 0.3771702792035409, 1.5954550568745687, -1.8239541572520326, -0.6292071703871251, 0.8569283151606543, 0.19021096842866161, 0.6607647699069801, -0.0016000980015075767, -0.6033609765671395, 0.6926557249524916, 0.13880646341418457, -1.3362928951925246, 0.5040296861060063, 2.5601117800980524, -0.983051918444861, -0.7450095718104365, -0.8245934015034929, -1.1246483229871902, -0.6547441335375387, -0.8088996560125555, -0.0966860051066942, -1.4863921450232944, 0.18967390658638197, 0.15908685829749233, -0.2691504733360306, -0.18560225336486053, 0.1001975328112677, -0.4706507089738137, 0.2368759547272725, 0.6644170545061568, -0.11309520573149913, 1.1829406966617049, -1.0833015314373051, -0.15088069839314402, -0.2652424034024619, 0.8990779222502281, -0.030734197118241203, -0.46028230155709343, 2.0393872169244824, 0.3883702636590222, 1.133687274935083], \"yaxis\": \"y10\"}, {\"histfunc\": \"count\", \"histnorm\": \"\", \"marker\": {\"color\": \"rgba(50, 171, 96, 1.0)\", \"line\": {\"color\": \"#4D5663\", \"width\": 1.3}}, \"name\": \"C\", \"nbinsx\": 10, \"opacity\": 0.8, \"orientation\": \"v\", \"type\": \"histogram\", \"x\": [-0.444678500480317, 0.0933498848400473, 0.9355087974997555, -1.106441630487202, 0.7870975629687152, 0.21808060888783593, 0.19245161375740785, 0.058978349501044657, -0.8714541206370889, 1.6723359190038503, -0.9521959925693669, 0.25982368775406417, 0.4329967486845554, 0.9585187647681762, -1.79933573560346, 2.2571466440543344, 0.27242090370105326, -3.041426982646799, -0.7379674589948564, 0.21321722437944604, 0.3744406483158536, 1.8794147199102167, 0.5865594775587016, -0.3723330026710341, -0.21256708491681514, 1.2175066431034185, 0.9503232313646496, 1.7526010217049393, -0.6255769714716065, -0.8150989477464166, 0.1900069841307442, -0.6573140026719146, 1.3123490852146837, -0.20521456260004223, -0.8280753332366754, -2.1789891770225105, -1.7227530897526353, 1.2860266607255277, 0.417423466170257, -1.408581550401666, -1.0147418694696868, 1.0617865770644983, -2.1357693694007693, 0.6316085302784928, 1.0548351609959814, -1.821383374322361, 1.1794682397233458, 0.7800559142128144, 1.5175952940754551, -0.20063016325093158, 1.469109182383053, 0.33064590666961946, -1.5329746111023028, 1.4876464359770907, 0.7368765553019965, 0.2556196982451411, 1.496074295060987, -0.25594776352614945, -1.0302066787914688, 0.3771702792035409, 1.5954550568745687, -1.8239541572520326, -0.6292071703871251, 0.8569283151606543, 0.19021096842866161, 0.6607647699069801, -0.0016000980015075767, -0.6033609765671395, 0.6926557249524916, 0.13880646341418457, -1.3362928951925246, 0.5040296861060063, 2.5601117800980524, -0.983051918444861, -0.7450095718104365, -0.8245934015034929, -1.1246483229871902, -0.6547441335375387, -0.8088996560125555, -0.0966860051066942, -1.4863921450232944, 0.18967390658638197, 0.15908685829749233, -0.2691504733360306, -0.18560225336486053, 0.1001975328112677, -0.4706507089738137, 0.2368759547272725, 0.6644170545061568, -0.11309520573149913, 1.1829406966617049, -1.0833015314373051, -0.15088069839314402, -0.2652424034024619, 0.8990779222502281, -0.030734197118241203, -0.46028230155709343, 2.0393872169244824, 0.3883702636590222, 1.133687274935083], \"xaxis\": \"x11\", \"yaxis\": \"y11\"}, {\"line\": {\"color\": \"rgba(128, 128, 128, 1.0)\", \"dash\": \"solid\", \"shape\": \"linear\", \"width\": 1.3}, \"marker\": {\"size\": 2, \"symbol\": \"circle\"}, \"mode\": \"markers\", \"name\": \"C\", \"text\": \"\", \"type\": \"scatter\", \"x\": [-0.14243188168373888, -1.0729907558568355, 0.44733250377667716, -1.1897147775895982, 1.092741516710888, -0.06091528550317952, 0.10743674606032749, 0.9042940695647604, 0.5303819578975205, 1.9992339800473369, 0.6456010371124833, -0.7962804132728767, -0.5815192392519256, 0.2597767876385269, -2.459883288053741, -0.4082992590619642, 0.39686139282285504, -0.10328064655423272, -1.1573545857701342, -1.7466222324347853, -1.6081787740748272, 0.042610628533974994, 1.7131089103702466, -0.33970182084475636, -0.9583274897717958, 0.8309717943957573, -1.8513065553096661, -0.43667935832435667, -1.3202801094129164, 0.19412359694222966, 0.3863753886878289, 2.262504342957885, -1.1789996565844338, 0.8610049877785335, 0.35020646357557556, -0.4526706099620868, -1.4208827518870466, -2.0336415880196306, -0.6028790992919976, -0.6667505056960525, 1.034085965991731, 1.6862381136516247, 0.9671590675760109, 0.4687702824218409, -0.11354411524057219, 1.7598471377692582, -0.3133961636622412, 0.7968082245207883, -0.8123852383043507, -0.1815538188028146, -1.2010576577637924, 0.623379003526806, -0.2905917132234972, 1.0907162251266591, -0.943052216702706, -0.6358961634386422, 0.8238944357128126, -1.6910025282864853, -0.5360314141734744, -0.2858234600755065, 0.11739560318332833, 1.3392357088416103, -0.12730657094197811, -0.355344981254377, -0.7888413181153048, 0.010846103051945897, 2.4643060780738653, 0.2688894084296869, -0.6761623948082517, -0.46228423544452435, -0.06823119920909179, 0.5507682072831712, -1.4092521832676117, 0.11165070595437765, 1.0816741381089106, 0.00012294423731891224, 1.6864532375657582, -0.21634623521220717, 1.4069369181982865, 0.14000154269529902, -1.056975185245624, -1.454774926494647, 0.8077501687969396, -0.6826502496255977, 0.6344953632035505, -0.15940212485395602, 1.3448374706334436, 0.5273274117487469, -0.5514095718479104, 0.3176860475959556, -0.0325566071623441, -0.0673720916980821, 0.9991691910935454, 0.4772946025924812, 0.9458312063212977, -1.1631663106908554, 1.0876781943861205, -0.5592269267673681, -0.4905467928214895, -0.43363935487996075], \"xaxis\": \"x12\", \"y\": [-0.444678500480317, 0.0933498848400473, 0.9355087974997555, -1.106441630487202, 0.7870975629687152, 0.21808060888783593, 0.19245161375740785, 0.058978349501044657, -0.8714541206370889, 1.6723359190038503, -0.9521959925693669, 0.25982368775406417, 0.4329967486845554, 0.9585187647681762, -1.79933573560346, 2.2571466440543344, 0.27242090370105326, -3.041426982646799, -0.7379674589948564, 0.21321722437944604, 0.3744406483158536, 1.8794147199102167, 0.5865594775587016, -0.3723330026710341, -0.21256708491681514, 1.2175066431034185, 0.9503232313646496, 1.7526010217049393, -0.6255769714716065, -0.8150989477464166, 0.1900069841307442, -0.6573140026719146, 1.3123490852146837, -0.20521456260004223, -0.8280753332366754, -2.1789891770225105, -1.7227530897526353, 1.2860266607255277, 0.417423466170257, -1.408581550401666, -1.0147418694696868, 1.0617865770644983, -2.1357693694007693, 0.6316085302784928, 1.0548351609959814, -1.821383374322361, 1.1794682397233458, 0.7800559142128144, 1.5175952940754551, -0.20063016325093158, 1.469109182383053, 0.33064590666961946, -1.5329746111023028, 1.4876464359770907, 0.7368765553019965, 0.2556196982451411, 1.496074295060987, -0.25594776352614945, -1.0302066787914688, 0.3771702792035409, 1.5954550568745687, -1.8239541572520326, -0.6292071703871251, 0.8569283151606543, 0.19021096842866161, 0.6607647699069801, -0.0016000980015075767, -0.6033609765671395, 0.6926557249524916, 0.13880646341418457, -1.3362928951925246, 0.5040296861060063, 2.5601117800980524, -0.983051918444861, -0.7450095718104365, -0.8245934015034929, -1.1246483229871902, -0.6547441335375387, -0.8088996560125555, -0.0966860051066942, -1.4863921450232944, 0.18967390658638197, 0.15908685829749233, -0.2691504733360306, -0.18560225336486053, 0.1001975328112677, -0.4706507089738137, 0.2368759547272725, 0.6644170545061568, -0.11309520573149913, 1.1829406966617049, -1.0833015314373051, -0.15088069839314402, -0.2652424034024619, 0.8990779222502281, -0.030734197118241203, -0.46028230155709343, 2.0393872169244824, 0.3883702636590222, 1.133687274935083], \"yaxis\": \"y12\"}, {\"line\": {\"color\": \"rgba(128, 128, 128, 1.0)\", \"dash\": \"solid\", \"shape\": \"linear\", \"width\": 1.3}, \"marker\": {\"size\": 2, \"symbol\": \"circle\"}, \"mode\": \"markers\", \"name\": \"D\", \"text\": \"\", \"type\": \"scatter\", \"x\": [-0.7583625624564826, -1.3608135229511027, -0.4479688305343663, 0.25774244428547427, -1.6375797293120589, -1.0464472057363499, 1.407325001211225, 0.276515190255223, -0.07316231716756455, 2.379354983246018, 1.4416105167771618, -2.000675616366275, 0.599410615388733, -1.178157640116541, 0.8361646635083623, 1.4209061515389503, -1.3772200926778893, -1.5330137697628772, 0.8434488796566412, -0.44264142554813973, 0.7729395311461773, -1.186536053062794, 1.0672315844310665, -0.1786475895640133, -1.6899719904233519, 0.8146648919282323, -2.541055625678114, 0.8784841697785496, 0.32813550809478664, 1.3136723060501312, 0.5798422821158166, -0.15028112198881133, -0.39350857873322376, 1.8687332552959848, 1.4996776154237408, -2.5978587935254813, -0.08418728423004833, -1.7130754548765064, -0.34219415505953205, 1.2976144427300302, 0.7997008822259573, -1.9145673952331954, 0.32403830118956695, 0.9669468742916221, -0.3954521090418044, -0.5156640132664189, 0.6325874104204111, -0.7730210344534597, -1.0278926686068846, -0.8064923341963592, -0.5283860770954497, 0.05805052625083211, -0.5341935453073812, -0.6306038151611613, 0.19618964614138615, -0.567501753503357, 1.3116043337251144, 1.0625570541938478, 0.1630190918246739, -0.17520577021292585, -0.7448259321076729, -0.06589108782314983, 1.2263868994742944, 0.9973104846473738, -0.8586695931733282, 0.4007921932156928, 0.6476480167091756, 0.5806680435925301, 0.41667800079466144, 0.18080111431959658, -0.6549009506176735, -1.5624811820852393, -1.9034379481414605, 1.2036040733411644, 1.5416853504730623, 0.644723358337419, 0.5148614190703861, -1.9213061654349335, 0.35505322896128755, 0.8491838985035705, -1.0502790566937863, 0.013051058769516184, 1.6146659697158963, -1.0749070393039928, -0.6616722006760997, -0.3743145259476359, -2.4924831145939095, -0.16545246379299003, 2.1703012992627992, -1.2602863121320913, -0.7676530026819841, 0.0843467501757799, -0.2807271956647446, 0.4241491799250738, 1.2569983568147862, 0.33073957061440273, -0.21585240846311052, 1.4033361423654584, 0.12416679561973377, 0.45414894890427215], \"xaxis\": \"x13\", \"y\": [-0.14243188168373888, -1.0729907558568355, 0.44733250377667716, -1.1897147775895982, 1.092741516710888, -0.06091528550317952, 0.10743674606032749, 0.9042940695647604, 0.5303819578975205, 1.9992339800473369, 0.6456010371124833, -0.7962804132728767, -0.5815192392519256, 0.2597767876385269, -2.459883288053741, -0.4082992590619642, 0.39686139282285504, -0.10328064655423272, -1.1573545857701342, -1.7466222324347853, -1.6081787740748272, 0.042610628533974994, 1.7131089103702466, -0.33970182084475636, -0.9583274897717958, 0.8309717943957573, -1.8513065553096661, -0.43667935832435667, -1.3202801094129164, 0.19412359694222966, 0.3863753886878289, 2.262504342957885, -1.1789996565844338, 0.8610049877785335, 0.35020646357557556, -0.4526706099620868, -1.4208827518870466, -2.0336415880196306, -0.6028790992919976, -0.6667505056960525, 1.034085965991731, 1.6862381136516247, 0.9671590675760109, 0.4687702824218409, -0.11354411524057219, 1.7598471377692582, -0.3133961636622412, 0.7968082245207883, -0.8123852383043507, -0.1815538188028146, -1.2010576577637924, 0.623379003526806, -0.2905917132234972, 1.0907162251266591, -0.943052216702706, -0.6358961634386422, 0.8238944357128126, -1.6910025282864853, -0.5360314141734744, -0.2858234600755065, 0.11739560318332833, 1.3392357088416103, -0.12730657094197811, -0.355344981254377, -0.7888413181153048, 0.010846103051945897, 2.4643060780738653, 0.2688894084296869, -0.6761623948082517, -0.46228423544452435, -0.06823119920909179, 0.5507682072831712, -1.4092521832676117, 0.11165070595437765, 1.0816741381089106, 0.00012294423731891224, 1.6864532375657582, -0.21634623521220717, 1.4069369181982865, 0.14000154269529902, -1.056975185245624, -1.454774926494647, 0.8077501687969396, -0.6826502496255977, 0.6344953632035505, -0.15940212485395602, 1.3448374706334436, 0.5273274117487469, -0.5514095718479104, 0.3176860475959556, -0.0325566071623441, -0.0673720916980821, 0.9991691910935454, 0.4772946025924812, 0.9458312063212977, -1.1631663106908554, 1.0876781943861205, -0.5592269267673681, -0.4905467928214895, -0.43363935487996075], \"yaxis\": \"y13\"}, {\"line\": {\"color\": \"rgba(128, 128, 128, 1.0)\", \"dash\": \"solid\", \"shape\": \"linear\", \"width\": 1.3}, \"marker\": {\"size\": 2, \"symbol\": \"circle\"}, \"mode\": \"markers\", \"name\": \"D\", \"text\": \"\", \"type\": \"scatter\", \"x\": [0.9051120349846424, 1.1315731612883049, 0.4889535391167449, -0.411827350510033, 1.7437582525448498, 0.8754875880381073, -1.612719409098891, 1.2673782176917372, 0.34610407515785685, -0.8734634626765565, 0.5080615811518349, 0.3786949114985083, 0.8549394182735643, -1.1727436261908517, 0.278079586528356, -2.086519140021561, 0.9558921986334105, -2.1412044407561335, 1.5908599450759613, -0.38037367059143695, -0.33823974441909016, 0.5148757793898513, 0.06431934032079333, -0.6192210839283654, 0.6364993369072576, 0.5238573577202742, 2.5123333500021423, -0.7385360908208347, 1.5357500979181817, 1.5724495278522659, 0.6633106187533743, 0.1913510422791749, -0.9852937680279761, 0.4866604508534319, -1.5691043539958625, -0.5457214474250892, -2.650467246676767, -0.4096399990779472, -0.44165613080647653, -1.6114045136155386, 0.3372243946613703, 0.09216459763101896, 0.4408702411197516, 1.026794643555709, -0.787067876624869, 0.274085340958029, 0.6432038230781414, 0.11625200510070811, -0.11400215542141642, 1.1678648365076898, 0.6381872954128966, -0.10906986258298167, 0.40314926362595793, -1.4061921229295076, -0.8949388605476665, -0.6797123989402232, 0.681267680316777, -1.5973585952033058, 0.9990493726980721, -0.9268111651857517, -0.7197683145996996, 0.18706094517469868, -1.1137685782674145, -0.8981843019223013, -0.008022352656607114, -0.46902423130002263, -1.0663496382780207, 1.2930554005359125, -0.12481695277229017, 0.8763289665253956, -0.15234775564968409, 0.7815603667800463, -0.3711497040527381, -0.735133518142438, 1.0719608777778922, -1.8110615652327744, -0.21451545478894662, -1.0000693418566864, -1.2492276001592144, -0.46780364099239063, 0.1472438174569735, 0.26416988245785844, 0.6659503106264842, 1.4700345976857954, 1.077675298771589, 1.1078248664225065, -0.7199081897875417, 0.6037307814365238, -1.2541232782328138, -0.4445705528975758, -0.5995953052364829, 0.8703773020736415, 1.240967816138145, -0.23458836833371494, 1.3626315874217745, -0.34003054967360213, 0.28031746369473, -0.6342169480234975, 0.6748537839853154, -1.3964778756962182], \"xaxis\": \"x14\", \"y\": [-0.14243188168373888, -1.0729907558568355, 0.44733250377667716, -1.1897147775895982, 1.092741516710888, -0.06091528550317952, 0.10743674606032749, 0.9042940695647604, 0.5303819578975205, 1.9992339800473369, 0.6456010371124833, -0.7962804132728767, -0.5815192392519256, 0.2597767876385269, -2.459883288053741, -0.4082992590619642, 0.39686139282285504, -0.10328064655423272, -1.1573545857701342, -1.7466222324347853, -1.6081787740748272, 0.042610628533974994, 1.7131089103702466, -0.33970182084475636, -0.9583274897717958, 0.8309717943957573, -1.8513065553096661, -0.43667935832435667, -1.3202801094129164, 0.19412359694222966, 0.3863753886878289, 2.262504342957885, -1.1789996565844338, 0.8610049877785335, 0.35020646357557556, -0.4526706099620868, -1.4208827518870466, -2.0336415880196306, -0.6028790992919976, -0.6667505056960525, 1.034085965991731, 1.6862381136516247, 0.9671590675760109, 0.4687702824218409, -0.11354411524057219, 1.7598471377692582, -0.3133961636622412, 0.7968082245207883, -0.8123852383043507, -0.1815538188028146, -1.2010576577637924, 0.623379003526806, -0.2905917132234972, 1.0907162251266591, -0.943052216702706, -0.6358961634386422, 0.8238944357128126, -1.6910025282864853, -0.5360314141734744, -0.2858234600755065, 0.11739560318332833, 1.3392357088416103, -0.12730657094197811, -0.355344981254377, -0.7888413181153048, 0.010846103051945897, 2.4643060780738653, 0.2688894084296869, -0.6761623948082517, -0.46228423544452435, -0.06823119920909179, 0.5507682072831712, -1.4092521832676117, 0.11165070595437765, 1.0816741381089106, 0.00012294423731891224, 1.6864532375657582, -0.21634623521220717, 1.4069369181982865, 0.14000154269529902, -1.056975185245624, -1.454774926494647, 0.8077501687969396, -0.6826502496255977, 0.6344953632035505, -0.15940212485395602, 1.3448374706334436, 0.5273274117487469, -0.5514095718479104, 0.3176860475959556, -0.0325566071623441, -0.0673720916980821, 0.9991691910935454, 0.4772946025924812, 0.9458312063212977, -1.1631663106908554, 1.0876781943861205, -0.5592269267673681, -0.4905467928214895, -0.43363935487996075], \"yaxis\": \"y14\"}, {\"line\": {\"color\": \"rgba(128, 128, 128, 1.0)\", \"dash\": \"solid\", \"shape\": \"linear\", \"width\": 1.3}, \"marker\": {\"size\": 2, \"symbol\": \"circle\"}, \"mode\": \"markers\", \"name\": \"D\", \"text\": \"\", \"type\": \"scatter\", \"x\": [-0.444678500480317, 0.0933498848400473, 0.9355087974997555, -1.106441630487202, 0.7870975629687152, 0.21808060888783593, 0.19245161375740785, 0.058978349501044657, -0.8714541206370889, 1.6723359190038503, -0.9521959925693669, 0.25982368775406417, 0.4329967486845554, 0.9585187647681762, -1.79933573560346, 2.2571466440543344, 0.27242090370105326, -3.041426982646799, -0.7379674589948564, 0.21321722437944604, 0.3744406483158536, 1.8794147199102167, 0.5865594775587016, -0.3723330026710341, -0.21256708491681514, 1.2175066431034185, 0.9503232313646496, 1.7526010217049393, -0.6255769714716065, -0.8150989477464166, 0.1900069841307442, -0.6573140026719146, 1.3123490852146837, -0.20521456260004223, -0.8280753332366754, -2.1789891770225105, -1.7227530897526353, 1.2860266607255277, 0.417423466170257, -1.408581550401666, -1.0147418694696868, 1.0617865770644983, -2.1357693694007693, 0.6316085302784928, 1.0548351609959814, -1.821383374322361, 1.1794682397233458, 0.7800559142128144, 1.5175952940754551, -0.20063016325093158, 1.469109182383053, 0.33064590666961946, -1.5329746111023028, 1.4876464359770907, 0.7368765553019965, 0.2556196982451411, 1.496074295060987, -0.25594776352614945, -1.0302066787914688, 0.3771702792035409, 1.5954550568745687, -1.8239541572520326, -0.6292071703871251, 0.8569283151606543, 0.19021096842866161, 0.6607647699069801, -0.0016000980015075767, -0.6033609765671395, 0.6926557249524916, 0.13880646341418457, -1.3362928951925246, 0.5040296861060063, 2.5601117800980524, -0.983051918444861, -0.7450095718104365, -0.8245934015034929, -1.1246483229871902, -0.6547441335375387, -0.8088996560125555, -0.0966860051066942, -1.4863921450232944, 0.18967390658638197, 0.15908685829749233, -0.2691504733360306, -0.18560225336486053, 0.1001975328112677, -0.4706507089738137, 0.2368759547272725, 0.6644170545061568, -0.11309520573149913, 1.1829406966617049, -1.0833015314373051, -0.15088069839314402, -0.2652424034024619, 0.8990779222502281, -0.030734197118241203, -0.46028230155709343, 2.0393872169244824, 0.3883702636590222, 1.133687274935083], \"xaxis\": \"x15\", \"y\": [-0.14243188168373888, -1.0729907558568355, 0.44733250377667716, -1.1897147775895982, 1.092741516710888, -0.06091528550317952, 0.10743674606032749, 0.9042940695647604, 0.5303819578975205, 1.9992339800473369, 0.6456010371124833, -0.7962804132728767, -0.5815192392519256, 0.2597767876385269, -2.459883288053741, -0.4082992590619642, 0.39686139282285504, -0.10328064655423272, -1.1573545857701342, -1.7466222324347853, -1.6081787740748272, 0.042610628533974994, 1.7131089103702466, -0.33970182084475636, -0.9583274897717958, 0.8309717943957573, -1.8513065553096661, -0.43667935832435667, -1.3202801094129164, 0.19412359694222966, 0.3863753886878289, 2.262504342957885, -1.1789996565844338, 0.8610049877785335, 0.35020646357557556, -0.4526706099620868, -1.4208827518870466, -2.0336415880196306, -0.6028790992919976, -0.6667505056960525, 1.034085965991731, 1.6862381136516247, 0.9671590675760109, 0.4687702824218409, -0.11354411524057219, 1.7598471377692582, -0.3133961636622412, 0.7968082245207883, -0.8123852383043507, -0.1815538188028146, -1.2010576577637924, 0.623379003526806, -0.2905917132234972, 1.0907162251266591, -0.943052216702706, -0.6358961634386422, 0.8238944357128126, -1.6910025282864853, -0.5360314141734744, -0.2858234600755065, 0.11739560318332833, 1.3392357088416103, -0.12730657094197811, -0.355344981254377, -0.7888413181153048, 0.010846103051945897, 2.4643060780738653, 0.2688894084296869, -0.6761623948082517, -0.46228423544452435, -0.06823119920909179, 0.5507682072831712, -1.4092521832676117, 0.11165070595437765, 1.0816741381089106, 0.00012294423731891224, 1.6864532375657582, -0.21634623521220717, 1.4069369181982865, 0.14000154269529902, -1.056975185245624, -1.454774926494647, 0.8077501687969396, -0.6826502496255977, 0.6344953632035505, -0.15940212485395602, 1.3448374706334436, 0.5273274117487469, -0.5514095718479104, 0.3176860475959556, -0.0325566071623441, -0.0673720916980821, 0.9991691910935454, 0.4772946025924812, 0.9458312063212977, -1.1631663106908554, 1.0876781943861205, -0.5592269267673681, -0.4905467928214895, -0.43363935487996075], \"yaxis\": \"y15\"}, {\"histfunc\": \"count\", \"histnorm\": \"\", \"marker\": {\"color\": \"rgba(128, 0, 128, 1.0)\", \"line\": {\"color\": \"#4D5663\", \"width\": 1.3}}, \"name\": \"D\", \"nbinsx\": 10, \"opacity\": 0.8, \"orientation\": \"v\", \"type\": \"histogram\", \"x\": [-0.14243188168373888, -1.0729907558568355, 0.44733250377667716, -1.1897147775895982, 1.092741516710888, -0.06091528550317952, 0.10743674606032749, 0.9042940695647604, 0.5303819578975205, 1.9992339800473369, 0.6456010371124833, -0.7962804132728767, -0.5815192392519256, 0.2597767876385269, -2.459883288053741, -0.4082992590619642, 0.39686139282285504, -0.10328064655423272, -1.1573545857701342, -1.7466222324347853, -1.6081787740748272, 0.042610628533974994, 1.7131089103702466, -0.33970182084475636, -0.9583274897717958, 0.8309717943957573, -1.8513065553096661, -0.43667935832435667, -1.3202801094129164, 0.19412359694222966, 0.3863753886878289, 2.262504342957885, -1.1789996565844338, 0.8610049877785335, 0.35020646357557556, -0.4526706099620868, -1.4208827518870466, -2.0336415880196306, -0.6028790992919976, -0.6667505056960525, 1.034085965991731, 1.6862381136516247, 0.9671590675760109, 0.4687702824218409, -0.11354411524057219, 1.7598471377692582, -0.3133961636622412, 0.7968082245207883, -0.8123852383043507, -0.1815538188028146, -1.2010576577637924, 0.623379003526806, -0.2905917132234972, 1.0907162251266591, -0.943052216702706, -0.6358961634386422, 0.8238944357128126, -1.6910025282864853, -0.5360314141734744, -0.2858234600755065, 0.11739560318332833, 1.3392357088416103, -0.12730657094197811, -0.355344981254377, -0.7888413181153048, 0.010846103051945897, 2.4643060780738653, 0.2688894084296869, -0.6761623948082517, -0.46228423544452435, -0.06823119920909179, 0.5507682072831712, -1.4092521832676117, 0.11165070595437765, 1.0816741381089106, 0.00012294423731891224, 1.6864532375657582, -0.21634623521220717, 1.4069369181982865, 0.14000154269529902, -1.056975185245624, -1.454774926494647, 0.8077501687969396, -0.6826502496255977, 0.6344953632035505, -0.15940212485395602, 1.3448374706334436, 0.5273274117487469, -0.5514095718479104, 0.3176860475959556, -0.0325566071623441, -0.0673720916980821, 0.9991691910935454, 0.4772946025924812, 0.9458312063212977, -1.1631663106908554, 1.0876781943861205, -0.5592269267673681, -0.4905467928214895, -0.43363935487996075], \"xaxis\": \"x16\", \"yaxis\": \"y16\"}],\n",
       "                        {\"bargap\": 0.02, \"legend\": {\"bgcolor\": \"#F5F6F9\", \"font\": {\"color\": \"#4D5663\"}}, \"paper_bgcolor\": \"#F5F6F9\", \"plot_bgcolor\": \"#F5F6F9\", \"showlegend\": false, \"template\": {\"data\": {\"bar\": [{\"error_x\": {\"color\": \"#2a3f5f\"}, \"error_y\": {\"color\": \"#2a3f5f\"}, \"marker\": {\"line\": {\"color\": \"#E5ECF6\", \"width\": 0.5}}, \"type\": \"bar\"}], \"barpolar\": [{\"marker\": {\"line\": {\"color\": \"#E5ECF6\", \"width\": 0.5}}, \"type\": \"barpolar\"}], \"carpet\": [{\"aaxis\": {\"endlinecolor\": \"#2a3f5f\", \"gridcolor\": \"white\", \"linecolor\": \"white\", \"minorgridcolor\": \"white\", \"startlinecolor\": \"#2a3f5f\"}, \"baxis\": {\"endlinecolor\": \"#2a3f5f\", \"gridcolor\": \"white\", \"linecolor\": \"white\", \"minorgridcolor\": \"white\", \"startlinecolor\": \"#2a3f5f\"}, \"type\": \"carpet\"}], \"choropleth\": [{\"colorbar\": {\"outlinewidth\": 0, \"ticks\": \"\"}, \"type\": \"choropleth\"}], \"contour\": [{\"colorbar\": {\"outlinewidth\": 0, \"ticks\": \"\"}, \"colorscale\": [[0.0, \"#0d0887\"], [0.1111111111111111, \"#46039f\"], [0.2222222222222222, \"#7201a8\"], [0.3333333333333333, \"#9c179e\"], [0.4444444444444444, \"#bd3786\"], [0.5555555555555556, \"#d8576b\"], [0.6666666666666666, \"#ed7953\"], [0.7777777777777778, \"#fb9f3a\"], [0.8888888888888888, \"#fdca26\"], [1.0, \"#f0f921\"]], \"type\": \"contour\"}], \"contourcarpet\": [{\"colorbar\": {\"outlinewidth\": 0, \"ticks\": \"\"}, \"type\": \"contourcarpet\"}], \"heatmap\": [{\"colorbar\": {\"outlinewidth\": 0, \"ticks\": \"\"}, \"colorscale\": [[0.0, \"#0d0887\"], [0.1111111111111111, \"#46039f\"], [0.2222222222222222, \"#7201a8\"], [0.3333333333333333, \"#9c179e\"], [0.4444444444444444, \"#bd3786\"], [0.5555555555555556, \"#d8576b\"], [0.6666666666666666, \"#ed7953\"], [0.7777777777777778, \"#fb9f3a\"], [0.8888888888888888, \"#fdca26\"], [1.0, \"#f0f921\"]], \"type\": \"heatmap\"}], \"heatmapgl\": [{\"colorbar\": {\"outlinewidth\": 0, \"ticks\": \"\"}, \"colorscale\": [[0.0, \"#0d0887\"], [0.1111111111111111, \"#46039f\"], [0.2222222222222222, \"#7201a8\"], [0.3333333333333333, \"#9c179e\"], [0.4444444444444444, \"#bd3786\"], [0.5555555555555556, \"#d8576b\"], [0.6666666666666666, \"#ed7953\"], [0.7777777777777778, \"#fb9f3a\"], [0.8888888888888888, \"#fdca26\"], [1.0, \"#f0f921\"]], \"type\": \"heatmapgl\"}], \"histogram\": [{\"marker\": {\"colorbar\": {\"outlinewidth\": 0, \"ticks\": \"\"}}, \"type\": \"histogram\"}], \"histogram2d\": [{\"colorbar\": {\"outlinewidth\": 0, \"ticks\": \"\"}, \"colorscale\": [[0.0, \"#0d0887\"], [0.1111111111111111, \"#46039f\"], [0.2222222222222222, \"#7201a8\"], [0.3333333333333333, \"#9c179e\"], [0.4444444444444444, \"#bd3786\"], [0.5555555555555556, \"#d8576b\"], [0.6666666666666666, \"#ed7953\"], [0.7777777777777778, \"#fb9f3a\"], [0.8888888888888888, \"#fdca26\"], [1.0, \"#f0f921\"]], \"type\": \"histogram2d\"}], \"histogram2dcontour\": [{\"colorbar\": {\"outlinewidth\": 0, \"ticks\": \"\"}, \"colorscale\": [[0.0, \"#0d0887\"], [0.1111111111111111, \"#46039f\"], [0.2222222222222222, \"#7201a8\"], [0.3333333333333333, \"#9c179e\"], [0.4444444444444444, \"#bd3786\"], [0.5555555555555556, \"#d8576b\"], [0.6666666666666666, \"#ed7953\"], [0.7777777777777778, \"#fb9f3a\"], [0.8888888888888888, \"#fdca26\"], [1.0, \"#f0f921\"]], \"type\": \"histogram2dcontour\"}], \"mesh3d\": [{\"colorbar\": {\"outlinewidth\": 0, \"ticks\": \"\"}, \"type\": \"mesh3d\"}], \"parcoords\": [{\"line\": {\"colorbar\": {\"outlinewidth\": 0, \"ticks\": \"\"}}, \"type\": \"parcoords\"}], \"pie\": [{\"automargin\": true, \"type\": \"pie\"}], \"scatter\": [{\"marker\": {\"colorbar\": {\"outlinewidth\": 0, \"ticks\": \"\"}}, \"type\": \"scatter\"}], \"scatter3d\": [{\"line\": {\"colorbar\": {\"outlinewidth\": 0, \"ticks\": \"\"}}, \"marker\": {\"colorbar\": {\"outlinewidth\": 0, \"ticks\": \"\"}}, \"type\": \"scatter3d\"}], \"scattercarpet\": [{\"marker\": {\"colorbar\": {\"outlinewidth\": 0, \"ticks\": \"\"}}, \"type\": \"scattercarpet\"}], \"scattergeo\": [{\"marker\": {\"colorbar\": {\"outlinewidth\": 0, \"ticks\": \"\"}}, \"type\": \"scattergeo\"}], \"scattergl\": [{\"marker\": {\"colorbar\": {\"outlinewidth\": 0, \"ticks\": \"\"}}, \"type\": \"scattergl\"}], \"scattermapbox\": [{\"marker\": {\"colorbar\": {\"outlinewidth\": 0, \"ticks\": \"\"}}, \"type\": \"scattermapbox\"}], \"scatterpolar\": [{\"marker\": {\"colorbar\": {\"outlinewidth\": 0, \"ticks\": \"\"}}, \"type\": \"scatterpolar\"}], \"scatterpolargl\": [{\"marker\": {\"colorbar\": {\"outlinewidth\": 0, \"ticks\": \"\"}}, \"type\": \"scatterpolargl\"}], \"scatterternary\": [{\"marker\": {\"colorbar\": {\"outlinewidth\": 0, \"ticks\": \"\"}}, \"type\": \"scatterternary\"}], \"surface\": [{\"colorbar\": {\"outlinewidth\": 0, \"ticks\": \"\"}, \"colorscale\": [[0.0, \"#0d0887\"], [0.1111111111111111, \"#46039f\"], [0.2222222222222222, \"#7201a8\"], [0.3333333333333333, \"#9c179e\"], [0.4444444444444444, \"#bd3786\"], [0.5555555555555556, \"#d8576b\"], [0.6666666666666666, \"#ed7953\"], [0.7777777777777778, \"#fb9f3a\"], [0.8888888888888888, \"#fdca26\"], [1.0, \"#f0f921\"]], \"type\": \"surface\"}], \"table\": [{\"cells\": {\"fill\": {\"color\": \"#EBF0F8\"}, \"line\": {\"color\": \"white\"}}, \"header\": {\"fill\": {\"color\": \"#C8D4E3\"}, \"line\": {\"color\": \"white\"}}, \"type\": \"table\"}]}, \"layout\": {\"annotationdefaults\": {\"arrowcolor\": \"#2a3f5f\", \"arrowhead\": 0, \"arrowwidth\": 1}, \"coloraxis\": {\"colorbar\": {\"outlinewidth\": 0, \"ticks\": \"\"}}, \"colorscale\": {\"diverging\": [[0, \"#8e0152\"], [0.1, \"#c51b7d\"], [0.2, \"#de77ae\"], [0.3, \"#f1b6da\"], [0.4, \"#fde0ef\"], [0.5, \"#f7f7f7\"], [0.6, \"#e6f5d0\"], [0.7, \"#b8e186\"], [0.8, \"#7fbc41\"], [0.9, \"#4d9221\"], [1, \"#276419\"]], \"sequential\": [[0.0, \"#0d0887\"], [0.1111111111111111, \"#46039f\"], [0.2222222222222222, \"#7201a8\"], [0.3333333333333333, \"#9c179e\"], [0.4444444444444444, \"#bd3786\"], [0.5555555555555556, \"#d8576b\"], [0.6666666666666666, \"#ed7953\"], [0.7777777777777778, \"#fb9f3a\"], [0.8888888888888888, \"#fdca26\"], [1.0, \"#f0f921\"]], \"sequentialminus\": [[0.0, \"#0d0887\"], [0.1111111111111111, \"#46039f\"], [0.2222222222222222, \"#7201a8\"], [0.3333333333333333, \"#9c179e\"], [0.4444444444444444, \"#bd3786\"], [0.5555555555555556, \"#d8576b\"], [0.6666666666666666, \"#ed7953\"], [0.7777777777777778, \"#fb9f3a\"], [0.8888888888888888, \"#fdca26\"], [1.0, \"#f0f921\"]]}, \"colorway\": [\"#636efa\", \"#EF553B\", \"#00cc96\", \"#ab63fa\", \"#FFA15A\", \"#19d3f3\", \"#FF6692\", \"#B6E880\", \"#FF97FF\", \"#FECB52\"], \"font\": {\"color\": \"#2a3f5f\"}, \"geo\": {\"bgcolor\": \"white\", \"lakecolor\": \"white\", \"landcolor\": \"#E5ECF6\", \"showlakes\": true, \"showland\": true, \"subunitcolor\": \"white\"}, \"hoverlabel\": {\"align\": \"left\"}, \"hovermode\": \"closest\", \"mapbox\": {\"style\": \"light\"}, \"paper_bgcolor\": \"white\", \"plot_bgcolor\": \"#E5ECF6\", \"polar\": {\"angularaxis\": {\"gridcolor\": \"white\", \"linecolor\": \"white\", \"ticks\": \"\"}, \"bgcolor\": \"#E5ECF6\", \"radialaxis\": {\"gridcolor\": \"white\", \"linecolor\": \"white\", \"ticks\": \"\"}}, \"scene\": {\"xaxis\": {\"backgroundcolor\": \"#E5ECF6\", \"gridcolor\": \"white\", \"gridwidth\": 2, \"linecolor\": \"white\", \"showbackground\": true, \"ticks\": \"\", \"zerolinecolor\": \"white\"}, \"yaxis\": {\"backgroundcolor\": \"#E5ECF6\", \"gridcolor\": \"white\", \"gridwidth\": 2, \"linecolor\": \"white\", \"showbackground\": true, \"ticks\": \"\", \"zerolinecolor\": \"white\"}, \"zaxis\": {\"backgroundcolor\": \"#E5ECF6\", \"gridcolor\": \"white\", \"gridwidth\": 2, \"linecolor\": \"white\", \"showbackground\": true, \"ticks\": \"\", \"zerolinecolor\": \"white\"}}, \"shapedefaults\": {\"line\": {\"color\": \"#2a3f5f\"}}, \"ternary\": {\"aaxis\": {\"gridcolor\": \"white\", \"linecolor\": \"white\", \"ticks\": \"\"}, \"baxis\": {\"gridcolor\": \"white\", \"linecolor\": \"white\", \"ticks\": \"\"}, \"bgcolor\": \"#E5ECF6\", \"caxis\": {\"gridcolor\": \"white\", \"linecolor\": \"white\", \"ticks\": \"\"}}, \"title\": {\"x\": 0.05}, \"xaxis\": {\"automargin\": true, \"gridcolor\": \"white\", \"linecolor\": \"white\", \"ticks\": \"\", \"title\": {\"standoff\": 15}, \"zerolinecolor\": \"white\", \"zerolinewidth\": 2}, \"yaxis\": {\"automargin\": true, \"gridcolor\": \"white\", \"linecolor\": \"white\", \"ticks\": \"\", \"title\": {\"standoff\": 15}, \"zerolinecolor\": \"white\", \"zerolinewidth\": 2}}}, \"title\": {\"font\": {\"color\": \"#4D5663\"}}, \"xaxis\": {\"anchor\": \"y\", \"domain\": [0.0, 0.2125], \"gridcolor\": \"#E1E5ED\", \"showgrid\": false, \"tickfont\": {\"color\": \"#4D5663\"}, \"title\": {\"font\": {\"color\": \"#4D5663\"}, \"text\": \"\"}, \"zerolinecolor\": \"#E1E5ED\"}, \"xaxis10\": {\"anchor\": \"y10\", \"domain\": [0.2625, 0.475], \"gridcolor\": \"#E1E5ED\", \"showgrid\": false, \"tickfont\": {\"color\": \"#4D5663\"}, \"title\": {\"font\": {\"color\": \"#4D5663\"}, \"text\": \"\"}, \"zerolinecolor\": \"#E1E5ED\"}, \"xaxis11\": {\"anchor\": \"y11\", \"domain\": [0.525, 0.7375], \"gridcolor\": \"#E1E5ED\", \"showgrid\": false, \"tickfont\": {\"color\": \"#4D5663\"}, \"title\": {\"font\": {\"color\": \"#4D5663\"}, \"text\": \"\"}, \"zerolinecolor\": \"#E1E5ED\"}, \"xaxis12\": {\"anchor\": \"y12\", \"domain\": [0.7875, 1.0], \"gridcolor\": \"#E1E5ED\", \"showgrid\": false, \"tickfont\": {\"color\": \"#4D5663\"}, \"title\": {\"font\": {\"color\": \"#4D5663\"}, \"text\": \"\"}, \"zerolinecolor\": \"#E1E5ED\"}, \"xaxis13\": {\"anchor\": \"y13\", \"domain\": [0.0, 0.2125], \"gridcolor\": \"#E1E5ED\", \"showgrid\": false, \"tickfont\": {\"color\": \"#4D5663\"}, \"title\": {\"font\": {\"color\": \"#4D5663\"}, \"text\": \"\"}, \"zerolinecolor\": \"#E1E5ED\"}, \"xaxis14\": {\"anchor\": \"y14\", \"domain\": [0.2625, 0.475], \"gridcolor\": \"#E1E5ED\", \"showgrid\": false, \"tickfont\": {\"color\": \"#4D5663\"}, \"title\": {\"font\": {\"color\": \"#4D5663\"}, \"text\": \"\"}, \"zerolinecolor\": \"#E1E5ED\"}, \"xaxis15\": {\"anchor\": \"y15\", \"domain\": [0.525, 0.7375], \"gridcolor\": \"#E1E5ED\", \"showgrid\": false, \"tickfont\": {\"color\": \"#4D5663\"}, \"title\": {\"font\": {\"color\": \"#4D5663\"}, \"text\": \"\"}, \"zerolinecolor\": \"#E1E5ED\"}, \"xaxis16\": {\"anchor\": \"y16\", \"domain\": [0.7875, 1.0], \"gridcolor\": \"#E1E5ED\", \"showgrid\": false, \"tickfont\": {\"color\": \"#4D5663\"}, \"title\": {\"font\": {\"color\": \"#4D5663\"}, \"text\": \"\"}, \"zerolinecolor\": \"#E1E5ED\"}, \"xaxis2\": {\"anchor\": \"y2\", \"domain\": [0.2625, 0.475], \"gridcolor\": \"#E1E5ED\", \"showgrid\": false, \"tickfont\": {\"color\": \"#4D5663\"}, \"title\": {\"font\": {\"color\": \"#4D5663\"}, \"text\": \"\"}, \"zerolinecolor\": \"#E1E5ED\"}, \"xaxis3\": {\"anchor\": \"y3\", \"domain\": [0.525, 0.7375], \"gridcolor\": \"#E1E5ED\", \"showgrid\": false, \"tickfont\": {\"color\": \"#4D5663\"}, \"title\": {\"font\": {\"color\": \"#4D5663\"}, \"text\": \"\"}, \"zerolinecolor\": \"#E1E5ED\"}, \"xaxis4\": {\"anchor\": \"y4\", \"domain\": [0.7875, 1.0], \"gridcolor\": \"#E1E5ED\", \"showgrid\": false, \"tickfont\": {\"color\": \"#4D5663\"}, \"title\": {\"font\": {\"color\": \"#4D5663\"}, \"text\": \"\"}, \"zerolinecolor\": \"#E1E5ED\"}, \"xaxis5\": {\"anchor\": \"y5\", \"domain\": [0.0, 0.2125], \"gridcolor\": \"#E1E5ED\", \"showgrid\": false, \"tickfont\": {\"color\": \"#4D5663\"}, \"title\": {\"font\": {\"color\": \"#4D5663\"}, \"text\": \"\"}, \"zerolinecolor\": \"#E1E5ED\"}, \"xaxis6\": {\"anchor\": \"y6\", \"domain\": [0.2625, 0.475], \"gridcolor\": \"#E1E5ED\", \"showgrid\": false, \"tickfont\": {\"color\": \"#4D5663\"}, \"title\": {\"font\": {\"color\": \"#4D5663\"}, \"text\": \"\"}, \"zerolinecolor\": \"#E1E5ED\"}, \"xaxis7\": {\"anchor\": \"y7\", \"domain\": [0.525, 0.7375], \"gridcolor\": \"#E1E5ED\", \"showgrid\": false, \"tickfont\": {\"color\": \"#4D5663\"}, \"title\": {\"font\": {\"color\": \"#4D5663\"}, \"text\": \"\"}, \"zerolinecolor\": \"#E1E5ED\"}, \"xaxis8\": {\"anchor\": \"y8\", \"domain\": [0.7875, 1.0], \"gridcolor\": \"#E1E5ED\", \"showgrid\": false, \"tickfont\": {\"color\": \"#4D5663\"}, \"title\": {\"font\": {\"color\": \"#4D5663\"}, \"text\": \"\"}, \"zerolinecolor\": \"#E1E5ED\"}, \"xaxis9\": {\"anchor\": \"y9\", \"domain\": [0.0, 0.2125], \"gridcolor\": \"#E1E5ED\", \"showgrid\": false, \"tickfont\": {\"color\": \"#4D5663\"}, \"title\": {\"font\": {\"color\": \"#4D5663\"}, \"text\": \"\"}, \"zerolinecolor\": \"#E1E5ED\"}, \"yaxis\": {\"anchor\": \"x\", \"domain\": [0.8025, 1.0], \"gridcolor\": \"#E1E5ED\", \"showgrid\": false, \"tickfont\": {\"color\": \"#4D5663\"}, \"title\": {\"font\": {\"color\": \"#4D5663\"}, \"text\": \"\"}, \"zerolinecolor\": \"#E1E5ED\"}, \"yaxis10\": {\"anchor\": \"x10\", \"domain\": [0.2675, 0.465], \"gridcolor\": \"#E1E5ED\", \"showgrid\": false, \"tickfont\": {\"color\": \"#4D5663\"}, \"title\": {\"font\": {\"color\": \"#4D5663\"}, \"text\": \"\"}, \"zerolinecolor\": \"#E1E5ED\"}, \"yaxis11\": {\"anchor\": \"x11\", \"domain\": [0.2675, 0.465], \"gridcolor\": \"#E1E5ED\", \"showgrid\": false, \"tickfont\": {\"color\": \"#4D5663\"}, \"title\": {\"font\": {\"color\": \"#4D5663\"}, \"text\": \"\"}, \"zerolinecolor\": \"#E1E5ED\"}, \"yaxis12\": {\"anchor\": \"x12\", \"domain\": [0.2675, 0.465], \"gridcolor\": \"#E1E5ED\", \"showgrid\": false, \"tickfont\": {\"color\": \"#4D5663\"}, \"title\": {\"font\": {\"color\": \"#4D5663\"}, \"text\": \"\"}, \"zerolinecolor\": \"#E1E5ED\"}, \"yaxis13\": {\"anchor\": \"x13\", \"domain\": [0.0, 0.1975], \"gridcolor\": \"#E1E5ED\", \"showgrid\": false, \"tickfont\": {\"color\": \"#4D5663\"}, \"title\": {\"font\": {\"color\": \"#4D5663\"}, \"text\": \"\"}, \"zerolinecolor\": \"#E1E5ED\"}, \"yaxis14\": {\"anchor\": \"x14\", \"domain\": [0.0, 0.1975], \"gridcolor\": \"#E1E5ED\", \"showgrid\": false, \"tickfont\": {\"color\": \"#4D5663\"}, \"title\": {\"font\": {\"color\": \"#4D5663\"}, \"text\": \"\"}, \"zerolinecolor\": \"#E1E5ED\"}, \"yaxis15\": {\"anchor\": \"x15\", \"domain\": [0.0, 0.1975], \"gridcolor\": \"#E1E5ED\", \"showgrid\": false, \"tickfont\": {\"color\": \"#4D5663\"}, \"title\": {\"font\": {\"color\": \"#4D5663\"}, \"text\": \"\"}, \"zerolinecolor\": \"#E1E5ED\"}, \"yaxis16\": {\"anchor\": \"x16\", \"domain\": [0.0, 0.1975], \"gridcolor\": \"#E1E5ED\", \"showgrid\": false, \"tickfont\": {\"color\": \"#4D5663\"}, \"title\": {\"font\": {\"color\": \"#4D5663\"}, \"text\": \"\"}, \"zerolinecolor\": \"#E1E5ED\"}, \"yaxis2\": {\"anchor\": \"x2\", \"domain\": [0.8025, 1.0], \"gridcolor\": \"#E1E5ED\", \"showgrid\": false, \"tickfont\": {\"color\": \"#4D5663\"}, \"title\": {\"font\": {\"color\": \"#4D5663\"}, \"text\": \"\"}, \"zerolinecolor\": \"#E1E5ED\"}, \"yaxis3\": {\"anchor\": \"x3\", \"domain\": [0.8025, 1.0], \"gridcolor\": \"#E1E5ED\", \"showgrid\": false, \"tickfont\": {\"color\": \"#4D5663\"}, \"title\": {\"font\": {\"color\": \"#4D5663\"}, \"text\": \"\"}, \"zerolinecolor\": \"#E1E5ED\"}, \"yaxis4\": {\"anchor\": \"x4\", \"domain\": [0.8025, 1.0], \"gridcolor\": \"#E1E5ED\", \"showgrid\": false, \"tickfont\": {\"color\": \"#4D5663\"}, \"title\": {\"font\": {\"color\": \"#4D5663\"}, \"text\": \"\"}, \"zerolinecolor\": \"#E1E5ED\"}, \"yaxis5\": {\"anchor\": \"x5\", \"domain\": [0.535, 0.7325], \"gridcolor\": \"#E1E5ED\", \"showgrid\": false, \"tickfont\": {\"color\": \"#4D5663\"}, \"title\": {\"font\": {\"color\": \"#4D5663\"}, \"text\": \"\"}, \"zerolinecolor\": \"#E1E5ED\"}, \"yaxis6\": {\"anchor\": \"x6\", \"domain\": [0.535, 0.7325], \"gridcolor\": \"#E1E5ED\", \"showgrid\": false, \"tickfont\": {\"color\": \"#4D5663\"}, \"title\": {\"font\": {\"color\": \"#4D5663\"}, \"text\": \"\"}, \"zerolinecolor\": \"#E1E5ED\"}, \"yaxis7\": {\"anchor\": \"x7\", \"domain\": [0.535, 0.7325], \"gridcolor\": \"#E1E5ED\", \"showgrid\": false, \"tickfont\": {\"color\": \"#4D5663\"}, \"title\": {\"font\": {\"color\": \"#4D5663\"}, \"text\": \"\"}, \"zerolinecolor\": \"#E1E5ED\"}, \"yaxis8\": {\"anchor\": \"x8\", \"domain\": [0.535, 0.7325], \"gridcolor\": \"#E1E5ED\", \"showgrid\": false, \"tickfont\": {\"color\": \"#4D5663\"}, \"title\": {\"font\": {\"color\": \"#4D5663\"}, \"text\": \"\"}, \"zerolinecolor\": \"#E1E5ED\"}, \"yaxis9\": {\"anchor\": \"x9\", \"domain\": [0.2675, 0.465], \"gridcolor\": \"#E1E5ED\", \"showgrid\": false, \"tickfont\": {\"color\": \"#4D5663\"}, \"title\": {\"font\": {\"color\": \"#4D5663\"}, \"text\": \"\"}, \"zerolinecolor\": \"#E1E5ED\"}},\n",
       "                        {\"showLink\": true, \"linkText\": \"Export to plot.ly\", \"plotlyServerURL\": \"https://plot.ly\", \"responsive\": true}\n",
       "                    ).then(function(){\n",
       "                            \n",
       "var gd = document.getElementById('6d8d6c76-0435-4bea-a067-daffc8808eac');\n",
       "var x = new MutationObserver(function (mutations, observer) {{\n",
       "        var display = window.getComputedStyle(gd).display;\n",
       "        if (!display || display === 'none') {{\n",
       "            console.log([gd, 'removed!']);\n",
       "            Plotly.purge(gd);\n",
       "            observer.disconnect();\n",
       "        }}\n",
       "}});\n",
       "\n",
       "// Listen for the removal of the full notebook cells\n",
       "var notebookContainer = gd.closest('#notebook-container');\n",
       "if (notebookContainer) {{\n",
       "    x.observe(notebookContainer, {childList: true});\n",
       "}}\n",
       "\n",
       "// Listen for the clearing of the current output cell\n",
       "var outputEl = gd.closest('.output');\n",
       "if (outputEl) {{\n",
       "    x.observe(outputEl, {childList: true});\n",
       "}}\n",
       "\n",
       "                        })\n",
       "                };\n",
       "                });\n",
       "            </script>\n",
       "        </div>"
      ]
     },
     "metadata": {},
     "output_type": "display_data"
    }
   ],
   "source": [
    "df.scatter_matrix()"
   ]
  },
  {
   "cell_type": "markdown",
   "metadata": {
    "colab_type": "text",
    "id": "KMvW1ZaYiStG"
   },
   "source": [
    "## Visualização de dados reais ##"
   ]
  },
  {
   "cell_type": "markdown",
   "metadata": {},
   "source": [
    "**Lembre-se de habilitar o modo offline do plotly**"
   ]
  },
  {
   "cell_type": "code",
   "execution_count": 17,
   "metadata": {},
   "outputs": [
    {
     "data": {
      "text/html": [
       "        <script type=\"text/javascript\">\n",
       "        window.PlotlyConfig = {MathJaxConfig: 'local'};\n",
       "        if (window.MathJax) {MathJax.Hub.Config({SVG: {font: \"STIX-Web\"}});}\n",
       "        if (typeof require !== 'undefined') {\n",
       "        require.undef(\"plotly\");\n",
       "        requirejs.config({\n",
       "            paths: {\n",
       "                'plotly': ['https://cdn.plot.ly/plotly-latest.min']\n",
       "            }\n",
       "        });\n",
       "        require(['plotly'], function(Plotly) {\n",
       "            window._Plotly = Plotly;\n",
       "        });\n",
       "        }\n",
       "        </script>\n",
       "        "
      ]
     },
     "metadata": {},
     "output_type": "display_data"
    }
   ],
   "source": [
    "import cufflinks as cf\n",
    "cf.go_offline()"
   ]
  },
  {
   "cell_type": "markdown",
   "metadata": {},
   "source": [
    "**Importe o pandas**"
   ]
  },
  {
   "cell_type": "code",
   "execution_count": 18,
   "metadata": {},
   "outputs": [],
   "source": [
    "import pandas as pd"
   ]
  },
  {
   "cell_type": "markdown",
   "metadata": {},
   "source": [
    "**Dataset de Vendas da Olist**"
   ]
  },
  {
   "cell_type": "markdown",
   "metadata": {},
   "source": [
    "- O dataset já está disponível no diretório datasets. Não é necessário download.\n",
    "- Se quiser conhecer mais sobre esse dataset, segue o link https://www.kaggle.com/olistbr/brazilian-ecommerce/version/2"
   ]
  },
  {
   "cell_type": "code",
   "execution_count": 19,
   "metadata": {
    "colab": {},
    "colab_type": "code",
    "id": "RSEX7367iStH"
   },
   "outputs": [],
   "source": [
    "df = pd.read_csv('C:\\CursoMinerandoDados\\datasets\\olist_classified_public_dataset.csv')"
   ]
  },
  {
   "cell_type": "markdown",
   "metadata": {},
   "source": [
    "**Visualizando a base de dados**"
   ]
  },
  {
   "cell_type": "code",
   "execution_count": 20,
   "metadata": {
    "colab": {},
    "colab_type": "code",
    "id": "REH3E2a2iStJ",
    "outputId": "c883889b-756f-497e-93db-17785d23caa3"
   },
   "outputs": [
    {
     "data": {
      "text/html": [
       "<div>\n",
       "<style scoped>\n",
       "    .dataframe tbody tr th:only-of-type {\n",
       "        vertical-align: middle;\n",
       "    }\n",
       "\n",
       "    .dataframe tbody tr th {\n",
       "        vertical-align: top;\n",
       "    }\n",
       "\n",
       "    .dataframe thead th {\n",
       "        text-align: right;\n",
       "    }\n",
       "</style>\n",
       "<table border=\"1\" class=\"dataframe\">\n",
       "  <thead>\n",
       "    <tr style=\"text-align: right;\">\n",
       "      <th></th>\n",
       "      <th>Unnamed: 0</th>\n",
       "      <th>id</th>\n",
       "      <th>order_status</th>\n",
       "      <th>order_products_value</th>\n",
       "      <th>order_freight_value</th>\n",
       "      <th>order_items_qty</th>\n",
       "      <th>order_sellers_qty</th>\n",
       "      <th>order_purchase_timestamp</th>\n",
       "      <th>order_aproved_at</th>\n",
       "      <th>order_estimated_delivery_date</th>\n",
       "      <th>...</th>\n",
       "      <th>votes_delayed</th>\n",
       "      <th>votes_low_quality</th>\n",
       "      <th>votes_return</th>\n",
       "      <th>votes_not_as_anounced</th>\n",
       "      <th>votes_partial_delivery</th>\n",
       "      <th>votes_other_delivery</th>\n",
       "      <th>votes_other_order</th>\n",
       "      <th>votes_satisfied</th>\n",
       "      <th>most_voted_subclass</th>\n",
       "      <th>most_voted_class</th>\n",
       "    </tr>\n",
       "  </thead>\n",
       "  <tbody>\n",
       "    <tr>\n",
       "      <th>0</th>\n",
       "      <td>0</td>\n",
       "      <td>1</td>\n",
       "      <td>delivered</td>\n",
       "      <td>89.99</td>\n",
       "      <td>14.38</td>\n",
       "      <td>1</td>\n",
       "      <td>1</td>\n",
       "      <td>2017-08-30 11:41:01.000000</td>\n",
       "      <td>2017-08-30 11:55:08.970352</td>\n",
       "      <td>2017-09-21 00:00:00.000000</td>\n",
       "      <td>...</td>\n",
       "      <td>0</td>\n",
       "      <td>0</td>\n",
       "      <td>0</td>\n",
       "      <td>0</td>\n",
       "      <td>0</td>\n",
       "      <td>0</td>\n",
       "      <td>0</td>\n",
       "      <td>3</td>\n",
       "      <td>satisfeito</td>\n",
       "      <td>satisfeito_com_pedido</td>\n",
       "    </tr>\n",
       "    <tr>\n",
       "      <th>1</th>\n",
       "      <td>1</td>\n",
       "      <td>2</td>\n",
       "      <td>delivered</td>\n",
       "      <td>69.00</td>\n",
       "      <td>15.23</td>\n",
       "      <td>1</td>\n",
       "      <td>1</td>\n",
       "      <td>2017-09-26 09:13:36.000000</td>\n",
       "      <td>2017-09-26 09:28:10.922048</td>\n",
       "      <td>2017-10-24 00:00:00.000000</td>\n",
       "      <td>...</td>\n",
       "      <td>0</td>\n",
       "      <td>0</td>\n",
       "      <td>0</td>\n",
       "      <td>0</td>\n",
       "      <td>0</td>\n",
       "      <td>0</td>\n",
       "      <td>0</td>\n",
       "      <td>0</td>\n",
       "      <td>antes_prazo</td>\n",
       "      <td>satisfeito_com_pedido</td>\n",
       "    </tr>\n",
       "    <tr>\n",
       "      <th>2</th>\n",
       "      <td>2</td>\n",
       "      <td>3</td>\n",
       "      <td>delivered</td>\n",
       "      <td>99.80</td>\n",
       "      <td>15.86</td>\n",
       "      <td>2</td>\n",
       "      <td>4</td>\n",
       "      <td>2018-01-15 15:50:42.000000</td>\n",
       "      <td>2018-01-17 07:29:56.419769</td>\n",
       "      <td>2018-02-05 00:00:00.000000</td>\n",
       "      <td>...</td>\n",
       "      <td>0</td>\n",
       "      <td>0</td>\n",
       "      <td>0</td>\n",
       "      <td>0</td>\n",
       "      <td>3</td>\n",
       "      <td>0</td>\n",
       "      <td>0</td>\n",
       "      <td>0</td>\n",
       "      <td>entrega_parcial</td>\n",
       "      <td>problemas_de_entrega</td>\n",
       "    </tr>\n",
       "    <tr>\n",
       "      <th>3</th>\n",
       "      <td>3</td>\n",
       "      <td>4</td>\n",
       "      <td>delivered</td>\n",
       "      <td>87.00</td>\n",
       "      <td>12.74</td>\n",
       "      <td>1</td>\n",
       "      <td>1</td>\n",
       "      <td>2018-02-04 11:16:42.000000</td>\n",
       "      <td>2018-02-06 05:31:50.990164</td>\n",
       "      <td>2018-03-13 00:00:00.000000</td>\n",
       "      <td>...</td>\n",
       "      <td>3</td>\n",
       "      <td>0</td>\n",
       "      <td>0</td>\n",
       "      <td>0</td>\n",
       "      <td>0</td>\n",
       "      <td>0</td>\n",
       "      <td>0</td>\n",
       "      <td>0</td>\n",
       "      <td>atrasado</td>\n",
       "      <td>problemas_de_entrega</td>\n",
       "    </tr>\n",
       "    <tr>\n",
       "      <th>4</th>\n",
       "      <td>4</td>\n",
       "      <td>5</td>\n",
       "      <td>delivered</td>\n",
       "      <td>99.90</td>\n",
       "      <td>17.95</td>\n",
       "      <td>1</td>\n",
       "      <td>2</td>\n",
       "      <td>2017-12-07 11:58:42.000000</td>\n",
       "      <td>2017-12-08 02:36:49.587515</td>\n",
       "      <td>2018-01-03 00:00:00.000000</td>\n",
       "      <td>...</td>\n",
       "      <td>0</td>\n",
       "      <td>0</td>\n",
       "      <td>0</td>\n",
       "      <td>0</td>\n",
       "      <td>3</td>\n",
       "      <td>0</td>\n",
       "      <td>0</td>\n",
       "      <td>0</td>\n",
       "      <td>entrega_parcial</td>\n",
       "      <td>problemas_de_entrega</td>\n",
       "    </tr>\n",
       "  </tbody>\n",
       "</table>\n",
       "<p>5 rows × 34 columns</p>\n",
       "</div>"
      ],
      "text/plain": [
       "   Unnamed: 0  id order_status  order_products_value  order_freight_value  \\\n",
       "0           0   1    delivered                 89.99                14.38   \n",
       "1           1   2    delivered                 69.00                15.23   \n",
       "2           2   3    delivered                 99.80                15.86   \n",
       "3           3   4    delivered                 87.00                12.74   \n",
       "4           4   5    delivered                 99.90                17.95   \n",
       "\n",
       "   order_items_qty  order_sellers_qty    order_purchase_timestamp  \\\n",
       "0                1                  1  2017-08-30 11:41:01.000000   \n",
       "1                1                  1  2017-09-26 09:13:36.000000   \n",
       "2                2                  4  2018-01-15 15:50:42.000000   \n",
       "3                1                  1  2018-02-04 11:16:42.000000   \n",
       "4                1                  2  2017-12-07 11:58:42.000000   \n",
       "\n",
       "             order_aproved_at order_estimated_delivery_date  ...  \\\n",
       "0  2017-08-30 11:55:08.970352    2017-09-21 00:00:00.000000  ...   \n",
       "1  2017-09-26 09:28:10.922048    2017-10-24 00:00:00.000000  ...   \n",
       "2  2018-01-17 07:29:56.419769    2018-02-05 00:00:00.000000  ...   \n",
       "3  2018-02-06 05:31:50.990164    2018-03-13 00:00:00.000000  ...   \n",
       "4  2017-12-08 02:36:49.587515    2018-01-03 00:00:00.000000  ...   \n",
       "\n",
       "  votes_delayed votes_low_quality votes_return  votes_not_as_anounced  \\\n",
       "0             0                 0            0                      0   \n",
       "1             0                 0            0                      0   \n",
       "2             0                 0            0                      0   \n",
       "3             3                 0            0                      0   \n",
       "4             0                 0            0                      0   \n",
       "\n",
       "  votes_partial_delivery  votes_other_delivery  votes_other_order  \\\n",
       "0                      0                     0                  0   \n",
       "1                      0                     0                  0   \n",
       "2                      3                     0                  0   \n",
       "3                      0                     0                  0   \n",
       "4                      3                     0                  0   \n",
       "\n",
       "   votes_satisfied  most_voted_subclass       most_voted_class  \n",
       "0                3           satisfeito  satisfeito_com_pedido  \n",
       "1                0          antes_prazo  satisfeito_com_pedido  \n",
       "2                0      entrega_parcial   problemas_de_entrega  \n",
       "3                0             atrasado   problemas_de_entrega  \n",
       "4                0      entrega_parcial   problemas_de_entrega  \n",
       "\n",
       "[5 rows x 34 columns]"
      ]
     },
     "execution_count": 20,
     "metadata": {},
     "output_type": "execute_result"
    }
   ],
   "source": [
    "df.head()"
   ]
  },
  {
   "cell_type": "code",
   "execution_count": 21,
   "metadata": {},
   "outputs": [
    {
     "name": "stdout",
     "output_type": "stream",
     "text": [
      "<class 'pandas.core.frame.DataFrame'>\n",
      "RangeIndex: 3584 entries, 0 to 3583\n",
      "Data columns (total 34 columns):\n",
      " #   Column                         Non-Null Count  Dtype  \n",
      "---  ------                         --------------  -----  \n",
      " 0   Unnamed: 0                     3584 non-null   int64  \n",
      " 1   id                             3584 non-null   int64  \n",
      " 2   order_status                   3584 non-null   object \n",
      " 3   order_products_value           3584 non-null   float64\n",
      " 4   order_freight_value            3584 non-null   float64\n",
      " 5   order_items_qty                3584 non-null   int64  \n",
      " 6   order_sellers_qty              3584 non-null   int64  \n",
      " 7   order_purchase_timestamp       3584 non-null   object \n",
      " 8   order_aproved_at               3584 non-null   object \n",
      " 9   order_estimated_delivery_date  3584 non-null   object \n",
      " 10  order_delivered_customer_date  3467 non-null   object \n",
      " 11  customer_city                  3584 non-null   object \n",
      " 12  customer_state                 3584 non-null   object \n",
      " 13  customer_zip_code_prefix       3584 non-null   int64  \n",
      " 14  product_category_name          3584 non-null   object \n",
      " 15  product_name_lenght            3584 non-null   int64  \n",
      " 16  product_description_lenght     3584 non-null   int64  \n",
      " 17  product_photos_qty             3584 non-null   int64  \n",
      " 18  review_score                   3584 non-null   int64  \n",
      " 19  review_comment_title           0 non-null      float64\n",
      " 20  review_comment_message         3584 non-null   object \n",
      " 21  review_creation_date           3584 non-null   object \n",
      " 22  review_answer_timestamp        3584 non-null   object \n",
      " 23  votes_before_estimate          3584 non-null   int64  \n",
      " 24  votes_delayed                  3584 non-null   int64  \n",
      " 25  votes_low_quality              3584 non-null   int64  \n",
      " 26  votes_return                   3584 non-null   int64  \n",
      " 27  votes_not_as_anounced          3584 non-null   int64  \n",
      " 28  votes_partial_delivery         3584 non-null   int64  \n",
      " 29  votes_other_delivery           3584 non-null   int64  \n",
      " 30  votes_other_order              3584 non-null   int64  \n",
      " 31  votes_satisfied                3584 non-null   int64  \n",
      " 32  most_voted_subclass            3413 non-null   object \n",
      " 33  most_voted_class               3413 non-null   object \n",
      "dtypes: float64(3), int64(18), object(13)\n",
      "memory usage: 952.1+ KB\n"
     ]
    }
   ],
   "source": [
    "# Visualiza tipo das colunas\n",
    "df.info()"
   ]
  },
  {
   "cell_type": "markdown",
   "metadata": {},
   "source": [
    "## Perguntas aos dados"
   ]
  },
  {
   "cell_type": "markdown",
   "metadata": {},
   "source": [
    "- Quais a distribuicao dos status dos pedidos?\n",
    "- Quais os meses do ano houve mais vendas?\n",
    "- Qual a quantidade de items de um pedido? (medio)\n",
    "- Qual a quantidade de vendedores em um pedido ? (medio)\n",
    "- O valor do frete tende aumentar com o preco do produto?\n",
    "- Qual o tempo medio de entrega?\n",
    "- Como foi as vendas por mês?\n",
    "- Quais meses superaram a meta de vendas?\n",
    "- Como foi a venda por mês se comparado ao ano de 2016?"
   ]
  },
  {
   "cell_type": "code",
   "execution_count": 22,
   "metadata": {
    "colab": {},
    "colab_type": "code",
    "id": "RluLdJ_BiStQ",
    "outputId": "0964be2e-8b45-40f2-9f1a-5554d1361d13"
   },
   "outputs": [
    {
     "data": {
      "application/vnd.plotly.v1+json": {
       "config": {
        "linkText": "Export to plot.ly",
        "plotlyServerURL": "https://plot.ly",
        "showLink": true
       },
       "data": [
        {
         "marker": {
          "color": "rgba(255, 153, 51, 0.6)",
          "line": {
           "color": "rgba(255, 153, 51, 1.0)",
           "width": 1
          }
         },
         "name": "order_status",
         "orientation": "v",
         "text": "",
         "type": "bar",
         "x": [
          "delivered",
          "shipped",
          "canceled",
          "invoiced",
          "processing"
         ],
         "y": [
          3467,
          48,
          25,
          24,
          20
         ]
        }
       ],
       "layout": {
        "legend": {
         "bgcolor": "#F5F6F9",
         "font": {
          "color": "#4D5663"
         }
        },
        "paper_bgcolor": "#F5F6F9",
        "plot_bgcolor": "#F5F6F9",
        "template": {
         "data": {
          "bar": [
           {
            "error_x": {
             "color": "#2a3f5f"
            },
            "error_y": {
             "color": "#2a3f5f"
            },
            "marker": {
             "line": {
              "color": "#E5ECF6",
              "width": 0.5
             }
            },
            "type": "bar"
           }
          ],
          "barpolar": [
           {
            "marker": {
             "line": {
              "color": "#E5ECF6",
              "width": 0.5
             }
            },
            "type": "barpolar"
           }
          ],
          "carpet": [
           {
            "aaxis": {
             "endlinecolor": "#2a3f5f",
             "gridcolor": "white",
             "linecolor": "white",
             "minorgridcolor": "white",
             "startlinecolor": "#2a3f5f"
            },
            "baxis": {
             "endlinecolor": "#2a3f5f",
             "gridcolor": "white",
             "linecolor": "white",
             "minorgridcolor": "white",
             "startlinecolor": "#2a3f5f"
            },
            "type": "carpet"
           }
          ],
          "choropleth": [
           {
            "colorbar": {
             "outlinewidth": 0,
             "ticks": ""
            },
            "type": "choropleth"
           }
          ],
          "contour": [
           {
            "colorbar": {
             "outlinewidth": 0,
             "ticks": ""
            },
            "colorscale": [
             [
              0,
              "#0d0887"
             ],
             [
              0.1111111111111111,
              "#46039f"
             ],
             [
              0.2222222222222222,
              "#7201a8"
             ],
             [
              0.3333333333333333,
              "#9c179e"
             ],
             [
              0.4444444444444444,
              "#bd3786"
             ],
             [
              0.5555555555555556,
              "#d8576b"
             ],
             [
              0.6666666666666666,
              "#ed7953"
             ],
             [
              0.7777777777777778,
              "#fb9f3a"
             ],
             [
              0.8888888888888888,
              "#fdca26"
             ],
             [
              1,
              "#f0f921"
             ]
            ],
            "type": "contour"
           }
          ],
          "contourcarpet": [
           {
            "colorbar": {
             "outlinewidth": 0,
             "ticks": ""
            },
            "type": "contourcarpet"
           }
          ],
          "heatmap": [
           {
            "colorbar": {
             "outlinewidth": 0,
             "ticks": ""
            },
            "colorscale": [
             [
              0,
              "#0d0887"
             ],
             [
              0.1111111111111111,
              "#46039f"
             ],
             [
              0.2222222222222222,
              "#7201a8"
             ],
             [
              0.3333333333333333,
              "#9c179e"
             ],
             [
              0.4444444444444444,
              "#bd3786"
             ],
             [
              0.5555555555555556,
              "#d8576b"
             ],
             [
              0.6666666666666666,
              "#ed7953"
             ],
             [
              0.7777777777777778,
              "#fb9f3a"
             ],
             [
              0.8888888888888888,
              "#fdca26"
             ],
             [
              1,
              "#f0f921"
             ]
            ],
            "type": "heatmap"
           }
          ],
          "heatmapgl": [
           {
            "colorbar": {
             "outlinewidth": 0,
             "ticks": ""
            },
            "colorscale": [
             [
              0,
              "#0d0887"
             ],
             [
              0.1111111111111111,
              "#46039f"
             ],
             [
              0.2222222222222222,
              "#7201a8"
             ],
             [
              0.3333333333333333,
              "#9c179e"
             ],
             [
              0.4444444444444444,
              "#bd3786"
             ],
             [
              0.5555555555555556,
              "#d8576b"
             ],
             [
              0.6666666666666666,
              "#ed7953"
             ],
             [
              0.7777777777777778,
              "#fb9f3a"
             ],
             [
              0.8888888888888888,
              "#fdca26"
             ],
             [
              1,
              "#f0f921"
             ]
            ],
            "type": "heatmapgl"
           }
          ],
          "histogram": [
           {
            "marker": {
             "colorbar": {
              "outlinewidth": 0,
              "ticks": ""
             }
            },
            "type": "histogram"
           }
          ],
          "histogram2d": [
           {
            "colorbar": {
             "outlinewidth": 0,
             "ticks": ""
            },
            "colorscale": [
             [
              0,
              "#0d0887"
             ],
             [
              0.1111111111111111,
              "#46039f"
             ],
             [
              0.2222222222222222,
              "#7201a8"
             ],
             [
              0.3333333333333333,
              "#9c179e"
             ],
             [
              0.4444444444444444,
              "#bd3786"
             ],
             [
              0.5555555555555556,
              "#d8576b"
             ],
             [
              0.6666666666666666,
              "#ed7953"
             ],
             [
              0.7777777777777778,
              "#fb9f3a"
             ],
             [
              0.8888888888888888,
              "#fdca26"
             ],
             [
              1,
              "#f0f921"
             ]
            ],
            "type": "histogram2d"
           }
          ],
          "histogram2dcontour": [
           {
            "colorbar": {
             "outlinewidth": 0,
             "ticks": ""
            },
            "colorscale": [
             [
              0,
              "#0d0887"
             ],
             [
              0.1111111111111111,
              "#46039f"
             ],
             [
              0.2222222222222222,
              "#7201a8"
             ],
             [
              0.3333333333333333,
              "#9c179e"
             ],
             [
              0.4444444444444444,
              "#bd3786"
             ],
             [
              0.5555555555555556,
              "#d8576b"
             ],
             [
              0.6666666666666666,
              "#ed7953"
             ],
             [
              0.7777777777777778,
              "#fb9f3a"
             ],
             [
              0.8888888888888888,
              "#fdca26"
             ],
             [
              1,
              "#f0f921"
             ]
            ],
            "type": "histogram2dcontour"
           }
          ],
          "mesh3d": [
           {
            "colorbar": {
             "outlinewidth": 0,
             "ticks": ""
            },
            "type": "mesh3d"
           }
          ],
          "parcoords": [
           {
            "line": {
             "colorbar": {
              "outlinewidth": 0,
              "ticks": ""
             }
            },
            "type": "parcoords"
           }
          ],
          "pie": [
           {
            "automargin": true,
            "type": "pie"
           }
          ],
          "scatter": [
           {
            "marker": {
             "colorbar": {
              "outlinewidth": 0,
              "ticks": ""
             }
            },
            "type": "scatter"
           }
          ],
          "scatter3d": [
           {
            "line": {
             "colorbar": {
              "outlinewidth": 0,
              "ticks": ""
             }
            },
            "marker": {
             "colorbar": {
              "outlinewidth": 0,
              "ticks": ""
             }
            },
            "type": "scatter3d"
           }
          ],
          "scattercarpet": [
           {
            "marker": {
             "colorbar": {
              "outlinewidth": 0,
              "ticks": ""
             }
            },
            "type": "scattercarpet"
           }
          ],
          "scattergeo": [
           {
            "marker": {
             "colorbar": {
              "outlinewidth": 0,
              "ticks": ""
             }
            },
            "type": "scattergeo"
           }
          ],
          "scattergl": [
           {
            "marker": {
             "colorbar": {
              "outlinewidth": 0,
              "ticks": ""
             }
            },
            "type": "scattergl"
           }
          ],
          "scattermapbox": [
           {
            "marker": {
             "colorbar": {
              "outlinewidth": 0,
              "ticks": ""
             }
            },
            "type": "scattermapbox"
           }
          ],
          "scatterpolar": [
           {
            "marker": {
             "colorbar": {
              "outlinewidth": 0,
              "ticks": ""
             }
            },
            "type": "scatterpolar"
           }
          ],
          "scatterpolargl": [
           {
            "marker": {
             "colorbar": {
              "outlinewidth": 0,
              "ticks": ""
             }
            },
            "type": "scatterpolargl"
           }
          ],
          "scatterternary": [
           {
            "marker": {
             "colorbar": {
              "outlinewidth": 0,
              "ticks": ""
             }
            },
            "type": "scatterternary"
           }
          ],
          "surface": [
           {
            "colorbar": {
             "outlinewidth": 0,
             "ticks": ""
            },
            "colorscale": [
             [
              0,
              "#0d0887"
             ],
             [
              0.1111111111111111,
              "#46039f"
             ],
             [
              0.2222222222222222,
              "#7201a8"
             ],
             [
              0.3333333333333333,
              "#9c179e"
             ],
             [
              0.4444444444444444,
              "#bd3786"
             ],
             [
              0.5555555555555556,
              "#d8576b"
             ],
             [
              0.6666666666666666,
              "#ed7953"
             ],
             [
              0.7777777777777778,
              "#fb9f3a"
             ],
             [
              0.8888888888888888,
              "#fdca26"
             ],
             [
              1,
              "#f0f921"
             ]
            ],
            "type": "surface"
           }
          ],
          "table": [
           {
            "cells": {
             "fill": {
              "color": "#EBF0F8"
             },
             "line": {
              "color": "white"
             }
            },
            "header": {
             "fill": {
              "color": "#C8D4E3"
             },
             "line": {
              "color": "white"
             }
            },
            "type": "table"
           }
          ]
         },
         "layout": {
          "annotationdefaults": {
           "arrowcolor": "#2a3f5f",
           "arrowhead": 0,
           "arrowwidth": 1
          },
          "coloraxis": {
           "colorbar": {
            "outlinewidth": 0,
            "ticks": ""
           }
          },
          "colorscale": {
           "diverging": [
            [
             0,
             "#8e0152"
            ],
            [
             0.1,
             "#c51b7d"
            ],
            [
             0.2,
             "#de77ae"
            ],
            [
             0.3,
             "#f1b6da"
            ],
            [
             0.4,
             "#fde0ef"
            ],
            [
             0.5,
             "#f7f7f7"
            ],
            [
             0.6,
             "#e6f5d0"
            ],
            [
             0.7,
             "#b8e186"
            ],
            [
             0.8,
             "#7fbc41"
            ],
            [
             0.9,
             "#4d9221"
            ],
            [
             1,
             "#276419"
            ]
           ],
           "sequential": [
            [
             0,
             "#0d0887"
            ],
            [
             0.1111111111111111,
             "#46039f"
            ],
            [
             0.2222222222222222,
             "#7201a8"
            ],
            [
             0.3333333333333333,
             "#9c179e"
            ],
            [
             0.4444444444444444,
             "#bd3786"
            ],
            [
             0.5555555555555556,
             "#d8576b"
            ],
            [
             0.6666666666666666,
             "#ed7953"
            ],
            [
             0.7777777777777778,
             "#fb9f3a"
            ],
            [
             0.8888888888888888,
             "#fdca26"
            ],
            [
             1,
             "#f0f921"
            ]
           ],
           "sequentialminus": [
            [
             0,
             "#0d0887"
            ],
            [
             0.1111111111111111,
             "#46039f"
            ],
            [
             0.2222222222222222,
             "#7201a8"
            ],
            [
             0.3333333333333333,
             "#9c179e"
            ],
            [
             0.4444444444444444,
             "#bd3786"
            ],
            [
             0.5555555555555556,
             "#d8576b"
            ],
            [
             0.6666666666666666,
             "#ed7953"
            ],
            [
             0.7777777777777778,
             "#fb9f3a"
            ],
            [
             0.8888888888888888,
             "#fdca26"
            ],
            [
             1,
             "#f0f921"
            ]
           ]
          },
          "colorway": [
           "#636efa",
           "#EF553B",
           "#00cc96",
           "#ab63fa",
           "#FFA15A",
           "#19d3f3",
           "#FF6692",
           "#B6E880",
           "#FF97FF",
           "#FECB52"
          ],
          "font": {
           "color": "#2a3f5f"
          },
          "geo": {
           "bgcolor": "white",
           "lakecolor": "white",
           "landcolor": "#E5ECF6",
           "showlakes": true,
           "showland": true,
           "subunitcolor": "white"
          },
          "hoverlabel": {
           "align": "left"
          },
          "hovermode": "closest",
          "mapbox": {
           "style": "light"
          },
          "paper_bgcolor": "white",
          "plot_bgcolor": "#E5ECF6",
          "polar": {
           "angularaxis": {
            "gridcolor": "white",
            "linecolor": "white",
            "ticks": ""
           },
           "bgcolor": "#E5ECF6",
           "radialaxis": {
            "gridcolor": "white",
            "linecolor": "white",
            "ticks": ""
           }
          },
          "scene": {
           "xaxis": {
            "backgroundcolor": "#E5ECF6",
            "gridcolor": "white",
            "gridwidth": 2,
            "linecolor": "white",
            "showbackground": true,
            "ticks": "",
            "zerolinecolor": "white"
           },
           "yaxis": {
            "backgroundcolor": "#E5ECF6",
            "gridcolor": "white",
            "gridwidth": 2,
            "linecolor": "white",
            "showbackground": true,
            "ticks": "",
            "zerolinecolor": "white"
           },
           "zaxis": {
            "backgroundcolor": "#E5ECF6",
            "gridcolor": "white",
            "gridwidth": 2,
            "linecolor": "white",
            "showbackground": true,
            "ticks": "",
            "zerolinecolor": "white"
           }
          },
          "shapedefaults": {
           "line": {
            "color": "#2a3f5f"
           }
          },
          "ternary": {
           "aaxis": {
            "gridcolor": "white",
            "linecolor": "white",
            "ticks": ""
           },
           "baxis": {
            "gridcolor": "white",
            "linecolor": "white",
            "ticks": ""
           },
           "bgcolor": "#E5ECF6",
           "caxis": {
            "gridcolor": "white",
            "linecolor": "white",
            "ticks": ""
           }
          },
          "title": {
           "x": 0.05
          },
          "xaxis": {
           "automargin": true,
           "gridcolor": "white",
           "linecolor": "white",
           "ticks": "",
           "title": {
            "standoff": 15
           },
           "zerolinecolor": "white",
           "zerolinewidth": 2
          },
          "yaxis": {
           "automargin": true,
           "gridcolor": "white",
           "linecolor": "white",
           "ticks": "",
           "title": {
            "standoff": 15
           },
           "zerolinecolor": "white",
           "zerolinewidth": 2
          }
         }
        },
        "title": {
         "font": {
          "color": "#4D5663"
         }
        },
        "xaxis": {
         "gridcolor": "#E1E5ED",
         "showgrid": true,
         "tickfont": {
          "color": "#4D5663"
         },
         "title": {
          "font": {
           "color": "#4D5663"
          },
          "text": ""
         },
         "zerolinecolor": "#E1E5ED"
        },
        "yaxis": {
         "gridcolor": "#E1E5ED",
         "showgrid": true,
         "tickfont": {
          "color": "#4D5663"
         },
         "title": {
          "font": {
           "color": "#4D5663"
          },
          "text": ""
         },
         "zerolinecolor": "#E1E5ED"
        }
       }
      },
      "text/html": [
       "<div>\n",
       "        \n",
       "        \n",
       "            <div id=\"52e2cb00-4dc0-48f4-a068-becd61d26862\" class=\"plotly-graph-div\" style=\"height:525px; width:100%;\"></div>\n",
       "            <script type=\"text/javascript\">\n",
       "                require([\"plotly\"], function(Plotly) {\n",
       "                    window.PLOTLYENV=window.PLOTLYENV || {};\n",
       "                    window.PLOTLYENV.BASE_URL='https://plot.ly';\n",
       "                    \n",
       "                if (document.getElementById(\"52e2cb00-4dc0-48f4-a068-becd61d26862\")) {\n",
       "                    Plotly.newPlot(\n",
       "                        '52e2cb00-4dc0-48f4-a068-becd61d26862',\n",
       "                        [{\"marker\": {\"color\": \"rgba(255, 153, 51, 0.6)\", \"line\": {\"color\": \"rgba(255, 153, 51, 1.0)\", \"width\": 1}}, \"name\": \"order_status\", \"orientation\": \"v\", \"text\": \"\", \"type\": \"bar\", \"x\": [\"delivered\", \"shipped\", \"canceled\", \"invoiced\", \"processing\"], \"y\": [3467, 48, 25, 24, 20]}],\n",
       "                        {\"legend\": {\"bgcolor\": \"#F5F6F9\", \"font\": {\"color\": \"#4D5663\"}}, \"paper_bgcolor\": \"#F5F6F9\", \"plot_bgcolor\": \"#F5F6F9\", \"template\": {\"data\": {\"bar\": [{\"error_x\": {\"color\": \"#2a3f5f\"}, \"error_y\": {\"color\": \"#2a3f5f\"}, \"marker\": {\"line\": {\"color\": \"#E5ECF6\", \"width\": 0.5}}, \"type\": \"bar\"}], \"barpolar\": [{\"marker\": {\"line\": {\"color\": \"#E5ECF6\", \"width\": 0.5}}, \"type\": \"barpolar\"}], \"carpet\": [{\"aaxis\": {\"endlinecolor\": \"#2a3f5f\", \"gridcolor\": \"white\", \"linecolor\": \"white\", \"minorgridcolor\": \"white\", \"startlinecolor\": \"#2a3f5f\"}, \"baxis\": {\"endlinecolor\": \"#2a3f5f\", \"gridcolor\": \"white\", \"linecolor\": \"white\", \"minorgridcolor\": \"white\", \"startlinecolor\": \"#2a3f5f\"}, \"type\": \"carpet\"}], \"choropleth\": [{\"colorbar\": {\"outlinewidth\": 0, \"ticks\": \"\"}, \"type\": \"choropleth\"}], \"contour\": [{\"colorbar\": {\"outlinewidth\": 0, \"ticks\": \"\"}, \"colorscale\": [[0.0, \"#0d0887\"], [0.1111111111111111, \"#46039f\"], [0.2222222222222222, \"#7201a8\"], [0.3333333333333333, \"#9c179e\"], [0.4444444444444444, \"#bd3786\"], [0.5555555555555556, \"#d8576b\"], [0.6666666666666666, \"#ed7953\"], [0.7777777777777778, \"#fb9f3a\"], [0.8888888888888888, \"#fdca26\"], [1.0, \"#f0f921\"]], \"type\": \"contour\"}], \"contourcarpet\": [{\"colorbar\": {\"outlinewidth\": 0, \"ticks\": \"\"}, \"type\": \"contourcarpet\"}], \"heatmap\": [{\"colorbar\": {\"outlinewidth\": 0, \"ticks\": \"\"}, \"colorscale\": [[0.0, \"#0d0887\"], [0.1111111111111111, \"#46039f\"], [0.2222222222222222, \"#7201a8\"], [0.3333333333333333, \"#9c179e\"], [0.4444444444444444, \"#bd3786\"], [0.5555555555555556, \"#d8576b\"], [0.6666666666666666, \"#ed7953\"], [0.7777777777777778, \"#fb9f3a\"], [0.8888888888888888, \"#fdca26\"], [1.0, \"#f0f921\"]], \"type\": \"heatmap\"}], \"heatmapgl\": [{\"colorbar\": {\"outlinewidth\": 0, \"ticks\": \"\"}, \"colorscale\": [[0.0, \"#0d0887\"], [0.1111111111111111, \"#46039f\"], [0.2222222222222222, \"#7201a8\"], [0.3333333333333333, \"#9c179e\"], [0.4444444444444444, \"#bd3786\"], [0.5555555555555556, \"#d8576b\"], [0.6666666666666666, \"#ed7953\"], [0.7777777777777778, \"#fb9f3a\"], [0.8888888888888888, \"#fdca26\"], [1.0, \"#f0f921\"]], \"type\": \"heatmapgl\"}], \"histogram\": [{\"marker\": {\"colorbar\": {\"outlinewidth\": 0, \"ticks\": \"\"}}, \"type\": \"histogram\"}], \"histogram2d\": [{\"colorbar\": {\"outlinewidth\": 0, \"ticks\": \"\"}, \"colorscale\": [[0.0, \"#0d0887\"], [0.1111111111111111, \"#46039f\"], [0.2222222222222222, \"#7201a8\"], [0.3333333333333333, \"#9c179e\"], [0.4444444444444444, \"#bd3786\"], [0.5555555555555556, \"#d8576b\"], [0.6666666666666666, \"#ed7953\"], [0.7777777777777778, \"#fb9f3a\"], [0.8888888888888888, \"#fdca26\"], [1.0, \"#f0f921\"]], \"type\": \"histogram2d\"}], \"histogram2dcontour\": [{\"colorbar\": {\"outlinewidth\": 0, \"ticks\": \"\"}, \"colorscale\": [[0.0, \"#0d0887\"], [0.1111111111111111, \"#46039f\"], [0.2222222222222222, \"#7201a8\"], [0.3333333333333333, \"#9c179e\"], [0.4444444444444444, \"#bd3786\"], [0.5555555555555556, \"#d8576b\"], [0.6666666666666666, \"#ed7953\"], [0.7777777777777778, \"#fb9f3a\"], [0.8888888888888888, \"#fdca26\"], [1.0, \"#f0f921\"]], \"type\": \"histogram2dcontour\"}], \"mesh3d\": [{\"colorbar\": {\"outlinewidth\": 0, \"ticks\": \"\"}, \"type\": \"mesh3d\"}], \"parcoords\": [{\"line\": {\"colorbar\": {\"outlinewidth\": 0, \"ticks\": \"\"}}, \"type\": \"parcoords\"}], \"pie\": [{\"automargin\": true, \"type\": \"pie\"}], \"scatter\": [{\"marker\": {\"colorbar\": {\"outlinewidth\": 0, \"ticks\": \"\"}}, \"type\": \"scatter\"}], \"scatter3d\": [{\"line\": {\"colorbar\": {\"outlinewidth\": 0, \"ticks\": \"\"}}, \"marker\": {\"colorbar\": {\"outlinewidth\": 0, \"ticks\": \"\"}}, \"type\": \"scatter3d\"}], \"scattercarpet\": [{\"marker\": {\"colorbar\": {\"outlinewidth\": 0, \"ticks\": \"\"}}, \"type\": \"scattercarpet\"}], \"scattergeo\": [{\"marker\": {\"colorbar\": {\"outlinewidth\": 0, \"ticks\": \"\"}}, \"type\": \"scattergeo\"}], \"scattergl\": [{\"marker\": {\"colorbar\": {\"outlinewidth\": 0, \"ticks\": \"\"}}, \"type\": \"scattergl\"}], \"scattermapbox\": [{\"marker\": {\"colorbar\": {\"outlinewidth\": 0, \"ticks\": \"\"}}, \"type\": \"scattermapbox\"}], \"scatterpolar\": [{\"marker\": {\"colorbar\": {\"outlinewidth\": 0, \"ticks\": \"\"}}, \"type\": \"scatterpolar\"}], \"scatterpolargl\": [{\"marker\": {\"colorbar\": {\"outlinewidth\": 0, \"ticks\": \"\"}}, \"type\": \"scatterpolargl\"}], \"scatterternary\": [{\"marker\": {\"colorbar\": {\"outlinewidth\": 0, \"ticks\": \"\"}}, \"type\": \"scatterternary\"}], \"surface\": [{\"colorbar\": {\"outlinewidth\": 0, \"ticks\": \"\"}, \"colorscale\": [[0.0, \"#0d0887\"], [0.1111111111111111, \"#46039f\"], [0.2222222222222222, \"#7201a8\"], [0.3333333333333333, \"#9c179e\"], [0.4444444444444444, \"#bd3786\"], [0.5555555555555556, \"#d8576b\"], [0.6666666666666666, \"#ed7953\"], [0.7777777777777778, \"#fb9f3a\"], [0.8888888888888888, \"#fdca26\"], [1.0, \"#f0f921\"]], \"type\": \"surface\"}], \"table\": [{\"cells\": {\"fill\": {\"color\": \"#EBF0F8\"}, \"line\": {\"color\": \"white\"}}, \"header\": {\"fill\": {\"color\": \"#C8D4E3\"}, \"line\": {\"color\": \"white\"}}, \"type\": \"table\"}]}, \"layout\": {\"annotationdefaults\": {\"arrowcolor\": \"#2a3f5f\", \"arrowhead\": 0, \"arrowwidth\": 1}, \"coloraxis\": {\"colorbar\": {\"outlinewidth\": 0, \"ticks\": \"\"}}, \"colorscale\": {\"diverging\": [[0, \"#8e0152\"], [0.1, \"#c51b7d\"], [0.2, \"#de77ae\"], [0.3, \"#f1b6da\"], [0.4, \"#fde0ef\"], [0.5, \"#f7f7f7\"], [0.6, \"#e6f5d0\"], [0.7, \"#b8e186\"], [0.8, \"#7fbc41\"], [0.9, \"#4d9221\"], [1, \"#276419\"]], \"sequential\": [[0.0, \"#0d0887\"], [0.1111111111111111, \"#46039f\"], [0.2222222222222222, \"#7201a8\"], [0.3333333333333333, \"#9c179e\"], [0.4444444444444444, \"#bd3786\"], [0.5555555555555556, \"#d8576b\"], [0.6666666666666666, \"#ed7953\"], [0.7777777777777778, \"#fb9f3a\"], [0.8888888888888888, \"#fdca26\"], [1.0, \"#f0f921\"]], \"sequentialminus\": [[0.0, \"#0d0887\"], [0.1111111111111111, \"#46039f\"], [0.2222222222222222, \"#7201a8\"], [0.3333333333333333, \"#9c179e\"], [0.4444444444444444, \"#bd3786\"], [0.5555555555555556, \"#d8576b\"], [0.6666666666666666, \"#ed7953\"], [0.7777777777777778, \"#fb9f3a\"], [0.8888888888888888, \"#fdca26\"], [1.0, \"#f0f921\"]]}, \"colorway\": [\"#636efa\", \"#EF553B\", \"#00cc96\", \"#ab63fa\", \"#FFA15A\", \"#19d3f3\", \"#FF6692\", \"#B6E880\", \"#FF97FF\", \"#FECB52\"], \"font\": {\"color\": \"#2a3f5f\"}, \"geo\": {\"bgcolor\": \"white\", \"lakecolor\": \"white\", \"landcolor\": \"#E5ECF6\", \"showlakes\": true, \"showland\": true, \"subunitcolor\": \"white\"}, \"hoverlabel\": {\"align\": \"left\"}, \"hovermode\": \"closest\", \"mapbox\": {\"style\": \"light\"}, \"paper_bgcolor\": \"white\", \"plot_bgcolor\": \"#E5ECF6\", \"polar\": {\"angularaxis\": {\"gridcolor\": \"white\", \"linecolor\": \"white\", \"ticks\": \"\"}, \"bgcolor\": \"#E5ECF6\", \"radialaxis\": {\"gridcolor\": \"white\", \"linecolor\": \"white\", \"ticks\": \"\"}}, \"scene\": {\"xaxis\": {\"backgroundcolor\": \"#E5ECF6\", \"gridcolor\": \"white\", \"gridwidth\": 2, \"linecolor\": \"white\", \"showbackground\": true, \"ticks\": \"\", \"zerolinecolor\": \"white\"}, \"yaxis\": {\"backgroundcolor\": \"#E5ECF6\", \"gridcolor\": \"white\", \"gridwidth\": 2, \"linecolor\": \"white\", \"showbackground\": true, \"ticks\": \"\", \"zerolinecolor\": \"white\"}, \"zaxis\": {\"backgroundcolor\": \"#E5ECF6\", \"gridcolor\": \"white\", \"gridwidth\": 2, \"linecolor\": \"white\", \"showbackground\": true, \"ticks\": \"\", \"zerolinecolor\": \"white\"}}, \"shapedefaults\": {\"line\": {\"color\": \"#2a3f5f\"}}, \"ternary\": {\"aaxis\": {\"gridcolor\": \"white\", \"linecolor\": \"white\", \"ticks\": \"\"}, \"baxis\": {\"gridcolor\": \"white\", \"linecolor\": \"white\", \"ticks\": \"\"}, \"bgcolor\": \"#E5ECF6\", \"caxis\": {\"gridcolor\": \"white\", \"linecolor\": \"white\", \"ticks\": \"\"}}, \"title\": {\"x\": 0.05}, \"xaxis\": {\"automargin\": true, \"gridcolor\": \"white\", \"linecolor\": \"white\", \"ticks\": \"\", \"title\": {\"standoff\": 15}, \"zerolinecolor\": \"white\", \"zerolinewidth\": 2}, \"yaxis\": {\"automargin\": true, \"gridcolor\": \"white\", \"linecolor\": \"white\", \"ticks\": \"\", \"title\": {\"standoff\": 15}, \"zerolinecolor\": \"white\", \"zerolinewidth\": 2}}}, \"title\": {\"font\": {\"color\": \"#4D5663\"}}, \"xaxis\": {\"gridcolor\": \"#E1E5ED\", \"showgrid\": true, \"tickfont\": {\"color\": \"#4D5663\"}, \"title\": {\"font\": {\"color\": \"#4D5663\"}, \"text\": \"\"}, \"zerolinecolor\": \"#E1E5ED\"}, \"yaxis\": {\"gridcolor\": \"#E1E5ED\", \"showgrid\": true, \"tickfont\": {\"color\": \"#4D5663\"}, \"title\": {\"font\": {\"color\": \"#4D5663\"}, \"text\": \"\"}, \"zerolinecolor\": \"#E1E5ED\"}},\n",
       "                        {\"showLink\": true, \"linkText\": \"Export to plot.ly\", \"plotlyServerURL\": \"https://plot.ly\", \"responsive\": true}\n",
       "                    ).then(function(){\n",
       "                            \n",
       "var gd = document.getElementById('52e2cb00-4dc0-48f4-a068-becd61d26862');\n",
       "var x = new MutationObserver(function (mutations, observer) {{\n",
       "        var display = window.getComputedStyle(gd).display;\n",
       "        if (!display || display === 'none') {{\n",
       "            console.log([gd, 'removed!']);\n",
       "            Plotly.purge(gd);\n",
       "            observer.disconnect();\n",
       "        }}\n",
       "}});\n",
       "\n",
       "// Listen for the removal of the full notebook cells\n",
       "var notebookContainer = gd.closest('#notebook-container');\n",
       "if (notebookContainer) {{\n",
       "    x.observe(notebookContainer, {childList: true});\n",
       "}}\n",
       "\n",
       "// Listen for the clearing of the current output cell\n",
       "var outputEl = gd.closest('.output');\n",
       "if (outputEl) {{\n",
       "    x.observe(outputEl, {childList: true});\n",
       "}}\n",
       "\n",
       "                        })\n",
       "                };\n",
       "                });\n",
       "            </script>\n",
       "        </div>"
      ]
     },
     "metadata": {},
     "output_type": "display_data"
    }
   ],
   "source": [
    "# Quais a distribuicao dos status dos pedidos?\n",
    "# estatus do pedidos- agrupa por estatus de pedidos\n",
    "df.order_status.value_counts().iplot(kind='bar')"
   ]
  },
  {
   "cell_type": "markdown",
   "metadata": {},
   "source": [
    "**Transformando colunas para o formato datetime**"
   ]
  },
  {
   "cell_type": "code",
   "execution_count": 23,
   "metadata": {
    "colab": {},
    "colab_type": "code",
    "id": "P58W7uRkiStY"
   },
   "outputs": [],
   "source": [
    "# converte coluna para datetime\n",
    "df.order_purchase_timestamp = pd.to_datetime(df.order_purchase_timestamp)"
   ]
  },
  {
   "cell_type": "markdown",
   "metadata": {},
   "source": [
    "**Visualizando as colunas agora em Datetime**"
   ]
  },
  {
   "cell_type": "code",
   "execution_count": 24,
   "metadata": {},
   "outputs": [
    {
     "name": "stdout",
     "output_type": "stream",
     "text": [
      "<class 'pandas.core.frame.DataFrame'>\n",
      "RangeIndex: 3584 entries, 0 to 3583\n",
      "Data columns (total 34 columns):\n",
      " #   Column                         Non-Null Count  Dtype         \n",
      "---  ------                         --------------  -----         \n",
      " 0   Unnamed: 0                     3584 non-null   int64         \n",
      " 1   id                             3584 non-null   int64         \n",
      " 2   order_status                   3584 non-null   object        \n",
      " 3   order_products_value           3584 non-null   float64       \n",
      " 4   order_freight_value            3584 non-null   float64       \n",
      " 5   order_items_qty                3584 non-null   int64         \n",
      " 6   order_sellers_qty              3584 non-null   int64         \n",
      " 7   order_purchase_timestamp       3584 non-null   datetime64[ns]\n",
      " 8   order_aproved_at               3584 non-null   object        \n",
      " 9   order_estimated_delivery_date  3584 non-null   object        \n",
      " 10  order_delivered_customer_date  3467 non-null   object        \n",
      " 11  customer_city                  3584 non-null   object        \n",
      " 12  customer_state                 3584 non-null   object        \n",
      " 13  customer_zip_code_prefix       3584 non-null   int64         \n",
      " 14  product_category_name          3584 non-null   object        \n",
      " 15  product_name_lenght            3584 non-null   int64         \n",
      " 16  product_description_lenght     3584 non-null   int64         \n",
      " 17  product_photos_qty             3584 non-null   int64         \n",
      " 18  review_score                   3584 non-null   int64         \n",
      " 19  review_comment_title           0 non-null      float64       \n",
      " 20  review_comment_message         3584 non-null   object        \n",
      " 21  review_creation_date           3584 non-null   object        \n",
      " 22  review_answer_timestamp        3584 non-null   object        \n",
      " 23  votes_before_estimate          3584 non-null   int64         \n",
      " 24  votes_delayed                  3584 non-null   int64         \n",
      " 25  votes_low_quality              3584 non-null   int64         \n",
      " 26  votes_return                   3584 non-null   int64         \n",
      " 27  votes_not_as_anounced          3584 non-null   int64         \n",
      " 28  votes_partial_delivery         3584 non-null   int64         \n",
      " 29  votes_other_delivery           3584 non-null   int64         \n",
      " 30  votes_other_order              3584 non-null   int64         \n",
      " 31  votes_satisfied                3584 non-null   int64         \n",
      " 32  most_voted_subclass            3413 non-null   object        \n",
      " 33  most_voted_class               3413 non-null   object        \n",
      "dtypes: datetime64[ns](1), float64(3), int64(18), object(12)\n",
      "memory usage: 952.1+ KB\n"
     ]
    }
   ],
   "source": [
    "df.info()"
   ]
  },
  {
   "cell_type": "markdown",
   "metadata": {},
   "source": [
    "- Use o metodo to_periodo() com o ´M´ para obter informações no formato de meses\n",
    "- Criando a coluna order_purchase_month"
   ]
  },
  {
   "cell_type": "code",
   "execution_count": 25,
   "metadata": {},
   "outputs": [],
   "source": [
    "# cria um a nova colunas - armazena a informação do mes do pedido\n",
    "df['order_purchase_month'] = df.order_purchase_timestamp.dt.to_period('M').astype(str)"
   ]
  },
  {
   "cell_type": "code",
   "execution_count": 26,
   "metadata": {},
   "outputs": [
    {
     "data": {
      "text/plain": [
       "0    2017-08\n",
       "1    2017-09\n",
       "2    2018-01\n",
       "3    2018-02\n",
       "4    2017-12\n",
       "Name: order_purchase_month, dtype: object"
      ]
     },
     "execution_count": 26,
     "metadata": {},
     "output_type": "execute_result"
    }
   ],
   "source": [
    "df.order_purchase_month.head()"
   ]
  },
  {
   "cell_type": "markdown",
   "metadata": {},
   "source": [
    "**Visualizando a nova coluna no dataframe**"
   ]
  },
  {
   "cell_type": "code",
   "execution_count": 27,
   "metadata": {},
   "outputs": [
    {
     "data": {
      "text/html": [
       "<div>\n",
       "<style scoped>\n",
       "    .dataframe tbody tr th:only-of-type {\n",
       "        vertical-align: middle;\n",
       "    }\n",
       "\n",
       "    .dataframe tbody tr th {\n",
       "        vertical-align: top;\n",
       "    }\n",
       "\n",
       "    .dataframe thead th {\n",
       "        text-align: right;\n",
       "    }\n",
       "</style>\n",
       "<table border=\"1\" class=\"dataframe\">\n",
       "  <thead>\n",
       "    <tr style=\"text-align: right;\">\n",
       "      <th></th>\n",
       "      <th>Unnamed: 0</th>\n",
       "      <th>id</th>\n",
       "      <th>order_status</th>\n",
       "      <th>order_products_value</th>\n",
       "      <th>order_freight_value</th>\n",
       "      <th>order_items_qty</th>\n",
       "      <th>order_sellers_qty</th>\n",
       "      <th>order_purchase_timestamp</th>\n",
       "      <th>order_aproved_at</th>\n",
       "      <th>order_estimated_delivery_date</th>\n",
       "      <th>...</th>\n",
       "      <th>votes_low_quality</th>\n",
       "      <th>votes_return</th>\n",
       "      <th>votes_not_as_anounced</th>\n",
       "      <th>votes_partial_delivery</th>\n",
       "      <th>votes_other_delivery</th>\n",
       "      <th>votes_other_order</th>\n",
       "      <th>votes_satisfied</th>\n",
       "      <th>most_voted_subclass</th>\n",
       "      <th>most_voted_class</th>\n",
       "      <th>order_purchase_month</th>\n",
       "    </tr>\n",
       "  </thead>\n",
       "  <tbody>\n",
       "    <tr>\n",
       "      <th>0</th>\n",
       "      <td>0</td>\n",
       "      <td>1</td>\n",
       "      <td>delivered</td>\n",
       "      <td>89.99</td>\n",
       "      <td>14.38</td>\n",
       "      <td>1</td>\n",
       "      <td>1</td>\n",
       "      <td>2017-08-30 11:41:01</td>\n",
       "      <td>2017-08-30 11:55:08.970352</td>\n",
       "      <td>2017-09-21 00:00:00.000000</td>\n",
       "      <td>...</td>\n",
       "      <td>0</td>\n",
       "      <td>0</td>\n",
       "      <td>0</td>\n",
       "      <td>0</td>\n",
       "      <td>0</td>\n",
       "      <td>0</td>\n",
       "      <td>3</td>\n",
       "      <td>satisfeito</td>\n",
       "      <td>satisfeito_com_pedido</td>\n",
       "      <td>2017-08</td>\n",
       "    </tr>\n",
       "    <tr>\n",
       "      <th>1</th>\n",
       "      <td>1</td>\n",
       "      <td>2</td>\n",
       "      <td>delivered</td>\n",
       "      <td>69.00</td>\n",
       "      <td>15.23</td>\n",
       "      <td>1</td>\n",
       "      <td>1</td>\n",
       "      <td>2017-09-26 09:13:36</td>\n",
       "      <td>2017-09-26 09:28:10.922048</td>\n",
       "      <td>2017-10-24 00:00:00.000000</td>\n",
       "      <td>...</td>\n",
       "      <td>0</td>\n",
       "      <td>0</td>\n",
       "      <td>0</td>\n",
       "      <td>0</td>\n",
       "      <td>0</td>\n",
       "      <td>0</td>\n",
       "      <td>0</td>\n",
       "      <td>antes_prazo</td>\n",
       "      <td>satisfeito_com_pedido</td>\n",
       "      <td>2017-09</td>\n",
       "    </tr>\n",
       "    <tr>\n",
       "      <th>2</th>\n",
       "      <td>2</td>\n",
       "      <td>3</td>\n",
       "      <td>delivered</td>\n",
       "      <td>99.80</td>\n",
       "      <td>15.86</td>\n",
       "      <td>2</td>\n",
       "      <td>4</td>\n",
       "      <td>2018-01-15 15:50:42</td>\n",
       "      <td>2018-01-17 07:29:56.419769</td>\n",
       "      <td>2018-02-05 00:00:00.000000</td>\n",
       "      <td>...</td>\n",
       "      <td>0</td>\n",
       "      <td>0</td>\n",
       "      <td>0</td>\n",
       "      <td>3</td>\n",
       "      <td>0</td>\n",
       "      <td>0</td>\n",
       "      <td>0</td>\n",
       "      <td>entrega_parcial</td>\n",
       "      <td>problemas_de_entrega</td>\n",
       "      <td>2018-01</td>\n",
       "    </tr>\n",
       "    <tr>\n",
       "      <th>3</th>\n",
       "      <td>3</td>\n",
       "      <td>4</td>\n",
       "      <td>delivered</td>\n",
       "      <td>87.00</td>\n",
       "      <td>12.74</td>\n",
       "      <td>1</td>\n",
       "      <td>1</td>\n",
       "      <td>2018-02-04 11:16:42</td>\n",
       "      <td>2018-02-06 05:31:50.990164</td>\n",
       "      <td>2018-03-13 00:00:00.000000</td>\n",
       "      <td>...</td>\n",
       "      <td>0</td>\n",
       "      <td>0</td>\n",
       "      <td>0</td>\n",
       "      <td>0</td>\n",
       "      <td>0</td>\n",
       "      <td>0</td>\n",
       "      <td>0</td>\n",
       "      <td>atrasado</td>\n",
       "      <td>problemas_de_entrega</td>\n",
       "      <td>2018-02</td>\n",
       "    </tr>\n",
       "    <tr>\n",
       "      <th>4</th>\n",
       "      <td>4</td>\n",
       "      <td>5</td>\n",
       "      <td>delivered</td>\n",
       "      <td>99.90</td>\n",
       "      <td>17.95</td>\n",
       "      <td>1</td>\n",
       "      <td>2</td>\n",
       "      <td>2017-12-07 11:58:42</td>\n",
       "      <td>2017-12-08 02:36:49.587515</td>\n",
       "      <td>2018-01-03 00:00:00.000000</td>\n",
       "      <td>...</td>\n",
       "      <td>0</td>\n",
       "      <td>0</td>\n",
       "      <td>0</td>\n",
       "      <td>3</td>\n",
       "      <td>0</td>\n",
       "      <td>0</td>\n",
       "      <td>0</td>\n",
       "      <td>entrega_parcial</td>\n",
       "      <td>problemas_de_entrega</td>\n",
       "      <td>2017-12</td>\n",
       "    </tr>\n",
       "  </tbody>\n",
       "</table>\n",
       "<p>5 rows × 35 columns</p>\n",
       "</div>"
      ],
      "text/plain": [
       "   Unnamed: 0  id order_status  order_products_value  order_freight_value  \\\n",
       "0           0   1    delivered                 89.99                14.38   \n",
       "1           1   2    delivered                 69.00                15.23   \n",
       "2           2   3    delivered                 99.80                15.86   \n",
       "3           3   4    delivered                 87.00                12.74   \n",
       "4           4   5    delivered                 99.90                17.95   \n",
       "\n",
       "   order_items_qty  order_sellers_qty order_purchase_timestamp  \\\n",
       "0                1                  1      2017-08-30 11:41:01   \n",
       "1                1                  1      2017-09-26 09:13:36   \n",
       "2                2                  4      2018-01-15 15:50:42   \n",
       "3                1                  1      2018-02-04 11:16:42   \n",
       "4                1                  2      2017-12-07 11:58:42   \n",
       "\n",
       "             order_aproved_at order_estimated_delivery_date  ...  \\\n",
       "0  2017-08-30 11:55:08.970352    2017-09-21 00:00:00.000000  ...   \n",
       "1  2017-09-26 09:28:10.922048    2017-10-24 00:00:00.000000  ...   \n",
       "2  2018-01-17 07:29:56.419769    2018-02-05 00:00:00.000000  ...   \n",
       "3  2018-02-06 05:31:50.990164    2018-03-13 00:00:00.000000  ...   \n",
       "4  2017-12-08 02:36:49.587515    2018-01-03 00:00:00.000000  ...   \n",
       "\n",
       "  votes_low_quality votes_return votes_not_as_anounced  \\\n",
       "0                 0            0                     0   \n",
       "1                 0            0                     0   \n",
       "2                 0            0                     0   \n",
       "3                 0            0                     0   \n",
       "4                 0            0                     0   \n",
       "\n",
       "   votes_partial_delivery votes_other_delivery  votes_other_order  \\\n",
       "0                       0                    0                  0   \n",
       "1                       0                    0                  0   \n",
       "2                       3                    0                  0   \n",
       "3                       0                    0                  0   \n",
       "4                       3                    0                  0   \n",
       "\n",
       "   votes_satisfied  most_voted_subclass       most_voted_class  \\\n",
       "0                3           satisfeito  satisfeito_com_pedido   \n",
       "1                0          antes_prazo  satisfeito_com_pedido   \n",
       "2                0      entrega_parcial   problemas_de_entrega   \n",
       "3                0             atrasado   problemas_de_entrega   \n",
       "4                0      entrega_parcial   problemas_de_entrega   \n",
       "\n",
       "   order_purchase_month  \n",
       "0               2017-08  \n",
       "1               2017-09  \n",
       "2               2018-01  \n",
       "3               2018-02  \n",
       "4               2017-12  \n",
       "\n",
       "[5 rows x 35 columns]"
      ]
     },
     "execution_count": 27,
     "metadata": {},
     "output_type": "execute_result"
    }
   ],
   "source": [
    "df.head()"
   ]
  },
  {
   "cell_type": "markdown",
   "metadata": {},
   "source": [
    "**Cria a variável `vendas_por_mes` que é a soma do valor dos produtos agrupados por mês**"
   ]
  },
  {
   "cell_type": "code",
   "execution_count": 28,
   "metadata": {},
   "outputs": [],
   "source": [
    "vendas_por_mes = df.groupby(by='order_purchase_month').order_products_value.sum()"
   ]
  },
  {
   "cell_type": "code",
   "execution_count": 29,
   "metadata": {},
   "outputs": [
    {
     "data": {
      "text/plain": [
       "pandas.core.series.Series"
      ]
     },
     "execution_count": 29,
     "metadata": {},
     "output_type": "execute_result"
    }
   ],
   "source": [
    "type(vendas_por_mes)"
   ]
  },
  {
   "cell_type": "markdown",
   "metadata": {},
   "source": [
    "**visualizando os valores de vendas por mês**"
   ]
  },
  {
   "cell_type": "code",
   "execution_count": 30,
   "metadata": {},
   "outputs": [
    {
     "data": {
      "text/plain": [
       "order_purchase_month\n",
       "2017-02        9.99\n",
       "2017-03      902.86\n",
       "2017-04    17654.19\n",
       "2017-05    25556.23\n",
       "2017-06    34172.86\n",
       "Name: order_products_value, dtype: float64"
      ]
     },
     "execution_count": 30,
     "metadata": {},
     "output_type": "execute_result"
    }
   ],
   "source": [
    "vendas_por_mes.head()"
   ]
  },
  {
   "cell_type": "code",
   "execution_count": 31,
   "metadata": {},
   "outputs": [
    {
     "data": {
      "text/plain": [
       "<bound method IndexOpsMixin.item of Index(['2017-02', '2017-03', '2017-04', '2017-05', '2017-06', '2017-07',\n",
       "       '2017-08', '2017-09', '2017-10', '2017-11', '2017-12', '2018-01',\n",
       "       '2018-02', '2018-03', '2018-04'],\n",
       "      dtype='object', name='order_purchase_month')>"
      ]
     },
     "execution_count": 31,
     "metadata": {},
     "output_type": "execute_result"
    }
   ],
   "source": [
    "vendas_por_mes.index.item"
   ]
  },
  {
   "cell_type": "code",
   "execution_count": 32,
   "metadata": {},
   "outputs": [
    {
     "data": {
      "text/plain": [
       "array([9.990000e+00, 9.028600e+02, 1.765419e+04, 2.555623e+04,\n",
       "       3.417286e+04, 4.728474e+04, 3.989885e+04, 4.546220e+04,\n",
       "       4.091040e+04, 5.537392e+04, 4.380657e+04, 4.675556e+04,\n",
       "       4.256054e+04, 3.343548e+04, 3.754330e+03])"
      ]
     },
     "execution_count": 32,
     "metadata": {},
     "output_type": "execute_result"
    }
   ],
   "source": [
    "vendas_por_mes.values"
   ]
  },
  {
   "cell_type": "markdown",
   "metadata": {},
   "source": [
    "**Pontos importantes a lembrar:**\n",
    "- init_notebook_mode()\n",
    "- plotly.offline.iplot()"
   ]
  },
  {
   "cell_type": "markdown",
   "metadata": {},
   "source": [
    "**Importando o plotly**"
   ]
  },
  {
   "cell_type": "code",
   "execution_count": 33,
   "metadata": {},
   "outputs": [],
   "source": [
    "import plotly\n",
    "import plotly.graph_objs as go\n",
    "import plotly.offline as py"
   ]
  },
  {
   "cell_type": "code",
   "execution_count": 34,
   "metadata": {},
   "outputs": [
    {
     "data": {
      "text/html": [
       "        <script type=\"text/javascript\">\n",
       "        window.PlotlyConfig = {MathJaxConfig: 'local'};\n",
       "        if (window.MathJax) {MathJax.Hub.Config({SVG: {font: \"STIX-Web\"}});}\n",
       "        if (typeof require !== 'undefined') {\n",
       "        require.undef(\"plotly\");\n",
       "        requirejs.config({\n",
       "            paths: {\n",
       "                'plotly': ['https://cdn.plot.ly/plotly-latest.min']\n",
       "            }\n",
       "        });\n",
       "        require(['plotly'], function(Plotly) {\n",
       "            window._Plotly = Plotly;\n",
       "        });\n",
       "        }\n",
       "        </script>\n",
       "        "
      ]
     },
     "metadata": {},
     "output_type": "display_data"
    }
   ],
   "source": [
    "# habilita o modo offline\n",
    "plotly.offline.init_notebook_mode(connected=True)"
   ]
  },
  {
   "cell_type": "markdown",
   "metadata": {},
   "source": [
    "**Vendas por mês**"
   ]
  },
  {
   "cell_type": "markdown",
   "metadata": {},
   "source": [
    "- **por padrão o iplot() plota um gráfico de linha, da sentido de valor acumulado**"
   ]
  },
  {
   "cell_type": "code",
   "execution_count": 35,
   "metadata": {},
   "outputs": [
    {
     "data": {
      "application/vnd.plotly.v1+json": {
       "config": {
        "linkText": "Export to plot.ly",
        "plotlyServerURL": "https://plot.ly",
        "showLink": false
       },
       "data": [
        {
         "type": "scatter",
         "x": [
          "2017-02",
          "2017-03",
          "2017-04",
          "2017-05",
          "2017-06",
          "2017-07",
          "2017-08",
          "2017-09",
          "2017-10",
          "2017-11",
          "2017-12",
          "2018-01",
          "2018-02",
          "2018-03",
          "2018-04"
         ],
         "y": [
          9.99,
          902.86,
          17654.189999999995,
          25556.230000000025,
          34172.86000000008,
          47284.74000000011,
          39898.85000000009,
          45462.20000000007,
          40910.4000000001,
          55373.920000000086,
          43806.57000000011,
          46755.56000000009,
          42560.54000000012,
          33435.4800000001,
          3754.33
         ]
        }
       ],
       "layout": {
        "template": {
         "data": {
          "bar": [
           {
            "error_x": {
             "color": "#2a3f5f"
            },
            "error_y": {
             "color": "#2a3f5f"
            },
            "marker": {
             "line": {
              "color": "#E5ECF6",
              "width": 0.5
             }
            },
            "type": "bar"
           }
          ],
          "barpolar": [
           {
            "marker": {
             "line": {
              "color": "#E5ECF6",
              "width": 0.5
             }
            },
            "type": "barpolar"
           }
          ],
          "carpet": [
           {
            "aaxis": {
             "endlinecolor": "#2a3f5f",
             "gridcolor": "white",
             "linecolor": "white",
             "minorgridcolor": "white",
             "startlinecolor": "#2a3f5f"
            },
            "baxis": {
             "endlinecolor": "#2a3f5f",
             "gridcolor": "white",
             "linecolor": "white",
             "minorgridcolor": "white",
             "startlinecolor": "#2a3f5f"
            },
            "type": "carpet"
           }
          ],
          "choropleth": [
           {
            "colorbar": {
             "outlinewidth": 0,
             "ticks": ""
            },
            "type": "choropleth"
           }
          ],
          "contour": [
           {
            "colorbar": {
             "outlinewidth": 0,
             "ticks": ""
            },
            "colorscale": [
             [
              0,
              "#0d0887"
             ],
             [
              0.1111111111111111,
              "#46039f"
             ],
             [
              0.2222222222222222,
              "#7201a8"
             ],
             [
              0.3333333333333333,
              "#9c179e"
             ],
             [
              0.4444444444444444,
              "#bd3786"
             ],
             [
              0.5555555555555556,
              "#d8576b"
             ],
             [
              0.6666666666666666,
              "#ed7953"
             ],
             [
              0.7777777777777778,
              "#fb9f3a"
             ],
             [
              0.8888888888888888,
              "#fdca26"
             ],
             [
              1,
              "#f0f921"
             ]
            ],
            "type": "contour"
           }
          ],
          "contourcarpet": [
           {
            "colorbar": {
             "outlinewidth": 0,
             "ticks": ""
            },
            "type": "contourcarpet"
           }
          ],
          "heatmap": [
           {
            "colorbar": {
             "outlinewidth": 0,
             "ticks": ""
            },
            "colorscale": [
             [
              0,
              "#0d0887"
             ],
             [
              0.1111111111111111,
              "#46039f"
             ],
             [
              0.2222222222222222,
              "#7201a8"
             ],
             [
              0.3333333333333333,
              "#9c179e"
             ],
             [
              0.4444444444444444,
              "#bd3786"
             ],
             [
              0.5555555555555556,
              "#d8576b"
             ],
             [
              0.6666666666666666,
              "#ed7953"
             ],
             [
              0.7777777777777778,
              "#fb9f3a"
             ],
             [
              0.8888888888888888,
              "#fdca26"
             ],
             [
              1,
              "#f0f921"
             ]
            ],
            "type": "heatmap"
           }
          ],
          "heatmapgl": [
           {
            "colorbar": {
             "outlinewidth": 0,
             "ticks": ""
            },
            "colorscale": [
             [
              0,
              "#0d0887"
             ],
             [
              0.1111111111111111,
              "#46039f"
             ],
             [
              0.2222222222222222,
              "#7201a8"
             ],
             [
              0.3333333333333333,
              "#9c179e"
             ],
             [
              0.4444444444444444,
              "#bd3786"
             ],
             [
              0.5555555555555556,
              "#d8576b"
             ],
             [
              0.6666666666666666,
              "#ed7953"
             ],
             [
              0.7777777777777778,
              "#fb9f3a"
             ],
             [
              0.8888888888888888,
              "#fdca26"
             ],
             [
              1,
              "#f0f921"
             ]
            ],
            "type": "heatmapgl"
           }
          ],
          "histogram": [
           {
            "marker": {
             "colorbar": {
              "outlinewidth": 0,
              "ticks": ""
             }
            },
            "type": "histogram"
           }
          ],
          "histogram2d": [
           {
            "colorbar": {
             "outlinewidth": 0,
             "ticks": ""
            },
            "colorscale": [
             [
              0,
              "#0d0887"
             ],
             [
              0.1111111111111111,
              "#46039f"
             ],
             [
              0.2222222222222222,
              "#7201a8"
             ],
             [
              0.3333333333333333,
              "#9c179e"
             ],
             [
              0.4444444444444444,
              "#bd3786"
             ],
             [
              0.5555555555555556,
              "#d8576b"
             ],
             [
              0.6666666666666666,
              "#ed7953"
             ],
             [
              0.7777777777777778,
              "#fb9f3a"
             ],
             [
              0.8888888888888888,
              "#fdca26"
             ],
             [
              1,
              "#f0f921"
             ]
            ],
            "type": "histogram2d"
           }
          ],
          "histogram2dcontour": [
           {
            "colorbar": {
             "outlinewidth": 0,
             "ticks": ""
            },
            "colorscale": [
             [
              0,
              "#0d0887"
             ],
             [
              0.1111111111111111,
              "#46039f"
             ],
             [
              0.2222222222222222,
              "#7201a8"
             ],
             [
              0.3333333333333333,
              "#9c179e"
             ],
             [
              0.4444444444444444,
              "#bd3786"
             ],
             [
              0.5555555555555556,
              "#d8576b"
             ],
             [
              0.6666666666666666,
              "#ed7953"
             ],
             [
              0.7777777777777778,
              "#fb9f3a"
             ],
             [
              0.8888888888888888,
              "#fdca26"
             ],
             [
              1,
              "#f0f921"
             ]
            ],
            "type": "histogram2dcontour"
           }
          ],
          "mesh3d": [
           {
            "colorbar": {
             "outlinewidth": 0,
             "ticks": ""
            },
            "type": "mesh3d"
           }
          ],
          "parcoords": [
           {
            "line": {
             "colorbar": {
              "outlinewidth": 0,
              "ticks": ""
             }
            },
            "type": "parcoords"
           }
          ],
          "pie": [
           {
            "automargin": true,
            "type": "pie"
           }
          ],
          "scatter": [
           {
            "marker": {
             "colorbar": {
              "outlinewidth": 0,
              "ticks": ""
             }
            },
            "type": "scatter"
           }
          ],
          "scatter3d": [
           {
            "line": {
             "colorbar": {
              "outlinewidth": 0,
              "ticks": ""
             }
            },
            "marker": {
             "colorbar": {
              "outlinewidth": 0,
              "ticks": ""
             }
            },
            "type": "scatter3d"
           }
          ],
          "scattercarpet": [
           {
            "marker": {
             "colorbar": {
              "outlinewidth": 0,
              "ticks": ""
             }
            },
            "type": "scattercarpet"
           }
          ],
          "scattergeo": [
           {
            "marker": {
             "colorbar": {
              "outlinewidth": 0,
              "ticks": ""
             }
            },
            "type": "scattergeo"
           }
          ],
          "scattergl": [
           {
            "marker": {
             "colorbar": {
              "outlinewidth": 0,
              "ticks": ""
             }
            },
            "type": "scattergl"
           }
          ],
          "scattermapbox": [
           {
            "marker": {
             "colorbar": {
              "outlinewidth": 0,
              "ticks": ""
             }
            },
            "type": "scattermapbox"
           }
          ],
          "scatterpolar": [
           {
            "marker": {
             "colorbar": {
              "outlinewidth": 0,
              "ticks": ""
             }
            },
            "type": "scatterpolar"
           }
          ],
          "scatterpolargl": [
           {
            "marker": {
             "colorbar": {
              "outlinewidth": 0,
              "ticks": ""
             }
            },
            "type": "scatterpolargl"
           }
          ],
          "scatterternary": [
           {
            "marker": {
             "colorbar": {
              "outlinewidth": 0,
              "ticks": ""
             }
            },
            "type": "scatterternary"
           }
          ],
          "surface": [
           {
            "colorbar": {
             "outlinewidth": 0,
             "ticks": ""
            },
            "colorscale": [
             [
              0,
              "#0d0887"
             ],
             [
              0.1111111111111111,
              "#46039f"
             ],
             [
              0.2222222222222222,
              "#7201a8"
             ],
             [
              0.3333333333333333,
              "#9c179e"
             ],
             [
              0.4444444444444444,
              "#bd3786"
             ],
             [
              0.5555555555555556,
              "#d8576b"
             ],
             [
              0.6666666666666666,
              "#ed7953"
             ],
             [
              0.7777777777777778,
              "#fb9f3a"
             ],
             [
              0.8888888888888888,
              "#fdca26"
             ],
             [
              1,
              "#f0f921"
             ]
            ],
            "type": "surface"
           }
          ],
          "table": [
           {
            "cells": {
             "fill": {
              "color": "#EBF0F8"
             },
             "line": {
              "color": "white"
             }
            },
            "header": {
             "fill": {
              "color": "#C8D4E3"
             },
             "line": {
              "color": "white"
             }
            },
            "type": "table"
           }
          ]
         },
         "layout": {
          "annotationdefaults": {
           "arrowcolor": "#2a3f5f",
           "arrowhead": 0,
           "arrowwidth": 1
          },
          "coloraxis": {
           "colorbar": {
            "outlinewidth": 0,
            "ticks": ""
           }
          },
          "colorscale": {
           "diverging": [
            [
             0,
             "#8e0152"
            ],
            [
             0.1,
             "#c51b7d"
            ],
            [
             0.2,
             "#de77ae"
            ],
            [
             0.3,
             "#f1b6da"
            ],
            [
             0.4,
             "#fde0ef"
            ],
            [
             0.5,
             "#f7f7f7"
            ],
            [
             0.6,
             "#e6f5d0"
            ],
            [
             0.7,
             "#b8e186"
            ],
            [
             0.8,
             "#7fbc41"
            ],
            [
             0.9,
             "#4d9221"
            ],
            [
             1,
             "#276419"
            ]
           ],
           "sequential": [
            [
             0,
             "#0d0887"
            ],
            [
             0.1111111111111111,
             "#46039f"
            ],
            [
             0.2222222222222222,
             "#7201a8"
            ],
            [
             0.3333333333333333,
             "#9c179e"
            ],
            [
             0.4444444444444444,
             "#bd3786"
            ],
            [
             0.5555555555555556,
             "#d8576b"
            ],
            [
             0.6666666666666666,
             "#ed7953"
            ],
            [
             0.7777777777777778,
             "#fb9f3a"
            ],
            [
             0.8888888888888888,
             "#fdca26"
            ],
            [
             1,
             "#f0f921"
            ]
           ],
           "sequentialminus": [
            [
             0,
             "#0d0887"
            ],
            [
             0.1111111111111111,
             "#46039f"
            ],
            [
             0.2222222222222222,
             "#7201a8"
            ],
            [
             0.3333333333333333,
             "#9c179e"
            ],
            [
             0.4444444444444444,
             "#bd3786"
            ],
            [
             0.5555555555555556,
             "#d8576b"
            ],
            [
             0.6666666666666666,
             "#ed7953"
            ],
            [
             0.7777777777777778,
             "#fb9f3a"
            ],
            [
             0.8888888888888888,
             "#fdca26"
            ],
            [
             1,
             "#f0f921"
            ]
           ]
          },
          "colorway": [
           "#636efa",
           "#EF553B",
           "#00cc96",
           "#ab63fa",
           "#FFA15A",
           "#19d3f3",
           "#FF6692",
           "#B6E880",
           "#FF97FF",
           "#FECB52"
          ],
          "font": {
           "color": "#2a3f5f"
          },
          "geo": {
           "bgcolor": "white",
           "lakecolor": "white",
           "landcolor": "#E5ECF6",
           "showlakes": true,
           "showland": true,
           "subunitcolor": "white"
          },
          "hoverlabel": {
           "align": "left"
          },
          "hovermode": "closest",
          "mapbox": {
           "style": "light"
          },
          "paper_bgcolor": "white",
          "plot_bgcolor": "#E5ECF6",
          "polar": {
           "angularaxis": {
            "gridcolor": "white",
            "linecolor": "white",
            "ticks": ""
           },
           "bgcolor": "#E5ECF6",
           "radialaxis": {
            "gridcolor": "white",
            "linecolor": "white",
            "ticks": ""
           }
          },
          "scene": {
           "xaxis": {
            "backgroundcolor": "#E5ECF6",
            "gridcolor": "white",
            "gridwidth": 2,
            "linecolor": "white",
            "showbackground": true,
            "ticks": "",
            "zerolinecolor": "white"
           },
           "yaxis": {
            "backgroundcolor": "#E5ECF6",
            "gridcolor": "white",
            "gridwidth": 2,
            "linecolor": "white",
            "showbackground": true,
            "ticks": "",
            "zerolinecolor": "white"
           },
           "zaxis": {
            "backgroundcolor": "#E5ECF6",
            "gridcolor": "white",
            "gridwidth": 2,
            "linecolor": "white",
            "showbackground": true,
            "ticks": "",
            "zerolinecolor": "white"
           }
          },
          "shapedefaults": {
           "line": {
            "color": "#2a3f5f"
           }
          },
          "ternary": {
           "aaxis": {
            "gridcolor": "white",
            "linecolor": "white",
            "ticks": ""
           },
           "baxis": {
            "gridcolor": "white",
            "linecolor": "white",
            "ticks": ""
           },
           "bgcolor": "#E5ECF6",
           "caxis": {
            "gridcolor": "white",
            "linecolor": "white",
            "ticks": ""
           }
          },
          "title": {
           "x": 0.05
          },
          "xaxis": {
           "automargin": true,
           "gridcolor": "white",
           "linecolor": "white",
           "ticks": "",
           "title": {
            "standoff": 15
           },
           "zerolinecolor": "white",
           "zerolinewidth": 2
          },
          "yaxis": {
           "automargin": true,
           "gridcolor": "white",
           "linecolor": "white",
           "ticks": "",
           "title": {
            "standoff": 15
           },
           "zerolinecolor": "white",
           "zerolinewidth": 2
          }
         }
        }
       }
      },
      "text/html": [
       "<div>\n",
       "        \n",
       "        \n",
       "            <div id=\"24c42824-8954-4b5c-b8e7-c2c205546b5a\" class=\"plotly-graph-div\" style=\"height:525px; width:100%;\"></div>\n",
       "            <script type=\"text/javascript\">\n",
       "                require([\"plotly\"], function(Plotly) {\n",
       "                    window.PLOTLYENV=window.PLOTLYENV || {};\n",
       "                    \n",
       "                if (document.getElementById(\"24c42824-8954-4b5c-b8e7-c2c205546b5a\")) {\n",
       "                    Plotly.newPlot(\n",
       "                        '24c42824-8954-4b5c-b8e7-c2c205546b5a',\n",
       "                        [{\"type\": \"scatter\", \"x\": [\"2017-02\", \"2017-03\", \"2017-04\", \"2017-05\", \"2017-06\", \"2017-07\", \"2017-08\", \"2017-09\", \"2017-10\", \"2017-11\", \"2017-12\", \"2018-01\", \"2018-02\", \"2018-03\", \"2018-04\"], \"y\": [9.99, 902.86, 17654.189999999995, 25556.230000000025, 34172.86000000008, 47284.74000000011, 39898.85000000009, 45462.20000000007, 40910.4000000001, 55373.920000000086, 43806.57000000011, 46755.56000000009, 42560.54000000012, 33435.4800000001, 3754.33]}],\n",
       "                        {\"template\": {\"data\": {\"bar\": [{\"error_x\": {\"color\": \"#2a3f5f\"}, \"error_y\": {\"color\": \"#2a3f5f\"}, \"marker\": {\"line\": {\"color\": \"#E5ECF6\", \"width\": 0.5}}, \"type\": \"bar\"}], \"barpolar\": [{\"marker\": {\"line\": {\"color\": \"#E5ECF6\", \"width\": 0.5}}, \"type\": \"barpolar\"}], \"carpet\": [{\"aaxis\": {\"endlinecolor\": \"#2a3f5f\", \"gridcolor\": \"white\", \"linecolor\": \"white\", \"minorgridcolor\": \"white\", \"startlinecolor\": \"#2a3f5f\"}, \"baxis\": {\"endlinecolor\": \"#2a3f5f\", \"gridcolor\": \"white\", \"linecolor\": \"white\", \"minorgridcolor\": \"white\", \"startlinecolor\": \"#2a3f5f\"}, \"type\": \"carpet\"}], \"choropleth\": [{\"colorbar\": {\"outlinewidth\": 0, \"ticks\": \"\"}, \"type\": \"choropleth\"}], \"contour\": [{\"colorbar\": {\"outlinewidth\": 0, \"ticks\": \"\"}, \"colorscale\": [[0.0, \"#0d0887\"], [0.1111111111111111, \"#46039f\"], [0.2222222222222222, \"#7201a8\"], [0.3333333333333333, \"#9c179e\"], [0.4444444444444444, \"#bd3786\"], [0.5555555555555556, \"#d8576b\"], [0.6666666666666666, \"#ed7953\"], [0.7777777777777778, \"#fb9f3a\"], [0.8888888888888888, \"#fdca26\"], [1.0, \"#f0f921\"]], \"type\": \"contour\"}], \"contourcarpet\": [{\"colorbar\": {\"outlinewidth\": 0, \"ticks\": \"\"}, \"type\": \"contourcarpet\"}], \"heatmap\": [{\"colorbar\": {\"outlinewidth\": 0, \"ticks\": \"\"}, \"colorscale\": [[0.0, \"#0d0887\"], [0.1111111111111111, \"#46039f\"], [0.2222222222222222, \"#7201a8\"], [0.3333333333333333, \"#9c179e\"], [0.4444444444444444, \"#bd3786\"], [0.5555555555555556, \"#d8576b\"], [0.6666666666666666, \"#ed7953\"], [0.7777777777777778, \"#fb9f3a\"], [0.8888888888888888, \"#fdca26\"], [1.0, \"#f0f921\"]], \"type\": \"heatmap\"}], \"heatmapgl\": [{\"colorbar\": {\"outlinewidth\": 0, \"ticks\": \"\"}, \"colorscale\": [[0.0, \"#0d0887\"], [0.1111111111111111, \"#46039f\"], [0.2222222222222222, \"#7201a8\"], [0.3333333333333333, \"#9c179e\"], [0.4444444444444444, \"#bd3786\"], [0.5555555555555556, \"#d8576b\"], [0.6666666666666666, \"#ed7953\"], [0.7777777777777778, \"#fb9f3a\"], [0.8888888888888888, \"#fdca26\"], [1.0, \"#f0f921\"]], \"type\": \"heatmapgl\"}], \"histogram\": [{\"marker\": {\"colorbar\": {\"outlinewidth\": 0, \"ticks\": \"\"}}, \"type\": \"histogram\"}], \"histogram2d\": [{\"colorbar\": {\"outlinewidth\": 0, \"ticks\": \"\"}, \"colorscale\": [[0.0, \"#0d0887\"], [0.1111111111111111, \"#46039f\"], [0.2222222222222222, \"#7201a8\"], [0.3333333333333333, \"#9c179e\"], [0.4444444444444444, \"#bd3786\"], [0.5555555555555556, \"#d8576b\"], [0.6666666666666666, \"#ed7953\"], [0.7777777777777778, \"#fb9f3a\"], [0.8888888888888888, \"#fdca26\"], [1.0, \"#f0f921\"]], \"type\": \"histogram2d\"}], \"histogram2dcontour\": [{\"colorbar\": {\"outlinewidth\": 0, \"ticks\": \"\"}, \"colorscale\": [[0.0, \"#0d0887\"], [0.1111111111111111, \"#46039f\"], [0.2222222222222222, \"#7201a8\"], [0.3333333333333333, \"#9c179e\"], [0.4444444444444444, \"#bd3786\"], [0.5555555555555556, \"#d8576b\"], [0.6666666666666666, \"#ed7953\"], [0.7777777777777778, \"#fb9f3a\"], [0.8888888888888888, \"#fdca26\"], [1.0, \"#f0f921\"]], \"type\": \"histogram2dcontour\"}], \"mesh3d\": [{\"colorbar\": {\"outlinewidth\": 0, \"ticks\": \"\"}, \"type\": \"mesh3d\"}], \"parcoords\": [{\"line\": {\"colorbar\": {\"outlinewidth\": 0, \"ticks\": \"\"}}, \"type\": \"parcoords\"}], \"pie\": [{\"automargin\": true, \"type\": \"pie\"}], \"scatter\": [{\"marker\": {\"colorbar\": {\"outlinewidth\": 0, \"ticks\": \"\"}}, \"type\": \"scatter\"}], \"scatter3d\": [{\"line\": {\"colorbar\": {\"outlinewidth\": 0, \"ticks\": \"\"}}, \"marker\": {\"colorbar\": {\"outlinewidth\": 0, \"ticks\": \"\"}}, \"type\": \"scatter3d\"}], \"scattercarpet\": [{\"marker\": {\"colorbar\": {\"outlinewidth\": 0, \"ticks\": \"\"}}, \"type\": \"scattercarpet\"}], \"scattergeo\": [{\"marker\": {\"colorbar\": {\"outlinewidth\": 0, \"ticks\": \"\"}}, \"type\": \"scattergeo\"}], \"scattergl\": [{\"marker\": {\"colorbar\": {\"outlinewidth\": 0, \"ticks\": \"\"}}, \"type\": \"scattergl\"}], \"scattermapbox\": [{\"marker\": {\"colorbar\": {\"outlinewidth\": 0, \"ticks\": \"\"}}, \"type\": \"scattermapbox\"}], \"scatterpolar\": [{\"marker\": {\"colorbar\": {\"outlinewidth\": 0, \"ticks\": \"\"}}, \"type\": \"scatterpolar\"}], \"scatterpolargl\": [{\"marker\": {\"colorbar\": {\"outlinewidth\": 0, \"ticks\": \"\"}}, \"type\": \"scatterpolargl\"}], \"scatterternary\": [{\"marker\": {\"colorbar\": {\"outlinewidth\": 0, \"ticks\": \"\"}}, \"type\": \"scatterternary\"}], \"surface\": [{\"colorbar\": {\"outlinewidth\": 0, \"ticks\": \"\"}, \"colorscale\": [[0.0, \"#0d0887\"], [0.1111111111111111, \"#46039f\"], [0.2222222222222222, \"#7201a8\"], [0.3333333333333333, \"#9c179e\"], [0.4444444444444444, \"#bd3786\"], [0.5555555555555556, \"#d8576b\"], [0.6666666666666666, \"#ed7953\"], [0.7777777777777778, \"#fb9f3a\"], [0.8888888888888888, \"#fdca26\"], [1.0, \"#f0f921\"]], \"type\": \"surface\"}], \"table\": [{\"cells\": {\"fill\": {\"color\": \"#EBF0F8\"}, \"line\": {\"color\": \"white\"}}, \"header\": {\"fill\": {\"color\": \"#C8D4E3\"}, \"line\": {\"color\": \"white\"}}, \"type\": \"table\"}]}, \"layout\": {\"annotationdefaults\": {\"arrowcolor\": \"#2a3f5f\", \"arrowhead\": 0, \"arrowwidth\": 1}, \"coloraxis\": {\"colorbar\": {\"outlinewidth\": 0, \"ticks\": \"\"}}, \"colorscale\": {\"diverging\": [[0, \"#8e0152\"], [0.1, \"#c51b7d\"], [0.2, \"#de77ae\"], [0.3, \"#f1b6da\"], [0.4, \"#fde0ef\"], [0.5, \"#f7f7f7\"], [0.6, \"#e6f5d0\"], [0.7, \"#b8e186\"], [0.8, \"#7fbc41\"], [0.9, \"#4d9221\"], [1, \"#276419\"]], \"sequential\": [[0.0, \"#0d0887\"], [0.1111111111111111, \"#46039f\"], [0.2222222222222222, \"#7201a8\"], [0.3333333333333333, \"#9c179e\"], [0.4444444444444444, \"#bd3786\"], [0.5555555555555556, \"#d8576b\"], [0.6666666666666666, \"#ed7953\"], [0.7777777777777778, \"#fb9f3a\"], [0.8888888888888888, \"#fdca26\"], [1.0, \"#f0f921\"]], \"sequentialminus\": [[0.0, \"#0d0887\"], [0.1111111111111111, \"#46039f\"], [0.2222222222222222, \"#7201a8\"], [0.3333333333333333, \"#9c179e\"], [0.4444444444444444, \"#bd3786\"], [0.5555555555555556, \"#d8576b\"], [0.6666666666666666, \"#ed7953\"], [0.7777777777777778, \"#fb9f3a\"], [0.8888888888888888, \"#fdca26\"], [1.0, \"#f0f921\"]]}, \"colorway\": [\"#636efa\", \"#EF553B\", \"#00cc96\", \"#ab63fa\", \"#FFA15A\", \"#19d3f3\", \"#FF6692\", \"#B6E880\", \"#FF97FF\", \"#FECB52\"], \"font\": {\"color\": \"#2a3f5f\"}, \"geo\": {\"bgcolor\": \"white\", \"lakecolor\": \"white\", \"landcolor\": \"#E5ECF6\", \"showlakes\": true, \"showland\": true, \"subunitcolor\": \"white\"}, \"hoverlabel\": {\"align\": \"left\"}, \"hovermode\": \"closest\", \"mapbox\": {\"style\": \"light\"}, \"paper_bgcolor\": \"white\", \"plot_bgcolor\": \"#E5ECF6\", \"polar\": {\"angularaxis\": {\"gridcolor\": \"white\", \"linecolor\": \"white\", \"ticks\": \"\"}, \"bgcolor\": \"#E5ECF6\", \"radialaxis\": {\"gridcolor\": \"white\", \"linecolor\": \"white\", \"ticks\": \"\"}}, \"scene\": {\"xaxis\": {\"backgroundcolor\": \"#E5ECF6\", \"gridcolor\": \"white\", \"gridwidth\": 2, \"linecolor\": \"white\", \"showbackground\": true, \"ticks\": \"\", \"zerolinecolor\": \"white\"}, \"yaxis\": {\"backgroundcolor\": \"#E5ECF6\", \"gridcolor\": \"white\", \"gridwidth\": 2, \"linecolor\": \"white\", \"showbackground\": true, \"ticks\": \"\", \"zerolinecolor\": \"white\"}, \"zaxis\": {\"backgroundcolor\": \"#E5ECF6\", \"gridcolor\": \"white\", \"gridwidth\": 2, \"linecolor\": \"white\", \"showbackground\": true, \"ticks\": \"\", \"zerolinecolor\": \"white\"}}, \"shapedefaults\": {\"line\": {\"color\": \"#2a3f5f\"}}, \"ternary\": {\"aaxis\": {\"gridcolor\": \"white\", \"linecolor\": \"white\", \"ticks\": \"\"}, \"baxis\": {\"gridcolor\": \"white\", \"linecolor\": \"white\", \"ticks\": \"\"}, \"bgcolor\": \"#E5ECF6\", \"caxis\": {\"gridcolor\": \"white\", \"linecolor\": \"white\", \"ticks\": \"\"}}, \"title\": {\"x\": 0.05}, \"xaxis\": {\"automargin\": true, \"gridcolor\": \"white\", \"linecolor\": \"white\", \"ticks\": \"\", \"title\": {\"standoff\": 15}, \"zerolinecolor\": \"white\", \"zerolinewidth\": 2}, \"yaxis\": {\"automargin\": true, \"gridcolor\": \"white\", \"linecolor\": \"white\", \"ticks\": \"\", \"title\": {\"standoff\": 15}, \"zerolinecolor\": \"white\", \"zerolinewidth\": 2}}}},\n",
       "                        {\"responsive\": true}\n",
       "                    ).then(function(){\n",
       "                            \n",
       "var gd = document.getElementById('24c42824-8954-4b5c-b8e7-c2c205546b5a');\n",
       "var x = new MutationObserver(function (mutations, observer) {{\n",
       "        var display = window.getComputedStyle(gd).display;\n",
       "        if (!display || display === 'none') {{\n",
       "            console.log([gd, 'removed!']);\n",
       "            Plotly.purge(gd);\n",
       "            observer.disconnect();\n",
       "        }}\n",
       "}});\n",
       "\n",
       "// Listen for the removal of the full notebook cells\n",
       "var notebookContainer = gd.closest('#notebook-container');\n",
       "if (notebookContainer) {{\n",
       "    x.observe(notebookContainer, {childList: true});\n",
       "}}\n",
       "\n",
       "// Listen for the clearing of the current output cell\n",
       "var outputEl = gd.closest('.output');\n",
       "if (outputEl) {{\n",
       "    x.observe(outputEl, {childList: true});\n",
       "}}\n",
       "\n",
       "                        })\n",
       "                };\n",
       "                });\n",
       "            </script>\n",
       "        </div>"
      ]
     },
     "metadata": {},
     "output_type": "display_data"
    }
   ],
   "source": [
    "import plotly.graph_objs as go\n",
    "\n",
    "data = [go.Scatter(x=vendas_por_mes.index,\n",
    "                   y=vendas_por_mes.values)]\n",
    "\n",
    "py.iplot(data)"
   ]
  },
  {
   "cell_type": "markdown",
   "metadata": {},
   "source": [
    "**Gráfico de Barras**"
   ]
  },
  {
   "cell_type": "markdown",
   "metadata": {},
   "source": [
    "- **Customizando graficos de barras: titulos e labels dos eixos**"
   ]
  },
  {
   "cell_type": "code",
   "execution_count": 37,
   "metadata": {},
   "outputs": [
    {
     "data": {
      "application/vnd.plotly.v1+json": {
       "config": {
        "linkText": "Export to plot.ly",
        "plotlyServerURL": "https://plot.ly",
        "showLink": false
       },
       "data": [
        {
         "marker": {
          "color": "lightblue"
         },
         "type": "bar",
         "x": [
          "2017-02",
          "2017-03",
          "2017-04",
          "2017-05",
          "2017-06",
          "2017-07",
          "2017-08",
          "2017-09",
          "2017-10",
          "2017-11",
          "2017-12",
          "2018-01",
          "2018-02",
          "2018-03",
          "2018-04"
         ],
         "y": [
          9.99,
          902.86,
          17654.189999999995,
          25556.230000000025,
          34172.86000000008,
          47284.74000000011,
          39898.85000000009,
          45462.20000000007,
          40910.4000000001,
          55373.920000000086,
          43806.57000000011,
          46755.56000000009,
          42560.54000000012,
          33435.4800000001,
          3754.33
         ]
        }
       ],
       "layout": {
        "template": {
         "data": {
          "bar": [
           {
            "error_x": {
             "color": "#2a3f5f"
            },
            "error_y": {
             "color": "#2a3f5f"
            },
            "marker": {
             "line": {
              "color": "#E5ECF6",
              "width": 0.5
             }
            },
            "type": "bar"
           }
          ],
          "barpolar": [
           {
            "marker": {
             "line": {
              "color": "#E5ECF6",
              "width": 0.5
             }
            },
            "type": "barpolar"
           }
          ],
          "carpet": [
           {
            "aaxis": {
             "endlinecolor": "#2a3f5f",
             "gridcolor": "white",
             "linecolor": "white",
             "minorgridcolor": "white",
             "startlinecolor": "#2a3f5f"
            },
            "baxis": {
             "endlinecolor": "#2a3f5f",
             "gridcolor": "white",
             "linecolor": "white",
             "minorgridcolor": "white",
             "startlinecolor": "#2a3f5f"
            },
            "type": "carpet"
           }
          ],
          "choropleth": [
           {
            "colorbar": {
             "outlinewidth": 0,
             "ticks": ""
            },
            "type": "choropleth"
           }
          ],
          "contour": [
           {
            "colorbar": {
             "outlinewidth": 0,
             "ticks": ""
            },
            "colorscale": [
             [
              0,
              "#0d0887"
             ],
             [
              0.1111111111111111,
              "#46039f"
             ],
             [
              0.2222222222222222,
              "#7201a8"
             ],
             [
              0.3333333333333333,
              "#9c179e"
             ],
             [
              0.4444444444444444,
              "#bd3786"
             ],
             [
              0.5555555555555556,
              "#d8576b"
             ],
             [
              0.6666666666666666,
              "#ed7953"
             ],
             [
              0.7777777777777778,
              "#fb9f3a"
             ],
             [
              0.8888888888888888,
              "#fdca26"
             ],
             [
              1,
              "#f0f921"
             ]
            ],
            "type": "contour"
           }
          ],
          "contourcarpet": [
           {
            "colorbar": {
             "outlinewidth": 0,
             "ticks": ""
            },
            "type": "contourcarpet"
           }
          ],
          "heatmap": [
           {
            "colorbar": {
             "outlinewidth": 0,
             "ticks": ""
            },
            "colorscale": [
             [
              0,
              "#0d0887"
             ],
             [
              0.1111111111111111,
              "#46039f"
             ],
             [
              0.2222222222222222,
              "#7201a8"
             ],
             [
              0.3333333333333333,
              "#9c179e"
             ],
             [
              0.4444444444444444,
              "#bd3786"
             ],
             [
              0.5555555555555556,
              "#d8576b"
             ],
             [
              0.6666666666666666,
              "#ed7953"
             ],
             [
              0.7777777777777778,
              "#fb9f3a"
             ],
             [
              0.8888888888888888,
              "#fdca26"
             ],
             [
              1,
              "#f0f921"
             ]
            ],
            "type": "heatmap"
           }
          ],
          "heatmapgl": [
           {
            "colorbar": {
             "outlinewidth": 0,
             "ticks": ""
            },
            "colorscale": [
             [
              0,
              "#0d0887"
             ],
             [
              0.1111111111111111,
              "#46039f"
             ],
             [
              0.2222222222222222,
              "#7201a8"
             ],
             [
              0.3333333333333333,
              "#9c179e"
             ],
             [
              0.4444444444444444,
              "#bd3786"
             ],
             [
              0.5555555555555556,
              "#d8576b"
             ],
             [
              0.6666666666666666,
              "#ed7953"
             ],
             [
              0.7777777777777778,
              "#fb9f3a"
             ],
             [
              0.8888888888888888,
              "#fdca26"
             ],
             [
              1,
              "#f0f921"
             ]
            ],
            "type": "heatmapgl"
           }
          ],
          "histogram": [
           {
            "marker": {
             "colorbar": {
              "outlinewidth": 0,
              "ticks": ""
             }
            },
            "type": "histogram"
           }
          ],
          "histogram2d": [
           {
            "colorbar": {
             "outlinewidth": 0,
             "ticks": ""
            },
            "colorscale": [
             [
              0,
              "#0d0887"
             ],
             [
              0.1111111111111111,
              "#46039f"
             ],
             [
              0.2222222222222222,
              "#7201a8"
             ],
             [
              0.3333333333333333,
              "#9c179e"
             ],
             [
              0.4444444444444444,
              "#bd3786"
             ],
             [
              0.5555555555555556,
              "#d8576b"
             ],
             [
              0.6666666666666666,
              "#ed7953"
             ],
             [
              0.7777777777777778,
              "#fb9f3a"
             ],
             [
              0.8888888888888888,
              "#fdca26"
             ],
             [
              1,
              "#f0f921"
             ]
            ],
            "type": "histogram2d"
           }
          ],
          "histogram2dcontour": [
           {
            "colorbar": {
             "outlinewidth": 0,
             "ticks": ""
            },
            "colorscale": [
             [
              0,
              "#0d0887"
             ],
             [
              0.1111111111111111,
              "#46039f"
             ],
             [
              0.2222222222222222,
              "#7201a8"
             ],
             [
              0.3333333333333333,
              "#9c179e"
             ],
             [
              0.4444444444444444,
              "#bd3786"
             ],
             [
              0.5555555555555556,
              "#d8576b"
             ],
             [
              0.6666666666666666,
              "#ed7953"
             ],
             [
              0.7777777777777778,
              "#fb9f3a"
             ],
             [
              0.8888888888888888,
              "#fdca26"
             ],
             [
              1,
              "#f0f921"
             ]
            ],
            "type": "histogram2dcontour"
           }
          ],
          "mesh3d": [
           {
            "colorbar": {
             "outlinewidth": 0,
             "ticks": ""
            },
            "type": "mesh3d"
           }
          ],
          "parcoords": [
           {
            "line": {
             "colorbar": {
              "outlinewidth": 0,
              "ticks": ""
             }
            },
            "type": "parcoords"
           }
          ],
          "pie": [
           {
            "automargin": true,
            "type": "pie"
           }
          ],
          "scatter": [
           {
            "marker": {
             "colorbar": {
              "outlinewidth": 0,
              "ticks": ""
             }
            },
            "type": "scatter"
           }
          ],
          "scatter3d": [
           {
            "line": {
             "colorbar": {
              "outlinewidth": 0,
              "ticks": ""
             }
            },
            "marker": {
             "colorbar": {
              "outlinewidth": 0,
              "ticks": ""
             }
            },
            "type": "scatter3d"
           }
          ],
          "scattercarpet": [
           {
            "marker": {
             "colorbar": {
              "outlinewidth": 0,
              "ticks": ""
             }
            },
            "type": "scattercarpet"
           }
          ],
          "scattergeo": [
           {
            "marker": {
             "colorbar": {
              "outlinewidth": 0,
              "ticks": ""
             }
            },
            "type": "scattergeo"
           }
          ],
          "scattergl": [
           {
            "marker": {
             "colorbar": {
              "outlinewidth": 0,
              "ticks": ""
             }
            },
            "type": "scattergl"
           }
          ],
          "scattermapbox": [
           {
            "marker": {
             "colorbar": {
              "outlinewidth": 0,
              "ticks": ""
             }
            },
            "type": "scattermapbox"
           }
          ],
          "scatterpolar": [
           {
            "marker": {
             "colorbar": {
              "outlinewidth": 0,
              "ticks": ""
             }
            },
            "type": "scatterpolar"
           }
          ],
          "scatterpolargl": [
           {
            "marker": {
             "colorbar": {
              "outlinewidth": 0,
              "ticks": ""
             }
            },
            "type": "scatterpolargl"
           }
          ],
          "scatterternary": [
           {
            "marker": {
             "colorbar": {
              "outlinewidth": 0,
              "ticks": ""
             }
            },
            "type": "scatterternary"
           }
          ],
          "surface": [
           {
            "colorbar": {
             "outlinewidth": 0,
             "ticks": ""
            },
            "colorscale": [
             [
              0,
              "#0d0887"
             ],
             [
              0.1111111111111111,
              "#46039f"
             ],
             [
              0.2222222222222222,
              "#7201a8"
             ],
             [
              0.3333333333333333,
              "#9c179e"
             ],
             [
              0.4444444444444444,
              "#bd3786"
             ],
             [
              0.5555555555555556,
              "#d8576b"
             ],
             [
              0.6666666666666666,
              "#ed7953"
             ],
             [
              0.7777777777777778,
              "#fb9f3a"
             ],
             [
              0.8888888888888888,
              "#fdca26"
             ],
             [
              1,
              "#f0f921"
             ]
            ],
            "type": "surface"
           }
          ],
          "table": [
           {
            "cells": {
             "fill": {
              "color": "#EBF0F8"
             },
             "line": {
              "color": "white"
             }
            },
            "header": {
             "fill": {
              "color": "#C8D4E3"
             },
             "line": {
              "color": "white"
             }
            },
            "type": "table"
           }
          ]
         },
         "layout": {
          "annotationdefaults": {
           "arrowcolor": "#2a3f5f",
           "arrowhead": 0,
           "arrowwidth": 1
          },
          "coloraxis": {
           "colorbar": {
            "outlinewidth": 0,
            "ticks": ""
           }
          },
          "colorscale": {
           "diverging": [
            [
             0,
             "#8e0152"
            ],
            [
             0.1,
             "#c51b7d"
            ],
            [
             0.2,
             "#de77ae"
            ],
            [
             0.3,
             "#f1b6da"
            ],
            [
             0.4,
             "#fde0ef"
            ],
            [
             0.5,
             "#f7f7f7"
            ],
            [
             0.6,
             "#e6f5d0"
            ],
            [
             0.7,
             "#b8e186"
            ],
            [
             0.8,
             "#7fbc41"
            ],
            [
             0.9,
             "#4d9221"
            ],
            [
             1,
             "#276419"
            ]
           ],
           "sequential": [
            [
             0,
             "#0d0887"
            ],
            [
             0.1111111111111111,
             "#46039f"
            ],
            [
             0.2222222222222222,
             "#7201a8"
            ],
            [
             0.3333333333333333,
             "#9c179e"
            ],
            [
             0.4444444444444444,
             "#bd3786"
            ],
            [
             0.5555555555555556,
             "#d8576b"
            ],
            [
             0.6666666666666666,
             "#ed7953"
            ],
            [
             0.7777777777777778,
             "#fb9f3a"
            ],
            [
             0.8888888888888888,
             "#fdca26"
            ],
            [
             1,
             "#f0f921"
            ]
           ],
           "sequentialminus": [
            [
             0,
             "#0d0887"
            ],
            [
             0.1111111111111111,
             "#46039f"
            ],
            [
             0.2222222222222222,
             "#7201a8"
            ],
            [
             0.3333333333333333,
             "#9c179e"
            ],
            [
             0.4444444444444444,
             "#bd3786"
            ],
            [
             0.5555555555555556,
             "#d8576b"
            ],
            [
             0.6666666666666666,
             "#ed7953"
            ],
            [
             0.7777777777777778,
             "#fb9f3a"
            ],
            [
             0.8888888888888888,
             "#fdca26"
            ],
            [
             1,
             "#f0f921"
            ]
           ]
          },
          "colorway": [
           "#636efa",
           "#EF553B",
           "#00cc96",
           "#ab63fa",
           "#FFA15A",
           "#19d3f3",
           "#FF6692",
           "#B6E880",
           "#FF97FF",
           "#FECB52"
          ],
          "font": {
           "color": "#2a3f5f"
          },
          "geo": {
           "bgcolor": "white",
           "lakecolor": "white",
           "landcolor": "#E5ECF6",
           "showlakes": true,
           "showland": true,
           "subunitcolor": "white"
          },
          "hoverlabel": {
           "align": "left"
          },
          "hovermode": "closest",
          "mapbox": {
           "style": "light"
          },
          "paper_bgcolor": "white",
          "plot_bgcolor": "#E5ECF6",
          "polar": {
           "angularaxis": {
            "gridcolor": "white",
            "linecolor": "white",
            "ticks": ""
           },
           "bgcolor": "#E5ECF6",
           "radialaxis": {
            "gridcolor": "white",
            "linecolor": "white",
            "ticks": ""
           }
          },
          "scene": {
           "xaxis": {
            "backgroundcolor": "#E5ECF6",
            "gridcolor": "white",
            "gridwidth": 2,
            "linecolor": "white",
            "showbackground": true,
            "ticks": "",
            "zerolinecolor": "white"
           },
           "yaxis": {
            "backgroundcolor": "#E5ECF6",
            "gridcolor": "white",
            "gridwidth": 2,
            "linecolor": "white",
            "showbackground": true,
            "ticks": "",
            "zerolinecolor": "white"
           },
           "zaxis": {
            "backgroundcolor": "#E5ECF6",
            "gridcolor": "white",
            "gridwidth": 2,
            "linecolor": "white",
            "showbackground": true,
            "ticks": "",
            "zerolinecolor": "white"
           }
          },
          "shapedefaults": {
           "line": {
            "color": "#2a3f5f"
           }
          },
          "ternary": {
           "aaxis": {
            "gridcolor": "white",
            "linecolor": "white",
            "ticks": ""
           },
           "baxis": {
            "gridcolor": "white",
            "linecolor": "white",
            "ticks": ""
           },
           "bgcolor": "#E5ECF6",
           "caxis": {
            "gridcolor": "white",
            "linecolor": "white",
            "ticks": ""
           }
          },
          "title": {
           "x": 0.05
          },
          "xaxis": {
           "automargin": true,
           "gridcolor": "white",
           "linecolor": "white",
           "ticks": "",
           "title": {
            "standoff": 15
           },
           "zerolinecolor": "white",
           "zerolinewidth": 2
          },
          "yaxis": {
           "automargin": true,
           "gridcolor": "white",
           "linecolor": "white",
           "ticks": "",
           "title": {
            "standoff": 15
           },
           "zerolinecolor": "white",
           "zerolinewidth": 2
          }
         }
        },
        "title": {
         "text": "Vendas no Periodo"
        },
        "xaxis": {
         "title": {
          "text": "Periodo"
         }
        },
        "yaxis": {
         "title": {
          "text": "Valores em Vendas"
         }
        }
       }
      },
      "text/html": [
       "<div>\n",
       "        \n",
       "        \n",
       "            <div id=\"60d3e934-d8db-4a9b-b436-14dac0c434a0\" class=\"plotly-graph-div\" style=\"height:525px; width:100%;\"></div>\n",
       "            <script type=\"text/javascript\">\n",
       "                require([\"plotly\"], function(Plotly) {\n",
       "                    window.PLOTLYENV=window.PLOTLYENV || {};\n",
       "                    \n",
       "                if (document.getElementById(\"60d3e934-d8db-4a9b-b436-14dac0c434a0\")) {\n",
       "                    Plotly.newPlot(\n",
       "                        '60d3e934-d8db-4a9b-b436-14dac0c434a0',\n",
       "                        [{\"marker\": {\"color\": \"lightblue\"}, \"type\": \"bar\", \"x\": [\"2017-02\", \"2017-03\", \"2017-04\", \"2017-05\", \"2017-06\", \"2017-07\", \"2017-08\", \"2017-09\", \"2017-10\", \"2017-11\", \"2017-12\", \"2018-01\", \"2018-02\", \"2018-03\", \"2018-04\"], \"y\": [9.99, 902.86, 17654.189999999995, 25556.230000000025, 34172.86000000008, 47284.74000000011, 39898.85000000009, 45462.20000000007, 40910.4000000001, 55373.920000000086, 43806.57000000011, 46755.56000000009, 42560.54000000012, 33435.4800000001, 3754.33]}],\n",
       "                        {\"template\": {\"data\": {\"bar\": [{\"error_x\": {\"color\": \"#2a3f5f\"}, \"error_y\": {\"color\": \"#2a3f5f\"}, \"marker\": {\"line\": {\"color\": \"#E5ECF6\", \"width\": 0.5}}, \"type\": \"bar\"}], \"barpolar\": [{\"marker\": {\"line\": {\"color\": \"#E5ECF6\", \"width\": 0.5}}, \"type\": \"barpolar\"}], \"carpet\": [{\"aaxis\": {\"endlinecolor\": \"#2a3f5f\", \"gridcolor\": \"white\", \"linecolor\": \"white\", \"minorgridcolor\": \"white\", \"startlinecolor\": \"#2a3f5f\"}, \"baxis\": {\"endlinecolor\": \"#2a3f5f\", \"gridcolor\": \"white\", \"linecolor\": \"white\", \"minorgridcolor\": \"white\", \"startlinecolor\": \"#2a3f5f\"}, \"type\": \"carpet\"}], \"choropleth\": [{\"colorbar\": {\"outlinewidth\": 0, \"ticks\": \"\"}, \"type\": \"choropleth\"}], \"contour\": [{\"colorbar\": {\"outlinewidth\": 0, \"ticks\": \"\"}, \"colorscale\": [[0.0, \"#0d0887\"], [0.1111111111111111, \"#46039f\"], [0.2222222222222222, \"#7201a8\"], [0.3333333333333333, \"#9c179e\"], [0.4444444444444444, \"#bd3786\"], [0.5555555555555556, \"#d8576b\"], [0.6666666666666666, \"#ed7953\"], [0.7777777777777778, \"#fb9f3a\"], [0.8888888888888888, \"#fdca26\"], [1.0, \"#f0f921\"]], \"type\": \"contour\"}], \"contourcarpet\": [{\"colorbar\": {\"outlinewidth\": 0, \"ticks\": \"\"}, \"type\": \"contourcarpet\"}], \"heatmap\": [{\"colorbar\": {\"outlinewidth\": 0, \"ticks\": \"\"}, \"colorscale\": [[0.0, \"#0d0887\"], [0.1111111111111111, \"#46039f\"], [0.2222222222222222, \"#7201a8\"], [0.3333333333333333, \"#9c179e\"], [0.4444444444444444, \"#bd3786\"], [0.5555555555555556, \"#d8576b\"], [0.6666666666666666, \"#ed7953\"], [0.7777777777777778, \"#fb9f3a\"], [0.8888888888888888, \"#fdca26\"], [1.0, \"#f0f921\"]], \"type\": \"heatmap\"}], \"heatmapgl\": [{\"colorbar\": {\"outlinewidth\": 0, \"ticks\": \"\"}, \"colorscale\": [[0.0, \"#0d0887\"], [0.1111111111111111, \"#46039f\"], [0.2222222222222222, \"#7201a8\"], [0.3333333333333333, \"#9c179e\"], [0.4444444444444444, \"#bd3786\"], [0.5555555555555556, \"#d8576b\"], [0.6666666666666666, \"#ed7953\"], [0.7777777777777778, \"#fb9f3a\"], [0.8888888888888888, \"#fdca26\"], [1.0, \"#f0f921\"]], \"type\": \"heatmapgl\"}], \"histogram\": [{\"marker\": {\"colorbar\": {\"outlinewidth\": 0, \"ticks\": \"\"}}, \"type\": \"histogram\"}], \"histogram2d\": [{\"colorbar\": {\"outlinewidth\": 0, \"ticks\": \"\"}, \"colorscale\": [[0.0, \"#0d0887\"], [0.1111111111111111, \"#46039f\"], [0.2222222222222222, \"#7201a8\"], [0.3333333333333333, \"#9c179e\"], [0.4444444444444444, \"#bd3786\"], [0.5555555555555556, \"#d8576b\"], [0.6666666666666666, \"#ed7953\"], [0.7777777777777778, \"#fb9f3a\"], [0.8888888888888888, \"#fdca26\"], [1.0, \"#f0f921\"]], \"type\": \"histogram2d\"}], \"histogram2dcontour\": [{\"colorbar\": {\"outlinewidth\": 0, \"ticks\": \"\"}, \"colorscale\": [[0.0, \"#0d0887\"], [0.1111111111111111, \"#46039f\"], [0.2222222222222222, \"#7201a8\"], [0.3333333333333333, \"#9c179e\"], [0.4444444444444444, \"#bd3786\"], [0.5555555555555556, \"#d8576b\"], [0.6666666666666666, \"#ed7953\"], [0.7777777777777778, \"#fb9f3a\"], [0.8888888888888888, \"#fdca26\"], [1.0, \"#f0f921\"]], \"type\": \"histogram2dcontour\"}], \"mesh3d\": [{\"colorbar\": {\"outlinewidth\": 0, \"ticks\": \"\"}, \"type\": \"mesh3d\"}], \"parcoords\": [{\"line\": {\"colorbar\": {\"outlinewidth\": 0, \"ticks\": \"\"}}, \"type\": \"parcoords\"}], \"pie\": [{\"automargin\": true, \"type\": \"pie\"}], \"scatter\": [{\"marker\": {\"colorbar\": {\"outlinewidth\": 0, \"ticks\": \"\"}}, \"type\": \"scatter\"}], \"scatter3d\": [{\"line\": {\"colorbar\": {\"outlinewidth\": 0, \"ticks\": \"\"}}, \"marker\": {\"colorbar\": {\"outlinewidth\": 0, \"ticks\": \"\"}}, \"type\": \"scatter3d\"}], \"scattercarpet\": [{\"marker\": {\"colorbar\": {\"outlinewidth\": 0, \"ticks\": \"\"}}, \"type\": \"scattercarpet\"}], \"scattergeo\": [{\"marker\": {\"colorbar\": {\"outlinewidth\": 0, \"ticks\": \"\"}}, \"type\": \"scattergeo\"}], \"scattergl\": [{\"marker\": {\"colorbar\": {\"outlinewidth\": 0, \"ticks\": \"\"}}, \"type\": \"scattergl\"}], \"scattermapbox\": [{\"marker\": {\"colorbar\": {\"outlinewidth\": 0, \"ticks\": \"\"}}, \"type\": \"scattermapbox\"}], \"scatterpolar\": [{\"marker\": {\"colorbar\": {\"outlinewidth\": 0, \"ticks\": \"\"}}, \"type\": \"scatterpolar\"}], \"scatterpolargl\": [{\"marker\": {\"colorbar\": {\"outlinewidth\": 0, \"ticks\": \"\"}}, \"type\": \"scatterpolargl\"}], \"scatterternary\": [{\"marker\": {\"colorbar\": {\"outlinewidth\": 0, \"ticks\": \"\"}}, \"type\": \"scatterternary\"}], \"surface\": [{\"colorbar\": {\"outlinewidth\": 0, \"ticks\": \"\"}, \"colorscale\": [[0.0, \"#0d0887\"], [0.1111111111111111, \"#46039f\"], [0.2222222222222222, \"#7201a8\"], [0.3333333333333333, \"#9c179e\"], [0.4444444444444444, \"#bd3786\"], [0.5555555555555556, \"#d8576b\"], [0.6666666666666666, \"#ed7953\"], [0.7777777777777778, \"#fb9f3a\"], [0.8888888888888888, \"#fdca26\"], [1.0, \"#f0f921\"]], \"type\": \"surface\"}], \"table\": [{\"cells\": {\"fill\": {\"color\": \"#EBF0F8\"}, \"line\": {\"color\": \"white\"}}, \"header\": {\"fill\": {\"color\": \"#C8D4E3\"}, \"line\": {\"color\": \"white\"}}, \"type\": \"table\"}]}, \"layout\": {\"annotationdefaults\": {\"arrowcolor\": \"#2a3f5f\", \"arrowhead\": 0, \"arrowwidth\": 1}, \"coloraxis\": {\"colorbar\": {\"outlinewidth\": 0, \"ticks\": \"\"}}, \"colorscale\": {\"diverging\": [[0, \"#8e0152\"], [0.1, \"#c51b7d\"], [0.2, \"#de77ae\"], [0.3, \"#f1b6da\"], [0.4, \"#fde0ef\"], [0.5, \"#f7f7f7\"], [0.6, \"#e6f5d0\"], [0.7, \"#b8e186\"], [0.8, \"#7fbc41\"], [0.9, \"#4d9221\"], [1, \"#276419\"]], \"sequential\": [[0.0, \"#0d0887\"], [0.1111111111111111, \"#46039f\"], [0.2222222222222222, \"#7201a8\"], [0.3333333333333333, \"#9c179e\"], [0.4444444444444444, \"#bd3786\"], [0.5555555555555556, \"#d8576b\"], [0.6666666666666666, \"#ed7953\"], [0.7777777777777778, \"#fb9f3a\"], [0.8888888888888888, \"#fdca26\"], [1.0, \"#f0f921\"]], \"sequentialminus\": [[0.0, \"#0d0887\"], [0.1111111111111111, \"#46039f\"], [0.2222222222222222, \"#7201a8\"], [0.3333333333333333, \"#9c179e\"], [0.4444444444444444, \"#bd3786\"], [0.5555555555555556, \"#d8576b\"], [0.6666666666666666, \"#ed7953\"], [0.7777777777777778, \"#fb9f3a\"], [0.8888888888888888, \"#fdca26\"], [1.0, \"#f0f921\"]]}, \"colorway\": [\"#636efa\", \"#EF553B\", \"#00cc96\", \"#ab63fa\", \"#FFA15A\", \"#19d3f3\", \"#FF6692\", \"#B6E880\", \"#FF97FF\", \"#FECB52\"], \"font\": {\"color\": \"#2a3f5f\"}, \"geo\": {\"bgcolor\": \"white\", \"lakecolor\": \"white\", \"landcolor\": \"#E5ECF6\", \"showlakes\": true, \"showland\": true, \"subunitcolor\": \"white\"}, \"hoverlabel\": {\"align\": \"left\"}, \"hovermode\": \"closest\", \"mapbox\": {\"style\": \"light\"}, \"paper_bgcolor\": \"white\", \"plot_bgcolor\": \"#E5ECF6\", \"polar\": {\"angularaxis\": {\"gridcolor\": \"white\", \"linecolor\": \"white\", \"ticks\": \"\"}, \"bgcolor\": \"#E5ECF6\", \"radialaxis\": {\"gridcolor\": \"white\", \"linecolor\": \"white\", \"ticks\": \"\"}}, \"scene\": {\"xaxis\": {\"backgroundcolor\": \"#E5ECF6\", \"gridcolor\": \"white\", \"gridwidth\": 2, \"linecolor\": \"white\", \"showbackground\": true, \"ticks\": \"\", \"zerolinecolor\": \"white\"}, \"yaxis\": {\"backgroundcolor\": \"#E5ECF6\", \"gridcolor\": \"white\", \"gridwidth\": 2, \"linecolor\": \"white\", \"showbackground\": true, \"ticks\": \"\", \"zerolinecolor\": \"white\"}, \"zaxis\": {\"backgroundcolor\": \"#E5ECF6\", \"gridcolor\": \"white\", \"gridwidth\": 2, \"linecolor\": \"white\", \"showbackground\": true, \"ticks\": \"\", \"zerolinecolor\": \"white\"}}, \"shapedefaults\": {\"line\": {\"color\": \"#2a3f5f\"}}, \"ternary\": {\"aaxis\": {\"gridcolor\": \"white\", \"linecolor\": \"white\", \"ticks\": \"\"}, \"baxis\": {\"gridcolor\": \"white\", \"linecolor\": \"white\", \"ticks\": \"\"}, \"bgcolor\": \"#E5ECF6\", \"caxis\": {\"gridcolor\": \"white\", \"linecolor\": \"white\", \"ticks\": \"\"}}, \"title\": {\"x\": 0.05}, \"xaxis\": {\"automargin\": true, \"gridcolor\": \"white\", \"linecolor\": \"white\", \"ticks\": \"\", \"title\": {\"standoff\": 15}, \"zerolinecolor\": \"white\", \"zerolinewidth\": 2}, \"yaxis\": {\"automargin\": true, \"gridcolor\": \"white\", \"linecolor\": \"white\", \"ticks\": \"\", \"title\": {\"standoff\": 15}, \"zerolinecolor\": \"white\", \"zerolinewidth\": 2}}}, \"title\": {\"text\": \"Vendas no Periodo\"}, \"xaxis\": {\"title\": {\"text\": \"Periodo\"}}, \"yaxis\": {\"title\": {\"text\": \"Valores em Vendas\"}}},\n",
       "                        {\"responsive\": true}\n",
       "                    ).then(function(){\n",
       "                            \n",
       "var gd = document.getElementById('60d3e934-d8db-4a9b-b436-14dac0c434a0');\n",
       "var x = new MutationObserver(function (mutations, observer) {{\n",
       "        var display = window.getComputedStyle(gd).display;\n",
       "        if (!display || display === 'none') {{\n",
       "            console.log([gd, 'removed!']);\n",
       "            Plotly.purge(gd);\n",
       "            observer.disconnect();\n",
       "        }}\n",
       "}});\n",
       "\n",
       "// Listen for the removal of the full notebook cells\n",
       "var notebookContainer = gd.closest('#notebook-container');\n",
       "if (notebookContainer) {{\n",
       "    x.observe(notebookContainer, {childList: true});\n",
       "}}\n",
       "\n",
       "// Listen for the clearing of the current output cell\n",
       "var outputEl = gd.closest('.output');\n",
       "if (outputEl) {{\n",
       "    x.observe(outputEl, {childList: true});\n",
       "}}\n",
       "\n",
       "                        })\n",
       "                };\n",
       "                });\n",
       "            </script>\n",
       "        </div>"
      ]
     },
     "metadata": {},
     "output_type": "display_data"
    }
   ],
   "source": [
    "import plotly.offline as py\n",
    "import plotly.graph_objs as go\n",
    "\n",
    "data = [go.Bar(x=vendas_por_mes.index,\n",
    "               y=vendas_por_mes.values,\n",
    "               marker = {'color': 'lightblue'})]\n",
    "\n",
    "# Criando Layout\n",
    "configuracoes_layout = go.Layout(title='Vendas no Periodo',\n",
    "                                 yaxis={'title':'Valores em Vendas'},\n",
    "                                 xaxis={'title': 'Periodo'})\n",
    "                               \n",
    "                                 \n",
    "\n",
    "# Objeto figura\n",
    "\n",
    "fig = go.Figure(data=data, layout=configuracoes_layout)\n",
    "\n",
    "# plotando o grafico\n",
    "py.iplot(fig)"
   ]
  },
  {
   "cell_type": "markdown",
   "metadata": {},
   "source": [
    "**Definindo ajustes em linhas e cores**"
   ]
  },
  {
   "cell_type": "markdown",
   "metadata": {},
   "source": [
    "- **Parâmetro opacity e width**"
   ]
  },
  {
   "cell_type": "code",
   "execution_count": 38,
   "metadata": {},
   "outputs": [
    {
     "data": {
      "application/vnd.plotly.v1+json": {
       "config": {
        "linkText": "Export to plot.ly",
        "plotlyServerURL": "https://plot.ly",
        "showLink": false
       },
       "data": [
        {
         "marker": {
          "color": "lightblue",
          "line": {
           "color": "#333",
           "width": 2
          }
         },
         "opacity": 0.7,
         "type": "bar",
         "x": [
          "2017-02",
          "2017-03",
          "2017-04",
          "2017-05",
          "2017-06",
          "2017-07",
          "2017-08",
          "2017-09",
          "2017-10",
          "2017-11",
          "2017-12",
          "2018-01",
          "2018-02",
          "2018-03",
          "2018-04"
         ],
         "y": [
          9.99,
          902.86,
          17654.189999999995,
          25556.230000000025,
          34172.86000000008,
          47284.74000000011,
          39898.85000000009,
          45462.20000000007,
          40910.4000000001,
          55373.920000000086,
          43806.57000000011,
          46755.56000000009,
          42560.54000000012,
          33435.4800000001,
          3754.33
         ]
        }
       ],
       "layout": {
        "template": {
         "data": {
          "bar": [
           {
            "error_x": {
             "color": "#2a3f5f"
            },
            "error_y": {
             "color": "#2a3f5f"
            },
            "marker": {
             "line": {
              "color": "#E5ECF6",
              "width": 0.5
             }
            },
            "type": "bar"
           }
          ],
          "barpolar": [
           {
            "marker": {
             "line": {
              "color": "#E5ECF6",
              "width": 0.5
             }
            },
            "type": "barpolar"
           }
          ],
          "carpet": [
           {
            "aaxis": {
             "endlinecolor": "#2a3f5f",
             "gridcolor": "white",
             "linecolor": "white",
             "minorgridcolor": "white",
             "startlinecolor": "#2a3f5f"
            },
            "baxis": {
             "endlinecolor": "#2a3f5f",
             "gridcolor": "white",
             "linecolor": "white",
             "minorgridcolor": "white",
             "startlinecolor": "#2a3f5f"
            },
            "type": "carpet"
           }
          ],
          "choropleth": [
           {
            "colorbar": {
             "outlinewidth": 0,
             "ticks": ""
            },
            "type": "choropleth"
           }
          ],
          "contour": [
           {
            "colorbar": {
             "outlinewidth": 0,
             "ticks": ""
            },
            "colorscale": [
             [
              0,
              "#0d0887"
             ],
             [
              0.1111111111111111,
              "#46039f"
             ],
             [
              0.2222222222222222,
              "#7201a8"
             ],
             [
              0.3333333333333333,
              "#9c179e"
             ],
             [
              0.4444444444444444,
              "#bd3786"
             ],
             [
              0.5555555555555556,
              "#d8576b"
             ],
             [
              0.6666666666666666,
              "#ed7953"
             ],
             [
              0.7777777777777778,
              "#fb9f3a"
             ],
             [
              0.8888888888888888,
              "#fdca26"
             ],
             [
              1,
              "#f0f921"
             ]
            ],
            "type": "contour"
           }
          ],
          "contourcarpet": [
           {
            "colorbar": {
             "outlinewidth": 0,
             "ticks": ""
            },
            "type": "contourcarpet"
           }
          ],
          "heatmap": [
           {
            "colorbar": {
             "outlinewidth": 0,
             "ticks": ""
            },
            "colorscale": [
             [
              0,
              "#0d0887"
             ],
             [
              0.1111111111111111,
              "#46039f"
             ],
             [
              0.2222222222222222,
              "#7201a8"
             ],
             [
              0.3333333333333333,
              "#9c179e"
             ],
             [
              0.4444444444444444,
              "#bd3786"
             ],
             [
              0.5555555555555556,
              "#d8576b"
             ],
             [
              0.6666666666666666,
              "#ed7953"
             ],
             [
              0.7777777777777778,
              "#fb9f3a"
             ],
             [
              0.8888888888888888,
              "#fdca26"
             ],
             [
              1,
              "#f0f921"
             ]
            ],
            "type": "heatmap"
           }
          ],
          "heatmapgl": [
           {
            "colorbar": {
             "outlinewidth": 0,
             "ticks": ""
            },
            "colorscale": [
             [
              0,
              "#0d0887"
             ],
             [
              0.1111111111111111,
              "#46039f"
             ],
             [
              0.2222222222222222,
              "#7201a8"
             ],
             [
              0.3333333333333333,
              "#9c179e"
             ],
             [
              0.4444444444444444,
              "#bd3786"
             ],
             [
              0.5555555555555556,
              "#d8576b"
             ],
             [
              0.6666666666666666,
              "#ed7953"
             ],
             [
              0.7777777777777778,
              "#fb9f3a"
             ],
             [
              0.8888888888888888,
              "#fdca26"
             ],
             [
              1,
              "#f0f921"
             ]
            ],
            "type": "heatmapgl"
           }
          ],
          "histogram": [
           {
            "marker": {
             "colorbar": {
              "outlinewidth": 0,
              "ticks": ""
             }
            },
            "type": "histogram"
           }
          ],
          "histogram2d": [
           {
            "colorbar": {
             "outlinewidth": 0,
             "ticks": ""
            },
            "colorscale": [
             [
              0,
              "#0d0887"
             ],
             [
              0.1111111111111111,
              "#46039f"
             ],
             [
              0.2222222222222222,
              "#7201a8"
             ],
             [
              0.3333333333333333,
              "#9c179e"
             ],
             [
              0.4444444444444444,
              "#bd3786"
             ],
             [
              0.5555555555555556,
              "#d8576b"
             ],
             [
              0.6666666666666666,
              "#ed7953"
             ],
             [
              0.7777777777777778,
              "#fb9f3a"
             ],
             [
              0.8888888888888888,
              "#fdca26"
             ],
             [
              1,
              "#f0f921"
             ]
            ],
            "type": "histogram2d"
           }
          ],
          "histogram2dcontour": [
           {
            "colorbar": {
             "outlinewidth": 0,
             "ticks": ""
            },
            "colorscale": [
             [
              0,
              "#0d0887"
             ],
             [
              0.1111111111111111,
              "#46039f"
             ],
             [
              0.2222222222222222,
              "#7201a8"
             ],
             [
              0.3333333333333333,
              "#9c179e"
             ],
             [
              0.4444444444444444,
              "#bd3786"
             ],
             [
              0.5555555555555556,
              "#d8576b"
             ],
             [
              0.6666666666666666,
              "#ed7953"
             ],
             [
              0.7777777777777778,
              "#fb9f3a"
             ],
             [
              0.8888888888888888,
              "#fdca26"
             ],
             [
              1,
              "#f0f921"
             ]
            ],
            "type": "histogram2dcontour"
           }
          ],
          "mesh3d": [
           {
            "colorbar": {
             "outlinewidth": 0,
             "ticks": ""
            },
            "type": "mesh3d"
           }
          ],
          "parcoords": [
           {
            "line": {
             "colorbar": {
              "outlinewidth": 0,
              "ticks": ""
             }
            },
            "type": "parcoords"
           }
          ],
          "pie": [
           {
            "automargin": true,
            "type": "pie"
           }
          ],
          "scatter": [
           {
            "marker": {
             "colorbar": {
              "outlinewidth": 0,
              "ticks": ""
             }
            },
            "type": "scatter"
           }
          ],
          "scatter3d": [
           {
            "line": {
             "colorbar": {
              "outlinewidth": 0,
              "ticks": ""
             }
            },
            "marker": {
             "colorbar": {
              "outlinewidth": 0,
              "ticks": ""
             }
            },
            "type": "scatter3d"
           }
          ],
          "scattercarpet": [
           {
            "marker": {
             "colorbar": {
              "outlinewidth": 0,
              "ticks": ""
             }
            },
            "type": "scattercarpet"
           }
          ],
          "scattergeo": [
           {
            "marker": {
             "colorbar": {
              "outlinewidth": 0,
              "ticks": ""
             }
            },
            "type": "scattergeo"
           }
          ],
          "scattergl": [
           {
            "marker": {
             "colorbar": {
              "outlinewidth": 0,
              "ticks": ""
             }
            },
            "type": "scattergl"
           }
          ],
          "scattermapbox": [
           {
            "marker": {
             "colorbar": {
              "outlinewidth": 0,
              "ticks": ""
             }
            },
            "type": "scattermapbox"
           }
          ],
          "scatterpolar": [
           {
            "marker": {
             "colorbar": {
              "outlinewidth": 0,
              "ticks": ""
             }
            },
            "type": "scatterpolar"
           }
          ],
          "scatterpolargl": [
           {
            "marker": {
             "colorbar": {
              "outlinewidth": 0,
              "ticks": ""
             }
            },
            "type": "scatterpolargl"
           }
          ],
          "scatterternary": [
           {
            "marker": {
             "colorbar": {
              "outlinewidth": 0,
              "ticks": ""
             }
            },
            "type": "scatterternary"
           }
          ],
          "surface": [
           {
            "colorbar": {
             "outlinewidth": 0,
             "ticks": ""
            },
            "colorscale": [
             [
              0,
              "#0d0887"
             ],
             [
              0.1111111111111111,
              "#46039f"
             ],
             [
              0.2222222222222222,
              "#7201a8"
             ],
             [
              0.3333333333333333,
              "#9c179e"
             ],
             [
              0.4444444444444444,
              "#bd3786"
             ],
             [
              0.5555555555555556,
              "#d8576b"
             ],
             [
              0.6666666666666666,
              "#ed7953"
             ],
             [
              0.7777777777777778,
              "#fb9f3a"
             ],
             [
              0.8888888888888888,
              "#fdca26"
             ],
             [
              1,
              "#f0f921"
             ]
            ],
            "type": "surface"
           }
          ],
          "table": [
           {
            "cells": {
             "fill": {
              "color": "#EBF0F8"
             },
             "line": {
              "color": "white"
             }
            },
            "header": {
             "fill": {
              "color": "#C8D4E3"
             },
             "line": {
              "color": "white"
             }
            },
            "type": "table"
           }
          ]
         },
         "layout": {
          "annotationdefaults": {
           "arrowcolor": "#2a3f5f",
           "arrowhead": 0,
           "arrowwidth": 1
          },
          "coloraxis": {
           "colorbar": {
            "outlinewidth": 0,
            "ticks": ""
           }
          },
          "colorscale": {
           "diverging": [
            [
             0,
             "#8e0152"
            ],
            [
             0.1,
             "#c51b7d"
            ],
            [
             0.2,
             "#de77ae"
            ],
            [
             0.3,
             "#f1b6da"
            ],
            [
             0.4,
             "#fde0ef"
            ],
            [
             0.5,
             "#f7f7f7"
            ],
            [
             0.6,
             "#e6f5d0"
            ],
            [
             0.7,
             "#b8e186"
            ],
            [
             0.8,
             "#7fbc41"
            ],
            [
             0.9,
             "#4d9221"
            ],
            [
             1,
             "#276419"
            ]
           ],
           "sequential": [
            [
             0,
             "#0d0887"
            ],
            [
             0.1111111111111111,
             "#46039f"
            ],
            [
             0.2222222222222222,
             "#7201a8"
            ],
            [
             0.3333333333333333,
             "#9c179e"
            ],
            [
             0.4444444444444444,
             "#bd3786"
            ],
            [
             0.5555555555555556,
             "#d8576b"
            ],
            [
             0.6666666666666666,
             "#ed7953"
            ],
            [
             0.7777777777777778,
             "#fb9f3a"
            ],
            [
             0.8888888888888888,
             "#fdca26"
            ],
            [
             1,
             "#f0f921"
            ]
           ],
           "sequentialminus": [
            [
             0,
             "#0d0887"
            ],
            [
             0.1111111111111111,
             "#46039f"
            ],
            [
             0.2222222222222222,
             "#7201a8"
            ],
            [
             0.3333333333333333,
             "#9c179e"
            ],
            [
             0.4444444444444444,
             "#bd3786"
            ],
            [
             0.5555555555555556,
             "#d8576b"
            ],
            [
             0.6666666666666666,
             "#ed7953"
            ],
            [
             0.7777777777777778,
             "#fb9f3a"
            ],
            [
             0.8888888888888888,
             "#fdca26"
            ],
            [
             1,
             "#f0f921"
            ]
           ]
          },
          "colorway": [
           "#636efa",
           "#EF553B",
           "#00cc96",
           "#ab63fa",
           "#FFA15A",
           "#19d3f3",
           "#FF6692",
           "#B6E880",
           "#FF97FF",
           "#FECB52"
          ],
          "font": {
           "color": "#2a3f5f"
          },
          "geo": {
           "bgcolor": "white",
           "lakecolor": "white",
           "landcolor": "#E5ECF6",
           "showlakes": true,
           "showland": true,
           "subunitcolor": "white"
          },
          "hoverlabel": {
           "align": "left"
          },
          "hovermode": "closest",
          "mapbox": {
           "style": "light"
          },
          "paper_bgcolor": "white",
          "plot_bgcolor": "#E5ECF6",
          "polar": {
           "angularaxis": {
            "gridcolor": "white",
            "linecolor": "white",
            "ticks": ""
           },
           "bgcolor": "#E5ECF6",
           "radialaxis": {
            "gridcolor": "white",
            "linecolor": "white",
            "ticks": ""
           }
          },
          "scene": {
           "xaxis": {
            "backgroundcolor": "#E5ECF6",
            "gridcolor": "white",
            "gridwidth": 2,
            "linecolor": "white",
            "showbackground": true,
            "ticks": "",
            "zerolinecolor": "white"
           },
           "yaxis": {
            "backgroundcolor": "#E5ECF6",
            "gridcolor": "white",
            "gridwidth": 2,
            "linecolor": "white",
            "showbackground": true,
            "ticks": "",
            "zerolinecolor": "white"
           },
           "zaxis": {
            "backgroundcolor": "#E5ECF6",
            "gridcolor": "white",
            "gridwidth": 2,
            "linecolor": "white",
            "showbackground": true,
            "ticks": "",
            "zerolinecolor": "white"
           }
          },
          "shapedefaults": {
           "line": {
            "color": "#2a3f5f"
           }
          },
          "ternary": {
           "aaxis": {
            "gridcolor": "white",
            "linecolor": "white",
            "ticks": ""
           },
           "baxis": {
            "gridcolor": "white",
            "linecolor": "white",
            "ticks": ""
           },
           "bgcolor": "#E5ECF6",
           "caxis": {
            "gridcolor": "white",
            "linecolor": "white",
            "ticks": ""
           }
          },
          "title": {
           "x": 0.05
          },
          "xaxis": {
           "automargin": true,
           "gridcolor": "white",
           "linecolor": "white",
           "ticks": "",
           "title": {
            "standoff": 15
           },
           "zerolinecolor": "white",
           "zerolinewidth": 2
          },
          "yaxis": {
           "automargin": true,
           "gridcolor": "white",
           "linecolor": "white",
           "ticks": "",
           "title": {
            "standoff": 15
           },
           "zerolinecolor": "white",
           "zerolinewidth": 2
          }
         }
        },
        "title": {
         "text": "Vendas no Periodo"
        },
        "xaxis": {
         "title": {
          "text": "Periodo"
         }
        },
        "yaxis": {
         "title": {
          "text": "Valores em Vendas"
         }
        }
       }
      },
      "text/html": [
       "<div>\n",
       "        \n",
       "        \n",
       "            <div id=\"6fcf0e8d-1db3-4157-8b01-bfcd9f68a7ea\" class=\"plotly-graph-div\" style=\"height:525px; width:100%;\"></div>\n",
       "            <script type=\"text/javascript\">\n",
       "                require([\"plotly\"], function(Plotly) {\n",
       "                    window.PLOTLYENV=window.PLOTLYENV || {};\n",
       "                    \n",
       "                if (document.getElementById(\"6fcf0e8d-1db3-4157-8b01-bfcd9f68a7ea\")) {\n",
       "                    Plotly.newPlot(\n",
       "                        '6fcf0e8d-1db3-4157-8b01-bfcd9f68a7ea',\n",
       "                        [{\"marker\": {\"color\": \"lightblue\", \"line\": {\"color\": \"#333\", \"width\": 2}}, \"opacity\": 0.7, \"type\": \"bar\", \"x\": [\"2017-02\", \"2017-03\", \"2017-04\", \"2017-05\", \"2017-06\", \"2017-07\", \"2017-08\", \"2017-09\", \"2017-10\", \"2017-11\", \"2017-12\", \"2018-01\", \"2018-02\", \"2018-03\", \"2018-04\"], \"y\": [9.99, 902.86, 17654.189999999995, 25556.230000000025, 34172.86000000008, 47284.74000000011, 39898.85000000009, 45462.20000000007, 40910.4000000001, 55373.920000000086, 43806.57000000011, 46755.56000000009, 42560.54000000012, 33435.4800000001, 3754.33]}],\n",
       "                        {\"template\": {\"data\": {\"bar\": [{\"error_x\": {\"color\": \"#2a3f5f\"}, \"error_y\": {\"color\": \"#2a3f5f\"}, \"marker\": {\"line\": {\"color\": \"#E5ECF6\", \"width\": 0.5}}, \"type\": \"bar\"}], \"barpolar\": [{\"marker\": {\"line\": {\"color\": \"#E5ECF6\", \"width\": 0.5}}, \"type\": \"barpolar\"}], \"carpet\": [{\"aaxis\": {\"endlinecolor\": \"#2a3f5f\", \"gridcolor\": \"white\", \"linecolor\": \"white\", \"minorgridcolor\": \"white\", \"startlinecolor\": \"#2a3f5f\"}, \"baxis\": {\"endlinecolor\": \"#2a3f5f\", \"gridcolor\": \"white\", \"linecolor\": \"white\", \"minorgridcolor\": \"white\", \"startlinecolor\": \"#2a3f5f\"}, \"type\": \"carpet\"}], \"choropleth\": [{\"colorbar\": {\"outlinewidth\": 0, \"ticks\": \"\"}, \"type\": \"choropleth\"}], \"contour\": [{\"colorbar\": {\"outlinewidth\": 0, \"ticks\": \"\"}, \"colorscale\": [[0.0, \"#0d0887\"], [0.1111111111111111, \"#46039f\"], [0.2222222222222222, \"#7201a8\"], [0.3333333333333333, \"#9c179e\"], [0.4444444444444444, \"#bd3786\"], [0.5555555555555556, \"#d8576b\"], [0.6666666666666666, \"#ed7953\"], [0.7777777777777778, \"#fb9f3a\"], [0.8888888888888888, \"#fdca26\"], [1.0, \"#f0f921\"]], \"type\": \"contour\"}], \"contourcarpet\": [{\"colorbar\": {\"outlinewidth\": 0, \"ticks\": \"\"}, \"type\": \"contourcarpet\"}], \"heatmap\": [{\"colorbar\": {\"outlinewidth\": 0, \"ticks\": \"\"}, \"colorscale\": [[0.0, \"#0d0887\"], [0.1111111111111111, \"#46039f\"], [0.2222222222222222, \"#7201a8\"], [0.3333333333333333, \"#9c179e\"], [0.4444444444444444, \"#bd3786\"], [0.5555555555555556, \"#d8576b\"], [0.6666666666666666, \"#ed7953\"], [0.7777777777777778, \"#fb9f3a\"], [0.8888888888888888, \"#fdca26\"], [1.0, \"#f0f921\"]], \"type\": \"heatmap\"}], \"heatmapgl\": [{\"colorbar\": {\"outlinewidth\": 0, \"ticks\": \"\"}, \"colorscale\": [[0.0, \"#0d0887\"], [0.1111111111111111, \"#46039f\"], [0.2222222222222222, \"#7201a8\"], [0.3333333333333333, \"#9c179e\"], [0.4444444444444444, \"#bd3786\"], [0.5555555555555556, \"#d8576b\"], [0.6666666666666666, \"#ed7953\"], [0.7777777777777778, \"#fb9f3a\"], [0.8888888888888888, \"#fdca26\"], [1.0, \"#f0f921\"]], \"type\": \"heatmapgl\"}], \"histogram\": [{\"marker\": {\"colorbar\": {\"outlinewidth\": 0, \"ticks\": \"\"}}, \"type\": \"histogram\"}], \"histogram2d\": [{\"colorbar\": {\"outlinewidth\": 0, \"ticks\": \"\"}, \"colorscale\": [[0.0, \"#0d0887\"], [0.1111111111111111, \"#46039f\"], [0.2222222222222222, \"#7201a8\"], [0.3333333333333333, \"#9c179e\"], [0.4444444444444444, \"#bd3786\"], [0.5555555555555556, \"#d8576b\"], [0.6666666666666666, \"#ed7953\"], [0.7777777777777778, \"#fb9f3a\"], [0.8888888888888888, \"#fdca26\"], [1.0, \"#f0f921\"]], \"type\": \"histogram2d\"}], \"histogram2dcontour\": [{\"colorbar\": {\"outlinewidth\": 0, \"ticks\": \"\"}, \"colorscale\": [[0.0, \"#0d0887\"], [0.1111111111111111, \"#46039f\"], [0.2222222222222222, \"#7201a8\"], [0.3333333333333333, \"#9c179e\"], [0.4444444444444444, \"#bd3786\"], [0.5555555555555556, \"#d8576b\"], [0.6666666666666666, \"#ed7953\"], [0.7777777777777778, \"#fb9f3a\"], [0.8888888888888888, \"#fdca26\"], [1.0, \"#f0f921\"]], \"type\": \"histogram2dcontour\"}], \"mesh3d\": [{\"colorbar\": {\"outlinewidth\": 0, \"ticks\": \"\"}, \"type\": \"mesh3d\"}], \"parcoords\": [{\"line\": {\"colorbar\": {\"outlinewidth\": 0, \"ticks\": \"\"}}, \"type\": \"parcoords\"}], \"pie\": [{\"automargin\": true, \"type\": \"pie\"}], \"scatter\": [{\"marker\": {\"colorbar\": {\"outlinewidth\": 0, \"ticks\": \"\"}}, \"type\": \"scatter\"}], \"scatter3d\": [{\"line\": {\"colorbar\": {\"outlinewidth\": 0, \"ticks\": \"\"}}, \"marker\": {\"colorbar\": {\"outlinewidth\": 0, \"ticks\": \"\"}}, \"type\": \"scatter3d\"}], \"scattercarpet\": [{\"marker\": {\"colorbar\": {\"outlinewidth\": 0, \"ticks\": \"\"}}, \"type\": \"scattercarpet\"}], \"scattergeo\": [{\"marker\": {\"colorbar\": {\"outlinewidth\": 0, \"ticks\": \"\"}}, \"type\": \"scattergeo\"}], \"scattergl\": [{\"marker\": {\"colorbar\": {\"outlinewidth\": 0, \"ticks\": \"\"}}, \"type\": \"scattergl\"}], \"scattermapbox\": [{\"marker\": {\"colorbar\": {\"outlinewidth\": 0, \"ticks\": \"\"}}, \"type\": \"scattermapbox\"}], \"scatterpolar\": [{\"marker\": {\"colorbar\": {\"outlinewidth\": 0, \"ticks\": \"\"}}, \"type\": \"scatterpolar\"}], \"scatterpolargl\": [{\"marker\": {\"colorbar\": {\"outlinewidth\": 0, \"ticks\": \"\"}}, \"type\": \"scatterpolargl\"}], \"scatterternary\": [{\"marker\": {\"colorbar\": {\"outlinewidth\": 0, \"ticks\": \"\"}}, \"type\": \"scatterternary\"}], \"surface\": [{\"colorbar\": {\"outlinewidth\": 0, \"ticks\": \"\"}, \"colorscale\": [[0.0, \"#0d0887\"], [0.1111111111111111, \"#46039f\"], [0.2222222222222222, \"#7201a8\"], [0.3333333333333333, \"#9c179e\"], [0.4444444444444444, \"#bd3786\"], [0.5555555555555556, \"#d8576b\"], [0.6666666666666666, \"#ed7953\"], [0.7777777777777778, \"#fb9f3a\"], [0.8888888888888888, \"#fdca26\"], [1.0, \"#f0f921\"]], \"type\": \"surface\"}], \"table\": [{\"cells\": {\"fill\": {\"color\": \"#EBF0F8\"}, \"line\": {\"color\": \"white\"}}, \"header\": {\"fill\": {\"color\": \"#C8D4E3\"}, \"line\": {\"color\": \"white\"}}, \"type\": \"table\"}]}, \"layout\": {\"annotationdefaults\": {\"arrowcolor\": \"#2a3f5f\", \"arrowhead\": 0, \"arrowwidth\": 1}, \"coloraxis\": {\"colorbar\": {\"outlinewidth\": 0, \"ticks\": \"\"}}, \"colorscale\": {\"diverging\": [[0, \"#8e0152\"], [0.1, \"#c51b7d\"], [0.2, \"#de77ae\"], [0.3, \"#f1b6da\"], [0.4, \"#fde0ef\"], [0.5, \"#f7f7f7\"], [0.6, \"#e6f5d0\"], [0.7, \"#b8e186\"], [0.8, \"#7fbc41\"], [0.9, \"#4d9221\"], [1, \"#276419\"]], \"sequential\": [[0.0, \"#0d0887\"], [0.1111111111111111, \"#46039f\"], [0.2222222222222222, \"#7201a8\"], [0.3333333333333333, \"#9c179e\"], [0.4444444444444444, \"#bd3786\"], [0.5555555555555556, \"#d8576b\"], [0.6666666666666666, \"#ed7953\"], [0.7777777777777778, \"#fb9f3a\"], [0.8888888888888888, \"#fdca26\"], [1.0, \"#f0f921\"]], \"sequentialminus\": [[0.0, \"#0d0887\"], [0.1111111111111111, \"#46039f\"], [0.2222222222222222, \"#7201a8\"], [0.3333333333333333, \"#9c179e\"], [0.4444444444444444, \"#bd3786\"], [0.5555555555555556, \"#d8576b\"], [0.6666666666666666, \"#ed7953\"], [0.7777777777777778, \"#fb9f3a\"], [0.8888888888888888, \"#fdca26\"], [1.0, \"#f0f921\"]]}, \"colorway\": [\"#636efa\", \"#EF553B\", \"#00cc96\", \"#ab63fa\", \"#FFA15A\", \"#19d3f3\", \"#FF6692\", \"#B6E880\", \"#FF97FF\", \"#FECB52\"], \"font\": {\"color\": \"#2a3f5f\"}, \"geo\": {\"bgcolor\": \"white\", \"lakecolor\": \"white\", \"landcolor\": \"#E5ECF6\", \"showlakes\": true, \"showland\": true, \"subunitcolor\": \"white\"}, \"hoverlabel\": {\"align\": \"left\"}, \"hovermode\": \"closest\", \"mapbox\": {\"style\": \"light\"}, \"paper_bgcolor\": \"white\", \"plot_bgcolor\": \"#E5ECF6\", \"polar\": {\"angularaxis\": {\"gridcolor\": \"white\", \"linecolor\": \"white\", \"ticks\": \"\"}, \"bgcolor\": \"#E5ECF6\", \"radialaxis\": {\"gridcolor\": \"white\", \"linecolor\": \"white\", \"ticks\": \"\"}}, \"scene\": {\"xaxis\": {\"backgroundcolor\": \"#E5ECF6\", \"gridcolor\": \"white\", \"gridwidth\": 2, \"linecolor\": \"white\", \"showbackground\": true, \"ticks\": \"\", \"zerolinecolor\": \"white\"}, \"yaxis\": {\"backgroundcolor\": \"#E5ECF6\", \"gridcolor\": \"white\", \"gridwidth\": 2, \"linecolor\": \"white\", \"showbackground\": true, \"ticks\": \"\", \"zerolinecolor\": \"white\"}, \"zaxis\": {\"backgroundcolor\": \"#E5ECF6\", \"gridcolor\": \"white\", \"gridwidth\": 2, \"linecolor\": \"white\", \"showbackground\": true, \"ticks\": \"\", \"zerolinecolor\": \"white\"}}, \"shapedefaults\": {\"line\": {\"color\": \"#2a3f5f\"}}, \"ternary\": {\"aaxis\": {\"gridcolor\": \"white\", \"linecolor\": \"white\", \"ticks\": \"\"}, \"baxis\": {\"gridcolor\": \"white\", \"linecolor\": \"white\", \"ticks\": \"\"}, \"bgcolor\": \"#E5ECF6\", \"caxis\": {\"gridcolor\": \"white\", \"linecolor\": \"white\", \"ticks\": \"\"}}, \"title\": {\"x\": 0.05}, \"xaxis\": {\"automargin\": true, \"gridcolor\": \"white\", \"linecolor\": \"white\", \"ticks\": \"\", \"title\": {\"standoff\": 15}, \"zerolinecolor\": \"white\", \"zerolinewidth\": 2}, \"yaxis\": {\"automargin\": true, \"gridcolor\": \"white\", \"linecolor\": \"white\", \"ticks\": \"\", \"title\": {\"standoff\": 15}, \"zerolinecolor\": \"white\", \"zerolinewidth\": 2}}}, \"title\": {\"text\": \"Vendas no Periodo\"}, \"xaxis\": {\"title\": {\"text\": \"Periodo\"}}, \"yaxis\": {\"title\": {\"text\": \"Valores em Vendas\"}}},\n",
       "                        {\"responsive\": true}\n",
       "                    ).then(function(){\n",
       "                            \n",
       "var gd = document.getElementById('6fcf0e8d-1db3-4157-8b01-bfcd9f68a7ea');\n",
       "var x = new MutationObserver(function (mutations, observer) {{\n",
       "        var display = window.getComputedStyle(gd).display;\n",
       "        if (!display || display === 'none') {{\n",
       "            console.log([gd, 'removed!']);\n",
       "            Plotly.purge(gd);\n",
       "            observer.disconnect();\n",
       "        }}\n",
       "}});\n",
       "\n",
       "// Listen for the removal of the full notebook cells\n",
       "var notebookContainer = gd.closest('#notebook-container');\n",
       "if (notebookContainer) {{\n",
       "    x.observe(notebookContainer, {childList: true});\n",
       "}}\n",
       "\n",
       "// Listen for the clearing of the current output cell\n",
       "var outputEl = gd.closest('.output');\n",
       "if (outputEl) {{\n",
       "    x.observe(outputEl, {childList: true});\n",
       "}}\n",
       "\n",
       "                        })\n",
       "                };\n",
       "                });\n",
       "            </script>\n",
       "        </div>"
      ]
     },
     "metadata": {},
     "output_type": "display_data"
    }
   ],
   "source": [
    "import plotly.offline as py\n",
    "import plotly.graph_objs as go\n",
    "\n",
    "data = [go.Bar(x=vendas_por_mes.index,\n",
    "               y=vendas_por_mes.values,\n",
    "               marker = {'color': 'lightblue',\n",
    "                         'line': {'color': '#333',\n",
    "                                  'width': 2}\n",
    "                        },\n",
    "               opacity= 0.7\n",
    "              )\n",
    "       ]\n",
    "\n",
    "# Criando Layout\n",
    "configuracoes_layout = go.Layout(title='Vendas no Periodo',\n",
    "                                 yaxis={'title':'Valores em Vendas'},\n",
    "                                 xaxis={'title':'Periodo'})\n",
    "\n",
    "# Objeto figura\n",
    "\n",
    "fig = go.Figure(data=data, layout=configuracoes_layout)\n",
    "\n",
    "# plotando o grafico\n",
    "py.iplot(fig)"
   ]
  },
  {
   "cell_type": "markdown",
   "metadata": {},
   "source": [
    "**Destacando uma barras**"
   ]
  },
  {
   "cell_type": "code",
   "execution_count": 39,
   "metadata": {},
   "outputs": [],
   "source": [
    "# Definir um lista vazia\n",
    "cores = []"
   ]
  },
  {
   "cell_type": "code",
   "execution_count": 40,
   "metadata": {},
   "outputs": [
    {
     "data": {
      "text/plain": [
       "Index(['2017-02', '2017-03', '2017-04', '2017-05', '2017-06', '2017-07',\n",
       "       '2017-08', '2017-09', '2017-10', '2017-11', '2017-12', '2018-01',\n",
       "       '2018-02', '2018-03', '2018-04'],\n",
       "      dtype='object', name='order_purchase_month')"
      ]
     },
     "execution_count": 40,
     "metadata": {},
     "output_type": "execute_result"
    }
   ],
   "source": [
    "vendas_por_mes.index"
   ]
  },
  {
   "cell_type": "code",
   "execution_count": 41,
   "metadata": {},
   "outputs": [
    {
     "data": {
      "text/plain": [
       "order_purchase_month\n",
       "2017-02        9.99\n",
       "2017-03      902.86\n",
       "2017-04    17654.19\n",
       "2017-05    25556.23\n",
       "2017-06    34172.86\n",
       "2017-07    47284.74\n",
       "2017-08    39898.85\n",
       "2017-09    45462.20\n",
       "2017-10    40910.40\n",
       "2017-11    55373.92\n",
       "2017-12    43806.57\n",
       "2018-01    46755.56\n",
       "2018-02    42560.54\n",
       "2018-03    33435.48\n",
       "2018-04     3754.33\n",
       "Name: order_products_value, dtype: float64"
      ]
     },
     "execution_count": 41,
     "metadata": {},
     "output_type": "execute_result"
    }
   ],
   "source": [
    "vendas_por_mes"
   ]
  },
  {
   "cell_type": "markdown",
   "metadata": {},
   "source": [
    "**Valor de média para ser testado**"
   ]
  },
  {
   "cell_type": "code",
   "execution_count": 42,
   "metadata": {},
   "outputs": [],
   "source": [
    "media = vendas_por_mes.values.mean()"
   ]
  },
  {
   "cell_type": "code",
   "execution_count": 43,
   "metadata": {},
   "outputs": [
    {
     "data": {
      "text/plain": [
       "31835.914666666733"
      ]
     },
     "execution_count": 43,
     "metadata": {},
     "output_type": "execute_result"
    }
   ],
   "source": [
    "media"
   ]
  },
  {
   "cell_type": "markdown",
   "metadata": {},
   "source": [
    "**Alimentando a lista de cores**"
   ]
  },
  {
   "cell_type": "code",
   "execution_count": 44,
   "metadata": {},
   "outputs": [],
   "source": [
    "# se o valor de vendas do mês for menor que a média a lista de cor será vermelha, senão azul.\n",
    "for x in vendas_por_mes.values:\n",
    "    if x < media:\n",
    "        cores.append('red')\n",
    "    else:\n",
    "        cores.append('lightblue')"
   ]
  },
  {
   "cell_type": "markdown",
   "metadata": {},
   "source": [
    "**Visualizando a lista de cores**"
   ]
  },
  {
   "cell_type": "code",
   "execution_count": 45,
   "metadata": {},
   "outputs": [
    {
     "data": {
      "text/plain": [
       "['red',\n",
       " 'red',\n",
       " 'red',\n",
       " 'red',\n",
       " 'lightblue',\n",
       " 'lightblue',\n",
       " 'lightblue',\n",
       " 'lightblue',\n",
       " 'lightblue',\n",
       " 'lightblue',\n",
       " 'lightblue',\n",
       " 'lightblue',\n",
       " 'lightblue',\n",
       " 'lightblue',\n",
       " 'red']"
      ]
     },
     "execution_count": 45,
     "metadata": {},
     "output_type": "execute_result"
    }
   ],
   "source": [
    "cores"
   ]
  },
  {
   "cell_type": "markdown",
   "metadata": {},
   "source": [
    "**Gráficos de Vendas no Periodo**"
   ]
  },
  {
   "cell_type": "code",
   "execution_count": 46,
   "metadata": {},
   "outputs": [
    {
     "data": {
      "application/vnd.plotly.v1+json": {
       "config": {
        "linkText": "Export to plot.ly",
        "plotlyServerURL": "https://plot.ly",
        "showLink": false
       },
       "data": [
        {
         "marker": {
          "color": [
           "red",
           "red",
           "red",
           "red",
           "lightblue",
           "lightblue",
           "lightblue",
           "lightblue",
           "lightblue",
           "lightblue",
           "lightblue",
           "lightblue",
           "lightblue",
           "lightblue",
           "red"
          ],
          "line": {
           "color": "#333",
           "width": 2
          }
         },
         "opacity": 0.7,
         "type": "bar",
         "x": [
          "2017-02",
          "2017-03",
          "2017-04",
          "2017-05",
          "2017-06",
          "2017-07",
          "2017-08",
          "2017-09",
          "2017-10",
          "2017-11",
          "2017-12",
          "2018-01",
          "2018-02",
          "2018-03",
          "2018-04"
         ],
         "y": [
          9.99,
          902.86,
          17654.189999999995,
          25556.230000000025,
          34172.86000000008,
          47284.74000000011,
          39898.85000000009,
          45462.20000000007,
          40910.4000000001,
          55373.920000000086,
          43806.57000000011,
          46755.56000000009,
          42560.54000000012,
          33435.4800000001,
          3754.33
         ]
        }
       ],
       "layout": {
        "template": {
         "data": {
          "bar": [
           {
            "error_x": {
             "color": "#2a3f5f"
            },
            "error_y": {
             "color": "#2a3f5f"
            },
            "marker": {
             "line": {
              "color": "#E5ECF6",
              "width": 0.5
             }
            },
            "type": "bar"
           }
          ],
          "barpolar": [
           {
            "marker": {
             "line": {
              "color": "#E5ECF6",
              "width": 0.5
             }
            },
            "type": "barpolar"
           }
          ],
          "carpet": [
           {
            "aaxis": {
             "endlinecolor": "#2a3f5f",
             "gridcolor": "white",
             "linecolor": "white",
             "minorgridcolor": "white",
             "startlinecolor": "#2a3f5f"
            },
            "baxis": {
             "endlinecolor": "#2a3f5f",
             "gridcolor": "white",
             "linecolor": "white",
             "minorgridcolor": "white",
             "startlinecolor": "#2a3f5f"
            },
            "type": "carpet"
           }
          ],
          "choropleth": [
           {
            "colorbar": {
             "outlinewidth": 0,
             "ticks": ""
            },
            "type": "choropleth"
           }
          ],
          "contour": [
           {
            "colorbar": {
             "outlinewidth": 0,
             "ticks": ""
            },
            "colorscale": [
             [
              0,
              "#0d0887"
             ],
             [
              0.1111111111111111,
              "#46039f"
             ],
             [
              0.2222222222222222,
              "#7201a8"
             ],
             [
              0.3333333333333333,
              "#9c179e"
             ],
             [
              0.4444444444444444,
              "#bd3786"
             ],
             [
              0.5555555555555556,
              "#d8576b"
             ],
             [
              0.6666666666666666,
              "#ed7953"
             ],
             [
              0.7777777777777778,
              "#fb9f3a"
             ],
             [
              0.8888888888888888,
              "#fdca26"
             ],
             [
              1,
              "#f0f921"
             ]
            ],
            "type": "contour"
           }
          ],
          "contourcarpet": [
           {
            "colorbar": {
             "outlinewidth": 0,
             "ticks": ""
            },
            "type": "contourcarpet"
           }
          ],
          "heatmap": [
           {
            "colorbar": {
             "outlinewidth": 0,
             "ticks": ""
            },
            "colorscale": [
             [
              0,
              "#0d0887"
             ],
             [
              0.1111111111111111,
              "#46039f"
             ],
             [
              0.2222222222222222,
              "#7201a8"
             ],
             [
              0.3333333333333333,
              "#9c179e"
             ],
             [
              0.4444444444444444,
              "#bd3786"
             ],
             [
              0.5555555555555556,
              "#d8576b"
             ],
             [
              0.6666666666666666,
              "#ed7953"
             ],
             [
              0.7777777777777778,
              "#fb9f3a"
             ],
             [
              0.8888888888888888,
              "#fdca26"
             ],
             [
              1,
              "#f0f921"
             ]
            ],
            "type": "heatmap"
           }
          ],
          "heatmapgl": [
           {
            "colorbar": {
             "outlinewidth": 0,
             "ticks": ""
            },
            "colorscale": [
             [
              0,
              "#0d0887"
             ],
             [
              0.1111111111111111,
              "#46039f"
             ],
             [
              0.2222222222222222,
              "#7201a8"
             ],
             [
              0.3333333333333333,
              "#9c179e"
             ],
             [
              0.4444444444444444,
              "#bd3786"
             ],
             [
              0.5555555555555556,
              "#d8576b"
             ],
             [
              0.6666666666666666,
              "#ed7953"
             ],
             [
              0.7777777777777778,
              "#fb9f3a"
             ],
             [
              0.8888888888888888,
              "#fdca26"
             ],
             [
              1,
              "#f0f921"
             ]
            ],
            "type": "heatmapgl"
           }
          ],
          "histogram": [
           {
            "marker": {
             "colorbar": {
              "outlinewidth": 0,
              "ticks": ""
             }
            },
            "type": "histogram"
           }
          ],
          "histogram2d": [
           {
            "colorbar": {
             "outlinewidth": 0,
             "ticks": ""
            },
            "colorscale": [
             [
              0,
              "#0d0887"
             ],
             [
              0.1111111111111111,
              "#46039f"
             ],
             [
              0.2222222222222222,
              "#7201a8"
             ],
             [
              0.3333333333333333,
              "#9c179e"
             ],
             [
              0.4444444444444444,
              "#bd3786"
             ],
             [
              0.5555555555555556,
              "#d8576b"
             ],
             [
              0.6666666666666666,
              "#ed7953"
             ],
             [
              0.7777777777777778,
              "#fb9f3a"
             ],
             [
              0.8888888888888888,
              "#fdca26"
             ],
             [
              1,
              "#f0f921"
             ]
            ],
            "type": "histogram2d"
           }
          ],
          "histogram2dcontour": [
           {
            "colorbar": {
             "outlinewidth": 0,
             "ticks": ""
            },
            "colorscale": [
             [
              0,
              "#0d0887"
             ],
             [
              0.1111111111111111,
              "#46039f"
             ],
             [
              0.2222222222222222,
              "#7201a8"
             ],
             [
              0.3333333333333333,
              "#9c179e"
             ],
             [
              0.4444444444444444,
              "#bd3786"
             ],
             [
              0.5555555555555556,
              "#d8576b"
             ],
             [
              0.6666666666666666,
              "#ed7953"
             ],
             [
              0.7777777777777778,
              "#fb9f3a"
             ],
             [
              0.8888888888888888,
              "#fdca26"
             ],
             [
              1,
              "#f0f921"
             ]
            ],
            "type": "histogram2dcontour"
           }
          ],
          "mesh3d": [
           {
            "colorbar": {
             "outlinewidth": 0,
             "ticks": ""
            },
            "type": "mesh3d"
           }
          ],
          "parcoords": [
           {
            "line": {
             "colorbar": {
              "outlinewidth": 0,
              "ticks": ""
             }
            },
            "type": "parcoords"
           }
          ],
          "pie": [
           {
            "automargin": true,
            "type": "pie"
           }
          ],
          "scatter": [
           {
            "marker": {
             "colorbar": {
              "outlinewidth": 0,
              "ticks": ""
             }
            },
            "type": "scatter"
           }
          ],
          "scatter3d": [
           {
            "line": {
             "colorbar": {
              "outlinewidth": 0,
              "ticks": ""
             }
            },
            "marker": {
             "colorbar": {
              "outlinewidth": 0,
              "ticks": ""
             }
            },
            "type": "scatter3d"
           }
          ],
          "scattercarpet": [
           {
            "marker": {
             "colorbar": {
              "outlinewidth": 0,
              "ticks": ""
             }
            },
            "type": "scattercarpet"
           }
          ],
          "scattergeo": [
           {
            "marker": {
             "colorbar": {
              "outlinewidth": 0,
              "ticks": ""
             }
            },
            "type": "scattergeo"
           }
          ],
          "scattergl": [
           {
            "marker": {
             "colorbar": {
              "outlinewidth": 0,
              "ticks": ""
             }
            },
            "type": "scattergl"
           }
          ],
          "scattermapbox": [
           {
            "marker": {
             "colorbar": {
              "outlinewidth": 0,
              "ticks": ""
             }
            },
            "type": "scattermapbox"
           }
          ],
          "scatterpolar": [
           {
            "marker": {
             "colorbar": {
              "outlinewidth": 0,
              "ticks": ""
             }
            },
            "type": "scatterpolar"
           }
          ],
          "scatterpolargl": [
           {
            "marker": {
             "colorbar": {
              "outlinewidth": 0,
              "ticks": ""
             }
            },
            "type": "scatterpolargl"
           }
          ],
          "scatterternary": [
           {
            "marker": {
             "colorbar": {
              "outlinewidth": 0,
              "ticks": ""
             }
            },
            "type": "scatterternary"
           }
          ],
          "surface": [
           {
            "colorbar": {
             "outlinewidth": 0,
             "ticks": ""
            },
            "colorscale": [
             [
              0,
              "#0d0887"
             ],
             [
              0.1111111111111111,
              "#46039f"
             ],
             [
              0.2222222222222222,
              "#7201a8"
             ],
             [
              0.3333333333333333,
              "#9c179e"
             ],
             [
              0.4444444444444444,
              "#bd3786"
             ],
             [
              0.5555555555555556,
              "#d8576b"
             ],
             [
              0.6666666666666666,
              "#ed7953"
             ],
             [
              0.7777777777777778,
              "#fb9f3a"
             ],
             [
              0.8888888888888888,
              "#fdca26"
             ],
             [
              1,
              "#f0f921"
             ]
            ],
            "type": "surface"
           }
          ],
          "table": [
           {
            "cells": {
             "fill": {
              "color": "#EBF0F8"
             },
             "line": {
              "color": "white"
             }
            },
            "header": {
             "fill": {
              "color": "#C8D4E3"
             },
             "line": {
              "color": "white"
             }
            },
            "type": "table"
           }
          ]
         },
         "layout": {
          "annotationdefaults": {
           "arrowcolor": "#2a3f5f",
           "arrowhead": 0,
           "arrowwidth": 1
          },
          "coloraxis": {
           "colorbar": {
            "outlinewidth": 0,
            "ticks": ""
           }
          },
          "colorscale": {
           "diverging": [
            [
             0,
             "#8e0152"
            ],
            [
             0.1,
             "#c51b7d"
            ],
            [
             0.2,
             "#de77ae"
            ],
            [
             0.3,
             "#f1b6da"
            ],
            [
             0.4,
             "#fde0ef"
            ],
            [
             0.5,
             "#f7f7f7"
            ],
            [
             0.6,
             "#e6f5d0"
            ],
            [
             0.7,
             "#b8e186"
            ],
            [
             0.8,
             "#7fbc41"
            ],
            [
             0.9,
             "#4d9221"
            ],
            [
             1,
             "#276419"
            ]
           ],
           "sequential": [
            [
             0,
             "#0d0887"
            ],
            [
             0.1111111111111111,
             "#46039f"
            ],
            [
             0.2222222222222222,
             "#7201a8"
            ],
            [
             0.3333333333333333,
             "#9c179e"
            ],
            [
             0.4444444444444444,
             "#bd3786"
            ],
            [
             0.5555555555555556,
             "#d8576b"
            ],
            [
             0.6666666666666666,
             "#ed7953"
            ],
            [
             0.7777777777777778,
             "#fb9f3a"
            ],
            [
             0.8888888888888888,
             "#fdca26"
            ],
            [
             1,
             "#f0f921"
            ]
           ],
           "sequentialminus": [
            [
             0,
             "#0d0887"
            ],
            [
             0.1111111111111111,
             "#46039f"
            ],
            [
             0.2222222222222222,
             "#7201a8"
            ],
            [
             0.3333333333333333,
             "#9c179e"
            ],
            [
             0.4444444444444444,
             "#bd3786"
            ],
            [
             0.5555555555555556,
             "#d8576b"
            ],
            [
             0.6666666666666666,
             "#ed7953"
            ],
            [
             0.7777777777777778,
             "#fb9f3a"
            ],
            [
             0.8888888888888888,
             "#fdca26"
            ],
            [
             1,
             "#f0f921"
            ]
           ]
          },
          "colorway": [
           "#636efa",
           "#EF553B",
           "#00cc96",
           "#ab63fa",
           "#FFA15A",
           "#19d3f3",
           "#FF6692",
           "#B6E880",
           "#FF97FF",
           "#FECB52"
          ],
          "font": {
           "color": "#2a3f5f"
          },
          "geo": {
           "bgcolor": "white",
           "lakecolor": "white",
           "landcolor": "#E5ECF6",
           "showlakes": true,
           "showland": true,
           "subunitcolor": "white"
          },
          "hoverlabel": {
           "align": "left"
          },
          "hovermode": "closest",
          "mapbox": {
           "style": "light"
          },
          "paper_bgcolor": "white",
          "plot_bgcolor": "#E5ECF6",
          "polar": {
           "angularaxis": {
            "gridcolor": "white",
            "linecolor": "white",
            "ticks": ""
           },
           "bgcolor": "#E5ECF6",
           "radialaxis": {
            "gridcolor": "white",
            "linecolor": "white",
            "ticks": ""
           }
          },
          "scene": {
           "xaxis": {
            "backgroundcolor": "#E5ECF6",
            "gridcolor": "white",
            "gridwidth": 2,
            "linecolor": "white",
            "showbackground": true,
            "ticks": "",
            "zerolinecolor": "white"
           },
           "yaxis": {
            "backgroundcolor": "#E5ECF6",
            "gridcolor": "white",
            "gridwidth": 2,
            "linecolor": "white",
            "showbackground": true,
            "ticks": "",
            "zerolinecolor": "white"
           },
           "zaxis": {
            "backgroundcolor": "#E5ECF6",
            "gridcolor": "white",
            "gridwidth": 2,
            "linecolor": "white",
            "showbackground": true,
            "ticks": "",
            "zerolinecolor": "white"
           }
          },
          "shapedefaults": {
           "line": {
            "color": "#2a3f5f"
           }
          },
          "ternary": {
           "aaxis": {
            "gridcolor": "white",
            "linecolor": "white",
            "ticks": ""
           },
           "baxis": {
            "gridcolor": "white",
            "linecolor": "white",
            "ticks": ""
           },
           "bgcolor": "#E5ECF6",
           "caxis": {
            "gridcolor": "white",
            "linecolor": "white",
            "ticks": ""
           }
          },
          "title": {
           "x": 0.05
          },
          "xaxis": {
           "automargin": true,
           "gridcolor": "white",
           "linecolor": "white",
           "ticks": "",
           "title": {
            "standoff": 15
           },
           "zerolinecolor": "white",
           "zerolinewidth": 2
          },
          "yaxis": {
           "automargin": true,
           "gridcolor": "white",
           "linecolor": "white",
           "ticks": "",
           "title": {
            "standoff": 15
           },
           "zerolinecolor": "white",
           "zerolinewidth": 2
          }
         }
        },
        "title": {
         "text": "Vendas no Periodo"
        },
        "xaxis": {
         "title": {
          "text": "Periodo"
         }
        },
        "yaxis": {
         "title": {
          "text": "Valores em Vendas"
         }
        }
       }
      },
      "text/html": [
       "<div>\n",
       "        \n",
       "        \n",
       "            <div id=\"4acc052c-bd81-4f2d-8143-b0d20922bed5\" class=\"plotly-graph-div\" style=\"height:525px; width:100%;\"></div>\n",
       "            <script type=\"text/javascript\">\n",
       "                require([\"plotly\"], function(Plotly) {\n",
       "                    window.PLOTLYENV=window.PLOTLYENV || {};\n",
       "                    \n",
       "                if (document.getElementById(\"4acc052c-bd81-4f2d-8143-b0d20922bed5\")) {\n",
       "                    Plotly.newPlot(\n",
       "                        '4acc052c-bd81-4f2d-8143-b0d20922bed5',\n",
       "                        [{\"marker\": {\"color\": [\"red\", \"red\", \"red\", \"red\", \"lightblue\", \"lightblue\", \"lightblue\", \"lightblue\", \"lightblue\", \"lightblue\", \"lightblue\", \"lightblue\", \"lightblue\", \"lightblue\", \"red\"], \"line\": {\"color\": \"#333\", \"width\": 2}}, \"opacity\": 0.7, \"type\": \"bar\", \"x\": [\"2017-02\", \"2017-03\", \"2017-04\", \"2017-05\", \"2017-06\", \"2017-07\", \"2017-08\", \"2017-09\", \"2017-10\", \"2017-11\", \"2017-12\", \"2018-01\", \"2018-02\", \"2018-03\", \"2018-04\"], \"y\": [9.99, 902.86, 17654.189999999995, 25556.230000000025, 34172.86000000008, 47284.74000000011, 39898.85000000009, 45462.20000000007, 40910.4000000001, 55373.920000000086, 43806.57000000011, 46755.56000000009, 42560.54000000012, 33435.4800000001, 3754.33]}],\n",
       "                        {\"template\": {\"data\": {\"bar\": [{\"error_x\": {\"color\": \"#2a3f5f\"}, \"error_y\": {\"color\": \"#2a3f5f\"}, \"marker\": {\"line\": {\"color\": \"#E5ECF6\", \"width\": 0.5}}, \"type\": \"bar\"}], \"barpolar\": [{\"marker\": {\"line\": {\"color\": \"#E5ECF6\", \"width\": 0.5}}, \"type\": \"barpolar\"}], \"carpet\": [{\"aaxis\": {\"endlinecolor\": \"#2a3f5f\", \"gridcolor\": \"white\", \"linecolor\": \"white\", \"minorgridcolor\": \"white\", \"startlinecolor\": \"#2a3f5f\"}, \"baxis\": {\"endlinecolor\": \"#2a3f5f\", \"gridcolor\": \"white\", \"linecolor\": \"white\", \"minorgridcolor\": \"white\", \"startlinecolor\": \"#2a3f5f\"}, \"type\": \"carpet\"}], \"choropleth\": [{\"colorbar\": {\"outlinewidth\": 0, \"ticks\": \"\"}, \"type\": \"choropleth\"}], \"contour\": [{\"colorbar\": {\"outlinewidth\": 0, \"ticks\": \"\"}, \"colorscale\": [[0.0, \"#0d0887\"], [0.1111111111111111, \"#46039f\"], [0.2222222222222222, \"#7201a8\"], [0.3333333333333333, \"#9c179e\"], [0.4444444444444444, \"#bd3786\"], [0.5555555555555556, \"#d8576b\"], [0.6666666666666666, \"#ed7953\"], [0.7777777777777778, \"#fb9f3a\"], [0.8888888888888888, \"#fdca26\"], [1.0, \"#f0f921\"]], \"type\": \"contour\"}], \"contourcarpet\": [{\"colorbar\": {\"outlinewidth\": 0, \"ticks\": \"\"}, \"type\": \"contourcarpet\"}], \"heatmap\": [{\"colorbar\": {\"outlinewidth\": 0, \"ticks\": \"\"}, \"colorscale\": [[0.0, \"#0d0887\"], [0.1111111111111111, \"#46039f\"], [0.2222222222222222, \"#7201a8\"], [0.3333333333333333, \"#9c179e\"], [0.4444444444444444, \"#bd3786\"], [0.5555555555555556, \"#d8576b\"], [0.6666666666666666, \"#ed7953\"], [0.7777777777777778, \"#fb9f3a\"], [0.8888888888888888, \"#fdca26\"], [1.0, \"#f0f921\"]], \"type\": \"heatmap\"}], \"heatmapgl\": [{\"colorbar\": {\"outlinewidth\": 0, \"ticks\": \"\"}, \"colorscale\": [[0.0, \"#0d0887\"], [0.1111111111111111, \"#46039f\"], [0.2222222222222222, \"#7201a8\"], [0.3333333333333333, \"#9c179e\"], [0.4444444444444444, \"#bd3786\"], [0.5555555555555556, \"#d8576b\"], [0.6666666666666666, \"#ed7953\"], [0.7777777777777778, \"#fb9f3a\"], [0.8888888888888888, \"#fdca26\"], [1.0, \"#f0f921\"]], \"type\": \"heatmapgl\"}], \"histogram\": [{\"marker\": {\"colorbar\": {\"outlinewidth\": 0, \"ticks\": \"\"}}, \"type\": \"histogram\"}], \"histogram2d\": [{\"colorbar\": {\"outlinewidth\": 0, \"ticks\": \"\"}, \"colorscale\": [[0.0, \"#0d0887\"], [0.1111111111111111, \"#46039f\"], [0.2222222222222222, \"#7201a8\"], [0.3333333333333333, \"#9c179e\"], [0.4444444444444444, \"#bd3786\"], [0.5555555555555556, \"#d8576b\"], [0.6666666666666666, \"#ed7953\"], [0.7777777777777778, \"#fb9f3a\"], [0.8888888888888888, \"#fdca26\"], [1.0, \"#f0f921\"]], \"type\": \"histogram2d\"}], \"histogram2dcontour\": [{\"colorbar\": {\"outlinewidth\": 0, \"ticks\": \"\"}, \"colorscale\": [[0.0, \"#0d0887\"], [0.1111111111111111, \"#46039f\"], [0.2222222222222222, \"#7201a8\"], [0.3333333333333333, \"#9c179e\"], [0.4444444444444444, \"#bd3786\"], [0.5555555555555556, \"#d8576b\"], [0.6666666666666666, \"#ed7953\"], [0.7777777777777778, \"#fb9f3a\"], [0.8888888888888888, \"#fdca26\"], [1.0, \"#f0f921\"]], \"type\": \"histogram2dcontour\"}], \"mesh3d\": [{\"colorbar\": {\"outlinewidth\": 0, \"ticks\": \"\"}, \"type\": \"mesh3d\"}], \"parcoords\": [{\"line\": {\"colorbar\": {\"outlinewidth\": 0, \"ticks\": \"\"}}, \"type\": \"parcoords\"}], \"pie\": [{\"automargin\": true, \"type\": \"pie\"}], \"scatter\": [{\"marker\": {\"colorbar\": {\"outlinewidth\": 0, \"ticks\": \"\"}}, \"type\": \"scatter\"}], \"scatter3d\": [{\"line\": {\"colorbar\": {\"outlinewidth\": 0, \"ticks\": \"\"}}, \"marker\": {\"colorbar\": {\"outlinewidth\": 0, \"ticks\": \"\"}}, \"type\": \"scatter3d\"}], \"scattercarpet\": [{\"marker\": {\"colorbar\": {\"outlinewidth\": 0, \"ticks\": \"\"}}, \"type\": \"scattercarpet\"}], \"scattergeo\": [{\"marker\": {\"colorbar\": {\"outlinewidth\": 0, \"ticks\": \"\"}}, \"type\": \"scattergeo\"}], \"scattergl\": [{\"marker\": {\"colorbar\": {\"outlinewidth\": 0, \"ticks\": \"\"}}, \"type\": \"scattergl\"}], \"scattermapbox\": [{\"marker\": {\"colorbar\": {\"outlinewidth\": 0, \"ticks\": \"\"}}, \"type\": \"scattermapbox\"}], \"scatterpolar\": [{\"marker\": {\"colorbar\": {\"outlinewidth\": 0, \"ticks\": \"\"}}, \"type\": \"scatterpolar\"}], \"scatterpolargl\": [{\"marker\": {\"colorbar\": {\"outlinewidth\": 0, \"ticks\": \"\"}}, \"type\": \"scatterpolargl\"}], \"scatterternary\": [{\"marker\": {\"colorbar\": {\"outlinewidth\": 0, \"ticks\": \"\"}}, \"type\": \"scatterternary\"}], \"surface\": [{\"colorbar\": {\"outlinewidth\": 0, \"ticks\": \"\"}, \"colorscale\": [[0.0, \"#0d0887\"], [0.1111111111111111, \"#46039f\"], [0.2222222222222222, \"#7201a8\"], [0.3333333333333333, \"#9c179e\"], [0.4444444444444444, \"#bd3786\"], [0.5555555555555556, \"#d8576b\"], [0.6666666666666666, \"#ed7953\"], [0.7777777777777778, \"#fb9f3a\"], [0.8888888888888888, \"#fdca26\"], [1.0, \"#f0f921\"]], \"type\": \"surface\"}], \"table\": [{\"cells\": {\"fill\": {\"color\": \"#EBF0F8\"}, \"line\": {\"color\": \"white\"}}, \"header\": {\"fill\": {\"color\": \"#C8D4E3\"}, \"line\": {\"color\": \"white\"}}, \"type\": \"table\"}]}, \"layout\": {\"annotationdefaults\": {\"arrowcolor\": \"#2a3f5f\", \"arrowhead\": 0, \"arrowwidth\": 1}, \"coloraxis\": {\"colorbar\": {\"outlinewidth\": 0, \"ticks\": \"\"}}, \"colorscale\": {\"diverging\": [[0, \"#8e0152\"], [0.1, \"#c51b7d\"], [0.2, \"#de77ae\"], [0.3, \"#f1b6da\"], [0.4, \"#fde0ef\"], [0.5, \"#f7f7f7\"], [0.6, \"#e6f5d0\"], [0.7, \"#b8e186\"], [0.8, \"#7fbc41\"], [0.9, \"#4d9221\"], [1, \"#276419\"]], \"sequential\": [[0.0, \"#0d0887\"], [0.1111111111111111, \"#46039f\"], [0.2222222222222222, \"#7201a8\"], [0.3333333333333333, \"#9c179e\"], [0.4444444444444444, \"#bd3786\"], [0.5555555555555556, \"#d8576b\"], [0.6666666666666666, \"#ed7953\"], [0.7777777777777778, \"#fb9f3a\"], [0.8888888888888888, \"#fdca26\"], [1.0, \"#f0f921\"]], \"sequentialminus\": [[0.0, \"#0d0887\"], [0.1111111111111111, \"#46039f\"], [0.2222222222222222, \"#7201a8\"], [0.3333333333333333, \"#9c179e\"], [0.4444444444444444, \"#bd3786\"], [0.5555555555555556, \"#d8576b\"], [0.6666666666666666, \"#ed7953\"], [0.7777777777777778, \"#fb9f3a\"], [0.8888888888888888, \"#fdca26\"], [1.0, \"#f0f921\"]]}, \"colorway\": [\"#636efa\", \"#EF553B\", \"#00cc96\", \"#ab63fa\", \"#FFA15A\", \"#19d3f3\", \"#FF6692\", \"#B6E880\", \"#FF97FF\", \"#FECB52\"], \"font\": {\"color\": \"#2a3f5f\"}, \"geo\": {\"bgcolor\": \"white\", \"lakecolor\": \"white\", \"landcolor\": \"#E5ECF6\", \"showlakes\": true, \"showland\": true, \"subunitcolor\": \"white\"}, \"hoverlabel\": {\"align\": \"left\"}, \"hovermode\": \"closest\", \"mapbox\": {\"style\": \"light\"}, \"paper_bgcolor\": \"white\", \"plot_bgcolor\": \"#E5ECF6\", \"polar\": {\"angularaxis\": {\"gridcolor\": \"white\", \"linecolor\": \"white\", \"ticks\": \"\"}, \"bgcolor\": \"#E5ECF6\", \"radialaxis\": {\"gridcolor\": \"white\", \"linecolor\": \"white\", \"ticks\": \"\"}}, \"scene\": {\"xaxis\": {\"backgroundcolor\": \"#E5ECF6\", \"gridcolor\": \"white\", \"gridwidth\": 2, \"linecolor\": \"white\", \"showbackground\": true, \"ticks\": \"\", \"zerolinecolor\": \"white\"}, \"yaxis\": {\"backgroundcolor\": \"#E5ECF6\", \"gridcolor\": \"white\", \"gridwidth\": 2, \"linecolor\": \"white\", \"showbackground\": true, \"ticks\": \"\", \"zerolinecolor\": \"white\"}, \"zaxis\": {\"backgroundcolor\": \"#E5ECF6\", \"gridcolor\": \"white\", \"gridwidth\": 2, \"linecolor\": \"white\", \"showbackground\": true, \"ticks\": \"\", \"zerolinecolor\": \"white\"}}, \"shapedefaults\": {\"line\": {\"color\": \"#2a3f5f\"}}, \"ternary\": {\"aaxis\": {\"gridcolor\": \"white\", \"linecolor\": \"white\", \"ticks\": \"\"}, \"baxis\": {\"gridcolor\": \"white\", \"linecolor\": \"white\", \"ticks\": \"\"}, \"bgcolor\": \"#E5ECF6\", \"caxis\": {\"gridcolor\": \"white\", \"linecolor\": \"white\", \"ticks\": \"\"}}, \"title\": {\"x\": 0.05}, \"xaxis\": {\"automargin\": true, \"gridcolor\": \"white\", \"linecolor\": \"white\", \"ticks\": \"\", \"title\": {\"standoff\": 15}, \"zerolinecolor\": \"white\", \"zerolinewidth\": 2}, \"yaxis\": {\"automargin\": true, \"gridcolor\": \"white\", \"linecolor\": \"white\", \"ticks\": \"\", \"title\": {\"standoff\": 15}, \"zerolinecolor\": \"white\", \"zerolinewidth\": 2}}}, \"title\": {\"text\": \"Vendas no Periodo\"}, \"xaxis\": {\"title\": {\"text\": \"Periodo\"}}, \"yaxis\": {\"title\": {\"text\": \"Valores em Vendas\"}}},\n",
       "                        {\"responsive\": true}\n",
       "                    ).then(function(){\n",
       "                            \n",
       "var gd = document.getElementById('4acc052c-bd81-4f2d-8143-b0d20922bed5');\n",
       "var x = new MutationObserver(function (mutations, observer) {{\n",
       "        var display = window.getComputedStyle(gd).display;\n",
       "        if (!display || display === 'none') {{\n",
       "            console.log([gd, 'removed!']);\n",
       "            Plotly.purge(gd);\n",
       "            observer.disconnect();\n",
       "        }}\n",
       "}});\n",
       "\n",
       "// Listen for the removal of the full notebook cells\n",
       "var notebookContainer = gd.closest('#notebook-container');\n",
       "if (notebookContainer) {{\n",
       "    x.observe(notebookContainer, {childList: true});\n",
       "}}\n",
       "\n",
       "// Listen for the clearing of the current output cell\n",
       "var outputEl = gd.closest('.output');\n",
       "if (outputEl) {{\n",
       "    x.observe(outputEl, {childList: true});\n",
       "}}\n",
       "\n",
       "                        })\n",
       "                };\n",
       "                });\n",
       "            </script>\n",
       "        </div>"
      ]
     },
     "metadata": {},
     "output_type": "display_data"
    }
   ],
   "source": [
    "import plotly.offline as py\n",
    "import plotly.graph_objs as go\n",
    "\n",
    "data = [go.Bar(x=vendas_por_mes.index,\n",
    "               y=vendas_por_mes.values,\n",
    "               marker = {'color': cores,  #lista de cores\n",
    "                         'line': {'color': '#333',\n",
    "                                  'width': 2}\n",
    "                        },\n",
    "               opacity= 0.7\n",
    "              )\n",
    "       ]\n",
    "\n",
    "# Criando Layout\n",
    "configuracoes_layout = go.Layout(title='Vendas no Periodo',\n",
    "                                 yaxis={'title':'Valores em Vendas'},\n",
    "                                 xaxis={'title':'Periodo'})\n",
    "\n",
    "# Objeto figura\n",
    "\n",
    "fig = go.Figure(data=data, layout=configuracoes_layout)\n",
    "\n",
    "# plotando o grafico\n",
    "py.iplot(fig, filename='Meses que nao superaram a meta de vendas')"
   ]
  },
  {
   "cell_type": "markdown",
   "metadata": {},
   "source": [
    "**Destaca a barra com o maior valor e minimiza a visao de todas as outras**"
   ]
  },
  {
   "cell_type": "code",
   "execution_count": 47,
   "metadata": {},
   "outputs": [],
   "source": [
    "maximo_de_vendas = vendas_por_mes.values.max()"
   ]
  },
  {
   "cell_type": "code",
   "execution_count": 48,
   "metadata": {},
   "outputs": [
    {
     "data": {
      "text/plain": [
       "55373.920000000086"
      ]
     },
     "execution_count": 48,
     "metadata": {},
     "output_type": "execute_result"
    }
   ],
   "source": [
    "maximo_de_vendas"
   ]
  },
  {
   "cell_type": "markdown",
   "metadata": {},
   "source": [
    "**Alimenta a lista de cores**"
   ]
  },
  {
   "cell_type": "code",
   "execution_count": 49,
   "metadata": {},
   "outputs": [],
   "source": [
    "cores = []\n",
    "for x,y in zip(vendas_por_mes.values, vendas_por_mes.index): # zip junta os dois valores\n",
    "    if x == maximo_de_vendas:\n",
    "        mes_maximo_de_vendas = y\n",
    "        cores.append('blue')\n",
    "    else:\n",
    "        cores.append('lightgray')"
   ]
  },
  {
   "cell_type": "code",
   "execution_count": 50,
   "metadata": {},
   "outputs": [
    {
     "data": {
      "text/plain": [
       "'2017-11'"
      ]
     },
     "execution_count": 50,
     "metadata": {},
     "output_type": "execute_result"
    }
   ],
   "source": [
    "mes_maximo_de_vendas"
   ]
  },
  {
   "cell_type": "code",
   "execution_count": 51,
   "metadata": {},
   "outputs": [
    {
     "data": {
      "text/plain": [
       "['lightgray',\n",
       " 'lightgray',\n",
       " 'lightgray',\n",
       " 'lightgray',\n",
       " 'lightgray',\n",
       " 'lightgray',\n",
       " 'lightgray',\n",
       " 'lightgray',\n",
       " 'lightgray',\n",
       " 'blue',\n",
       " 'lightgray',\n",
       " 'lightgray',\n",
       " 'lightgray',\n",
       " 'lightgray',\n",
       " 'lightgray']"
      ]
     },
     "execution_count": 51,
     "metadata": {},
     "output_type": "execute_result"
    }
   ],
   "source": [
    "cores"
   ]
  },
  {
   "cell_type": "markdown",
   "metadata": {},
   "source": [
    "**Plota o gráfico de vendas com um destaque de cor e anotação para o mês que teve mais vendas**"
   ]
  },
  {
   "cell_type": "code",
   "execution_count": 52,
   "metadata": {},
   "outputs": [
    {
     "data": {
      "application/vnd.plotly.v1+json": {
       "config": {
        "linkText": "Export to plot.ly",
        "plotlyServerURL": "https://plot.ly",
        "showLink": false
       },
       "data": [
        {
         "marker": {
          "color": [
           "lightgray",
           "lightgray",
           "lightgray",
           "lightgray",
           "lightgray",
           "lightgray",
           "lightgray",
           "lightgray",
           "lightgray",
           "blue",
           "lightgray",
           "lightgray",
           "lightgray",
           "lightgray",
           "lightgray"
          ],
          "line": {
           "color": "#333",
           "width": 2
          }
         },
         "opacity": 0.7,
         "type": "bar",
         "x": [
          "2017-02",
          "2017-03",
          "2017-04",
          "2017-05",
          "2017-06",
          "2017-07",
          "2017-08",
          "2017-09",
          "2017-10",
          "2017-11",
          "2017-12",
          "2018-01",
          "2018-02",
          "2018-03",
          "2018-04"
         ],
         "y": [
          9.99,
          902.86,
          17654.189999999995,
          25556.230000000025,
          34172.86000000008,
          47284.74000000011,
          39898.85000000009,
          45462.20000000007,
          40910.4000000001,
          55373.920000000086,
          43806.57000000011,
          46755.56000000009,
          42560.54000000012,
          33435.4800000001,
          3754.33
         ]
        }
       ],
       "layout": {
        "annotations": [
         {
          "text": "Mês destaque de vendas",
          "x": "2017-11",
          "y": 55373.920000000086
         }
        ],
        "template": {
         "data": {
          "bar": [
           {
            "error_x": {
             "color": "#2a3f5f"
            },
            "error_y": {
             "color": "#2a3f5f"
            },
            "marker": {
             "line": {
              "color": "#E5ECF6",
              "width": 0.5
             }
            },
            "type": "bar"
           }
          ],
          "barpolar": [
           {
            "marker": {
             "line": {
              "color": "#E5ECF6",
              "width": 0.5
             }
            },
            "type": "barpolar"
           }
          ],
          "carpet": [
           {
            "aaxis": {
             "endlinecolor": "#2a3f5f",
             "gridcolor": "white",
             "linecolor": "white",
             "minorgridcolor": "white",
             "startlinecolor": "#2a3f5f"
            },
            "baxis": {
             "endlinecolor": "#2a3f5f",
             "gridcolor": "white",
             "linecolor": "white",
             "minorgridcolor": "white",
             "startlinecolor": "#2a3f5f"
            },
            "type": "carpet"
           }
          ],
          "choropleth": [
           {
            "colorbar": {
             "outlinewidth": 0,
             "ticks": ""
            },
            "type": "choropleth"
           }
          ],
          "contour": [
           {
            "colorbar": {
             "outlinewidth": 0,
             "ticks": ""
            },
            "colorscale": [
             [
              0,
              "#0d0887"
             ],
             [
              0.1111111111111111,
              "#46039f"
             ],
             [
              0.2222222222222222,
              "#7201a8"
             ],
             [
              0.3333333333333333,
              "#9c179e"
             ],
             [
              0.4444444444444444,
              "#bd3786"
             ],
             [
              0.5555555555555556,
              "#d8576b"
             ],
             [
              0.6666666666666666,
              "#ed7953"
             ],
             [
              0.7777777777777778,
              "#fb9f3a"
             ],
             [
              0.8888888888888888,
              "#fdca26"
             ],
             [
              1,
              "#f0f921"
             ]
            ],
            "type": "contour"
           }
          ],
          "contourcarpet": [
           {
            "colorbar": {
             "outlinewidth": 0,
             "ticks": ""
            },
            "type": "contourcarpet"
           }
          ],
          "heatmap": [
           {
            "colorbar": {
             "outlinewidth": 0,
             "ticks": ""
            },
            "colorscale": [
             [
              0,
              "#0d0887"
             ],
             [
              0.1111111111111111,
              "#46039f"
             ],
             [
              0.2222222222222222,
              "#7201a8"
             ],
             [
              0.3333333333333333,
              "#9c179e"
             ],
             [
              0.4444444444444444,
              "#bd3786"
             ],
             [
              0.5555555555555556,
              "#d8576b"
             ],
             [
              0.6666666666666666,
              "#ed7953"
             ],
             [
              0.7777777777777778,
              "#fb9f3a"
             ],
             [
              0.8888888888888888,
              "#fdca26"
             ],
             [
              1,
              "#f0f921"
             ]
            ],
            "type": "heatmap"
           }
          ],
          "heatmapgl": [
           {
            "colorbar": {
             "outlinewidth": 0,
             "ticks": ""
            },
            "colorscale": [
             [
              0,
              "#0d0887"
             ],
             [
              0.1111111111111111,
              "#46039f"
             ],
             [
              0.2222222222222222,
              "#7201a8"
             ],
             [
              0.3333333333333333,
              "#9c179e"
             ],
             [
              0.4444444444444444,
              "#bd3786"
             ],
             [
              0.5555555555555556,
              "#d8576b"
             ],
             [
              0.6666666666666666,
              "#ed7953"
             ],
             [
              0.7777777777777778,
              "#fb9f3a"
             ],
             [
              0.8888888888888888,
              "#fdca26"
             ],
             [
              1,
              "#f0f921"
             ]
            ],
            "type": "heatmapgl"
           }
          ],
          "histogram": [
           {
            "marker": {
             "colorbar": {
              "outlinewidth": 0,
              "ticks": ""
             }
            },
            "type": "histogram"
           }
          ],
          "histogram2d": [
           {
            "colorbar": {
             "outlinewidth": 0,
             "ticks": ""
            },
            "colorscale": [
             [
              0,
              "#0d0887"
             ],
             [
              0.1111111111111111,
              "#46039f"
             ],
             [
              0.2222222222222222,
              "#7201a8"
             ],
             [
              0.3333333333333333,
              "#9c179e"
             ],
             [
              0.4444444444444444,
              "#bd3786"
             ],
             [
              0.5555555555555556,
              "#d8576b"
             ],
             [
              0.6666666666666666,
              "#ed7953"
             ],
             [
              0.7777777777777778,
              "#fb9f3a"
             ],
             [
              0.8888888888888888,
              "#fdca26"
             ],
             [
              1,
              "#f0f921"
             ]
            ],
            "type": "histogram2d"
           }
          ],
          "histogram2dcontour": [
           {
            "colorbar": {
             "outlinewidth": 0,
             "ticks": ""
            },
            "colorscale": [
             [
              0,
              "#0d0887"
             ],
             [
              0.1111111111111111,
              "#46039f"
             ],
             [
              0.2222222222222222,
              "#7201a8"
             ],
             [
              0.3333333333333333,
              "#9c179e"
             ],
             [
              0.4444444444444444,
              "#bd3786"
             ],
             [
              0.5555555555555556,
              "#d8576b"
             ],
             [
              0.6666666666666666,
              "#ed7953"
             ],
             [
              0.7777777777777778,
              "#fb9f3a"
             ],
             [
              0.8888888888888888,
              "#fdca26"
             ],
             [
              1,
              "#f0f921"
             ]
            ],
            "type": "histogram2dcontour"
           }
          ],
          "mesh3d": [
           {
            "colorbar": {
             "outlinewidth": 0,
             "ticks": ""
            },
            "type": "mesh3d"
           }
          ],
          "parcoords": [
           {
            "line": {
             "colorbar": {
              "outlinewidth": 0,
              "ticks": ""
             }
            },
            "type": "parcoords"
           }
          ],
          "pie": [
           {
            "automargin": true,
            "type": "pie"
           }
          ],
          "scatter": [
           {
            "marker": {
             "colorbar": {
              "outlinewidth": 0,
              "ticks": ""
             }
            },
            "type": "scatter"
           }
          ],
          "scatter3d": [
           {
            "line": {
             "colorbar": {
              "outlinewidth": 0,
              "ticks": ""
             }
            },
            "marker": {
             "colorbar": {
              "outlinewidth": 0,
              "ticks": ""
             }
            },
            "type": "scatter3d"
           }
          ],
          "scattercarpet": [
           {
            "marker": {
             "colorbar": {
              "outlinewidth": 0,
              "ticks": ""
             }
            },
            "type": "scattercarpet"
           }
          ],
          "scattergeo": [
           {
            "marker": {
             "colorbar": {
              "outlinewidth": 0,
              "ticks": ""
             }
            },
            "type": "scattergeo"
           }
          ],
          "scattergl": [
           {
            "marker": {
             "colorbar": {
              "outlinewidth": 0,
              "ticks": ""
             }
            },
            "type": "scattergl"
           }
          ],
          "scattermapbox": [
           {
            "marker": {
             "colorbar": {
              "outlinewidth": 0,
              "ticks": ""
             }
            },
            "type": "scattermapbox"
           }
          ],
          "scatterpolar": [
           {
            "marker": {
             "colorbar": {
              "outlinewidth": 0,
              "ticks": ""
             }
            },
            "type": "scatterpolar"
           }
          ],
          "scatterpolargl": [
           {
            "marker": {
             "colorbar": {
              "outlinewidth": 0,
              "ticks": ""
             }
            },
            "type": "scatterpolargl"
           }
          ],
          "scatterternary": [
           {
            "marker": {
             "colorbar": {
              "outlinewidth": 0,
              "ticks": ""
             }
            },
            "type": "scatterternary"
           }
          ],
          "surface": [
           {
            "colorbar": {
             "outlinewidth": 0,
             "ticks": ""
            },
            "colorscale": [
             [
              0,
              "#0d0887"
             ],
             [
              0.1111111111111111,
              "#46039f"
             ],
             [
              0.2222222222222222,
              "#7201a8"
             ],
             [
              0.3333333333333333,
              "#9c179e"
             ],
             [
              0.4444444444444444,
              "#bd3786"
             ],
             [
              0.5555555555555556,
              "#d8576b"
             ],
             [
              0.6666666666666666,
              "#ed7953"
             ],
             [
              0.7777777777777778,
              "#fb9f3a"
             ],
             [
              0.8888888888888888,
              "#fdca26"
             ],
             [
              1,
              "#f0f921"
             ]
            ],
            "type": "surface"
           }
          ],
          "table": [
           {
            "cells": {
             "fill": {
              "color": "#EBF0F8"
             },
             "line": {
              "color": "white"
             }
            },
            "header": {
             "fill": {
              "color": "#C8D4E3"
             },
             "line": {
              "color": "white"
             }
            },
            "type": "table"
           }
          ]
         },
         "layout": {
          "annotationdefaults": {
           "arrowcolor": "#2a3f5f",
           "arrowhead": 0,
           "arrowwidth": 1
          },
          "coloraxis": {
           "colorbar": {
            "outlinewidth": 0,
            "ticks": ""
           }
          },
          "colorscale": {
           "diverging": [
            [
             0,
             "#8e0152"
            ],
            [
             0.1,
             "#c51b7d"
            ],
            [
             0.2,
             "#de77ae"
            ],
            [
             0.3,
             "#f1b6da"
            ],
            [
             0.4,
             "#fde0ef"
            ],
            [
             0.5,
             "#f7f7f7"
            ],
            [
             0.6,
             "#e6f5d0"
            ],
            [
             0.7,
             "#b8e186"
            ],
            [
             0.8,
             "#7fbc41"
            ],
            [
             0.9,
             "#4d9221"
            ],
            [
             1,
             "#276419"
            ]
           ],
           "sequential": [
            [
             0,
             "#0d0887"
            ],
            [
             0.1111111111111111,
             "#46039f"
            ],
            [
             0.2222222222222222,
             "#7201a8"
            ],
            [
             0.3333333333333333,
             "#9c179e"
            ],
            [
             0.4444444444444444,
             "#bd3786"
            ],
            [
             0.5555555555555556,
             "#d8576b"
            ],
            [
             0.6666666666666666,
             "#ed7953"
            ],
            [
             0.7777777777777778,
             "#fb9f3a"
            ],
            [
             0.8888888888888888,
             "#fdca26"
            ],
            [
             1,
             "#f0f921"
            ]
           ],
           "sequentialminus": [
            [
             0,
             "#0d0887"
            ],
            [
             0.1111111111111111,
             "#46039f"
            ],
            [
             0.2222222222222222,
             "#7201a8"
            ],
            [
             0.3333333333333333,
             "#9c179e"
            ],
            [
             0.4444444444444444,
             "#bd3786"
            ],
            [
             0.5555555555555556,
             "#d8576b"
            ],
            [
             0.6666666666666666,
             "#ed7953"
            ],
            [
             0.7777777777777778,
             "#fb9f3a"
            ],
            [
             0.8888888888888888,
             "#fdca26"
            ],
            [
             1,
             "#f0f921"
            ]
           ]
          },
          "colorway": [
           "#636efa",
           "#EF553B",
           "#00cc96",
           "#ab63fa",
           "#FFA15A",
           "#19d3f3",
           "#FF6692",
           "#B6E880",
           "#FF97FF",
           "#FECB52"
          ],
          "font": {
           "color": "#2a3f5f"
          },
          "geo": {
           "bgcolor": "white",
           "lakecolor": "white",
           "landcolor": "#E5ECF6",
           "showlakes": true,
           "showland": true,
           "subunitcolor": "white"
          },
          "hoverlabel": {
           "align": "left"
          },
          "hovermode": "closest",
          "mapbox": {
           "style": "light"
          },
          "paper_bgcolor": "white",
          "plot_bgcolor": "#E5ECF6",
          "polar": {
           "angularaxis": {
            "gridcolor": "white",
            "linecolor": "white",
            "ticks": ""
           },
           "bgcolor": "#E5ECF6",
           "radialaxis": {
            "gridcolor": "white",
            "linecolor": "white",
            "ticks": ""
           }
          },
          "scene": {
           "xaxis": {
            "backgroundcolor": "#E5ECF6",
            "gridcolor": "white",
            "gridwidth": 2,
            "linecolor": "white",
            "showbackground": true,
            "ticks": "",
            "zerolinecolor": "white"
           },
           "yaxis": {
            "backgroundcolor": "#E5ECF6",
            "gridcolor": "white",
            "gridwidth": 2,
            "linecolor": "white",
            "showbackground": true,
            "ticks": "",
            "zerolinecolor": "white"
           },
           "zaxis": {
            "backgroundcolor": "#E5ECF6",
            "gridcolor": "white",
            "gridwidth": 2,
            "linecolor": "white",
            "showbackground": true,
            "ticks": "",
            "zerolinecolor": "white"
           }
          },
          "shapedefaults": {
           "line": {
            "color": "#2a3f5f"
           }
          },
          "ternary": {
           "aaxis": {
            "gridcolor": "white",
            "linecolor": "white",
            "ticks": ""
           },
           "baxis": {
            "gridcolor": "white",
            "linecolor": "white",
            "ticks": ""
           },
           "bgcolor": "#E5ECF6",
           "caxis": {
            "gridcolor": "white",
            "linecolor": "white",
            "ticks": ""
           }
          },
          "title": {
           "x": 0.05
          },
          "xaxis": {
           "automargin": true,
           "gridcolor": "white",
           "linecolor": "white",
           "ticks": "",
           "title": {
            "standoff": 15
           },
           "zerolinecolor": "white",
           "zerolinewidth": 2
          },
          "yaxis": {
           "automargin": true,
           "gridcolor": "white",
           "linecolor": "white",
           "ticks": "",
           "title": {
            "standoff": 15
           },
           "zerolinecolor": "white",
           "zerolinewidth": 2
          }
         }
        },
        "title": {
         "text": "Vendas no Periodo"
        },
        "xaxis": {
         "title": {
          "text": "Periodo"
         }
        },
        "yaxis": {
         "title": {
          "text": "Valores em Vendas"
         }
        }
       }
      },
      "text/html": [
       "<div>\n",
       "        \n",
       "        \n",
       "            <div id=\"96d5a59f-4435-41d2-8707-914f08aa88f7\" class=\"plotly-graph-div\" style=\"height:525px; width:100%;\"></div>\n",
       "            <script type=\"text/javascript\">\n",
       "                require([\"plotly\"], function(Plotly) {\n",
       "                    window.PLOTLYENV=window.PLOTLYENV || {};\n",
       "                    \n",
       "                if (document.getElementById(\"96d5a59f-4435-41d2-8707-914f08aa88f7\")) {\n",
       "                    Plotly.newPlot(\n",
       "                        '96d5a59f-4435-41d2-8707-914f08aa88f7',\n",
       "                        [{\"marker\": {\"color\": [\"lightgray\", \"lightgray\", \"lightgray\", \"lightgray\", \"lightgray\", \"lightgray\", \"lightgray\", \"lightgray\", \"lightgray\", \"blue\", \"lightgray\", \"lightgray\", \"lightgray\", \"lightgray\", \"lightgray\"], \"line\": {\"color\": \"#333\", \"width\": 2}}, \"opacity\": 0.7, \"type\": \"bar\", \"x\": [\"2017-02\", \"2017-03\", \"2017-04\", \"2017-05\", \"2017-06\", \"2017-07\", \"2017-08\", \"2017-09\", \"2017-10\", \"2017-11\", \"2017-12\", \"2018-01\", \"2018-02\", \"2018-03\", \"2018-04\"], \"y\": [9.99, 902.86, 17654.189999999995, 25556.230000000025, 34172.86000000008, 47284.74000000011, 39898.85000000009, 45462.20000000007, 40910.4000000001, 55373.920000000086, 43806.57000000011, 46755.56000000009, 42560.54000000012, 33435.4800000001, 3754.33]}],\n",
       "                        {\"annotations\": [{\"text\": \"M\\u00eas destaque de vendas\", \"x\": \"2017-11\", \"y\": 55373.920000000086}], \"template\": {\"data\": {\"bar\": [{\"error_x\": {\"color\": \"#2a3f5f\"}, \"error_y\": {\"color\": \"#2a3f5f\"}, \"marker\": {\"line\": {\"color\": \"#E5ECF6\", \"width\": 0.5}}, \"type\": \"bar\"}], \"barpolar\": [{\"marker\": {\"line\": {\"color\": \"#E5ECF6\", \"width\": 0.5}}, \"type\": \"barpolar\"}], \"carpet\": [{\"aaxis\": {\"endlinecolor\": \"#2a3f5f\", \"gridcolor\": \"white\", \"linecolor\": \"white\", \"minorgridcolor\": \"white\", \"startlinecolor\": \"#2a3f5f\"}, \"baxis\": {\"endlinecolor\": \"#2a3f5f\", \"gridcolor\": \"white\", \"linecolor\": \"white\", \"minorgridcolor\": \"white\", \"startlinecolor\": \"#2a3f5f\"}, \"type\": \"carpet\"}], \"choropleth\": [{\"colorbar\": {\"outlinewidth\": 0, \"ticks\": \"\"}, \"type\": \"choropleth\"}], \"contour\": [{\"colorbar\": {\"outlinewidth\": 0, \"ticks\": \"\"}, \"colorscale\": [[0.0, \"#0d0887\"], [0.1111111111111111, \"#46039f\"], [0.2222222222222222, \"#7201a8\"], [0.3333333333333333, \"#9c179e\"], [0.4444444444444444, \"#bd3786\"], [0.5555555555555556, \"#d8576b\"], [0.6666666666666666, \"#ed7953\"], [0.7777777777777778, \"#fb9f3a\"], [0.8888888888888888, \"#fdca26\"], [1.0, \"#f0f921\"]], \"type\": \"contour\"}], \"contourcarpet\": [{\"colorbar\": {\"outlinewidth\": 0, \"ticks\": \"\"}, \"type\": \"contourcarpet\"}], \"heatmap\": [{\"colorbar\": {\"outlinewidth\": 0, \"ticks\": \"\"}, \"colorscale\": [[0.0, \"#0d0887\"], [0.1111111111111111, \"#46039f\"], [0.2222222222222222, \"#7201a8\"], [0.3333333333333333, \"#9c179e\"], [0.4444444444444444, \"#bd3786\"], [0.5555555555555556, \"#d8576b\"], [0.6666666666666666, \"#ed7953\"], [0.7777777777777778, \"#fb9f3a\"], [0.8888888888888888, \"#fdca26\"], [1.0, \"#f0f921\"]], \"type\": \"heatmap\"}], \"heatmapgl\": [{\"colorbar\": {\"outlinewidth\": 0, \"ticks\": \"\"}, \"colorscale\": [[0.0, \"#0d0887\"], [0.1111111111111111, \"#46039f\"], [0.2222222222222222, \"#7201a8\"], [0.3333333333333333, \"#9c179e\"], [0.4444444444444444, \"#bd3786\"], [0.5555555555555556, \"#d8576b\"], [0.6666666666666666, \"#ed7953\"], [0.7777777777777778, \"#fb9f3a\"], [0.8888888888888888, \"#fdca26\"], [1.0, \"#f0f921\"]], \"type\": \"heatmapgl\"}], \"histogram\": [{\"marker\": {\"colorbar\": {\"outlinewidth\": 0, \"ticks\": \"\"}}, \"type\": \"histogram\"}], \"histogram2d\": [{\"colorbar\": {\"outlinewidth\": 0, \"ticks\": \"\"}, \"colorscale\": [[0.0, \"#0d0887\"], [0.1111111111111111, \"#46039f\"], [0.2222222222222222, \"#7201a8\"], [0.3333333333333333, \"#9c179e\"], [0.4444444444444444, \"#bd3786\"], [0.5555555555555556, \"#d8576b\"], [0.6666666666666666, \"#ed7953\"], [0.7777777777777778, \"#fb9f3a\"], [0.8888888888888888, \"#fdca26\"], [1.0, \"#f0f921\"]], \"type\": \"histogram2d\"}], \"histogram2dcontour\": [{\"colorbar\": {\"outlinewidth\": 0, \"ticks\": \"\"}, \"colorscale\": [[0.0, \"#0d0887\"], [0.1111111111111111, \"#46039f\"], [0.2222222222222222, \"#7201a8\"], [0.3333333333333333, \"#9c179e\"], [0.4444444444444444, \"#bd3786\"], [0.5555555555555556, \"#d8576b\"], [0.6666666666666666, \"#ed7953\"], [0.7777777777777778, \"#fb9f3a\"], [0.8888888888888888, \"#fdca26\"], [1.0, \"#f0f921\"]], \"type\": \"histogram2dcontour\"}], \"mesh3d\": [{\"colorbar\": {\"outlinewidth\": 0, \"ticks\": \"\"}, \"type\": \"mesh3d\"}], \"parcoords\": [{\"line\": {\"colorbar\": {\"outlinewidth\": 0, \"ticks\": \"\"}}, \"type\": \"parcoords\"}], \"pie\": [{\"automargin\": true, \"type\": \"pie\"}], \"scatter\": [{\"marker\": {\"colorbar\": {\"outlinewidth\": 0, \"ticks\": \"\"}}, \"type\": \"scatter\"}], \"scatter3d\": [{\"line\": {\"colorbar\": {\"outlinewidth\": 0, \"ticks\": \"\"}}, \"marker\": {\"colorbar\": {\"outlinewidth\": 0, \"ticks\": \"\"}}, \"type\": \"scatter3d\"}], \"scattercarpet\": [{\"marker\": {\"colorbar\": {\"outlinewidth\": 0, \"ticks\": \"\"}}, \"type\": \"scattercarpet\"}], \"scattergeo\": [{\"marker\": {\"colorbar\": {\"outlinewidth\": 0, \"ticks\": \"\"}}, \"type\": \"scattergeo\"}], \"scattergl\": [{\"marker\": {\"colorbar\": {\"outlinewidth\": 0, \"ticks\": \"\"}}, \"type\": \"scattergl\"}], \"scattermapbox\": [{\"marker\": {\"colorbar\": {\"outlinewidth\": 0, \"ticks\": \"\"}}, \"type\": \"scattermapbox\"}], \"scatterpolar\": [{\"marker\": {\"colorbar\": {\"outlinewidth\": 0, \"ticks\": \"\"}}, \"type\": \"scatterpolar\"}], \"scatterpolargl\": [{\"marker\": {\"colorbar\": {\"outlinewidth\": 0, \"ticks\": \"\"}}, \"type\": \"scatterpolargl\"}], \"scatterternary\": [{\"marker\": {\"colorbar\": {\"outlinewidth\": 0, \"ticks\": \"\"}}, \"type\": \"scatterternary\"}], \"surface\": [{\"colorbar\": {\"outlinewidth\": 0, \"ticks\": \"\"}, \"colorscale\": [[0.0, \"#0d0887\"], [0.1111111111111111, \"#46039f\"], [0.2222222222222222, \"#7201a8\"], [0.3333333333333333, \"#9c179e\"], [0.4444444444444444, \"#bd3786\"], [0.5555555555555556, \"#d8576b\"], [0.6666666666666666, \"#ed7953\"], [0.7777777777777778, \"#fb9f3a\"], [0.8888888888888888, \"#fdca26\"], [1.0, \"#f0f921\"]], \"type\": \"surface\"}], \"table\": [{\"cells\": {\"fill\": {\"color\": \"#EBF0F8\"}, \"line\": {\"color\": \"white\"}}, \"header\": {\"fill\": {\"color\": \"#C8D4E3\"}, \"line\": {\"color\": \"white\"}}, \"type\": \"table\"}]}, \"layout\": {\"annotationdefaults\": {\"arrowcolor\": \"#2a3f5f\", \"arrowhead\": 0, \"arrowwidth\": 1}, \"coloraxis\": {\"colorbar\": {\"outlinewidth\": 0, \"ticks\": \"\"}}, \"colorscale\": {\"diverging\": [[0, \"#8e0152\"], [0.1, \"#c51b7d\"], [0.2, \"#de77ae\"], [0.3, \"#f1b6da\"], [0.4, \"#fde0ef\"], [0.5, \"#f7f7f7\"], [0.6, \"#e6f5d0\"], [0.7, \"#b8e186\"], [0.8, \"#7fbc41\"], [0.9, \"#4d9221\"], [1, \"#276419\"]], \"sequential\": [[0.0, \"#0d0887\"], [0.1111111111111111, \"#46039f\"], [0.2222222222222222, \"#7201a8\"], [0.3333333333333333, \"#9c179e\"], [0.4444444444444444, \"#bd3786\"], [0.5555555555555556, \"#d8576b\"], [0.6666666666666666, \"#ed7953\"], [0.7777777777777778, \"#fb9f3a\"], [0.8888888888888888, \"#fdca26\"], [1.0, \"#f0f921\"]], \"sequentialminus\": [[0.0, \"#0d0887\"], [0.1111111111111111, \"#46039f\"], [0.2222222222222222, \"#7201a8\"], [0.3333333333333333, \"#9c179e\"], [0.4444444444444444, \"#bd3786\"], [0.5555555555555556, \"#d8576b\"], [0.6666666666666666, \"#ed7953\"], [0.7777777777777778, \"#fb9f3a\"], [0.8888888888888888, \"#fdca26\"], [1.0, \"#f0f921\"]]}, \"colorway\": [\"#636efa\", \"#EF553B\", \"#00cc96\", \"#ab63fa\", \"#FFA15A\", \"#19d3f3\", \"#FF6692\", \"#B6E880\", \"#FF97FF\", \"#FECB52\"], \"font\": {\"color\": \"#2a3f5f\"}, \"geo\": {\"bgcolor\": \"white\", \"lakecolor\": \"white\", \"landcolor\": \"#E5ECF6\", \"showlakes\": true, \"showland\": true, \"subunitcolor\": \"white\"}, \"hoverlabel\": {\"align\": \"left\"}, \"hovermode\": \"closest\", \"mapbox\": {\"style\": \"light\"}, \"paper_bgcolor\": \"white\", \"plot_bgcolor\": \"#E5ECF6\", \"polar\": {\"angularaxis\": {\"gridcolor\": \"white\", \"linecolor\": \"white\", \"ticks\": \"\"}, \"bgcolor\": \"#E5ECF6\", \"radialaxis\": {\"gridcolor\": \"white\", \"linecolor\": \"white\", \"ticks\": \"\"}}, \"scene\": {\"xaxis\": {\"backgroundcolor\": \"#E5ECF6\", \"gridcolor\": \"white\", \"gridwidth\": 2, \"linecolor\": \"white\", \"showbackground\": true, \"ticks\": \"\", \"zerolinecolor\": \"white\"}, \"yaxis\": {\"backgroundcolor\": \"#E5ECF6\", \"gridcolor\": \"white\", \"gridwidth\": 2, \"linecolor\": \"white\", \"showbackground\": true, \"ticks\": \"\", \"zerolinecolor\": \"white\"}, \"zaxis\": {\"backgroundcolor\": \"#E5ECF6\", \"gridcolor\": \"white\", \"gridwidth\": 2, \"linecolor\": \"white\", \"showbackground\": true, \"ticks\": \"\", \"zerolinecolor\": \"white\"}}, \"shapedefaults\": {\"line\": {\"color\": \"#2a3f5f\"}}, \"ternary\": {\"aaxis\": {\"gridcolor\": \"white\", \"linecolor\": \"white\", \"ticks\": \"\"}, \"baxis\": {\"gridcolor\": \"white\", \"linecolor\": \"white\", \"ticks\": \"\"}, \"bgcolor\": \"#E5ECF6\", \"caxis\": {\"gridcolor\": \"white\", \"linecolor\": \"white\", \"ticks\": \"\"}}, \"title\": {\"x\": 0.05}, \"xaxis\": {\"automargin\": true, \"gridcolor\": \"white\", \"linecolor\": \"white\", \"ticks\": \"\", \"title\": {\"standoff\": 15}, \"zerolinecolor\": \"white\", \"zerolinewidth\": 2}, \"yaxis\": {\"automargin\": true, \"gridcolor\": \"white\", \"linecolor\": \"white\", \"ticks\": \"\", \"title\": {\"standoff\": 15}, \"zerolinecolor\": \"white\", \"zerolinewidth\": 2}}}, \"title\": {\"text\": \"Vendas no Periodo\"}, \"xaxis\": {\"title\": {\"text\": \"Periodo\"}}, \"yaxis\": {\"title\": {\"text\": \"Valores em Vendas\"}}},\n",
       "                        {\"responsive\": true}\n",
       "                    ).then(function(){\n",
       "                            \n",
       "var gd = document.getElementById('96d5a59f-4435-41d2-8707-914f08aa88f7');\n",
       "var x = new MutationObserver(function (mutations, observer) {{\n",
       "        var display = window.getComputedStyle(gd).display;\n",
       "        if (!display || display === 'none') {{\n",
       "            console.log([gd, 'removed!']);\n",
       "            Plotly.purge(gd);\n",
       "            observer.disconnect();\n",
       "        }}\n",
       "}});\n",
       "\n",
       "// Listen for the removal of the full notebook cells\n",
       "var notebookContainer = gd.closest('#notebook-container');\n",
       "if (notebookContainer) {{\n",
       "    x.observe(notebookContainer, {childList: true});\n",
       "}}\n",
       "\n",
       "// Listen for the clearing of the current output cell\n",
       "var outputEl = gd.closest('.output');\n",
       "if (outputEl) {{\n",
       "    x.observe(outputEl, {childList: true});\n",
       "}}\n",
       "\n",
       "                        })\n",
       "                };\n",
       "                });\n",
       "            </script>\n",
       "        </div>"
      ]
     },
     "metadata": {},
     "output_type": "display_data"
    }
   ],
   "source": [
    "import plotly.offline as py\n",
    "import plotly.graph_objs as go\n",
    "\n",
    "data = [go.Bar(x=vendas_por_mes.index,\n",
    "               y=vendas_por_mes.values,\n",
    "               marker = {'color': cores,\n",
    "                         'line': {'color': '#333',\n",
    "                                 'width': 2}\n",
    "                        },\n",
    "               opacity= 0.7\n",
    "              )\n",
    "       ]\n",
    "\n",
    "# Criando Layout\n",
    "configuracoes_layout = go.Layout(title='Vendas no Periodo',\n",
    "                                 yaxis={'title':'Valores em Vendas'},\n",
    "                                 xaxis={'title': 'Periodo'},\n",
    "                                 # texto na barra de destaque\n",
    "                                 annotations = [{'text':'Mês destaque de vendas',\n",
    "                                                'x':mes_maximo_de_vendas,\n",
    "                                                'y':maximo_de_vendas}\n",
    "                                               ]\n",
    "                                                                                              \n",
    "                                )\n",
    "\n",
    "# Objeto figura\n",
    "\n",
    "fig = go.Figure(data=data, layout=configuracoes_layout)\n",
    "\n",
    "# plotando o grafico\n",
    "py.iplot(fig, filename='Mes destaque de vendas')"
   ]
  },
  {
   "cell_type": "markdown",
   "metadata": {},
   "source": [
    "**Visualizando duas informações no mesmo gráfico**"
   ]
  },
  {
   "cell_type": "markdown",
   "metadata": {},
   "source": [
    "- `Vamos definir alguns valores ficticios para vendas do ano anterior`"
   ]
  },
  {
   "cell_type": "code",
   "execution_count": null,
   "metadata": {},
   "outputs": [],
   "source": [
    "vendas_ano_anterior = vendas_por_mes - 10000.00"
   ]
  },
  {
   "cell_type": "markdown",
   "metadata": {},
   "source": [
    "**Gráfico de barras aninhadas**"
   ]
  },
  {
   "cell_type": "code",
   "execution_count": null,
   "metadata": {},
   "outputs": [],
   "source": [
    "import plotly.offline as py\n",
    "import plotly.graph_objs as go\n",
    "\n",
    "data = [go.Bar(x=vendas_por_mes.index,\n",
    "               y=vendas_por_mes.values,\n",
    "               marker = {'color': cores,\n",
    "                         'line': {'color': '#333',\n",
    "                                  'width': 2}\n",
    "                        },\n",
    "               opacity= 0.7,\n",
    "               name='2017'\n",
    "              ),\n",
    "# definindo outro plot de barras com valores dos meses passados\n",
    "        \n",
    "        go.Bar(x=vendas_ano_anterior.index,\n",
    "               y=vendas_ano_anterior.values,\n",
    "               name='2016',\n",
    "               marker = {'color': 'lightgreen',\n",
    "                         'line': {'color': '#333',\n",
    "                                  'width': 2}\n",
    "                        },\n",
    "               opacity= 0.7\n",
    "              )\n",
    "              \n",
    "       ]\n",
    "\n",
    "# Criando Layout\n",
    "configuracoes_layout = go.Layout(title='Vendas no Periodo',\n",
    "                                 yaxis={'title':'Valores em Vendas'},\n",
    "                                 xaxis={'title': 'Periodo'},\n",
    "                                 annotations = [{'text':'Mês destaque de vendas',\n",
    "                                                'x':mes_maximo_de_vendas,\n",
    "                                                'y':maximo_de_vendas}\n",
    "                                               ]                       \n",
    "                                \n",
    "                                )\n",
    "\n",
    "# Objeto figura\n",
    "\n",
    "fig = go.Figure(data=data, layout=configuracoes_layout)\n",
    "\n",
    "# plotando o grafico\n",
    "py.iplot(fig, filename='Vendas no periodo 2017 e 2016')"
   ]
  },
  {
   "cell_type": "markdown",
   "metadata": {},
   "source": [
    "**Vendas por categorias de produtos**\n",
    "- **Conta quantos produtos por categoria e coloca dentro da variável vendas_produto_por_categoria**"
   ]
  },
  {
   "cell_type": "code",
   "execution_count": null,
   "metadata": {},
   "outputs": [],
   "source": [
    "vendas_produto_por_categoria =  df.groupby(by='product_category_name').id.count()"
   ]
  },
  {
   "cell_type": "code",
   "execution_count": null,
   "metadata": {},
   "outputs": [],
   "source": [
    "vendas_produto_por_categoria"
   ]
  },
  {
   "cell_type": "markdown",
   "metadata": {},
   "source": [
    "**Filtra categorias com quantidade de vendas maiores que 1**"
   ]
  },
  {
   "cell_type": "code",
   "execution_count": null,
   "metadata": {},
   "outputs": [],
   "source": [
    "vendas_produto_por_categoria = vendas_produto_por_categoria.loc[vendas_produto_por_categoria.values >1]"
   ]
  },
  {
   "cell_type": "markdown",
   "metadata": {},
   "source": [
    "**Ordena valores do maior para o menor**"
   ]
  },
  {
   "cell_type": "code",
   "execution_count": null,
   "metadata": {},
   "outputs": [],
   "source": [
    "vendas_produto_por_categoria.sort_values(ascending=False,inplace=True)"
   ]
  },
  {
   "cell_type": "markdown",
   "metadata": {},
   "source": [
    "**Plota gráfico de barras verticais**"
   ]
  },
  {
   "cell_type": "code",
   "execution_count": null,
   "metadata": {},
   "outputs": [],
   "source": [
    "import plotly.offline as py\n",
    "import plotly.graph_objs as go\n",
    "\n",
    "trace0 = go.Bar(y=vendas_produto_por_categoria.values,\n",
    "                x=vendas_produto_por_categoria.index,\n",
    "                marker = {'color': '#00FF2A'},\n",
    "                orientation='v'\n",
    "              )\n",
    "\n",
    "data = [trace0]\n",
    "\n",
    "# Criando Layout\n",
    "configuracoes_layout = go.Layout(title='Vendas por categoria de Produtos',\n",
    "                   xaxis=dict(\n",
    "                         titlefont=dict(\n",
    "                                   size=40,\n",
    "                                   color='lightgrey'),\n",
    "                   tickangle=75),\n",
    "                   yaxis={'title': 'Quantidade vendida'})\n",
    "\n",
    "# Objeto figura\n",
    "\n",
    "fig = go.Figure(data=data, layout=configuracoes_layout)\n",
    "\n",
    "# plotando o grafico\n",
    "py.iplot(fig)"
   ]
  },
  {
   "cell_type": "markdown",
   "metadata": {},
   "source": [
    "**Alterando Faixa de valores dos eixos somando 10% ao valor máximo**"
   ]
  },
  {
   "cell_type": "code",
   "execution_count": null,
   "metadata": {},
   "outputs": [],
   "source": [
    "max(vendas_produto_por_categoria.values) * 1.10"
   ]
  },
  {
   "cell_type": "code",
   "execution_count": null,
   "metadata": {},
   "outputs": [],
   "source": [
    "import plotly.offline as py\n",
    "import plotly.graph_objs as go\n",
    "\n",
    "trace0 = go.Bar(y=vendas_produto_por_categoria.values,\n",
    "                x=vendas_produto_por_categoria.index,\n",
    "                marker = {'color': '#00FF2A'},\n",
    "                orientation='v'\n",
    "              )\n",
    "\n",
    "data = [trace0]\n",
    "\n",
    "# Criando Layout\n",
    "configuracoes_layout = go.Layout(title='Vendas por categoria de Produtos',\n",
    "                   xaxis=dict(\n",
    "                         titlefont=dict(\n",
    "                                   size=40,\n",
    "                                   color='lightgrey'),\n",
    "                                   tickangle=75),\n",
    "                   \n",
    "                   # valor maximo da faixa + 10%\n",
    "                   yaxis={'title': 'Quantidade vendida',\n",
    "                          'range':[0,max(vendas_produto_por_categoria.values) * 1.10]\n",
    "                         })\n",
    "\n",
    "# Objeto figura\n",
    "\n",
    "fig = go.Figure(data=data, layout=configuracoes_layout)\n",
    "                   \n",
    "# plotando o grafico\n",
    "py.iplot(fig, filename='Vendas por categoria de Produtos')"
   ]
  },
  {
   "cell_type": "markdown",
   "metadata": {},
   "source": [
    "**Valor de Frete vs Valor de Produto: Existe alguma tendencia?**"
   ]
  },
  {
   "cell_type": "code",
   "execution_count": null,
   "metadata": {},
   "outputs": [],
   "source": [
    "# Criando gráfico\n",
    "trace = go.Scatter(x = df['order_freight_value'],\n",
    "                   y = df['order_products_value'],\n",
    "                   mode = 'markers',\n",
    "                   marker = {'color':'#941229'}\n",
    "                  )\n",
    "# Armazenando gráfico em uma lista\n",
    "data = [trace]\n",
    "\n",
    "# Criando Layout\n",
    "layout = go.Layout(title='Valor de Frete x Valor de Produto',\n",
    "                   yaxis={'title':'Valor do Produto'},\n",
    "                   xaxis={'title': 'Valor do Frete'})\n",
    "\n",
    "# Criando figura que será exibida\n",
    "fig = go.Figure(data=data, layout=layout)\n",
    "\n",
    "py.iplot(fig)"
   ]
  },
  {
   "cell_type": "markdown",
   "metadata": {},
   "source": [
    "**Usando o parâmetro text na visualização (parâmetro hover)**"
   ]
  },
  {
   "cell_type": "code",
   "execution_count": null,
   "metadata": {},
   "outputs": [],
   "source": [
    "# Criando gráfico\n",
    "trace = go.Scatter(x = df['order_freight_value'],\n",
    "                   y = df['order_products_value'],\n",
    "                   mode = 'markers',\n",
    "                   # customização do texto a ser exibido no hover\n",
    "                   text = 'Status do pedido: '+ df['order_status'] +\n",
    "                           '<br>' + 'Classe: '+ df['most_voted_class']\n",
    "                   ,\n",
    "                   # exibição do hover\n",
    "                   hoverinfo='text+x+y',\n",
    "                   marker = {'color':'#941229'}\n",
    "                  )\n",
    "# Armazenando gráfico em uma lista\n",
    "data = [trace]\n",
    "\n",
    "# Criando Layout\n",
    "layout = go.Layout(title='Valor de Frete x Valor de Produto',\n",
    "                   yaxis={'title':'Valor do Produto'},\n",
    "                   xaxis={'title': 'Valor do Frete'})\n",
    "\n",
    "# Criando figura que será exibida\n",
    "fig = go.Figure(data=data, layout=layout)\n",
    "\n",
    "py.iplot(fig)"
   ]
  },
  {
   "cell_type": "markdown",
   "metadata": {},
   "source": [
    "**Customizacao dos eixos com formato em reais R$**"
   ]
  },
  {
   "cell_type": "code",
   "execution_count": null,
   "metadata": {},
   "outputs": [],
   "source": [
    "# Criando gráfico\n",
    "trace = go.Scatter(x = df['order_freight_value'],\n",
    "                   y = df['order_products_value'],\n",
    "                   mode = 'markers',\n",
    "                   # customização do texto a ser exibido no hover\n",
    "                   text = 'Status do pedido: '+ df['order_status'] +\n",
    "                           '<br>' + 'Classe: '+ df['most_voted_class']\n",
    "                   ,\n",
    "                   # exibição do hover\n",
    "                   hoverinfo='text+x+y',\n",
    "                   marker = {'color':'#941229'}\n",
    "                  )\n",
    "# Armazenando gráfico em uma lista\n",
    "data = [trace]\n",
    "\n",
    "# Criando Layout\n",
    "layout = go.Layout(title='Valor de Frete x Valor de Produto',\n",
    "\n",
    "                   # Definindo exibicao dos eixos x e y\n",
    "                   yaxis={'title':'Valor do Produto', \n",
    "                          'tickformat':'.', \n",
    "                          'tickprefix':'R$ '},\n",
    "                   xaxis={'title': 'Valor do Frete',\n",
    "                          'tickformat':'.', \n",
    "                          'tickprefix':'R$ '})\n",
    "\n",
    "# Criando figura que será exibida\n",
    "fig = go.Figure(data=data, layout=layout)\n",
    "\n",
    "py.iplot(fig)"
   ]
  },
  {
   "cell_type": "markdown",
   "metadata": {},
   "source": [
    "**Grafico de Bolhas: Valor de Frete vs Valor do Produto por numero de vendedores**"
   ]
  },
  {
   "cell_type": "code",
   "execution_count": null,
   "metadata": {},
   "outputs": [],
   "source": [
    "# Criando gráfico\n",
    "trace = go.Scatter(x = df['order_freight_value'],\n",
    "                   y = df['order_products_value'],\n",
    "                   mode = 'markers',\n",
    "                   # customização do texto a ser exibido no hover\n",
    "                   text = 'Status do pedido: '+ df['order_status'] +\n",
    "                           '<br>' + 'Classe: '+ df['most_voted_class']\n",
    "                   ,\n",
    "                   # exibição do hover\n",
    "                   hoverinfo='text+x+y',\n",
    "                   \n",
    "                   # parametro size e sizemode especifica o comportamento dos pontos\n",
    "                   marker = {'color':'#941229',\n",
    "                             'size': df['order_sellers_qty']*10,\n",
    "                             'sizemode':'area'\n",
    "                             }\n",
    "                  )\n",
    "# Armazenando gráfico em uma lista\n",
    "data = [trace]\n",
    "\n",
    "# Criando Layout\n",
    "layout = go.Layout(title='Valor de Frete x Valor de Produto',\n",
    "\n",
    "                   # Definindo exibicao dos eixos x e y\n",
    "                   yaxis={'title':'Valor do Produto', \n",
    "                          'tickformat':'.', \n",
    "                          'tickprefix':'R$ '},\n",
    "                   xaxis={'title': 'Valor do Frete',\n",
    "                          'tickformat':'.', \n",
    "                          'tickprefix':'R$ '})\n",
    "\n",
    "# Criando figura que será exibida\n",
    "fig = go.Figure(data=data, layout=layout)\n",
    "\n",
    "py.iplot(fig, filename='Valor de Frete por Valor de Produto')"
   ]
  },
  {
   "cell_type": "markdown",
   "metadata": {},
   "source": [
    "**Valor de Frete vs Valor de Produto por status de entrega**"
   ]
  },
  {
   "cell_type": "code",
   "execution_count": null,
   "metadata": {},
   "outputs": [],
   "source": [
    "df.iplot(x='order_freight_value',\n",
    "         y='order_products_value', \n",
    "         categories='most_voted_subclass',\n",
    "         title='Valor de Frete vs Valor de Produto',\n",
    "         xTitle='Valor de Frete',\n",
    "         yTitle='Valor Produto')"
   ]
  },
  {
   "cell_type": "markdown",
   "metadata": {},
   "source": [
    "**Quantidade em média de items de um pedido**"
   ]
  },
  {
   "cell_type": "code",
   "execution_count": null,
   "metadata": {},
   "outputs": [],
   "source": [
    "data = [go.Histogram(x=df.order_items_qty)]\n",
    "\n",
    "layout = go.Layout(title='Quantidade média de itens de um pedido')\n",
    "\n",
    "fig = go.Figure(data=data, layout=layout)\n",
    "\n",
    "py.iplot(fig)"
   ]
  },
  {
   "cell_type": "markdown",
   "metadata": {},
   "source": [
    "**Quantidade média de vendedores de um pedido**"
   ]
  },
  {
   "cell_type": "code",
   "execution_count": null,
   "metadata": {},
   "outputs": [],
   "source": [
    "trace1 = go.Histogram(x=df.order_items_qty,\n",
    "                     name='itens',\n",
    "                     opacity=0.75)\n",
    "\n",
    "trace2 = go.Histogram(x=df.order_sellers_qty,\n",
    "                     name='vendedores',\n",
    "                     opacity=0.75)\n",
    "\n",
    "layout = go.Layout(title='Quantidade de itens e Vendedores por pedido',\n",
    "                   barmode='overlay'\n",
    "                  )\n",
    "\n",
    "dados = [trace1, trace2]\n",
    "\n",
    "fig = go.Figure(data=dados, layout=layout)\n",
    "\n",
    "py.iplot(fig, filename='Quantidade de itens e vendedores por pedido')"
   ]
  },
  {
   "cell_type": "markdown",
   "metadata": {},
   "source": [
    "**Plotando um gráfico de pizzaa**\n",
    "- **Qual a distribuição da classificação dos pedidos pelos clientes?**"
   ]
  },
  {
   "cell_type": "code",
   "execution_count": null,
   "metadata": {},
   "outputs": [],
   "source": [
    "df.order_status.value_counts()"
   ]
  },
  {
   "cell_type": "code",
   "execution_count": null,
   "metadata": {},
   "outputs": [],
   "source": [
    "classes_mais_votadas = df.groupby(by='most_voted_class').id.count()"
   ]
  },
  {
   "cell_type": "code",
   "execution_count": null,
   "metadata": {},
   "outputs": [],
   "source": [
    "classes_mais_votadas"
   ]
  },
  {
   "cell_type": "code",
   "execution_count": null,
   "metadata": {},
   "outputs": [],
   "source": [
    "# mesmo resultado do codigo acima\n",
    "classes_mais_votadas = df.most_voted_class.value_counts()"
   ]
  },
  {
   "cell_type": "code",
   "execution_count": null,
   "metadata": {},
   "outputs": [],
   "source": [
    "# Criando gráfico\n",
    "\n",
    "trace = go.Pie(labels = classes_mais_votadas.index,\n",
    "               values = classes_mais_votadas.values\n",
    "              )\n",
    "\n",
    "# Armazenando gráfico em uma lista\n",
    "\n",
    "data = [trace]\n",
    "\n",
    "# Criando Layout\n",
    "\n",
    "layout = go.Layout(title='Classificação de Clientes sobre Pedidos')\n",
    "\n",
    "# Criando figura que será exibida\n",
    "fig = go.Figure(data=data, layout=layout)\n",
    "\n",
    "py.iplot(fig)"
   ]
  },
  {
   "cell_type": "markdown",
   "metadata": {},
   "source": [
    "**Parametro direction**"
   ]
  },
  {
   "cell_type": "code",
   "execution_count": null,
   "metadata": {},
   "outputs": [],
   "source": [
    "# Criando gráfico\n",
    "\n",
    "trace = go.Pie(labels = classes_mais_votadas.index,\n",
    "               values = classes_mais_votadas.values,\n",
    "               direction='clockwise'\n",
    "              )\n",
    "\n",
    "# Armazenando gráfico em uma lista\n",
    "\n",
    "data = [trace]\n",
    "\n",
    "# Criando Layout\n",
    "\n",
    "layout = go.Layout(title='Classificação de Clientes sobre Pedidos')\n",
    "\n",
    "# Criando figura que será exibida\n",
    "fig = go.Figure(data=data, layout=layout)\n",
    "\n",
    "py.iplot(fig)"
   ]
  },
  {
   "cell_type": "markdown",
   "metadata": {},
   "source": [
    "**Customizando gráficos de pizza**"
   ]
  },
  {
   "cell_type": "code",
   "execution_count": null,
   "metadata": {},
   "outputs": [],
   "source": [
    "# Criando gráfico\n",
    "\n",
    "cores = ['#96D38C','#FEBFB3','#E1396C']\n",
    "\n",
    "\n",
    "trace = go.Pie(labels = classes_mais_votadas.index,\n",
    "               values = classes_mais_votadas.values,\n",
    "               marker = {'colors': cores},\n",
    "               direction='clockwise'\n",
    "              )\n",
    "\n",
    "# Armazenando gráfico em uma lista\n",
    "\n",
    "data = [trace]\n",
    "\n",
    "# Criando Layout\n",
    "\n",
    "layout = go.Layout(title='Classificação de Clientes sobre Pedidos')\n",
    "\n",
    "# Criando figura que será exibida\n",
    "fig = go.Figure(data=data, layout=layout)\n",
    "\n",
    "py.iplot(fig)"
   ]
  },
  {
   "cell_type": "markdown",
   "metadata": {},
   "source": [
    "**Adicionando linha de contorno, cores**"
   ]
  },
  {
   "cell_type": "code",
   "execution_count": null,
   "metadata": {},
   "outputs": [],
   "source": [
    "# Criando gráfico\n",
    "\n",
    "cores = ['#96D38C','#FEBFB3','#E1396C']\n",
    "\n",
    "\n",
    "trace = go.Pie(labels = classes_mais_votadas.index,\n",
    "               values = classes_mais_votadas.values,\n",
    "               marker = {'colors': cores, \n",
    "                         'line' : {'color':'#000000','width':2}\n",
    "                        },\n",
    "               hoverinfo='label+percent+value',\n",
    "               direction='clockwise'\n",
    "              )\n",
    "\n",
    "# Armazenando gráfico em uma lista\n",
    "\n",
    "data = [trace]\n",
    "\n",
    "# Criando Layout\n",
    "\n",
    "layout = go.Layout(title='Classificação de Clientes sobre Pedidos')\n",
    "\n",
    "# Criando figura que será exibida\n",
    "fig = go.Figure(data=data, layout=layout)\n",
    "\n",
    "py.iplot(fig)"
   ]
  },
  {
   "cell_type": "markdown",
   "metadata": {},
   "source": [
    "**Destacando porções do gráfico**"
   ]
  },
  {
   "cell_type": "code",
   "execution_count": null,
   "metadata": {},
   "outputs": [],
   "source": [
    "# Criando gráfico\n",
    "\n",
    "cores = ['#96D38C','#FEBFB3','#E1396C']\n",
    "\n",
    "\n",
    "trace = go.Pie(labels = classes_mais_votadas.index,\n",
    "               values = classes_mais_votadas.values,\n",
    "               marker = {'colors': cores, \n",
    "                         'line' : {'color':'#000000','width':2}\n",
    "                        },\n",
    "               hoverinfo='label+percent+value',\n",
    "               pull=[0,0,0.1],\n",
    "               direction='clockwise'\n",
    "              )\n",
    "\n",
    "# Armazenando gráfico em uma lista\n",
    "\n",
    "data = [trace]\n",
    "\n",
    "# Criando Layout\n",
    "\n",
    "layout = go.Layout(title='Classificação de Clientes sobre Pedidos')\n",
    "\n",
    "# Criando figura que será exibida\n",
    "fig = go.Figure(data=data, layout=layout)\n",
    "\n",
    "py.iplot(fig)"
   ]
  },
  {
   "cell_type": "markdown",
   "metadata": {},
   "source": [
    "**Não se esqueça de habilitar o modo offline**"
   ]
  },
  {
   "cell_type": "code",
   "execution_count": null,
   "metadata": {},
   "outputs": [],
   "source": [
    "import plotly.offline as py\n",
    "import plotly.graph_objs as go"
   ]
  },
  {
   "cell_type": "markdown",
   "metadata": {},
   "source": [
    "**Definindo cores das partes do gráfico de pizza**"
   ]
  },
  {
   "cell_type": "code",
   "execution_count": null,
   "metadata": {},
   "outputs": [],
   "source": [
    "# Criando gráfico\n",
    "\n",
    "cores = ['#96D38C','#FEBFB3','#E1396C']\n",
    "\n",
    "\n",
    "trace = go.Pie(labels = classes_mais_votadas.index,\n",
    "               values = classes_mais_votadas.values,\n",
    "               marker = {'colors': cores, \n",
    "                         'line' : {'color':'#000000','width':2}\n",
    "                        },\n",
    "               hoverinfo='label+percent+value',\n",
    "               pull=[0,0,0.1]\n",
    "              )\n",
    "\n",
    "# Armazenando gráfico em uma lista\n",
    "\n",
    "data = [trace]\n",
    "\n",
    "# Criando Layout\n",
    "\n",
    "layout = go.Layout(title='Classificação de Clientes sobre Pedidos')\n",
    "\n",
    "# Criando figura que será exibida\n",
    "fig = go.Figure(data=data, layout=layout)\n",
    "\n",
    "py.iplot(fig, filename='Classificação de Clientes sobre Pedidos')"
   ]
  },
  {
   "cell_type": "markdown",
   "metadata": {},
   "source": [
    "**Exportando nosso gráfico para conta do Plotly na nuvem**"
   ]
  },
  {
   "cell_type": "markdown",
   "metadata": {},
   "source": [
    "- Criar conta no portal **plot.ly**\n",
    "- Obter credenciais da API\n",
    "- Importa método para plot **online**\n",
    "- Substitua o método iplot() pelo método **plot()**"
   ]
  },
  {
   "cell_type": "markdown",
   "metadata": {},
   "source": [
    "**Configurando credenciais**"
   ]
  },
  {
   "cell_type": "code",
   "execution_count": null,
   "metadata": {},
   "outputs": [],
   "source": [
    "import plotly\n",
    "plotly.tools.set_credentials_file(username='rodrigo.ferreira', api_key='0jXkRZA5Aibh29grrmxJ')"
   ]
  },
  {
   "cell_type": "markdown",
   "metadata": {},
   "source": [
    "**Importando método para plot online**"
   ]
  },
  {
   "cell_type": "code",
   "execution_count": null,
   "metadata": {},
   "outputs": [],
   "source": [
    "import plotly.plotly as pyo"
   ]
  },
  {
   "cell_type": "markdown",
   "metadata": {},
   "source": [
    "## Exercício ##"
   ]
  },
  {
   "cell_type": "markdown",
   "metadata": {},
   "source": [
    "- Usando os conhecimentos adquiridos aqui, crie um dashboard na nuvem do Plot e compartilhe comigo :)\n",
    "- Envie para o e-mail contato@minerandodados.com.br\n",
    "- Lembre-se: Seu Dashboard deve ser usado como seu **portfólio profissional**."
   ]
  }
 ],
 "metadata": {
  "colab": {
   "name": "Visualizacao-Plotly-01.ipynb",
   "provenance": [],
   "version": "0.3.2"
  },
  "kernelspec": {
   "display_name": "Python 3",
   "language": "python",
   "name": "python3"
  },
  "language_info": {
   "codemirror_mode": {
    "name": "ipython",
    "version": 3
   },
   "file_extension": ".py",
   "mimetype": "text/x-python",
   "name": "python",
   "nbconvert_exporter": "python",
   "pygments_lexer": "ipython3",
   "version": "3.8.3"
  }
 },
 "nbformat": 4,
 "nbformat_minor": 1
}
